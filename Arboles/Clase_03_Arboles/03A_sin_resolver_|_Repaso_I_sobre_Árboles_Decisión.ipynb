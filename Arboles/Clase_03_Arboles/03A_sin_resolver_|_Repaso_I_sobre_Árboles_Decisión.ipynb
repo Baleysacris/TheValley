{
  "nbformat": 4,
  "nbformat_minor": 0,
  "metadata": {
    "colab": {
      "name": "03A | Repaso I sobre Árboles Decisión.ipynb",
      "provenance": [],
      "toc_visible": true,
      "authorship_tag": "ABX9TyNi7Xx2fZC+qDxISWIElBl6",
      "include_colab_link": true
    },
    "kernelspec": {
      "name": "python3",
      "display_name": "Python 3"
    }
  },
  "cells": [
    {
      "cell_type": "markdown",
      "metadata": {
        "id": "view-in-github",
        "colab_type": "text"
      },
      "source": [
        "<a href=\"https://colab.research.google.com/github/JotaBlanco/TheValley/blob/main/Arboles/Clase_03_Arboles/03A_sin_resolver_%7C_Repaso_I_sobre_%C3%81rboles_Decisi%C3%B3n.ipynb\" target=\"_parent\"><img src=\"https://colab.research.google.com/assets/colab-badge.svg\" alt=\"Open In Colab\"/></a>"
      ]
    },
    {
      "cell_type": "markdown",
      "metadata": {
        "id": "R53FGLN8jo1L"
      },
      "source": [
        "# 01 REPASO I: Árboles de Decisión\n",
        "Repaso sobre cómo utilizar árboles de decisión.\n",
        "\n",
        "Notebook por [Javier Blanco Cordero](https://www.linkedin.com/in/javier-blanco-cordero-71373656/).\n",
        "\n",
        "### Enlaces de interés\n",
        "*   [Slides de presentación](https://docs.google.com/presentation/d/1jRg7Dk2y_2_fxnC_Jpj5aWcqgW9t1KAd7izdmWzv9Sk/edit?usp=sharing)\n",
        "*   [Enlace a este notebook ya resuelto](https://colab.research.google.com/github/JotaBlanco/TheValley/blob/main/Arboles/Clase_03_Arboles/03A_%7C_Repaso_I_sobre_%C3%81rboles_Decisi%C3%B3n.ipynb)\n",
        "\n",
        "\n"
      ]
    },
    {
      "cell_type": "markdown",
      "metadata": {
        "id": "LSuEDXhPLi8u"
      },
      "source": [
        "## 0101 Qué es un árbol de decisión?\n",
        "Un tipo de algoritmo de aprendizaje supervisado que se basa en realizar particiones recursivas a partir de distintos niveles de las variables disponibles."
      ]
    },
    {
      "cell_type": "markdown",
      "metadata": {
        "id": "cnHRaho3rsXS"
      },
      "source": [
        "## 0102 Import\n",
        "Importamos todas las librerías necesarias para este análisis ([¿No sabes lo que es una librería de Python?](https://www.quora.com/What-is-a-Python-library-and-what-can-I-use-it-for)): pandas, numpy, seaborn, matplotlib."
      ]
    },
    {
      "cell_type": "code",
      "metadata": {
        "id": "4be6xiUqjPHI"
      },
      "source": [
        "import pandas as pd\n",
        "import numpy as np\n",
        "import matplotlib.pyplot as plt\n",
        "import seaborn as sns"
      ],
      "execution_count": null,
      "outputs": []
    },
    {
      "cell_type": "markdown",
      "metadata": {
        "id": "AblkT14d4Gvt"
      },
      "source": [
        "## 0103 Carga el dataset del Titanic\n",
        "Recordais el dataset del Titanic?\n",
        "\n",
        "Vamos a hacer un árbol de decisión que prediga si alguien fallece o no. Este mismo ejemplo lo resolvisteis en el [notebook 1A](https://colab.research.google.com/github/JotaBlanco/TheValley/blob/main/Arboles/Clase_01_Arboles/01_A_%C3%81rboles_Decisi%C3%B3n_Clasificaci%C3%B3n_Resuelto.ipynb#scrollTo=V66-xgckYMQs).\n",
        "\n",
        "Para ello utilizaremos un dataset previamente transformado, ya listo para entrenar un árbol. Puedes encontrarlo en mi github. Este es el link al archivo raw: https://raw.githubusercontent.com/JotaBlanco/TheValley/main/Data/Titanic_Limpio.csv.\n",
        "\n",
        "Importa los datos en un dataframe llamado **dataframe df_titanic**."
      ]
    },
    {
      "cell_type": "code",
      "metadata": {
        "id": "GMZACcIXOclu"
      },
      "source": [
        "# Url archivo raw\n",
        "url = 'https://raw.githubusercontent.com/JotaBlanco/TheValley/main/Data/Titanic_Limpio.csv'\n",
        "\n",
        "# Importa csv\n",
        "df_titanic = pd.read_csv(url)\n",
        "\n",
        "# Visualización primeras filas\n",
        "df_titanic.head()"
      ],
      "execution_count": null,
      "outputs": []
    },
    {
      "cell_type": "markdown",
      "metadata": {
        "id": "KBOQJ0AjdYrM"
      },
      "source": [
        "# 02 EDA\n",
        "Realizaremos un pequeño análisis exploratorio visual para familiarizarnos con el dataset. \n",
        "\n",
        "Recuerda que puedes encontrar mis clases sobre análisis exploratorio [aquí](https://github.com/JotaBlanco/TheValley/tree/main/EDA/)."
      ]
    },
    {
      "cell_type": "code",
      "metadata": {
        "id": "qGrwhGyaj0-a"
      },
      "source": [
        "df_titanic.info()"
      ],
      "execution_count": null,
      "outputs": []
    },
    {
      "cell_type": "code",
      "metadata": {
        "id": "8LoZpl8rjWEX"
      },
      "source": [
        "df_titanic.describe()"
      ],
      "execution_count": null,
      "outputs": []
    },
    {
      "cell_type": "code",
      "metadata": {
        "id": "YUz-qSwBjaEW"
      },
      "source": [
        "# Visualización coeficientes Pearson\n",
        "plt.figure(figsize=(8,7))\n",
        "sns.heatmap(np.round(df_titanic.corr(),2), \n",
        "            vmin=-1, vmax=1, \n",
        "            annot=True, cmap=\"coolwarm\")\n",
        "plt.show()"
      ],
      "execution_count": null,
      "outputs": []
    },
    {
      "cell_type": "markdown",
      "metadata": {
        "id": "sRO6wMepPOJj"
      },
      "source": [
        "# 03 Construcción árbol de decisión con scikit learn\n",
        "Construcción de un árbol de decisión utilizando la librería [scikit learn](https://scikit-learn.org/stable/), la libería básica de referencia para machine learning."
      ]
    },
    {
      "cell_type": "markdown",
      "metadata": {
        "id": "SXSNgNJrsdva"
      },
      "source": [
        "## 0301 Importamos las librerías"
      ]
    },
    {
      "cell_type": "code",
      "metadata": {
        "id": "dpc44ulgPFkN"
      },
      "source": [
        "# Nos importamos las funciones de árboles de scikit learn\n",
        "from sklearn import tree"
      ],
      "execution_count": null,
      "outputs": []
    },
    {
      "cell_type": "markdown",
      "metadata": {
        "id": "H9WKeVmAv89P"
      },
      "source": [
        "## 0302 Inicializamos el árbol\n",
        "Definiendo las características que tendrá.\n",
        "\n",
        "https://scikit-learn.org/stable/modules/generated/sklearn.tree.DecisionTreeClassifier.html#sklearn.tree.DecisionTreeClassifier"
      ]
    },
    {
      "cell_type": "code",
      "metadata": {
        "id": "c_yzGJ-UP6wq"
      },
      "source": [
        "# Inicializamos un árbol. Por ahora está vacío. \n",
        "# Solo definimos cómo queremos que sea en cuanto a su estructura y condiciones de entrenamiento\n",
        "arbol = tree.DecisionTreeClassifier(max_depth=3)\n",
        "arbol"
      ],
      "execution_count": null,
      "outputs": []
    },
    {
      "cell_type": "code",
      "metadata": {
        "id": "WrElikbp8xn7"
      },
      "source": [
        "# Recuerda que si éste fuera un problema de regresión\n",
        "# inicializaríamos el modelo como:\n",
        "arbol_2 = tree.DecisionTreeRegressor(max_depth=3)\n",
        "arbol_2"
      ],
      "execution_count": null,
      "outputs": []
    },
    {
      "cell_type": "markdown",
      "metadata": {
        "id": "1_Q84Q2GJjDC"
      },
      "source": [
        "## 0303 Entrenamos el modelo\n",
        "Una vez inicializado y definido el árbol, el método .[fit()](https://scikit-learn.org/stable/modules/generated/sklearn.tree.DecisionTreeClassifier.html#sklearn.tree.DecisionTreeClassifier.fit) realiza el proceso de particionado recursivo que hemos hecho nosotros antes a mano."
      ]
    },
    {
      "cell_type": "code",
      "metadata": {
        "id": "CyCe77iWLfHd"
      },
      "source": [
        "df_titanic.head()"
      ],
      "execution_count": null,
      "outputs": []
    },
    {
      "cell_type": "code",
      "metadata": {
        "id": "ZICiTCnMLigb"
      },
      "source": [
        "df_titanic.columns"
      ],
      "execution_count": null,
      "outputs": []
    },
    {
      "cell_type": "code",
      "metadata": {
        "id": "QzlRebscRxCe"
      },
      "source": [
        "# Entrenamos el árbol inicializado a partir de los datos que le pasemos con .fit()\n",
        "cols = ['Pclass', 'Sex', 'SibSp', 'Parch', 'Fare', 'Age', 'Embarked_C', 'Embarked_Q', 'Embarked_S']\n",
        "arbol = arbol.fit(X = df_titanic[cols],  # vars descriptivas\n",
        "                  y = df_titanic['Survived'])                  # var objetico\n",
        "arbol"
      ],
      "execution_count": null,
      "outputs": []
    },
    {
      "cell_type": "markdown",
      "metadata": {
        "id": "akjuRe9yLQ8R"
      },
      "source": [
        "##0304 Visualizamos el modelo\n",
        "Una vez entrenado el modelo, podemos visualizarlo."
      ]
    },
    {
      "cell_type": "code",
      "metadata": {
        "id": "23xmBvxkRFsq"
      },
      "source": [
        "# Con el método export_text en un print()\n",
        "esquema_print = tree.export_text(arbol, \n",
        "                                 feature_names=cols)\n",
        "print(esquema_print)"
      ],
      "execution_count": null,
      "outputs": []
    },
    {
      "cell_type": "code",
      "metadata": {
        "id": "mcJgYPAMQSNG"
      },
      "source": [
        "# O con la librería graphviz\n",
        "import graphviz \n",
        "\n",
        "# Export_graphviz\n",
        "dot_data = tree.export_graphviz(arbol, \n",
        "                                out_file=None, \n",
        "                                feature_names=cols) \n",
        "graph = graphviz.Source(dot_data) \n",
        "graph"
      ],
      "execution_count": null,
      "outputs": []
    },
    {
      "cell_type": "markdown",
      "metadata": {
        "id": "WYs1eiOgMKWU"
      },
      "source": [
        "## 0405 Realizamos una predicción\n",
        "Una vez el modelo está entrenado (definido) podemos pasarle datos para obtener las prediciones correspondientes de la variable objetivo. \n",
        "\n",
        "Para esto utilizamos el método .[predict()](https://scikit-learn.org/stable/modules/generated/sklearn.tree.DecisionTreeClassifier.html#sklearn.tree.DecisionTreeClassifier.predict)."
      ]
    },
    {
      "cell_type": "code",
      "metadata": {
        "id": "acmqdf6ByLdw"
      },
      "source": [
        "# Predicción\n",
        "prediccion = arbol.predict(df_titanic[cols])"
      ],
      "execution_count": null,
      "outputs": []
    },
    {
      "cell_type": "code",
      "metadata": {
        "id": "3cMYHbiDyRPW"
      },
      "source": [
        "# Cómo de buena es la predicción?\n",
        "from sklearn.metrics import accuracy_score\n",
        "accuracy_score(df_titanic['Survived'], prediccion)"
      ],
      "execution_count": null,
      "outputs": []
    },
    {
      "cell_type": "markdown",
      "metadata": {
        "id": "V66-xgckYMQs"
      },
      "source": [
        "# 04 EJERCICIO PREDICCIÓN DIABETES"
      ]
    },
    {
      "cell_type": "markdown",
      "metadata": {
        "id": "EDiMGl7xOm6o"
      },
      "source": [
        "## 0401 Importa el dataset\n",
        "Puedes encontrarlo en mi github. Este es el link al archivo raw: https://raw.githubusercontent.com/JotaBlanco/TheValley/main/Data/diabetesIndia.csv.\n",
        "\n",
        "Importa los datos en un dataframe llamado **dataframe df**."
      ]
    },
    {
      "cell_type": "code",
      "metadata": {
        "id": "5FGrcP3cOkcD"
      },
      "source": [
        "url = ...\n",
        "\n",
        "df = pd.read_csv(url)\n",
        "\n",
        "df.head()"
      ],
      "execution_count": null,
      "outputs": []
    },
    {
      "cell_type": "markdown",
      "metadata": {
        "id": "kFX-dkfgAf-z"
      },
      "source": [
        "## 0402 EDA\n",
        "Puedes realizar un análisis exploratorio utilizando, por ejemplo: \n",
        "\n",
        "*   funciones como dataframe.info()\n",
        "*   dataframe.describe() para comprobar la distribución de las variables numéricas\n",
        "*   dataframe.isna().sum() para comprobar si hay nulos\n",
        "*   visualización de los coeficientes de pearson para ver las correlaciones\n",
        "\n",
        " "
      ]
    },
    {
      "cell_type": "code",
      "metadata": {
        "id": "7PAMKC-IBeEq"
      },
      "source": [
        ""
      ],
      "execution_count": null,
      "outputs": []
    },
    {
      "cell_type": "code",
      "metadata": {
        "id": "1GMOYKLSBf9Z"
      },
      "source": [
        ""
      ],
      "execution_count": null,
      "outputs": []
    },
    {
      "cell_type": "code",
      "metadata": {
        "id": "HVpCS2YpBiUn"
      },
      "source": [
        ""
      ],
      "execution_count": null,
      "outputs": []
    },
    {
      "cell_type": "code",
      "metadata": {
        "id": "g_Mpq3YEBiYx"
      },
      "source": [
        ""
      ],
      "execution_count": null,
      "outputs": []
    },
    {
      "cell_type": "markdown",
      "metadata": {
        "id": "GFRXHI0DPEpq"
      },
      "source": [
        "## 0403 Crea el árbol de decisión\n",
        "En realidad crea 3 árboles: de 3, 6 y 12 capas de profundidad."
      ]
    },
    {
      "cell_type": "code",
      "metadata": {
        "id": "vzmkECEeB3yl"
      },
      "source": [
        "df.columns"
      ],
      "execution_count": null,
      "outputs": []
    },
    {
      "cell_type": "code",
      "metadata": {
        "id": "RXLmB0Vpq8N6"
      },
      "source": [
        "# Crea una lista con las variables que vamos a utilizar para predecir:\n",
        "# ['Pregnancies', 'Glucose', 'BloodPressure', 'SkinThickness', 'Insulin',\n",
        "#  'BMI', 'DiabetesPedigreeFunction', 'Age']\n",
        "lista = [...]\n",
        "\n",
        "# Define el dataframe X con las variables predictivas\n",
        "X = df[lista]\n",
        "\n",
        "# Define el vector y con la variable a predecir\n",
        "y = df['...']"
      ],
      "execution_count": null,
      "outputs": []
    },
    {
      "cell_type": "code",
      "metadata": {
        "id": "KacvVtRaPJ8z"
      },
      "source": [
        "# Inicializamos los distintos árboles de decisión definiendo la profundidad\n",
        "arbol_3 = ...\n",
        "arbol_6 = ...\n",
        "arbol_12 = .."
      ],
      "execution_count": null,
      "outputs": []
    },
    {
      "cell_type": "code",
      "metadata": {
        "id": "zZPdXY0EPZbY"
      },
      "source": [
        "# Entrena el árbol con los datos del Titanic\n"
      ],
      "execution_count": null,
      "outputs": []
    },
    {
      "cell_type": "markdown",
      "metadata": {
        "id": "U0qVZHdNPT0I"
      },
      "source": [
        "## 0404 Visualiza el árbol\n",
        "Qué variables utiliza el árbol para inferir el riesgo de diabetes? Tiene sentido?"
      ]
    },
    {
      "cell_type": "code",
      "metadata": {
        "id": "PJ9TMK6CPhXm"
      },
      "source": [
        "# con export_test\n"
      ],
      "execution_count": null,
      "outputs": []
    },
    {
      "cell_type": "code",
      "metadata": {
        "id": "A4tx4cKxPl0E"
      },
      "source": [
        "# con export_graphviz\n"
      ],
      "execution_count": null,
      "outputs": []
    },
    {
      "cell_type": "markdown",
      "metadata": {
        "id": "xLKZUzIzP0aa"
      },
      "source": [
        "## 0405 Realiza una predicción\n",
        "Realiza una predicción con tus árboles y comprueba cuánto han acertado."
      ]
    },
    {
      "cell_type": "code",
      "metadata": {
        "id": "l8CBX0oZP8ac"
      },
      "source": [
        "# Realiza una predicción con cada árbol\n"
      ],
      "execution_count": null,
      "outputs": []
    },
    {
      "cell_type": "code",
      "metadata": {
        "id": "wrgn54Pa6YVQ"
      },
      "source": [
        "# Comprueba la precisión de cada predicción\n"
      ],
      "execution_count": null,
      "outputs": []
    }
  ]
}