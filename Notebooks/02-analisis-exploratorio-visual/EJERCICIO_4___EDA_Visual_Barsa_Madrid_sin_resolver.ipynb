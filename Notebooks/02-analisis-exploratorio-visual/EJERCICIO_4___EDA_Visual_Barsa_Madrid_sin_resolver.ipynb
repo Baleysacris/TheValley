{
  "nbformat": 4,
  "nbformat_minor": 0,
  "metadata": {
    "colab": {
      "name": "EJERCICIO_4__ EDA Visual Barsa Madrid.ipynb",
      "provenance": [],
      "toc_visible": true,
      "authorship_tag": "ABX9TyNYqYRxeOpbO9DZLxjRuRfN",
      "include_colab_link": true
    },
    "kernelspec": {
      "name": "python3",
      "display_name": "Python 3"
    }
  },
  "cells": [
    {
      "cell_type": "markdown",
      "metadata": {
        "id": "view-in-github",
        "colab_type": "text"
      },
      "source": [
        "<a href=\"https://colab.research.google.com/github/JotaBlanco/TheValley/blob/main/Notebooks/02-analisis-exploratorio-visual/EJERCICIO_4___EDA_Visual_Barsa_Madrid_sin_resolver.ipynb\" target=\"_parent\"><img src=\"https://colab.research.google.com/assets/colab-badge.svg\" alt=\"Open In Colab\"/></a>"
      ]
    },
    {
      "cell_type": "markdown",
      "metadata": {
        "id": "R53FGLN8jo1L"
      },
      "source": [
        "# INTRO: Análisis Exploratorio Visual\r\n",
        "Ejercicio para afianzar los conceptos básicos de EDA (Exploratory Data Analysis) Visual utilizando datos sobre la evolución del Covid.\r\n",
        "\r\n",
        "Notebook por [Javier Blanco Cordero](https://www.linkedin.com/in/javier-blanco-cordero-71373656/).\r\n",
        "\r\n",
        "### Enlaces de interés\r\n",
        "*   [Slides de presentación](https://docs.google.com/presentation/d/1N7MPSC7ntM-0ZEHlrN5xRTpT4uNDyU_o53GBvnojUx8/edit?usp=sharing)\r\n",
        "*   [Enlace a al notebook de Colab de la clase 2](https://colab.research.google.com/github/JotaBlanco/TheValley/blob/main/Notebooks/02-analisis-exploratorio-visual/02___Analisis_exploratorio_visual.ipynb)\r\n",
        "*   [Enlace a este notebook de Colab](https://colab.research.google.com/github/JotaBlanco/TheValley/blob/main/Notebooks/02-analisis-exploratorio-visual/EJERCICIO_4___EDA_Visual_Barsa_Madrid.ipynb)\r\n",
        "\r\n"
      ]
    },
    {
      "cell_type": "markdown",
      "metadata": {
        "id": "cnHRaho3rsXS"
      },
      "source": [
        "# 01 Import\r\n",
        "Importamos todas las librerías necesarias para este análisis ([¿No sabes lo que es una librería de Python?](https://www.quora.com/What-is-a-Python-library-and-what-can-I-use-it-for)).\r\n",
        "\r\n",
        "Necesitaremos pandas, numpy, matplotlib.pyplot y seaborn."
      ]
    },
    {
      "cell_type": "code",
      "metadata": {
        "id": "4be6xiUqjPHI"
      },
      "source": [
        ""
      ],
      "execution_count": 60,
      "outputs": []
    },
    {
      "cell_type": "markdown",
      "metadata": {
        "id": "B_0JTVo0sIvm"
      },
      "source": [
        "# 02 Importa dataframe Fifa19\r\n",
        "En la clase 1 limpiamos el dataframe con datos de los jugadores del fifa y lo guardamos en nuestros drive ([aquí](https://drive.google.com/file/d/1P0sQHp1bPiKbL-MSr7FndJRgowvOLdjU/view?usp=sharing) puedes encontrar mi copia). Importa este dataset ya limpiado en un dataframe llamado **df_fifa19**.\r\n",
        "\r\n",
        "No necesitaremos todas las variables. Haz que el dataframe contenga solo estas variables y en este orden:\r\n",
        "\r\n",
        "cols = ['Name', 'Age', 'Nationality', 'Overall', 'Potential', 'Club', 'Height_cm', 'Weight_kg', 'Value_€', 'Wage_€', 'Release Clause_€', 'Preferred Foot', 'Position', 'SprintSpeed']"
      ]
    },
    {
      "cell_type": "code",
      "metadata": {
        "id": "HAe4wephIW8a"
      },
      "source": [
        "# Primero emparejamos Colab con Google Drive\r\n"
      ],
      "execution_count": 61,
      "outputs": []
    },
    {
      "cell_type": "code",
      "metadata": {
        "id": "nIRDFybWHzFC"
      },
      "source": [
        "# Importamos el archivos usando read_csv() \r\n",
        "# quedándonos solo con las columnas adecuadas(busca read_csv(, usecols=[]))\r\n"
      ],
      "execution_count": 62,
      "outputs": []
    },
    {
      "cell_type": "markdown",
      "metadata": {
        "id": "6RSFZhw-igup"
      },
      "source": [
        "# 03 Crea dataframes para Barsa y Madrid\r\n",
        "A partir de df_fifa19 crea un df_madrid y un df_barsa con los jugadores correspondientes a cada equipo."
      ]
    },
    {
      "cell_type": "code",
      "metadata": {
        "id": "OTIX_IKIZ7pG"
      },
      "source": [
        "# Lista de equipos total\r\n",
        "\r\n",
        "# Cómo está escrito el Madrid en este dataset?\r\n",
        "\r\n",
        "# Cómo está escrito el Barsa en este dataset?"
      ],
      "execution_count": 63,
      "outputs": []
    },
    {
      "cell_type": "code",
      "metadata": {
        "id": "BK-lHXvOZ7-z"
      },
      "source": [
        "# df_Madrid\r\n"
      ],
      "execution_count": 64,
      "outputs": []
    },
    {
      "cell_type": "code",
      "metadata": {
        "id": "4CEN5dHtaLWZ"
      },
      "source": [
        "# df_Barsa\r\n"
      ],
      "execution_count": 65,
      "outputs": []
    },
    {
      "cell_type": "markdown",
      "metadata": {
        "id": "QrI6VLGdajPR"
      },
      "source": [
        "# 04 Qué equipo es mejor?\r\n",
        "Cuidado, guardad vuestra cerveza y utilizad la ciencia de datos. "
      ]
    },
    {
      "cell_type": "markdown",
      "metadata": {
        "id": "HSmodV36fa-i"
      },
      "source": [
        "## 0401 .describe()\r\n",
        "Con el método .describe(), comprueba la distribución de la variable numérica overall."
      ]
    },
    {
      "cell_type": "code",
      "metadata": {
        "id": "K92HsE-xa81F"
      },
      "source": [
        ""
      ],
      "execution_count": 65,
      "outputs": []
    },
    {
      "cell_type": "markdown",
      "metadata": {
        "id": "uj5wnQGqfm2J"
      },
      "source": [
        "## 0403 .hist()\r\n",
        "Utiliza histogramas para comparar la variable Overall en una imagen con dos gráficos (dos en una misma columna).\r\n",
        "\r\n",
        "Utiliza como bins de 60 a 95 con intervalos de 2.5 en 2.5 (60, 62.5, 65, 67.5, etc.) \r\n"
      ]
    },
    {
      "cell_type": "code",
      "metadata": {
        "id": "H1gZrT3NgkIk"
      },
      "source": [
        ""
      ],
      "execution_count": 65,
      "outputs": []
    },
    {
      "cell_type": "code",
      "metadata": {
        "id": "_ulkp9dWa-dH"
      },
      "source": [
        ""
      ],
      "execution_count": 65,
      "outputs": []
    },
    {
      "cell_type": "markdown",
      "metadata": {
        "id": "OAoiyaV7iqU2"
      },
      "source": [
        "# 05 Qué equipo tiene mejores jugadores españoles/extranjeros?\r\n",
        "Vamos a utilizar para esta comparación una gráfica específica de seaborn: sns.[catplot()](https://seaborn.pydata.org/examples/grouped_barplot.html)."
      ]
    },
    {
      "cell_type": "markdown",
      "metadata": {
        "id": "atmPxprrkZ7c"
      },
      "source": [
        "## 0501 Genera variable nacionalidad\r\n",
        "Genera una variable binaria que identifique a un jugador como \"Español\" o \"Extranjero\"."
      ]
    },
    {
      "cell_type": "code",
      "metadata": {
        "id": "TpGDdwuKkXYd"
      },
      "source": [
        ""
      ],
      "execution_count": 65,
      "outputs": []
    },
    {
      "cell_type": "code",
      "metadata": {
        "id": "Fz5zWSrBmX6V"
      },
      "source": [
        ""
      ],
      "execution_count": 65,
      "outputs": []
    },
    {
      "cell_type": "markdown",
      "metadata": {
        "id": "WhxAtkJqnC1c"
      },
      "source": [
        "## 0502 Utiliza sns.catplot()\r\n",
        "sns.[catplot](https://seaborn.pydata.org/examples/grouped_barplot.html) permite comparar 3 conceptos en una sola gráfica. \r\n",
        "\r\n",
        "Échale un vistazo a la documentación e intenta utilizarlo aquí.\r\n",
        "\r\n",
        "En definitiva, trata de crear esta imagen."
      ]
    },
    {
      "cell_type": "code",
      "metadata": {
        "id": "woJllew7gxJG"
      },
      "source": [
        ""
      ],
      "execution_count": 65,
      "outputs": []
    },
    {
      "cell_type": "markdown",
      "metadata": {
        "id": "hHzE7D_QrqZ_"
      },
      "source": [
        "# 06 Compara alineaciones de rápidos\r\n",
        "A veces en el Fifa lo (casi) único importante es la velocidad. Si tú, como gamer, sigues este único criterio, qué equipo prefirirías?\r\n",
        "\r\n",
        "Escoge los 10 jugadores de campo (exluye los porteros) más rápidos de cada equipo y decide."
      ]
    },
    {
      "cell_type": "code",
      "metadata": {
        "id": "q44i_CWwjbN3"
      },
      "source": [
        ""
      ],
      "execution_count": 65,
      "outputs": []
    },
    {
      "cell_type": "markdown",
      "metadata": {
        "id": "dwLrdVD3TxYH"
      },
      "source": [
        "# 07 Genera un informe con pandas-profiling\r\n",
        "Genera un informe de pandas-profiling para el Madrid y otro para el Barsa. Visualízalos para responder:\r\n",
        "- qué equipo tiene una altura media mayor?\r\n",
        "- qué equipo tiene una edad media menor?\r\n",
        "- cuánto mide el cuantil 75 del Madrid?\r\n",
        "- con qué correla más la edad de los jugadores del Madrid, con su sueldo, su valor actual o su cláusula de rescisión? tiene sentido?\r\n",
        "\r\n",
        "Nota: Como estos datasets son pequeños, puedes visualizar el el informe directamente en el notebook. Haz esto definiendo primero el informe como una variable, y luego ejecutando esa variable."
      ]
    },
    {
      "cell_type": "code",
      "metadata": {
        "id": "kYBOPURzTvfV"
      },
      "source": [
        "# Instalamos pandas-profiling\r\n"
      ],
      "execution_count": 66,
      "outputs": []
    },
    {
      "cell_type": "code",
      "metadata": {
        "id": "L5yvJ4R7gFRr"
      },
      "source": [
        "# Importamos solo la función ProfileReport (la verdaderamente importante)\r\n"
      ],
      "execution_count": 56,
      "outputs": []
    },
    {
      "cell_type": "code",
      "metadata": {
        "id": "GTzykZZDgIAP"
      },
      "source": [
        "# Definimos el informe del Madrid\r\n",
        "\r\n",
        "# Lo ejecutamos\r\n"
      ],
      "execution_count": 67,
      "outputs": []
    },
    {
      "cell_type": "code",
      "metadata": {
        "id": "rQUfYfq5gdtt"
      },
      "source": [
        "# Definimos el informe del Barsa\r\n",
        "\r\n",
        "# Lo ejecutamos\r\n"
      ],
      "execution_count": 68,
      "outputs": []
    },
    {
      "cell_type": "code",
      "metadata": {
        "id": "ooow67xIgfNH"
      },
      "source": [
        ""
      ],
      "execution_count": null,
      "outputs": []
    }
  ]
}