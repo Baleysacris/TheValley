{
  "nbformat": 4,
  "nbformat_minor": 0,
  "metadata": {
    "colab": {
      "name": "03-0 | Repaso GINI.ipynb",
      "provenance": [],
      "toc_visible": true,
      "authorship_tag": "ABX9TyNSfCUbQ7ZfoMpmn4uDbCh5",
      "include_colab_link": true
    },
    "kernelspec": {
      "name": "python3",
      "display_name": "Python 3"
    }
  },
  "cells": [
    {
      "cell_type": "markdown",
      "metadata": {
        "id": "view-in-github",
        "colab_type": "text"
      },
      "source": [
        "<a href=\"https://colab.research.google.com/github/JotaBlanco/TheValley/blob/MDS2020/Arboles/Clase_03_Arboles/03_0_%7C_Repaso_GINI.ipynb\" target=\"_parent\"><img src=\"https://colab.research.google.com/assets/colab-badge.svg\" alt=\"Open In Colab\"/></a>"
      ]
    },
    {
      "cell_type": "markdown",
      "metadata": {
        "id": "R53FGLN8jo1L"
      },
      "source": [
        "# 01 GINI\n",
        "\n",
        "Notebook por [Javier Blanco Cordero](https://www.linkedin.com/in/javier-blanco-cordero-71373656/).\n",
        "\n",
        "### Enlaces de interés\n",
        "*   [Slides de presentación](https://docs.google.com/presentation/d/1jRg7Dk2y_2_fxnC_Jpj5aWcqgW9t1KAd7izdmWzv9Sk/edit?usp=sharing)\n",
        "\n"
      ]
    },
    {
      "cell_type": "markdown",
      "metadata": {
        "id": "LSuEDXhPLi8u"
      },
      "source": [
        "## 0101 Qué es el GINI?\n",
        "Medida de impuridad más usada igual a 1 menos el sumatorio de las probabilidades de cada categoría al cuadrado."
      ]
    },
    {
      "cell_type": "markdown",
      "metadata": {
        "id": "cnHRaho3rsXS"
      },
      "source": [
        "## 0102 Generamos 100 poblaciones\n",
        "Generamos 100 poblaciones. Cada población tiene 1000 muestras que pueden ser o categoría A o categoría B."
      ]
    },
    {
      "cell_type": "code",
      "metadata": {
        "id": "4be6xiUqjPHI"
      },
      "source": [
        "import pandas as pd\n",
        "import numpy as np\n",
        "import matplotlib.pyplot as plt\n",
        "import seaborn as sns\n",
        "sns.set()"
      ],
      "execution_count": null,
      "outputs": []
    },
    {
      "cell_type": "code",
      "metadata": {
        "id": "FctGrJfZLLSi"
      },
      "source": [
        "pd.DataFrame({\"Cat_A\": np.arange(0,1010,10)})"
      ],
      "execution_count": null,
      "outputs": []
    },
    {
      "cell_type": "code",
      "metadata": {
        "id": "JVslVtx_LbSR"
      },
      "source": [
        "df = pd.DataFrame({\"Cat_A\": np.arange(0,1010,10)})\n",
        "df['Cat_B'] = 1000 - df['Cat_A']\n",
        "df"
      ],
      "execution_count": null,
      "outputs": []
    },
    {
      "cell_type": "code",
      "metadata": {
        "id": "KlB6qCTJMAj4"
      },
      "source": [
        "df['Prob_A'] = df['Cat_A']/(df['Cat_A']+df['Cat_B'])\n",
        "df['Prob_B'] = df['Cat_B']/(df['Cat_A']+df['Cat_B'])\n",
        "df"
      ],
      "execution_count": null,
      "outputs": []
    },
    {
      "cell_type": "code",
      "metadata": {
        "id": "aVsJ3kKNOySa"
      },
      "source": [
        "plt.plot(df['Prob_A'], color='blue')\n",
        "plt.plot(df['Prob_B'], color='red')\n",
        "plt.plot(df['Prob_A']+df['Prob_B'], color='grey')\n",
        "plt.show()"
      ],
      "execution_count": null,
      "outputs": []
    },
    {
      "cell_type": "code",
      "metadata": {
        "id": "RXY4dJrxMjjL"
      },
      "source": [
        "df['Prob_A^2'] = df['Prob_A']**2\n",
        "df['Prob_B^2'] = df['Prob_B']**2\n",
        "df"
      ],
      "execution_count": null,
      "outputs": []
    },
    {
      "cell_type": "code",
      "metadata": {
        "id": "ETQo_BEyPEh-"
      },
      "source": [
        "plt.plot(df['Prob_A^2'], color='blue')\n",
        "plt.plot(df['Prob_B^2'], color='red')\n",
        "plt.plot(df['Prob_A^2']+df['Prob_B^2'], color='grey')\n",
        "plt.show()"
      ],
      "execution_count": null,
      "outputs": []
    },
    {
      "cell_type": "code",
      "metadata": {
        "id": "62xPM3QVM_NN"
      },
      "source": [
        "df['Gini'] = 1 - df['Prob_A^2'] - df['Prob_B^2']\n",
        "df"
      ],
      "execution_count": null,
      "outputs": []
    },
    {
      "cell_type": "code",
      "metadata": {
        "id": "1MLmzswUOLMI"
      },
      "source": [
        "plt.plot(df['Prob_A^2'], color='blue')\n",
        "plt.plot(df['Prob_B^2'], color='red')\n",
        "plt.plot(df['Prob_A^2']+df['Prob_B^2'], color='grey')\n",
        "plt.plot(df['Gini'], color='black')\n",
        "plt.show()"
      ],
      "execution_count": null,
      "outputs": []
    },
    {
      "cell_type": "code",
      "metadata": {
        "id": "CE4rz5VAQD9C"
      },
      "source": [
        ""
      ],
      "execution_count": null,
      "outputs": []
    }
  ]
}