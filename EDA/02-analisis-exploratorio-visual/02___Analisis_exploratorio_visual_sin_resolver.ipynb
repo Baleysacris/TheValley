{
  "nbformat": 4,
  "nbformat_minor": 0,
  "metadata": {
    "colab": {
      "name": "02 _ Analisis-exploratorio-visual.ipynb",
      "provenance": [],
      "toc_visible": true,
      "authorship_tag": "ABX9TyO2QDzVsgBtMiPVhLp3lZbA",
      "include_colab_link": true
    },
    "kernelspec": {
      "name": "python3",
      "display_name": "Python 3"
    }
  },
  "cells": [
    {
      "cell_type": "markdown",
      "metadata": {
        "id": "view-in-github",
        "colab_type": "text"
      },
      "source": [
        "<a href=\"https://colab.research.google.com/github/JotaBlanco/TheValley/blob/main/EDA/02-analisis-exploratorio-visual/02___Analisis_exploratorio_visual_sin_resolver.ipynb\" target=\"_parent\"><img src=\"https://colab.research.google.com/assets/colab-badge.svg\" alt=\"Open In Colab\"/></a>"
      ]
    },
    {
      "cell_type": "markdown",
      "metadata": {
        "id": "R53FGLN8jo1L"
      },
      "source": [
        "# INTRO: Análisis Exploratorio Visual\r\n",
        "Introducción al EDA (Exploratory Data Analysis) Visual.\r\n",
        "\r\n",
        "Notebook por [Javier Blanco Cordero](https://www.linkedin.com/in/javier-blanco-cordero-71373656/).\r\n",
        "\r\n",
        "### Enlaces de interés\r\n",
        "*   [Slides de presentación](https://docs.google.com/presentation/d/1N7MPSC7ntM-0ZEHlrN5xRTpT4uNDyU_o53GBvnojUx8/edit?usp=sharing)\r\n",
        "*   [Enlace a este notebook en Colab](https://colab.research.google.com/github/JotaBlanco/TheValley/blob/main/Notebooks/02-analisis-exploratorio-visual/02___Analisis_exploratorio_visual_sin_resolver.ipynb)\r\n",
        "*   [Enlace a este notebook con los ejercicios resueltos](https://colab.research.google.com/github/JotaBlanco/TheValley/blob/main/Notebooks/02-analisis-exploratorio-visual/02___Analisis_exploratorio_visual.ipynb)\r\n",
        "\r\n",
        "\r\n"
      ]
    },
    {
      "cell_type": "markdown",
      "metadata": {
        "id": "cnHRaho3rsXS"
      },
      "source": [
        "# 01 Import and Load Data"
      ]
    },
    {
      "cell_type": "markdown",
      "metadata": {
        "id": "Rd2IQbHKTIuV"
      },
      "source": [
        "## 0102 Import \r\n",
        "Importamos todas las librerías necesarias para este análisis ([¿No sabes lo que es una librería de Python?](https://www.quora.com/What-is-a-Python-library-and-what-can-I-use-it-for))."
      ]
    },
    {
      "cell_type": "code",
      "metadata": {
        "id": "4be6xiUqjPHI"
      },
      "source": [
        "import pandas as pd\r\n",
        "import numpy as np"
      ],
      "execution_count": null,
      "outputs": []
    },
    {
      "cell_type": "markdown",
      "metadata": {
        "id": "B_0JTVo0sIvm"
      },
      "source": [
        "## 0102 Load Data\r\n",
        "Recordemos, hemos visto 3 maneras de importar datos en Colab:\r\n",
        "\r\n",
        "*   Importar una tabla desde Github\r\n",
        "*   Cargar (y luego importar) una tabla de nuestro local\r\n",
        "*   Importar una tabla de Google Drive"
      ]
    },
    {
      "cell_type": "markdown",
      "metadata": {
        "id": "X9uX8-ujlaWO"
      },
      "source": [
        "### 010201 Importa dataframe SP500\r\n",
        "Lo importamos en un dataframe df_sp500 y modificamos la columna con la fecha a formato fecha."
      ]
    },
    {
      "cell_type": "code",
      "metadata": {
        "id": "Dl1KyH6oIk7K"
      },
      "source": [
        "# Url archivo raw\r\n",
        "url = 'https://raw.githubusercontent.com/JotaBlanco/TheValley/main/Data/sp500.csv'\r\n",
        "\r\n",
        "# Importa csv\r\n",
        "df_sp500 = pd.read_csv(url)\r\n",
        "\r\n",
        "# Visualización primeras filas\r\n",
        "df_sp500.head()"
      ],
      "execution_count": null,
      "outputs": []
    },
    {
      "cell_type": "code",
      "metadata": {
        "id": "hgpaVVFsjyhy"
      },
      "source": [
        "# Cambiamos el formato de la columna 'Date'\r\n",
        "df_sp500['Date'] = pd.to_datetime(\r\n",
        "    df_sp500['Date'], format='%Y-%m-%d', errors='ignore')"
      ],
      "execution_count": null,
      "outputs": []
    },
    {
      "cell_type": "markdown",
      "metadata": {
        "id": "YUPn3Da-m0IV"
      },
      "source": [
        "### 010202 EJERCICIO Importa dataframe Covid-19\r\n",
        "Os he dejado en mi Github: \r\n",
        "*   Los casos Covid-19 confirmados para ciertos países (esta es la ruta al archivo raw en GitHub https://raw.githubusercontent.com/JotaBlanco/TheValley/main/Data/Covid_Casos_Clean.csv). \r\n",
        "*   Las muertes por Covid-19 confirmadas para esos mismos países (esta es la ruta al archivo raw en github https://raw.githubusercontent.com/JotaBlanco/TheValley/main/Data/Covid_Muertes_Clean.csv). \r\n",
        "\r\n",
        "Para cada país, cada tabla contiene contiene:\r\n",
        "\r\n",
        "*   X: Los casos/fallecimientos confirmados acumulados en el país X\r\n",
        "*   X_REL: Los casos/fallecimientos confirmados acumulados en el país X por cada 100.000 habitantes. \r\n",
        "*   X_ult7: Los casos/fallecimientos confirmados en los últimos 7 días en el país X.\r\n",
        "*   X_REL_ult7: Los casos/fallecimientos confirmados en los últimos 7 días en el país X por cada 100.000 habitantes.\r\n",
        "\r\n",
        "Importa los datos del Covid como prefieras en dos dataframes: **df_casos_covid** y **df_muertes_covid** y modifica en ambos casos la **columna fecha para que esté en un formato de tipo fecha**."
      ]
    },
    {
      "cell_type": "code",
      "metadata": {
        "id": "975fu221OHlk"
      },
      "source": [
        "# Url archivo raw\r\n",
        "\r\n",
        "\r\n",
        "# Importa con read_csv\r\n",
        "\r\n",
        "\r\n",
        "# Visualización primeras filas\r\n"
      ],
      "execution_count": null,
      "outputs": []
    },
    {
      "cell_type": "code",
      "metadata": {
        "id": "IWbJaXkcOPU1"
      },
      "source": [
        "# Url archivo raw\r\n",
        "\r\n",
        "\r\n",
        "# Importa con read_csv\r\n",
        "\r\n",
        "\r\n",
        "# Visualización primeras filas\r\n"
      ],
      "execution_count": null,
      "outputs": []
    },
    {
      "cell_type": "code",
      "metadata": {
        "id": "fOD7SWSuRsUW"
      },
      "source": [
        "# Cambia el formato de la columna 'Date' con pd.to_datetime() para df_casos_covid\r\n",
        "\r\n",
        "# Cambia el formato de la columna 'Date' con pd.to_datetime() para df_casos_covid\r\n"
      ],
      "execution_count": null,
      "outputs": []
    },
    {
      "cell_type": "markdown",
      "metadata": {
        "id": "AblkT14d4Gvt"
      },
      "source": [
        "### 010203 Importa dataframe Fifa19\r\n",
        "Importamos este dataset ya limpiado en un dataframe llamado **df_fifa19**. De nuevo está en mi GitHub https://raw.githubusercontent.com/JotaBlanco/TheValley/main/Data/Fifa19_Clean.csv.\r\n"
      ]
    },
    {
      "cell_type": "code",
      "metadata": {
        "id": "HAe4wephIW8a"
      },
      "source": [
        "# Url archivo raw\r\n",
        "url = 'https://raw.githubusercontent.com/JotaBlanco/TheValley/main/Data/Fifa19_Clean.csv'\r\n",
        "\r\n",
        "# Importa csv\r\n",
        "df_fifa19 = pd.read_csv(url)\r\n",
        "\r\n",
        "# Visualización primeras filas\r\n",
        "df_fifa19.head()"
      ],
      "execution_count": null,
      "outputs": []
    },
    {
      "cell_type": "markdown",
      "metadata": {
        "id": "6RSFZhw-igup"
      },
      "source": [
        "# 02 Matplotlib\r\n",
        "[Matplotlib](https://matplotlib.org/index.html) es la principal librería de python para visualizar datos. Es extensa, flexible y robusta. El punto de partida perfecto para visualizar datos.\r\n",
        "\r\n",
        "Veamos cómo se utiliza."
      ]
    },
    {
      "cell_type": "code",
      "metadata": {
        "id": "r6HLldUCbcVK"
      },
      "source": [
        "# Se suele importar como plt\r\n",
        "import matplotlib.pyplot as plt"
      ],
      "execution_count": null,
      "outputs": []
    },
    {
      "cell_type": "markdown",
      "metadata": {
        "id": "MDctGmqNjSMv"
      },
      "source": [
        "## 0201 plt.plot()\r\n",
        "plt.[plot()](https://matplotlib.org/3.3.3/api/_as_gen/matplotlib.pyplot.plot.html) es la función básica de Pyplot."
      ]
    },
    {
      "cell_type": "code",
      "metadata": {
        "id": "S3rfrKHDlxJA"
      },
      "source": [
        "df_sp500.head()"
      ],
      "execution_count": null,
      "outputs": []
    },
    {
      "cell_type": "code",
      "metadata": {
        "id": "eTeSQAVBjjXk"
      },
      "source": [
        "# Un solo argumento:\r\n",
        "plt.plot(df_sp500['Close'])"
      ],
      "execution_count": null,
      "outputs": []
    },
    {
      "cell_type": "code",
      "metadata": {
        "id": "xOBMUQIFieoq"
      },
      "source": [
        "# Dos argumentos: x, y\r\n",
        "plt.plot(df_sp500['Date'], df_sp500['Close'])"
      ],
      "execution_count": null,
      "outputs": []
    },
    {
      "cell_type": "code",
      "metadata": {
        "id": "8KRHX89Kk0xF"
      },
      "source": [
        "# Añadimos detalles\r\n",
        "plt.plot(df_sp500['Date'], df_sp500['Close'], color='red')\r\n",
        "plt.title('Histórico SP&500')\r\n",
        "plt.xlabel('Año')\r\n",
        "plt.ylabel('Valor')\r\n",
        "plt.yscale('log')\r\n",
        "plt.show()"
      ],
      "execution_count": null,
      "outputs": []
    },
    {
      "cell_type": "markdown",
      "metadata": {
        "id": "WS0Ufp6jZVJi"
      },
      "source": [
        "### 020101 EJEMPLO: Evolución Covid\r\n",
        "Visualiza la evolución de casos acumulados de los países que contiene el dataframe.\r\n",
        "\r\n",
        "Veamos varias visualizaciones útiles:"
      ]
    },
    {
      "cell_type": "code",
      "metadata": {
        "id": "RUq1Z5RvltCB"
      },
      "source": [
        "df_casos_covid.head(3)"
      ],
      "execution_count": null,
      "outputs": []
    },
    {
      "cell_type": "code",
      "metadata": {
        "id": "5GQoWHTlZstp"
      },
      "source": [
        "# Simplemente se añaden\r\n",
        "plt.plot(df_casos_covid['Date'], df_casos_covid['Italy'], label='Italia')\r\n",
        "plt.plot(df_casos_covid['Date'], df_casos_covid['Portugal'], label='Portugal')\r\n",
        "plt.plot(df_casos_covid['Date'], df_casos_covid['Spain'], label='España')\r\n",
        "plt.plot(df_casos_covid['Date'], df_casos_covid['UK'], label='UK')\r\n",
        "plt.title('Evolución casos')\r\n",
        "plt.xlabel('Fecha')\r\n",
        "plt.ylabel('Casos confirmados acumulados')\r\n",
        "plt.legend()\r\n",
        "plt.show()"
      ],
      "execution_count": null,
      "outputs": []
    },
    {
      "cell_type": "code",
      "metadata": {
        "id": "stkQ3bWXfTpQ"
      },
      "source": [
        "df_casos_covid.columns"
      ],
      "execution_count": null,
      "outputs": []
    },
    {
      "cell_type": "code",
      "metadata": {
        "id": "-vA6ccbhRIGg"
      },
      "source": [
        "# En un loop\r\n",
        "plt.figure(figsize=(10, 7))\r\n",
        "for pais in ['France_REL', 'Germany_REL', 'Italy_REL', 'Portugal_REL', 'Spain_REL', 'US_REL', 'UK_REL', 'China_REL']:\r\n",
        "    plt.plot(df_casos_covid['Date'], df_casos_covid[pais], label=pais)\r\n",
        "plt.legend()\r\n",
        "plt.title('Casos acumulados')\r\n",
        "plt.xlabel('Fecha')\r\n",
        "plt.ylabel('Número de casos confirmados por cada 100mil habitantes')\r\n",
        "plt.show()"
      ],
      "execution_count": null,
      "outputs": []
    },
    {
      "cell_type": "code",
      "metadata": {
        "id": "1sDAaw-HmNiR"
      },
      "source": [
        "# En un loop definiendo los colores\r\n",
        "plt.figure(figsize=(10, 7))\r\n",
        "for pais in ['France_REL', 'Germany_REL', 'Italy_REL', 'Portugal_REL', 'Spain_REL', 'US_REL', 'UK_REL', 'China_REL']:\r\n",
        "  if pais == 'Spain_REL':\r\n",
        "    plt.plot(df_casos_covid['Date'], df_casos_covid[pais], label=pais, linewidth=2, color='red')\r\n",
        "  else:\r\n",
        "    plt.plot(df_casos_covid['Date'], df_casos_covid[pais], label=pais, color='grey')\r\n",
        "  plt.legend()\r\n",
        "plt.title('Casos acumulados')\r\n",
        "plt.xlabel('Fecha')\r\n",
        "plt.ylabel('Número de casos confirmados por cada 100mil habitantes')\r\n",
        "plt.show()"
      ],
      "execution_count": null,
      "outputs": []
    },
    {
      "cell_type": "markdown",
      "metadata": {
        "id": "jHSXb17eeziR"
      },
      "source": [
        "### 020102 EJERCICIO: Evolución Covid\r\n",
        "\r\n"
      ]
    },
    {
      "cell_type": "markdown",
      "metadata": {
        "id": "14ZS2cYhQfzl"
      },
      "source": [
        "*   Primero, muestra el número de casos acumulados en España por cada 100.000 habitantes: columna 'Spain_REL'."
      ]
    },
    {
      "cell_type": "code",
      "metadata": {
        "id": "eaV6FJt7QtKj"
      },
      "source": [
        ""
      ],
      "execution_count": null,
      "outputs": []
    },
    {
      "cell_type": "markdown",
      "metadata": {
        "id": "qkjxyWvDRh4a"
      },
      "source": [
        "*   Ahora, muestra el número de casos acumulados en los últimos 7 días en España, Italia, UK y Portugal por cada 100.000 habitantes: columnas 'Italy_REL_ult7', 'Portugal_REL_ult7', 'Spain_REL_ult7', 'UK_REL_ult7'."
      ]
    },
    {
      "cell_type": "code",
      "metadata": {
        "id": "r_fb3_zhSMSb"
      },
      "source": [
        ""
      ],
      "execution_count": null,
      "outputs": []
    },
    {
      "cell_type": "markdown",
      "metadata": {
        "id": "Qhm-UJjbSkVW"
      },
      "source": [
        "*   Por último, muestra el número de casos acumulados en los últimos 7 días por cada 100.000 habitantes para todos los países disponibles. Muestra a China en azul, España en rojo y con anchura de 3, a US en negro, y el resto de países en gris."
      ]
    },
    {
      "cell_type": "code",
      "metadata": {
        "id": "72DvE_-plTCC"
      },
      "source": [
        ""
      ],
      "execution_count": null,
      "outputs": []
    },
    {
      "cell_type": "code",
      "metadata": {
        "id": "2zji_V-NfRkQ"
      },
      "source": [
        ""
      ],
      "execution_count": null,
      "outputs": []
    },
    {
      "cell_type": "markdown",
      "metadata": {
        "id": "y7LId3lQiIIt"
      },
      "source": [
        "## 0202 plt.bar()\r\n",
        "plt.[bar()](https://matplotlib.org/3.1.1/api/_as_gen/matplotlib.pyplot.bar.html) es la función de Pyplot para visualizar barras.\r\n",
        "\r\n",
        "plt.[barh()](https://matplotlib.org/3.1.1/api/_as_gen/matplotlib.pyplot.barh.html#matplotlib.pyplot.barh) hace lo mismo pero con barras horizontales.\r\n",
        "\r\n"
      ]
    },
    {
      "cell_type": "code",
      "metadata": {
        "id": "PIrGoz5CWBF5"
      },
      "source": [
        "cols = ['France_REL', 'Germany_REL', 'Italy_REL', 'Portugal_REL', 'Spain_REL', 'US_REL', 'UK_REL', 'China_REL']\r\n",
        "\r\n",
        "ult_fila = df_casos_covid.index[-1]\r\n",
        "\r\n",
        "serie_casos_rel = df_casos_covid.loc[ult_fila, cols]\r\n",
        "serie_casos_rel"
      ],
      "execution_count": null,
      "outputs": []
    },
    {
      "cell_type": "code",
      "metadata": {
        "id": "j0-hxkv0jcHC"
      },
      "source": [
        "# Básico\r\n",
        "plt.bar(x=serie_casos_rel.index, height=serie_casos_rel.values)\r\n",
        "plt.show()"
      ],
      "execution_count": null,
      "outputs": []
    },
    {
      "cell_type": "code",
      "metadata": {
        "id": "9UzyBVGak98y"
      },
      "source": [
        "# Retoques\r\n",
        "plt.bar(x=serie_casos_rel.index, height=serie_casos_rel.values)\r\n",
        "plt.title('Casos confirmados acumulados por cada 100.000 habitantes')\r\n",
        "plt.xticks(rotation=90)\r\n",
        "plt.show()"
      ],
      "execution_count": null,
      "outputs": []
    },
    {
      "cell_type": "code",
      "metadata": {
        "id": "6Ur1NfH_ZT-v"
      },
      "source": [
        "# En horizontal\r\n",
        "plt.barh(y=serie_casos_rel.index, width=serie_casos_rel.values)\r\n",
        "plt.title('Casos confirmados acumulados por cada 100.000 habitantes')\r\n",
        "plt.show()"
      ],
      "execution_count": null,
      "outputs": []
    },
    {
      "cell_type": "code",
      "metadata": {
        "id": "aR-rrnMFaiep"
      },
      "source": [
        "# Ordenado\r\n",
        "serie_casos_rel = serie_casos_rel.sort_values()\r\n",
        "\r\n",
        "plt.barh(y=serie_casos_rel.index, width=serie_casos_rel.values)\r\n",
        "plt.title('Casos confirmados acumulados por cada 100.000 habitantes')\r\n",
        "plt.show()"
      ],
      "execution_count": null,
      "outputs": []
    },
    {
      "cell_type": "markdown",
      "metadata": {
        "id": "7hM7rjYBbiQi"
      },
      "source": [
        "### 020201 EJEMPLO: Jugadores diestros/zurdos\r\n",
        "Los gráficos de barras suelen ser una muy buena idea para mostrar la distribución de variables categóricas.\r\n",
        "\r\n",
        "Volviendo a nuestro dataset del fifa 19. Vamos a mostrar en un gráfico de barras cuántos jugadores diestros y zurdos hay.\r\n",
        "\r\n",
        "La función value_counts() será muy útil."
      ]
    },
    {
      "cell_type": "code",
      "metadata": {
        "id": "nCSVrD7wigJf"
      },
      "source": [
        "# Recordemos lo que devuelve la función value_counts() aplicada sobre una serie\r\n",
        "df_fifa19['Preferred Foot'].value_counts()"
      ],
      "execution_count": null,
      "outputs": []
    },
    {
      "cell_type": "code",
      "metadata": {
        "id": "YrL4lksWlGnu"
      },
      "source": [
        "# Guardamos el resultado del value_counts(), que es un objeto serie\r\n",
        "serie_pie_dominante = df_fifa19['Preferred Foot'].value_counts()\r\n",
        "\r\n",
        "# Gráfico de barras\r\n",
        "plt.bar(x=serie_pie_dominante.index, height=serie_pie_dominante.values)\r\n",
        "plt.title('Número de jugadores diestros y zurdos')\r\n",
        "plt.show()"
      ],
      "execution_count": null,
      "outputs": []
    },
    {
      "cell_type": "markdown",
      "metadata": {
        "id": "167Qv_CTl3c9"
      },
      "source": [
        "#### Nota: Gráfico de tarta\r\n",
        "Este es un buen ejemplo de un análisis en donde un gráfico de tarta no sería una mala opción. Las categorías zurdo/diestro son solo dos, son parte de un todo (jugadores totales) y es interesante saber cuál de las dos es mayoría.\r\n",
        "\r\n",
        "En pyplot, el gráfico de tarta se realiza con plt.[pie](https://matplotlib.org/3.1.1/api/_as_gen/matplotlib.pyplot.pie.html)."
      ]
    },
    {
      "cell_type": "code",
      "metadata": {
        "id": "bhoP2-jVlsFn"
      },
      "source": [
        "# Gráfico de tarta\r\n",
        "plt.pie(serie_pie_dominante.values, labels=serie_pie_dominante.index)\r\n",
        "plt.show()"
      ],
      "execution_count": null,
      "outputs": []
    },
    {
      "cell_type": "markdown",
      "metadata": {
        "id": "T1oHBSkUm4Cz"
      },
      "source": [
        "### 020202 EJERCICIO: Covid acumulados\r\n",
        "Muestra en un gráfico de barras horizontales los fallecidos por covid relativos (por cada 100.000 habitantes) de cada país acumulados desde el principio de la pandemia, ordenados de mayor a menor. "
      ]
    },
    {
      "cell_type": "code",
      "metadata": {
        "id": "SOZncXQ3lXZI"
      },
      "source": [
        "# La lista de columnas que necesitamos es:\r\n",
        "cols = ['China_REL', 'France_REL', 'Germany_REL', 'Italy_REL', 'Portugal_REL', \r\n",
        "        'Spain_REL', 'UK_REL', 'US_REL']"
      ],
      "execution_count": null,
      "outputs": []
    },
    {
      "cell_type": "code",
      "metadata": {
        "id": "XVc0fjIDnOwm"
      },
      "source": [
        "# Guardamos los resultados del value_counts()\r\n"
      ],
      "execution_count": null,
      "outputs": []
    },
    {
      "cell_type": "code",
      "metadata": {
        "id": "vOYTvjaenjFt"
      },
      "source": [
        "# Generamos un gráfico con barras horizontales\r\n"
      ],
      "execution_count": null,
      "outputs": []
    },
    {
      "cell_type": "markdown",
      "metadata": {
        "id": "bPN4Ao3PoLCh"
      },
      "source": [
        "## 0203 plt.scatter()\r\n",
        "Con plt.[scatter](https://matplotlib.org/3.1.1/api/_as_gen/matplotlib.pyplot.scatter.html) se realizan diagramas de dispersión (scatter plots)."
      ]
    },
    {
      "cell_type": "code",
      "metadata": {
        "id": "y6P253E2pRzH"
      },
      "source": [
        "df_fifa19.head(2)"
      ],
      "execution_count": null,
      "outputs": []
    },
    {
      "cell_type": "code",
      "metadata": {
        "id": "AyvnSLyNo87R"
      },
      "source": [
        "# Veamos la asociación entre valor y rendimiento\r\n",
        "plt.scatter(df_fifa19['Value_€'],df_fifa19['Overall'])\r\n",
        "plt.xlabel('Valor')\r\n",
        "plt.ylabel('Rendimiento')\r\n",
        "plt.show()"
      ],
      "execution_count": null,
      "outputs": []
    },
    {
      "cell_type": "code",
      "metadata": {
        "id": "2YtSoYGxpurA"
      },
      "source": [
        "# alpha nos permite ver densidades\r\n",
        "plt.scatter(np.log(df_fifa19['Value_€']), \r\n",
        "            df_fifa19['Overall'],\r\n",
        "            alpha=0.01)\r\n",
        "plt.xlabel('Log(Valor)')\r\n",
        "plt.ylabel('Rendimiento')\r\n",
        "plt.show()"
      ],
      "execution_count": null,
      "outputs": []
    },
    {
      "cell_type": "markdown",
      "metadata": {
        "id": "YQh18VEtrrw9"
      },
      "source": [
        "El diagrama de dispersión de arriba muestra una clara asociación entre las variables valor y rendimiento. En este caso, parece claro que esto es porque el rendimiento influye directamente sobre el valor del jugador.\r\n",
        "\r\n",
        "Pero hay otras razones por las que dos variables podrían estar correlacionadas sin que una cause a la otra. Hablaremos de esto en la próxima clase.\r\n",
        "\r\n",
        "Volviendo a la asociación, esta es la pinta de dos variables que no tienen una gran asociación entre ellas:"
      ]
    },
    {
      "cell_type": "code",
      "metadata": {
        "id": "FwV0qvWDrpI-"
      },
      "source": [
        "# el peso (entre atletas en su peso ideal) y el rendimiento no debería estar muy asociado\r\n",
        "plt.scatter(df_fifa19['Weight_kg'], \r\n",
        "            df_fifa19['Overall'],\r\n",
        "            alpha=0.01)\r\n",
        "plt.xlabel('Peso (Kg)')\r\n",
        "plt.ylabel('Rendimiento')\r\n",
        "plt.show()"
      ],
      "execution_count": null,
      "outputs": []
    },
    {
      "cell_type": "markdown",
      "metadata": {
        "id": "bDb86GqJsxlP"
      },
      "source": [
        "### 020301 EJERCICIO: Asociación edad/rendimiento\r\n",
        "Muestra la asociación entre las variables edad (x) y rendimiento (y). Primero hazlo para todos los jugadores.\r\n",
        "\r\n",
        "Luego, intenta un nuevo gráfico donde superpongas dos diagramas de dispersión: el primero, de nuevo, incluyendo todos los jugadores; el segundo, en naranja, se centrará en los jugadores españoles."
      ]
    },
    {
      "cell_type": "code",
      "metadata": {
        "id": "EmeEb1qRt02H"
      },
      "source": [
        "# Primero visualiza simplemente la asociación entre las dos variables\r\n"
      ],
      "execution_count": null,
      "outputs": []
    },
    {
      "cell_type": "code",
      "metadata": {
        "id": "SCV8SLZ5tMBP"
      },
      "source": [
        "# Crea una filtro con los jugadores españoles\r\n",
        "filtro_españoles = df_fifa19['Nationality']=='Spain'"
      ],
      "execution_count": null,
      "outputs": []
    },
    {
      "cell_type": "code",
      "metadata": {
        "id": "_FPS-MSptCry"
      },
      "source": [
        "# diagrama de dispersión mundo vs España\r\n",
        "plt.scatter()\r\n",
        "plt.scatter()\r\n",
        "...\r\n"
      ],
      "execution_count": null,
      "outputs": []
    },
    {
      "cell_type": "markdown",
      "metadata": {
        "id": "bJouvcB6HroT"
      },
      "source": [
        "## 0204 plt.hist()\r\n",
        "Los histogramas son una herramienta muy útil para visualizar la distribución de una variable continua.\r\n",
        "\r\n",
        "En Pyplot, se utiliza plt.[hist()](https://matplotlib.org/3.1.1/api/_as_gen/matplotlib.pyplot.hist.html)."
      ]
    },
    {
      "cell_type": "code",
      "metadata": {
        "id": "YflCM8vdIGuo"
      },
      "source": [
        "# distribución de la variable edad\r\n",
        "plt.hist(df_fifa19['Age'])\r\n",
        "plt.show()"
      ],
      "execution_count": null,
      "outputs": []
    },
    {
      "cell_type": "code",
      "metadata": {
        "id": "VbGyBReiIQQh"
      },
      "source": [
        "# 15 contenedores\r\n",
        "plt.hist(df_fifa19['Age'], bins=15)\r\n",
        "plt.show()"
      ],
      "execution_count": null,
      "outputs": []
    },
    {
      "cell_type": "code",
      "metadata": {
        "id": "yAsNQDX0IQVe"
      },
      "source": [
        "# contenedores personalizados\r\n",
        "plt.hist(df_fifa19['Age'], bins=[18,20,22,24,26,28,30,32,34,36])\r\n",
        "plt.show()"
      ],
      "execution_count": null,
      "outputs": []
    },
    {
      "cell_type": "markdown",
      "metadata": {
        "id": "CtZbekE1JLzA"
      },
      "source": [
        "### 020301 EJERCICIO: Distribución de Overall\r\n",
        "Muestra la distribución de la variable rendimiento (overall) usando 20 bins."
      ]
    },
    {
      "cell_type": "code",
      "metadata": {
        "id": "4hxNHeQ1IQZh"
      },
      "source": [
        ""
      ],
      "execution_count": null,
      "outputs": []
    },
    {
      "cell_type": "markdown",
      "metadata": {
        "id": "XkN4aFjaNKom"
      },
      "source": [
        "## 0205 Uso de fig y ax\r\n",
        "Hasta ahora hemos definido una gráfica añadiendo información directamente sobre plt y luego mostrándolo con plt.show().\r\n",
        "\r\n",
        "Pero esto nos daría problemas si quisiéramos visualizar dos gráficos distintos sobre una misma imagen. Cómo podríamos hacerlo?\r\n",
        "\r\n",
        "Utilizando los objetos [fig y ax](https://towardsdatascience.com/clearing-the-confusion-once-and-for-all-fig-ax-plt-subplots-b122bb7783ca). "
      ]
    },
    {
      "cell_type": "markdown",
      "metadata": {
        "id": "f7S8SnkHsM5o"
      },
      "source": [
        "### 020501 plt.subplots()\r\n",
        "plt.[subplots()](https://matplotlib.org/3.3.3/api/_as_gen/matplotlib.pyplot.subplots.html) genera una figura vacía y devuelve un tuple ([no sabes lo que es un tuple?](https://www.programiz.com/python-programming/tuple)):\r\n",
        "\r\n",
        "(figura, ejes)."
      ]
    },
    {
      "cell_type": "code",
      "metadata": {
        "id": "Uk1VK2aPoZo9"
      },
      "source": [
        "plt.subplots()"
      ],
      "execution_count": null,
      "outputs": []
    },
    {
      "cell_type": "code",
      "metadata": {
        "id": "Xobp_M1y24r4"
      },
      "source": [
        "fig, ax = plt.subplots()"
      ],
      "execution_count": null,
      "outputs": []
    },
    {
      "cell_type": "code",
      "metadata": {
        "id": "8iOKCI643wSr"
      },
      "source": [
        "fig"
      ],
      "execution_count": null,
      "outputs": []
    },
    {
      "cell_type": "code",
      "metadata": {
        "id": "LZw-nqFF3xiz"
      },
      "source": [
        "ax"
      ],
      "execution_count": null,
      "outputs": []
    },
    {
      "cell_type": "markdown",
      "metadata": {
        "id": "OT4RVAMH4DQc"
      },
      "source": [
        "Hemos creado dos variables: fig y ax que representan la imagen y el gráfico respectivamente. \r\n",
        "\r\n",
        "**Fig** es, conceptualmente, el objeto de la imagen. Podemos hacer la imagen más o menos grande o configurar la estética.\r\n",
        "**Ax** es una representación datos de manera visual: son los datos en forma de gráfico de líneas, de barras, etc. Es, en definitiva, un gráfico. \r\n",
        "\r\n",
        "Una misma figura puede tener varios ax. En cuanto a la nomenclatura, podríamos llamarle de otra forma pero fig y ax es la convención (como importar pandas como pd, o seaborn como sns) así que mejor cumpliremos con los estándares típicos."
      ]
    },
    {
      "cell_type": "code",
      "metadata": {
        "id": "Eu8Jethq4AJ6"
      },
      "source": [
        "# También podemos generar imágenes (fig) con más de un gráfico (ax)\r\n",
        "plt.subplots(nrows=1, ncols=2)"
      ],
      "execution_count": null,
      "outputs": []
    },
    {
      "cell_type": "code",
      "metadata": {
        "id": "mLQFIkHu4rqg"
      },
      "source": [
        "# O con muchos más. Más adelante veremos cómo utilizarlos\r\n",
        "plt.subplots(nrows=5, ncols=2)"
      ],
      "execution_count": null,
      "outputs": []
    },
    {
      "cell_type": "markdown",
      "metadata": {
        "id": "yct3WMpf7ddU"
      },
      "source": [
        "### 020502 ax.plot()\r\n",
        "Una vez hemos definido el número de **ax**s que va a tener nuestra **fig** podemos definir cada uno de los gráficos (ax)."
      ]
    },
    {
      "cell_type": "code",
      "metadata": {
        "id": "dpKpoU6i7uJ5"
      },
      "source": [
        "# Con plt.plot()\r\n",
        "plt.plot(df_sp500['Date'], df_sp500['Close'])\r\n",
        "plt.title('Evolución cierre SP500')\r\n",
        "plt.xlabel('Año')\r\n",
        "plt.ylabel('Precio al cierre')\r\n",
        "plt.show()"
      ],
      "execution_count": null,
      "outputs": []
    },
    {
      "cell_type": "code",
      "metadata": {
        "id": "v5WJdGAI7uNi"
      },
      "source": [
        "# Conf fig, ax\r\n",
        "fig, ax = plt.subplots()\r\n",
        "ax.plot(df_sp500['Date'], df_sp500['Close'])\r\n",
        "ax.set(title='Evolución cierre SP500', \r\n",
        "       xlabel='Año', \r\n",
        "       ylabel='Precio al cierre')\r\n",
        "plt.show()"
      ],
      "execution_count": null,
      "outputs": []
    },
    {
      "cell_type": "markdown",
      "metadata": {
        "id": "KH8YE0P6-CV9"
      },
      "source": [
        "#### EJEMPLO: Fallecimientos Covid\r\n",
        "Representamos la evolución de fallecimientos relativa acumulada y relativa en los últimos 7 días en una misma imagen."
      ]
    },
    {
      "cell_type": "code",
      "metadata": {
        "id": "1CvKgomR7uRi"
      },
      "source": [
        "# Vamos a generar dos gráficas en una misma imagen (una encima de la otra)\r\n",
        "plt.subplots(nrows=2, ncols=1)"
      ],
      "execution_count": null,
      "outputs": []
    },
    {
      "cell_type": "code",
      "metadata": {
        "id": "JCFvTRJ37iFs"
      },
      "source": [
        "# Generamos las variables (ahora tenemos dos ax)\r\n",
        "fig, (ax1, ax2) = plt.subplots(nrows=2, ncols=1)\r\n",
        "fig.tight_layout(pad=2)\r\n",
        "fig.set_size_inches(8,6)\r\n",
        "ax1.plot(df_muertes_covid['Date'], df_muertes_covid['Spain_REL'])\r\n",
        "ax1.set(title='Evolución Acumulada Fallecimientos', \r\n",
        "        xlabel='Fecha', \r\n",
        "        ylabel='# Casos')\r\n",
        "ax2.plot(df_muertes_covid['Date'], df_muertes_covid['Spain_REL_ult7'])\r\n",
        "ax2.set(title='Evolución Fallecimientos Acumulados Últimos 7 Días', \r\n",
        "        xlabel='Fecha', \r\n",
        "        ylabel='# Casos')\r\n",
        "plt.show()"
      ],
      "execution_count": null,
      "outputs": []
    },
    {
      "cell_type": "markdown",
      "metadata": {
        "id": "nJFKs7FDFtv5"
      },
      "source": [
        "#### EJERCICIO Covid Comparación Países\r\n",
        "Vamos a realizar una imagen con dos gráficos (2 columnas).\r\n",
        "\r\n",
        "En ambos mostraremos la comparación de fallecidos en los últimos 7 días. En uno con una gráfico de barras horizontales, en otro con una mala elección: un gráfico de tarta.\r\n",
        "\r\n",
        "Aprovecharemos para comprobar por qué es una mala elección:"
      ]
    },
    {
      "cell_type": "code",
      "metadata": {
        "id": "WBfqGRovKQHt"
      },
      "source": [
        "# Las columnas que necesitamos son:\r\n",
        "cols = ['China_REL_ult7', 'France_REL_ult7',\r\n",
        "       'Germany_REL_ult7', 'Italy_REL_ult7', 'Portugal_REL_ult7',\r\n",
        "       'Spain_REL_ult7', 'UK_REL_ult7', 'US_REL_ult7']"
      ],
      "execution_count": null,
      "outputs": []
    },
    {
      "cell_type": "code",
      "metadata": {
        "id": "CYCPkGHp_PZ9"
      },
      "source": [
        "# Genera una serie con la última fila y las columnas deseadas\r\n"
      ],
      "execution_count": null,
      "outputs": []
    },
    {
      "cell_type": "code",
      "metadata": {
        "id": "6Z4Gum38KmPe"
      },
      "source": [
        "# Genera la figura (con dos ax)\r\n",
        "fig, (ax1, ax2) = plt.subplots(nrows=1, ncols=2)\r\n",
        "...\r\n",
        "ax1.barh()\r\n",
        "ax1.set()\r\n",
        "..."
      ],
      "execution_count": null,
      "outputs": []
    },
    {
      "cell_type": "markdown",
      "metadata": {
        "id": "R6QLNgepQbJy"
      },
      "source": [
        "### 020503 ax.twinx()\r\n",
        "ax.[twinx](https://matplotlib.org/3.3.3/api/_as_gen/matplotlib.axes.Axes.twinx.html) y ax.[twiny](https://matplotlib.org/3.1.1/api/_as_gen/matplotlib.axes.Axes.twiny.html) crean un nuevo ax que comparte el eje x o y (respectivamente) con el original.\r\n",
        "\r\n",
        "Esto nos permitirá realizar gráficos de distinto tipo sobre un mismo eje.\r\n"
      ]
    },
    {
      "cell_type": "code",
      "metadata": {
        "id": "KjLM_4kFVQX-"
      },
      "source": [
        "# Conf fig, ax\r\n",
        "fig, ax_a = plt.subplots()\r\n",
        "ax_b = ax_a.twinx()\r\n",
        "display(ax_b)\r\n",
        "display(ax_a)"
      ],
      "execution_count": null,
      "outputs": []
    },
    {
      "cell_type": "code",
      "metadata": {
        "id": "ogyBEYgBgN5D"
      },
      "source": [
        "# Conf fig, ax\r\n",
        "fig, ax_a = plt.subplots()\r\n",
        "ax_b = ax_a.twinx()\r\n",
        "\r\n",
        "# Configuramos la figura\r\n",
        "fig.set_size_inches(10,5)\r\n",
        "\r\n",
        "# Generamos los ax\r\n",
        "ax_a.plot(df_casos_covid['Date'], df_casos_covid['Spain_REL_ult7'],\r\n",
        "          color = 'black', linewidth = 2, label='Casos')\r\n",
        "ax_a.set(title='Evolucion Casos y Fallecimientos Acumulados Últimos 7 Días', \r\n",
        "         xlabel='Fecha', \r\n",
        "         ylabel='# Casos Confirmados')\r\n",
        "ax_a.set_ylim(bottom=0)\r\n",
        "ax_b.plot(df_muertes_covid['Date'], df_muertes_covid['Spain_REL_ult7'], \r\n",
        "          color='red', linewidth = 2, linestyle='dashed', label='Muertes')\r\n",
        "ax_b.set(ylabel='# Muertes Confirmadas')\r\n",
        "ax_b.set_ylim(bottom=0)\r\n",
        "\r\n",
        "# Añadimos la layenda\r\n",
        "fig.legend()\r\n",
        "plt.show()"
      ],
      "execution_count": null,
      "outputs": []
    },
    {
      "cell_type": "markdown",
      "metadata": {
        "id": "uJetT4unJp_L"
      },
      "source": [
        "# 03 Seaborn\r\n",
        "[Seaborn](https://seaborn.pydata.org/) es una librería de Python de visualización basada en matplolib.\r\n",
        "\r\n",
        "La utilizaremos para mejorar la estética de nuestros gráficos y para realizar ciertas mejoras sobre los gráficos básicos de matplolib.\r\n",
        "\r\n",
        "\r\n"
      ]
    },
    {
      "cell_type": "code",
      "metadata": {
        "id": "bJ_gFtP7IQdJ"
      },
      "source": [
        "# Se suele importar como sns\r\n",
        "import seaborn as sns"
      ],
      "execution_count": null,
      "outputs": []
    },
    {
      "cell_type": "markdown",
      "metadata": {
        "id": "PnycLrd3KiFq"
      },
      "source": [
        "## 0301 sns.set()\r\n",
        "La función sns.[set()](https://seaborn.pydata.org/generated/seaborn.set.html#seaborn.set) modifica la estética de los gráficos de matplotlib.pyplot a la estándar de seaborn. \r\n",
        "\r\n",
        "Os recomiendo ejecutarla antes de generar gráficos con matplotlib.pyplot. De hecho, veamos los gráficos anteriormente generados ahora realizados tras haber ejecutado sns.set()."
      ]
    },
    {
      "cell_type": "code",
      "metadata": {
        "id": "c_ubFquUK-Zl"
      },
      "source": [
        "# Este comando hará tus gráficos más profesionales\r\n",
        "sns.set()"
      ],
      "execution_count": null,
      "outputs": []
    },
    {
      "cell_type": "code",
      "metadata": {
        "id": "yrsk_gALLBB4"
      },
      "source": [
        "plt.figure(figsize=(10, 7))\r\n",
        "for pais in ['France_REL', 'Germany_REL', 'Italy_REL', 'Portugal_REL', 'Spain_REL', 'US_REL', 'UK_REL', 'China_REL']:\r\n",
        "  if pais == 'Spain_REL':\r\n",
        "    plt.plot(df_casos_covid['Date'], df_casos_covid[pais], label=pais, linewidth=2, color='red')\r\n",
        "  else:\r\n",
        "    plt.plot(df_casos_covid['Date'], df_casos_covid[pais], label=pais, color='grey')\r\n",
        "  plt.legend()\r\n",
        "plt.title('Casos acumulados')\r\n",
        "plt.xlabel('Fecha')\r\n",
        "plt.ylabel('Número de casos confirmados por cada 100mil habitantes')\r\n",
        "plt.show()"
      ],
      "execution_count": null,
      "outputs": []
    },
    {
      "cell_type": "code",
      "metadata": {
        "id": "vEDjjBnrLBFZ"
      },
      "source": [
        "# Gráfico de barras\r\n",
        "plt.bar(x=serie_pie_dominante.index, height=serie_pie_dominante.values)\r\n",
        "plt.title('Número de jugadores diestros y zurdos')\r\n",
        "plt.show()"
      ],
      "execution_count": null,
      "outputs": []
    },
    {
      "cell_type": "code",
      "metadata": {
        "id": "vxOl06q5LBJB"
      },
      "source": [
        "# Gráfico de tarta\r\n",
        "plt.pie(serie_pie_dominante.values, labels=serie_pie_dominante.index)\r\n",
        "plt.show()"
      ],
      "execution_count": null,
      "outputs": []
    },
    {
      "cell_type": "code",
      "metadata": {
        "id": "LlFHv7LILBMZ"
      },
      "source": [
        "# Visualizamos el resultado\r\n",
        "plt.barh(y=serie_nacionalidad.index[::-1], width=serie_nacionalidad.values[::-1])\r\n",
        "plt.title('Número de jugadores por nacionalidad')\r\n",
        "plt.show()"
      ],
      "execution_count": null,
      "outputs": []
    },
    {
      "cell_type": "code",
      "metadata": {
        "id": "wbmmYivGMICL"
      },
      "source": [
        "# diagrama de dispersión mundo vs España\r\n",
        "plt.scatter(df_fifa19['Age'], df_fifa19['Overall'], alpha=0.01, color='blue')\r\n",
        "plt.scatter(df_fifa19.loc[filtro_españoles, 'Age'], \r\n",
        "            df_fifa19.loc[filtro_españoles, 'Overall'], \r\n",
        "            alpha=0.25, color='orange')\r\n",
        "plt.xlabel('Edad')\r\n",
        "plt.ylabel('Rendimiento')\r\n",
        "plt.show()"
      ],
      "execution_count": null,
      "outputs": []
    },
    {
      "cell_type": "code",
      "metadata": {
        "id": "L-lpRvakMJkg"
      },
      "source": [
        "plt.hist(df_fifa19['Overall'], bins=20)\r\n",
        "plt.show()"
      ],
      "execution_count": null,
      "outputs": []
    },
    {
      "cell_type": "code",
      "metadata": {
        "id": "Af1XwtDmkkl6"
      },
      "source": [
        "# Conf fig, ax\r\n",
        "fig, ax_a = plt.subplots()\r\n",
        "ax_b = ax_a.twinx()\r\n",
        "\r\n",
        "# Configuramos la figura\r\n",
        "fig.set_size_inches(10,5)\r\n",
        "\r\n",
        "# Generamos los ax\r\n",
        "ax_a.plot(df_casos_covid['Date'], df_casos_covid['Spain_REL_ult7'],\r\n",
        "          color = 'black', linewidth = 2, label='Casos')\r\n",
        "ax_a.set(title='Evolucion Casos y Fallecimientos Acumulados Últimos 7 Días', \r\n",
        "         xlabel='Fecha', \r\n",
        "         ylabel='# Casos Confirmados')\r\n",
        "ax_a.set_ylim(bottom=0)\r\n",
        "ax_b.plot(df_muertes_covid['Date'], df_muertes_covid['Spain_REL_ult7'], \r\n",
        "          color='red', linewidth = 2, linestyle='dashed', label='Muertes')\r\n",
        "ax_b.set(ylabel='# Muertes Confirmadas')\r\n",
        "ax_b.set_ylim(bottom=0)\r\n",
        "\r\n",
        "# Añadimos la layenda\r\n",
        "fig.legend()\r\n",
        "plt.show()"
      ],
      "execution_count": null,
      "outputs": []
    },
    {
      "cell_type": "markdown",
      "metadata": {
        "id": "X4932zsDMXlS"
      },
      "source": [
        "Se pueden definir muchos temas distintos utilizando [set_theme](https://seaborn.pydata.org/generated/seaborn.set_theme.html#seaborn.set_theme)."
      ]
    },
    {
      "cell_type": "markdown",
      "metadata": {
        "id": "B3KYSnm6MlcG"
      },
      "source": [
        "## 0302 Otras ventajas de seaborn\r\n",
        "Además de sns.[set()](https://seaborn.pydata.org/generated/seaborn.set.html#seaborn.set), seaborn puede ser útil en cuanto a que facilita realizar ciertas gráficas, más complejas y especializadas.\r\n",
        "\r\n",
        "Podéis ver algunos ejemplos [aquí](https://seaborn.pydata.org/examples/index.html) y los comandos a emplear [aquí](https://seaborn.pydata.org/api.html).\r\n",
        "\r\n",
        "Veremos algún ejemplo en los ejercicios.\r\n",
        "\r\n"
      ]
    },
    {
      "cell_type": "markdown",
      "metadata": {
        "id": "pMrrVk4TM7X2"
      },
      "source": [
        "# 04 Pandas-Profiling\r\n",
        "Pandas-Profiling es una librería que realiza informes EDA interactivos y de manera automática sobre un dataframe.\r\n",
        "\r\n",
        "Veamos cómo utilizarla."
      ]
    },
    {
      "cell_type": "markdown",
      "metadata": {
        "id": "1P0Wp-qcQJh-"
      },
      "source": [
        "## 0401 Instalar e importar\r\n",
        "No es una librería tan habitual, por lo que no está incorporada en Colab. Primero tenemos que instalarla, y luego, sí, la importamos como hemos venido haciendo con otras:"
      ]
    },
    {
      "cell_type": "code",
      "metadata": {
        "id": "zXcT9g7cbexR"
      },
      "source": [
        "# Instalamos pandas-profiling\r\n",
        "! pip install -U pandas-profiling"
      ],
      "execution_count": null,
      "outputs": []
    },
    {
      "cell_type": "code",
      "metadata": {
        "id": "qwDrE69kc3vd"
      },
      "source": [
        "# Importamos solo la función ProfileReport (la verdaderamente importante)\r\n",
        "from pandas_profiling import ProfileReport"
      ],
      "execution_count": null,
      "outputs": []
    },
    {
      "cell_type": "markdown",
      "metadata": {
        "id": "6PqGuLhEQ91l"
      },
      "source": [
        "## 0402 Se define el report\r\n",
        "Definimos el informe que queremos genrar, simplemente pasándole a la función el dataframe y el título del informe."
      ]
    },
    {
      "cell_type": "code",
      "metadata": {
        "id": "SoAwFzwTXXN6"
      },
      "source": [
        "profile_sp500 = ProfileReport(df_sp500, \r\n",
        "                               title='SP500', \r\n",
        "                               html={'style':{'full_width':False}})"
      ],
      "execution_count": null,
      "outputs": []
    },
    {
      "cell_type": "code",
      "metadata": {
        "id": "AL3FAuR0el1n"
      },
      "source": [
        "cols = ['Name', 'Age', 'Nationality', 'Overall', 'Potential', \r\n",
        "        'Height_cm', 'Weight_kg', 'Value_€', 'Wage_€', 'Release Clause_€',  \r\n",
        "        'Club', 'Preferred Foot'\r\n",
        "        ]\r\n",
        "len(df_fifa19)      "
      ],
      "execution_count": null,
      "outputs": []
    },
    {
      "cell_type": "code",
      "metadata": {
        "id": "GGFsipBjctJk"
      },
      "source": [
        "profile_fifa19 = ProfileReport(df_fifa19.loc[:5000, cols], \r\n",
        "                               title='Informe Fifa 19', \r\n",
        "                               html={'style':{'full_width':False}})"
      ],
      "execution_count": null,
      "outputs": []
    },
    {
      "cell_type": "markdown",
      "metadata": {
        "id": "vySQG6poanol"
      },
      "source": [
        "## 0403 Generamos y guardamos\r\n",
        "Generamos y guardamos los informes."
      ]
    },
    {
      "cell_type": "code",
      "metadata": {
        "id": "og-PNnV-k4_v"
      },
      "source": [
        "drive.mount('/content/drive')"
      ],
      "execution_count": null,
      "outputs": []
    },
    {
      "cell_type": "code",
      "metadata": {
        "id": "dD-TelaOae3N"
      },
      "source": [
        "profile_sp500.to_file(output_file=\"/content/drive/My Drive/Data/SP500 Informe EDA.html\")"
      ],
      "execution_count": null,
      "outputs": []
    },
    {
      "cell_type": "code",
      "metadata": {
        "id": "PF35z4VTae9o"
      },
      "source": [
        "profile_fifa19.to_file(output_file=\"/content/drive/My Drive/Data/Fifa19 Informe EDA.html\")"
      ],
      "execution_count": null,
      "outputs": []
    },
    {
      "cell_type": "markdown",
      "metadata": {
        "id": "lGfkJjyeCF8_"
      },
      "source": [
        "# 05 Feedback\r\n",
        "Podéis dejar vuestro feedback aquí:\r\n",
        "\r\n",
        "\r\n",
        "![JAVIER BLANCO DATA FUNDAMENTALS 4 FEBRERO.png](data:image/png;base64,iVBORw0KGgoAAAANSUhEUgAAAXIAAAFyAQMAAADS6sNKAAAABlBMVEX///8AAABVwtN+AAAACXBIWXMAAA7EAAAOxAGVKw4bAAABoUlEQVR4nO2Zy43DMAxECbgAl5TWVVIKEKBY5FCfJMhxF2PMHGTYevJFHw4pM0mSJEmS/kcNqubNpaO1cjVmZ/YV8bx8vJw1Rjplj2fvOOuGiOfk+7R73+N5tGUQ/lHF34P3XZ59B76Jvw2PA/za6rEyxN+D90fw1ebOxzf7OM/FU/EQ0K3JPvG8/DKyuBVrvynxXPyk0o/1/Z7LAye7eFrecyeztGKbH2v7N/GMPMoe3XttLmz2momn5T2LigLI2OrpvI8v60E8Gb9SqGdiuGdWc2WI5+Q9Sk9gKXrlyijiafk02BV8JM1jURTx3HybsbmPTIMN5x0jTTwv/3YfUcY/cKiLJ+e3ZkuQDyTS4nn5tNpdMffTZa9Fa/GcfPoxuLDc714Dy6KXeGI+jnJH8z6xhT0Liafml5FIkEHNlbH7c/FU/Jz2jNeWQfus3/yYeC7eKWTJI0qPoC2enp/5VJaqI1THVv+8jxDPyWeobiNyZ6GziL8D73Pv5zmEfEo8Ne+PM++bZqgeNTAz8bw8hNo0AvRyCyGempckSZIk6S/1AvwR844PcbB6AAAAAElFTkSuQmCC)"
      ]
    },
    {
      "cell_type": "code",
      "metadata": {
        "id": "J7taFZVNCWDe"
      },
      "source": [
        ""
      ],
      "execution_count": null,
      "outputs": []
    }
  ]
}