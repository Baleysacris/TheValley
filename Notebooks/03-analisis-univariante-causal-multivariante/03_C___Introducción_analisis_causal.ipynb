{
  "nbformat": 4,
  "nbformat_minor": 0,
  "metadata": {
    "colab": {
      "name": "03 C _ Introducción_analisis_causal.ipynb",
      "provenance": [],
      "toc_visible": true,
      "authorship_tag": "ABX9TyMJ7f2ZKxWHzvLWMwIE0HB7",
      "include_colab_link": true
    },
    "kernelspec": {
      "name": "python3",
      "display_name": "Python 3"
    }
  },
  "cells": [
    {
      "cell_type": "markdown",
      "metadata": {
        "id": "view-in-github",
        "colab_type": "text"
      },
      "source": [
        "<a href=\"https://colab.research.google.com/github/JotaBlanco/TheValley/blob/main/Notebooks/03-analisis-univariante-causal-multivariante/03_C___Introducci%C3%B3n_analisis_causal.ipynb\" target=\"_parent\"><img src=\"https://colab.research.google.com/assets/colab-badge.svg\" alt=\"Open In Colab\"/></a>"
      ]
    },
    {
      "cell_type": "markdown",
      "metadata": {
        "id": "R53FGLN8jo1L"
      },
      "source": [
        "# 01 INTRO: Análisis Causal \r\n",
        "El análisis causal trata de encontrar las relaciones causales (no solo asociaciones) entre las variables.\r\n",
        "\r\n",
        "Notebook por [Javier Blanco Cordero](https://www.linkedin.com/in/javier-blanco-cordero-71373656/).\r\n",
        "\r\n",
        "### Enlaces de interés\r\n",
        "*   [Slides de presentación](https://docs.google.com/presentation/d/1WNWGnLUyiGqwFf92V3V_szu3QTD_0EQY5GZjhFgen5Q/edit?usp=sharing)\r\n",
        "*   [Enlace a este notebook en Colab](https://colab.research.google.com/drive/1B37GMOCjKQ0S8NoRI6lALEW9EZtE0Hit#scrollTo=R53FGLN8jo1L)\r\n",
        "\r\n",
        "\r\n"
      ]
    },
    {
      "cell_type": "markdown",
      "metadata": {
        "id": "LSuEDXhPLi8u"
      },
      "source": [
        "## 0101 Qué es un análisis univariante?\r\n",
        "El análisis univariante consiste en estudiar la distribución y características de una sola variable.\r\n",
        "\r\n",
        "Veamos con ejemplos:"
      ]
    },
    {
      "cell_type": "markdown",
      "metadata": {
        "id": "cnHRaho3rsXS"
      },
      "source": [
        "## 0102 Import\r\n",
        "Importamos todas las librerías necesarias para este análisis ([¿No sabes lo que es una librería de Python?](https://www.quora.com/What-is-a-Python-library-and-what-can-I-use-it-for)): pandas, numpy, seaborn, matplotlib."
      ]
    },
    {
      "cell_type": "code",
      "metadata": {
        "id": "4be6xiUqjPHI"
      },
      "source": [
        "import pandas as pd\r\n",
        "import numpy as np\r\n",
        "import matplotlib.pyplot as plt\r\n",
        "import seaborn as sns"
      ],
      "execution_count": 1,
      "outputs": []
    },
    {
      "cell_type": "markdown",
      "metadata": {
        "id": "AblkT14d4Gvt"
      },
      "source": [
        "## 0103 Carga el dataset Fifa19\r\n",
        "Para probar a hacer análisis univariantes utilizaremos el dataframe con datos ya limpios del fifa 19 ([aquí](https://drive.google.com/file/d/1P0sQHp1bPiKbL-MSr7FndJRgowvOLdjU/view?usp=sharing) está mi archivo ya limpio). Importa este dataset en un dataframe llamado **df_fifa19**.\r\n",
        "\r\n",
        "Utiliza solo las columnas cols = ['Name', 'Age', 'Nationality', 'Overall', 'Potential', 'Club', \r\n",
        "        'Height_cm', 'Weight_kg', 'Value_€', 'Wage_€', \r\n",
        "        'Release Clause_€', 'Preferred Foot', 'Position', 'SprintSpeed'] y en este orden."
      ]
    },
    {
      "cell_type": "code",
      "metadata": {
        "colab": {
          "base_uri": "https://localhost:8080/",
          "height": 247
        },
        "id": "GMZACcIXOclu",
        "outputId": "3b417d50-67e3-48e1-df18-0b6a89b1e8ec"
      },
      "source": [
        "cols = ['Name', 'Age', 'Nationality', 'Overall', 'Potential', 'Club', \r\n",
        "        'Height_cm', 'Weight_kg', 'Value_€', 'Wage_€', \r\n",
        "        'Release Clause_€', 'Preferred Foot', 'Position', 'SprintSpeed']\r\n",
        "\r\n",
        "# Url\r\n",
        "url = \"https://raw.githubusercontent.com/JotaBlanco/TheValley/main/Data/Fifa19_Clean.csv\"\r\n",
        "\r\n",
        "# Importamos el archivos usando read_csv()\r\n",
        "df_fifa19 = pd.read_csv(url, usecols=cols)\r\n",
        "df_fifa19.head(3)"
      ],
      "execution_count": 2,
      "outputs": [
        {
          "output_type": "execute_result",
          "data": {
            "text/html": [
              "<div>\n",
              "<style scoped>\n",
              "    .dataframe tbody tr th:only-of-type {\n",
              "        vertical-align: middle;\n",
              "    }\n",
              "\n",
              "    .dataframe tbody tr th {\n",
              "        vertical-align: top;\n",
              "    }\n",
              "\n",
              "    .dataframe thead th {\n",
              "        text-align: right;\n",
              "    }\n",
              "</style>\n",
              "<table border=\"1\" class=\"dataframe\">\n",
              "  <thead>\n",
              "    <tr style=\"text-align: right;\">\n",
              "      <th></th>\n",
              "      <th>Name</th>\n",
              "      <th>Age</th>\n",
              "      <th>Nationality</th>\n",
              "      <th>Overall</th>\n",
              "      <th>Potential</th>\n",
              "      <th>Club</th>\n",
              "      <th>Preferred Foot</th>\n",
              "      <th>Position</th>\n",
              "      <th>SprintSpeed</th>\n",
              "      <th>Weight_kg</th>\n",
              "      <th>Value_€</th>\n",
              "      <th>Wage_€</th>\n",
              "      <th>Release Clause_€</th>\n",
              "      <th>Height_cm</th>\n",
              "    </tr>\n",
              "  </thead>\n",
              "  <tbody>\n",
              "    <tr>\n",
              "      <th>0</th>\n",
              "      <td>L. Messi</td>\n",
              "      <td>31</td>\n",
              "      <td>Argentina</td>\n",
              "      <td>94</td>\n",
              "      <td>94</td>\n",
              "      <td>FC Barcelona</td>\n",
              "      <td>Left</td>\n",
              "      <td>RF</td>\n",
              "      <td>86.0</td>\n",
              "      <td>72.121128</td>\n",
              "      <td>110500000.0</td>\n",
              "      <td>565000.0</td>\n",
              "      <td>226500000.0</td>\n",
              "      <td>170.18</td>\n",
              "    </tr>\n",
              "    <tr>\n",
              "      <th>1</th>\n",
              "      <td>Cristiano Ronaldo</td>\n",
              "      <td>33</td>\n",
              "      <td>Portugal</td>\n",
              "      <td>94</td>\n",
              "      <td>94</td>\n",
              "      <td>Juventus</td>\n",
              "      <td>Right</td>\n",
              "      <td>ST</td>\n",
              "      <td>91.0</td>\n",
              "      <td>83.007336</td>\n",
              "      <td>77000000.0</td>\n",
              "      <td>405000.0</td>\n",
              "      <td>127100000.0</td>\n",
              "      <td>187.96</td>\n",
              "    </tr>\n",
              "    <tr>\n",
              "      <th>2</th>\n",
              "      <td>Neymar Jr</td>\n",
              "      <td>26</td>\n",
              "      <td>Brazil</td>\n",
              "      <td>92</td>\n",
              "      <td>93</td>\n",
              "      <td>Paris Saint-Germain</td>\n",
              "      <td>Right</td>\n",
              "      <td>LW</td>\n",
              "      <td>90.0</td>\n",
              "      <td>68.038800</td>\n",
              "      <td>118500000.0</td>\n",
              "      <td>290000.0</td>\n",
              "      <td>228100000.0</td>\n",
              "      <td>175.26</td>\n",
              "    </tr>\n",
              "  </tbody>\n",
              "</table>\n",
              "</div>"
            ],
            "text/plain": [
              "                Name  Age Nationality  ...    Wage_€  Release Clause_€ Height_cm\n",
              "0           L. Messi   31   Argentina  ...  565000.0       226500000.0    170.18\n",
              "1  Cristiano Ronaldo   33    Portugal  ...  405000.0       127100000.0    187.96\n",
              "2          Neymar Jr   26      Brazil  ...  290000.0       228100000.0    175.26\n",
              "\n",
              "[3 rows x 14 columns]"
            ]
          },
          "metadata": {
            "tags": []
          },
          "execution_count": 2
        }
      ]
    },
    {
      "cell_type": "markdown",
      "metadata": {
        "id": "KBOQJ0AjdYrM"
      },
      "source": [
        "# 02 Azar\r\n",
        "El azar puede ser la fuente de una correlación.\r\n",
        "\r\n",
        "Imaginémonos dos monedas de 1€. Una es de Pepe, y la otra de Carmen. Se ponen de acuerdo y tiran sus respectivas monedas 10 veces. Anotan un 1 si sale cara, un 0 si sale cruz.  "
      ]
    },
    {
      "cell_type": "markdown",
      "metadata": {
        "id": "ewIIpx81R01F"
      },
      "source": [
        "## 0201 Probabilidad de correlación\r\n",
        "Qué probabilidad hay de que (solo por azar) obtengan una correlación entre ambas monedas mayor a [0.5]?"
      ]
    },
    {
      "cell_type": "code",
      "metadata": {
        "colab": {
          "base_uri": "https://localhost:8080/"
        },
        "id": "qrTx3WKqRVwS",
        "outputId": "30d5bf05-a899-4549-fe8d-28713caf97b1"
      },
      "source": [
        "# Definimos una moneda\r\n",
        "moneda = pd.Series([0,1])\r\n",
        "moneda"
      ],
      "execution_count": 8,
      "outputs": [
        {
          "output_type": "execute_result",
          "data": {
            "text/plain": [
              "0    0\n",
              "1    1\n",
              "dtype: int64"
            ]
          },
          "metadata": {
            "tags": []
          },
          "execution_count": 8
        }
      ]
    },
    {
      "cell_type": "code",
      "metadata": {
        "colab": {
          "base_uri": "https://localhost:8080/"
        },
        "id": "Y8kyPWV3SwaT",
        "outputId": "f381ffb8-a3b5-4abe-d6ee-762836a6311b"
      },
      "source": [
        "# Ejemplo de tirada\r\n",
        "moneda.sample(10, replace=True).reset_index(drop=True)"
      ],
      "execution_count": 28,
      "outputs": [
        {
          "output_type": "execute_result",
          "data": {
            "text/plain": [
              "0    1\n",
              "1    0\n",
              "2    1\n",
              "3    1\n",
              "4    0\n",
              "5    1\n",
              "6    1\n",
              "7    0\n",
              "8    0\n",
              "9    0\n",
              "dtype: int64"
            ]
          },
          "metadata": {
            "tags": []
          },
          "execution_count": 28
        }
      ]
    },
    {
      "cell_type": "code",
      "metadata": {
        "id": "9kp8EoANSe_B"
      },
      "source": [
        "#Experimento\r\n",
        "# Primero generamos una variable donde guardaremos los valores de la correlación\r\n",
        "correlacion = []\r\n",
        "\r\n",
        "# Empezamos experimento \r\n",
        "for n_experimento in range(10000):\r\n",
        "  tirada_pepe = moneda.sample(10, replace=True).reset_index(drop=True)\r\n",
        "  tirada_carmen = moneda.sample(10, replace=True).reset_index(drop=True)\r\n",
        "  correlacion.append(tirada_pepe.corr(tirada_carmen))"
      ],
      "execution_count": 42,
      "outputs": []
    },
    {
      "cell_type": "code",
      "metadata": {
        "colab": {
          "base_uri": "https://localhost:8080/",
          "height": 265
        },
        "id": "Yq7h2nZfTi_5",
        "outputId": "f7899417-19b6-4cd4-b885-55887adde21d"
      },
      "source": [
        "# Visualizamos la distribución de correlación\r\n",
        "plt.hist(correlacion, bins=[-1, -0.5, 0, 0.5, 1])\r\n",
        "plt.show()"
      ],
      "execution_count": 35,
      "outputs": [
        {
          "output_type": "display_data",
          "data": {
            "image/png": "[encoded data removed]",
            "text/plain": [
              "<Figure size 432x288 with 1 Axes>"
            ]
          },
          "metadata": {
            "tags": [],
            "needs_background": "light"
          }
        }
      ]
    },
    {
      "cell_type": "code",
      "metadata": {
        "colab": {
          "base_uri": "https://localhost:8080/"
        },
        "id": "nZT8qXdQUuGS",
        "outputId": "c4f25650-c7f0-432f-ca45-30553f8cbaf6"
      },
      "source": [
        "(np.abs(correlacion)>=0.5).sum() / len(correlacion)"
      ],
      "execution_count": 41,
      "outputs": [
        {
          "output_type": "execute_result",
          "data": {
            "text/plain": [
              "0.1425"
            ]
          },
          "metadata": {
            "tags": []
          },
          "execution_count": 41
        }
      ]
    },
    {
      "cell_type": "markdown",
      "metadata": {
        "id": "qA9WQyk6VXlV"
      },
      "source": [
        "## 0202 Y si tiran la moneda 20 veces? y 100?\r\n",
        "La probabilidad de que el azar sea el causante de una correlación disminuye cuando el tamaño de la muestra es mayor (es decir, cuando tiran la moneda más veces)."
      ]
    },
    {
      "cell_type": "code",
      "metadata": {
        "id": "NoAbyEjLVrMC"
      },
      "source": [
        "# EXPERIMENTO\r\n",
        "# Inicializamos un dataframe para guardar los resultados\r\n",
        "df_resultados = pd.DataFrame()\r\n",
        "\r\n",
        "# Probamos para distintos números de veces que se tiran la moneda\r\n",
        "for n_tiradas in [5, 10, 20, 50, 100]:\r\n",
        "\r\n",
        "  # Primero generamos una variable donde guardaremos los valores de la correlación\r\n",
        "  correlacion = []\r\n",
        "\r\n",
        "  # Empezamos experimento \r\n",
        "  for n_experimento in range(10000):\r\n",
        "    tirada_pepe = moneda.sample(n_tiradas, replace=True).reset_index(drop=True)\r\n",
        "    tirada_carmen = moneda.sample(n_tiradas, replace=True).reset_index(drop=True)\r\n",
        "    correlacion.append(tirada_pepe.corr(tirada_carmen))\r\n",
        "  \r\n",
        "  # Guardamos el resultado en el dataframe\r\n",
        "  df_resultados[str(n_tiradas)+'_tiradas'] = correlacion"
      ],
      "execution_count": 52,
      "outputs": []
    },
    {
      "cell_type": "code",
      "metadata": {
        "colab": {
          "base_uri": "https://localhost:8080/",
          "height": 204
        },
        "id": "nsVwldlkW7DC",
        "outputId": "ceebdce9-24dd-4d12-c20d-b26611bf75c5"
      },
      "source": [
        "df_resultados.head()"
      ],
      "execution_count": 44,
      "outputs": [
        {
          "output_type": "execute_result",
          "data": {
            "text/html": [
              "<div>\n",
              "<style scoped>\n",
              "    .dataframe tbody tr th:only-of-type {\n",
              "        vertical-align: middle;\n",
              "    }\n",
              "\n",
              "    .dataframe tbody tr th {\n",
              "        vertical-align: top;\n",
              "    }\n",
              "\n",
              "    .dataframe thead th {\n",
              "        text-align: right;\n",
              "    }\n",
              "</style>\n",
              "<table border=\"1\" class=\"dataframe\">\n",
              "  <thead>\n",
              "    <tr style=\"text-align: right;\">\n",
              "      <th></th>\n",
              "      <th>5_tiradas</th>\n",
              "      <th>10_tiradas</th>\n",
              "      <th>15_tiradas</th>\n",
              "      <th>20_tiradas</th>\n",
              "      <th>100_tiradas</th>\n",
              "    </tr>\n",
              "  </thead>\n",
              "  <tbody>\n",
              "    <tr>\n",
              "      <th>0</th>\n",
              "      <td>0.166667</td>\n",
              "      <td>-0.200000</td>\n",
              "      <td>-0.071429</td>\n",
              "      <td>-0.204124</td>\n",
              "      <td>0.030303</td>\n",
              "    </tr>\n",
              "    <tr>\n",
              "      <th>1</th>\n",
              "      <td>NaN</td>\n",
              "      <td>-0.408248</td>\n",
              "      <td>-0.426401</td>\n",
              "      <td>-0.082061</td>\n",
              "      <td>-0.190912</td>\n",
              "    </tr>\n",
              "    <tr>\n",
              "      <th>2</th>\n",
              "      <td>0.166667</td>\n",
              "      <td>0.000000</td>\n",
              "      <td>0.288675</td>\n",
              "      <td>0.140028</td>\n",
              "      <td>0.120386</td>\n",
              "    </tr>\n",
              "    <tr>\n",
              "      <th>3</th>\n",
              "      <td>-0.166667</td>\n",
              "      <td>0.408248</td>\n",
              "      <td>0.363636</td>\n",
              "      <td>0.311805</td>\n",
              "      <td>-0.025552</td>\n",
              "    </tr>\n",
              "    <tr>\n",
              "      <th>4</th>\n",
              "      <td>-0.612372</td>\n",
              "      <td>0.218218</td>\n",
              "      <td>-0.196429</td>\n",
              "      <td>0.010101</td>\n",
              "      <td>0.166132</td>\n",
              "    </tr>\n",
              "  </tbody>\n",
              "</table>\n",
              "</div>"
            ],
            "text/plain": [
              "   5_tiradas  10_tiradas  15_tiradas  20_tiradas  100_tiradas\n",
              "0   0.166667   -0.200000   -0.071429   -0.204124     0.030303\n",
              "1        NaN   -0.408248   -0.426401   -0.082061    -0.190912\n",
              "2   0.166667    0.000000    0.288675    0.140028     0.120386\n",
              "3  -0.166667    0.408248    0.363636    0.311805    -0.025552\n",
              "4  -0.612372    0.218218   -0.196429    0.010101     0.166132"
            ]
          },
          "metadata": {
            "tags": []
          },
          "execution_count": 44
        }
      ]
    },
    {
      "cell_type": "code",
      "metadata": {
        "colab": {
          "base_uri": "https://localhost:8080/"
        },
        "id": "PMXMF9ALWvl0",
        "outputId": "c512d50d-0849-4fb9-8e74-8f559938cc04"
      },
      "source": [
        "filtro_interes = df_resultados.abs()>=0.5\r\n",
        "filtro_interes.sum()/len(df_resultados)"
      ],
      "execution_count": 51,
      "outputs": [
        {
          "output_type": "execute_result",
          "data": {
            "text/plain": [
              "5_tiradas      0.3353\n",
              "10_tiradas     0.1424\n",
              "15_tiradas     0.0444\n",
              "20_tiradas     0.0320\n",
              "100_tiradas    0.0000\n",
              "dtype: float64"
            ]
          },
          "metadata": {
            "tags": []
          },
          "execution_count": 51
        }
      ]
    },
    {
      "cell_type": "markdown",
      "metadata": {
        "id": "wtgK8sLwYlXi"
      },
      "source": [
        "# 03 Relación causal directa\r\n",
        "No hay métodos estadísticos que nos permitan saber si la relación entre dos variables es causal. Sólo conocimiento sobre el sistema que genera los datos nos permitirá hacer este tipo de juicios.\r\n",
        "\r\n",
        "Lo que sí podemos calcular es la fortaleza de la asociación entre las variables, como hemos visto en el [notebook de análisis bivariantes](https://colab.research.google.com/github/JotaBlanco/TheValley/blob/main/Notebooks/03-analisis-univariante-causal-multivariante/03_B___Analisis_multivariante.ipynb)."
      ]
    },
    {
      "cell_type": "code",
      "metadata": {
        "id": "RaNLY0vEZ1U5"
      },
      "source": [
        ""
      ],
      "execution_count": null,
      "outputs": []
    }
  ]
}