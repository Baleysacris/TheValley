{
  "nbformat": 4,
  "nbformat_minor": 0,
  "metadata": {
    "colab": {
      "name": "03A | Repaso I sobre Árboles Decisión.ipynb",
      "provenance": [],
      "toc_visible": true,
      "authorship_tag": "ABX9TyNA52b7cHmO9svoY4QULDl/",
      "include_colab_link": true
    },
    "kernelspec": {
      "name": "python3",
      "display_name": "Python 3"
    }
  },
  "cells": [
    {
      "cell_type": "markdown",
      "metadata": {
        "id": "view-in-github",
        "colab_type": "text"
      },
      "source": [
        "<a href=\"https://colab.research.google.com/github/JotaBlanco/TheValley/blob/main/Arboles/Clase_03_Arboles/03A_sin_resolver_%7C_Repaso_I_sobre_%C3%81rboles_Decisi%C3%B3n.ipynb\" target=\"_parent\"><img src=\"https://colab.research.google.com/assets/colab-badge.svg\" alt=\"Open In Colab\"/></a>"
      ]
    },
    {
      "cell_type": "markdown",
      "metadata": {
        "id": "R53FGLN8jo1L"
      },
      "source": [
        "# 01 REPASO I: Árboles de Decisión\n",
        "Repaso sobre cómo utilizar árboles de decisión.\n",
        "\n",
        "Notebook por [Javier Blanco Cordero](https://www.linkedin.com/in/javier-blanco-cordero-71373656/).\n",
        "\n",
        "### Enlaces de interés\n",
        "*   [Slides de presentación](https://docs.google.com/presentation/d/1jRg7Dk2y_2_fxnC_Jpj5aWcqgW9t1KAd7izdmWzv9Sk/edit?usp=sharing)\n",
        "*   [Enlace a este notebook ya resuelto](https://colab.research.google.com/github/JotaBlanco/TheValley/blob/main/Arboles/Clase_03_Arboles/03A_%7C_Repaso_I_sobre_%C3%81rboles_Decisi%C3%B3n.ipynb)\n",
        "\n",
        "\n"
      ]
    },
    {
      "cell_type": "markdown",
      "metadata": {
        "id": "LSuEDXhPLi8u"
      },
      "source": [
        "## 0101 Qué es un árbol de decisión?\n",
        "Un tipo de algoritmo de aprendizaje supervisado que se basa en realizar particiones recursivas a partir de distintos niveles de las variables disponibles."
      ]
    },
    {
      "cell_type": "markdown",
      "metadata": {
        "id": "cnHRaho3rsXS"
      },
      "source": [
        "## 0102 Import\n",
        "Importamos todas las librerías necesarias para este análisis ([¿No sabes lo que es una librería de Python?](https://www.quora.com/What-is-a-Python-library-and-what-can-I-use-it-for)): pandas, numpy, seaborn, matplotlib."
      ]
    },
    {
      "cell_type": "code",
      "metadata": {
        "id": "4be6xiUqjPHI"
      },
      "source": [
        "import pandas as pd\n",
        "import numpy as np\n",
        "import matplotlib.pyplot as plt\n",
        "import seaborn as sns"
      ],
      "execution_count": 1,
      "outputs": []
    },
    {
      "cell_type": "markdown",
      "metadata": {
        "id": "AblkT14d4Gvt"
      },
      "source": [
        "## 0103 Carga el dataset del Titanic\n",
        "Recordais el dataset del Titanic?\n",
        "\n",
        "Vamos a hacer un árbol de decisión que prediga si alguien fallece o no. Este mismo ejemplo lo resolvisteis en el [notebook 1A](https://colab.research.google.com/github/JotaBlanco/TheValley/blob/main/Arboles/Clase_01_Arboles/01_A_%C3%81rboles_Decisi%C3%B3n_Clasificaci%C3%B3n_Resuelto.ipynb#scrollTo=V66-xgckYMQs).\n",
        "\n",
        "Para ello utilizaremos un dataset previamente transformado, ya listo para entrenar un árbol. Puedes encontrarlo en mi github. Este es el link al archivo raw: https://raw.githubusercontent.com/JotaBlanco/TheValley/main/Data/Titanic_Limpio.csv.\n",
        "\n",
        "Importa los datos en un dataframe llamado **dataframe df_titanic**."
      ]
    },
    {
      "cell_type": "code",
      "metadata": {
        "id": "GMZACcIXOclu",
        "outputId": "e0b2f9f7-2849-4748-abd7-09f4c5cada20",
        "colab": {
          "base_uri": "https://localhost:8080/",
          "height": 204
        }
      },
      "source": [
        "# Url archivo raw\n",
        "url = 'https://raw.githubusercontent.com/JotaBlanco/TheValley/main/Data/Titanic_Limpio.csv'\n",
        "\n",
        "# Importa csv\n",
        "df_titanic = pd.read_csv(url)\n",
        "\n",
        "# Visualización primeras filas\n",
        "df_titanic.head()"
      ],
      "execution_count": 2,
      "outputs": [
        {
          "output_type": "execute_result",
          "data": {
            "text/html": [
              "<div>\n",
              "<style scoped>\n",
              "    .dataframe tbody tr th:only-of-type {\n",
              "        vertical-align: middle;\n",
              "    }\n",
              "\n",
              "    .dataframe tbody tr th {\n",
              "        vertical-align: top;\n",
              "    }\n",
              "\n",
              "    .dataframe thead th {\n",
              "        text-align: right;\n",
              "    }\n",
              "</style>\n",
              "<table border=\"1\" class=\"dataframe\">\n",
              "  <thead>\n",
              "    <tr style=\"text-align: right;\">\n",
              "      <th></th>\n",
              "      <th>Survived</th>\n",
              "      <th>Pclass</th>\n",
              "      <th>Sex</th>\n",
              "      <th>SibSp</th>\n",
              "      <th>Parch</th>\n",
              "      <th>Fare</th>\n",
              "      <th>Age</th>\n",
              "      <th>Embarked_C</th>\n",
              "      <th>Embarked_Q</th>\n",
              "      <th>Embarked_S</th>\n",
              "    </tr>\n",
              "  </thead>\n",
              "  <tbody>\n",
              "    <tr>\n",
              "      <th>0</th>\n",
              "      <td>0</td>\n",
              "      <td>3</td>\n",
              "      <td>1</td>\n",
              "      <td>1</td>\n",
              "      <td>0</td>\n",
              "      <td>7.2500</td>\n",
              "      <td>22.0</td>\n",
              "      <td>0</td>\n",
              "      <td>0</td>\n",
              "      <td>1</td>\n",
              "    </tr>\n",
              "    <tr>\n",
              "      <th>1</th>\n",
              "      <td>1</td>\n",
              "      <td>1</td>\n",
              "      <td>0</td>\n",
              "      <td>1</td>\n",
              "      <td>0</td>\n",
              "      <td>71.2833</td>\n",
              "      <td>38.0</td>\n",
              "      <td>1</td>\n",
              "      <td>0</td>\n",
              "      <td>0</td>\n",
              "    </tr>\n",
              "    <tr>\n",
              "      <th>2</th>\n",
              "      <td>1</td>\n",
              "      <td>3</td>\n",
              "      <td>0</td>\n",
              "      <td>0</td>\n",
              "      <td>0</td>\n",
              "      <td>7.9250</td>\n",
              "      <td>26.0</td>\n",
              "      <td>0</td>\n",
              "      <td>0</td>\n",
              "      <td>1</td>\n",
              "    </tr>\n",
              "    <tr>\n",
              "      <th>3</th>\n",
              "      <td>1</td>\n",
              "      <td>1</td>\n",
              "      <td>0</td>\n",
              "      <td>1</td>\n",
              "      <td>0</td>\n",
              "      <td>53.1000</td>\n",
              "      <td>35.0</td>\n",
              "      <td>0</td>\n",
              "      <td>0</td>\n",
              "      <td>1</td>\n",
              "    </tr>\n",
              "    <tr>\n",
              "      <th>4</th>\n",
              "      <td>0</td>\n",
              "      <td>3</td>\n",
              "      <td>1</td>\n",
              "      <td>0</td>\n",
              "      <td>0</td>\n",
              "      <td>8.0500</td>\n",
              "      <td>35.0</td>\n",
              "      <td>0</td>\n",
              "      <td>0</td>\n",
              "      <td>1</td>\n",
              "    </tr>\n",
              "  </tbody>\n",
              "</table>\n",
              "</div>"
            ],
            "text/plain": [
              "   Survived  Pclass  Sex  SibSp  ...   Age  Embarked_C  Embarked_Q  Embarked_S\n",
              "0         0       3    1      1  ...  22.0           0           0           1\n",
              "1         1       1    0      1  ...  38.0           1           0           0\n",
              "2         1       3    0      0  ...  26.0           0           0           1\n",
              "3         1       1    0      1  ...  35.0           0           0           1\n",
              "4         0       3    1      0  ...  35.0           0           0           1\n",
              "\n",
              "[5 rows x 10 columns]"
            ]
          },
          "metadata": {
            "tags": []
          },
          "execution_count": 2
        }
      ]
    },
    {
      "cell_type": "markdown",
      "metadata": {
        "id": "KBOQJ0AjdYrM"
      },
      "source": [
        "# 02 EDA\n",
        "Realizaremos un pequeño análisis exploratorio visual para familiarizarnos con el dataset. \n",
        "\n",
        "Recuerda que puedes encontrar mis clases sobre análisis exploratorio [aquí](https://github.com/JotaBlanco/TheValley/tree/main/EDA/)."
      ]
    },
    {
      "cell_type": "code",
      "metadata": {
        "id": "qGrwhGyaj0-a",
        "outputId": "18cdbe2d-ef73-4fe4-cf2b-2b9af65d9423",
        "colab": {
          "base_uri": "https://localhost:8080/"
        }
      },
      "source": [
        "df_titanic.info()"
      ],
      "execution_count": 3,
      "outputs": [
        {
          "output_type": "stream",
          "text": [
            "<class 'pandas.core.frame.DataFrame'>\n",
            "RangeIndex: 889 entries, 0 to 888\n",
            "Data columns (total 10 columns):\n",
            " #   Column      Non-Null Count  Dtype  \n",
            "---  ------      --------------  -----  \n",
            " 0   Survived    889 non-null    int64  \n",
            " 1   Pclass      889 non-null    int64  \n",
            " 2   Sex         889 non-null    int64  \n",
            " 3   SibSp       889 non-null    int64  \n",
            " 4   Parch       889 non-null    int64  \n",
            " 5   Fare        889 non-null    float64\n",
            " 6   Age         889 non-null    float64\n",
            " 7   Embarked_C  889 non-null    int64  \n",
            " 8   Embarked_Q  889 non-null    int64  \n",
            " 9   Embarked_S  889 non-null    int64  \n",
            "dtypes: float64(2), int64(8)\n",
            "memory usage: 69.6 KB\n"
          ],
          "name": "stdout"
        }
      ]
    },
    {
      "cell_type": "code",
      "metadata": {
        "id": "8LoZpl8rjWEX",
        "outputId": "98e15ddc-9182-4061-c7a5-4ad7979bc7b3",
        "colab": {
          "base_uri": "https://localhost:8080/",
          "height": 297
        }
      },
      "source": [
        "df_titanic.describe()"
      ],
      "execution_count": 4,
      "outputs": [
        {
          "output_type": "execute_result",
          "data": {
            "text/html": [
              "<div>\n",
              "<style scoped>\n",
              "    .dataframe tbody tr th:only-of-type {\n",
              "        vertical-align: middle;\n",
              "    }\n",
              "\n",
              "    .dataframe tbody tr th {\n",
              "        vertical-align: top;\n",
              "    }\n",
              "\n",
              "    .dataframe thead th {\n",
              "        text-align: right;\n",
              "    }\n",
              "</style>\n",
              "<table border=\"1\" class=\"dataframe\">\n",
              "  <thead>\n",
              "    <tr style=\"text-align: right;\">\n",
              "      <th></th>\n",
              "      <th>Survived</th>\n",
              "      <th>Pclass</th>\n",
              "      <th>Sex</th>\n",
              "      <th>SibSp</th>\n",
              "      <th>Parch</th>\n",
              "      <th>Fare</th>\n",
              "      <th>Age</th>\n",
              "      <th>Embarked_C</th>\n",
              "      <th>Embarked_Q</th>\n",
              "      <th>Embarked_S</th>\n",
              "    </tr>\n",
              "  </thead>\n",
              "  <tbody>\n",
              "    <tr>\n",
              "      <th>count</th>\n",
              "      <td>889.000000</td>\n",
              "      <td>889.000000</td>\n",
              "      <td>889.000000</td>\n",
              "      <td>889.000000</td>\n",
              "      <td>889.000000</td>\n",
              "      <td>889.000000</td>\n",
              "      <td>889.000000</td>\n",
              "      <td>889.000000</td>\n",
              "      <td>889.000000</td>\n",
              "      <td>889.000000</td>\n",
              "    </tr>\n",
              "    <tr>\n",
              "      <th>mean</th>\n",
              "      <td>0.382452</td>\n",
              "      <td>2.311586</td>\n",
              "      <td>0.649044</td>\n",
              "      <td>0.524184</td>\n",
              "      <td>0.382452</td>\n",
              "      <td>32.096681</td>\n",
              "      <td>29.343836</td>\n",
              "      <td>0.188976</td>\n",
              "      <td>0.086614</td>\n",
              "      <td>0.724409</td>\n",
              "    </tr>\n",
              "    <tr>\n",
              "      <th>std</th>\n",
              "      <td>0.486260</td>\n",
              "      <td>0.834700</td>\n",
              "      <td>0.477538</td>\n",
              "      <td>1.103705</td>\n",
              "      <td>0.806761</td>\n",
              "      <td>49.697504</td>\n",
              "      <td>13.231853</td>\n",
              "      <td>0.391710</td>\n",
              "      <td>0.281427</td>\n",
              "      <td>0.447063</td>\n",
              "    </tr>\n",
              "    <tr>\n",
              "      <th>min</th>\n",
              "      <td>0.000000</td>\n",
              "      <td>1.000000</td>\n",
              "      <td>0.000000</td>\n",
              "      <td>0.000000</td>\n",
              "      <td>0.000000</td>\n",
              "      <td>0.000000</td>\n",
              "      <td>0.420000</td>\n",
              "      <td>0.000000</td>\n",
              "      <td>0.000000</td>\n",
              "      <td>0.000000</td>\n",
              "    </tr>\n",
              "    <tr>\n",
              "      <th>25%</th>\n",
              "      <td>0.000000</td>\n",
              "      <td>2.000000</td>\n",
              "      <td>0.000000</td>\n",
              "      <td>0.000000</td>\n",
              "      <td>0.000000</td>\n",
              "      <td>7.895800</td>\n",
              "      <td>21.000000</td>\n",
              "      <td>0.000000</td>\n",
              "      <td>0.000000</td>\n",
              "      <td>0.000000</td>\n",
              "    </tr>\n",
              "    <tr>\n",
              "      <th>50%</th>\n",
              "      <td>0.000000</td>\n",
              "      <td>3.000000</td>\n",
              "      <td>1.000000</td>\n",
              "      <td>0.000000</td>\n",
              "      <td>0.000000</td>\n",
              "      <td>14.454200</td>\n",
              "      <td>30.000000</td>\n",
              "      <td>0.000000</td>\n",
              "      <td>0.000000</td>\n",
              "      <td>1.000000</td>\n",
              "    </tr>\n",
              "    <tr>\n",
              "      <th>75%</th>\n",
              "      <td>1.000000</td>\n",
              "      <td>3.000000</td>\n",
              "      <td>1.000000</td>\n",
              "      <td>1.000000</td>\n",
              "      <td>0.000000</td>\n",
              "      <td>31.000000</td>\n",
              "      <td>35.000000</td>\n",
              "      <td>0.000000</td>\n",
              "      <td>0.000000</td>\n",
              "      <td>1.000000</td>\n",
              "    </tr>\n",
              "    <tr>\n",
              "      <th>max</th>\n",
              "      <td>1.000000</td>\n",
              "      <td>3.000000</td>\n",
              "      <td>1.000000</td>\n",
              "      <td>8.000000</td>\n",
              "      <td>6.000000</td>\n",
              "      <td>512.329200</td>\n",
              "      <td>80.000000</td>\n",
              "      <td>1.000000</td>\n",
              "      <td>1.000000</td>\n",
              "      <td>1.000000</td>\n",
              "    </tr>\n",
              "  </tbody>\n",
              "</table>\n",
              "</div>"
            ],
            "text/plain": [
              "         Survived      Pclass         Sex  ...  Embarked_C  Embarked_Q  Embarked_S\n",
              "count  889.000000  889.000000  889.000000  ...  889.000000  889.000000  889.000000\n",
              "mean     0.382452    2.311586    0.649044  ...    0.188976    0.086614    0.724409\n",
              "std      0.486260    0.834700    0.477538  ...    0.391710    0.281427    0.447063\n",
              "min      0.000000    1.000000    0.000000  ...    0.000000    0.000000    0.000000\n",
              "25%      0.000000    2.000000    0.000000  ...    0.000000    0.000000    0.000000\n",
              "50%      0.000000    3.000000    1.000000  ...    0.000000    0.000000    1.000000\n",
              "75%      1.000000    3.000000    1.000000  ...    0.000000    0.000000    1.000000\n",
              "max      1.000000    3.000000    1.000000  ...    1.000000    1.000000    1.000000\n",
              "\n",
              "[8 rows x 10 columns]"
            ]
          },
          "metadata": {
            "tags": []
          },
          "execution_count": 4
        }
      ]
    },
    {
      "cell_type": "code",
      "metadata": {
        "id": "YUz-qSwBjaEW",
        "outputId": "53ca68a5-db7a-4d7b-8537-cac4fcf7ebf6",
        "colab": {
          "base_uri": "https://localhost:8080/",
          "height": 485
        }
      },
      "source": [
        "# Visualización coeficientes Pearson\n",
        "plt.figure(figsize=(8,7))\n",
        "sns.heatmap(np.round(df_titanic.corr(),2), \n",
        "            vmin=-1, vmax=1, \n",
        "            annot=True, cmap=\"coolwarm\")\n",
        "plt.show()"
      ],
      "execution_count": 5,
      "outputs": [
        {
          "output_type": "display_data",
          "data": {
            "image/png": "[encoded data removed]",
            "text/plain": [
              "<Figure size 576x504 with 2 Axes>"
            ]
          },
          "metadata": {
            "tags": [],
            "needs_background": "light"
          }
        }
      ]
    },
    {
      "cell_type": "markdown",
      "metadata": {
        "id": "sRO6wMepPOJj"
      },
      "source": [
        "# 03 Construcción árbol de decisión con scikit learn\n",
        "Construcción de un árbol de decisión utilizando la librería [scikit learn](https://scikit-learn.org/stable/), la libería básica de referencia para machine learning."
      ]
    },
    {
      "cell_type": "markdown",
      "metadata": {
        "id": "SXSNgNJrsdva"
      },
      "source": [
        "## 0301 Importamos las librerías"
      ]
    },
    {
      "cell_type": "code",
      "metadata": {
        "id": "dpc44ulgPFkN"
      },
      "source": [
        "# Nos importamos las funciones de árboles de scikit learn\n",
        "from sklearn import tree"
      ],
      "execution_count": 6,
      "outputs": []
    },
    {
      "cell_type": "markdown",
      "metadata": {
        "id": "H9WKeVmAv89P"
      },
      "source": [
        "## 0302 Inicializamos el árbol\n",
        "Definiendo las características que tendrá.\n",
        "\n",
        "https://scikit-learn.org/stable/modules/generated/sklearn.tree.DecisionTreeClassifier.html#sklearn.tree.DecisionTreeClassifier"
      ]
    },
    {
      "cell_type": "code",
      "metadata": {
        "id": "c_yzGJ-UP6wq",
        "outputId": "4e9e3a4c-1410-45c3-9af0-88cbf1b0d742",
        "colab": {
          "base_uri": "https://localhost:8080/"
        }
      },
      "source": [
        "# Inicializamos un árbol. Por ahora está vacío. \n",
        "# Solo definimos cómo queremos que sea en cuanto a su estructura y condiciones de entrenamiento\n",
        "arbol = tree.DecisionTreeClassifier(max_depth=3)\n",
        "arbol"
      ],
      "execution_count": 7,
      "outputs": [
        {
          "output_type": "execute_result",
          "data": {
            "text/plain": [
              "DecisionTreeClassifier(ccp_alpha=0.0, class_weight=None, criterion='gini',\n",
              "                       max_depth=3, max_features=None, max_leaf_nodes=None,\n",
              "                       min_impurity_decrease=0.0, min_impurity_split=None,\n",
              "                       min_samples_leaf=1, min_samples_split=2,\n",
              "                       min_weight_fraction_leaf=0.0, presort='deprecated',\n",
              "                       random_state=None, splitter='best')"
            ]
          },
          "metadata": {
            "tags": []
          },
          "execution_count": 7
        }
      ]
    },
    {
      "cell_type": "code",
      "metadata": {
        "id": "WrElikbp8xn7",
        "outputId": "56a9fddc-a756-4ccf-88d5-1e2be4715833",
        "colab": {
          "base_uri": "https://localhost:8080/"
        }
      },
      "source": [
        "# Recuerda que si éste fuera un problema de regresión\n",
        "# inicializaríamos el modelo como:\n",
        "arbol_2 = tree.DecisionTreeRegressor(max_depth=3)\n",
        "arbol_2"
      ],
      "execution_count": 8,
      "outputs": [
        {
          "output_type": "execute_result",
          "data": {
            "text/plain": [
              "DecisionTreeRegressor(ccp_alpha=0.0, criterion='mse', max_depth=3,\n",
              "                      max_features=None, max_leaf_nodes=None,\n",
              "                      min_impurity_decrease=0.0, min_impurity_split=None,\n",
              "                      min_samples_leaf=1, min_samples_split=2,\n",
              "                      min_weight_fraction_leaf=0.0, presort='deprecated',\n",
              "                      random_state=None, splitter='best')"
            ]
          },
          "metadata": {
            "tags": []
          },
          "execution_count": 8
        }
      ]
    },
    {
      "cell_type": "markdown",
      "metadata": {
        "id": "1_Q84Q2GJjDC"
      },
      "source": [
        "## 0303 Entrenamos el modelo\n",
        "Una vez inicializado y definido el árbol, el método .[fit()](https://scikit-learn.org/stable/modules/generated/sklearn.tree.DecisionTreeClassifier.html#sklearn.tree.DecisionTreeClassifier.fit) realiza el proceso de particionado recursivo que hemos hecho nosotros antes a mano."
      ]
    },
    {
      "cell_type": "code",
      "metadata": {
        "id": "CyCe77iWLfHd",
        "outputId": "8890d822-ec68-4ddf-ca68-eee058c12ff0",
        "colab": {
          "base_uri": "https://localhost:8080/",
          "height": 204
        }
      },
      "source": [
        "df_titanic.head()"
      ],
      "execution_count": 9,
      "outputs": [
        {
          "output_type": "execute_result",
          "data": {
            "text/html": [
              "<div>\n",
              "<style scoped>\n",
              "    .dataframe tbody tr th:only-of-type {\n",
              "        vertical-align: middle;\n",
              "    }\n",
              "\n",
              "    .dataframe tbody tr th {\n",
              "        vertical-align: top;\n",
              "    }\n",
              "\n",
              "    .dataframe thead th {\n",
              "        text-align: right;\n",
              "    }\n",
              "</style>\n",
              "<table border=\"1\" class=\"dataframe\">\n",
              "  <thead>\n",
              "    <tr style=\"text-align: right;\">\n",
              "      <th></th>\n",
              "      <th>Survived</th>\n",
              "      <th>Pclass</th>\n",
              "      <th>Sex</th>\n",
              "      <th>SibSp</th>\n",
              "      <th>Parch</th>\n",
              "      <th>Fare</th>\n",
              "      <th>Age</th>\n",
              "      <th>Embarked_C</th>\n",
              "      <th>Embarked_Q</th>\n",
              "      <th>Embarked_S</th>\n",
              "    </tr>\n",
              "  </thead>\n",
              "  <tbody>\n",
              "    <tr>\n",
              "      <th>0</th>\n",
              "      <td>0</td>\n",
              "      <td>3</td>\n",
              "      <td>1</td>\n",
              "      <td>1</td>\n",
              "      <td>0</td>\n",
              "      <td>7.2500</td>\n",
              "      <td>22.0</td>\n",
              "      <td>0</td>\n",
              "      <td>0</td>\n",
              "      <td>1</td>\n",
              "    </tr>\n",
              "    <tr>\n",
              "      <th>1</th>\n",
              "      <td>1</td>\n",
              "      <td>1</td>\n",
              "      <td>0</td>\n",
              "      <td>1</td>\n",
              "      <td>0</td>\n",
              "      <td>71.2833</td>\n",
              "      <td>38.0</td>\n",
              "      <td>1</td>\n",
              "      <td>0</td>\n",
              "      <td>0</td>\n",
              "    </tr>\n",
              "    <tr>\n",
              "      <th>2</th>\n",
              "      <td>1</td>\n",
              "      <td>3</td>\n",
              "      <td>0</td>\n",
              "      <td>0</td>\n",
              "      <td>0</td>\n",
              "      <td>7.9250</td>\n",
              "      <td>26.0</td>\n",
              "      <td>0</td>\n",
              "      <td>0</td>\n",
              "      <td>1</td>\n",
              "    </tr>\n",
              "    <tr>\n",
              "      <th>3</th>\n",
              "      <td>1</td>\n",
              "      <td>1</td>\n",
              "      <td>0</td>\n",
              "      <td>1</td>\n",
              "      <td>0</td>\n",
              "      <td>53.1000</td>\n",
              "      <td>35.0</td>\n",
              "      <td>0</td>\n",
              "      <td>0</td>\n",
              "      <td>1</td>\n",
              "    </tr>\n",
              "    <tr>\n",
              "      <th>4</th>\n",
              "      <td>0</td>\n",
              "      <td>3</td>\n",
              "      <td>1</td>\n",
              "      <td>0</td>\n",
              "      <td>0</td>\n",
              "      <td>8.0500</td>\n",
              "      <td>35.0</td>\n",
              "      <td>0</td>\n",
              "      <td>0</td>\n",
              "      <td>1</td>\n",
              "    </tr>\n",
              "  </tbody>\n",
              "</table>\n",
              "</div>"
            ],
            "text/plain": [
              "   Survived  Pclass  Sex  SibSp  ...   Age  Embarked_C  Embarked_Q  Embarked_S\n",
              "0         0       3    1      1  ...  22.0           0           0           1\n",
              "1         1       1    0      1  ...  38.0           1           0           0\n",
              "2         1       3    0      0  ...  26.0           0           0           1\n",
              "3         1       1    0      1  ...  35.0           0           0           1\n",
              "4         0       3    1      0  ...  35.0           0           0           1\n",
              "\n",
              "[5 rows x 10 columns]"
            ]
          },
          "metadata": {
            "tags": []
          },
          "execution_count": 9
        }
      ]
    },
    {
      "cell_type": "code",
      "metadata": {
        "id": "ZICiTCnMLigb",
        "outputId": "f741f3ee-595e-47de-8840-1dc1d1bba7af",
        "colab": {
          "base_uri": "https://localhost:8080/"
        }
      },
      "source": [
        "df_titanic.columns"
      ],
      "execution_count": 10,
      "outputs": [
        {
          "output_type": "execute_result",
          "data": {
            "text/plain": [
              "Index(['Survived', 'Pclass', 'Sex', 'SibSp', 'Parch', 'Fare', 'Age',\n",
              "       'Embarked_C', 'Embarked_Q', 'Embarked_S'],\n",
              "      dtype='object')"
            ]
          },
          "metadata": {
            "tags": []
          },
          "execution_count": 10
        }
      ]
    },
    {
      "cell_type": "code",
      "metadata": {
        "id": "QzlRebscRxCe",
        "outputId": "bec2c836-55ca-4837-b50e-7f8e653da42b",
        "colab": {
          "base_uri": "https://localhost:8080/"
        }
      },
      "source": [
        "# Entrenamos el árbol inicializado a partir de los datos que le pasemos con .fit()\n",
        "cols = ['Pclass', 'Sex', 'SibSp', 'Parch', 'Fare', 'Age', 'Embarked_C', 'Embarked_Q', 'Embarked_S']\n",
        "arbol = arbol.fit(X = df_titanic[cols],  # vars descriptivas\n",
        "                  y = df_titanic['Survived'])                  # var objetico\n",
        "arbol"
      ],
      "execution_count": 11,
      "outputs": [
        {
          "output_type": "execute_result",
          "data": {
            "text/plain": [
              "DecisionTreeClassifier(ccp_alpha=0.0, class_weight=None, criterion='gini',\n",
              "                       max_depth=3, max_features=None, max_leaf_nodes=None,\n",
              "                       min_impurity_decrease=0.0, min_impurity_split=None,\n",
              "                       min_samples_leaf=1, min_samples_split=2,\n",
              "                       min_weight_fraction_leaf=0.0, presort='deprecated',\n",
              "                       random_state=None, splitter='best')"
            ]
          },
          "metadata": {
            "tags": []
          },
          "execution_count": 11
        }
      ]
    },
    {
      "cell_type": "markdown",
      "metadata": {
        "id": "akjuRe9yLQ8R"
      },
      "source": [
        "##0304 Visualizamos el modelo\n",
        "Una vez entrenado el modelo, podemos visualizarlo."
      ]
    },
    {
      "cell_type": "code",
      "metadata": {
        "id": "23xmBvxkRFsq",
        "outputId": "78f3038f-cc6d-401d-e093-38cae9f9e831",
        "colab": {
          "base_uri": "https://localhost:8080/"
        }
      },
      "source": [
        "# Con el método export_text en un print()\n",
        "esquema_print = tree.export_text(arbol, \n",
        "                                 feature_names=cols)\n",
        "print(esquema_print)"
      ],
      "execution_count": 12,
      "outputs": [
        {
          "output_type": "stream",
          "text": [
            "|--- Sex <= 0.50\n",
            "|   |--- Pclass <= 2.50\n",
            "|   |   |--- Age <= 2.50\n",
            "|   |   |   |--- class: 0\n",
            "|   |   |--- Age >  2.50\n",
            "|   |   |   |--- class: 1\n",
            "|   |--- Pclass >  2.50\n",
            "|   |   |--- Fare <= 23.35\n",
            "|   |   |   |--- class: 1\n",
            "|   |   |--- Fare >  23.35\n",
            "|   |   |   |--- class: 0\n",
            "|--- Sex >  0.50\n",
            "|   |--- Age <= 13.00\n",
            "|   |   |--- SibSp <= 2.50\n",
            "|   |   |   |--- class: 1\n",
            "|   |   |--- SibSp >  2.50\n",
            "|   |   |   |--- class: 0\n",
            "|   |--- Age >  13.00\n",
            "|   |   |--- Fare <= 26.27\n",
            "|   |   |   |--- class: 0\n",
            "|   |   |--- Fare >  26.27\n",
            "|   |   |   |--- class: 0\n",
            "\n"
          ],
          "name": "stdout"
        }
      ]
    },
    {
      "cell_type": "code",
      "metadata": {
        "id": "mcJgYPAMQSNG",
        "outputId": "53c1f722-a283-4ba7-f20c-4f5cafea52e2",
        "colab": {
          "base_uri": "https://localhost:8080/",
          "height": 538
        }
      },
      "source": [
        "# O con la librería graphviz\n",
        "import graphviz \n",
        "\n",
        "# Export_graphviz\n",
        "dot_data = tree.export_graphviz(arbol, \n",
        "                                out_file=None, \n",
        "                                feature_names=cols) \n",
        "graph = graphviz.Source(dot_data) \n",
        "graph"
      ],
      "execution_count": 13,
      "outputs": [
        {
          "output_type": "execute_result",
          "data": {
            "text/plain": [
              "<graphviz.files.Source at 0x7f5b91fe86d0>"
            ],
            "image/svg+xml": "<?xml version=\"1.0\" encoding=\"UTF-8\" standalone=\"no\"?>\n<!DOCTYPE svg PUBLIC \"-//W3C//DTD SVG 1.1//EN\"\n \"http://www.w3.org/Graphics/SVG/1.1/DTD/svg11.dtd\">\n<!-- Generated by graphviz version 2.40.1 (20161225.0304)\n -->\n<!-- Title: Tree Pages: 1 -->\n<svg width=\"984pt\" height=\"373pt\"\n viewBox=\"0.00 0.00 983.50 373.00\" xmlns=\"http://www.w3.org/2000/svg\" xmlns:xlink=\"http://www.w3.org/1999/xlink\">\n<g id=\"graph0\" class=\"graph\" transform=\"scale(1 1) rotate(0) translate(4 369)\">\n<title>Tree</title>\n<polygon fill=\"#ffffff\" stroke=\"transparent\" points=\"-4,4 -4,-369 979.5,-369 979.5,4 -4,4\"/>\n<!-- 0 -->\n<g id=\"node1\" class=\"node\">\n<title>0</title>\n<polygon fill=\"none\" stroke=\"#000000\" points=\"533,-365 408,-365 408,-297 533,-297 533,-365\"/>\n<text text-anchor=\"middle\" x=\"470.5\" y=\"-349.8\" font-family=\"Times,serif\" font-size=\"14.00\" fill=\"#000000\">Sex &lt;= 0.5</text>\n<text text-anchor=\"middle\" x=\"470.5\" y=\"-334.8\" font-family=\"Times,serif\" font-size=\"14.00\" fill=\"#000000\">gini = 0.472</text>\n<text text-anchor=\"middle\" x=\"470.5\" y=\"-319.8\" font-family=\"Times,serif\" font-size=\"14.00\" fill=\"#000000\">samples = 889</text>\n<text text-anchor=\"middle\" x=\"470.5\" y=\"-304.8\" font-family=\"Times,serif\" font-size=\"14.00\" fill=\"#000000\">value = [549, 340]</text>\n</g>\n<!-- 1 -->\n<g id=\"node2\" class=\"node\">\n<title>1</title>\n<polygon fill=\"none\" stroke=\"#000000\" points=\"407,-261 290,-261 290,-193 407,-193 407,-261\"/>\n<text text-anchor=\"middle\" x=\"348.5\" y=\"-245.8\" font-family=\"Times,serif\" font-size=\"14.00\" fill=\"#000000\">Pclass &lt;= 2.5</text>\n<text text-anchor=\"middle\" x=\"348.5\" y=\"-230.8\" font-family=\"Times,serif\" font-size=\"14.00\" fill=\"#000000\">gini = 0.384</text>\n<text text-anchor=\"middle\" x=\"348.5\" y=\"-215.8\" font-family=\"Times,serif\" font-size=\"14.00\" fill=\"#000000\">samples = 312</text>\n<text text-anchor=\"middle\" x=\"348.5\" y=\"-200.8\" font-family=\"Times,serif\" font-size=\"14.00\" fill=\"#000000\">value = [81, 231]</text>\n</g>\n<!-- 0&#45;&gt;1 -->\n<g id=\"edge1\" class=\"edge\">\n<title>0&#45;&gt;1</title>\n<path fill=\"none\" stroke=\"#000000\" d=\"M430.5526,-296.9465C419.5988,-287.6088 407.6127,-277.3911 396.268,-267.7203\"/>\n<polygon fill=\"#000000\" stroke=\"#000000\" points=\"398.4179,-264.9538 388.5371,-261.13 393.8767,-270.2809 398.4179,-264.9538\"/>\n<text text-anchor=\"middle\" x=\"390.522\" y=\"-282.3511\" font-family=\"Times,serif\" font-size=\"14.00\" fill=\"#000000\">True</text>\n</g>\n<!-- 8 -->\n<g id=\"node9\" class=\"node\">\n<title>8</title>\n<polygon fill=\"none\" stroke=\"#000000\" points=\"661,-261 536,-261 536,-193 661,-193 661,-261\"/>\n<text text-anchor=\"middle\" x=\"598.5\" y=\"-245.8\" font-family=\"Times,serif\" font-size=\"14.00\" fill=\"#000000\">Age &lt;= 13.0</text>\n<text text-anchor=\"middle\" x=\"598.5\" y=\"-230.8\" font-family=\"Times,serif\" font-size=\"14.00\" fill=\"#000000\">gini = 0.306</text>\n<text text-anchor=\"middle\" x=\"598.5\" y=\"-215.8\" font-family=\"Times,serif\" font-size=\"14.00\" fill=\"#000000\">samples = 577</text>\n<text text-anchor=\"middle\" x=\"598.5\" y=\"-200.8\" font-family=\"Times,serif\" font-size=\"14.00\" fill=\"#000000\">value = [468, 109]</text>\n</g>\n<!-- 0&#45;&gt;8 -->\n<g id=\"edge8\" class=\"edge\">\n<title>0&#45;&gt;8</title>\n<path fill=\"none\" stroke=\"#000000\" d=\"M512.412,-296.9465C524.015,-287.519 536.7221,-277.1946 548.7259,-267.4415\"/>\n<polygon fill=\"#000000\" stroke=\"#000000\" points=\"550.9398,-270.1524 556.4939,-261.13 546.5256,-264.7196 550.9398,-270.1524\"/>\n<text text-anchor=\"middle\" x=\"553.9214\" y=\"-282.2973\" font-family=\"Times,serif\" font-size=\"14.00\" fill=\"#000000\">False</text>\n</g>\n<!-- 2 -->\n<g id=\"node3\" class=\"node\">\n<title>2</title>\n<polygon fill=\"none\" stroke=\"#000000\" points=\"223.5,-157 113.5,-157 113.5,-89 223.5,-89 223.5,-157\"/>\n<text text-anchor=\"middle\" x=\"168.5\" y=\"-141.8\" font-family=\"Times,serif\" font-size=\"14.00\" fill=\"#000000\">Age &lt;= 2.5</text>\n<text text-anchor=\"middle\" x=\"168.5\" y=\"-126.8\" font-family=\"Times,serif\" font-size=\"14.00\" fill=\"#000000\">gini = 0.101</text>\n<text text-anchor=\"middle\" x=\"168.5\" y=\"-111.8\" font-family=\"Times,serif\" font-size=\"14.00\" fill=\"#000000\">samples = 168</text>\n<text text-anchor=\"middle\" x=\"168.5\" y=\"-96.8\" font-family=\"Times,serif\" font-size=\"14.00\" fill=\"#000000\">value = [9, 159]</text>\n</g>\n<!-- 1&#45;&gt;2 -->\n<g id=\"edge2\" class=\"edge\">\n<title>1&#45;&gt;2</title>\n<path fill=\"none\" stroke=\"#000000\" d=\"M289.5613,-192.9465C271.2392,-182.3604 250.9594,-170.6432 232.3206,-159.8741\"/>\n<polygon fill=\"#000000\" stroke=\"#000000\" points=\"234.0124,-156.8094 223.6027,-154.8371 230.5104,-162.8705 234.0124,-156.8094\"/>\n</g>\n<!-- 5 -->\n<g id=\"node6\" class=\"node\">\n<title>5</title>\n<polygon fill=\"none\" stroke=\"#000000\" points=\"403.5,-157 293.5,-157 293.5,-89 403.5,-89 403.5,-157\"/>\n<text text-anchor=\"middle\" x=\"348.5\" y=\"-141.8\" font-family=\"Times,serif\" font-size=\"14.00\" fill=\"#000000\">Fare &lt;= 23.35</text>\n<text text-anchor=\"middle\" x=\"348.5\" y=\"-126.8\" font-family=\"Times,serif\" font-size=\"14.00\" fill=\"#000000\">gini = 0.5</text>\n<text text-anchor=\"middle\" x=\"348.5\" y=\"-111.8\" font-family=\"Times,serif\" font-size=\"14.00\" fill=\"#000000\">samples = 144</text>\n<text text-anchor=\"middle\" x=\"348.5\" y=\"-96.8\" font-family=\"Times,serif\" font-size=\"14.00\" fill=\"#000000\">value = [72, 72]</text>\n</g>\n<!-- 1&#45;&gt;5 -->\n<g id=\"edge5\" class=\"edge\">\n<title>1&#45;&gt;5</title>\n<path fill=\"none\" stroke=\"#000000\" d=\"M348.5,-192.9465C348.5,-184.776 348.5,-175.9318 348.5,-167.3697\"/>\n<polygon fill=\"#000000\" stroke=\"#000000\" points=\"352.0001,-167.13 348.5,-157.13 345.0001,-167.13 352.0001,-167.13\"/>\n</g>\n<!-- 3 -->\n<g id=\"node4\" class=\"node\">\n<title>3</title>\n<polygon fill=\"none\" stroke=\"#000000\" points=\"95,-53 0,-53 0,0 95,0 95,-53\"/>\n<text text-anchor=\"middle\" x=\"47.5\" y=\"-37.8\" font-family=\"Times,serif\" font-size=\"14.00\" fill=\"#000000\">gini = 0.5</text>\n<text text-anchor=\"middle\" x=\"47.5\" y=\"-22.8\" font-family=\"Times,serif\" font-size=\"14.00\" fill=\"#000000\">samples = 2</text>\n<text text-anchor=\"middle\" x=\"47.5\" y=\"-7.8\" font-family=\"Times,serif\" font-size=\"14.00\" fill=\"#000000\">value = [1, 1]</text>\n</g>\n<!-- 2&#45;&gt;3 -->\n<g id=\"edge3\" class=\"edge\">\n<title>2&#45;&gt;3</title>\n<path fill=\"none\" stroke=\"#000000\" d=\"M125.8399,-88.9777C113.8989,-79.4545 100.9395,-69.1191 89.063,-59.6473\"/>\n<polygon fill=\"#000000\" stroke=\"#000000\" points=\"91.04,-56.7473 81.0395,-53.2485 86.6754,-62.22 91.04,-56.7473\"/>\n</g>\n<!-- 4 -->\n<g id=\"node5\" class=\"node\">\n<title>4</title>\n<polygon fill=\"none\" stroke=\"#000000\" points=\"223.5,-53 113.5,-53 113.5,0 223.5,0 223.5,-53\"/>\n<text text-anchor=\"middle\" x=\"168.5\" y=\"-37.8\" font-family=\"Times,serif\" font-size=\"14.00\" fill=\"#000000\">gini = 0.092</text>\n<text text-anchor=\"middle\" x=\"168.5\" y=\"-22.8\" font-family=\"Times,serif\" font-size=\"14.00\" fill=\"#000000\">samples = 166</text>\n<text text-anchor=\"middle\" x=\"168.5\" y=\"-7.8\" font-family=\"Times,serif\" font-size=\"14.00\" fill=\"#000000\">value = [8, 158]</text>\n</g>\n<!-- 2&#45;&gt;4 -->\n<g id=\"edge4\" class=\"edge\">\n<title>2&#45;&gt;4</title>\n<path fill=\"none\" stroke=\"#000000\" d=\"M168.5,-88.9777C168.5,-80.7364 168.5,-71.887 168.5,-63.5153\"/>\n<polygon fill=\"#000000\" stroke=\"#000000\" points=\"172.0001,-63.2484 168.5,-53.2485 165.0001,-63.2485 172.0001,-63.2484\"/>\n</g>\n<!-- 6 -->\n<g id=\"node7\" class=\"node\">\n<title>6</title>\n<polygon fill=\"none\" stroke=\"#000000\" points=\"351.5,-53 241.5,-53 241.5,0 351.5,0 351.5,-53\"/>\n<text text-anchor=\"middle\" x=\"296.5\" y=\"-37.8\" font-family=\"Times,serif\" font-size=\"14.00\" fill=\"#000000\">gini = 0.484</text>\n<text text-anchor=\"middle\" x=\"296.5\" y=\"-22.8\" font-family=\"Times,serif\" font-size=\"14.00\" fill=\"#000000\">samples = 117</text>\n<text text-anchor=\"middle\" x=\"296.5\" y=\"-7.8\" font-family=\"Times,serif\" font-size=\"14.00\" fill=\"#000000\">value = [48, 69]</text>\n</g>\n<!-- 5&#45;&gt;6 -->\n<g id=\"edge6\" class=\"edge\">\n<title>5&#45;&gt;6</title>\n<path fill=\"none\" stroke=\"#000000\" d=\"M330.1667,-88.9777C325.4791,-80.2786 320.4264,-70.9018 315.6967,-62.1247\"/>\n<polygon fill=\"#000000\" stroke=\"#000000\" points=\"318.7386,-60.3914 310.9137,-53.2485 312.5763,-63.7121 318.7386,-60.3914\"/>\n</g>\n<!-- 7 -->\n<g id=\"node8\" class=\"node\">\n<title>7</title>\n<polygon fill=\"none\" stroke=\"#000000\" points=\"471.5,-53 369.5,-53 369.5,0 471.5,0 471.5,-53\"/>\n<text text-anchor=\"middle\" x=\"420.5\" y=\"-37.8\" font-family=\"Times,serif\" font-size=\"14.00\" fill=\"#000000\">gini = 0.198</text>\n<text text-anchor=\"middle\" x=\"420.5\" y=\"-22.8\" font-family=\"Times,serif\" font-size=\"14.00\" fill=\"#000000\">samples = 27</text>\n<text text-anchor=\"middle\" x=\"420.5\" y=\"-7.8\" font-family=\"Times,serif\" font-size=\"14.00\" fill=\"#000000\">value = [24, 3]</text>\n</g>\n<!-- 5&#45;&gt;7 -->\n<g id=\"edge7\" class=\"edge\">\n<title>5&#45;&gt;7</title>\n<path fill=\"none\" stroke=\"#000000\" d=\"M373.8845,-88.9777C380.58,-80.0039 387.8135,-70.3089 394.539,-61.295\"/>\n<polygon fill=\"#000000\" stroke=\"#000000\" points=\"397.3677,-63.3565 400.5426,-53.2485 391.7573,-59.1704 397.3677,-63.3565\"/>\n</g>\n<!-- 9 -->\n<g id=\"node10\" class=\"node\">\n<title>9</title>\n<polygon fill=\"none\" stroke=\"#000000\" points=\"653.5,-157 543.5,-157 543.5,-89 653.5,-89 653.5,-157\"/>\n<text text-anchor=\"middle\" x=\"598.5\" y=\"-141.8\" font-family=\"Times,serif\" font-size=\"14.00\" fill=\"#000000\">SibSp &lt;= 2.5</text>\n<text text-anchor=\"middle\" x=\"598.5\" y=\"-126.8\" font-family=\"Times,serif\" font-size=\"14.00\" fill=\"#000000\">gini = 0.493</text>\n<text text-anchor=\"middle\" x=\"598.5\" y=\"-111.8\" font-family=\"Times,serif\" font-size=\"14.00\" fill=\"#000000\">samples = 41</text>\n<text text-anchor=\"middle\" x=\"598.5\" y=\"-96.8\" font-family=\"Times,serif\" font-size=\"14.00\" fill=\"#000000\">value = [18, 23]</text>\n</g>\n<!-- 8&#45;&gt;9 -->\n<g id=\"edge9\" class=\"edge\">\n<title>8&#45;&gt;9</title>\n<path fill=\"none\" stroke=\"#000000\" d=\"M598.5,-192.9465C598.5,-184.776 598.5,-175.9318 598.5,-167.3697\"/>\n<polygon fill=\"#000000\" stroke=\"#000000\" points=\"602.0001,-167.13 598.5,-157.13 595.0001,-167.13 602.0001,-167.13\"/>\n</g>\n<!-- 12 -->\n<g id=\"node13\" class=\"node\">\n<title>12</title>\n<polygon fill=\"none\" stroke=\"#000000\" points=\"847,-157 730,-157 730,-89 847,-89 847,-157\"/>\n<text text-anchor=\"middle\" x=\"788.5\" y=\"-141.8\" font-family=\"Times,serif\" font-size=\"14.00\" fill=\"#000000\">Fare &lt;= 26.269</text>\n<text text-anchor=\"middle\" x=\"788.5\" y=\"-126.8\" font-family=\"Times,serif\" font-size=\"14.00\" fill=\"#000000\">gini = 0.269</text>\n<text text-anchor=\"middle\" x=\"788.5\" y=\"-111.8\" font-family=\"Times,serif\" font-size=\"14.00\" fill=\"#000000\">samples = 536</text>\n<text text-anchor=\"middle\" x=\"788.5\" y=\"-96.8\" font-family=\"Times,serif\" font-size=\"14.00\" fill=\"#000000\">value = [450, 86]</text>\n</g>\n<!-- 8&#45;&gt;12 -->\n<g id=\"edge12\" class=\"edge\">\n<title>8&#45;&gt;12</title>\n<path fill=\"none\" stroke=\"#000000\" d=\"M660.7131,-192.9465C679.9529,-182.4152 701.2377,-170.7646 720.8279,-160.0416\"/>\n<polygon fill=\"#000000\" stroke=\"#000000\" points=\"722.6048,-163.059 729.6962,-155.1874 719.2437,-156.9187 722.6048,-163.059\"/>\n</g>\n<!-- 10 -->\n<g id=\"node11\" class=\"node\">\n<title>10</title>\n<polygon fill=\"none\" stroke=\"#000000\" points=\"591.5,-53 489.5,-53 489.5,0 591.5,0 591.5,-53\"/>\n<text text-anchor=\"middle\" x=\"540.5\" y=\"-37.8\" font-family=\"Times,serif\" font-size=\"14.00\" fill=\"#000000\">gini = 0.083</text>\n<text text-anchor=\"middle\" x=\"540.5\" y=\"-22.8\" font-family=\"Times,serif\" font-size=\"14.00\" fill=\"#000000\">samples = 23</text>\n<text text-anchor=\"middle\" x=\"540.5\" y=\"-7.8\" font-family=\"Times,serif\" font-size=\"14.00\" fill=\"#000000\">value = [1, 22]</text>\n</g>\n<!-- 9&#45;&gt;10 -->\n<g id=\"edge10\" class=\"edge\">\n<title>9&#45;&gt;10</title>\n<path fill=\"none\" stroke=\"#000000\" d=\"M578.0514,-88.9777C572.7678,-80.187 567.0684,-70.7044 561.7452,-61.8477\"/>\n<polygon fill=\"#000000\" stroke=\"#000000\" points=\"564.7282,-60.0165 556.5768,-53.2485 558.7285,-63.6225 564.7282,-60.0165\"/>\n</g>\n<!-- 11 -->\n<g id=\"node12\" class=\"node\">\n<title>11</title>\n<polygon fill=\"none\" stroke=\"#000000\" points=\"711.5,-53 609.5,-53 609.5,0 711.5,0 711.5,-53\"/>\n<text text-anchor=\"middle\" x=\"660.5\" y=\"-37.8\" font-family=\"Times,serif\" font-size=\"14.00\" fill=\"#000000\">gini = 0.105</text>\n<text text-anchor=\"middle\" x=\"660.5\" y=\"-22.8\" font-family=\"Times,serif\" font-size=\"14.00\" fill=\"#000000\">samples = 18</text>\n<text text-anchor=\"middle\" x=\"660.5\" y=\"-7.8\" font-family=\"Times,serif\" font-size=\"14.00\" fill=\"#000000\">value = [17, 1]</text>\n</g>\n<!-- 9&#45;&gt;11 -->\n<g id=\"edge11\" class=\"edge\">\n<title>9&#45;&gt;11</title>\n<path fill=\"none\" stroke=\"#000000\" d=\"M620.3589,-88.9777C626.0068,-80.187 632.0993,-70.7044 637.7896,-61.8477\"/>\n<polygon fill=\"#000000\" stroke=\"#000000\" points=\"640.8537,-63.5536 643.3144,-53.2485 634.9644,-59.7698 640.8537,-63.5536\"/>\n</g>\n<!-- 13 -->\n<g id=\"node14\" class=\"node\">\n<title>13</title>\n<polygon fill=\"none\" stroke=\"#000000\" points=\"847,-53 730,-53 730,0 847,0 847,-53\"/>\n<text text-anchor=\"middle\" x=\"788.5\" y=\"-37.8\" font-family=\"Times,serif\" font-size=\"14.00\" fill=\"#000000\">gini = 0.177</text>\n<text text-anchor=\"middle\" x=\"788.5\" y=\"-22.8\" font-family=\"Times,serif\" font-size=\"14.00\" fill=\"#000000\">samples = 397</text>\n<text text-anchor=\"middle\" x=\"788.5\" y=\"-7.8\" font-family=\"Times,serif\" font-size=\"14.00\" fill=\"#000000\">value = [358, 39]</text>\n</g>\n<!-- 12&#45;&gt;13 -->\n<g id=\"edge13\" class=\"edge\">\n<title>12&#45;&gt;13</title>\n<path fill=\"none\" stroke=\"#000000\" d=\"M788.5,-88.9777C788.5,-80.7364 788.5,-71.887 788.5,-63.5153\"/>\n<polygon fill=\"#000000\" stroke=\"#000000\" points=\"792.0001,-63.2484 788.5,-53.2485 785.0001,-63.2485 792.0001,-63.2484\"/>\n</g>\n<!-- 14 -->\n<g id=\"node15\" class=\"node\">\n<title>14</title>\n<polygon fill=\"none\" stroke=\"#000000\" points=\"975.5,-53 865.5,-53 865.5,0 975.5,0 975.5,-53\"/>\n<text text-anchor=\"middle\" x=\"920.5\" y=\"-37.8\" font-family=\"Times,serif\" font-size=\"14.00\" fill=\"#000000\">gini = 0.448</text>\n<text text-anchor=\"middle\" x=\"920.5\" y=\"-22.8\" font-family=\"Times,serif\" font-size=\"14.00\" fill=\"#000000\">samples = 139</text>\n<text text-anchor=\"middle\" x=\"920.5\" y=\"-7.8\" font-family=\"Times,serif\" font-size=\"14.00\" fill=\"#000000\">value = [92, 47]</text>\n</g>\n<!-- 12&#45;&gt;14 -->\n<g id=\"edge14\" class=\"edge\">\n<title>12&#45;&gt;14</title>\n<path fill=\"none\" stroke=\"#000000\" d=\"M835.0383,-88.9777C848.1901,-79.3629 862.4743,-68.9203 875.532,-59.3743\"/>\n<polygon fill=\"#000000\" stroke=\"#000000\" points=\"877.9042,-61.9757 883.9114,-53.2485 873.773,-56.3247 877.9042,-61.9757\"/>\n</g>\n</g>\n</svg>\n"
          },
          "metadata": {
            "tags": []
          },
          "execution_count": 13
        }
      ]
    },
    {
      "cell_type": "markdown",
      "metadata": {
        "id": "WYs1eiOgMKWU"
      },
      "source": [
        "## 0405 Realizamos una predicción\n",
        "Una vez el modelo está entrenado (definido) podemos pasarle datos para obtener las prediciones correspondientes de la variable objetivo. \n",
        "\n",
        "Para esto utilizamos el método .[predict()](https://scikit-learn.org/stable/modules/generated/sklearn.tree.DecisionTreeClassifier.html#sklearn.tree.DecisionTreeClassifier.predict)."
      ]
    },
    {
      "cell_type": "code",
      "metadata": {
        "id": "acmqdf6ByLdw"
      },
      "source": [
        "# Predicción\n",
        "prediccion = arbol.predict(df_titanic[cols])"
      ],
      "execution_count": 14,
      "outputs": []
    },
    {
      "cell_type": "code",
      "metadata": {
        "id": "3cMYHbiDyRPW",
        "outputId": "5363a75e-ff57-40d5-da94-ddab54baa985",
        "colab": {
          "base_uri": "https://localhost:8080/"
        }
      },
      "source": [
        "# Cómo de buena es la predicción?\n",
        "from sklearn.metrics import accuracy_score\n",
        "accuracy_score(df_titanic['Survived'], prediccion)"
      ],
      "execution_count": 15,
      "outputs": [
        {
          "output_type": "execute_result",
          "data": {
            "text/plain": [
              "0.8335208098987626"
            ]
          },
          "metadata": {
            "tags": []
          },
          "execution_count": 15
        }
      ]
    },
    {
      "cell_type": "markdown",
      "metadata": {
        "id": "V66-xgckYMQs"
      },
      "source": [
        "# 04 EJERCICIO PREDICCIÓN DIABETES"
      ]
    },
    {
      "cell_type": "markdown",
      "metadata": {
        "id": "EDiMGl7xOm6o"
      },
      "source": [
        "## 0401 Importa el dataset\n",
        "Puedes encontrarlo en mi github. Este es el link al archivo raw: https://raw.githubusercontent.com/JotaBlanco/TheValley/main/Data/diabetesIndia.csv.\n",
        "\n",
        "Importa los datos en un dataframe llamado **dataframe df**."
      ]
    },
    {
      "cell_type": "code",
      "metadata": {
        "id": "5FGrcP3cOkcD"
      },
      "source": [
        "url = ...\n",
        "\n",
        "df = pd.read_csv(url)\n",
        "\n",
        "df.head()"
      ],
      "execution_count": null,
      "outputs": []
    },
    {
      "cell_type": "markdown",
      "metadata": {
        "id": "kFX-dkfgAf-z"
      },
      "source": [
        "## 0402 EDA\n",
        "Puedes realizar un análisis exploratorio utilizando, por ejemplo: \n",
        "\n",
        "*   funciones como dataframe.info()\n",
        "*   dataframe.describe() para comprobar la distribución de las variables numéricas\n",
        "*   dataframe.isna().sum() para comprobar si hay nulos\n",
        "*   visualización de los coeficientes de pearson para ver las correlaciones\n",
        "\n",
        " "
      ]
    },
    {
      "cell_type": "code",
      "metadata": {
        "id": "7PAMKC-IBeEq"
      },
      "source": [
        ""
      ],
      "execution_count": null,
      "outputs": []
    },
    {
      "cell_type": "code",
      "metadata": {
        "id": "1GMOYKLSBf9Z"
      },
      "source": [
        ""
      ],
      "execution_count": null,
      "outputs": []
    },
    {
      "cell_type": "code",
      "metadata": {
        "id": "HVpCS2YpBiUn"
      },
      "source": [
        ""
      ],
      "execution_count": null,
      "outputs": []
    },
    {
      "cell_type": "code",
      "metadata": {
        "id": "g_Mpq3YEBiYx"
      },
      "source": [
        ""
      ],
      "execution_count": null,
      "outputs": []
    },
    {
      "cell_type": "markdown",
      "metadata": {
        "id": "GFRXHI0DPEpq"
      },
      "source": [
        "## 0603 Crea el árbol de decisión\n",
        "En realidad crea 3 árboles: de 3, 6 y 12 capas de profundidad."
      ]
    },
    {
      "cell_type": "code",
      "metadata": {
        "id": "vzmkECEeB3yl"
      },
      "source": [
        "df.columns"
      ],
      "execution_count": null,
      "outputs": []
    },
    {
      "cell_type": "code",
      "metadata": {
        "id": "RXLmB0Vpq8N6"
      },
      "source": [
        "# Crea una lista con las variables que vamos a utilizar para predecir:\n",
        "# ['Pregnancies', 'Glucose', 'BloodPressure', 'SkinThickness', 'Insulin',\n",
        "#  'BMI', 'DiabetesPedigreeFunction', 'Age']\n",
        "lista = [...]\n",
        "\n",
        "# Define el dataframe X con las variables predictivas\n",
        "X = df[lista]\n",
        "\n",
        "# Define el vector y con la variable a predecir\n",
        "y = df['...']"
      ],
      "execution_count": null,
      "outputs": []
    },
    {
      "cell_type": "code",
      "metadata": {
        "id": "KacvVtRaPJ8z"
      },
      "source": [
        "# Inicializamos los distintos árboles de decisión definiendo la profundidad\n",
        "arbol_3 = ...\n",
        "arbol_6 = ...\n",
        "arbol_12 = .."
      ],
      "execution_count": null,
      "outputs": []
    },
    {
      "cell_type": "code",
      "metadata": {
        "id": "zZPdXY0EPZbY"
      },
      "source": [
        "# Entrena el árbol con los datos del Titanic\n"
      ],
      "execution_count": null,
      "outputs": []
    },
    {
      "cell_type": "markdown",
      "metadata": {
        "id": "U0qVZHdNPT0I"
      },
      "source": [
        "## 0604 Visualiza el árbol\n",
        "Qué variables utiliza el árbol para inferir el riesgo de diabetes? Tiene sentido?"
      ]
    },
    {
      "cell_type": "code",
      "metadata": {
        "id": "PJ9TMK6CPhXm"
      },
      "source": [
        "# con export_test\n"
      ],
      "execution_count": null,
      "outputs": []
    },
    {
      "cell_type": "code",
      "metadata": {
        "id": "A4tx4cKxPl0E"
      },
      "source": [
        "# con export_graphviz\n"
      ],
      "execution_count": null,
      "outputs": []
    },
    {
      "cell_type": "markdown",
      "metadata": {
        "id": "xLKZUzIzP0aa"
      },
      "source": [
        "## 0605 Realiza una predicción\n",
        "Realiza una predicción con tus árboles y comprueba cuánto han acertado."
      ]
    },
    {
      "cell_type": "code",
      "metadata": {
        "id": "l8CBX0oZP8ac"
      },
      "source": [
        "# Realiza una predicción con cada árbol\n"
      ],
      "execution_count": null,
      "outputs": []
    },
    {
      "cell_type": "code",
      "metadata": {
        "id": "wrgn54Pa6YVQ"
      },
      "source": [
        "# Comprueba la precisión de cada predicción\n"
      ],
      "execution_count": null,
      "outputs": []
    }
  ]
}