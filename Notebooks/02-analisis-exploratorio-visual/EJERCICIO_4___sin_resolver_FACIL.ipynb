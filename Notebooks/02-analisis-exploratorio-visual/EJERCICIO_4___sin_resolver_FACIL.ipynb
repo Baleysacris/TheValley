{
  "nbformat": 4,
  "nbformat_minor": 0,
  "metadata": {
    "colab": {
      "name": "EJERCICIO_4__ EDA Visual Barsa Madrid.ipynb",
      "provenance": [],
      "toc_visible": true,
      "authorship_tag": "ABX9TyPfaIwdcp9TLj0gEmV+2rq8",
      "include_colab_link": true
    },
    "kernelspec": {
      "name": "python3",
      "display_name": "Python 3"
    }
  },
  "cells": [
    {
      "cell_type": "markdown",
      "metadata": {
        "id": "view-in-github",
        "colab_type": "text"
      },
      "source": [
        "<a href=\"https://colab.research.google.com/github/JotaBlanco/TheValley/blob/main/Notebooks/02-analisis-exploratorio-visual/EJERCICIO_4___sin_resolver_FACIL.ipynb\" target=\"_parent\"><img src=\"https://colab.research.google.com/assets/colab-badge.svg\" alt=\"Open In Colab\"/></a>"
      ]
    },
    {
      "cell_type": "markdown",
      "metadata": {
        "id": "R53FGLN8jo1L"
      },
      "source": [
        "# INTRO: Análisis Exploratorio Visual\r\n",
        "Ejercicio para afianzar los conceptos básicos de EDA (Exploratory Data Analysis) Visual utilizando datos sobre la evolución del Covid.\r\n",
        "\r\n",
        "Notebook por [Javier Blanco Cordero](https://www.linkedin.com/in/javier-blanco-cordero-71373656/).\r\n",
        "\r\n",
        "### Enlaces de interés\r\n",
        "*   [Slides de presentación](https://docs.google.com/presentation/d/1N7MPSC7ntM-0ZEHlrN5xRTpT4uNDyU_o53GBvnojUx8/edit?usp=sharing)\r\n",
        "*   [Enlace al notebook de Colab de la clase 2](https://colab.research.google.com/github/JotaBlanco/TheValley/blob/main/Notebooks/02-analisis-exploratorio-visual/02___Analisis_exploratorio_visual.ipynb)\r\n",
        "*   [Enlace a este notebook resuelto](https://colab.research.google.com/github/JotaBlanco/TheValley/blob/main/Notebooks/02-analisis-exploratorio-visual/EJERCICIO_4___EDA_Visual_Barsa_Madrid.ipynb)\r\n",
        "\r\n"
      ]
    },
    {
      "cell_type": "markdown",
      "metadata": {
        "id": "cnHRaho3rsXS"
      },
      "source": [
        "# 01 Import\r\n",
        "Importamos todas las librerías necesarias para este análisis ([¿No sabes lo que es una librería de Python?](https://www.quora.com/What-is-a-Python-library-and-what-can-I-use-it-for)).\r\n",
        "\r\n",
        "Necesitaremos pandas, numpy, matplotlib.pyplot y seaborn."
      ]
    },
    {
      "cell_type": "code",
      "metadata": {
        "id": "4be6xiUqjPHI"
      },
      "source": [
        ""
      ],
      "execution_count": null,
      "outputs": []
    },
    {
      "cell_type": "markdown",
      "metadata": {
        "id": "B_0JTVo0sIvm"
      },
      "source": [
        "# 02 Importa dataframe Fifa19\r\n",
        "Importa el dataset ya limpiado del **df_fifa19** (está en https://raw.githubusercontent.com/JotaBlanco/TheValley/main/Data/Fifa19_Clean.csv.).\r\n",
        "\r\n",
        "No necesitaremos todas las variables. Haz que el dataframe contenga solo éstas y en este orden:\r\n",
        "\r\n",
        "cols = ['Name', 'Age', 'Nationality', 'Overall', 'Potential', 'Club', 'Height_cm', 'Weight_kg', 'Value_€', 'Wage_€', 'Release Clause_€', 'Preferred Foot', 'Position', 'SprintSpeed']"
      ]
    },
    {
      "cell_type": "code",
      "metadata": {
        "id": "HAe4wephIW8a"
      },
      "source": [
        "# Cols\r\n",
        "\r\n",
        "# Url archivo raw\r\n",
        "\r\n",
        "\r\n",
        "# Importa el csv con read_csv()\r\n",
        "# Si a la función read_csv le pasamos el argumento usecols = lista de columnas\r\n",
        "# importará solo las que le indiquemos\r\n",
        "\r\n",
        "\r\n",
        "# Visualización primeras filas\r\n"
      ],
      "execution_count": null,
      "outputs": []
    },
    {
      "cell_type": "markdown",
      "metadata": {
        "id": "6RSFZhw-igup"
      },
      "source": [
        "# 03 Crea dataframes para Barsa y Madrid\r\n",
        "A partir de df_fifa19 crea un df_madrid y un df_barsa con los jugadores correspondientes a cada equipo."
      ]
    },
    {
      "cell_type": "code",
      "metadata": {
        "id": "OTIX_IKIZ7pG"
      },
      "source": [
        "# Cómo está escrito el nombre del Madrid en este dataset?\r\n",
        "\r\n",
        "# Cómo está escrito el nombre del Barsa en este dataset?\r\n"
      ],
      "execution_count": null,
      "outputs": []
    },
    {
      "cell_type": "code",
      "metadata": {
        "id": "BK-lHXvOZ7-z"
      },
      "source": [
        "# crea el df_Madrid con el filtro oportuno\r\n"
      ],
      "execution_count": null,
      "outputs": []
    },
    {
      "cell_type": "code",
      "metadata": {
        "id": "4CEN5dHtaLWZ"
      },
      "source": [
        "# crea el df_Barsa con el filtro oportuno\r\n"
      ],
      "execution_count": null,
      "outputs": []
    },
    {
      "cell_type": "markdown",
      "metadata": {
        "id": "QrI6VLGdajPR"
      },
      "source": [
        "# 04 Qué equipo es mejor?\r\n",
        "Cuidado, guardad vuestra cerveza y utilizad la ciencia de datos. "
      ]
    },
    {
      "cell_type": "markdown",
      "metadata": {
        "id": "HSmodV36fa-i"
      },
      "source": [
        "## 0401 .describe()\r\n",
        "Con el método .describe(), comprueba la distribución de la variable numérica overall para cada dataframe."
      ]
    },
    {
      "cell_type": "code",
      "metadata": {
        "id": "K92HsE-xa81F"
      },
      "source": [
        ""
      ],
      "execution_count": null,
      "outputs": []
    },
    {
      "cell_type": "markdown",
      "metadata": {
        "id": "uj5wnQGqfm2J"
      },
      "source": [
        "## 0403 .hist()\r\n",
        "Utiliza histogramas para comparar la variable Overall en una imagen con dos gráficos (dos en una misma columna).\r\n",
        "\r\n",
        "Utiliza como bins de 60 a 95 con intervalos de 2.5 en 2.5 (60, 62.5, 65, 67.5, etc.) \r\n",
        "\r\n",
        "Es decir, genera una imagen [como esta](https://drive.google.com/file/d/1rpuHZG18DYV92-U95N-foxi196M4sPAc/view?usp=sharing)."
      ]
    },
    {
      "cell_type": "code",
      "metadata": {
        "id": "H1gZrT3NgkIk"
      },
      "source": [
        "# Utiliza seaborn (su función set()) para mejorar la estética\r\n"
      ],
      "execution_count": null,
      "outputs": []
    },
    {
      "cell_type": "code",
      "metadata": {
        "id": "_ulkp9dWa-dH"
      },
      "source": [
        "# Generamos los objetos fig, ax y el tamaño\r\n",
        "fig, (ax1, ax2) = plt.subplots(nrows=2, ncols=1)\r\n",
        "fig.tight_layout(pad=1)\r\n",
        "fig.set_size_inches(6,6)\r\n",
        "\r\n",
        "# Define la lista bins que definirá los bins del histograma\r\n",
        "bins = [ ... ]\r\n",
        "\r\n",
        "# Tasa de mortalidad\r\n",
        "ax1.hist(...)\r\n",
        "ax1.set(...)\r\n",
        "ax1.legend()\r\n",
        "\r\n",
        "# Tasa de mortalidad\r\n",
        "ax2.hist(...)\r\n",
        "ax2.set(...)\r\n",
        "ax2.legend()\r\n",
        "plt.show()"
      ],
      "execution_count": null,
      "outputs": []
    },
    {
      "cell_type": "markdown",
      "metadata": {
        "id": "OAoiyaV7iqU2"
      },
      "source": [
        "# 05 Qué equipo tiene mejores jugadores españoles/extranjeros?\r\n",
        "Vamos a utilizar para esta comparación una gráfica específica de seaborn: sns.[catplot()](https://seaborn.pydata.org/examples/grouped_barplot.html)."
      ]
    },
    {
      "cell_type": "markdown",
      "metadata": {
        "id": "atmPxprrkZ7c"
      },
      "source": [
        "## 0501 Genera variable nacionalidad\r\n",
        "Genera una variable binaria que identifique a un jugador como \"Español\" o \"Extranjero\"."
      ]
    },
    {
      "cell_type": "code",
      "metadata": {
        "id": "TpGDdwuKkXYd"
      },
      "source": [
        "# Primero, genera los filtros necesarios, por ejemplo, este es filtro para un jugador no Español\r\n",
        "filtro_extranjero = df_madrid['Nationality'] != 'Spain'\r\n",
        "\r\n",
        "# Ahora genera un filtro para los jugadores españoles\r\n",
        "filtro_español = ...\r\n",
        "\r\n",
        "# Crea una variable 'Nacionalidad' utilizando los filtros anteriores:\r\n",
        "df_madrid.loc[filtro_español, 'Nacionalidad'] = 'Español'\r\n",
        "df_madrid.loc[filtro_extranjero, 'Nacionalidad'] = 'Extranjero'"
      ],
      "execution_count": null,
      "outputs": []
    },
    {
      "cell_type": "code",
      "metadata": {
        "id": "Fz5zWSrBmX6V"
      },
      "source": [
        "# Repite el proceso de la celda anterior con df_barsa\r\n"
      ],
      "execution_count": null,
      "outputs": []
    },
    {
      "cell_type": "markdown",
      "metadata": {
        "id": "WhxAtkJqnC1c"
      },
      "source": [
        "## 0502 Utiliza sns.catplot()\r\n",
        "sns.[catplot](https://seaborn.pydata.org/examples/grouped_barplot.html) permite comparar 3 conceptos en una sola gráfica. \r\n",
        "\r\n",
        "Échale un vistazo a la documentación e intenta utilizarlo aquí.\r\n",
        "\r\n",
        "En definitiva, trata de crear [esta imagen](https://drive.google.com/file/d/1OIoF5QzlL_VqmiHlmuAXrR0jCb2-EkeZ/view?usp=sharing)."
      ]
    },
    {
      "cell_type": "code",
      "metadata": {
        "id": "woJllew7gxJG"
      },
      "source": [
        "# Genera la imagen. Para ello copia el código que encuentres como ejemplo en la \r\n",
        "# documentación de la función catplot y modificalo a tu gusto\r\n"
      ],
      "execution_count": null,
      "outputs": []
    },
    {
      "cell_type": "markdown",
      "metadata": {
        "id": "hHzE7D_QrqZ_"
      },
      "source": [
        "# 06 Compara alineaciones de rápidos\r\n",
        "A veces en el Fifa lo (casi) único importante es la velocidad. Si tú, como gamer, sigues este único criterio, qué equipo prefirirías?\r\n",
        "\r\n",
        "Escoge los 10 jugadores de campo (exluye los porteros) más rápidos de cada equipo y decide."
      ]
    },
    {
      "cell_type": "code",
      "metadata": {
        "id": "k332ZPqer5BF"
      },
      "source": [
        "# Veamos cuál sería nuestra alineación con el Madrid\r\n",
        "# Crea un filtro que excluya al portero \r\n",
        "# Puedes ver la posición del jugador en la columna 'Position, el portero es 'GK'\r\n",
        "\r\n"
      ],
      "execution_count": null,
      "outputs": []
    },
    {
      "cell_type": "code",
      "metadata": {
        "id": "u6cTa_XzsdXS"
      },
      "source": [
        "# Aplica el filtro para quedarnos solo con los jugadores de campo \r\n",
        "# Además, aprovecha para quedarte solo con las columnas nombre y velocidad\r\n",
        "\r\n"
      ],
      "execution_count": null,
      "outputs": []
    },
    {
      "cell_type": "code",
      "metadata": {
        "id": "qdhIfupPsg5v"
      },
      "source": [
        "# Ordena el dataframe por la variable de velocidad con la función sort_values() \r\n",
        "# y visualiza los 10 primeros\r\n",
        "\r\n"
      ],
      "execution_count": null,
      "outputs": []
    },
    {
      "cell_type": "code",
      "metadata": {
        "id": "xYbK1wmzsiZn"
      },
      "source": [
        "# Quédate sólo con los 10 más rápidos y utiliza el método describe \r\n",
        "\r\n"
      ],
      "execution_count": null,
      "outputs": []
    },
    {
      "cell_type": "code",
      "metadata": {
        "id": "q44i_CWwjbN3"
      },
      "source": [
        "# Repite el proceso con los jugadores del barsa para comparar\r\n"
      ],
      "execution_count": null,
      "outputs": []
    },
    {
      "cell_type": "markdown",
      "metadata": {
        "id": "dwLrdVD3TxYH"
      },
      "source": [
        "# 07 Genera un informe con pandas-profiling\r\n",
        "Genera un informe de pandas-profiling para el Madrid y otro para el Barsa. Visualízalos para responder:\r\n",
        "- qué equipo tiene una altura media mayor?\r\n",
        "- qué equipo tiene una edad media menor?\r\n",
        "- cuánto mide el cuantil 75 del Madrid?\r\n",
        "- con qué correla más la edad de los jugadores del Madrid, con su sueldo, su valor actual o su cláusula de rescisión? tiene sentido?\r\n",
        "\r\n",
        "Nota: Como estos datasets son pequeños, puedes visualizar el el informe directamente en el notebook. Haz esto definiendo primero el informe como una variable, y luego ejecutando esa variable."
      ]
    },
    {
      "cell_type": "code",
      "metadata": {
        "id": "kYBOPURzTvfV"
      },
      "source": [
        "# Instalamos pandas-profiling\r\n",
        "! pip install -U pandas-profiling"
      ],
      "execution_count": null,
      "outputs": []
    },
    {
      "cell_type": "code",
      "metadata": {
        "id": "L5yvJ4R7gFRr"
      },
      "source": [
        "# Importamos solo la función ProfileReport (la verdaderamente importante)\r\n",
        "from pandas_profiling import ProfileReport"
      ],
      "execution_count": null,
      "outputs": []
    },
    {
      "cell_type": "code",
      "metadata": {
        "id": "GTzykZZDgIAP"
      },
      "source": [
        "# Definimos el informe del Madrid\r\n",
        "profile_madrid = ProfileReport(...)\r\n",
        "\r\n",
        "# Lo ejecutamos\r\n",
        "profile_madrid"
      ],
      "execution_count": null,
      "outputs": []
    },
    {
      "cell_type": "code",
      "metadata": {
        "id": "rQUfYfq5gdtt"
      },
      "source": [
        "# Define y ejecuta el informe para el Barsa\r\n"
      ],
      "execution_count": null,
      "outputs": []
    },
    {
      "cell_type": "code",
      "metadata": {
        "id": "ooow67xIgfNH"
      },
      "source": [
        ""
      ],
      "execution_count": null,
      "outputs": []
    }
  ]
}