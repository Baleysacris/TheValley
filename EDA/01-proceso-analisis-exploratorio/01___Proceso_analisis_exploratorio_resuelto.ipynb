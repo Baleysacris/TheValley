{
  "nbformat": 4,
  "nbformat_minor": 0,
  "metadata": {
    "colab": {
      "name": "01 _ Proceso-analisis-exploratorio.ipynb",
      "provenance": [],
      "toc_visible": true,
      "authorship_tag": "ABX9TyP42OYzkyt1MkxLyGx9Jlwc",
      "include_colab_link": true
    },
    "kernelspec": {
      "name": "python3",
      "display_name": "Python 3"
    }
  },
  "cells": [
    {
      "cell_type": "markdown",
      "metadata": {
        "id": "view-in-github",
        "colab_type": "text"
      },
      "source": [
        "<a href=\"https://colab.research.google.com/github/JotaBlanco/TheValley/blob/main/EDA/01-proceso-analisis-exploratorio/01___Proceso_analisis_exploratorio_resuelto.ipynb\" target=\"_parent\"><img src=\"https://colab.research.google.com/assets/colab-badge.svg\" alt=\"Open In Colab\"/></a>"
      ]
    },
    {
      "cell_type": "markdown",
      "metadata": {
        "id": "R53FGLN8jo1L"
      },
      "source": [
        "# INTRO: Proceso Análisis Exploratorio \n",
        "Introducción al EDA (Exploratory Data Analysis).\n",
        "\n",
        "Notebook por [Javier Blanco Cordero](https://www.linkedin.com/in/javier-blanco-cordero-71373656/).\n",
        "\n",
        "### Enlaces de interés\n",
        "*   [Slides de presentación](https://docs.google.com/presentation/d/1IT6OVy9YS_sbgHF2oU9D0L--fZiyUfij7NxVhu3cAdg/edit?usp=sharing)\n",
        "*   [Enlace a este notebook en Colab](https://colab.research.google.com/drive/1B37GMOCjKQ0S8NoRI6lALEW9EZtE0Hit#scrollTo=R53FGLN8jo1L)\n",
        "\n",
        "\n"
      ]
    },
    {
      "cell_type": "markdown",
      "metadata": {
        "id": "cnHRaho3rsXS"
      },
      "source": [
        "# 01 Import\n",
        "Importamos todas las librerías necesarias para este análisis ([¿No sabes lo que es una librería de Python?](https://www.quora.com/What-is-a-Python-library-and-what-can-I-use-it-for))."
      ]
    },
    {
      "cell_type": "code",
      "metadata": {
        "id": "4be6xiUqjPHI"
      },
      "source": [
        "import pandas as pd\n",
        "import numpy as np\n",
        "import matplotlib.pyplot as plt"
      ],
      "execution_count": null,
      "outputs": []
    },
    {
      "cell_type": "markdown",
      "metadata": {
        "id": "B_0JTVo0sIvm"
      },
      "source": [
        "# 02 Load Data\n",
        "El primer paso para analizar datos es, claro, importarlos. Esto no es siempre trivial, especialmente trabajando con Colab ya que nuestro notebook está en la nube de Google y hay que conseguir hacer llegar los datos allí también. \n",
        "\n",
        "Vamos a ver [varias formas de importar](https://towardsdatascience.com/3-ways-to-load-csv-files-into-colab-7c14fcbdcb92) datos en Colab.\n",
        "\n",
        "\n",
        "*   Importar una tabla desde Github\n",
        "*   Cargar (y luego importar) una tabla de nuestro local\n",
        "*   Importar una tabla de Google Drive"
      ]
    },
    {
      "cell_type": "markdown",
      "metadata": {
        "id": "_dPwOUhOXNyg"
      },
      "source": [
        "## 0201 Importar una tabla desde GitHub\n",
        "\n",
        "Es posible importar una tabla que guardemos en GitHub ([¿No sabes lo que es GitHub?](https://guides.github.com/activities/hello-world/)). GitHub es un repositorio de código, más que un lugar donde guardar datos habitualmente. De todas formas, podemos importar una tabla (pequeña) desde gitHub así:\n",
        "\n",
        "1.   Las tablas deben ser pequeñas, pues GitHub no permite archivos mayores de 25MB \n",
        "2.   Localiza la tabla en un repositorio tuyo o público\n",
        "3.   Pulsa en la opción RAW y copia el link de la dirección resultante\n",
        "4.   Importa los datos utilizando pd.read_csv(link_raw)\n",
        "\n"
      ]
    },
    {
      "cell_type": "markdown",
      "metadata": {
        "id": "YUPn3Da-m0IV"
      },
      "source": [
        "### 020101 EJEMPLO 1: Covid-19\n",
        "La universidad Johns Hopkins (USA) viene recopilando datos de la mayor fiabilidad posible sobre los casos y muertes confirmados por covid-19 mundialmente. Los datos son públicos y se actualizan diariamente en [su repositorio de GitHub](https://github.com/CSSEGISandData/COVID-19).\n",
        "\n",
        "Dentro de este repositorio, hay diversos datasets, fuentes, código. Pongamos que nos interesa el dataset de casos confirmados a nivel mundial. \n",
        "\n",
        "¿Cómo podemos cargalo en este notebook en un Dataframe llamado df_covid?"
      ]
    },
    {
      "cell_type": "code",
      "metadata": {
        "id": "Vv9n9Pmgkn2O"
      },
      "source": [
        "# url de archivo raw de casos confirmados\n",
        "url = 'https://raw.githubusercontent.com/CSSEGISandData/COVID-19/master/csse_covid_19_data/csse_covid_19_time_series/time_series_covid19_confirmed_global.csv'\n",
        "\n",
        "# carga el archivo en un dataframe df_covid\n",
        "df_covid = pd.read_csv(url)\n",
        "\n",
        "df_covid.head()"
      ],
      "execution_count": null,
      "outputs": []
    },
    {
      "cell_type": "markdown",
      "metadata": {
        "id": "xewz8mV20Yp-"
      },
      "source": [
        "## 0202 Importar una tabla local\n",
        "\n",
        "Es posible importar una tabla que guardemos en nuestro local (en nuestro PC). \n",
        "\n",
        "1.   Primero tendremos que subir el archivo de nuestro local a la nube de Google \n",
        "2.   Luego generamos un buffer de los datos\n",
        "3.   Finalmente los importaremos utilizando pd.read_csv()"
      ]
    },
    {
      "cell_type": "markdown",
      "metadata": {
        "id": "X9uX8-ujlaWO"
      },
      "source": [
        "### 020201 EJEMPLO 2: SP500\n",
        "Descargad [ese dataset](https://drive.google.com/file/d/1OfTfaCTGtiS27G-uNpDsRgHqFUIaZ3XP/view?usp=sharing) de mi Google Drive personal a vuestro PC. Recoge la evolución diaria histórica del [SP&500](https://en.wikipedia.org/wiki/S%26P_500_Index). \n",
        "\n",
        "\n",
        "Ahora que está en vuestro local, ¿Cómo podríamos cargarlo a este notebook?"
      ]
    },
    {
      "cell_type": "code",
      "metadata": {
        "id": "QPHiytPq1eYG"
      },
      "source": [
        "# Generamos un objeto para subir el archivo\n",
        "# Esto genera una variable (uploaded) con la información del datasets en bytes\n",
        "from google.colab import files\n",
        "uploaded = files.upload()"
      ],
      "execution_count": null,
      "outputs": []
    },
    {
      "cell_type": "code",
      "metadata": {
        "id": "Kyjci7SKFRJe"
      },
      "source": [
        "# Convertimos los bytes a formato tabular (como el file row que veíamos para Github)\n",
        "import io\n",
        "buffer_io = io.BytesIO(uploaded['sp500.csv'])\n",
        "\n",
        "\n",
        "# Cargamos en un dataframe\n",
        "df_sp500 = pd.read_csv(buffer_io)\n",
        "df_sp500.head(3)"
      ],
      "execution_count": null,
      "outputs": []
    },
    {
      "cell_type": "markdown",
      "metadata": {
        "id": "gn4n_Pr8IXvR"
      },
      "source": [
        "## 0203 Importar una tabla de Google Drive\n",
        "\n",
        "Es posible importar una tabla guardada en Google Drive. Requiere:\n",
        "\n",
        "1.   Emparejar Colab y Google Drive \n",
        "2.   Importarlo utilizando pd.read_csv()"
      ]
    },
    {
      "cell_type": "markdown",
      "metadata": {
        "id": "AblkT14d4Gvt"
      },
      "source": [
        "### 020301 EJEMPLO 3: Fifa19\n",
        "Descargad [este dataset](https://drive.google.com/file/d/1_qzowEIMZsLYL1VbeXb9pzSpMkPSRqWb/view?usp=sharing) con las características de los jugadores del Fifa 19 de mi Google Drive personal a vuestro pc y luego subidlo a vuestro Google Drive. \n",
        "\n",
        "¿Cómo podríamos cargarlo desde ahí a este notebook?"
      ]
    },
    {
      "cell_type": "code",
      "metadata": {
        "id": "HAe4wephIW8a"
      },
      "source": [
        "# Primero emparejamos Colab con Google Drive\n",
        "from google.colab import drive\n",
        "drive.mount('/content/drive')"
      ],
      "execution_count": null,
      "outputs": []
    },
    {
      "cell_type": "code",
      "metadata": {
        "id": "nIRDFybWHzFC"
      },
      "source": [
        "# Importamos el archivos usando read_csv()\n",
        "dir_archivo = '/content/drive/My Drive/Data/Clases/fifa19.csv'\n",
        "df_fifa19 = pd.read_csv(dir_archivo)\n",
        "df_fifa19.head()"
      ],
      "execution_count": null,
      "outputs": []
    },
    {
      "cell_type": "markdown",
      "metadata": {
        "id": "aHaTVDM1s97Q"
      },
      "source": [
        "\n",
        "\n",
        "\n",
        "\n",
        " \n",
        " \n",
        " \n",
        " \n",
        " \n",
        " \n",
        " \n",
        " \n",
        " \n",
        " \n",
        " \n",
        " \n",
        " \n",
        " \n",
        " \n",
        " \n",
        " \n",
        " \n",
        " \n",
        " \n",
        " \n",
        " \n",
        " \n",
        " \n",
        " \n",
        " \n",
        " \n",
        " \n",
        " \n",
        " \n",
        " \n",
        " \n",
        " \n",
        " \n",
        " \n",
        " \n",
        " \n",
        " \n",
        " \n",
        " \n",
        " \n",
        " \n",
        " \n",
        " \n",
        " \n",
        " \n",
        " \n",
        " \n",
        " \n",
        " \n",
        " \n",
        " \n",
        " \n",
        " \n",
        " \n",
        " \n",
        " \n",
        " \n",
        " \n",
        " \n",
        " \n",
        " \n",
        " \n",
        " \n",
        " \n",
        " \n",
        " \n",
        " \n",
        " \n",
        " \n",
        " \n",
        " \n",
        " \n",
        " \n",
        " \n",
        " \n",
        " \n",
        " \n",
        " \n",
        " \n",
        " \n",
        " \n",
        " \n",
        " \n",
        " \n",
        " \n",
        " \n",
        " \n",
        " \n",
        " \n",
        " \n",
        " \n",
        " \n",
        " \n",
        " \n",
        " \n",
        " \n",
        " \n",
        " \n",
        " \n",
        " \n",
        " \n",
        " \n",
        " \n",
        " \n",
        " \n",
        " \n",
        " \n",
        " \n",
        " \n",
        " \n",
        " \n",
        " \n",
        " \n",
        " \n",
        " \n",
        " \n",
        " \n",
        " \n",
        " \n",
        " \n",
        " \n",
        " \n",
        " \n",
        " \n",
        " \n",
        " \n",
        " \n",
        " \n",
        " \n",
        " \n",
        " \n",
        " \n",
        " \n",
        " \n",
        " \n",
        " \n",
        " \n",
        " \n",
        " \n",
        " \n",
        " \n",
        " \n",
        " \n",
        " \n",
        " \n",
        " \n",
        " \n",
        " \n",
        " \n",
        " \n",
        " \n",
        " \n",
        " \n",
        " \n",
        " \n",
        " \n",
        " \n",
        " \n",
        " \n",
        " \n",
        " \n",
        " \n",
        " \n",
        " \n",
        " \n",
        " \n",
        " \n",
        " \n",
        " \n",
        " \n",
        " \n",
        " \n",
        " \n",
        " \n",
        " \n",
        " \n",
        " \n",
        " \n",
        " \n",
        " \n",
        " \n",
        " \n",
        " \n",
        " \n",
        " \n",
        " \n",
        " \n",
        " \n",
        " \n",
        " \n",
        " \n",
        " \n",
        " \n",
        " \n",
        " \n",
        " \n",
        " \n",
        " \n",
        " \n",
        " \n",
        " \n",
        " \n",
        " \n",
        " \n",
        " \n",
        " \n",
        " \n",
        " \n",
        " \n",
        " \n",
        " \n",
        " \n",
        " \n",
        " \n",
        " \n",
        " \n",
        " \n",
        " \n",
        " \n",
        " \n",
        " \n",
        " \n",
        " \n",
        " \n",
        " \n",
        " \n",
        " \n",
        " \n",
        " \n",
        " \n",
        " \n",
        " \n",
        " \n",
        " \n",
        " \n",
        " \n",
        " \n",
        " \n",
        " \n",
        " \n",
        " \n",
        " \n",
        " \n",
        " \n",
        " \n",
        " \n",
        " \n",
        " \n",
        " \n",
        " \n",
        " \n",
        " \n",
        " \n",
        " \n",
        " \n",
        " \n",
        " \n",
        " \n",
        " \n",
        " \n",
        " \n",
        " \n",
        " \n",
        " \n",
        " \n",
        " \n",
        " \n",
        " \n",
        " \n",
        " \n",
        " \n",
        " \n",
        " \n",
        " \n",
        " \n",
        " \n",
        " \n",
        " \n",
        " \n",
        " \n",
        " \n",
        " \n",
        " \n",
        " \n",
        " \n",
        " \n",
        " \n",
        " \n",
        "## 0204 EJERCICIO 1: Importar una tabla de varias formas\n",
        "\n",
        "[Kaggle](https://www.kaggle.com/) es un sitio web imprescindible si estás aprendiendo ciencia de datos. Hay competiciones de machine learning, cursos, posts... \n",
        "\n",
        "Y también es un buen sitio para buscar datos, como haremos en esta ocasión. Yo me he fijado en [este](https://www.kaggle.com/miguelsxvi/air-quality-madrid-2001-2020?select=calidad_aire_madrid.csv), que contiene la evolución diaria de la concentración de diversas partículas contaminantes en Madrid. \n",
        "\n",
        "Leed la descripción de la página para familiarizaros con Kaggle y descargad el csv a vuestro pc. Luego, probad a cargarlo en este Notebook utilizando las 3 formas que hemos visto. (Para traerlo desde GitHub podéis utilizar [esta copia del archivo en mi GitHub personal](https://github.com/JotaBlanco/TheValley/blob/main/Data/calidad_aire_madrid.csv)). Comparad la velocidad y sencillez de cada método."
      ]
    },
    {
      "cell_type": "code",
      "metadata": {
        "id": "tpwgbGlMrAYq"
      },
      "source": [
        "# DESDE GITHUB\n",
        "url = 'https://raw.githubusercontent.com/JotaBlanco/TheValley/main/Data/calidad_aire_madrid.csv'\n",
        "\n",
        "# carga el archivo en un dataframe df_covid\n",
        "df_aire = pd.read_csv(url)\n",
        "\n",
        "df_aire.head()"
      ],
      "execution_count": null,
      "outputs": []
    },
    {
      "cell_type": "code",
      "metadata": {
        "id": "QcnvlCCkT-xR"
      },
      "source": [
        "# DESDE LOCAL\n",
        "# Generamos un objeto para subir el archivo\n",
        "# Esto genera una variable (uploaded) con la información del datasets en bytes\n",
        "from google.colab import files\n",
        "uploaded = files.upload()\n",
        "# Convertimos los bytes a formato tabular (como el file row que veíamos para Github)\n",
        "import io\n",
        "buffer_io = io.BytesIO(uploaded['calidad_aire_madrid.csv'])\n",
        "\n",
        "\n",
        "# Cargamos en un dataframe\n",
        "df_aire = pd.read_csv(buffer_io)\n",
        "df_aire.head(3)"
      ],
      "execution_count": null,
      "outputs": []
    },
    {
      "cell_type": "code",
      "metadata": {
        "id": "sKT6_Q6br8KV"
      },
      "source": [
        "# DESDE GOOGLE DRIVE\n",
        "# Primero emparejamos Colab con Google Drive\n",
        "from google.colab import drive\n",
        "drive.mount('/content/drive')\n",
        "# Importamos el archivos usando read_csv()\n",
        "dir_archivo = '/content/drive/My Drive/Data/Clases/calidad_aire_madrid.csv'\n",
        "df_aire = pd.read_csv(dir_archivo)\n",
        "df_aire.head()"
      ],
      "execution_count": null,
      "outputs": []
    },
    {
      "cell_type": "markdown",
      "metadata": {
        "id": "v27Qct_pU329"
      },
      "source": [
        "### 0205 CHULETA\n",
        "Dado que los dataframes importados hasta ahora se usan más tarde a lo largo de este notebook, si habéis tenido cualquier problema al importarlos podéis hacerlo ahora trayéndolos desde mi github:"
      ]
    },
    {
      "cell_type": "code",
      "metadata": {
        "id": "EM-5g0LdaVTx"
      },
      "source": [
        "url_covid = 'https://raw.githubusercontent.com/CSSEGISandData/COVID-19/master/csse_covid_19_data/csse_covid_19_time_series/time_series_covid19_confirmed_global.csv'\n",
        "url_sp500 = 'https://raw.githubusercontent.com/JotaBlanco/TheValley/main/Data/sp500.csv'\n",
        "url_fifa = 'https://raw.githubusercontent.com/JotaBlanco/TheValley/main/Data/fifa19.csv'\n",
        "url_aire = 'https://raw.githubusercontent.com/JotaBlanco/TheValley/main/Data/calidad_aire_madrid.csv'\n",
        "\n",
        "df_covid = pd.read_csv(url_covid)\n",
        "df_sp500 = pd.read_csv(url_sp500)\n",
        "df_fifa19 = pd.read_csv(url_fifa)\n",
        "df_aire = pd.read_csv(url_aire)"
      ],
      "execution_count": null,
      "outputs": []
    },
    {
      "cell_type": "markdown",
      "metadata": {
        "id": "KBOQJ0AjdYrM"
      },
      "source": [
        "# 03 Basic checks\n",
        "Una vez se han importado los datos, empezamos realizando comprobaciones básicas: tamaño de la tabla, columnas presentes, etc.\n",
        "\n",
        "El método dataframe.[info()](https://pandas.pydata.org/pandas-docs/stable/reference/api/pandas.DataFrame.info.html) es muy útil para esto."
      ]
    },
    {
      "cell_type": "code",
      "metadata": {
        "id": "9mYRz8Tty_br"
      },
      "source": [
        "df_sp500.info()"
      ],
      "execution_count": null,
      "outputs": []
    },
    {
      "cell_type": "markdown",
      "metadata": {
        "id": "J93MDkTffXXG"
      },
      "source": [
        "## 0301 Vista previa\n",
        "Una buena primera comprobación suele ser visualizar la tabla. \n",
        "\n",
        "Aquí son muy útiles los métodos dataframe.[head()](https://pandas.pydata.org/pandas-docs/stable/reference/api/pandas.DataFrame.head.html) y dataframe.[tail()](https://pandas.pydata.org/pandas-docs/stable/reference/api/pandas.DataFrame.tail.html)."
      ]
    },
    {
      "cell_type": "code",
      "metadata": {
        "id": "Xr6XXUD3fIAO"
      },
      "source": [
        "df_sp500.head()"
      ],
      "execution_count": null,
      "outputs": []
    },
    {
      "cell_type": "code",
      "metadata": {
        "id": "qt-maoAZgOl3"
      },
      "source": [
        "df_sp500.head(2)"
      ],
      "execution_count": null,
      "outputs": []
    },
    {
      "cell_type": "code",
      "metadata": {
        "id": "TgGVIgGIgUD8"
      },
      "source": [
        "df_sp500.tail()"
      ],
      "execution_count": null,
      "outputs": []
    },
    {
      "cell_type": "markdown",
      "metadata": {
        "id": "gKN9znvm22-_"
      },
      "source": [
        "### iloc[filas,columnas]\n",
        "Filtra el dataframe para quedarse con datos concretos utilizando indices."
      ]
    },
    {
      "cell_type": "code",
      "metadata": {
        "id": "NM7tpUM7gcco"
      },
      "source": [
        "df_sp500.iloc[1:3]"
      ],
      "execution_count": null,
      "outputs": []
    },
    {
      "cell_type": "code",
      "metadata": {
        "id": "P-ZqQ-C-3QFL"
      },
      "source": [
        "df_sp500.iloc[-5:,:5]"
      ],
      "execution_count": null,
      "outputs": []
    },
    {
      "cell_type": "markdown",
      "metadata": {
        "id": "uAmUX3JH3b9M"
      },
      "source": [
        "### loc[filas,columnas]\n",
        "Filtra el dataframe para quedarse con datos concretos utilizando valores."
      ]
    },
    {
      "cell_type": "code",
      "metadata": {
        "id": "Q3wx14th2zUi"
      },
      "source": [
        "df_sp500.loc[2:5, ['Date','Open','Close']]"
      ],
      "execution_count": null,
      "outputs": []
    },
    {
      "cell_type": "code",
      "metadata": {
        "id": "5eFFA4O7gmj8"
      },
      "source": [
        "# Admite filtros!\n",
        "filtro_posterior_2018 = df_sp500['Date'] > '2018-12-31'\n",
        "filtro_posterior_2018"
      ],
      "execution_count": null,
      "outputs": []
    },
    {
      "cell_type": "code",
      "metadata": {
        "id": "Nkq6MfbghCZP"
      },
      "source": [
        "df_sp500.loc[filtro_posterior_2018, ['Date','Open','Close']]"
      ],
      "execution_count": null,
      "outputs": []
    },
    {
      "cell_type": "markdown",
      "metadata": {
        "id": "roYXoEuoeOB1"
      },
      "source": [
        "## 0302 Tamaño\n",
        "El tamaño de las tablas se puede comprobar con dataframe.[shape](https://pandas.pydata.org/pandas-docs/stable/reference/api/pandas.DataFrame.shape.html), que devuelve un tupple (filas, columnas)."
      ]
    },
    {
      "cell_type": "code",
      "metadata": {
        "id": "s6HaXEYPeJGU"
      },
      "source": [
        "df_covid.shape"
      ],
      "execution_count": null,
      "outputs": []
    },
    {
      "cell_type": "code",
      "metadata": {
        "id": "TgbFNU3qexBi"
      },
      "source": [
        "# filas\n",
        "df_covid.shape[0]"
      ],
      "execution_count": null,
      "outputs": []
    },
    {
      "cell_type": "code",
      "metadata": {
        "id": "ZhFEBHdIe9uT"
      },
      "source": [
        "# filas\n",
        "len(df_covid)"
      ],
      "execution_count": null,
      "outputs": []
    },
    {
      "cell_type": "code",
      "metadata": {
        "id": "B8Q_T8bVe3ou"
      },
      "source": [
        "# columnas\n",
        "df_covid.shape[1]"
      ],
      "execution_count": null,
      "outputs": []
    },
    {
      "cell_type": "code",
      "metadata": {
        "id": "dc4WBjcqelS4"
      },
      "source": [
        "df_sp500.shape"
      ],
      "execution_count": null,
      "outputs": []
    },
    {
      "cell_type": "code",
      "metadata": {
        "id": "YBNbfdQEeoC4"
      },
      "source": [
        "df_fifa19.shape"
      ],
      "execution_count": null,
      "outputs": []
    },
    {
      "cell_type": "code",
      "metadata": {
        "id": "YoTcd-RD9ACK"
      },
      "source": [
        "df_aire.shape"
      ],
      "execution_count": null,
      "outputs": []
    },
    {
      "cell_type": "markdown",
      "metadata": {
        "id": "ArizLXfs43CD"
      },
      "source": [
        "## 0303 Tipos de datos\n",
        "Qué tipos de datos contiene nuestro dataframe?"
      ]
    },
    {
      "cell_type": "code",
      "metadata": {
        "id": "Bf1-1v6desoJ"
      },
      "source": [
        "df_fifa19.info()"
      ],
      "execution_count": null,
      "outputs": []
    },
    {
      "cell_type": "code",
      "metadata": {
        "id": "zf0zSKJo7B2e"
      },
      "source": [
        "df_fifa19.head(2)"
      ],
      "execution_count": null,
      "outputs": []
    },
    {
      "cell_type": "code",
      "metadata": {
        "id": "llks32JF7LYx"
      },
      "source": [
        "type(df_fifa19)"
      ],
      "execution_count": null,
      "outputs": []
    },
    {
      "cell_type": "code",
      "metadata": {
        "id": "f3-tHTGT9GLs"
      },
      "source": [
        "type(df_fifa19['ID'])"
      ],
      "execution_count": null,
      "outputs": []
    },
    {
      "cell_type": "code",
      "metadata": {
        "id": "6zPHfGmG9IqI"
      },
      "source": [
        "type(df_fifa19['ID'][0])"
      ],
      "execution_count": null,
      "outputs": []
    },
    {
      "cell_type": "code",
      "metadata": {
        "id": "UyOCzVC-9LNE"
      },
      "source": [
        "type(df_fifa19['Name'][0])"
      ],
      "execution_count": null,
      "outputs": []
    },
    {
      "cell_type": "markdown",
      "metadata": {
        "id": "kWtOKi7tDFx0"
      },
      "source": [
        "## 0304 Variables\n",
        "El método dataframe.[columns](https://www.google.com/search?q=dataframe+columns&oq=dataframe+columns&aqs=chrome..69i57j0l5.5054j0j4&sourceid=chrome&ie=UTF-8) devuelve las columnas de nuestra tabla en orden. Es útil en lugar del método info() cuando tenemos muchas columnas, o para realizar operaciones con ellas. "
      ]
    },
    {
      "cell_type": "code",
      "metadata": {
        "id": "lBKkhpqmDSEb"
      },
      "source": [
        "df_fifa19.columns"
      ],
      "execution_count": null,
      "outputs": []
    },
    {
      "cell_type": "markdown",
      "metadata": {
        "id": "b0_f4lM4f-mC"
      },
      "source": [
        "## 0305 EJEMPLO 4: Comprobaciones básicas\n",
        "Hagamos las comprobaciones básicas del dataframe sobre la calidad del aire de Madrid:\n",
        "\n",
        "\n",
        "*   Número de filas y columnas\n",
        "*   Nombre de las columnas\n",
        "*   Tipos de dato de cada columna\n",
        "*   Vista previa de los primeros y últimos valores"
      ]
    },
    {
      "cell_type": "code",
      "metadata": {
        "id": "f5VsFfTxga6j"
      },
      "source": [
        "# info()\n",
        "df_aire.info()"
      ],
      "execution_count": null,
      "outputs": []
    },
    {
      "cell_type": "code",
      "metadata": {
        "id": "6emzzDpcifuc"
      },
      "source": [
        "# Vista previas\n",
        "display(df_aire.head())\n",
        "display(df_aire.tail())"
      ],
      "execution_count": null,
      "outputs": []
    },
    {
      "cell_type": "markdown",
      "metadata": {
        "id": "WJV8LAGGKkqG"
      },
      "source": [
        "# 04 Limpieza de Nulos\n",
        "Los nulos son habituales y un poco molestos. Constituyen una pérdida de información y pueden impedir ciertos cálculos.\n",
        "\n",
        "Es importante detectarlos y, cuando sea posible, corregirlos."
      ]
    },
    {
      "cell_type": "markdown",
      "metadata": {
        "id": "5Xe-BGZXM9Z7"
      },
      "source": [
        "## 0401 Nulos por variable\n",
        "Podemos ver el número de nulos por variable.\n",
        "\n",
        "Dataframe[.isna()](https://pandas.pydata.org/pandas-docs/stable/reference/api/pandas.DataFrame.isna.html) es un método muy útil."
      ]
    },
    {
      "cell_type": "code",
      "metadata": {
        "id": "_qvjjkpeLZPQ"
      },
      "source": [
        "# Método isna()\n",
        "df_fifa19.isna().head()"
      ],
      "execution_count": null,
      "outputs": []
    },
    {
      "cell_type": "code",
      "metadata": {
        "id": "auxOC7qZLZTH"
      },
      "source": [
        "df_fifa19.isna().sum()"
      ],
      "execution_count": null,
      "outputs": []
    },
    {
      "cell_type": "code",
      "metadata": {
        "id": "-j-hOnq3LZW4"
      },
      "source": [
        "pd.DataFrame(df_fifa19.isna().sum())"
      ],
      "execution_count": null,
      "outputs": []
    },
    {
      "cell_type": "markdown",
      "metadata": {
        "id": "X5lZQU62jSnp"
      },
      "source": [
        "### 040101 EJEMPLO 5: Función buscadora de nulos\n",
        "vamos a crear una función que, dado un dataframe, muestra una tabla con el número de nulos por variable ordenado de mayor a menor."
      ]
    },
    {
      "cell_type": "code",
      "metadata": {
        "id": "R7vAgPryKzJH"
      },
      "source": [
        "def contador_nulos(df):\n",
        "  \"\"\"\n",
        "  Función que devuelve un dataframe indicando el número de nulos en cada\n",
        "  variables. \n",
        "  \"\"\"\n",
        "  df_nulos = pd.DataFrame(df.isna().sum())\n",
        "  df_nulos.columns = ['# Nulos']\n",
        "  return df_nulos.sort_values('# Nulos', ascending=False)"
      ],
      "execution_count": null,
      "outputs": []
    },
    {
      "cell_type": "code",
      "metadata": {
        "id": "iWk5NEiOMV73"
      },
      "source": [
        "contador_nulos(df_covid)"
      ],
      "execution_count": null,
      "outputs": []
    },
    {
      "cell_type": "code",
      "metadata": {
        "id": "qWMIkT2FMbkd"
      },
      "source": [
        "contador_nulos(df_sp500)"
      ],
      "execution_count": null,
      "outputs": []
    },
    {
      "cell_type": "code",
      "metadata": {
        "id": "ePhK1OT9Mfcy"
      },
      "source": [
        "df_contador = contador_nulos(df_fifa19)\n",
        "df_contador.head()"
      ],
      "execution_count": null,
      "outputs": []
    },
    {
      "cell_type": "markdown",
      "metadata": {
        "id": "e10yfv33N5DA"
      },
      "source": [
        "## 0402 Explorar Nulos\n",
        "Cuando sea posible es recomendable entender la causa de los nulos. Hay algún patrón que se repite entre los nulos?"
      ]
    },
    {
      "cell_type": "code",
      "metadata": {
        "id": "XUmdd32nPBl5"
      },
      "source": [
        "# La columna 'Lat' solo tenía un nulo, podemos entender por qué?\n",
        "filtro_lat_nulo = df_covid['Lat'].isna()\n",
        "df_covid.loc[filtro_lat_nulo, ['Province/State', 'Country/Region', 'Lat', 'Long']]"
      ],
      "execution_count": null,
      "outputs": []
    },
    {
      "cell_type": "markdown",
      "metadata": {
        "id": "3mDf8BDVkW3Q"
      },
      "source": [
        "### EJEMPLO 6: Entender nulos en 'Province/State'\n",
        "En esta columna hay muchos nulos: 188. Para entender cuándo están presentes, vamos a qué paises pertenencen y a cuáles no."
      ]
    },
    {
      "cell_type": "code",
      "metadata": {
        "id": "AJK90IjBO6cI"
      },
      "source": [
        "filtro_col_nulos = df_covid['Province/State'].isna()\n",
        "filtro_col_nulos"
      ],
      "execution_count": null,
      "outputs": []
    },
    {
      "cell_type": "code",
      "metadata": {
        "id": "DOY9LxhmN4Ir"
      },
      "source": [
        "filtro_col_no_nulos = df_covid['Province/State'].notnull()\n",
        "filtro_col_no_nulos"
      ],
      "execution_count": null,
      "outputs": []
    },
    {
      "cell_type": "code",
      "metadata": {
        "id": "-0h9MFzeOuxe"
      },
      "source": [
        "df_covid.loc[filtro_col_nulos, 'Country/Region']"
      ],
      "execution_count": null,
      "outputs": []
    },
    {
      "cell_type": "code",
      "metadata": {
        "id": "pdtzv52wlL_P"
      },
      "source": [
        "paises_provincia_nulos = df_covid.loc[filtro_col_nulos, 'Country/Region'].unique()\n",
        "paises_provincia_nulos"
      ],
      "execution_count": null,
      "outputs": []
    },
    {
      "cell_type": "code",
      "metadata": {
        "id": "f99RJL4YfYfx"
      },
      "source": [
        "paises_provincia_no_nulos = df_covid.loc[filtro_col_no_nulos, 'Country/Region'].unique()\n",
        "paises_provincia_no_nulos"
      ],
      "execution_count": null,
      "outputs": []
    },
    {
      "cell_type": "markdown",
      "metadata": {
        "id": "Ly6PBQLTPRhs"
      },
      "source": [
        "## 0403 Tratamiento de Nulos\n",
        "Una vez hemos detectado los nulos presentes en la tabla podemos corregirlos de varias formas."
      ]
    },
    {
      "cell_type": "markdown",
      "metadata": {
        "id": "iApBnShqUCgY"
      },
      "source": [
        "### 040301 Prescindir de Nulos\n",
        "Si tenemos pocas filas con nulos y consideramos que no son muy decisivas, podemos prescindir de dichas filas con el método dataframe.[dropna()](https://pandas.pydata.org/pandas-docs/stable/reference/api/pandas.DataFrame.dropna.html)."
      ]
    },
    {
      "cell_type": "code",
      "metadata": {
        "id": "MAq3sI7uVhIZ"
      },
      "source": [
        "# Tamaño del dataframe original\n",
        "df_covid.shape"
      ],
      "execution_count": null,
      "outputs": []
    },
    {
      "cell_type": "code",
      "metadata": {
        "id": "pe3wr5XvUaYz"
      },
      "source": [
        "# Eliminamos filas con nulos en la columna 'Lat'\n",
        "df_covid_drop_null_lat = df_covid.dropna(subset=['Lat'])\n",
        "df_covid_drop_null_lat.shape"
      ],
      "execution_count": null,
      "outputs": []
    },
    {
      "cell_type": "markdown",
      "metadata": {
        "id": "Px3kdZPhXNli"
      },
      "source": [
        "#### 04030101 EJEMPLO 7: Eliminar filas\n",
        "En el dataframe de jugadores del Fifa, si hay ciertas filas con con gran presencia de nulos y éstas no suponen un número significativo para el total, podemos eliminarlas."
      ]
    },
    {
      "cell_type": "code",
      "metadata": {
        "id": "DR2HvE0KXM6c"
      },
      "source": [
        "df_fifa19.shape"
      ],
      "execution_count": null,
      "outputs": []
    },
    {
      "cell_type": "code",
      "metadata": {
        "id": "2lrdX3bqXb3E"
      },
      "source": [
        "# Parece que hay 48 jugadores de los que no tenemos datos. Son poquitos \n",
        "# (comparado con el total de 18207) así que podemos prescindir de ellos\n",
        "df_contador.head(50)"
      ],
      "execution_count": null,
      "outputs": []
    },
    {
      "cell_type": "code",
      "metadata": {
        "id": "oLFP3z_pYC7s"
      },
      "source": [
        "# Eliminamos aquellas filas que no tienen informado el peso del jugardor\n",
        "df_fifa19.dropna(axis=0, subset=['Weight'], inplace=True)\n",
        "df_contador = contador_nulos(df_fifa19)\n",
        "df_contador.head(50)"
      ],
      "execution_count": null,
      "outputs": []
    },
    {
      "cell_type": "code",
      "metadata": {
        "id": "Sj7uSjGmZj_n"
      },
      "source": [
        "df_fifa19.shape"
      ],
      "execution_count": null,
      "outputs": []
    },
    {
      "cell_type": "markdown",
      "metadata": {
        "id": "Bdqa5LmYVuQD"
      },
      "source": [
        "### 040302 Rellenar Nulos con Valores\n",
        "Podemos sustituir los nulos con valores concretos: 0, la media o mediana, etc.\n",
        "\n",
        "Para esto podemos utilizar el método dataframe.[fillna()](https://pandas.pydata.org/pandas-docs/stable/reference/api/pandas.DataFrame.fillna.html#pandas.DataFrame.fillna)."
      ]
    },
    {
      "cell_type": "code",
      "metadata": {
        "id": "kQT4se6ylNFG"
      },
      "source": [
        "df_contador = contador_nulos(df_fifa19)\n",
        "df_contador.head(50)"
      ],
      "execution_count": null,
      "outputs": []
    },
    {
      "cell_type": "code",
      "metadata": {
        "id": "Y4hph9MSYWp_"
      },
      "source": [
        "# Nulos en columna 'Club'\n",
        "df_fifa19['Club'] = df_fifa19['Club'].fillna('Unknown')"
      ],
      "execution_count": null,
      "outputs": []
    },
    {
      "cell_type": "code",
      "metadata": {
        "id": "MdK76ilRkz-u"
      },
      "source": [
        "# Nulos en columna 'Jersey Number'\n",
        "mediana_dorsal = df_fifa19['Jersey Number'].median()\n",
        "df_fifa19['Jersey Number'] = df_fifa19['Jersey Number'].fillna(mediana_dorsal)"
      ],
      "execution_count": null,
      "outputs": []
    },
    {
      "cell_type": "markdown",
      "metadata": {
        "id": "AX1SgTxG-LZe"
      },
      "source": [
        "# 05 Limpieza de datos\n",
        "Es habitual que algunos de los datos se encuentren en formatos no apropiados.\n"
      ]
    },
    {
      "cell_type": "markdown",
      "metadata": {
        "id": "ObFdY6I5_CZt"
      },
      "source": [
        "## 0501 Limpieza de Formatos\n",
        "A veces los datos se encuentran en formatos no adecuados. Un formato correspondiente con el tipo de dato permitirá realizar ciertas operaciones con mayor facilidad.\n",
        "\n",
        "Para esto nos serán de utilidad los métodos:\n",
        "\n",
        "*   [astype()](https://pandas.pydata.org/pandas-docs/stable/reference/api/pandas.DataFrame.astype.html)\n",
        "*   [to_datetime()](https://pandas.pydata.org/pandas-docs/stable/reference/api/pandas.to_datetime.html)"
      ]
    },
    {
      "cell_type": "code",
      "metadata": {
        "id": "d07H-0uF-Ks0"
      },
      "source": [
        "df_sp500.loc[:5,'Date']"
      ],
      "execution_count": null,
      "outputs": []
    },
    {
      "cell_type": "code",
      "metadata": {
        "id": "rd20qWh1_fkJ"
      },
      "source": [
        "df_sp500.loc[:5,'Date'][0]"
      ],
      "execution_count": null,
      "outputs": []
    },
    {
      "cell_type": "code",
      "metadata": {
        "id": "VsMoNQJO_kGc"
      },
      "source": [
        "type(df_sp500.loc[:5,'Date'][0])"
      ],
      "execution_count": null,
      "outputs": []
    },
    {
      "cell_type": "code",
      "metadata": {
        "id": "zZjdNJML_ooA"
      },
      "source": [
        "# Cambiamos el formato de la columna 'Date'\n",
        "df_sp500['Date'] = pd.to_datetime(\n",
        "    df_sp500['Date'], format='%Y-%m-%d', errors='ignore')"
      ],
      "execution_count": null,
      "outputs": []
    },
    {
      "cell_type": "markdown",
      "metadata": {
        "id": "GsU8DNL4Dkcl"
      },
      "source": [
        "## 0502 Eliminación de variables\n",
        "Se pueden eliminar columnas o filas no necesarias con el método dataframe.[drop()](https://pandas.pydata.org/pandas-docs/stable/reference/api/pandas.DataFrame.drop.html)."
      ]
    },
    {
      "cell_type": "code",
      "metadata": {
        "id": "onlfIXIOEV27"
      },
      "source": [
        "df_fifa19.head(3)"
      ],
      "execution_count": null,
      "outputs": []
    },
    {
      "cell_type": "code",
      "metadata": {
        "id": "mzFmAfgQEoQk"
      },
      "source": [
        "df_fifa19.columns"
      ],
      "execution_count": null,
      "outputs": []
    },
    {
      "cell_type": "code",
      "metadata": {
        "id": "G_l2pcPqEt-6"
      },
      "source": [
        "cols_to_drop = ['Unnamed: 0', 'ID', 'Photo', 'Flag', 'Club Logo', \n",
        "                'LS', 'ST', 'RS', 'LW', 'LF', 'CF', 'RF', 'RW', 'LAM', 'CAM', \n",
        "                'RAM', 'LM', 'LCM', 'CM', 'RCM', 'RM', 'LWB', 'LDM', 'CDM', \n",
        "                'RDM', 'RWB', 'LB', 'LCB', 'CB', 'RCB', 'RB']\n",
        "\n",
        "df_fifa19_clean = df_fifa19.drop(cols_to_drop, axis=1)"
      ],
      "execution_count": null,
      "outputs": []
    },
    {
      "cell_type": "code",
      "metadata": {
        "id": "uheiOkVHGkS7"
      },
      "source": [
        "df_fifa19.shape, df_fifa19_clean.shape"
      ],
      "execution_count": null,
      "outputs": []
    },
    {
      "cell_type": "markdown",
      "metadata": {
        "id": "-coYyqFwKZnN"
      },
      "source": [
        "# 06 Transformación de variables\n",
        "A veces querremos crear nuevas variables o modificar variables existentes de manera un poco más personalizada/compleja que lo visto hasta ahora. Cómo lo hacemos?\n",
        "\n",
        "Para cambiar los valores en una columna debemos tratar de evitar iterar sobre las filas del dataframe. Son procesos lentos que llevarán mucho tiempo para dataframes grandes. El orden (atendiendo a la eficiencia computacional) en que debemos intentar las operaciones es:\n",
        "\n",
        "\n",
        "\n",
        "1.   Vectorización\n",
        "2.   List comprehensions\n",
        "3.   Dataframe.[apply()](https://pandas.pydata.org/pandas-docs/stable/reference/api/pandas.DataFrame.apply.html)\n",
        "4.   Dataframe.[itertuples()](https://pandas.pydata.org/pandas-docs/stable/reference/api/pandas.DataFrame.itertuples.html), dataframe.[iteritems()](https://pandas.pydata.org/pandas-docs/stable/reference/api/pandas.DataFrame.iteritems.html#pandas.DataFrame.iteritems), dataframe.[iterrows()](https://pandas.pydata.org/pandas-docs/stable/reference/api/pandas.DataFrame.iterrows.html#pandas.DataFrame.iterrows)\n",
        "\n"
      ]
    },
    {
      "cell_type": "markdown",
      "metadata": {
        "id": "WrKV6Xq5Nfcb"
      },
      "source": [
        "## 0601 Iteracion\n",
        "Aunque sea el menos eficiente, iterar sobre el dataframe es lo más sencillo conceptualmente. Veamos cómo podemos modificar una variable así."
      ]
    },
    {
      "cell_type": "code",
      "metadata": {
        "id": "QzVKH-j7NSqR"
      },
      "source": [
        "for index, row in df_fifa19_clean.head(1).iterrows():\n",
        "  print('Index: ', index)\n",
        "  print('Row: ', row)"
      ],
      "execution_count": null,
      "outputs": []
    },
    {
      "cell_type": "code",
      "metadata": {
        "id": "_XKijnbpOjpu"
      },
      "source": [
        "for index, row in df_fifa19_clean.head(1).iterrows():\n",
        "  print('Index: ', index)\n",
        "  print('Peso: ', row['Weight'])"
      ],
      "execution_count": null,
      "outputs": []
    },
    {
      "cell_type": "code",
      "metadata": {
        "id": "cOKu_xP6PJd1"
      },
      "source": [
        "%%timeit \n",
        "for index, row in df_fifa19_clean.iterrows():\n",
        "  \n",
        "  # Si el string contine 'lbs' al final del mismo\n",
        "  if row['Weight'][-3:] == 'lbs':\n",
        "\n",
        "    # Nos quedamos con la parte anterior (el peso) con formato numérico (float)\n",
        "    peso_libras = float(row['Weight'][:-3])\n",
        "\n",
        "    # Convertimos el peso en kgs\n",
        "    peso_kgs = peso_libras*0.453592\n",
        "\n",
        "    # Populamos la columna\n",
        "    df_fifa19_clean.loc[index, 'Weight_kg'] = peso_kgs\n",
        "  \n",
        "  else:\n",
        "    # Si no contenía 'lbs' al final, lo dejamos como nulo\n",
        "    df_fifa19_clean.loc[index, 'Weight_kg'] = np.NaN"
      ],
      "execution_count": null,
      "outputs": []
    },
    {
      "cell_type": "code",
      "metadata": {
        "id": "ffkz3ADBWeLb"
      },
      "source": [
        "df_fifa19_clean.head()"
      ],
      "execution_count": null,
      "outputs": []
    },
    {
      "cell_type": "code",
      "metadata": {
        "id": "V-UlKXXXIPXg"
      },
      "source": [
        "df_fifa19_clean['Weight_kg'].isna().sum()"
      ],
      "execution_count": null,
      "outputs": []
    },
    {
      "cell_type": "markdown",
      "metadata": {
        "id": "Fn0NZQa4Jcc3"
      },
      "source": [
        "## 0602 Dataframe.apply()\n",
        "La siguiente opción en eficiencia es utilizar el método [.apply()](https://pandas.pydata.org/pandas-docs/stable/reference/api/pandas.DataFrame.apply.html). Más información sobre [cómo crear funciones para aplicar sobre un dataframe con .apply()](https://queirozf.com/entries/pandas-dataframes-apply-examples).\n",
        "\n",
        "Veamos cómo podemos modificar una variable así."
      ]
    },
    {
      "cell_type": "code",
      "metadata": {
        "id": "k0yrxVDsI2CB"
      },
      "source": [
        "def limpiar_peso(valor_original):\n",
        "  \"\"\"\n",
        "  Función que limpia la columna Weight al convertirla en formato númerico\n",
        "  y definir los valores en Kg\n",
        "  \"\"\"\n",
        "  # Si el string contine 'lbs' al final del mismo\n",
        "  if valor_original[-3:] == 'lbs':\n",
        "\n",
        "    # Nos quedamos con la parte anterior (el peso) con formato numérico (float)\n",
        "    peso_libras = float(valor_original[:-3])\n",
        "\n",
        "    # Convertimos el peso en kgs\n",
        "    peso_kgs = peso_libras*0.453592\n",
        "  \n",
        "  else:\n",
        "    # Si no contenía 'lbs' al final, lo dejamos como nulo\n",
        "    peso_kgs = np.NaN\n",
        "  \n",
        "  return peso_kgs"
      ],
      "execution_count": null,
      "outputs": []
    },
    {
      "cell_type": "code",
      "metadata": {
        "id": "oWdQaxstI0kh"
      },
      "source": [
        "%%timeit \n",
        "df_fifa19_clean['Weight_kg'] = df_fifa19_clean['Weight'].apply(limpiar_peso)"
      ],
      "execution_count": null,
      "outputs": []
    },
    {
      "cell_type": "code",
      "metadata": {
        "id": "i-BzoSAoJ7Em"
      },
      "source": [
        "df_fifa19_clean.head()"
      ],
      "execution_count": null,
      "outputs": []
    },
    {
      "cell_type": "markdown",
      "metadata": {
        "id": "9aGUhuqqLSBi"
      },
      "source": [
        "## 0603 List Comprehensions\n",
        "Método conciso y eficiente de crear listas. [Info extra sobre cuándo y por qué usar list comprehensions.](https://realpython.com/list-comprehension-python/#benefits-of-using-list-comprehensions) \n",
        "\n",
        "Las list comprehensions utilizan la sintaxis: \n",
        "*   [expression for item in list]\n",
        "\n",
        "O si incluímos condiciones:\n",
        "\n",
        "*   [expression if condicion else expresion for item in list]\n",
        "\n",
        "Veamos cómo podemos modificar una variable utilizando list comprehensions."
      ]
    },
    {
      "cell_type": "code",
      "metadata": {
        "id": "6jMUdUDFPQlc"
      },
      "source": [
        "# [expresion for item in list]"
      ],
      "execution_count": null,
      "outputs": []
    },
    {
      "cell_type": "code",
      "metadata": {
        "id": "I4vuE1I9PUJZ"
      },
      "source": [
        "[x for x in df_fifa19_clean['Weight']][:5]"
      ],
      "execution_count": null,
      "outputs": []
    },
    {
      "cell_type": "code",
      "metadata": {
        "id": "hZWMUQvwOnMq"
      },
      "source": [
        "[x[:-3] for x in df_fifa19_clean['Weight']][:5]"
      ],
      "execution_count": null,
      "outputs": []
    },
    {
      "cell_type": "code",
      "metadata": {
        "id": "4RpRQxmBPi54"
      },
      "source": [
        "[float(x[:-3]) for x in df_fifa19_clean['Weight']][:5]"
      ],
      "execution_count": null,
      "outputs": []
    },
    {
      "cell_type": "code",
      "metadata": {
        "id": "GahCybMsPmxy"
      },
      "source": [
        "[float(x[:-3])*0.453592 for x in df_fifa19_clean['Weight']][:5]"
      ],
      "execution_count": null,
      "outputs": []
    },
    {
      "cell_type": "code",
      "metadata": {
        "id": "984V8JbAP1HS"
      },
      "source": [
        "[float(x[:-3])*0.453592 if x[-3:]=='lbs' else np.NaN for x in df_fifa19_clean['Weight']][:5]"
      ],
      "execution_count": null,
      "outputs": []
    },
    {
      "cell_type": "code",
      "metadata": {
        "id": "15GrgLULLRVS"
      },
      "source": [
        "%%timeit \n",
        "df_fifa19_clean['Weight_kg'] = [float(x[:-3])*0.453592 if x[-3:]=='lbs' else np.NaN for x in df_fifa19_clean['Weight']]"
      ],
      "execution_count": null,
      "outputs": []
    },
    {
      "cell_type": "code",
      "metadata": {
        "id": "oVAUfUCaQhEV"
      },
      "source": [
        "df_fifa19_clean.head()"
      ],
      "execution_count": null,
      "outputs": []
    },
    {
      "cell_type": "markdown",
      "metadata": {
        "id": "dPxmtnU2RCue"
      },
      "source": [
        "## 0604 Vectorización\n",
        "Consiste en realizar operaciones con vectores en la medida de lo posible en lugar de elemento por elemento. [Más información sobre vectorización aquí](https://stackoverflow.com/questions/1422149/what-is-vectorization)."
      ]
    },
    {
      "cell_type": "code",
      "metadata": {
        "id": "P3McUkJlRB4W"
      },
      "source": [
        "# Vectorizamos la función que habíamos creado\n",
        "limpiar_peso_vectorizada = np.vectorize(limpiar_peso)"
      ],
      "execution_count": null,
      "outputs": []
    },
    {
      "cell_type": "code",
      "metadata": {
        "id": "DgucTGuyhulF"
      },
      "source": [
        "%%timeit\n",
        "df_fifa19_clean['Weight_kg'] = limpiar_peso_vectorizada(np.array(df_fifa19_clean['Weight']))"
      ],
      "execution_count": null,
      "outputs": []
    },
    {
      "cell_type": "code",
      "metadata": {
        "id": "45z3cbVTigxI"
      },
      "source": [
        "df_fifa19_clean.head()"
      ],
      "execution_count": null,
      "outputs": []
    },
    {
      "cell_type": "markdown",
      "metadata": {
        "id": "K0wyx1Z9iqWC"
      },
      "source": [
        "## 0605 EJEMPLO 8: Limpieza de columnas con precios\n",
        "Las columnas ['Value', 'Wage', 'Release Clasue'] continen valores monetarios en formatos un poco extraños: son strings, con el tipo de moneda antecediendo a la cifra, que contiene abreviaturas tipo M, K para indicar millones, miles, etc.\n",
        "\n",
        "Limpiemos estas columnas utilizando las distintas formas que hemos aprendido:"
      ]
    },
    {
      "cell_type": "markdown",
      "metadata": {
        "id": "PTrY-g8IqRPx"
      },
      "source": [
        "### 060501 Exploramos las columnas\n",
        "Para entender el formato."
      ]
    },
    {
      "cell_type": "code",
      "metadata": {
        "id": "RzFnesCFjgID"
      },
      "source": [
        "# Primero echamos un ojo a las columnas\n",
        "df_fifa19_clean[['Value','Wage','Release Clause']].head()"
      ],
      "execution_count": null,
      "outputs": []
    },
    {
      "cell_type": "code",
      "metadata": {
        "id": "pC-mU5hIkaEi"
      },
      "source": [
        "# Contienen nulos?\n",
        "df_fifa19_clean[['Value','Wage','Release Clause']].isna().sum()"
      ],
      "execution_count": null,
      "outputs": []
    },
    {
      "cell_type": "code",
      "metadata": {
        "id": "roOIITCEnb8l"
      },
      "source": [
        "# Release Clause sí tiene nulos: los rellenamos con un formato similar\n",
        "df_fifa19_clean['Release Clause'] = df_fifa19_clean['Release Clause'].fillna('€0M')"
      ],
      "execution_count": null,
      "outputs": []
    },
    {
      "cell_type": "code",
      "metadata": {
        "id": "PapLY0eEjy2d"
      },
      "source": [
        "# Todos los valores empiezan por el string '€'?\n",
        "for columna in ['Value','Wage','Release Clause']:\n",
        "  lista_valores = [x[:1] for x in df_fifa19_clean[columna]]\n",
        "  lista_sin_duplicados = list(set(lista_valores))\n",
        "  print('En la columna ' + columna + ' los valores empiezan por ', lista_sin_duplicados)"
      ],
      "execution_count": null,
      "outputs": []
    },
    {
      "cell_type": "code",
      "metadata": {
        "id": "1oxm4OZRkHS8"
      },
      "source": [
        "# Todos los valores acaban por el string 'M'?\n",
        "for columna in ['Value','Wage','Release Clause']:\n",
        "  lista_valores = [x[-1:] for x in df_fifa19_clean[columna]]\n",
        "  lista_sin_duplicados = list(set(lista_valores))\n",
        "  print('En la columna ' + columna + ' los valores acaban por ', lista_sin_duplicados)"
      ],
      "execution_count": null,
      "outputs": []
    },
    {
      "cell_type": "markdown",
      "metadata": {
        "id": "AZeYzFGTqbcs"
      },
      "source": [
        "### 060502 Iteración\n",
        "Usamos primero el menos eficiente de los métodos, la iteración sobre las filas del dataframe."
      ]
    },
    {
      "cell_type": "code",
      "metadata": {
        "id": "-ikKCvaNqsvd"
      },
      "source": [
        "for index, row in df_fifa19_clean.loc[:3,['Value','Wage','Release Clause']].iterrows():\n",
        "  print(index)\n",
        "  print(row)"
      ],
      "execution_count": null,
      "outputs": []
    },
    {
      "cell_type": "code",
      "metadata": {
        "id": "uc196Sk9rNDU"
      },
      "source": [
        "def limpieza_cols_dinero(valor_original):\n",
        "  \"\"\"\n",
        "  Esta función convierte los valores originales de ['Value','Wage','Release Clause']\n",
        "  en valores numéricos en €.\n",
        "  \"\"\"\n",
        "  if valor_original[-1]=='M':\n",
        "    valor_final = float(valor_original[1:-1])*1000000\n",
        "  elif valor_original[-1]=='K':\n",
        "    valor_final = float(valor_original[1:-1])*1000\n",
        "  else:\n",
        "    valor_final = float(valor_original[1:])\n",
        "  \n",
        "  return valor_final"
      ],
      "execution_count": null,
      "outputs": []
    },
    {
      "cell_type": "code",
      "metadata": {
        "id": "1vvBmE-IkKHX"
      },
      "source": [
        "%%timeit \n",
        "for index, row in df_fifa19_clean.iterrows():\n",
        "  \n",
        "  for columna in ['Value','Wage','Release Clause']:\n",
        "    valor_orig = row[columna]\n",
        "    df_fifa19_clean.loc[index, columna+'_€'] = limpieza_cols_dinero(valor_orig)"
      ],
      "execution_count": null,
      "outputs": []
    },
    {
      "cell_type": "markdown",
      "metadata": {
        "id": "g7qNzPa9stt_"
      },
      "source": [
        "### 060503 Dataframe.apply()"
      ]
    },
    {
      "cell_type": "code",
      "metadata": {
        "id": "NZyNGdhZioUR"
      },
      "source": [
        "%%timeit \n",
        "for columna in ['Value','Wage','Release Clause']:\n",
        "  df_fifa19_clean[columna+'_€'] = df_fifa19_clean[columna].apply(limpieza_cols_dinero)"
      ],
      "execution_count": null,
      "outputs": []
    },
    {
      "cell_type": "markdown",
      "metadata": {
        "id": "JSFO-OX5-UGz"
      },
      "source": [
        "### 060503 Vectorización"
      ]
    },
    {
      "cell_type": "code",
      "metadata": {
        "id": "0e-C8WKe-b_H"
      },
      "source": [
        "limpieza_cols_dinero_vectorizada = np.vectorize(limpieza_cols_dinero)"
      ],
      "execution_count": null,
      "outputs": []
    },
    {
      "cell_type": "code",
      "metadata": {
        "id": "PJSvWrb8-Tg9"
      },
      "source": [
        "%%timeit \n",
        "for columna in ['Value','Wage','Release Clause']:\n",
        "  df_fifa19_clean[columna+'_€'] = limpieza_cols_dinero_vectorizada(np.array(df_fifa19_clean[columna]))"
      ],
      "execution_count": null,
      "outputs": []
    },
    {
      "cell_type": "markdown",
      "metadata": {
        "id": "dtbiYDZ2_yki"
      },
      "source": [
        "## 0606 EJERCICIO 2: Limpieza variable altura\n",
        "La variable de altura de los jugadores: 'Height' está expresada en formato string y con pies y pulgadas como unidades. \n",
        "\n",
        "Crea la variable 'Height_cm' que contenga la altura de los jugadores en formato numérico (float) y con cm como unidades.\n",
        "\n",
        "Para este ejercicio te vendrá bien la función [.split()](https://pandas.pydata.org/pandas-docs/stable/reference/api/pandas.Series.str.split.html)."
      ]
    },
    {
      "cell_type": "code",
      "metadata": {
        "id": "gd3VB3Yp_-4v"
      },
      "source": [
        "# Lee la documentación de la  función split() y prueba estas ejecuciones\n",
        "string_de_prueba = 'izq.derecha'\n",
        "\n",
        "display(string_de_prueba.split('.'))\n",
        "\n",
        "display(string_de_prueba.split('.')[0])\n",
        "\n",
        "display(string_de_prueba.split('.')[1])"
      ],
      "execution_count": null,
      "outputs": []
    },
    {
      "cell_type": "code",
      "metadata": {
        "id": "-yVia_Lbc9eO"
      },
      "source": [
        "# Explora la columna, hay alguna que no contenga el separador \"'\"?\n",
        "[x for x in df_fifa19_clean['Height'] if \"'\" not in x]"
      ],
      "execution_count": null,
      "outputs": []
    },
    {
      "cell_type": "code",
      "metadata": {
        "id": "e8-1oHNpBzY5"
      },
      "source": [
        "# Define la función que pasará al altura de un string de pies'pulgadas \n",
        "# al valor numérico (float) de la altura en cm\n",
        "\n",
        "def limpieza_altura(altura_original):\n",
        "  \"\"\"\n",
        "  A partir de un string con la altura en formato: pies'pulgadas \n",
        "  devuelve un float de la altura en cm.\n",
        "  \"\"\"\n",
        "  pies = float(altura_original.split(\"'\")[0])\n",
        "  pulgadas = float(altura_original.split(\"'\")[1])\n",
        "  altura_cm = (12*pies+pulgadas)*2.54\n",
        "  return altura_cm"
      ],
      "execution_count": null,
      "outputs": []
    },
    {
      "cell_type": "code",
      "metadata": {
        "id": "4ofXfZnNE3u_"
      },
      "source": [
        "## Iteración\n",
        "%%timeit\n",
        "for index, row in df_fifa19_clean.iterrows():\n",
        "  df_fifa19_clean.loc[index, 'Height_cm'] = limpieza_altura(row['Height'])"
      ],
      "execution_count": null,
      "outputs": []
    },
    {
      "cell_type": "code",
      "metadata": {
        "id": "OdJEwne6GKbz"
      },
      "source": [
        "## Datafrane.apply()\n",
        "%%timeit\n",
        "df_fifa19_clean['Height_cm'] = df_fifa19_clean['Height'].apply(limpieza_altura)"
      ],
      "execution_count": null,
      "outputs": []
    },
    {
      "cell_type": "code",
      "metadata": {
        "id": "VW9RGaBGHM_V"
      },
      "source": [
        "## Vectorización\n",
        "limpieza_vectorizada = np.vectorize(limpieza_altura)"
      ],
      "execution_count": null,
      "outputs": []
    },
    {
      "cell_type": "code",
      "metadata": {
        "id": "Q5jg5tEAGA2f"
      },
      "source": [
        "%%timeit\n",
        "df_fifa19_clean['Height_cm'] = limpieza_vectorizada(np.array(df_fifa19_clean['Height']))"
      ],
      "execution_count": null,
      "outputs": []
    },
    {
      "cell_type": "markdown",
      "metadata": {
        "id": "9Qa0K1jE8b-K"
      },
      "source": [
        "## 0607 Creación de nuevas variables\n",
        "Además de los métodos de transformación que hemos visto, existen otros propios de las distintas clases que nos permiten también generar variables nuevas.\n",
        "\n",
        "Por ejemplo, los métodos propios de los formatos de fechas:"
      ]
    },
    {
      "cell_type": "markdown",
      "metadata": {
        "id": "5_UCU0pneJh5"
      },
      "source": [
        "### 060701 Métodos propios de timedate"
      ]
    },
    {
      "cell_type": "code",
      "metadata": {
        "id": "B9xdOMWM8bUa"
      },
      "source": [
        "# Nueva variable año\n",
        "df_sp500['Year'] = df_sp500['Date'].dt.year\n",
        "df_sp500.head()"
      ],
      "execution_count": null,
      "outputs": []
    },
    {
      "cell_type": "code",
      "metadata": {
        "id": "BotuSeRBeQJU"
      },
      "source": [
        "# Nueva variable día de la semana\n",
        "df_sp500['Day of Week'] = df_sp500['Date'].dt.dayofweek\n",
        "df_sp500.head()"
      ],
      "execution_count": null,
      "outputs": []
    },
    {
      "cell_type": "markdown",
      "metadata": {
        "id": "9zd7-7jmejqQ"
      },
      "source": [
        "### 060702 Operaciones con columnas"
      ]
    },
    {
      "cell_type": "code",
      "metadata": {
        "id": "kTngEsyX9QUF"
      },
      "source": [
        "# Nueva variable volatilidad diaria\n",
        "df_sp500['Volatilidad Diaria'] = (df_sp500['High']-df_sp500['Low'])/df_sp500['Close']\n",
        "df_sp500.head()"
      ],
      "execution_count": null,
      "outputs": []
    },
    {
      "cell_type": "code",
      "metadata": {
        "id": "1j2sC92a-G2L"
      },
      "source": [
        "df_sp500.tail()"
      ],
      "execution_count": null,
      "outputs": []
    },
    {
      "cell_type": "markdown",
      "metadata": {
        "id": "RVKI3mQUexq4"
      },
      "source": [
        "### 060703 Variables dummy\n",
        "Variables binarias que adoptan un 1 si se cumple cierta condición."
      ]
    },
    {
      "cell_type": "code",
      "metadata": {
        "id": "YgN_80pB-OxA"
      },
      "source": [
        "filtro_movilidad_diaria_disponible = df_sp500['High'] != df_sp500['Low']\n",
        "filtro_movilidad_diaria_disponible"
      ],
      "execution_count": null,
      "outputs": []
    },
    {
      "cell_type": "code",
      "metadata": {
        "id": "9zUFTxQD-s6O"
      },
      "source": [
        "# Nueva variable movilidad diaria disponible\n",
        "df_sp500['Dummy Movilidad'] = filtro_movilidad_diaria_disponible.astype(int)\n",
        "df_sp500['Dummy Movilidad']"
      ],
      "execution_count": null,
      "outputs": []
    },
    {
      "cell_type": "markdown",
      "metadata": {
        "id": "f1JcBlRWfFFz"
      },
      "source": [
        "### 060704 Operaciones de ventana\n",
        "A veces queremos realizar operaciones entre distintas filas. Por ejemplo:\n",
        "\n",
        "\n",
        "*   Comparar un valor hoy con el correspondiente ayer (ver método [.shift()](https://pandas.pydata.org/pandas-docs/stable/reference/api/pandas.DataFrame.shift.html))\n",
        "*   Calcular un estadístico respecto a los n últimos registros (ver método [.rolling()](https://pandas.pydata.org/pandas-docs/stable/reference/api/pandas.DataFrame.rolling.html))\n"
      ]
    },
    {
      "cell_type": "code",
      "metadata": {
        "id": "AAC1GjOSgUqY"
      },
      "source": [
        "df_sp500['Close'][:3]"
      ],
      "execution_count": null,
      "outputs": []
    },
    {
      "cell_type": "code",
      "metadata": {
        "id": "zGXppMA7gX5J"
      },
      "source": [
        "df_sp500['Close'].shift(1)[:3]"
      ],
      "execution_count": null,
      "outputs": []
    },
    {
      "cell_type": "code",
      "metadata": {
        "id": "VQs9VDHKf57c"
      },
      "source": [
        "# Variación respecto a ayer\n",
        "df_sp500['Variacion'] = df_sp500['Close']/df_sp500['Close'].shift(1)"
      ],
      "execution_count": null,
      "outputs": []
    },
    {
      "cell_type": "code",
      "metadata": {
        "id": "VPPVDTNWgqgo"
      },
      "source": [
        "df_sp500['Variacion'].head()"
      ],
      "execution_count": null,
      "outputs": []
    },
    {
      "cell_type": "code",
      "metadata": {
        "id": "ru-uWslxg5sz"
      },
      "source": [
        "# Variación media ultimos n días\n",
        "df_sp500['Variacion ult7'] = df_sp500['Variacion'].rolling(7).mean()"
      ],
      "execution_count": null,
      "outputs": []
    },
    {
      "cell_type": "code",
      "metadata": {
        "id": "GH_4nReug9DR"
      },
      "source": [
        "# También podemos crear nuestra propia función\n",
        "df_sp500['Variacion ac ult 250'] = df_sp500['Variacion'].rolling(7).agg(lambda x:x.prod())"
      ],
      "execution_count": null,
      "outputs": []
    },
    {
      "cell_type": "code",
      "metadata": {
        "id": "OBp9iv7qjl38"
      },
      "source": [
        "df_sp500.tail()"
      ],
      "execution_count": null,
      "outputs": []
    },
    {
      "cell_type": "markdown",
      "metadata": {
        "id": "p6NrtOOUhNz-"
      },
      "source": [
        "## 0608 Guardamos la tabla\n",
        "Hemos realizado cierto trabajo para limpiar el dataframe de los jugadores del fifa. Para no tener que repetirlo en el futuro, podemos guardar la tabla modificada y cargar ésta en adelante."
      ]
    },
    {
      "cell_type": "code",
      "metadata": {
        "id": "Xr8DShthh3_J"
      },
      "source": [
        "# Lo más sencillo es guardar el archivo en el Drive Personal\n",
        "drive.mount('/content/drive')\n",
        "df_fifa19_clean.to_csv(f\"/content/drive/My Drive/Data/Clases/Fifa19_Clean.csv\", sep=\",\", index=False)"
      ],
      "execution_count": null,
      "outputs": []
    },
    {
      "cell_type": "markdown",
      "metadata": {
        "id": "I1BXptro9Zae"
      },
      "source": [
        "# 07 Distribución de variables\n",
        "Hasta ahora hemos importado el dataset, nos hemos familiarizado con sus características principales, hemos identificado y limpiado los nulos y hemos transformado algunas variables para crear otras con más sentido.\n",
        "\n",
        "Veamos ahora cuál es la [distribución](https://es.wikipedia.org/wiki/Distribuci%C3%B3n_de_probabilidad) de cada variable."
      ]
    },
    {
      "cell_type": "code",
      "metadata": {
        "id": "8trQ9bp72Wsq"
      },
      "source": [
        "# Importamos df_fifa19_clean para asegurar haber realizado las transformaciones correctamente\n",
        "# url de archivo raw de df_fifa19_clean\n",
        "url = 'https://raw.githubusercontent.com/JotaBlanco/TheValley/main/Data/Fifa19_Clean.csv'\n",
        "\n",
        "# carga el archivo en un dataframe df_covid\n",
        "df_fifa19_clean = pd.read_csv(url)\n",
        "\n",
        "df_fifa19_clean.head()"
      ],
      "execution_count": null,
      "outputs": []
    },
    {
      "cell_type": "markdown",
      "metadata": {
        "id": "MaViOOsBIhyj"
      },
      "source": [
        "## 0701 Variables numéricas\n",
        "En cuanto a las variables de tipo numérico, el método dataframe.[describe()](https://pandas.pydata.org/pandas-docs/stable/reference/api/pandas.DataFrame.describe.html) es muy útil para conocer sus estadísticos principales."
      ]
    },
    {
      "cell_type": "code",
      "metadata": {
        "id": "PzucmtY_I8an"
      },
      "source": [
        "df_fifa19_clean.describe()"
      ],
      "execution_count": null,
      "outputs": []
    },
    {
      "cell_type": "markdown",
      "metadata": {
        "id": "uulu_p6WDgnc"
      },
      "source": [
        "## 0702 Variables categóricas\n",
        "Aquellas que pueden adoptar valores finitos. Es muy útil el método dataframe[columna].[value_counts()](https://pandas.pydata.org/pandas-docs/stable/reference/api/pandas.Series.value_counts.html)."
      ]
    },
    {
      "cell_type": "code",
      "metadata": {
        "id": "w_gXwHy69O3z"
      },
      "source": [
        "df_fifa19_clean['Nationality'].value_counts()"
      ],
      "execution_count": null,
      "outputs": []
    },
    {
      "cell_type": "code",
      "metadata": {
        "id": "tjbhDGrlFADC"
      },
      "source": [
        "df_fifa19_clean['Preferred Foot'].value_counts()"
      ],
      "execution_count": null,
      "outputs": []
    },
    {
      "cell_type": "markdown",
      "metadata": {
        "id": "A6O4gYD5cyIz"
      },
      "source": [
        "El método dataframe[columna].[unique()](https://pandas.pydata.org/pandas-docs/stable/reference/api/pandas.unique.html) puede resultar útil también."
      ]
    },
    {
      "cell_type": "code",
      "metadata": {
        "id": "QXgTdif5cxZ7"
      },
      "source": [
        "df_fifa19_clean['Nationality'].unique()"
      ],
      "execution_count": null,
      "outputs": []
    },
    {
      "cell_type": "code",
      "metadata": {
        "id": "uHfSNt-hDn2c"
      },
      "source": [
        "df_fifa19_clean.head()"
      ],
      "execution_count": null,
      "outputs": []
    },
    {
      "cell_type": "markdown",
      "metadata": {
        "id": "pMrrVk4TM7X2"
      },
      "source": [
        "## 0703 Distribuciones respecto a otras\n",
        "A veces nos interesa entender la distribución de una variable respecto a otra. Para esto suele ser muy útil la operación [groupby()](https://pandas.pydata.org/pandas-docs/stable/reference/api/pandas.DataFrame.groupby.html).\n",
        "\n",
        "Por ejemplo, son mejores los zurdos de media? Es verdad que los jugadores españoles tienden a ser pequeñitos comparados con otras nacionalidades?"
      ]
    },
    {
      "cell_type": "code",
      "metadata": {
        "id": "96BOwi7zEBCl"
      },
      "source": [
        "# Son de media mejores los zurdos?\n",
        "df_fifa19_clean.groupby('Preferred Foot')['Overall'].mean().reset_index()"
      ],
      "execution_count": null,
      "outputs": []
    },
    {
      "cell_type": "code",
      "metadata": {
        "id": "DrWH5TuJPlNs"
      },
      "source": [
        "# Son de media mejores los zurdos?\n",
        "df_fifa19_clean.groupby('Preferred Foot')['Overall'].quantile(.25).reset_index()"
      ],
      "execution_count": null,
      "outputs": []
    },
    {
      "cell_type": "code",
      "metadata": {
        "id": "nGX7WslqN6Ik"
      },
      "source": [
        "# Cuales son los paises con jugadores más grandes y pesados (y menos)?\n",
        "df_fifa19_clean.groupby('Nationality')[['Height_cm','Weight_kg']].mean().reset_index().sort_values(['Height_cm','Weight_kg'], ascending=False).head(20)"
      ],
      "execution_count": null,
      "outputs": []
    },
    {
      "cell_type": "code",
      "metadata": {
        "id": "T4gXoAqASbPJ"
      },
      "source": [
        "df_sp500.groupby('Year')['Close'].mean().reset_index()"
      ],
      "execution_count": null,
      "outputs": []
    },
    {
      "cell_type": "markdown",
      "metadata": {
        "id": "aOOruvoFBZyZ"
      },
      "source": [
        "# 08 Feedback\n",
        "Podeis dejar vuestro Feedback sobre la sesión aquí:\n",
        "\n",
        "![22_martes.png](data:image/png;base64,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)"
      ]
    }
  ]
}