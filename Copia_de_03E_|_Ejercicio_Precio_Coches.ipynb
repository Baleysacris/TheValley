{
  "nbformat": 4,
  "nbformat_minor": 0,
  "metadata": {
    "colab": {
      "provenance": [],
      "toc_visible": true,
      "include_colab_link": true
    },
    "kernelspec": {
      "name": "python3",
      "display_name": "Python 3"
    }
  },
  "cells": [
    {
      "cell_type": "markdown",
      "metadata": {
        "id": "view-in-github",
        "colab_type": "text"
      },
      "source": [
        "<a href=\"https://colab.research.google.com/github/Baleysacris/TheValley/blob/main/Copia_de_03E_%7C_Ejercicio_Precio_Coches.ipynb\" target=\"_parent\"><img src=\"https://colab.research.google.com/assets/colab-badge.svg\" alt=\"Open In Colab\"/></a>"
      ]
    },
    {
      "cell_type": "markdown",
      "metadata": {
        "id": "R53FGLN8jo1L"
      },
      "source": [
        "# 01 EJERCICIO: Precio Coches Segunda Mano\n",
        "[Aquí](https://raw.githubusercontent.com/JotaBlanco/TheValley/main/Data/coches_usados_esp.csv) teneis un dataset sobre el precio de diversos coches de segunda mano. \n",
        "\n",
        "Prueba distintos modelos basados en árboles (árboles de decisión, Random Forest y Gradient Boosting) que predigan el precio de un coche.\n",
        "\n",
        "Notebook por [Javier Blanco Cordero](https://www.linkedin.com/in/javier-blanco-cordero-71373656/).\n",
        "\n",
        "### Enlaces de interés\n",
        "*   [Slides de presentación](https://docs.google.com/presentation/d/1jRg7Dk2y_2_fxnC_Jpj5aWcqgW9t1KAd7izdmWzv9Sk/edit?usp=sharing)\n",
        "*   [Enlace a este notebook](https://colab.research.google.com/github/JotaBlanco/TheValley/blob/main/Arboles/Clase_02_Arboles/03E_%7C_Ejercicio_Precio_Coches.ipynb)\n",
        "\n",
        "\n"
      ]
    },
    {
      "cell_type": "markdown",
      "metadata": {
        "id": "cnHRaho3rsXS"
      },
      "source": [
        "## 0101 Import\n",
        "Puedes importar aquí las librerías que creas que vas a necesitar."
      ]
    },
    {
      "cell_type": "code",
      "metadata": {
        "id": "4be6xiUqjPHI"
      },
      "source": [
        "import pandas as pd\n",
        "import numpy as np\n",
        "import matplotlib.pyplot as plt\n",
        "import seaborn as sns\n",
        "\n",
        "from sklearn.model_selection import train_test_split\n",
        "from sklearn.metrics import mean_squared_error\n",
        "from sklearn import tree\n",
        "from sklearn import ensemble"
      ],
      "execution_count": null,
      "outputs": []
    },
    {
      "cell_type": "markdown",
      "metadata": {
        "id": "AblkT14d4Gvt"
      },
      "source": [
        "## 0102 Carga el dataset del precio de coches\n",
        "Aquí teneis el url del archivo raw del dataset sobre el precio de diversos coches de segunda mano. \n",
        "\n",
        "https://raw.githubusercontent.com/JotaBlanco/TheValley/main/Data/coches_usados_esp.csv \n",
        "\n",
        "Importa los datos en un dataframe llamado **dataframe df**."
      ]
    },
    {
      "cell_type": "code",
      "metadata": {
        "id": "GMZACcIXOclu"
      },
      "source": [
        "# Url archivo raw\n",
        "url = ...\n",
        "\n",
        "# Importa csv\n",
        "df = pd.read_csv(url, sep=';')\n",
        "\n",
        "# Visualización primeras filas\n",
        "..."
      ],
      "execution_count": null,
      "outputs": []
    },
    {
      "cell_type": "markdown",
      "metadata": {
        "id": "KBOQJ0AjdYrM"
      },
      "source": [
        "# 02 EDA\n",
        "Para familiarizarte con los datos puedes realizar un pequeño análisis exploratorio visual. Puedes usar los métodos .shape, .info(), .describe(), por ejemplo para entender su tamaño y sus variables. \n",
        "\n",
        "Recuerda que puedes encontrar mis clases sobre análisis exploratorio [aquí](https://github.com/JotaBlanco/TheValley/tree/main/EDA/)."
      ]
    },
    {
      "cell_type": "code",
      "metadata": {
        "id": "RaUa26OYXMBd"
      },
      "source": [],
      "execution_count": null,
      "outputs": []
    },
    {
      "cell_type": "markdown",
      "metadata": {
        "id": "8OJS0b4R5ZNh"
      },
      "source": [
        "# 03 Preparación de los datos\n",
        "El dataframe tiene algunos nulos, así como variables categóricas y presencia de ciertas variables que probablemente no queramos usar. Necesitamos limpiarlo antes de poder entrenar los modelos."
      ]
    },
    {
      "cell_type": "markdown",
      "metadata": {
        "id": "8wguISKl5q_h"
      },
      "source": [
        "## 0301 Variables Útiles\n",
        "De entre las variables disponibles, quedémonos con la que queramos utilizar como predictoras para el estudio."
      ]
    },
    {
      "cell_type": "code",
      "metadata": {
        "id": "gqcX-sFQ5krb"
      },
      "source": [],
      "execution_count": null,
      "outputs": []
    },
    {
      "cell_type": "markdown",
      "metadata": {
        "id": "fOdoBzd46La9"
      },
      "source": [
        "## 0302 Dumificación de variables categóricas\n",
        "Recuerda que debemos transformar las variables categóricas para convertirlas en numéricas."
      ]
    },
    {
      "cell_type": "code",
      "metadata": {
        "id": "ThnP11iE5kvJ"
      },
      "source": [],
      "execution_count": null,
      "outputs": []
    },
    {
      "cell_type": "markdown",
      "metadata": {
        "id": "vBvgESsE7GUy"
      },
      "source": [
        "## 0303 Limpieza de nulos\n",
        "Con la dumificación hemos eliminado los nulos en las columnas categóricas sin deshacernos de las filas. Queda algún nulo en las variables numéricas? \n",
        "\n",
        "Recuerda que puedes mirarlo con dataframe.isna().sum() y si sí hay nulos, puedes rellenarlos con el método .fillna()."
      ]
    },
    {
      "cell_type": "code",
      "metadata": {
        "id": "P1pmWM-S5k6Z"
      },
      "source": [],
      "execution_count": null,
      "outputs": []
    },
    {
      "cell_type": "markdown",
      "metadata": {
        "id": "0Xzot3C0GzTd"
      },
      "source": [
        "# 04 Train - test split\n",
        "Separamos el set de datos en dos utilizando [train_test_split](https://scikit-learn.org/stable/modules/generated/sklearn.model_selection.train_test_split.html)."
      ]
    },
    {
      "cell_type": "code",
      "metadata": {
        "id": "L61yThOgXZYj"
      },
      "source": [],
      "execution_count": null,
      "outputs": []
    },
    {
      "cell_type": "markdown",
      "metadata": {
        "id": "Y9JdH-D0B5Ib"
      },
      "source": [
        "# 05 Entrena tus modelos\n",
        "Entrena distintos modelos basados en árboles (Árbol de Decisión, Random Forest y Gradient Boosting) optimizando el equilibrio bias-variance y selecciona el mejor."
      ]
    },
    {
      "cell_type": "markdown",
      "metadata": {
        "id": "JIJw6wpoDeYL"
      },
      "source": [
        "## 0501 Árbol de Decisión"
      ]
    },
    {
      "cell_type": "code",
      "metadata": {
        "id": "YTd7ssphDKJV"
      },
      "source": [],
      "execution_count": null,
      "outputs": []
    },
    {
      "cell_type": "markdown",
      "metadata": {
        "id": "GLc_9kelUB4x"
      },
      "source": [
        "## 0502 Random Forest"
      ]
    },
    {
      "cell_type": "code",
      "metadata": {
        "id": "eeRmt8YNDtzw"
      },
      "source": [],
      "execution_count": null,
      "outputs": []
    },
    {
      "cell_type": "markdown",
      "metadata": {
        "id": "Onb8PxWAUmfO"
      },
      "source": [
        "## 0503 Gradient Boosting"
      ]
    },
    {
      "cell_type": "code",
      "metadata": {
        "id": "cL8kCPVnUdWB"
      },
      "source": [],
      "execution_count": null,
      "outputs": []
    }
  ]
}