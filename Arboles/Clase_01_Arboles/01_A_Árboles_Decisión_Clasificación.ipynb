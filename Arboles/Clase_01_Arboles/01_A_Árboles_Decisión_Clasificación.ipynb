{
  "nbformat": 4,
  "nbformat_minor": 0,
  "metadata": {
    "colab": {
      "name": "01 Árboles Decisión.ipynb",
      "provenance": [],
      "toc_visible": true,
      "authorship_tag": "ABX9TyM1nI/Sdc4SITkt0ohe240Y",
      "include_colab_link": true
    },
    "kernelspec": {
      "name": "python3",
      "display_name": "Python 3"
    }
  },
  "cells": [
    {
      "cell_type": "markdown",
      "metadata": {
        "id": "view-in-github",
        "colab_type": "text"
      },
      "source": [
        "<a href=\"https://colab.research.google.com/github/JotaBlanco/TheValley/blob/main/Arboles/Clase_01_Arboles/01_A_%C3%81rboles_Decisi%C3%B3n_Clasificaci%C3%B3n.ipynb\" target=\"_parent\"><img src=\"https://colab.research.google.com/assets/colab-badge.svg\" alt=\"Open In Colab\"/></a>"
      ]
    },
    {
      "cell_type": "markdown",
      "metadata": {
        "id": "R53FGLN8jo1L"
      },
      "source": [
        "# 01 INTRO: Árboles de Decisión\r\n",
        "Explicación de cómo construír árboles de decisión.\r\n",
        "\r\n",
        "Notebook por [Javier Blanco Cordero](https://www.linkedin.com/in/javier-blanco-cordero-71373656/).\r\n",
        "\r\n",
        "### Enlaces de interés\r\n",
        "*   [Slides de presentación](https://docs.google.com/presentation/d/16tnAAaiT6mrelG8zRg26crXAChWmzjOG2NyA0oyh4X0/edit?usp=sharing)\r\n",
        "*   [Enlace a este notebook con soluciones en Colab](https://colab.research.google.com/github/JotaBlanco/TheValley/blob/main/Arboles/Clase_01_Arboles/01_%C3%81rboles_Decisi%C3%B3n_Clasificaci%C3%B3n_Resuelto.ipynb)\r\n",
        "\r\n"
      ]
    },
    {
      "cell_type": "markdown",
      "metadata": {
        "id": "LSuEDXhPLi8u"
      },
      "source": [
        "## 0101 Qué es un árbol de decisión?\r\n",
        "Un tipo de algoritmo de aprendizaje supervisado que se basa en realizar particiones a partir de distintos niveles de las variables disponibles."
      ]
    },
    {
      "cell_type": "markdown",
      "metadata": {
        "id": "cnHRaho3rsXS"
      },
      "source": [
        "## 0102 Import\r\n",
        "Importamos todas las librerías necesarias para este análisis ([¿No sabes lo que es una librería de Python?](https://www.quora.com/What-is-a-Python-library-and-what-can-I-use-it-for)): pandas, numpy, seaborn, matplotlib."
      ]
    },
    {
      "cell_type": "code",
      "metadata": {
        "id": "4be6xiUqjPHI"
      },
      "source": [
        "import pandas as pd\r\n",
        "import numpy as np\r\n",
        "import matplotlib.pyplot as plt\r\n",
        "import seaborn as sns"
      ],
      "execution_count": null,
      "outputs": []
    },
    {
      "cell_type": "markdown",
      "metadata": {
        "id": "AblkT14d4Gvt"
      },
      "source": [
        "## 0103 Carga el dataset de accidentes cardiacos\r\n",
        "Para probar a hacer árboles de decisión utilizaremos un dataset sobre accidentes coronarios que he encontrado en Kaggle ([aquí](https://www.kaggle.com/andrewmvd/heart-failure-clinical-data)). \r\n",
        "\r\n",
        "Podéis encontrar el archivo listo para importar en mi github: 'https://raw.githubusercontent.com/JotaBlanco/TheValley/main/Data/heart_failure.csv'. \r\n",
        "\r\n",
        "Importa este dataset en un dataframe llamado **df**."
      ]
    },
    {
      "cell_type": "code",
      "metadata": {
        "id": "GMZACcIXOclu"
      },
      "source": [
        "# Url archivo raw\r\n",
        "url = 'https://raw.githubusercontent.com/JotaBlanco/TheValley/main/Data/heart_failure.csv'\r\n",
        "\r\n",
        "# Importa csv\r\n",
        "df = pd.read_csv(url)\r\n",
        "\r\n",
        "# Visualización primeras filas\r\n",
        "df.head()"
      ],
      "execution_count": null,
      "outputs": []
    },
    {
      "cell_type": "markdown",
      "metadata": {
        "id": "KBOQJ0AjdYrM"
      },
      "source": [
        "# 02 EDA\r\n",
        "Realizaremos un pequeño análisis exploratorio visual para familiarizarnos con el dataset. \r\n",
        "\r\n",
        "Recuerda que puedes encontrar mis clases sobre análisis exploratorio [aquí](https://github.com/JotaBlanco/TheValley/tree/main/EDA/)."
      ]
    },
    {
      "cell_type": "code",
      "metadata": {
        "id": "qGrwhGyaj0-a"
      },
      "source": [
        "df.info()"
      ],
      "execution_count": null,
      "outputs": []
    },
    {
      "cell_type": "code",
      "metadata": {
        "id": "8LoZpl8rjWEX"
      },
      "source": [
        "df.describe()"
      ],
      "execution_count": null,
      "outputs": []
    },
    {
      "cell_type": "code",
      "metadata": {
        "id": "YUz-qSwBjaEW"
      },
      "source": [
        "# Visualización coeficientes Pearson\r\n",
        "plt.figure(figsize=(8,7))\r\n",
        "sns.heatmap(np.round(df.corr(),2), \r\n",
        "            vmin=-1, vmax=1, \r\n",
        "            annot=True, cmap=\"coolwarm\")\r\n",
        "plt.show()"
      ],
      "execution_count": null,
      "outputs": []
    },
    {
      "cell_type": "markdown",
      "metadata": {
        "id": "lcnJKyElO8FU"
      },
      "source": [
        "# 03 Construcción árbol de decisión a mano\r\n",
        "Nunca lo haremos en la vida real, pero para afianzar el entendimiento de este tipo de algoritmos, vamos a reproducir el proceso de entrenamiento a mano."
      ]
    },
    {
      "cell_type": "markdown",
      "metadata": {
        "id": "BBXHQSiBCzgT"
      },
      "source": [
        "## 0301 DataFrame\r\n",
        "Para simplificar, haremos esto con un dataframe consistente solo en las columnas ['age', 'anaemia', 'serum_creatinine', 'DEATH_EVENT'] renombradas como ['Edad', 'Anemia', 'Serum', 'Fallece']."
      ]
    },
    {
      "cell_type": "code",
      "metadata": {
        "id": "X-DsmAVtDHJH"
      },
      "source": [
        "df_resumen = df[['age', 'anaemia', 'serum_creatinine', 'DEATH_EVENT']]\r\n",
        "df_resumen.columns = ['Edad', 'Anemia', 'Serum', 'Fallece']\r\n",
        "df_resumen.sample(10).reset_index(drop=True)"
      ],
      "execution_count": null,
      "outputs": []
    },
    {
      "cell_type": "markdown",
      "metadata": {
        "id": "7TX8LhTlWZC7"
      },
      "source": [
        "## 0301 Seleccionamos el nodo raíz\r\n",
        "Para seleccionar el nodo raíz generaremos árboles muy sencillos, de solo 3 nodos (una sola partición)."
      ]
    },
    {
      "cell_type": "markdown",
      "metadata": {
        "id": "EE9K9D7kM9Ru"
      },
      "source": [
        "### 030101 Variable categórica\r\n",
        "Probamos a generar un árbol de sólo dos particiones."
      ]
    },
    {
      "cell_type": "code",
      "metadata": {
        "id": "IsFqrhz9xAYI"
      },
      "source": [
        "# Podemos hacer la partición Anemia = 1 y Anemia = 0 con un groupby\r\n",
        "df_resumen.groupby('Anemia')['Fallece'].agg(['count', 'sum']).reset_index()"
      ],
      "execution_count": null,
      "outputs": []
    },
    {
      "cell_type": "code",
      "metadata": {
        "id": "95bM_TGGxEoh"
      },
      "source": [
        "# Guardamos el resultado y le damos nombres más explicativos a las columnas\r\n",
        "df_i = df_resumen.groupby('Anemia')['Fallece'].agg(['count', 'sum']).reset_index()\r\n",
        "df_i.columns = ['Anemia', 'Total', 'Fallece = 1']\r\n",
        "df_i"
      ],
      "execution_count": null,
      "outputs": []
    },
    {
      "cell_type": "code",
      "metadata": {
        "id": "Nsu6uJHwzMun"
      },
      "source": [
        "#Añadimos más información útil\r\n",
        "df_i = df_resumen.groupby('Anemia')['Fallece'].agg(['count', 'sum']).reset_index()\r\n",
        "df_i.columns = ['Anemia', 'Total', 'Fallece = 1']\r\n",
        "df_i['Fallece = 0'] = df_i['Total'] - df_i['Fallece = 1']\r\n",
        "df_i['Mean'] = np.round(df_i['Fallece = 1']/df_i['Total'], 4)\r\n",
        "df_i"
      ],
      "execution_count": null,
      "outputs": []
    },
    {
      "cell_type": "markdown",
      "metadata": {
        "id": "YWcwJXfzx_1K"
      },
      "source": [
        "#### EJERCICIO\r\n",
        "Crea la función **particion_categorica** que, dado un dataframe con datos, una variable discreta binaria (como 'Anemia') y una variable target, devuelva un dataframe con información de la partición similar a la que acabamos de generar en la celda anterior."
      ]
    },
    {
      "cell_type": "code",
      "metadata": {
        "id": "yWrJvGWNx9La"
      },
      "source": [
        "def particion_categorica(df, target, var_discreta):\r\n",
        "  \"\"\"\r\n",
        "  Genera un dataframe con información sobre la partición utilizando la variable\r\n",
        "  discreta binaria aportada.\r\n",
        "  \"\"\"\r\n",
        "  df_i = df.groupby(...)\r\n",
        "  ...\r\n",
        "  ...\r\n",
        "  ...\r\n",
        "  return df_i"
      ],
      "execution_count": null,
      "outputs": []
    },
    {
      "cell_type": "code",
      "metadata": {
        "id": "WV-RlsbnM8p2"
      },
      "source": [
        "# Prueba tu función\r\n",
        "df_i = particion_categorica(df_resumen, 'Fallece', 'Anemia')\r\n",
        "df_i"
      ],
      "execution_count": null,
      "outputs": []
    },
    {
      "cell_type": "markdown",
      "metadata": {
        "id": "dlRcuKtvwD9O"
      },
      "source": [
        "### 030102 Variable Continua\r\n",
        "Las variables continuas pueden dar lugar a diversas particiones. Veamos la variable 'Edad' como ejemplo."
      ]
    },
    {
      "cell_type": "code",
      "metadata": {
        "id": "cuAIVLIO0Q-Z"
      },
      "source": [
        "# Cuantos valores distintos de edad hay?\r\n",
        "df_resumen['Edad'].nunique()"
      ],
      "execution_count": null,
      "outputs": []
    },
    {
      "cell_type": "code",
      "metadata": {
        "id": "Tpu1D2W_0wTo"
      },
      "source": [
        "# Valores distintos de edad en orden \r\n",
        "valores_edad_unicos_ordenados = df_resumen['Edad'].sort_values().unique()\r\n",
        "valores_edad_unicos_ordenados "
      ],
      "execution_count": null,
      "outputs": []
    },
    {
      "cell_type": "code",
      "metadata": {
        "id": "Gu4i7kNn1geJ"
      },
      "source": [
        "# Por tanto hay 46 particiones posibles, en torno a los valores:\r\n",
        "valores_particiones = (valores_edad_unicos_ordenados[:-1] + valores_edad_unicos_ordenados[1:])/2\r\n",
        "valores_particiones"
      ],
      "execution_count": null,
      "outputs": []
    },
    {
      "cell_type": "code",
      "metadata": {
        "id": "Cx9vjrCK1usw"
      },
      "source": [
        "# Ahora, podemos hacer un árbol para cada valor de partición. \r\n",
        "# Por ejemplo, para la partición 63.5\r\n",
        "df_resumen_i = df_resumen.copy(deep=True)\r\n",
        "\r\n",
        "filtro_i = df_resumen_i['Edad'] > 63.5\r\n",
        "df_resumen_i['Edad > 63.5'] = filtro_i.astype(int)\r\n",
        "\r\n",
        "df_resumen_i.head()"
      ],
      "execution_count": null,
      "outputs": []
    },
    {
      "cell_type": "code",
      "metadata": {
        "id": "TM4-cUb53hGo"
      },
      "source": [
        "# Ahora podemos generar la partición categórica sobre la oclumna Edad > 63.5\r\n",
        "particion_categorica(df_resumen_i, 'Fallece', 'Edad > 63.5')"
      ],
      "execution_count": null,
      "outputs": []
    },
    {
      "cell_type": "code",
      "metadata": {
        "id": "FAAY0f5SpB7s"
      },
      "source": [
        "# Hagamos un loop que devuelva todas las particiones posibles\r\n",
        "for particion in valores_particiones:\r\n",
        "  df_resumen_i = df_resumen.copy(deep=True)\r\n",
        "\r\n",
        "  filtro_i = df_resumen_i['Edad'] > particion\r\n",
        "  df_resumen_i['Edad > ' + str(particion)] = filtro_i.astype(int)\r\n",
        "\r\n",
        "  df_i = particion_categorica(df_resumen_i, 'Fallece', 'Edad > ' + str(particion))\r\n",
        "  display(df_i)"
      ],
      "execution_count": null,
      "outputs": []
    },
    {
      "cell_type": "markdown",
      "metadata": {
        "id": "qJlXHc8_4jhS"
      },
      "source": [
        "#### EJERCICIO \r\n",
        "Crea la función **particiones_continuas** que, dado un dataframe con datos, una variable continua (como 'Edad' o 'Serum') y una variable target, muestre una serie de dataframes con información para cada una de las particiones. (Devuelve un resultado similar al que acabamos de generar en la celda anterior)."
      ]
    },
    {
      "cell_type": "code",
      "metadata": {
        "id": "ukEeTvGEqKi7"
      },
      "source": [
        "def particiones_continuas(df, target, var_continua):\r\n",
        "  \"\"\"\r\n",
        "  Muestra una serie dataframes con información sobre las distintas particiones \r\n",
        "  posibles utilizando la variable continua aportada.\r\n",
        "  \"\"\"\r\n",
        "  valores_unicos_ordenados = df[var_continua].sort_values().unique()\r\n",
        "  valores_particiones = ....\r\n",
        "\r\n",
        "  for valor in valores_particiones:\r\n",
        "    ...\r\n",
        "    ...\r\n",
        "    ...\r\n",
        "    ...\r\n",
        "    display(df_i)"
      ],
      "execution_count": null,
      "outputs": []
    },
    {
      "cell_type": "code",
      "metadata": {
        "id": "d9Veosr7r1sl"
      },
      "source": [
        "# Prueba tu función \r\n",
        "particiones_continuas(df_resumen, 'Fallece', 'Edad')"
      ],
      "execution_count": null,
      "outputs": []
    },
    {
      "cell_type": "code",
      "metadata": {
        "id": "9OksrKOGwQvO"
      },
      "source": [
        "# Prueba tu función\r\n",
        "particiones_continuas(df_resumen, 'Fallece', 'Serum')"
      ],
      "execution_count": null,
      "outputs": []
    },
    {
      "cell_type": "markdown",
      "metadata": {
        "id": "TL2RbI9Qj529"
      },
      "source": [
        "### 030103 Impureza de Gini\r\n",
        "Calculamos la impureza de Gini de cada una de las particiones."
      ]
    },
    {
      "cell_type": "code",
      "metadata": {
        "id": "_03aMUMNXRuf"
      },
      "source": [
        "# Generemos una función que añade la columna Gini\r\n",
        "def gini(df_i):\r\n",
        "  df_i['Gini'] = 1 - df_i['Mean']**2 - (1-df_i['Mean'])**2\r\n",
        "  df_i['Gini Media Pond'] = np.round(\r\n",
        "      (df_i['Gini'][0]*df_i['Total'][0] + \r\n",
        "       df_i['Gini'][1]*df_i['Total'][1])/\r\n",
        "       (df_i['Total'][0]+df_i['Total'][1]),\r\n",
        "       4)\r\n",
        "  return df_i"
      ],
      "execution_count": null,
      "outputs": []
    },
    {
      "cell_type": "code",
      "metadata": {
        "id": "3Jr0TOXr99su"
      },
      "source": [
        "gini(df_i)"
      ],
      "execution_count": null,
      "outputs": []
    },
    {
      "cell_type": "markdown",
      "metadata": {
        "id": "Q8ikWtDi-TGJ"
      },
      "source": [
        "#### EJERCICIO\r\n",
        "Modifica la función particion_categorica para incorporar el Gini como medida de impureza al resultado."
      ]
    },
    {
      "cell_type": "code",
      "metadata": {
        "id": "6FXi71rjksOs"
      },
      "source": [
        "def particion_categorica(df, target, var_discreta):\r\n",
        "  \"\"\"\r\n",
        "  Genera un dataframe con información sobre la partición utilizando la variable\r\n",
        "  discreta binaria aportada, incluyendo la medida de impureza con Gini.\r\n",
        "  \"\"\"\r\n",
        "  ...\r\n",
        "  ...\r\n",
        "  ...\r\n",
        "  ...\r\n",
        "  return ..."
      ],
      "execution_count": null,
      "outputs": []
    },
    {
      "cell_type": "code",
      "metadata": {
        "id": "63WQR20IBqLk"
      },
      "source": [
        "# Prueba tu función\r\n",
        "df_i = particion_categorica(df_resumen, 'Fallece', 'Anemia')\r\n",
        "df_i"
      ],
      "execution_count": null,
      "outputs": []
    },
    {
      "cell_type": "markdown",
      "metadata": {
        "id": "IS2VfTOg_vq2"
      },
      "source": [
        "#### EJERCICIO\r\n",
        "Crea la función mejor_particion_continua que devuelve el árbol con la partición óptima (según el Gini) para una variable continua. "
      ]
    },
    {
      "cell_type": "code",
      "metadata": {
        "id": "qxM8qZIFk7E-"
      },
      "source": [
        "def mejor_particion_continua(df, target, var_continua):\r\n",
        "  \"\"\"\r\n",
        "  Devuelve un dataframe con información sobre la partición ópitma de entre las \r\n",
        "  posibles utilizando la variable continua aportada.\r\n",
        "  \"\"\"\r\n",
        "  valores_unicos_ordenados = df[var_continua].sort_values().unique()\r\n",
        "  valores_particiones = (valores_unicos_ordenados[:-1] + \r\n",
        "                         valores_unicos_ordenados[1:])/2\r\n",
        "  particion_optima = []\r\n",
        "\r\n",
        "  for i, valor in enumerate(valores_particiones):\r\n",
        "    df_i = df.copy(deep=True)\r\n",
        "    filtro_i = df_i[var_continua] > valor\r\n",
        "    df_i[str(var_continua) + ' > ' + str(valor)] = filtro_i.astype(int)\r\n",
        "    df_i = particion_categorica(df_i, \r\n",
        "                                'Fallece', \r\n",
        "                                str(var_continua) + ' > ' + str(valor))\r\n",
        "\r\n",
        "    ...\r\n",
        "    ...\r\n",
        "    ...\r\n",
        "    ...\r\n",
        "    \r\n",
        "  return particion_optima"
      ],
      "execution_count": null,
      "outputs": []
    },
    {
      "cell_type": "code",
      "metadata": {
        "id": "svk6dvlGlWus"
      },
      "source": [
        "# Prueba tu función\r\n",
        "mejor_particion_continua(df_resumen, 'Fallece', 'Edad')"
      ],
      "execution_count": null,
      "outputs": []
    },
    {
      "cell_type": "code",
      "metadata": {
        "id": "Wt9d2l3Vm3VK"
      },
      "source": [
        "# Prueba tu función\r\n",
        "mejor_particion_continua(df_resumen, 'Fallece', 'Serum')"
      ],
      "execution_count": null,
      "outputs": []
    },
    {
      "cell_type": "markdown",
      "metadata": {
        "id": "Yr0XMPnaCaRN"
      },
      "source": [
        "### 030104 Cuál es la mejor partición?"
      ]
    },
    {
      "cell_type": "code",
      "metadata": {
        "id": "NM9zFkwUBAbU"
      },
      "source": [
        "particion_categorica(df_resumen, 'Fallece', 'Anemia')"
      ],
      "execution_count": null,
      "outputs": []
    },
    {
      "cell_type": "code",
      "metadata": {
        "id": "o9Bkx8VmBAfE"
      },
      "source": [
        "mejor_particion_continua(df_resumen, 'Fallece', 'Edad')"
      ],
      "execution_count": null,
      "outputs": []
    },
    {
      "cell_type": "code",
      "metadata": {
        "id": "OfRF3QfUBAiw"
      },
      "source": [
        "mejor_particion_continua(df_resumen, 'Fallece', 'Serum')"
      ],
      "execution_count": null,
      "outputs": []
    },
    {
      "cell_type": "markdown",
      "metadata": {
        "id": "QoHsABZAGPBr"
      },
      "source": [
        "#### EJEMPLO\r\n",
        "Función que devuelve la mejor partición dados un dataframe, una lista de variables continuas y otra de variables discretas variables"
      ]
    },
    {
      "cell_type": "code",
      "metadata": {
        "id": "LZunZWMpGhg6"
      },
      "source": [
        "def seleccion_particion(df, target, lista_vars_continuas, lista_vars_binarias):\r\n",
        "  particion_optima = []\r\n",
        "\r\n",
        "  for i, var in enumerate(lista_vars_continuas+lista_vars_binarias):\r\n",
        "    if var in lista_vars_continuas:\r\n",
        "      df_i = mejor_particion_continua(df, target, var)\r\n",
        "    if var in lista_vars_binarias:\r\n",
        "      df_i = particion_categorica(df,  target, var)\r\n",
        "    \r\n",
        "\r\n",
        "    if i == 0:\r\n",
        "      particion_optima = df_i\r\n",
        "    else:\r\n",
        "      if df_i['Gini Media Pond'][0] < particion_optima['Gini Media Pond'][0]:\r\n",
        "        particion_optima = df_i\r\n",
        "    \r\n",
        "  return particion_optima"
      ],
      "execution_count": null,
      "outputs": []
    },
    {
      "cell_type": "code",
      "metadata": {
        "id": "8_uKIpZEHlX7"
      },
      "source": [
        "seleccion_particion(df_resumen, 'Fallece', ['Edad', 'Serum'], ['Anemia'])"
      ],
      "execution_count": null,
      "outputs": []
    },
    {
      "cell_type": "markdown",
      "metadata": {
        "id": "mjWxs5R_FxEH"
      },
      "source": [
        "## 0302 Construímos las ramas\r\n",
        "Vamos a contruír el resto del árbol sin repetir variables."
      ]
    },
    {
      "cell_type": "code",
      "metadata": {
        "id": "OEo0D52qCmbs"
      },
      "source": [
        "# Realizamos la partición\r\n",
        "df_resumen_1 = df_resumen[df_resumen['Serum']>1.815]\r\n",
        "df_resumen_2 = df_resumen[df_resumen['Serum']<1.815]"
      ],
      "execution_count": null,
      "outputs": []
    },
    {
      "cell_type": "markdown",
      "metadata": {
        "id": "W7WioeqWMbbF"
      },
      "source": [
        "### 030201 Rama Izquierda (1)"
      ]
    },
    {
      "cell_type": "code",
      "metadata": {
        "id": "KJnyLZRACmfc"
      },
      "source": [
        "# Siguiente partición\r\n",
        "seleccion_particion(df_resumen_1, 'Fallece', ['Edad'], ['Anemia'])"
      ],
      "execution_count": null,
      "outputs": []
    },
    {
      "cell_type": "code",
      "metadata": {
        "id": "DUa4pGiZI_AF"
      },
      "source": [
        "# Realizamos la siguiente partición\r\n",
        "df_resumen_1_1 = df_resumen[((df_resumen['Serum']>1.815)&(df_resumen['Edad']>71))]\r\n",
        "df_resumen_1_2 = df_resumen[((df_resumen['Serum']>1.815)&(df_resumen['Edad']<71))]"
      ],
      "execution_count": null,
      "outputs": []
    },
    {
      "cell_type": "code",
      "metadata": {
        "id": "7AkXkkPKJPmz"
      },
      "source": [
        "# Siguiente partición\r\n",
        "seleccion_particion(df_resumen_1_1, 'Fallece', [], ['Anemia'])"
      ],
      "execution_count": null,
      "outputs": []
    },
    {
      "cell_type": "code",
      "metadata": {
        "id": "pI2rXQiDJT6H"
      },
      "source": [
        "# Siguiente partición\r\n",
        "seleccion_particion(df_resumen_1_2, 'Fallece', [], ['Anemia'])"
      ],
      "execution_count": null,
      "outputs": []
    },
    {
      "cell_type": "markdown",
      "metadata": {
        "id": "8g7jwnRYMg_I"
      },
      "source": [
        "### 030202 Rama derecha (2)"
      ]
    },
    {
      "cell_type": "code",
      "metadata": {
        "id": "vKC_p05cCmjM"
      },
      "source": [
        "# Siguiente partición\r\n",
        "seleccion_particion(df_resumen_2, 'Fallece', ['Edad'], ['Anemia'])"
      ],
      "execution_count": null,
      "outputs": []
    },
    {
      "cell_type": "code",
      "metadata": {
        "id": "MPtY6yUCIsqS"
      },
      "source": [
        "# Realizamos la siguiente partición\r\n",
        "df_resumen_2_1 = df_resumen[((df_resumen['Serum']<1.815)&(df_resumen['Edad']>79.5))]\r\n",
        "df_resumen_2_2 = df_resumen[((df_resumen['Serum']<1.815)&(df_resumen['Edad']<79.5))]"
      ],
      "execution_count": null,
      "outputs": []
    },
    {
      "cell_type": "code",
      "metadata": {
        "id": "TzCpQfxIIsuN"
      },
      "source": [
        "# Siguiente partición\r\n",
        "seleccion_particion(df_resumen_2_1, 'Fallece', [], ['Anemia'])"
      ],
      "execution_count": null,
      "outputs": []
    },
    {
      "cell_type": "code",
      "metadata": {
        "id": "ki0hwWcbIsx8"
      },
      "source": [
        "# Siguiente partición\r\n",
        "seleccion_particion(df_resumen_2_2, 'Fallece', [], ['Anemia'])"
      ],
      "execution_count": null,
      "outputs": []
    },
    {
      "cell_type": "markdown",
      "metadata": {
        "id": "ue1Rhq1gNAJa"
      },
      "source": [
        "### EJERCICIO\r\n",
        "Genera un árbol sin restringir la repetición de variables en una misma rama de la misma forma que en el ejemplo anterior."
      ]
    },
    {
      "cell_type": "code",
      "metadata": {
        "id": "HUPjXBihPDB7"
      },
      "source": [
        ""
      ],
      "execution_count": null,
      "outputs": []
    },
    {
      "cell_type": "markdown",
      "metadata": {
        "id": "sRO6wMepPOJj"
      },
      "source": [
        "# 04 Construcción árbol de decisión con scikit learn\r\n",
        "Ahora de manera automática, utilizando la librería [scikit learn](https://scikit-learn.org/stable/), la libería básica de referencia para machine learning."
      ]
    },
    {
      "cell_type": "markdown",
      "metadata": {
        "id": "SXSNgNJrsdva"
      },
      "source": [
        "## 0401 Importamos las librerías"
      ]
    },
    {
      "cell_type": "code",
      "metadata": {
        "id": "dpc44ulgPFkN"
      },
      "source": [
        "# Nos importamos las funciones de árboles de scikit learn\r\n",
        "from sklearn import tree"
      ],
      "execution_count": null,
      "outputs": []
    },
    {
      "cell_type": "markdown",
      "metadata": {
        "id": "H9WKeVmAv89P"
      },
      "source": [
        "## 0402 Inicializamos el árbol\r\n",
        "Definiendo las características que tendrá.\r\n",
        "\r\n",
        "https://scikit-learn.org/stable/modules/generated/sklearn.tree.DecisionTreeClassifier.html#sklearn.tree.DecisionTreeClassifier"
      ]
    },
    {
      "cell_type": "code",
      "metadata": {
        "id": "c_yzGJ-UP6wq"
      },
      "source": [
        "# Inicializamos un árbol. Por ahora está vacío. \r\n",
        "# Solo definimos cómo queremos que sea en cuanto a su estructura y condiciones de entrenamiento\r\n",
        "arbol = tree.DecisionTreeClassifier(max_depth=3)\r\n",
        "arbol"
      ],
      "execution_count": null,
      "outputs": []
    },
    {
      "cell_type": "markdown",
      "metadata": {
        "id": "1_Q84Q2GJjDC"
      },
      "source": [
        "## 0403 Entrenamos el modelo\r\n",
        "Una vez inicializado y definido el árbol, el método .[fit()](https://scikit-learn.org/stable/modules/generated/sklearn.tree.DecisionTreeClassifier.html#sklearn.tree.DecisionTreeClassifier.fit) realiza el proceso de particionado recursivo que hemos hecho nosotros antes a mano."
      ]
    },
    {
      "cell_type": "code",
      "metadata": {
        "id": "QzlRebscRxCe"
      },
      "source": [
        "# Entrenamos el árbol inicializado a partir de los datos que le pasemos con .fit()\r\n",
        "arbol = arbol.fit(X = df_resumen[['Edad', 'Serum', 'Anemia']],  # vars descriptivas\r\n",
        "                  y = df_resumen[['Fallece']])                  # var objetico\r\n",
        "arbol"
      ],
      "execution_count": null,
      "outputs": []
    },
    {
      "cell_type": "markdown",
      "metadata": {
        "id": "akjuRe9yLQ8R"
      },
      "source": [
        "##0404 Visualizamos el modelo\r\n",
        "Una vez entrenado el modelo, podemos visualizarlo."
      ]
    },
    {
      "cell_type": "code",
      "metadata": {
        "id": "23xmBvxkRFsq"
      },
      "source": [
        "# Con el método export_text en un print()\r\n",
        "esquema_print = tree.export_text(arbol, \r\n",
        "                                 feature_names=['Edad', 'Serum', 'Anemia'])\r\n",
        "print(esquema_print)"
      ],
      "execution_count": null,
      "outputs": []
    },
    {
      "cell_type": "code",
      "metadata": {
        "id": "mcJgYPAMQSNG"
      },
      "source": [
        "# O con la librería graphviz\r\n",
        "import graphviz \r\n",
        "\r\n",
        "# Export_graphviz\r\n",
        "dot_data = tree.export_graphviz(arbol, \r\n",
        "                                out_file=None, \r\n",
        "                                feature_names=['Edad', 'Serum', 'Anemia']) \r\n",
        "graph = graphviz.Source(dot_data) \r\n",
        "graph"
      ],
      "execution_count": null,
      "outputs": []
    },
    {
      "cell_type": "markdown",
      "metadata": {
        "id": "WYs1eiOgMKWU"
      },
      "source": [
        "## 0405 Realizamos una predicción\r\n",
        "Una vez el modelo está entrenado (definido) podemos pasarle datos para obtener las prediciones correspondientes de la variable objetivo. \r\n",
        "\r\n",
        "Para esto utilizamos el método .[predict()](https://scikit-learn.org/stable/modules/generated/sklearn.tree.DecisionTreeClassifier.html#sklearn.tree.DecisionTreeClassifier.predict)."
      ]
    },
    {
      "cell_type": "code",
      "metadata": {
        "id": "acmqdf6ByLdw"
      },
      "source": [
        "# Predicción\r\n",
        "prediccion = arbol.predict(df_resumen[['Edad', 'Serum', 'Anemia']])\r\n",
        "prediccion"
      ],
      "execution_count": null,
      "outputs": []
    },
    {
      "cell_type": "code",
      "metadata": {
        "id": "3cMYHbiDyRPW"
      },
      "source": [
        "# Cómo de buena es la predicción?\r\n",
        "from sklearn.metrics import accuracy_score\r\n",
        "accuracy_score(df_resumen['Fallece'], prediccion)"
      ],
      "execution_count": null,
      "outputs": []
    },
    {
      "cell_type": "markdown",
      "metadata": {
        "id": "OOwjE0vpVDAV"
      },
      "source": [
        "# 05 EJEMPLO\r\n",
        "Entrenamos un árbol de decisión con todas las variables del set de datos de accidente cardiaco, y evaluamos si la predicción es mejor o peor que utilizando tres variables."
      ]
    },
    {
      "cell_type": "code",
      "metadata": {
        "id": "IA-sUogXVhQo"
      },
      "source": [
        "df.head(2)"
      ],
      "execution_count": null,
      "outputs": []
    },
    {
      "cell_type": "code",
      "metadata": {
        "id": "ayeaAVKLVBzE"
      },
      "source": [
        "# Inicializamos un árbol. Por ahora está vacío. Solo definimos cómo queremos que sea.\r\n",
        "arbol_grande = tree.DecisionTreeClassifier(max_depth=6)"
      ],
      "execution_count": null,
      "outputs": []
    },
    {
      "cell_type": "code",
      "metadata": {
        "id": "JtLHTyK163Aw"
      },
      "source": [
        "# Matrices de datos\r\n",
        "cols = ['age', 'anaemia', 'creatinine_phosphokinase', 'diabetes', \r\n",
        "        'ejection_fraction', 'high_blood_pressure', 'platelets', \r\n",
        "        'serum_creatinine', 'serum_sodium', 'sex', 'smoking']\r\n",
        "X = df[cols]\r\n",
        "y = df['DEATH_EVENT']"
      ],
      "execution_count": null,
      "outputs": []
    },
    {
      "cell_type": "code",
      "metadata": {
        "id": "s9yle38RS-DP"
      },
      "source": [
        "# Entrenamos el árbol inicializado a partir de los datos que le pasemos con .fit()\r\n",
        "# No utilizamos la variable Time porque da información del target \r\n",
        "# (no la conoceríamos a la hora de hacer una predicción del futuro)\r\n",
        "\r\n",
        "arbol_grande = arbol_grande.fit(X = X, \r\n",
        "                                y = y)\r\n",
        "arbol_grande"
      ],
      "execution_count": null,
      "outputs": []
    },
    {
      "cell_type": "code",
      "metadata": {
        "id": "-w4XaJn9VqRY"
      },
      "source": [
        "# Podemos visualizar la estructura\r\n",
        "print(tree.export_text(arbol_grande, \r\n",
        "                       feature_names=list(df.iloc[:,:-2].columns)))"
      ],
      "execution_count": null,
      "outputs": []
    },
    {
      "cell_type": "code",
      "metadata": {
        "id": "dZc4ejfOV7oX"
      },
      "source": [
        "import graphviz \r\n",
        "dot_data = tree.export_graphviz(arbol_grande, \r\n",
        "                                out_file=None, \r\n",
        "                                feature_names=list(X.columns)) \r\n",
        "graph = graphviz.Source(dot_data) \r\n",
        "graph"
      ],
      "execution_count": null,
      "outputs": []
    },
    {
      "cell_type": "code",
      "metadata": {
        "id": "N-0NlQ6xV-b4"
      },
      "source": [
        "# Predicción\r\n",
        "prediccion = arbol_grande.predict(X)\r\n",
        "prediccion"
      ],
      "execution_count": null,
      "outputs": []
    },
    {
      "cell_type": "code",
      "metadata": {
        "id": "MRlWh4DzXdnD"
      },
      "source": [
        "# Precisión de la predicción\r\n",
        "accuracy_score(y, prediccion)"
      ],
      "execution_count": null,
      "outputs": []
    },
    {
      "cell_type": "markdown",
      "metadata": {
        "id": "V66-xgckYMQs"
      },
      "source": [
        "# 06 EJERCICIO TITANIC\r\n",
        "Recordais el dataset del Titanic?\r\n",
        "\r\n",
        "Vamos a hacer un árbol de decisión que prediga si alguien fallece o no. \r\n",
        "\r\n",
        "Para ello utilizaremos un dataset previamente transformado, ya listo para entrenar un árbol. En la próxima clase veremos por qué el dataset tiene que estar en un formato determinado y cómo conseguirlo."
      ]
    },
    {
      "cell_type": "markdown",
      "metadata": {
        "id": "EDiMGl7xOm6o"
      },
      "source": [
        "## 0601 Importa el dataset\r\n",
        "Puedes encontrarlo en mi github. Este es el link al archivo raw: https://raw.githubusercontent.com/JotaBlanco/TheValley/main/Data/Titanic_Limpio.csv.\r\n",
        "\r\n",
        "Importa los datos en un dataframe llamado **dataframe df_titanic**."
      ]
    },
    {
      "cell_type": "code",
      "metadata": {
        "id": "hYiZbvGgYGzt"
      },
      "source": [
        "# Url archivo raw\r\n",
        "url = 'https://raw.githubusercontent.com/JotaBlanco/TheValley/main/Data/Titanic_Limpio.csv'\r\n",
        "\r\n",
        "# Importa csv\r\n",
        "df_titanic = pd.read_csv(url)\r\n",
        "\r\n",
        "# Visualización primeras filas\r\n",
        "df_titanic.head(2)"
      ],
      "execution_count": null,
      "outputs": []
    },
    {
      "cell_type": "markdown",
      "metadata": {
        "id": "GFRXHI0DPEpq"
      },
      "source": [
        "## 0602 Crea el árbol de decisión\r\n",
        "Utiliza una profundidad de 6 capas."
      ]
    },
    {
      "cell_type": "code",
      "metadata": {
        "id": "RXLmB0Vpq8N6"
      },
      "source": [
        "# Crea una lista con las variables que vamos a utilizar para predecir:\r\n",
        "# ['Pclass', 'Sex', 'SibSp', 'Parch', 'Fare', 'Age', 'Embarked_C', 'Embarked_Q', 'Embarked_S']\r\n",
        "lista = \r\n",
        "\r\n",
        "# Genera el dataframe \"X\" con las variables predictoras y la serie \"y\" con el target\r\n",
        "X = \r\n",
        "y = "
      ],
      "execution_count": null,
      "outputs": []
    },
    {
      "cell_type": "code",
      "metadata": {
        "id": "KacvVtRaPJ8z"
      },
      "source": [
        "# Inicializamos un árbol definiendo la profundidad\r\n",
        "arbol_titanic = "
      ],
      "execution_count": null,
      "outputs": []
    },
    {
      "cell_type": "code",
      "metadata": {
        "id": "zZPdXY0EPZbY"
      },
      "source": [
        "# Entrena el árbol con los datos del Titanic\r\n"
      ],
      "execution_count": null,
      "outputs": []
    },
    {
      "cell_type": "markdown",
      "metadata": {
        "id": "U0qVZHdNPT0I"
      },
      "source": [
        "## 0603 Visualiza el árbol\r\n",
        "Qué variables utiliza el árbol para inferir el riesgo de muerte? Tiene sentido?"
      ]
    },
    {
      "cell_type": "code",
      "metadata": {
        "id": "PJ9TMK6CPhXm"
      },
      "source": [
        "# con export_test\r\n"
      ],
      "execution_count": null,
      "outputs": []
    },
    {
      "cell_type": "code",
      "metadata": {
        "id": "A4tx4cKxPl0E"
      },
      "source": [
        "# con export_graphviz\r\n"
      ],
      "execution_count": null,
      "outputs": []
    },
    {
      "cell_type": "markdown",
      "metadata": {
        "id": "xLKZUzIzP0aa"
      },
      "source": [
        "## 0604 Realiza una predicción\r\n",
        "Realiza una predicción con tu árbol y comprueba cuánto ha acertado."
      ]
    },
    {
      "cell_type": "code",
      "metadata": {
        "id": "l8CBX0oZP8ac"
      },
      "source": [
        "# Predicción\r\n"
      ],
      "execution_count": null,
      "outputs": []
    },
    {
      "cell_type": "code",
      "metadata": {
        "id": "wrgn54Pa6YVQ"
      },
      "source": [
        "# Precisión de la predicción\r\n"
      ],
      "execution_count": null,
      "outputs": []
    }
  ]
}