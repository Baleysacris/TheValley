{
  "nbformat": 4,
  "nbformat_minor": 0,
  "metadata": {
    "colab": {
      "name": "01 Árboles Decisión.ipynb",
      "provenance": [],
      "toc_visible": true,
      "authorship_tag": "ABX9TyOJkNC+XenNKAYztv2s9vlm",
      "include_colab_link": true
    },
    "kernelspec": {
      "name": "python3",
      "display_name": "Python 3"
    }
  },
  "cells": [
    {
      "cell_type": "markdown",
      "metadata": {
        "id": "view-in-github",
        "colab_type": "text"
      },
      "source": [
        "<a href=\"https://colab.research.google.com/github/JotaBlanco/TheValley/blob/main/Arboles/Clase_01_Arboles/01_%C3%81rboles_Decisi%C3%B3n.ipynb\" target=\"_parent\"><img src=\"https://colab.research.google.com/assets/colab-badge.svg\" alt=\"Open In Colab\"/></a>"
      ]
    },
    {
      "cell_type": "markdown",
      "metadata": {
        "id": "R53FGLN8jo1L"
      },
      "source": [
        "# 01 INTRO: Árboles de Decisión\r\n",
        "Explicación de cómo construír árboles de decisión.\r\n",
        "\r\n",
        "Notebook por [Javier Blanco Cordero](https://www.linkedin.com/in/javier-blanco-cordero-71373656/).\r\n",
        "\r\n",
        "### Enlaces de interés\r\n",
        "*   [Slides de presentación](https://docs.google.com/presentation/d/16tnAAaiT6mrelG8zRg26crXAChWmzjOG2NyA0oyh4X0/edit?usp=sharing)\r\n",
        "*   [Enlace a este notebook en Colab](https://colab.research.google.com/github/JotaBlanco/TheValley/blob/main/Notebooks/03-analisis-univariante-causal-multivariante/03_A___Analisis_univariante.ipynb)\r\n",
        "\r\n",
        "\r\n"
      ]
    },
    {
      "cell_type": "markdown",
      "metadata": {
        "id": "LSuEDXhPLi8u"
      },
      "source": [
        "## 0101 Qué es un árbol de decisión?\r\n",
        "Un tipo de algoritmo de aprendizaje supervisado que se basa en realizar particiones a partir de distintos niveles de las variables disponibles."
      ]
    },
    {
      "cell_type": "markdown",
      "metadata": {
        "id": "cnHRaho3rsXS"
      },
      "source": [
        "## 0102 Import\r\n",
        "Importamos todas las librerías necesarias para este análisis ([¿No sabes lo que es una librería de Python?](https://www.quora.com/What-is-a-Python-library-and-what-can-I-use-it-for)): pandas, numpy, seaborn, matplotlib."
      ]
    },
    {
      "cell_type": "code",
      "metadata": {
        "id": "4be6xiUqjPHI"
      },
      "source": [
        "import pandas as pd\r\n",
        "import numpy as np\r\n",
        "import matplotlib.pyplot as plt\r\n",
        "import seaborn as sns"
      ],
      "execution_count": 1,
      "outputs": []
    },
    {
      "cell_type": "markdown",
      "metadata": {
        "id": "AblkT14d4Gvt"
      },
      "source": [
        "## 0103 Carga el dataset de accidentes cardiacos\r\n",
        "Para probar a hacer árboles de decisión utilizaremos un dataset sobre accidentes coronarios que he encontrado en Kaggle ([aquí](https://www.kaggle.com/andrewmvd/heart-failure-clinical-data)). \r\n",
        "\r\n",
        "Podéis encontrar el archivo listo para importar en mi github: 'https://raw.githubusercontent.com/JotaBlanco/TheValley/main/Data/heart_failure.csv'. \r\n",
        "\r\n",
        "Importa este dataset en un dataframe llamado **df**."
      ]
    },
    {
      "cell_type": "code",
      "metadata": {
        "id": "GMZACcIXOclu",
        "colab": {
          "base_uri": "https://localhost:8080/",
          "height": 224
        },
        "outputId": "45484d32-7f0a-4a56-88ec-e03d0ca2913c"
      },
      "source": [
        "# Url archivo raw\r\n",
        "url = 'https://raw.githubusercontent.com/JotaBlanco/TheValley/main/Data/heart_failure.csv'\r\n",
        "\r\n",
        "# Importa csv\r\n",
        "df = pd.read_csv(url)\r\n",
        "\r\n",
        "# Visualización primeras filas\r\n",
        "df.head()"
      ],
      "execution_count": 2,
      "outputs": [
        {
          "output_type": "execute_result",
          "data": {
            "text/html": [
              "<div>\n",
              "<style scoped>\n",
              "    .dataframe tbody tr th:only-of-type {\n",
              "        vertical-align: middle;\n",
              "    }\n",
              "\n",
              "    .dataframe tbody tr th {\n",
              "        vertical-align: top;\n",
              "    }\n",
              "\n",
              "    .dataframe thead th {\n",
              "        text-align: right;\n",
              "    }\n",
              "</style>\n",
              "<table border=\"1\" class=\"dataframe\">\n",
              "  <thead>\n",
              "    <tr style=\"text-align: right;\">\n",
              "      <th></th>\n",
              "      <th>age</th>\n",
              "      <th>anaemia</th>\n",
              "      <th>creatinine_phosphokinase</th>\n",
              "      <th>diabetes</th>\n",
              "      <th>ejection_fraction</th>\n",
              "      <th>high_blood_pressure</th>\n",
              "      <th>platelets</th>\n",
              "      <th>serum_creatinine</th>\n",
              "      <th>serum_sodium</th>\n",
              "      <th>sex</th>\n",
              "      <th>smoking</th>\n",
              "      <th>time</th>\n",
              "      <th>DEATH_EVENT</th>\n",
              "    </tr>\n",
              "  </thead>\n",
              "  <tbody>\n",
              "    <tr>\n",
              "      <th>0</th>\n",
              "      <td>75.0</td>\n",
              "      <td>0</td>\n",
              "      <td>582</td>\n",
              "      <td>0</td>\n",
              "      <td>20</td>\n",
              "      <td>1</td>\n",
              "      <td>265000.00</td>\n",
              "      <td>1.9</td>\n",
              "      <td>130</td>\n",
              "      <td>1</td>\n",
              "      <td>0</td>\n",
              "      <td>4</td>\n",
              "      <td>1</td>\n",
              "    </tr>\n",
              "    <tr>\n",
              "      <th>1</th>\n",
              "      <td>55.0</td>\n",
              "      <td>0</td>\n",
              "      <td>7861</td>\n",
              "      <td>0</td>\n",
              "      <td>38</td>\n",
              "      <td>0</td>\n",
              "      <td>263358.03</td>\n",
              "      <td>1.1</td>\n",
              "      <td>136</td>\n",
              "      <td>1</td>\n",
              "      <td>0</td>\n",
              "      <td>6</td>\n",
              "      <td>1</td>\n",
              "    </tr>\n",
              "    <tr>\n",
              "      <th>2</th>\n",
              "      <td>65.0</td>\n",
              "      <td>0</td>\n",
              "      <td>146</td>\n",
              "      <td>0</td>\n",
              "      <td>20</td>\n",
              "      <td>0</td>\n",
              "      <td>162000.00</td>\n",
              "      <td>1.3</td>\n",
              "      <td>129</td>\n",
              "      <td>1</td>\n",
              "      <td>1</td>\n",
              "      <td>7</td>\n",
              "      <td>1</td>\n",
              "    </tr>\n",
              "    <tr>\n",
              "      <th>3</th>\n",
              "      <td>50.0</td>\n",
              "      <td>1</td>\n",
              "      <td>111</td>\n",
              "      <td>0</td>\n",
              "      <td>20</td>\n",
              "      <td>0</td>\n",
              "      <td>210000.00</td>\n",
              "      <td>1.9</td>\n",
              "      <td>137</td>\n",
              "      <td>1</td>\n",
              "      <td>0</td>\n",
              "      <td>7</td>\n",
              "      <td>1</td>\n",
              "    </tr>\n",
              "    <tr>\n",
              "      <th>4</th>\n",
              "      <td>65.0</td>\n",
              "      <td>1</td>\n",
              "      <td>160</td>\n",
              "      <td>1</td>\n",
              "      <td>20</td>\n",
              "      <td>0</td>\n",
              "      <td>327000.00</td>\n",
              "      <td>2.7</td>\n",
              "      <td>116</td>\n",
              "      <td>0</td>\n",
              "      <td>0</td>\n",
              "      <td>8</td>\n",
              "      <td>1</td>\n",
              "    </tr>\n",
              "  </tbody>\n",
              "</table>\n",
              "</div>"
            ],
            "text/plain": [
              "    age  anaemia  creatinine_phosphokinase  ...  smoking  time  DEATH_EVENT\n",
              "0  75.0        0                       582  ...        0     4            1\n",
              "1  55.0        0                      7861  ...        0     6            1\n",
              "2  65.0        0                       146  ...        1     7            1\n",
              "3  50.0        1                       111  ...        0     7            1\n",
              "4  65.0        1                       160  ...        0     8            1\n",
              "\n",
              "[5 rows x 13 columns]"
            ]
          },
          "metadata": {
            "tags": []
          },
          "execution_count": 2
        }
      ]
    },
    {
      "cell_type": "markdown",
      "metadata": {
        "id": "KBOQJ0AjdYrM"
      },
      "source": [
        "# 02 EDA\r\n",
        "Realizaremos un pequeño análisis exploratorio visual para familiarizarnos con el dataset. \r\n",
        "\r\n",
        "Recuerda que puedes encontrar mis clases sobre análisis exploratorio [aquí](https://github.com/JotaBlanco/TheValley/tree/main/EDA/)."
      ]
    },
    {
      "cell_type": "code",
      "metadata": {
        "id": "qGrwhGyaj0-a",
        "colab": {
          "base_uri": "https://localhost:8080/"
        },
        "outputId": "12f9efa2-48d6-46f6-977c-6f90eb838eb6"
      },
      "source": [
        "df.info()"
      ],
      "execution_count": 3,
      "outputs": [
        {
          "output_type": "stream",
          "text": [
            "<class 'pandas.core.frame.DataFrame'>\n",
            "RangeIndex: 299 entries, 0 to 298\n",
            "Data columns (total 13 columns):\n",
            " #   Column                    Non-Null Count  Dtype  \n",
            "---  ------                    --------------  -----  \n",
            " 0   age                       299 non-null    float64\n",
            " 1   anaemia                   299 non-null    int64  \n",
            " 2   creatinine_phosphokinase  299 non-null    int64  \n",
            " 3   diabetes                  299 non-null    int64  \n",
            " 4   ejection_fraction         299 non-null    int64  \n",
            " 5   high_blood_pressure       299 non-null    int64  \n",
            " 6   platelets                 299 non-null    float64\n",
            " 7   serum_creatinine          299 non-null    float64\n",
            " 8   serum_sodium              299 non-null    int64  \n",
            " 9   sex                       299 non-null    int64  \n",
            " 10  smoking                   299 non-null    int64  \n",
            " 11  time                      299 non-null    int64  \n",
            " 12  DEATH_EVENT               299 non-null    int64  \n",
            "dtypes: float64(3), int64(10)\n",
            "memory usage: 30.5 KB\n"
          ],
          "name": "stdout"
        }
      ]
    },
    {
      "cell_type": "markdown",
      "metadata": {
        "id": "lcnJKyElO8FU"
      },
      "source": [
        "# 03 Construcción árbol de decisión a mano\r\n",
        "Nunca lo haremos en la vida real, pero para afianzar el entendimiento de este tipo de algoritmos, vamos a reproducir el proceso de entrenamiento a mano."
      ]
    },
    {
      "cell_type": "markdown",
      "metadata": {
        "id": "BBXHQSiBCzgT"
      },
      "source": [
        "## 0301 DataFrame\r\n",
        "Para simplificar, haremos esto con un dataframe consistente solo en las columnas ['age', 'anaemia', 'serum_creatinine', 'DEATH_EVENT'] renombradas como ['Edad', 'Anemia', 'Serum', 'Fallece']."
      ]
    },
    {
      "cell_type": "code",
      "metadata": {
        "id": "X-DsmAVtDHJH",
        "colab": {
          "base_uri": "https://localhost:8080/",
          "height": 359
        },
        "outputId": "5f809d3c-bd26-43b6-bedd-58da3ff3ef19"
      },
      "source": [
        "df_resumen = df[['age', 'anaemia', 'serum_creatinine', 'DEATH_EVENT']]\r\n",
        "df_resumen.columns = ['Edad', 'Anemia', 'Serum', 'Fallece']\r\n",
        "df_resumen.sample(10).reset_index(drop=True)"
      ],
      "execution_count": 4,
      "outputs": [
        {
          "output_type": "execute_result",
          "data": {
            "text/html": [
              "<div>\n",
              "<style scoped>\n",
              "    .dataframe tbody tr th:only-of-type {\n",
              "        vertical-align: middle;\n",
              "    }\n",
              "\n",
              "    .dataframe tbody tr th {\n",
              "        vertical-align: top;\n",
              "    }\n",
              "\n",
              "    .dataframe thead th {\n",
              "        text-align: right;\n",
              "    }\n",
              "</style>\n",
              "<table border=\"1\" class=\"dataframe\">\n",
              "  <thead>\n",
              "    <tr style=\"text-align: right;\">\n",
              "      <th></th>\n",
              "      <th>Edad</th>\n",
              "      <th>Anemia</th>\n",
              "      <th>Serum</th>\n",
              "      <th>Fallece</th>\n",
              "    </tr>\n",
              "  </thead>\n",
              "  <tbody>\n",
              "    <tr>\n",
              "      <th>0</th>\n",
              "      <td>65.0</td>\n",
              "      <td>0</td>\n",
              "      <td>1.83</td>\n",
              "      <td>1</td>\n",
              "    </tr>\n",
              "    <tr>\n",
              "      <th>1</th>\n",
              "      <td>50.0</td>\n",
              "      <td>0</td>\n",
              "      <td>0.90</td>\n",
              "      <td>0</td>\n",
              "    </tr>\n",
              "    <tr>\n",
              "      <th>2</th>\n",
              "      <td>42.0</td>\n",
              "      <td>0</td>\n",
              "      <td>1.20</td>\n",
              "      <td>0</td>\n",
              "    </tr>\n",
              "    <tr>\n",
              "      <th>3</th>\n",
              "      <td>50.0</td>\n",
              "      <td>0</td>\n",
              "      <td>0.80</td>\n",
              "      <td>0</td>\n",
              "    </tr>\n",
              "    <tr>\n",
              "      <th>4</th>\n",
              "      <td>48.0</td>\n",
              "      <td>1</td>\n",
              "      <td>1.60</td>\n",
              "      <td>1</td>\n",
              "    </tr>\n",
              "    <tr>\n",
              "      <th>5</th>\n",
              "      <td>52.0</td>\n",
              "      <td>1</td>\n",
              "      <td>1.40</td>\n",
              "      <td>0</td>\n",
              "    </tr>\n",
              "    <tr>\n",
              "      <th>6</th>\n",
              "      <td>45.0</td>\n",
              "      <td>0</td>\n",
              "      <td>1.18</td>\n",
              "      <td>0</td>\n",
              "    </tr>\n",
              "    <tr>\n",
              "      <th>7</th>\n",
              "      <td>61.0</td>\n",
              "      <td>0</td>\n",
              "      <td>1.20</td>\n",
              "      <td>0</td>\n",
              "    </tr>\n",
              "    <tr>\n",
              "      <th>8</th>\n",
              "      <td>63.0</td>\n",
              "      <td>0</td>\n",
              "      <td>1.30</td>\n",
              "      <td>0</td>\n",
              "    </tr>\n",
              "    <tr>\n",
              "      <th>9</th>\n",
              "      <td>55.0</td>\n",
              "      <td>0</td>\n",
              "      <td>0.70</td>\n",
              "      <td>0</td>\n",
              "    </tr>\n",
              "  </tbody>\n",
              "</table>\n",
              "</div>"
            ],
            "text/plain": [
              "   Edad  Anemia  Serum  Fallece\n",
              "0  65.0       0   1.83        1\n",
              "1  50.0       0   0.90        0\n",
              "2  42.0       0   1.20        0\n",
              "3  50.0       0   0.80        0\n",
              "4  48.0       1   1.60        1\n",
              "5  52.0       1   1.40        0\n",
              "6  45.0       0   1.18        0\n",
              "7  61.0       0   1.20        0\n",
              "8  63.0       0   1.30        0\n",
              "9  55.0       0   0.70        0"
            ]
          },
          "metadata": {
            "tags": []
          },
          "execution_count": 4
        }
      ]
    },
    {
      "cell_type": "markdown",
      "metadata": {
        "id": "7TX8LhTlWZC7"
      },
      "source": [
        "## 0301 Seleccionamos el nodo raíz\r\n",
        "Para seleccionar el nodo raíz generaremos árboles muy sencillos, de solo 3 nodos (una sola partición)."
      ]
    },
    {
      "cell_type": "markdown",
      "metadata": {
        "id": "EE9K9D7kM9Ru"
      },
      "source": [
        "### 030101 Variable categórica\r\n",
        "Probamos a generar un árbol de sólo dos particiones."
      ]
    },
    {
      "cell_type": "code",
      "metadata": {
        "colab": {
          "base_uri": "https://localhost:8080/",
          "height": 111
        },
        "id": "IsFqrhz9xAYI",
        "outputId": "fc28af19-195f-4583-ee3b-edda2c82d47a"
      },
      "source": [
        "# Podemos hacer la partición Anemia = 1 y Anemia = 0 con un groupby\r\n",
        "df_resumen.groupby('Anemia')['Fallece'].agg(['count', 'sum']).reset_index()"
      ],
      "execution_count": 5,
      "outputs": [
        {
          "output_type": "execute_result",
          "data": {
            "text/html": [
              "<div>\n",
              "<style scoped>\n",
              "    .dataframe tbody tr th:only-of-type {\n",
              "        vertical-align: middle;\n",
              "    }\n",
              "\n",
              "    .dataframe tbody tr th {\n",
              "        vertical-align: top;\n",
              "    }\n",
              "\n",
              "    .dataframe thead th {\n",
              "        text-align: right;\n",
              "    }\n",
              "</style>\n",
              "<table border=\"1\" class=\"dataframe\">\n",
              "  <thead>\n",
              "    <tr style=\"text-align: right;\">\n",
              "      <th></th>\n",
              "      <th>Anemia</th>\n",
              "      <th>count</th>\n",
              "      <th>sum</th>\n",
              "    </tr>\n",
              "  </thead>\n",
              "  <tbody>\n",
              "    <tr>\n",
              "      <th>0</th>\n",
              "      <td>0</td>\n",
              "      <td>170</td>\n",
              "      <td>50</td>\n",
              "    </tr>\n",
              "    <tr>\n",
              "      <th>1</th>\n",
              "      <td>1</td>\n",
              "      <td>129</td>\n",
              "      <td>46</td>\n",
              "    </tr>\n",
              "  </tbody>\n",
              "</table>\n",
              "</div>"
            ],
            "text/plain": [
              "   Anemia  count  sum\n",
              "0       0    170   50\n",
              "1       1    129   46"
            ]
          },
          "metadata": {
            "tags": []
          },
          "execution_count": 5
        }
      ]
    },
    {
      "cell_type": "code",
      "metadata": {
        "colab": {
          "base_uri": "https://localhost:8080/",
          "height": 111
        },
        "id": "95bM_TGGxEoh",
        "outputId": "e4c8258d-ec54-4693-bc0c-5659c9e5286e"
      },
      "source": [
        "# Guardamos el resultado y le damos nombres más explicativos a las columnas\r\n",
        "df_i = df_resumen.groupby('Anemia')['Fallece'].agg(['count', 'sum']).reset_index()\r\n",
        "df_i.columns = ['Anemia', 'Total', 'Fallece = 1']\r\n",
        "df_i"
      ],
      "execution_count": 6,
      "outputs": [
        {
          "output_type": "execute_result",
          "data": {
            "text/html": [
              "<div>\n",
              "<style scoped>\n",
              "    .dataframe tbody tr th:only-of-type {\n",
              "        vertical-align: middle;\n",
              "    }\n",
              "\n",
              "    .dataframe tbody tr th {\n",
              "        vertical-align: top;\n",
              "    }\n",
              "\n",
              "    .dataframe thead th {\n",
              "        text-align: right;\n",
              "    }\n",
              "</style>\n",
              "<table border=\"1\" class=\"dataframe\">\n",
              "  <thead>\n",
              "    <tr style=\"text-align: right;\">\n",
              "      <th></th>\n",
              "      <th>Anemia</th>\n",
              "      <th>Total</th>\n",
              "      <th>Fallece = 1</th>\n",
              "    </tr>\n",
              "  </thead>\n",
              "  <tbody>\n",
              "    <tr>\n",
              "      <th>0</th>\n",
              "      <td>0</td>\n",
              "      <td>170</td>\n",
              "      <td>50</td>\n",
              "    </tr>\n",
              "    <tr>\n",
              "      <th>1</th>\n",
              "      <td>1</td>\n",
              "      <td>129</td>\n",
              "      <td>46</td>\n",
              "    </tr>\n",
              "  </tbody>\n",
              "</table>\n",
              "</div>"
            ],
            "text/plain": [
              "   Anemia  Total  Fallece = 1\n",
              "0       0    170           50\n",
              "1       1    129           46"
            ]
          },
          "metadata": {
            "tags": []
          },
          "execution_count": 6
        }
      ]
    },
    {
      "cell_type": "code",
      "metadata": {
        "colab": {
          "base_uri": "https://localhost:8080/",
          "height": 111
        },
        "id": "Nsu6uJHwzMun",
        "outputId": "cae98b57-d645-4434-e7ff-6dff39e8e0d2"
      },
      "source": [
        "#Añadimos más información útil\r\n",
        "df_i = df_resumen.groupby('Anemia')['Fallece'].agg(['count', 'sum']).reset_index()\r\n",
        "df_i.columns = ['Anemia', 'Total', 'Fallece = 1']\r\n",
        "df_i['Fallece = 0'] = df_i['Total'] - df_i['Fallece = 1']\r\n",
        "df_i['Mean'] = np.round(df_i['Fallece = 1']/df_i['Total'], 4)\r\n",
        "df_i"
      ],
      "execution_count": 7,
      "outputs": [
        {
          "output_type": "execute_result",
          "data": {
            "text/html": [
              "<div>\n",
              "<style scoped>\n",
              "    .dataframe tbody tr th:only-of-type {\n",
              "        vertical-align: middle;\n",
              "    }\n",
              "\n",
              "    .dataframe tbody tr th {\n",
              "        vertical-align: top;\n",
              "    }\n",
              "\n",
              "    .dataframe thead th {\n",
              "        text-align: right;\n",
              "    }\n",
              "</style>\n",
              "<table border=\"1\" class=\"dataframe\">\n",
              "  <thead>\n",
              "    <tr style=\"text-align: right;\">\n",
              "      <th></th>\n",
              "      <th>Anemia</th>\n",
              "      <th>Total</th>\n",
              "      <th>Fallece = 1</th>\n",
              "      <th>Fallece = 0</th>\n",
              "      <th>Mean</th>\n",
              "    </tr>\n",
              "  </thead>\n",
              "  <tbody>\n",
              "    <tr>\n",
              "      <th>0</th>\n",
              "      <td>0</td>\n",
              "      <td>170</td>\n",
              "      <td>50</td>\n",
              "      <td>120</td>\n",
              "      <td>0.2941</td>\n",
              "    </tr>\n",
              "    <tr>\n",
              "      <th>1</th>\n",
              "      <td>1</td>\n",
              "      <td>129</td>\n",
              "      <td>46</td>\n",
              "      <td>83</td>\n",
              "      <td>0.3566</td>\n",
              "    </tr>\n",
              "  </tbody>\n",
              "</table>\n",
              "</div>"
            ],
            "text/plain": [
              "   Anemia  Total  Fallece = 1  Fallece = 0    Mean\n",
              "0       0    170           50          120  0.2941\n",
              "1       1    129           46           83  0.3566"
            ]
          },
          "metadata": {
            "tags": []
          },
          "execution_count": 7
        }
      ]
    },
    {
      "cell_type": "markdown",
      "metadata": {
        "id": "YWcwJXfzx_1K"
      },
      "source": [
        "#### EJERCICIO\r\n",
        "Crea la función **particion_categorica** que, dado un dataframe con datos, una variable discreta binaria (como 'Anemia') y una variable target, devuelva un dataframe con información de la partición similar a la que acabamos de generar en la celda anterior."
      ]
    },
    {
      "cell_type": "code",
      "metadata": {
        "id": "yWrJvGWNx9La"
      },
      "source": [
        "def particion_categorica(df, target, var_discreta):\r\n",
        "  \"\"\"\r\n",
        "  Genera un dataframe con información sobre la partición utilizando la variable\r\n",
        "  discreta binaria aportada.\r\n",
        "  \"\"\"\r\n",
        "  df_i = df.groupby(var_discreta)[target].agg(['count', 'sum']).reset_index()\r\n",
        "  df_i.columns = [var_discreta, 'Total', target + ' = 1']\r\n",
        "  df_i[target + ' = 0'] = df_i['Total'] - df_i[target + ' = 1']\r\n",
        "  df_i['Mean'] = np.round(df_i[target + ' = 1']/df_i['Total'], 4)\r\n",
        "  return df_i"
      ],
      "execution_count": 8,
      "outputs": []
    },
    {
      "cell_type": "code",
      "metadata": {
        "id": "WV-RlsbnM8p2",
        "colab": {
          "base_uri": "https://localhost:8080/",
          "height": 111
        },
        "outputId": "48cd873e-6381-4f2e-d832-7954d007057c"
      },
      "source": [
        "df_i = particion_categorica(df_resumen, 'Fallece', 'Anemia')\r\n",
        "df_i"
      ],
      "execution_count": 9,
      "outputs": [
        {
          "output_type": "execute_result",
          "data": {
            "text/html": [
              "<div>\n",
              "<style scoped>\n",
              "    .dataframe tbody tr th:only-of-type {\n",
              "        vertical-align: middle;\n",
              "    }\n",
              "\n",
              "    .dataframe tbody tr th {\n",
              "        vertical-align: top;\n",
              "    }\n",
              "\n",
              "    .dataframe thead th {\n",
              "        text-align: right;\n",
              "    }\n",
              "</style>\n",
              "<table border=\"1\" class=\"dataframe\">\n",
              "  <thead>\n",
              "    <tr style=\"text-align: right;\">\n",
              "      <th></th>\n",
              "      <th>Anemia</th>\n",
              "      <th>Total</th>\n",
              "      <th>Fallece = 1</th>\n",
              "      <th>Fallece = 0</th>\n",
              "      <th>Mean</th>\n",
              "    </tr>\n",
              "  </thead>\n",
              "  <tbody>\n",
              "    <tr>\n",
              "      <th>0</th>\n",
              "      <td>0</td>\n",
              "      <td>170</td>\n",
              "      <td>50</td>\n",
              "      <td>120</td>\n",
              "      <td>0.2941</td>\n",
              "    </tr>\n",
              "    <tr>\n",
              "      <th>1</th>\n",
              "      <td>1</td>\n",
              "      <td>129</td>\n",
              "      <td>46</td>\n",
              "      <td>83</td>\n",
              "      <td>0.3566</td>\n",
              "    </tr>\n",
              "  </tbody>\n",
              "</table>\n",
              "</div>"
            ],
            "text/plain": [
              "   Anemia  Total  Fallece = 1  Fallece = 0    Mean\n",
              "0       0    170           50          120  0.2941\n",
              "1       1    129           46           83  0.3566"
            ]
          },
          "metadata": {
            "tags": []
          },
          "execution_count": 9
        }
      ]
    },
    {
      "cell_type": "markdown",
      "metadata": {
        "id": "dlRcuKtvwD9O"
      },
      "source": [
        "### 030102 Variable Continua\r\n",
        "Las variables continuas pueden dar lugar a diversas particiones. Veamos la variable 'Edad' como ejemplo."
      ]
    },
    {
      "cell_type": "code",
      "metadata": {
        "colab": {
          "base_uri": "https://localhost:8080/"
        },
        "id": "cuAIVLIO0Q-Z",
        "outputId": "30b608ca-ef88-4ca6-ca55-7f0beaa8bf35"
      },
      "source": [
        "# Cuantos valores distintos de edad hay?\r\n",
        "df_resumen['Edad'].nunique()"
      ],
      "execution_count": 10,
      "outputs": [
        {
          "output_type": "execute_result",
          "data": {
            "text/plain": [
              "47"
            ]
          },
          "metadata": {
            "tags": []
          },
          "execution_count": 10
        }
      ]
    },
    {
      "cell_type": "code",
      "metadata": {
        "colab": {
          "base_uri": "https://localhost:8080/"
        },
        "id": "Tpu1D2W_0wTo",
        "outputId": "5ceef989-5211-4857-8b6b-abeac14f2ff1"
      },
      "source": [
        "# Valores distintos de edad en orden \r\n",
        "valores_edad_unicos_ordenados = df_resumen['Edad'].sort_values().unique()\r\n",
        "valores_edad_unicos_ordenados "
      ],
      "execution_count": 11,
      "outputs": [
        {
          "output_type": "execute_result",
          "data": {
            "text/plain": [
              "array([40.   , 41.   , 42.   , 43.   , 44.   , 45.   , 46.   , 47.   ,\n",
              "       48.   , 49.   , 50.   , 51.   , 52.   , 53.   , 54.   , 55.   ,\n",
              "       56.   , 57.   , 58.   , 59.   , 60.   , 60.667, 61.   , 62.   ,\n",
              "       63.   , 64.   , 65.   , 66.   , 67.   , 68.   , 69.   , 70.   ,\n",
              "       72.   , 73.   , 75.   , 77.   , 78.   , 79.   , 80.   , 81.   ,\n",
              "       82.   , 85.   , 86.   , 87.   , 90.   , 94.   , 95.   ])"
            ]
          },
          "metadata": {
            "tags": []
          },
          "execution_count": 11
        }
      ]
    },
    {
      "cell_type": "code",
      "metadata": {
        "colab": {
          "base_uri": "https://localhost:8080/"
        },
        "id": "Gu4i7kNn1geJ",
        "outputId": "0fb972da-8499-439a-fc78-3695d7f3a3a7"
      },
      "source": [
        "# Por tanto hay 46 particiones posibles, en torno a los valores:\r\n",
        "valores_particiones = (valores_edad_unicos_ordenados[:-1] + valores_edad_unicos_ordenados[1:])/2\r\n",
        "valores_particiones"
      ],
      "execution_count": 12,
      "outputs": [
        {
          "output_type": "execute_result",
          "data": {
            "text/plain": [
              "array([40.5   , 41.5   , 42.5   , 43.5   , 44.5   , 45.5   , 46.5   ,\n",
              "       47.5   , 48.5   , 49.5   , 50.5   , 51.5   , 52.5   , 53.5   ,\n",
              "       54.5   , 55.5   , 56.5   , 57.5   , 58.5   , 59.5   , 60.3335,\n",
              "       60.8335, 61.5   , 62.5   , 63.5   , 64.5   , 65.5   , 66.5   ,\n",
              "       67.5   , 68.5   , 69.5   , 71.    , 72.5   , 74.    , 76.    ,\n",
              "       77.5   , 78.5   , 79.5   , 80.5   , 81.5   , 83.5   , 85.5   ,\n",
              "       86.5   , 88.5   , 92.    , 94.5   ])"
            ]
          },
          "metadata": {
            "tags": []
          },
          "execution_count": 12
        }
      ]
    },
    {
      "cell_type": "code",
      "metadata": {
        "colab": {
          "base_uri": "https://localhost:8080/",
          "height": 204
        },
        "id": "Cx9vjrCK1usw",
        "outputId": "f1aee1d6-5bb1-4968-bf79-311b18651337"
      },
      "source": [
        "# Ahora, podemos hacer un árbol para cada valor de partición. \r\n",
        "# Por ejemplo, para la partición 63.5\r\n",
        "df_resumen_i = df_resumen.copy(deep=True)\r\n",
        "\r\n",
        "filtro_i = df_resumen_i['Edad'] > 63.5\r\n",
        "df_resumen_i['Edad > 63.5'] = filtro_i.astype(int)\r\n",
        "\r\n",
        "df_resumen_i.head()"
      ],
      "execution_count": 13,
      "outputs": [
        {
          "output_type": "execute_result",
          "data": {
            "text/html": [
              "<div>\n",
              "<style scoped>\n",
              "    .dataframe tbody tr th:only-of-type {\n",
              "        vertical-align: middle;\n",
              "    }\n",
              "\n",
              "    .dataframe tbody tr th {\n",
              "        vertical-align: top;\n",
              "    }\n",
              "\n",
              "    .dataframe thead th {\n",
              "        text-align: right;\n",
              "    }\n",
              "</style>\n",
              "<table border=\"1\" class=\"dataframe\">\n",
              "  <thead>\n",
              "    <tr style=\"text-align: right;\">\n",
              "      <th></th>\n",
              "      <th>Edad</th>\n",
              "      <th>Anemia</th>\n",
              "      <th>Serum</th>\n",
              "      <th>Fallece</th>\n",
              "      <th>Edad &gt; 63.5</th>\n",
              "    </tr>\n",
              "  </thead>\n",
              "  <tbody>\n",
              "    <tr>\n",
              "      <th>0</th>\n",
              "      <td>75.0</td>\n",
              "      <td>0</td>\n",
              "      <td>1.9</td>\n",
              "      <td>1</td>\n",
              "      <td>1</td>\n",
              "    </tr>\n",
              "    <tr>\n",
              "      <th>1</th>\n",
              "      <td>55.0</td>\n",
              "      <td>0</td>\n",
              "      <td>1.1</td>\n",
              "      <td>1</td>\n",
              "      <td>0</td>\n",
              "    </tr>\n",
              "    <tr>\n",
              "      <th>2</th>\n",
              "      <td>65.0</td>\n",
              "      <td>0</td>\n",
              "      <td>1.3</td>\n",
              "      <td>1</td>\n",
              "      <td>1</td>\n",
              "    </tr>\n",
              "    <tr>\n",
              "      <th>3</th>\n",
              "      <td>50.0</td>\n",
              "      <td>1</td>\n",
              "      <td>1.9</td>\n",
              "      <td>1</td>\n",
              "      <td>0</td>\n",
              "    </tr>\n",
              "    <tr>\n",
              "      <th>4</th>\n",
              "      <td>65.0</td>\n",
              "      <td>1</td>\n",
              "      <td>2.7</td>\n",
              "      <td>1</td>\n",
              "      <td>1</td>\n",
              "    </tr>\n",
              "  </tbody>\n",
              "</table>\n",
              "</div>"
            ],
            "text/plain": [
              "   Edad  Anemia  Serum  Fallece  Edad > 63.5\n",
              "0  75.0       0    1.9        1            1\n",
              "1  55.0       0    1.1        1            0\n",
              "2  65.0       0    1.3        1            1\n",
              "3  50.0       1    1.9        1            0\n",
              "4  65.0       1    2.7        1            1"
            ]
          },
          "metadata": {
            "tags": []
          },
          "execution_count": 13
        }
      ]
    },
    {
      "cell_type": "code",
      "metadata": {
        "colab": {
          "base_uri": "https://localhost:8080/",
          "height": 111
        },
        "id": "TM4-cUb53hGo",
        "outputId": "6804e181-2f35-4595-ab09-0a295d5da153"
      },
      "source": [
        "# Ahora podemos generar la partición categórica sobre la oclumna Edad > 63.5\r\n",
        "particion_categorica(df_resumen_i, 'Fallece', 'Edad > 63.5')"
      ],
      "execution_count": 14,
      "outputs": [
        {
          "output_type": "execute_result",
          "data": {
            "text/html": [
              "<div>\n",
              "<style scoped>\n",
              "    .dataframe tbody tr th:only-of-type {\n",
              "        vertical-align: middle;\n",
              "    }\n",
              "\n",
              "    .dataframe tbody tr th {\n",
              "        vertical-align: top;\n",
              "    }\n",
              "\n",
              "    .dataframe thead th {\n",
              "        text-align: right;\n",
              "    }\n",
              "</style>\n",
              "<table border=\"1\" class=\"dataframe\">\n",
              "  <thead>\n",
              "    <tr style=\"text-align: right;\">\n",
              "      <th></th>\n",
              "      <th>Edad &gt; 63.5</th>\n",
              "      <th>Total</th>\n",
              "      <th>Fallece = 1</th>\n",
              "      <th>Fallece = 0</th>\n",
              "      <th>Mean</th>\n",
              "    </tr>\n",
              "  </thead>\n",
              "  <tbody>\n",
              "    <tr>\n",
              "      <th>0</th>\n",
              "      <td>0</td>\n",
              "      <td>181</td>\n",
              "      <td>46</td>\n",
              "      <td>135</td>\n",
              "      <td>0.2541</td>\n",
              "    </tr>\n",
              "    <tr>\n",
              "      <th>1</th>\n",
              "      <td>1</td>\n",
              "      <td>118</td>\n",
              "      <td>50</td>\n",
              "      <td>68</td>\n",
              "      <td>0.4237</td>\n",
              "    </tr>\n",
              "  </tbody>\n",
              "</table>\n",
              "</div>"
            ],
            "text/plain": [
              "   Edad > 63.5  Total  Fallece = 1  Fallece = 0    Mean\n",
              "0            0    181           46          135  0.2541\n",
              "1            1    118           50           68  0.4237"
            ]
          },
          "metadata": {
            "tags": []
          },
          "execution_count": 14
        }
      ]
    },
    {
      "cell_type": "code",
      "metadata": {
        "id": "FAAY0f5SpB7s",
        "colab": {
          "base_uri": "https://localhost:8080/",
          "height": 1000
        },
        "outputId": "0d105119-ee0a-4009-c316-4e22091f66fd"
      },
      "source": [
        "# Hagamos un loop que devuelva todas las particiones posibles\r\n",
        "for particion in valores_particiones:\r\n",
        "  df_resumen_i = df_resumen.copy(deep=True)\r\n",
        "\r\n",
        "  filtro_i = df_resumen_i['Edad'] > particion\r\n",
        "  df_resumen_i['Edad > ' + str(particion)] = filtro_i.astype(int)\r\n",
        "\r\n",
        "  df_i = particion_categorica(df_resumen_i, 'Fallece', 'Edad > ' + str(particion))\r\n",
        "  display(df_i)"
      ],
      "execution_count": 15,
      "outputs": [
        {
          "output_type": "display_data",
          "data": {
            "text/html": [
              "<div>\n",
              "<style scoped>\n",
              "    .dataframe tbody tr th:only-of-type {\n",
              "        vertical-align: middle;\n",
              "    }\n",
              "\n",
              "    .dataframe tbody tr th {\n",
              "        vertical-align: top;\n",
              "    }\n",
              "\n",
              "    .dataframe thead th {\n",
              "        text-align: right;\n",
              "    }\n",
              "</style>\n",
              "<table border=\"1\" class=\"dataframe\">\n",
              "  <thead>\n",
              "    <tr style=\"text-align: right;\">\n",
              "      <th></th>\n",
              "      <th>Edad &gt; 40.5</th>\n",
              "      <th>Total</th>\n",
              "      <th>Fallece = 1</th>\n",
              "      <th>Fallece = 0</th>\n",
              "      <th>Mean</th>\n",
              "    </tr>\n",
              "  </thead>\n",
              "  <tbody>\n",
              "    <tr>\n",
              "      <th>0</th>\n",
              "      <td>0</td>\n",
              "      <td>7</td>\n",
              "      <td>0</td>\n",
              "      <td>7</td>\n",
              "      <td>0.0000</td>\n",
              "    </tr>\n",
              "    <tr>\n",
              "      <th>1</th>\n",
              "      <td>1</td>\n",
              "      <td>292</td>\n",
              "      <td>96</td>\n",
              "      <td>196</td>\n",
              "      <td>0.3288</td>\n",
              "    </tr>\n",
              "  </tbody>\n",
              "</table>\n",
              "</div>"
            ],
            "text/plain": [
              "   Edad > 40.5  Total  Fallece = 1  Fallece = 0    Mean\n",
              "0            0      7            0            7  0.0000\n",
              "1            1    292           96          196  0.3288"
            ]
          },
          "metadata": {
            "tags": []
          }
        },
        {
          "output_type": "display_data",
          "data": {
            "text/html": [
              "<div>\n",
              "<style scoped>\n",
              "    .dataframe tbody tr th:only-of-type {\n",
              "        vertical-align: middle;\n",
              "    }\n",
              "\n",
              "    .dataframe tbody tr th {\n",
              "        vertical-align: top;\n",
              "    }\n",
              "\n",
              "    .dataframe thead th {\n",
              "        text-align: right;\n",
              "    }\n",
              "</style>\n",
              "<table border=\"1\" class=\"dataframe\">\n",
              "  <thead>\n",
              "    <tr style=\"text-align: right;\">\n",
              "      <th></th>\n",
              "      <th>Edad &gt; 41.5</th>\n",
              "      <th>Total</th>\n",
              "      <th>Fallece = 1</th>\n",
              "      <th>Fallece = 0</th>\n",
              "      <th>Mean</th>\n",
              "    </tr>\n",
              "  </thead>\n",
              "  <tbody>\n",
              "    <tr>\n",
              "      <th>0</th>\n",
              "      <td>0</td>\n",
              "      <td>8</td>\n",
              "      <td>0</td>\n",
              "      <td>8</td>\n",
              "      <td>0.0000</td>\n",
              "    </tr>\n",
              "    <tr>\n",
              "      <th>1</th>\n",
              "      <td>1</td>\n",
              "      <td>291</td>\n",
              "      <td>96</td>\n",
              "      <td>195</td>\n",
              "      <td>0.3299</td>\n",
              "    </tr>\n",
              "  </tbody>\n",
              "</table>\n",
              "</div>"
            ],
            "text/plain": [
              "   Edad > 41.5  Total  Fallece = 1  Fallece = 0    Mean\n",
              "0            0      8            0            8  0.0000\n",
              "1            1    291           96          195  0.3299"
            ]
          },
          "metadata": {
            "tags": []
          }
        },
        {
          "output_type": "display_data",
          "data": {
            "text/html": [
              "<div>\n",
              "<style scoped>\n",
              "    .dataframe tbody tr th:only-of-type {\n",
              "        vertical-align: middle;\n",
              "    }\n",
              "\n",
              "    .dataframe tbody tr th {\n",
              "        vertical-align: top;\n",
              "    }\n",
              "\n",
              "    .dataframe thead th {\n",
              "        text-align: right;\n",
              "    }\n",
              "</style>\n",
              "<table border=\"1\" class=\"dataframe\">\n",
              "  <thead>\n",
              "    <tr style=\"text-align: right;\">\n",
              "      <th></th>\n",
              "      <th>Edad &gt; 42.5</th>\n",
              "      <th>Total</th>\n",
              "      <th>Fallece = 1</th>\n",
              "      <th>Fallece = 0</th>\n",
              "      <th>Mean</th>\n",
              "    </tr>\n",
              "  </thead>\n",
              "  <tbody>\n",
              "    <tr>\n",
              "      <th>0</th>\n",
              "      <td>0</td>\n",
              "      <td>15</td>\n",
              "      <td>1</td>\n",
              "      <td>14</td>\n",
              "      <td>0.0667</td>\n",
              "    </tr>\n",
              "    <tr>\n",
              "      <th>1</th>\n",
              "      <td>1</td>\n",
              "      <td>284</td>\n",
              "      <td>95</td>\n",
              "      <td>189</td>\n",
              "      <td>0.3345</td>\n",
              "    </tr>\n",
              "  </tbody>\n",
              "</table>\n",
              "</div>"
            ],
            "text/plain": [
              "   Edad > 42.5  Total  Fallece = 1  Fallece = 0    Mean\n",
              "0            0     15            1           14  0.0667\n",
              "1            1    284           95          189  0.3345"
            ]
          },
          "metadata": {
            "tags": []
          }
        },
        {
          "output_type": "display_data",
          "data": {
            "text/html": [
              "<div>\n",
              "<style scoped>\n",
              "    .dataframe tbody tr th:only-of-type {\n",
              "        vertical-align: middle;\n",
              "    }\n",
              "\n",
              "    .dataframe tbody tr th {\n",
              "        vertical-align: top;\n",
              "    }\n",
              "\n",
              "    .dataframe thead th {\n",
              "        text-align: right;\n",
              "    }\n",
              "</style>\n",
              "<table border=\"1\" class=\"dataframe\">\n",
              "  <thead>\n",
              "    <tr style=\"text-align: right;\">\n",
              "      <th></th>\n",
              "      <th>Edad &gt; 43.5</th>\n",
              "      <th>Total</th>\n",
              "      <th>Fallece = 1</th>\n",
              "      <th>Fallece = 0</th>\n",
              "      <th>Mean</th>\n",
              "    </tr>\n",
              "  </thead>\n",
              "  <tbody>\n",
              "    <tr>\n",
              "      <th>0</th>\n",
              "      <td>0</td>\n",
              "      <td>16</td>\n",
              "      <td>1</td>\n",
              "      <td>15</td>\n",
              "      <td>0.0625</td>\n",
              "    </tr>\n",
              "    <tr>\n",
              "      <th>1</th>\n",
              "      <td>1</td>\n",
              "      <td>283</td>\n",
              "      <td>95</td>\n",
              "      <td>188</td>\n",
              "      <td>0.3357</td>\n",
              "    </tr>\n",
              "  </tbody>\n",
              "</table>\n",
              "</div>"
            ],
            "text/plain": [
              "   Edad > 43.5  Total  Fallece = 1  Fallece = 0    Mean\n",
              "0            0     16            1           15  0.0625\n",
              "1            1    283           95          188  0.3357"
            ]
          },
          "metadata": {
            "tags": []
          }
        },
        {
          "output_type": "display_data",
          "data": {
            "text/html": [
              "<div>\n",
              "<style scoped>\n",
              "    .dataframe tbody tr th:only-of-type {\n",
              "        vertical-align: middle;\n",
              "    }\n",
              "\n",
              "    .dataframe tbody tr th {\n",
              "        vertical-align: top;\n",
              "    }\n",
              "\n",
              "    .dataframe thead th {\n",
              "        text-align: right;\n",
              "    }\n",
              "</style>\n",
              "<table border=\"1\" class=\"dataframe\">\n",
              "  <thead>\n",
              "    <tr style=\"text-align: right;\">\n",
              "      <th></th>\n",
              "      <th>Edad &gt; 44.5</th>\n",
              "      <th>Total</th>\n",
              "      <th>Fallece = 1</th>\n",
              "      <th>Fallece = 0</th>\n",
              "      <th>Mean</th>\n",
              "    </tr>\n",
              "  </thead>\n",
              "  <tbody>\n",
              "    <tr>\n",
              "      <th>0</th>\n",
              "      <td>0</td>\n",
              "      <td>18</td>\n",
              "      <td>1</td>\n",
              "      <td>17</td>\n",
              "      <td>0.0556</td>\n",
              "    </tr>\n",
              "    <tr>\n",
              "      <th>1</th>\n",
              "      <td>1</td>\n",
              "      <td>281</td>\n",
              "      <td>95</td>\n",
              "      <td>186</td>\n",
              "      <td>0.3381</td>\n",
              "    </tr>\n",
              "  </tbody>\n",
              "</table>\n",
              "</div>"
            ],
            "text/plain": [
              "   Edad > 44.5  Total  Fallece = 1  Fallece = 0    Mean\n",
              "0            0     18            1           17  0.0556\n",
              "1            1    281           95          186  0.3381"
            ]
          },
          "metadata": {
            "tags": []
          }
        },
        {
          "output_type": "display_data",
          "data": {
            "text/html": [
              "<div>\n",
              "<style scoped>\n",
              "    .dataframe tbody tr th:only-of-type {\n",
              "        vertical-align: middle;\n",
              "    }\n",
              "\n",
              "    .dataframe tbody tr th {\n",
              "        vertical-align: top;\n",
              "    }\n",
              "\n",
              "    .dataframe thead th {\n",
              "        text-align: right;\n",
              "    }\n",
              "</style>\n",
              "<table border=\"1\" class=\"dataframe\">\n",
              "  <thead>\n",
              "    <tr style=\"text-align: right;\">\n",
              "      <th></th>\n",
              "      <th>Edad &gt; 45.5</th>\n",
              "      <th>Total</th>\n",
              "      <th>Fallece = 1</th>\n",
              "      <th>Fallece = 0</th>\n",
              "      <th>Mean</th>\n",
              "    </tr>\n",
              "  </thead>\n",
              "  <tbody>\n",
              "    <tr>\n",
              "      <th>0</th>\n",
              "      <td>0</td>\n",
              "      <td>37</td>\n",
              "      <td>7</td>\n",
              "      <td>30</td>\n",
              "      <td>0.1892</td>\n",
              "    </tr>\n",
              "    <tr>\n",
              "      <th>1</th>\n",
              "      <td>1</td>\n",
              "      <td>262</td>\n",
              "      <td>89</td>\n",
              "      <td>173</td>\n",
              "      <td>0.3397</td>\n",
              "    </tr>\n",
              "  </tbody>\n",
              "</table>\n",
              "</div>"
            ],
            "text/plain": [
              "   Edad > 45.5  Total  Fallece = 1  Fallece = 0    Mean\n",
              "0            0     37            7           30  0.1892\n",
              "1            1    262           89          173  0.3397"
            ]
          },
          "metadata": {
            "tags": []
          }
        },
        {
          "output_type": "display_data",
          "data": {
            "text/html": [
              "<div>\n",
              "<style scoped>\n",
              "    .dataframe tbody tr th:only-of-type {\n",
              "        vertical-align: middle;\n",
              "    }\n",
              "\n",
              "    .dataframe tbody tr th {\n",
              "        vertical-align: top;\n",
              "    }\n",
              "\n",
              "    .dataframe thead th {\n",
              "        text-align: right;\n",
              "    }\n",
              "</style>\n",
              "<table border=\"1\" class=\"dataframe\">\n",
              "  <thead>\n",
              "    <tr style=\"text-align: right;\">\n",
              "      <th></th>\n",
              "      <th>Edad &gt; 46.5</th>\n",
              "      <th>Total</th>\n",
              "      <th>Fallece = 1</th>\n",
              "      <th>Fallece = 0</th>\n",
              "      <th>Mean</th>\n",
              "    </tr>\n",
              "  </thead>\n",
              "  <tbody>\n",
              "    <tr>\n",
              "      <th>0</th>\n",
              "      <td>0</td>\n",
              "      <td>40</td>\n",
              "      <td>8</td>\n",
              "      <td>32</td>\n",
              "      <td>0.2000</td>\n",
              "    </tr>\n",
              "    <tr>\n",
              "      <th>1</th>\n",
              "      <td>1</td>\n",
              "      <td>259</td>\n",
              "      <td>88</td>\n",
              "      <td>171</td>\n",
              "      <td>0.3398</td>\n",
              "    </tr>\n",
              "  </tbody>\n",
              "</table>\n",
              "</div>"
            ],
            "text/plain": [
              "   Edad > 46.5  Total  Fallece = 1  Fallece = 0    Mean\n",
              "0            0     40            8           32  0.2000\n",
              "1            1    259           88          171  0.3398"
            ]
          },
          "metadata": {
            "tags": []
          }
        },
        {
          "output_type": "display_data",
          "data": {
            "text/html": [
              "<div>\n",
              "<style scoped>\n",
              "    .dataframe tbody tr th:only-of-type {\n",
              "        vertical-align: middle;\n",
              "    }\n",
              "\n",
              "    .dataframe tbody tr th {\n",
              "        vertical-align: top;\n",
              "    }\n",
              "\n",
              "    .dataframe thead th {\n",
              "        text-align: right;\n",
              "    }\n",
              "</style>\n",
              "<table border=\"1\" class=\"dataframe\">\n",
              "  <thead>\n",
              "    <tr style=\"text-align: right;\">\n",
              "      <th></th>\n",
              "      <th>Edad &gt; 47.5</th>\n",
              "      <th>Total</th>\n",
              "      <th>Fallece = 1</th>\n",
              "      <th>Fallece = 0</th>\n",
              "      <th>Mean</th>\n",
              "    </tr>\n",
              "  </thead>\n",
              "  <tbody>\n",
              "    <tr>\n",
              "      <th>0</th>\n",
              "      <td>0</td>\n",
              "      <td>41</td>\n",
              "      <td>8</td>\n",
              "      <td>33</td>\n",
              "      <td>0.1951</td>\n",
              "    </tr>\n",
              "    <tr>\n",
              "      <th>1</th>\n",
              "      <td>1</td>\n",
              "      <td>258</td>\n",
              "      <td>88</td>\n",
              "      <td>170</td>\n",
              "      <td>0.3411</td>\n",
              "    </tr>\n",
              "  </tbody>\n",
              "</table>\n",
              "</div>"
            ],
            "text/plain": [
              "   Edad > 47.5  Total  Fallece = 1  Fallece = 0    Mean\n",
              "0            0     41            8           33  0.1951\n",
              "1            1    258           88          170  0.3411"
            ]
          },
          "metadata": {
            "tags": []
          }
        },
        {
          "output_type": "display_data",
          "data": {
            "text/html": [
              "<div>\n",
              "<style scoped>\n",
              "    .dataframe tbody tr th:only-of-type {\n",
              "        vertical-align: middle;\n",
              "    }\n",
              "\n",
              "    .dataframe tbody tr th {\n",
              "        vertical-align: top;\n",
              "    }\n",
              "\n",
              "    .dataframe thead th {\n",
              "        text-align: right;\n",
              "    }\n",
              "</style>\n",
              "<table border=\"1\" class=\"dataframe\">\n",
              "  <thead>\n",
              "    <tr style=\"text-align: right;\">\n",
              "      <th></th>\n",
              "      <th>Edad &gt; 48.5</th>\n",
              "      <th>Total</th>\n",
              "      <th>Fallece = 1</th>\n",
              "      <th>Fallece = 0</th>\n",
              "      <th>Mean</th>\n",
              "    </tr>\n",
              "  </thead>\n",
              "  <tbody>\n",
              "    <tr>\n",
              "      <th>0</th>\n",
              "      <td>0</td>\n",
              "      <td>43</td>\n",
              "      <td>10</td>\n",
              "      <td>33</td>\n",
              "      <td>0.2326</td>\n",
              "    </tr>\n",
              "    <tr>\n",
              "      <th>1</th>\n",
              "      <td>1</td>\n",
              "      <td>256</td>\n",
              "      <td>86</td>\n",
              "      <td>170</td>\n",
              "      <td>0.3359</td>\n",
              "    </tr>\n",
              "  </tbody>\n",
              "</table>\n",
              "</div>"
            ],
            "text/plain": [
              "   Edad > 48.5  Total  Fallece = 1  Fallece = 0    Mean\n",
              "0            0     43           10           33  0.2326\n",
              "1            1    256           86          170  0.3359"
            ]
          },
          "metadata": {
            "tags": []
          }
        },
        {
          "output_type": "display_data",
          "data": {
            "text/html": [
              "<div>\n",
              "<style scoped>\n",
              "    .dataframe tbody tr th:only-of-type {\n",
              "        vertical-align: middle;\n",
              "    }\n",
              "\n",
              "    .dataframe tbody tr th {\n",
              "        vertical-align: top;\n",
              "    }\n",
              "\n",
              "    .dataframe thead th {\n",
              "        text-align: right;\n",
              "    }\n",
              "</style>\n",
              "<table border=\"1\" class=\"dataframe\">\n",
              "  <thead>\n",
              "    <tr style=\"text-align: right;\">\n",
              "      <th></th>\n",
              "      <th>Edad &gt; 49.5</th>\n",
              "      <th>Total</th>\n",
              "      <th>Fallece = 1</th>\n",
              "      <th>Fallece = 0</th>\n",
              "      <th>Mean</th>\n",
              "    </tr>\n",
              "  </thead>\n",
              "  <tbody>\n",
              "    <tr>\n",
              "      <th>0</th>\n",
              "      <td>0</td>\n",
              "      <td>47</td>\n",
              "      <td>11</td>\n",
              "      <td>36</td>\n",
              "      <td>0.2340</td>\n",
              "    </tr>\n",
              "    <tr>\n",
              "      <th>1</th>\n",
              "      <td>1</td>\n",
              "      <td>252</td>\n",
              "      <td>85</td>\n",
              "      <td>167</td>\n",
              "      <td>0.3373</td>\n",
              "    </tr>\n",
              "  </tbody>\n",
              "</table>\n",
              "</div>"
            ],
            "text/plain": [
              "   Edad > 49.5  Total  Fallece = 1  Fallece = 0    Mean\n",
              "0            0     47           11           36  0.2340\n",
              "1            1    252           85          167  0.3373"
            ]
          },
          "metadata": {
            "tags": []
          }
        },
        {
          "output_type": "display_data",
          "data": {
            "text/html": [
              "<div>\n",
              "<style scoped>\n",
              "    .dataframe tbody tr th:only-of-type {\n",
              "        vertical-align: middle;\n",
              "    }\n",
              "\n",
              "    .dataframe tbody tr th {\n",
              "        vertical-align: top;\n",
              "    }\n",
              "\n",
              "    .dataframe thead th {\n",
              "        text-align: right;\n",
              "    }\n",
              "</style>\n",
              "<table border=\"1\" class=\"dataframe\">\n",
              "  <thead>\n",
              "    <tr style=\"text-align: right;\">\n",
              "      <th></th>\n",
              "      <th>Edad &gt; 50.5</th>\n",
              "      <th>Total</th>\n",
              "      <th>Fallece = 1</th>\n",
              "      <th>Fallece = 0</th>\n",
              "      <th>Mean</th>\n",
              "    </tr>\n",
              "  </thead>\n",
              "  <tbody>\n",
              "    <tr>\n",
              "      <th>0</th>\n",
              "      <td>0</td>\n",
              "      <td>74</td>\n",
              "      <td>19</td>\n",
              "      <td>55</td>\n",
              "      <td>0.2568</td>\n",
              "    </tr>\n",
              "    <tr>\n",
              "      <th>1</th>\n",
              "      <td>1</td>\n",
              "      <td>225</td>\n",
              "      <td>77</td>\n",
              "      <td>148</td>\n",
              "      <td>0.3422</td>\n",
              "    </tr>\n",
              "  </tbody>\n",
              "</table>\n",
              "</div>"
            ],
            "text/plain": [
              "   Edad > 50.5  Total  Fallece = 1  Fallece = 0    Mean\n",
              "0            0     74           19           55  0.2568\n",
              "1            1    225           77          148  0.3422"
            ]
          },
          "metadata": {
            "tags": []
          }
        },
        {
          "output_type": "display_data",
          "data": {
            "text/html": [
              "<div>\n",
              "<style scoped>\n",
              "    .dataframe tbody tr th:only-of-type {\n",
              "        vertical-align: middle;\n",
              "    }\n",
              "\n",
              "    .dataframe tbody tr th {\n",
              "        vertical-align: top;\n",
              "    }\n",
              "\n",
              "    .dataframe thead th {\n",
              "        text-align: right;\n",
              "    }\n",
              "</style>\n",
              "<table border=\"1\" class=\"dataframe\">\n",
              "  <thead>\n",
              "    <tr style=\"text-align: right;\">\n",
              "      <th></th>\n",
              "      <th>Edad &gt; 51.5</th>\n",
              "      <th>Total</th>\n",
              "      <th>Fallece = 1</th>\n",
              "      <th>Fallece = 0</th>\n",
              "      <th>Mean</th>\n",
              "    </tr>\n",
              "  </thead>\n",
              "  <tbody>\n",
              "    <tr>\n",
              "      <th>0</th>\n",
              "      <td>0</td>\n",
              "      <td>78</td>\n",
              "      <td>20</td>\n",
              "      <td>58</td>\n",
              "      <td>0.2564</td>\n",
              "    </tr>\n",
              "    <tr>\n",
              "      <th>1</th>\n",
              "      <td>1</td>\n",
              "      <td>221</td>\n",
              "      <td>76</td>\n",
              "      <td>145</td>\n",
              "      <td>0.3439</td>\n",
              "    </tr>\n",
              "  </tbody>\n",
              "</table>\n",
              "</div>"
            ],
            "text/plain": [
              "   Edad > 51.5  Total  Fallece = 1  Fallece = 0    Mean\n",
              "0            0     78           20           58  0.2564\n",
              "1            1    221           76          145  0.3439"
            ]
          },
          "metadata": {
            "tags": []
          }
        },
        {
          "output_type": "display_data",
          "data": {
            "text/html": [
              "<div>\n",
              "<style scoped>\n",
              "    .dataframe tbody tr th:only-of-type {\n",
              "        vertical-align: middle;\n",
              "    }\n",
              "\n",
              "    .dataframe tbody tr th {\n",
              "        vertical-align: top;\n",
              "    }\n",
              "\n",
              "    .dataframe thead th {\n",
              "        text-align: right;\n",
              "    }\n",
              "</style>\n",
              "<table border=\"1\" class=\"dataframe\">\n",
              "  <thead>\n",
              "    <tr style=\"text-align: right;\">\n",
              "      <th></th>\n",
              "      <th>Edad &gt; 52.5</th>\n",
              "      <th>Total</th>\n",
              "      <th>Fallece = 1</th>\n",
              "      <th>Fallece = 0</th>\n",
              "      <th>Mean</th>\n",
              "    </tr>\n",
              "  </thead>\n",
              "  <tbody>\n",
              "    <tr>\n",
              "      <th>0</th>\n",
              "      <td>0</td>\n",
              "      <td>83</td>\n",
              "      <td>20</td>\n",
              "      <td>63</td>\n",
              "      <td>0.2410</td>\n",
              "    </tr>\n",
              "    <tr>\n",
              "      <th>1</th>\n",
              "      <td>1</td>\n",
              "      <td>216</td>\n",
              "      <td>76</td>\n",
              "      <td>140</td>\n",
              "      <td>0.3519</td>\n",
              "    </tr>\n",
              "  </tbody>\n",
              "</table>\n",
              "</div>"
            ],
            "text/plain": [
              "   Edad > 52.5  Total  Fallece = 1  Fallece = 0    Mean\n",
              "0            0     83           20           63  0.2410\n",
              "1            1    216           76          140  0.3519"
            ]
          },
          "metadata": {
            "tags": []
          }
        },
        {
          "output_type": "display_data",
          "data": {
            "text/html": [
              "<div>\n",
              "<style scoped>\n",
              "    .dataframe tbody tr th:only-of-type {\n",
              "        vertical-align: middle;\n",
              "    }\n",
              "\n",
              "    .dataframe tbody tr th {\n",
              "        vertical-align: top;\n",
              "    }\n",
              "\n",
              "    .dataframe thead th {\n",
              "        text-align: right;\n",
              "    }\n",
              "</style>\n",
              "<table border=\"1\" class=\"dataframe\">\n",
              "  <thead>\n",
              "    <tr style=\"text-align: right;\">\n",
              "      <th></th>\n",
              "      <th>Edad &gt; 53.5</th>\n",
              "      <th>Total</th>\n",
              "      <th>Fallece = 1</th>\n",
              "      <th>Fallece = 0</th>\n",
              "      <th>Mean</th>\n",
              "    </tr>\n",
              "  </thead>\n",
              "  <tbody>\n",
              "    <tr>\n",
              "      <th>0</th>\n",
              "      <td>0</td>\n",
              "      <td>93</td>\n",
              "      <td>21</td>\n",
              "      <td>72</td>\n",
              "      <td>0.2258</td>\n",
              "    </tr>\n",
              "    <tr>\n",
              "      <th>1</th>\n",
              "      <td>1</td>\n",
              "      <td>206</td>\n",
              "      <td>75</td>\n",
              "      <td>131</td>\n",
              "      <td>0.3641</td>\n",
              "    </tr>\n",
              "  </tbody>\n",
              "</table>\n",
              "</div>"
            ],
            "text/plain": [
              "   Edad > 53.5  Total  Fallece = 1  Fallece = 0    Mean\n",
              "0            0     93           21           72  0.2258\n",
              "1            1    206           75          131  0.3641"
            ]
          },
          "metadata": {
            "tags": []
          }
        },
        {
          "output_type": "display_data",
          "data": {
            "text/html": [
              "<div>\n",
              "<style scoped>\n",
              "    .dataframe tbody tr th:only-of-type {\n",
              "        vertical-align: middle;\n",
              "    }\n",
              "\n",
              "    .dataframe tbody tr th {\n",
              "        vertical-align: top;\n",
              "    }\n",
              "\n",
              "    .dataframe thead th {\n",
              "        text-align: right;\n",
              "    }\n",
              "</style>\n",
              "<table border=\"1\" class=\"dataframe\">\n",
              "  <thead>\n",
              "    <tr style=\"text-align: right;\">\n",
              "      <th></th>\n",
              "      <th>Edad &gt; 54.5</th>\n",
              "      <th>Total</th>\n",
              "      <th>Fallece = 1</th>\n",
              "      <th>Fallece = 0</th>\n",
              "      <th>Mean</th>\n",
              "    </tr>\n",
              "  </thead>\n",
              "  <tbody>\n",
              "    <tr>\n",
              "      <th>0</th>\n",
              "      <td>0</td>\n",
              "      <td>95</td>\n",
              "      <td>22</td>\n",
              "      <td>73</td>\n",
              "      <td>0.2316</td>\n",
              "    </tr>\n",
              "    <tr>\n",
              "      <th>1</th>\n",
              "      <td>1</td>\n",
              "      <td>204</td>\n",
              "      <td>74</td>\n",
              "      <td>130</td>\n",
              "      <td>0.3627</td>\n",
              "    </tr>\n",
              "  </tbody>\n",
              "</table>\n",
              "</div>"
            ],
            "text/plain": [
              "   Edad > 54.5  Total  Fallece = 1  Fallece = 0    Mean\n",
              "0            0     95           22           73  0.2316\n",
              "1            1    204           74          130  0.3627"
            ]
          },
          "metadata": {
            "tags": []
          }
        },
        {
          "output_type": "display_data",
          "data": {
            "text/html": [
              "<div>\n",
              "<style scoped>\n",
              "    .dataframe tbody tr th:only-of-type {\n",
              "        vertical-align: middle;\n",
              "    }\n",
              "\n",
              "    .dataframe tbody tr th {\n",
              "        vertical-align: top;\n",
              "    }\n",
              "\n",
              "    .dataframe thead th {\n",
              "        text-align: right;\n",
              "    }\n",
              "</style>\n",
              "<table border=\"1\" class=\"dataframe\">\n",
              "  <thead>\n",
              "    <tr style=\"text-align: right;\">\n",
              "      <th></th>\n",
              "      <th>Edad &gt; 55.5</th>\n",
              "      <th>Total</th>\n",
              "      <th>Fallece = 1</th>\n",
              "      <th>Fallece = 0</th>\n",
              "      <th>Mean</th>\n",
              "    </tr>\n",
              "  </thead>\n",
              "  <tbody>\n",
              "    <tr>\n",
              "      <th>0</th>\n",
              "      <td>0</td>\n",
              "      <td>112</td>\n",
              "      <td>25</td>\n",
              "      <td>87</td>\n",
              "      <td>0.2232</td>\n",
              "    </tr>\n",
              "    <tr>\n",
              "      <th>1</th>\n",
              "      <td>1</td>\n",
              "      <td>187</td>\n",
              "      <td>71</td>\n",
              "      <td>116</td>\n",
              "      <td>0.3797</td>\n",
              "    </tr>\n",
              "  </tbody>\n",
              "</table>\n",
              "</div>"
            ],
            "text/plain": [
              "   Edad > 55.5  Total  Fallece = 1  Fallece = 0    Mean\n",
              "0            0    112           25           87  0.2232\n",
              "1            1    187           71          116  0.3797"
            ]
          },
          "metadata": {
            "tags": []
          }
        },
        {
          "output_type": "display_data",
          "data": {
            "text/html": [
              "<div>\n",
              "<style scoped>\n",
              "    .dataframe tbody tr th:only-of-type {\n",
              "        vertical-align: middle;\n",
              "    }\n",
              "\n",
              "    .dataframe tbody tr th {\n",
              "        vertical-align: top;\n",
              "    }\n",
              "\n",
              "    .dataframe thead th {\n",
              "        text-align: right;\n",
              "    }\n",
              "</style>\n",
              "<table border=\"1\" class=\"dataframe\">\n",
              "  <thead>\n",
              "    <tr style=\"text-align: right;\">\n",
              "      <th></th>\n",
              "      <th>Edad &gt; 56.5</th>\n",
              "      <th>Total</th>\n",
              "      <th>Fallece = 1</th>\n",
              "      <th>Fallece = 0</th>\n",
              "      <th>Mean</th>\n",
              "    </tr>\n",
              "  </thead>\n",
              "  <tbody>\n",
              "    <tr>\n",
              "      <th>0</th>\n",
              "      <td>0</td>\n",
              "      <td>113</td>\n",
              "      <td>25</td>\n",
              "      <td>88</td>\n",
              "      <td>0.2212</td>\n",
              "    </tr>\n",
              "    <tr>\n",
              "      <th>1</th>\n",
              "      <td>1</td>\n",
              "      <td>186</td>\n",
              "      <td>71</td>\n",
              "      <td>115</td>\n",
              "      <td>0.3817</td>\n",
              "    </tr>\n",
              "  </tbody>\n",
              "</table>\n",
              "</div>"
            ],
            "text/plain": [
              "   Edad > 56.5  Total  Fallece = 1  Fallece = 0    Mean\n",
              "0            0    113           25           88  0.2212\n",
              "1            1    186           71          115  0.3817"
            ]
          },
          "metadata": {
            "tags": []
          }
        },
        {
          "output_type": "display_data",
          "data": {
            "text/html": [
              "<div>\n",
              "<style scoped>\n",
              "    .dataframe tbody tr th:only-of-type {\n",
              "        vertical-align: middle;\n",
              "    }\n",
              "\n",
              "    .dataframe tbody tr th {\n",
              "        vertical-align: top;\n",
              "    }\n",
              "\n",
              "    .dataframe thead th {\n",
              "        text-align: right;\n",
              "    }\n",
              "</style>\n",
              "<table border=\"1\" class=\"dataframe\">\n",
              "  <thead>\n",
              "    <tr style=\"text-align: right;\">\n",
              "      <th></th>\n",
              "      <th>Edad &gt; 57.5</th>\n",
              "      <th>Total</th>\n",
              "      <th>Fallece = 1</th>\n",
              "      <th>Fallece = 0</th>\n",
              "      <th>Mean</th>\n",
              "    </tr>\n",
              "  </thead>\n",
              "  <tbody>\n",
              "    <tr>\n",
              "      <th>0</th>\n",
              "      <td>0</td>\n",
              "      <td>115</td>\n",
              "      <td>26</td>\n",
              "      <td>89</td>\n",
              "      <td>0.2261</td>\n",
              "    </tr>\n",
              "    <tr>\n",
              "      <th>1</th>\n",
              "      <td>1</td>\n",
              "      <td>184</td>\n",
              "      <td>70</td>\n",
              "      <td>114</td>\n",
              "      <td>0.3804</td>\n",
              "    </tr>\n",
              "  </tbody>\n",
              "</table>\n",
              "</div>"
            ],
            "text/plain": [
              "   Edad > 57.5  Total  Fallece = 1  Fallece = 0    Mean\n",
              "0            0    115           26           89  0.2261\n",
              "1            1    184           70          114  0.3804"
            ]
          },
          "metadata": {
            "tags": []
          }
        },
        {
          "output_type": "display_data",
          "data": {
            "text/html": [
              "<div>\n",
              "<style scoped>\n",
              "    .dataframe tbody tr th:only-of-type {\n",
              "        vertical-align: middle;\n",
              "    }\n",
              "\n",
              "    .dataframe tbody tr th {\n",
              "        vertical-align: top;\n",
              "    }\n",
              "\n",
              "    .dataframe thead th {\n",
              "        text-align: right;\n",
              "    }\n",
              "</style>\n",
              "<table border=\"1\" class=\"dataframe\">\n",
              "  <thead>\n",
              "    <tr style=\"text-align: right;\">\n",
              "      <th></th>\n",
              "      <th>Edad &gt; 58.5</th>\n",
              "      <th>Total</th>\n",
              "      <th>Fallece = 1</th>\n",
              "      <th>Fallece = 0</th>\n",
              "      <th>Mean</th>\n",
              "    </tr>\n",
              "  </thead>\n",
              "  <tbody>\n",
              "    <tr>\n",
              "      <th>0</th>\n",
              "      <td>0</td>\n",
              "      <td>125</td>\n",
              "      <td>28</td>\n",
              "      <td>97</td>\n",
              "      <td>0.2240</td>\n",
              "    </tr>\n",
              "    <tr>\n",
              "      <th>1</th>\n",
              "      <td>1</td>\n",
              "      <td>174</td>\n",
              "      <td>68</td>\n",
              "      <td>106</td>\n",
              "      <td>0.3908</td>\n",
              "    </tr>\n",
              "  </tbody>\n",
              "</table>\n",
              "</div>"
            ],
            "text/plain": [
              "   Edad > 58.5  Total  Fallece = 1  Fallece = 0    Mean\n",
              "0            0    125           28           97  0.2240\n",
              "1            1    174           68          106  0.3908"
            ]
          },
          "metadata": {
            "tags": []
          }
        },
        {
          "output_type": "display_data",
          "data": {
            "text/html": [
              "<div>\n",
              "<style scoped>\n",
              "    .dataframe tbody tr th:only-of-type {\n",
              "        vertical-align: middle;\n",
              "    }\n",
              "\n",
              "    .dataframe tbody tr th {\n",
              "        vertical-align: top;\n",
              "    }\n",
              "\n",
              "    .dataframe thead th {\n",
              "        text-align: right;\n",
              "    }\n",
              "</style>\n",
              "<table border=\"1\" class=\"dataframe\">\n",
              "  <thead>\n",
              "    <tr style=\"text-align: right;\">\n",
              "      <th></th>\n",
              "      <th>Edad &gt; 59.5</th>\n",
              "      <th>Total</th>\n",
              "      <th>Fallece = 1</th>\n",
              "      <th>Fallece = 0</th>\n",
              "      <th>Mean</th>\n",
              "    </tr>\n",
              "  </thead>\n",
              "  <tbody>\n",
              "    <tr>\n",
              "      <th>0</th>\n",
              "      <td>0</td>\n",
              "      <td>129</td>\n",
              "      <td>31</td>\n",
              "      <td>98</td>\n",
              "      <td>0.2403</td>\n",
              "    </tr>\n",
              "    <tr>\n",
              "      <th>1</th>\n",
              "      <td>1</td>\n",
              "      <td>170</td>\n",
              "      <td>65</td>\n",
              "      <td>105</td>\n",
              "      <td>0.3824</td>\n",
              "    </tr>\n",
              "  </tbody>\n",
              "</table>\n",
              "</div>"
            ],
            "text/plain": [
              "   Edad > 59.5  Total  Fallece = 1  Fallece = 0    Mean\n",
              "0            0    129           31           98  0.2403\n",
              "1            1    170           65          105  0.3824"
            ]
          },
          "metadata": {
            "tags": []
          }
        },
        {
          "output_type": "display_data",
          "data": {
            "text/html": [
              "<div>\n",
              "<style scoped>\n",
              "    .dataframe tbody tr th:only-of-type {\n",
              "        vertical-align: middle;\n",
              "    }\n",
              "\n",
              "    .dataframe tbody tr th {\n",
              "        vertical-align: top;\n",
              "    }\n",
              "\n",
              "    .dataframe thead th {\n",
              "        text-align: right;\n",
              "    }\n",
              "</style>\n",
              "<table border=\"1\" class=\"dataframe\">\n",
              "  <thead>\n",
              "    <tr style=\"text-align: right;\">\n",
              "      <th></th>\n",
              "      <th>Edad &gt; 60.3335</th>\n",
              "      <th>Total</th>\n",
              "      <th>Fallece = 1</th>\n",
              "      <th>Fallece = 0</th>\n",
              "      <th>Mean</th>\n",
              "    </tr>\n",
              "  </thead>\n",
              "  <tbody>\n",
              "    <tr>\n",
              "      <th>0</th>\n",
              "      <td>0</td>\n",
              "      <td>162</td>\n",
              "      <td>44</td>\n",
              "      <td>118</td>\n",
              "      <td>0.2716</td>\n",
              "    </tr>\n",
              "    <tr>\n",
              "      <th>1</th>\n",
              "      <td>1</td>\n",
              "      <td>137</td>\n",
              "      <td>52</td>\n",
              "      <td>85</td>\n",
              "      <td>0.3796</td>\n",
              "    </tr>\n",
              "  </tbody>\n",
              "</table>\n",
              "</div>"
            ],
            "text/plain": [
              "   Edad > 60.3335  Total  Fallece = 1  Fallece = 0    Mean\n",
              "0               0    162           44          118  0.2716\n",
              "1               1    137           52           85  0.3796"
            ]
          },
          "metadata": {
            "tags": []
          }
        },
        {
          "output_type": "display_data",
          "data": {
            "text/html": [
              "<div>\n",
              "<style scoped>\n",
              "    .dataframe tbody tr th:only-of-type {\n",
              "        vertical-align: middle;\n",
              "    }\n",
              "\n",
              "    .dataframe tbody tr th {\n",
              "        vertical-align: top;\n",
              "    }\n",
              "\n",
              "    .dataframe thead th {\n",
              "        text-align: right;\n",
              "    }\n",
              "</style>\n",
              "<table border=\"1\" class=\"dataframe\">\n",
              "  <thead>\n",
              "    <tr style=\"text-align: right;\">\n",
              "      <th></th>\n",
              "      <th>Edad &gt; 60.8335</th>\n",
              "      <th>Total</th>\n",
              "      <th>Fallece = 1</th>\n",
              "      <th>Fallece = 0</th>\n",
              "      <th>Mean</th>\n",
              "    </tr>\n",
              "  </thead>\n",
              "  <tbody>\n",
              "    <tr>\n",
              "      <th>0</th>\n",
              "      <td>0</td>\n",
              "      <td>164</td>\n",
              "      <td>45</td>\n",
              "      <td>119</td>\n",
              "      <td>0.2744</td>\n",
              "    </tr>\n",
              "    <tr>\n",
              "      <th>1</th>\n",
              "      <td>1</td>\n",
              "      <td>135</td>\n",
              "      <td>51</td>\n",
              "      <td>84</td>\n",
              "      <td>0.3778</td>\n",
              "    </tr>\n",
              "  </tbody>\n",
              "</table>\n",
              "</div>"
            ],
            "text/plain": [
              "   Edad > 60.8335  Total  Fallece = 1  Fallece = 0    Mean\n",
              "0               0    164           45          119  0.2744\n",
              "1               1    135           51           84  0.3778"
            ]
          },
          "metadata": {
            "tags": []
          }
        },
        {
          "output_type": "display_data",
          "data": {
            "text/html": [
              "<div>\n",
              "<style scoped>\n",
              "    .dataframe tbody tr th:only-of-type {\n",
              "        vertical-align: middle;\n",
              "    }\n",
              "\n",
              "    .dataframe tbody tr th {\n",
              "        vertical-align: top;\n",
              "    }\n",
              "\n",
              "    .dataframe thead th {\n",
              "        text-align: right;\n",
              "    }\n",
              "</style>\n",
              "<table border=\"1\" class=\"dataframe\">\n",
              "  <thead>\n",
              "    <tr style=\"text-align: right;\">\n",
              "      <th></th>\n",
              "      <th>Edad &gt; 61.5</th>\n",
              "      <th>Total</th>\n",
              "      <th>Fallece = 1</th>\n",
              "      <th>Fallece = 0</th>\n",
              "      <th>Mean</th>\n",
              "    </tr>\n",
              "  </thead>\n",
              "  <tbody>\n",
              "    <tr>\n",
              "      <th>0</th>\n",
              "      <td>0</td>\n",
              "      <td>168</td>\n",
              "      <td>45</td>\n",
              "      <td>123</td>\n",
              "      <td>0.2679</td>\n",
              "    </tr>\n",
              "    <tr>\n",
              "      <th>1</th>\n",
              "      <td>1</td>\n",
              "      <td>131</td>\n",
              "      <td>51</td>\n",
              "      <td>80</td>\n",
              "      <td>0.3893</td>\n",
              "    </tr>\n",
              "  </tbody>\n",
              "</table>\n",
              "</div>"
            ],
            "text/plain": [
              "   Edad > 61.5  Total  Fallece = 1  Fallece = 0    Mean\n",
              "0            0    168           45          123  0.2679\n",
              "1            1    131           51           80  0.3893"
            ]
          },
          "metadata": {
            "tags": []
          }
        },
        {
          "output_type": "display_data",
          "data": {
            "text/html": [
              "<div>\n",
              "<style scoped>\n",
              "    .dataframe tbody tr th:only-of-type {\n",
              "        vertical-align: middle;\n",
              "    }\n",
              "\n",
              "    .dataframe tbody tr th {\n",
              "        vertical-align: top;\n",
              "    }\n",
              "\n",
              "    .dataframe thead th {\n",
              "        text-align: right;\n",
              "    }\n",
              "</style>\n",
              "<table border=\"1\" class=\"dataframe\">\n",
              "  <thead>\n",
              "    <tr style=\"text-align: right;\">\n",
              "      <th></th>\n",
              "      <th>Edad &gt; 62.5</th>\n",
              "      <th>Total</th>\n",
              "      <th>Fallece = 1</th>\n",
              "      <th>Fallece = 0</th>\n",
              "      <th>Mean</th>\n",
              "    </tr>\n",
              "  </thead>\n",
              "  <tbody>\n",
              "    <tr>\n",
              "      <th>0</th>\n",
              "      <td>0</td>\n",
              "      <td>173</td>\n",
              "      <td>46</td>\n",
              "      <td>127</td>\n",
              "      <td>0.2659</td>\n",
              "    </tr>\n",
              "    <tr>\n",
              "      <th>1</th>\n",
              "      <td>1</td>\n",
              "      <td>126</td>\n",
              "      <td>50</td>\n",
              "      <td>76</td>\n",
              "      <td>0.3968</td>\n",
              "    </tr>\n",
              "  </tbody>\n",
              "</table>\n",
              "</div>"
            ],
            "text/plain": [
              "   Edad > 62.5  Total  Fallece = 1  Fallece = 0    Mean\n",
              "0            0    173           46          127  0.2659\n",
              "1            1    126           50           76  0.3968"
            ]
          },
          "metadata": {
            "tags": []
          }
        },
        {
          "output_type": "display_data",
          "data": {
            "text/html": [
              "<div>\n",
              "<style scoped>\n",
              "    .dataframe tbody tr th:only-of-type {\n",
              "        vertical-align: middle;\n",
              "    }\n",
              "\n",
              "    .dataframe tbody tr th {\n",
              "        vertical-align: top;\n",
              "    }\n",
              "\n",
              "    .dataframe thead th {\n",
              "        text-align: right;\n",
              "    }\n",
              "</style>\n",
              "<table border=\"1\" class=\"dataframe\">\n",
              "  <thead>\n",
              "    <tr style=\"text-align: right;\">\n",
              "      <th></th>\n",
              "      <th>Edad &gt; 63.5</th>\n",
              "      <th>Total</th>\n",
              "      <th>Fallece = 1</th>\n",
              "      <th>Fallece = 0</th>\n",
              "      <th>Mean</th>\n",
              "    </tr>\n",
              "  </thead>\n",
              "  <tbody>\n",
              "    <tr>\n",
              "      <th>0</th>\n",
              "      <td>0</td>\n",
              "      <td>181</td>\n",
              "      <td>46</td>\n",
              "      <td>135</td>\n",
              "      <td>0.2541</td>\n",
              "    </tr>\n",
              "    <tr>\n",
              "      <th>1</th>\n",
              "      <td>1</td>\n",
              "      <td>118</td>\n",
              "      <td>50</td>\n",
              "      <td>68</td>\n",
              "      <td>0.4237</td>\n",
              "    </tr>\n",
              "  </tbody>\n",
              "</table>\n",
              "</div>"
            ],
            "text/plain": [
              "   Edad > 63.5  Total  Fallece = 1  Fallece = 0    Mean\n",
              "0            0    181           46          135  0.2541\n",
              "1            1    118           50           68  0.4237"
            ]
          },
          "metadata": {
            "tags": []
          }
        },
        {
          "output_type": "display_data",
          "data": {
            "text/html": [
              "<div>\n",
              "<style scoped>\n",
              "    .dataframe tbody tr th:only-of-type {\n",
              "        vertical-align: middle;\n",
              "    }\n",
              "\n",
              "    .dataframe tbody tr th {\n",
              "        vertical-align: top;\n",
              "    }\n",
              "\n",
              "    .dataframe thead th {\n",
              "        text-align: right;\n",
              "    }\n",
              "</style>\n",
              "<table border=\"1\" class=\"dataframe\">\n",
              "  <thead>\n",
              "    <tr style=\"text-align: right;\">\n",
              "      <th></th>\n",
              "      <th>Edad &gt; 64.5</th>\n",
              "      <th>Total</th>\n",
              "      <th>Fallece = 1</th>\n",
              "      <th>Fallece = 0</th>\n",
              "      <th>Mean</th>\n",
              "    </tr>\n",
              "  </thead>\n",
              "  <tbody>\n",
              "    <tr>\n",
              "      <th>0</th>\n",
              "      <td>0</td>\n",
              "      <td>184</td>\n",
              "      <td>46</td>\n",
              "      <td>138</td>\n",
              "      <td>0.2500</td>\n",
              "    </tr>\n",
              "    <tr>\n",
              "      <th>1</th>\n",
              "      <td>1</td>\n",
              "      <td>115</td>\n",
              "      <td>50</td>\n",
              "      <td>65</td>\n",
              "      <td>0.4348</td>\n",
              "    </tr>\n",
              "  </tbody>\n",
              "</table>\n",
              "</div>"
            ],
            "text/plain": [
              "   Edad > 64.5  Total  Fallece = 1  Fallece = 0    Mean\n",
              "0            0    184           46          138  0.2500\n",
              "1            1    115           50           65  0.4348"
            ]
          },
          "metadata": {
            "tags": []
          }
        },
        {
          "output_type": "display_data",
          "data": {
            "text/html": [
              "<div>\n",
              "<style scoped>\n",
              "    .dataframe tbody tr th:only-of-type {\n",
              "        vertical-align: middle;\n",
              "    }\n",
              "\n",
              "    .dataframe tbody tr th {\n",
              "        vertical-align: top;\n",
              "    }\n",
              "\n",
              "    .dataframe thead th {\n",
              "        text-align: right;\n",
              "    }\n",
              "</style>\n",
              "<table border=\"1\" class=\"dataframe\">\n",
              "  <thead>\n",
              "    <tr style=\"text-align: right;\">\n",
              "      <th></th>\n",
              "      <th>Edad &gt; 65.5</th>\n",
              "      <th>Total</th>\n",
              "      <th>Fallece = 1</th>\n",
              "      <th>Fallece = 0</th>\n",
              "      <th>Mean</th>\n",
              "    </tr>\n",
              "  </thead>\n",
              "  <tbody>\n",
              "    <tr>\n",
              "      <th>0</th>\n",
              "      <td>0</td>\n",
              "      <td>210</td>\n",
              "      <td>54</td>\n",
              "      <td>156</td>\n",
              "      <td>0.2571</td>\n",
              "    </tr>\n",
              "    <tr>\n",
              "      <th>1</th>\n",
              "      <td>1</td>\n",
              "      <td>89</td>\n",
              "      <td>42</td>\n",
              "      <td>47</td>\n",
              "      <td>0.4719</td>\n",
              "    </tr>\n",
              "  </tbody>\n",
              "</table>\n",
              "</div>"
            ],
            "text/plain": [
              "   Edad > 65.5  Total  Fallece = 1  Fallece = 0    Mean\n",
              "0            0    210           54          156  0.2571\n",
              "1            1     89           42           47  0.4719"
            ]
          },
          "metadata": {
            "tags": []
          }
        },
        {
          "output_type": "display_data",
          "data": {
            "text/html": [
              "<div>\n",
              "<style scoped>\n",
              "    .dataframe tbody tr th:only-of-type {\n",
              "        vertical-align: middle;\n",
              "    }\n",
              "\n",
              "    .dataframe tbody tr th {\n",
              "        vertical-align: top;\n",
              "    }\n",
              "\n",
              "    .dataframe thead th {\n",
              "        text-align: right;\n",
              "    }\n",
              "</style>\n",
              "<table border=\"1\" class=\"dataframe\">\n",
              "  <thead>\n",
              "    <tr style=\"text-align: right;\">\n",
              "      <th></th>\n",
              "      <th>Edad &gt; 66.5</th>\n",
              "      <th>Total</th>\n",
              "      <th>Fallece = 1</th>\n",
              "      <th>Fallece = 0</th>\n",
              "      <th>Mean</th>\n",
              "    </tr>\n",
              "  </thead>\n",
              "  <tbody>\n",
              "    <tr>\n",
              "      <th>0</th>\n",
              "      <td>0</td>\n",
              "      <td>212</td>\n",
              "      <td>54</td>\n",
              "      <td>158</td>\n",
              "      <td>0.2547</td>\n",
              "    </tr>\n",
              "    <tr>\n",
              "      <th>1</th>\n",
              "      <td>1</td>\n",
              "      <td>87</td>\n",
              "      <td>42</td>\n",
              "      <td>45</td>\n",
              "      <td>0.4828</td>\n",
              "    </tr>\n",
              "  </tbody>\n",
              "</table>\n",
              "</div>"
            ],
            "text/plain": [
              "   Edad > 66.5  Total  Fallece = 1  Fallece = 0    Mean\n",
              "0            0    212           54          158  0.2547\n",
              "1            1     87           42           45  0.4828"
            ]
          },
          "metadata": {
            "tags": []
          }
        },
        {
          "output_type": "display_data",
          "data": {
            "text/html": [
              "<div>\n",
              "<style scoped>\n",
              "    .dataframe tbody tr th:only-of-type {\n",
              "        vertical-align: middle;\n",
              "    }\n",
              "\n",
              "    .dataframe tbody tr th {\n",
              "        vertical-align: top;\n",
              "    }\n",
              "\n",
              "    .dataframe thead th {\n",
              "        text-align: right;\n",
              "    }\n",
              "</style>\n",
              "<table border=\"1\" class=\"dataframe\">\n",
              "  <thead>\n",
              "    <tr style=\"text-align: right;\">\n",
              "      <th></th>\n",
              "      <th>Edad &gt; 67.5</th>\n",
              "      <th>Total</th>\n",
              "      <th>Fallece = 1</th>\n",
              "      <th>Fallece = 0</th>\n",
              "      <th>Mean</th>\n",
              "    </tr>\n",
              "  </thead>\n",
              "  <tbody>\n",
              "    <tr>\n",
              "      <th>0</th>\n",
              "      <td>0</td>\n",
              "      <td>214</td>\n",
              "      <td>54</td>\n",
              "      <td>160</td>\n",
              "      <td>0.2523</td>\n",
              "    </tr>\n",
              "    <tr>\n",
              "      <th>1</th>\n",
              "      <td>1</td>\n",
              "      <td>85</td>\n",
              "      <td>42</td>\n",
              "      <td>43</td>\n",
              "      <td>0.4941</td>\n",
              "    </tr>\n",
              "  </tbody>\n",
              "</table>\n",
              "</div>"
            ],
            "text/plain": [
              "   Edad > 67.5  Total  Fallece = 1  Fallece = 0    Mean\n",
              "0            0    214           54          160  0.2523\n",
              "1            1     85           42           43  0.4941"
            ]
          },
          "metadata": {
            "tags": []
          }
        },
        {
          "output_type": "display_data",
          "data": {
            "text/html": [
              "<div>\n",
              "<style scoped>\n",
              "    .dataframe tbody tr th:only-of-type {\n",
              "        vertical-align: middle;\n",
              "    }\n",
              "\n",
              "    .dataframe tbody tr th {\n",
              "        vertical-align: top;\n",
              "    }\n",
              "\n",
              "    .dataframe thead th {\n",
              "        text-align: right;\n",
              "    }\n",
              "</style>\n",
              "<table border=\"1\" class=\"dataframe\">\n",
              "  <thead>\n",
              "    <tr style=\"text-align: right;\">\n",
              "      <th></th>\n",
              "      <th>Edad &gt; 68.5</th>\n",
              "      <th>Total</th>\n",
              "      <th>Fallece = 1</th>\n",
              "      <th>Fallece = 0</th>\n",
              "      <th>Mean</th>\n",
              "    </tr>\n",
              "  </thead>\n",
              "  <tbody>\n",
              "    <tr>\n",
              "      <th>0</th>\n",
              "      <td>0</td>\n",
              "      <td>219</td>\n",
              "      <td>56</td>\n",
              "      <td>163</td>\n",
              "      <td>0.2557</td>\n",
              "    </tr>\n",
              "    <tr>\n",
              "      <th>1</th>\n",
              "      <td>1</td>\n",
              "      <td>80</td>\n",
              "      <td>40</td>\n",
              "      <td>40</td>\n",
              "      <td>0.5000</td>\n",
              "    </tr>\n",
              "  </tbody>\n",
              "</table>\n",
              "</div>"
            ],
            "text/plain": [
              "   Edad > 68.5  Total  Fallece = 1  Fallece = 0    Mean\n",
              "0            0    219           56          163  0.2557\n",
              "1            1     80           40           40  0.5000"
            ]
          },
          "metadata": {
            "tags": []
          }
        },
        {
          "output_type": "display_data",
          "data": {
            "text/html": [
              "<div>\n",
              "<style scoped>\n",
              "    .dataframe tbody tr th:only-of-type {\n",
              "        vertical-align: middle;\n",
              "    }\n",
              "\n",
              "    .dataframe tbody tr th {\n",
              "        vertical-align: top;\n",
              "    }\n",
              "\n",
              "    .dataframe thead th {\n",
              "        text-align: right;\n",
              "    }\n",
              "</style>\n",
              "<table border=\"1\" class=\"dataframe\">\n",
              "  <thead>\n",
              "    <tr style=\"text-align: right;\">\n",
              "      <th></th>\n",
              "      <th>Edad &gt; 69.5</th>\n",
              "      <th>Total</th>\n",
              "      <th>Fallece = 1</th>\n",
              "      <th>Fallece = 0</th>\n",
              "      <th>Mean</th>\n",
              "    </tr>\n",
              "  </thead>\n",
              "  <tbody>\n",
              "    <tr>\n",
              "      <th>0</th>\n",
              "      <td>0</td>\n",
              "      <td>222</td>\n",
              "      <td>58</td>\n",
              "      <td>164</td>\n",
              "      <td>0.2613</td>\n",
              "    </tr>\n",
              "    <tr>\n",
              "      <th>1</th>\n",
              "      <td>1</td>\n",
              "      <td>77</td>\n",
              "      <td>38</td>\n",
              "      <td>39</td>\n",
              "      <td>0.4935</td>\n",
              "    </tr>\n",
              "  </tbody>\n",
              "</table>\n",
              "</div>"
            ],
            "text/plain": [
              "   Edad > 69.5  Total  Fallece = 1  Fallece = 0    Mean\n",
              "0            0    222           58          164  0.2613\n",
              "1            1     77           38           39  0.4935"
            ]
          },
          "metadata": {
            "tags": []
          }
        },
        {
          "output_type": "display_data",
          "data": {
            "text/html": [
              "<div>\n",
              "<style scoped>\n",
              "    .dataframe tbody tr th:only-of-type {\n",
              "        vertical-align: middle;\n",
              "    }\n",
              "\n",
              "    .dataframe tbody tr th {\n",
              "        vertical-align: top;\n",
              "    }\n",
              "\n",
              "    .dataframe thead th {\n",
              "        text-align: right;\n",
              "    }\n",
              "</style>\n",
              "<table border=\"1\" class=\"dataframe\">\n",
              "  <thead>\n",
              "    <tr style=\"text-align: right;\">\n",
              "      <th></th>\n",
              "      <th>Edad &gt; 71.0</th>\n",
              "      <th>Total</th>\n",
              "      <th>Fallece = 1</th>\n",
              "      <th>Fallece = 0</th>\n",
              "      <th>Mean</th>\n",
              "    </tr>\n",
              "  </thead>\n",
              "  <tbody>\n",
              "    <tr>\n",
              "      <th>0</th>\n",
              "      <td>0</td>\n",
              "      <td>247</td>\n",
              "      <td>65</td>\n",
              "      <td>182</td>\n",
              "      <td>0.2632</td>\n",
              "    </tr>\n",
              "    <tr>\n",
              "      <th>1</th>\n",
              "      <td>1</td>\n",
              "      <td>52</td>\n",
              "      <td>31</td>\n",
              "      <td>21</td>\n",
              "      <td>0.5962</td>\n",
              "    </tr>\n",
              "  </tbody>\n",
              "</table>\n",
              "</div>"
            ],
            "text/plain": [
              "   Edad > 71.0  Total  Fallece = 1  Fallece = 0    Mean\n",
              "0            0    247           65          182  0.2632\n",
              "1            1     52           31           21  0.5962"
            ]
          },
          "metadata": {
            "tags": []
          }
        },
        {
          "output_type": "display_data",
          "data": {
            "text/html": [
              "<div>\n",
              "<style scoped>\n",
              "    .dataframe tbody tr th:only-of-type {\n",
              "        vertical-align: middle;\n",
              "    }\n",
              "\n",
              "    .dataframe tbody tr th {\n",
              "        vertical-align: top;\n",
              "    }\n",
              "\n",
              "    .dataframe thead th {\n",
              "        text-align: right;\n",
              "    }\n",
              "</style>\n",
              "<table border=\"1\" class=\"dataframe\">\n",
              "  <thead>\n",
              "    <tr style=\"text-align: right;\">\n",
              "      <th></th>\n",
              "      <th>Edad &gt; 72.5</th>\n",
              "      <th>Total</th>\n",
              "      <th>Fallece = 1</th>\n",
              "      <th>Fallece = 0</th>\n",
              "      <th>Mean</th>\n",
              "    </tr>\n",
              "  </thead>\n",
              "  <tbody>\n",
              "    <tr>\n",
              "      <th>0</th>\n",
              "      <td>0</td>\n",
              "      <td>254</td>\n",
              "      <td>70</td>\n",
              "      <td>184</td>\n",
              "      <td>0.2756</td>\n",
              "    </tr>\n",
              "    <tr>\n",
              "      <th>1</th>\n",
              "      <td>1</td>\n",
              "      <td>45</td>\n",
              "      <td>26</td>\n",
              "      <td>19</td>\n",
              "      <td>0.5778</td>\n",
              "    </tr>\n",
              "  </tbody>\n",
              "</table>\n",
              "</div>"
            ],
            "text/plain": [
              "   Edad > 72.5  Total  Fallece = 1  Fallece = 0    Mean\n",
              "0            0    254           70          184  0.2756\n",
              "1            1     45           26           19  0.5778"
            ]
          },
          "metadata": {
            "tags": []
          }
        },
        {
          "output_type": "display_data",
          "data": {
            "text/html": [
              "<div>\n",
              "<style scoped>\n",
              "    .dataframe tbody tr th:only-of-type {\n",
              "        vertical-align: middle;\n",
              "    }\n",
              "\n",
              "    .dataframe tbody tr th {\n",
              "        vertical-align: top;\n",
              "    }\n",
              "\n",
              "    .dataframe thead th {\n",
              "        text-align: right;\n",
              "    }\n",
              "</style>\n",
              "<table border=\"1\" class=\"dataframe\">\n",
              "  <thead>\n",
              "    <tr style=\"text-align: right;\">\n",
              "      <th></th>\n",
              "      <th>Edad &gt; 74.0</th>\n",
              "      <th>Total</th>\n",
              "      <th>Fallece = 1</th>\n",
              "      <th>Fallece = 0</th>\n",
              "      <th>Mean</th>\n",
              "    </tr>\n",
              "  </thead>\n",
              "  <tbody>\n",
              "    <tr>\n",
              "      <th>0</th>\n",
              "      <td>0</td>\n",
              "      <td>258</td>\n",
              "      <td>71</td>\n",
              "      <td>187</td>\n",
              "      <td>0.2752</td>\n",
              "    </tr>\n",
              "    <tr>\n",
              "      <th>1</th>\n",
              "      <td>1</td>\n",
              "      <td>41</td>\n",
              "      <td>25</td>\n",
              "      <td>16</td>\n",
              "      <td>0.6098</td>\n",
              "    </tr>\n",
              "  </tbody>\n",
              "</table>\n",
              "</div>"
            ],
            "text/plain": [
              "   Edad > 74.0  Total  Fallece = 1  Fallece = 0    Mean\n",
              "0            0    258           71          187  0.2752\n",
              "1            1     41           25           16  0.6098"
            ]
          },
          "metadata": {
            "tags": []
          }
        },
        {
          "output_type": "display_data",
          "data": {
            "text/html": [
              "<div>\n",
              "<style scoped>\n",
              "    .dataframe tbody tr th:only-of-type {\n",
              "        vertical-align: middle;\n",
              "    }\n",
              "\n",
              "    .dataframe tbody tr th {\n",
              "        vertical-align: top;\n",
              "    }\n",
              "\n",
              "    .dataframe thead th {\n",
              "        text-align: right;\n",
              "    }\n",
              "</style>\n",
              "<table border=\"1\" class=\"dataframe\">\n",
              "  <thead>\n",
              "    <tr style=\"text-align: right;\">\n",
              "      <th></th>\n",
              "      <th>Edad &gt; 76.0</th>\n",
              "      <th>Total</th>\n",
              "      <th>Fallece = 1</th>\n",
              "      <th>Fallece = 0</th>\n",
              "      <th>Mean</th>\n",
              "    </tr>\n",
              "  </thead>\n",
              "  <tbody>\n",
              "    <tr>\n",
              "      <th>0</th>\n",
              "      <td>0</td>\n",
              "      <td>269</td>\n",
              "      <td>77</td>\n",
              "      <td>192</td>\n",
              "      <td>0.2862</td>\n",
              "    </tr>\n",
              "    <tr>\n",
              "      <th>1</th>\n",
              "      <td>1</td>\n",
              "      <td>30</td>\n",
              "      <td>19</td>\n",
              "      <td>11</td>\n",
              "      <td>0.6333</td>\n",
              "    </tr>\n",
              "  </tbody>\n",
              "</table>\n",
              "</div>"
            ],
            "text/plain": [
              "   Edad > 76.0  Total  Fallece = 1  Fallece = 0    Mean\n",
              "0            0    269           77          192  0.2862\n",
              "1            1     30           19           11  0.6333"
            ]
          },
          "metadata": {
            "tags": []
          }
        },
        {
          "output_type": "display_data",
          "data": {
            "text/html": [
              "<div>\n",
              "<style scoped>\n",
              "    .dataframe tbody tr th:only-of-type {\n",
              "        vertical-align: middle;\n",
              "    }\n",
              "\n",
              "    .dataframe tbody tr th {\n",
              "        vertical-align: top;\n",
              "    }\n",
              "\n",
              "    .dataframe thead th {\n",
              "        text-align: right;\n",
              "    }\n",
              "</style>\n",
              "<table border=\"1\" class=\"dataframe\">\n",
              "  <thead>\n",
              "    <tr style=\"text-align: right;\">\n",
              "      <th></th>\n",
              "      <th>Edad &gt; 77.5</th>\n",
              "      <th>Total</th>\n",
              "      <th>Fallece = 1</th>\n",
              "      <th>Fallece = 0</th>\n",
              "      <th>Mean</th>\n",
              "    </tr>\n",
              "  </thead>\n",
              "  <tbody>\n",
              "    <tr>\n",
              "      <th>0</th>\n",
              "      <td>0</td>\n",
              "      <td>271</td>\n",
              "      <td>78</td>\n",
              "      <td>193</td>\n",
              "      <td>0.2878</td>\n",
              "    </tr>\n",
              "    <tr>\n",
              "      <th>1</th>\n",
              "      <td>1</td>\n",
              "      <td>28</td>\n",
              "      <td>18</td>\n",
              "      <td>10</td>\n",
              "      <td>0.6429</td>\n",
              "    </tr>\n",
              "  </tbody>\n",
              "</table>\n",
              "</div>"
            ],
            "text/plain": [
              "   Edad > 77.5  Total  Fallece = 1  Fallece = 0    Mean\n",
              "0            0    271           78          193  0.2878\n",
              "1            1     28           18           10  0.6429"
            ]
          },
          "metadata": {
            "tags": []
          }
        },
        {
          "output_type": "display_data",
          "data": {
            "text/html": [
              "<div>\n",
              "<style scoped>\n",
              "    .dataframe tbody tr th:only-of-type {\n",
              "        vertical-align: middle;\n",
              "    }\n",
              "\n",
              "    .dataframe tbody tr th {\n",
              "        vertical-align: top;\n",
              "    }\n",
              "\n",
              "    .dataframe thead th {\n",
              "        text-align: right;\n",
              "    }\n",
              "</style>\n",
              "<table border=\"1\" class=\"dataframe\">\n",
              "  <thead>\n",
              "    <tr style=\"text-align: right;\">\n",
              "      <th></th>\n",
              "      <th>Edad &gt; 78.5</th>\n",
              "      <th>Total</th>\n",
              "      <th>Fallece = 1</th>\n",
              "      <th>Fallece = 0</th>\n",
              "      <th>Mean</th>\n",
              "    </tr>\n",
              "  </thead>\n",
              "  <tbody>\n",
              "    <tr>\n",
              "      <th>0</th>\n",
              "      <td>0</td>\n",
              "      <td>273</td>\n",
              "      <td>78</td>\n",
              "      <td>195</td>\n",
              "      <td>0.2857</td>\n",
              "    </tr>\n",
              "    <tr>\n",
              "      <th>1</th>\n",
              "      <td>1</td>\n",
              "      <td>26</td>\n",
              "      <td>18</td>\n",
              "      <td>8</td>\n",
              "      <td>0.6923</td>\n",
              "    </tr>\n",
              "  </tbody>\n",
              "</table>\n",
              "</div>"
            ],
            "text/plain": [
              "   Edad > 78.5  Total  Fallece = 1  Fallece = 0    Mean\n",
              "0            0    273           78          195  0.2857\n",
              "1            1     26           18            8  0.6923"
            ]
          },
          "metadata": {
            "tags": []
          }
        },
        {
          "output_type": "display_data",
          "data": {
            "text/html": [
              "<div>\n",
              "<style scoped>\n",
              "    .dataframe tbody tr th:only-of-type {\n",
              "        vertical-align: middle;\n",
              "    }\n",
              "\n",
              "    .dataframe tbody tr th {\n",
              "        vertical-align: top;\n",
              "    }\n",
              "\n",
              "    .dataframe thead th {\n",
              "        text-align: right;\n",
              "    }\n",
              "</style>\n",
              "<table border=\"1\" class=\"dataframe\">\n",
              "  <thead>\n",
              "    <tr style=\"text-align: right;\">\n",
              "      <th></th>\n",
              "      <th>Edad &gt; 79.5</th>\n",
              "      <th>Total</th>\n",
              "      <th>Fallece = 1</th>\n",
              "      <th>Fallece = 0</th>\n",
              "      <th>Mean</th>\n",
              "    </tr>\n",
              "  </thead>\n",
              "  <tbody>\n",
              "    <tr>\n",
              "      <th>0</th>\n",
              "      <td>0</td>\n",
              "      <td>274</td>\n",
              "      <td>78</td>\n",
              "      <td>196</td>\n",
              "      <td>0.2847</td>\n",
              "    </tr>\n",
              "    <tr>\n",
              "      <th>1</th>\n",
              "      <td>1</td>\n",
              "      <td>25</td>\n",
              "      <td>18</td>\n",
              "      <td>7</td>\n",
              "      <td>0.7200</td>\n",
              "    </tr>\n",
              "  </tbody>\n",
              "</table>\n",
              "</div>"
            ],
            "text/plain": [
              "   Edad > 79.5  Total  Fallece = 1  Fallece = 0    Mean\n",
              "0            0    274           78          196  0.2847\n",
              "1            1     25           18            7  0.7200"
            ]
          },
          "metadata": {
            "tags": []
          }
        },
        {
          "output_type": "display_data",
          "data": {
            "text/html": [
              "<div>\n",
              "<style scoped>\n",
              "    .dataframe tbody tr th:only-of-type {\n",
              "        vertical-align: middle;\n",
              "    }\n",
              "\n",
              "    .dataframe tbody tr th {\n",
              "        vertical-align: top;\n",
              "    }\n",
              "\n",
              "    .dataframe thead th {\n",
              "        text-align: right;\n",
              "    }\n",
              "</style>\n",
              "<table border=\"1\" class=\"dataframe\">\n",
              "  <thead>\n",
              "    <tr style=\"text-align: right;\">\n",
              "      <th></th>\n",
              "      <th>Edad &gt; 80.5</th>\n",
              "      <th>Total</th>\n",
              "      <th>Fallece = 1</th>\n",
              "      <th>Fallece = 0</th>\n",
              "      <th>Mean</th>\n",
              "    </tr>\n",
              "  </thead>\n",
              "  <tbody>\n",
              "    <tr>\n",
              "      <th>0</th>\n",
              "      <td>0</td>\n",
              "      <td>281</td>\n",
              "      <td>83</td>\n",
              "      <td>198</td>\n",
              "      <td>0.2954</td>\n",
              "    </tr>\n",
              "    <tr>\n",
              "      <th>1</th>\n",
              "      <td>1</td>\n",
              "      <td>18</td>\n",
              "      <td>13</td>\n",
              "      <td>5</td>\n",
              "      <td>0.7222</td>\n",
              "    </tr>\n",
              "  </tbody>\n",
              "</table>\n",
              "</div>"
            ],
            "text/plain": [
              "   Edad > 80.5  Total  Fallece = 1  Fallece = 0    Mean\n",
              "0            0    281           83          198  0.2954\n",
              "1            1     18           13            5  0.7222"
            ]
          },
          "metadata": {
            "tags": []
          }
        },
        {
          "output_type": "display_data",
          "data": {
            "text/html": [
              "<div>\n",
              "<style scoped>\n",
              "    .dataframe tbody tr th:only-of-type {\n",
              "        vertical-align: middle;\n",
              "    }\n",
              "\n",
              "    .dataframe tbody tr th {\n",
              "        vertical-align: top;\n",
              "    }\n",
              "\n",
              "    .dataframe thead th {\n",
              "        text-align: right;\n",
              "    }\n",
              "</style>\n",
              "<table border=\"1\" class=\"dataframe\">\n",
              "  <thead>\n",
              "    <tr style=\"text-align: right;\">\n",
              "      <th></th>\n",
              "      <th>Edad &gt; 81.5</th>\n",
              "      <th>Total</th>\n",
              "      <th>Fallece = 1</th>\n",
              "      <th>Fallece = 0</th>\n",
              "      <th>Mean</th>\n",
              "    </tr>\n",
              "  </thead>\n",
              "  <tbody>\n",
              "    <tr>\n",
              "      <th>0</th>\n",
              "      <td>0</td>\n",
              "      <td>282</td>\n",
              "      <td>83</td>\n",
              "      <td>199</td>\n",
              "      <td>0.2943</td>\n",
              "    </tr>\n",
              "    <tr>\n",
              "      <th>1</th>\n",
              "      <td>1</td>\n",
              "      <td>17</td>\n",
              "      <td>13</td>\n",
              "      <td>4</td>\n",
              "      <td>0.7647</td>\n",
              "    </tr>\n",
              "  </tbody>\n",
              "</table>\n",
              "</div>"
            ],
            "text/plain": [
              "   Edad > 81.5  Total  Fallece = 1  Fallece = 0    Mean\n",
              "0            0    282           83          199  0.2943\n",
              "1            1     17           13            4  0.7647"
            ]
          },
          "metadata": {
            "tags": []
          }
        },
        {
          "output_type": "display_data",
          "data": {
            "text/html": [
              "<div>\n",
              "<style scoped>\n",
              "    .dataframe tbody tr th:only-of-type {\n",
              "        vertical-align: middle;\n",
              "    }\n",
              "\n",
              "    .dataframe tbody tr th {\n",
              "        vertical-align: top;\n",
              "    }\n",
              "\n",
              "    .dataframe thead th {\n",
              "        text-align: right;\n",
              "    }\n",
              "</style>\n",
              "<table border=\"1\" class=\"dataframe\">\n",
              "  <thead>\n",
              "    <tr style=\"text-align: right;\">\n",
              "      <th></th>\n",
              "      <th>Edad &gt; 83.5</th>\n",
              "      <th>Total</th>\n",
              "      <th>Fallece = 1</th>\n",
              "      <th>Fallece = 0</th>\n",
              "      <th>Mean</th>\n",
              "    </tr>\n",
              "  </thead>\n",
              "  <tbody>\n",
              "    <tr>\n",
              "      <th>0</th>\n",
              "      <td>0</td>\n",
              "      <td>285</td>\n",
              "      <td>86</td>\n",
              "      <td>199</td>\n",
              "      <td>0.3018</td>\n",
              "    </tr>\n",
              "    <tr>\n",
              "      <th>1</th>\n",
              "      <td>1</td>\n",
              "      <td>14</td>\n",
              "      <td>10</td>\n",
              "      <td>4</td>\n",
              "      <td>0.7143</td>\n",
              "    </tr>\n",
              "  </tbody>\n",
              "</table>\n",
              "</div>"
            ],
            "text/plain": [
              "   Edad > 83.5  Total  Fallece = 1  Fallece = 0    Mean\n",
              "0            0    285           86          199  0.3018\n",
              "1            1     14           10            4  0.7143"
            ]
          },
          "metadata": {
            "tags": []
          }
        },
        {
          "output_type": "display_data",
          "data": {
            "text/html": [
              "<div>\n",
              "<style scoped>\n",
              "    .dataframe tbody tr th:only-of-type {\n",
              "        vertical-align: middle;\n",
              "    }\n",
              "\n",
              "    .dataframe tbody tr th {\n",
              "        vertical-align: top;\n",
              "    }\n",
              "\n",
              "    .dataframe thead th {\n",
              "        text-align: right;\n",
              "    }\n",
              "</style>\n",
              "<table border=\"1\" class=\"dataframe\">\n",
              "  <thead>\n",
              "    <tr style=\"text-align: right;\">\n",
              "      <th></th>\n",
              "      <th>Edad &gt; 85.5</th>\n",
              "      <th>Total</th>\n",
              "      <th>Fallece = 1</th>\n",
              "      <th>Fallece = 0</th>\n",
              "      <th>Mean</th>\n",
              "    </tr>\n",
              "  </thead>\n",
              "  <tbody>\n",
              "    <tr>\n",
              "      <th>0</th>\n",
              "      <td>0</td>\n",
              "      <td>291</td>\n",
              "      <td>89</td>\n",
              "      <td>202</td>\n",
              "      <td>0.3058</td>\n",
              "    </tr>\n",
              "    <tr>\n",
              "      <th>1</th>\n",
              "      <td>1</td>\n",
              "      <td>8</td>\n",
              "      <td>7</td>\n",
              "      <td>1</td>\n",
              "      <td>0.8750</td>\n",
              "    </tr>\n",
              "  </tbody>\n",
              "</table>\n",
              "</div>"
            ],
            "text/plain": [
              "   Edad > 85.5  Total  Fallece = 1  Fallece = 0    Mean\n",
              "0            0    291           89          202  0.3058\n",
              "1            1      8            7            1  0.8750"
            ]
          },
          "metadata": {
            "tags": []
          }
        },
        {
          "output_type": "display_data",
          "data": {
            "text/html": [
              "<div>\n",
              "<style scoped>\n",
              "    .dataframe tbody tr th:only-of-type {\n",
              "        vertical-align: middle;\n",
              "    }\n",
              "\n",
              "    .dataframe tbody tr th {\n",
              "        vertical-align: top;\n",
              "    }\n",
              "\n",
              "    .dataframe thead th {\n",
              "        text-align: right;\n",
              "    }\n",
              "</style>\n",
              "<table border=\"1\" class=\"dataframe\">\n",
              "  <thead>\n",
              "    <tr style=\"text-align: right;\">\n",
              "      <th></th>\n",
              "      <th>Edad &gt; 86.5</th>\n",
              "      <th>Total</th>\n",
              "      <th>Fallece = 1</th>\n",
              "      <th>Fallece = 0</th>\n",
              "      <th>Mean</th>\n",
              "    </tr>\n",
              "  </thead>\n",
              "  <tbody>\n",
              "    <tr>\n",
              "      <th>0</th>\n",
              "      <td>0</td>\n",
              "      <td>292</td>\n",
              "      <td>90</td>\n",
              "      <td>202</td>\n",
              "      <td>0.3082</td>\n",
              "    </tr>\n",
              "    <tr>\n",
              "      <th>1</th>\n",
              "      <td>1</td>\n",
              "      <td>7</td>\n",
              "      <td>6</td>\n",
              "      <td>1</td>\n",
              "      <td>0.8571</td>\n",
              "    </tr>\n",
              "  </tbody>\n",
              "</table>\n",
              "</div>"
            ],
            "text/plain": [
              "   Edad > 86.5  Total  Fallece = 1  Fallece = 0    Mean\n",
              "0            0    292           90          202  0.3082\n",
              "1            1      7            6            1  0.8571"
            ]
          },
          "metadata": {
            "tags": []
          }
        },
        {
          "output_type": "display_data",
          "data": {
            "text/html": [
              "<div>\n",
              "<style scoped>\n",
              "    .dataframe tbody tr th:only-of-type {\n",
              "        vertical-align: middle;\n",
              "    }\n",
              "\n",
              "    .dataframe tbody tr th {\n",
              "        vertical-align: top;\n",
              "    }\n",
              "\n",
              "    .dataframe thead th {\n",
              "        text-align: right;\n",
              "    }\n",
              "</style>\n",
              "<table border=\"1\" class=\"dataframe\">\n",
              "  <thead>\n",
              "    <tr style=\"text-align: right;\">\n",
              "      <th></th>\n",
              "      <th>Edad &gt; 88.5</th>\n",
              "      <th>Total</th>\n",
              "      <th>Fallece = 1</th>\n",
              "      <th>Fallece = 0</th>\n",
              "      <th>Mean</th>\n",
              "    </tr>\n",
              "  </thead>\n",
              "  <tbody>\n",
              "    <tr>\n",
              "      <th>0</th>\n",
              "      <td>0</td>\n",
              "      <td>293</td>\n",
              "      <td>91</td>\n",
              "      <td>202</td>\n",
              "      <td>0.3106</td>\n",
              "    </tr>\n",
              "    <tr>\n",
              "      <th>1</th>\n",
              "      <td>1</td>\n",
              "      <td>6</td>\n",
              "      <td>5</td>\n",
              "      <td>1</td>\n",
              "      <td>0.8333</td>\n",
              "    </tr>\n",
              "  </tbody>\n",
              "</table>\n",
              "</div>"
            ],
            "text/plain": [
              "   Edad > 88.5  Total  Fallece = 1  Fallece = 0    Mean\n",
              "0            0    293           91          202  0.3106\n",
              "1            1      6            5            1  0.8333"
            ]
          },
          "metadata": {
            "tags": []
          }
        },
        {
          "output_type": "display_data",
          "data": {
            "text/html": [
              "<div>\n",
              "<style scoped>\n",
              "    .dataframe tbody tr th:only-of-type {\n",
              "        vertical-align: middle;\n",
              "    }\n",
              "\n",
              "    .dataframe tbody tr th {\n",
              "        vertical-align: top;\n",
              "    }\n",
              "\n",
              "    .dataframe thead th {\n",
              "        text-align: right;\n",
              "    }\n",
              "</style>\n",
              "<table border=\"1\" class=\"dataframe\">\n",
              "  <thead>\n",
              "    <tr style=\"text-align: right;\">\n",
              "      <th></th>\n",
              "      <th>Edad &gt; 92.0</th>\n",
              "      <th>Total</th>\n",
              "      <th>Fallece = 1</th>\n",
              "      <th>Fallece = 0</th>\n",
              "      <th>Mean</th>\n",
              "    </tr>\n",
              "  </thead>\n",
              "  <tbody>\n",
              "    <tr>\n",
              "      <th>0</th>\n",
              "      <td>0</td>\n",
              "      <td>296</td>\n",
              "      <td>93</td>\n",
              "      <td>203</td>\n",
              "      <td>0.3142</td>\n",
              "    </tr>\n",
              "    <tr>\n",
              "      <th>1</th>\n",
              "      <td>1</td>\n",
              "      <td>3</td>\n",
              "      <td>3</td>\n",
              "      <td>0</td>\n",
              "      <td>1.0000</td>\n",
              "    </tr>\n",
              "  </tbody>\n",
              "</table>\n",
              "</div>"
            ],
            "text/plain": [
              "   Edad > 92.0  Total  Fallece = 1  Fallece = 0    Mean\n",
              "0            0    296           93          203  0.3142\n",
              "1            1      3            3            0  1.0000"
            ]
          },
          "metadata": {
            "tags": []
          }
        },
        {
          "output_type": "display_data",
          "data": {
            "text/html": [
              "<div>\n",
              "<style scoped>\n",
              "    .dataframe tbody tr th:only-of-type {\n",
              "        vertical-align: middle;\n",
              "    }\n",
              "\n",
              "    .dataframe tbody tr th {\n",
              "        vertical-align: top;\n",
              "    }\n",
              "\n",
              "    .dataframe thead th {\n",
              "        text-align: right;\n",
              "    }\n",
              "</style>\n",
              "<table border=\"1\" class=\"dataframe\">\n",
              "  <thead>\n",
              "    <tr style=\"text-align: right;\">\n",
              "      <th></th>\n",
              "      <th>Edad &gt; 94.5</th>\n",
              "      <th>Total</th>\n",
              "      <th>Fallece = 1</th>\n",
              "      <th>Fallece = 0</th>\n",
              "      <th>Mean</th>\n",
              "    </tr>\n",
              "  </thead>\n",
              "  <tbody>\n",
              "    <tr>\n",
              "      <th>0</th>\n",
              "      <td>0</td>\n",
              "      <td>297</td>\n",
              "      <td>94</td>\n",
              "      <td>203</td>\n",
              "      <td>0.3165</td>\n",
              "    </tr>\n",
              "    <tr>\n",
              "      <th>1</th>\n",
              "      <td>1</td>\n",
              "      <td>2</td>\n",
              "      <td>2</td>\n",
              "      <td>0</td>\n",
              "      <td>1.0000</td>\n",
              "    </tr>\n",
              "  </tbody>\n",
              "</table>\n",
              "</div>"
            ],
            "text/plain": [
              "   Edad > 94.5  Total  Fallece = 1  Fallece = 0    Mean\n",
              "0            0    297           94          203  0.3165\n",
              "1            1      2            2            0  1.0000"
            ]
          },
          "metadata": {
            "tags": []
          }
        }
      ]
    },
    {
      "cell_type": "markdown",
      "metadata": {
        "id": "qJlXHc8_4jhS"
      },
      "source": [
        "#### EJERCICIO \r\n",
        "Crea la función **particiones_continuas** que, dado un dataframe con datos, una variable continua (como 'Edad' o 'Serum') y una variable target, muestre una serie de dataframes con información para cada una de las particiones. (Devuelve un resultado similar al que acabamos de generar en la celda anterior)."
      ]
    },
    {
      "cell_type": "code",
      "metadata": {
        "id": "ukEeTvGEqKi7"
      },
      "source": [
        "def particiones_continuas(df, target, var_continua):\r\n",
        "  \"\"\"\r\n",
        "  Muestra una serie dataframes con información sobre las distintas particiones \r\n",
        "  posibles utilizando la variable continua aportada.\r\n",
        "  \"\"\"\r\n",
        "  valores_edad_unicos_ordenados = df[var_continua].sort_values().unique()\r\n",
        "  valores_particiones = (valores_edad_unicos_ordenados[:-1] + \r\n",
        "                         valores_edad_unicos_ordenados[1:])/2\r\n",
        "\r\n",
        "  for valor in valores_particiones:\r\n",
        "    df_i = df.copy(deep=True)\r\n",
        "    filtro_i = df_i[var_continua] > valor\r\n",
        "    df_i[str(var_continua) + ' > ' + str(valor)] = filtro_i.astype(int)\r\n",
        "    df_i = particion_categorica(df_i, \r\n",
        "                                'Fallece', \r\n",
        "                                str(var_continua) + ' > ' + str(valor))\r\n",
        "    display(df_i)"
      ],
      "execution_count": 17,
      "outputs": []
    },
    {
      "cell_type": "code",
      "metadata": {
        "id": "d9Veosr7r1sl",
        "colab": {
          "base_uri": "https://localhost:8080/",
          "height": 1000
        },
        "outputId": "f73f5b6a-f88f-499d-9641-e4fb3a349e5d"
      },
      "source": [
        "particiones_continuas(df_resumen, 'Fallece', 'Edad')"
      ],
      "execution_count": 18,
      "outputs": [
        {
          "output_type": "display_data",
          "data": {
            "text/html": [
              "<div>\n",
              "<style scoped>\n",
              "    .dataframe tbody tr th:only-of-type {\n",
              "        vertical-align: middle;\n",
              "    }\n",
              "\n",
              "    .dataframe tbody tr th {\n",
              "        vertical-align: top;\n",
              "    }\n",
              "\n",
              "    .dataframe thead th {\n",
              "        text-align: right;\n",
              "    }\n",
              "</style>\n",
              "<table border=\"1\" class=\"dataframe\">\n",
              "  <thead>\n",
              "    <tr style=\"text-align: right;\">\n",
              "      <th></th>\n",
              "      <th>Edad &gt; 40.5</th>\n",
              "      <th>Total</th>\n",
              "      <th>Fallece = 1</th>\n",
              "      <th>Fallece = 0</th>\n",
              "      <th>Mean</th>\n",
              "    </tr>\n",
              "  </thead>\n",
              "  <tbody>\n",
              "    <tr>\n",
              "      <th>0</th>\n",
              "      <td>0</td>\n",
              "      <td>7</td>\n",
              "      <td>0</td>\n",
              "      <td>7</td>\n",
              "      <td>0.0000</td>\n",
              "    </tr>\n",
              "    <tr>\n",
              "      <th>1</th>\n",
              "      <td>1</td>\n",
              "      <td>292</td>\n",
              "      <td>96</td>\n",
              "      <td>196</td>\n",
              "      <td>0.3288</td>\n",
              "    </tr>\n",
              "  </tbody>\n",
              "</table>\n",
              "</div>"
            ],
            "text/plain": [
              "   Edad > 40.5  Total  Fallece = 1  Fallece = 0    Mean\n",
              "0            0      7            0            7  0.0000\n",
              "1            1    292           96          196  0.3288"
            ]
          },
          "metadata": {
            "tags": []
          }
        },
        {
          "output_type": "display_data",
          "data": {
            "text/html": [
              "<div>\n",
              "<style scoped>\n",
              "    .dataframe tbody tr th:only-of-type {\n",
              "        vertical-align: middle;\n",
              "    }\n",
              "\n",
              "    .dataframe tbody tr th {\n",
              "        vertical-align: top;\n",
              "    }\n",
              "\n",
              "    .dataframe thead th {\n",
              "        text-align: right;\n",
              "    }\n",
              "</style>\n",
              "<table border=\"1\" class=\"dataframe\">\n",
              "  <thead>\n",
              "    <tr style=\"text-align: right;\">\n",
              "      <th></th>\n",
              "      <th>Edad &gt; 41.5</th>\n",
              "      <th>Total</th>\n",
              "      <th>Fallece = 1</th>\n",
              "      <th>Fallece = 0</th>\n",
              "      <th>Mean</th>\n",
              "    </tr>\n",
              "  </thead>\n",
              "  <tbody>\n",
              "    <tr>\n",
              "      <th>0</th>\n",
              "      <td>0</td>\n",
              "      <td>8</td>\n",
              "      <td>0</td>\n",
              "      <td>8</td>\n",
              "      <td>0.0000</td>\n",
              "    </tr>\n",
              "    <tr>\n",
              "      <th>1</th>\n",
              "      <td>1</td>\n",
              "      <td>291</td>\n",
              "      <td>96</td>\n",
              "      <td>195</td>\n",
              "      <td>0.3299</td>\n",
              "    </tr>\n",
              "  </tbody>\n",
              "</table>\n",
              "</div>"
            ],
            "text/plain": [
              "   Edad > 41.5  Total  Fallece = 1  Fallece = 0    Mean\n",
              "0            0      8            0            8  0.0000\n",
              "1            1    291           96          195  0.3299"
            ]
          },
          "metadata": {
            "tags": []
          }
        },
        {
          "output_type": "display_data",
          "data": {
            "text/html": [
              "<div>\n",
              "<style scoped>\n",
              "    .dataframe tbody tr th:only-of-type {\n",
              "        vertical-align: middle;\n",
              "    }\n",
              "\n",
              "    .dataframe tbody tr th {\n",
              "        vertical-align: top;\n",
              "    }\n",
              "\n",
              "    .dataframe thead th {\n",
              "        text-align: right;\n",
              "    }\n",
              "</style>\n",
              "<table border=\"1\" class=\"dataframe\">\n",
              "  <thead>\n",
              "    <tr style=\"text-align: right;\">\n",
              "      <th></th>\n",
              "      <th>Edad &gt; 42.5</th>\n",
              "      <th>Total</th>\n",
              "      <th>Fallece = 1</th>\n",
              "      <th>Fallece = 0</th>\n",
              "      <th>Mean</th>\n",
              "    </tr>\n",
              "  </thead>\n",
              "  <tbody>\n",
              "    <tr>\n",
              "      <th>0</th>\n",
              "      <td>0</td>\n",
              "      <td>15</td>\n",
              "      <td>1</td>\n",
              "      <td>14</td>\n",
              "      <td>0.0667</td>\n",
              "    </tr>\n",
              "    <tr>\n",
              "      <th>1</th>\n",
              "      <td>1</td>\n",
              "      <td>284</td>\n",
              "      <td>95</td>\n",
              "      <td>189</td>\n",
              "      <td>0.3345</td>\n",
              "    </tr>\n",
              "  </tbody>\n",
              "</table>\n",
              "</div>"
            ],
            "text/plain": [
              "   Edad > 42.5  Total  Fallece = 1  Fallece = 0    Mean\n",
              "0            0     15            1           14  0.0667\n",
              "1            1    284           95          189  0.3345"
            ]
          },
          "metadata": {
            "tags": []
          }
        },
        {
          "output_type": "display_data",
          "data": {
            "text/html": [
              "<div>\n",
              "<style scoped>\n",
              "    .dataframe tbody tr th:only-of-type {\n",
              "        vertical-align: middle;\n",
              "    }\n",
              "\n",
              "    .dataframe tbody tr th {\n",
              "        vertical-align: top;\n",
              "    }\n",
              "\n",
              "    .dataframe thead th {\n",
              "        text-align: right;\n",
              "    }\n",
              "</style>\n",
              "<table border=\"1\" class=\"dataframe\">\n",
              "  <thead>\n",
              "    <tr style=\"text-align: right;\">\n",
              "      <th></th>\n",
              "      <th>Edad &gt; 43.5</th>\n",
              "      <th>Total</th>\n",
              "      <th>Fallece = 1</th>\n",
              "      <th>Fallece = 0</th>\n",
              "      <th>Mean</th>\n",
              "    </tr>\n",
              "  </thead>\n",
              "  <tbody>\n",
              "    <tr>\n",
              "      <th>0</th>\n",
              "      <td>0</td>\n",
              "      <td>16</td>\n",
              "      <td>1</td>\n",
              "      <td>15</td>\n",
              "      <td>0.0625</td>\n",
              "    </tr>\n",
              "    <tr>\n",
              "      <th>1</th>\n",
              "      <td>1</td>\n",
              "      <td>283</td>\n",
              "      <td>95</td>\n",
              "      <td>188</td>\n",
              "      <td>0.3357</td>\n",
              "    </tr>\n",
              "  </tbody>\n",
              "</table>\n",
              "</div>"
            ],
            "text/plain": [
              "   Edad > 43.5  Total  Fallece = 1  Fallece = 0    Mean\n",
              "0            0     16            1           15  0.0625\n",
              "1            1    283           95          188  0.3357"
            ]
          },
          "metadata": {
            "tags": []
          }
        },
        {
          "output_type": "display_data",
          "data": {
            "text/html": [
              "<div>\n",
              "<style scoped>\n",
              "    .dataframe tbody tr th:only-of-type {\n",
              "        vertical-align: middle;\n",
              "    }\n",
              "\n",
              "    .dataframe tbody tr th {\n",
              "        vertical-align: top;\n",
              "    }\n",
              "\n",
              "    .dataframe thead th {\n",
              "        text-align: right;\n",
              "    }\n",
              "</style>\n",
              "<table border=\"1\" class=\"dataframe\">\n",
              "  <thead>\n",
              "    <tr style=\"text-align: right;\">\n",
              "      <th></th>\n",
              "      <th>Edad &gt; 44.5</th>\n",
              "      <th>Total</th>\n",
              "      <th>Fallece = 1</th>\n",
              "      <th>Fallece = 0</th>\n",
              "      <th>Mean</th>\n",
              "    </tr>\n",
              "  </thead>\n",
              "  <tbody>\n",
              "    <tr>\n",
              "      <th>0</th>\n",
              "      <td>0</td>\n",
              "      <td>18</td>\n",
              "      <td>1</td>\n",
              "      <td>17</td>\n",
              "      <td>0.0556</td>\n",
              "    </tr>\n",
              "    <tr>\n",
              "      <th>1</th>\n",
              "      <td>1</td>\n",
              "      <td>281</td>\n",
              "      <td>95</td>\n",
              "      <td>186</td>\n",
              "      <td>0.3381</td>\n",
              "    </tr>\n",
              "  </tbody>\n",
              "</table>\n",
              "</div>"
            ],
            "text/plain": [
              "   Edad > 44.5  Total  Fallece = 1  Fallece = 0    Mean\n",
              "0            0     18            1           17  0.0556\n",
              "1            1    281           95          186  0.3381"
            ]
          },
          "metadata": {
            "tags": []
          }
        },
        {
          "output_type": "display_data",
          "data": {
            "text/html": [
              "<div>\n",
              "<style scoped>\n",
              "    .dataframe tbody tr th:only-of-type {\n",
              "        vertical-align: middle;\n",
              "    }\n",
              "\n",
              "    .dataframe tbody tr th {\n",
              "        vertical-align: top;\n",
              "    }\n",
              "\n",
              "    .dataframe thead th {\n",
              "        text-align: right;\n",
              "    }\n",
              "</style>\n",
              "<table border=\"1\" class=\"dataframe\">\n",
              "  <thead>\n",
              "    <tr style=\"text-align: right;\">\n",
              "      <th></th>\n",
              "      <th>Edad &gt; 45.5</th>\n",
              "      <th>Total</th>\n",
              "      <th>Fallece = 1</th>\n",
              "      <th>Fallece = 0</th>\n",
              "      <th>Mean</th>\n",
              "    </tr>\n",
              "  </thead>\n",
              "  <tbody>\n",
              "    <tr>\n",
              "      <th>0</th>\n",
              "      <td>0</td>\n",
              "      <td>37</td>\n",
              "      <td>7</td>\n",
              "      <td>30</td>\n",
              "      <td>0.1892</td>\n",
              "    </tr>\n",
              "    <tr>\n",
              "      <th>1</th>\n",
              "      <td>1</td>\n",
              "      <td>262</td>\n",
              "      <td>89</td>\n",
              "      <td>173</td>\n",
              "      <td>0.3397</td>\n",
              "    </tr>\n",
              "  </tbody>\n",
              "</table>\n",
              "</div>"
            ],
            "text/plain": [
              "   Edad > 45.5  Total  Fallece = 1  Fallece = 0    Mean\n",
              "0            0     37            7           30  0.1892\n",
              "1            1    262           89          173  0.3397"
            ]
          },
          "metadata": {
            "tags": []
          }
        },
        {
          "output_type": "display_data",
          "data": {
            "text/html": [
              "<div>\n",
              "<style scoped>\n",
              "    .dataframe tbody tr th:only-of-type {\n",
              "        vertical-align: middle;\n",
              "    }\n",
              "\n",
              "    .dataframe tbody tr th {\n",
              "        vertical-align: top;\n",
              "    }\n",
              "\n",
              "    .dataframe thead th {\n",
              "        text-align: right;\n",
              "    }\n",
              "</style>\n",
              "<table border=\"1\" class=\"dataframe\">\n",
              "  <thead>\n",
              "    <tr style=\"text-align: right;\">\n",
              "      <th></th>\n",
              "      <th>Edad &gt; 46.5</th>\n",
              "      <th>Total</th>\n",
              "      <th>Fallece = 1</th>\n",
              "      <th>Fallece = 0</th>\n",
              "      <th>Mean</th>\n",
              "    </tr>\n",
              "  </thead>\n",
              "  <tbody>\n",
              "    <tr>\n",
              "      <th>0</th>\n",
              "      <td>0</td>\n",
              "      <td>40</td>\n",
              "      <td>8</td>\n",
              "      <td>32</td>\n",
              "      <td>0.2000</td>\n",
              "    </tr>\n",
              "    <tr>\n",
              "      <th>1</th>\n",
              "      <td>1</td>\n",
              "      <td>259</td>\n",
              "      <td>88</td>\n",
              "      <td>171</td>\n",
              "      <td>0.3398</td>\n",
              "    </tr>\n",
              "  </tbody>\n",
              "</table>\n",
              "</div>"
            ],
            "text/plain": [
              "   Edad > 46.5  Total  Fallece = 1  Fallece = 0    Mean\n",
              "0            0     40            8           32  0.2000\n",
              "1            1    259           88          171  0.3398"
            ]
          },
          "metadata": {
            "tags": []
          }
        },
        {
          "output_type": "display_data",
          "data": {
            "text/html": [
              "<div>\n",
              "<style scoped>\n",
              "    .dataframe tbody tr th:only-of-type {\n",
              "        vertical-align: middle;\n",
              "    }\n",
              "\n",
              "    .dataframe tbody tr th {\n",
              "        vertical-align: top;\n",
              "    }\n",
              "\n",
              "    .dataframe thead th {\n",
              "        text-align: right;\n",
              "    }\n",
              "</style>\n",
              "<table border=\"1\" class=\"dataframe\">\n",
              "  <thead>\n",
              "    <tr style=\"text-align: right;\">\n",
              "      <th></th>\n",
              "      <th>Edad &gt; 47.5</th>\n",
              "      <th>Total</th>\n",
              "      <th>Fallece = 1</th>\n",
              "      <th>Fallece = 0</th>\n",
              "      <th>Mean</th>\n",
              "    </tr>\n",
              "  </thead>\n",
              "  <tbody>\n",
              "    <tr>\n",
              "      <th>0</th>\n",
              "      <td>0</td>\n",
              "      <td>41</td>\n",
              "      <td>8</td>\n",
              "      <td>33</td>\n",
              "      <td>0.1951</td>\n",
              "    </tr>\n",
              "    <tr>\n",
              "      <th>1</th>\n",
              "      <td>1</td>\n",
              "      <td>258</td>\n",
              "      <td>88</td>\n",
              "      <td>170</td>\n",
              "      <td>0.3411</td>\n",
              "    </tr>\n",
              "  </tbody>\n",
              "</table>\n",
              "</div>"
            ],
            "text/plain": [
              "   Edad > 47.5  Total  Fallece = 1  Fallece = 0    Mean\n",
              "0            0     41            8           33  0.1951\n",
              "1            1    258           88          170  0.3411"
            ]
          },
          "metadata": {
            "tags": []
          }
        },
        {
          "output_type": "display_data",
          "data": {
            "text/html": [
              "<div>\n",
              "<style scoped>\n",
              "    .dataframe tbody tr th:only-of-type {\n",
              "        vertical-align: middle;\n",
              "    }\n",
              "\n",
              "    .dataframe tbody tr th {\n",
              "        vertical-align: top;\n",
              "    }\n",
              "\n",
              "    .dataframe thead th {\n",
              "        text-align: right;\n",
              "    }\n",
              "</style>\n",
              "<table border=\"1\" class=\"dataframe\">\n",
              "  <thead>\n",
              "    <tr style=\"text-align: right;\">\n",
              "      <th></th>\n",
              "      <th>Edad &gt; 48.5</th>\n",
              "      <th>Total</th>\n",
              "      <th>Fallece = 1</th>\n",
              "      <th>Fallece = 0</th>\n",
              "      <th>Mean</th>\n",
              "    </tr>\n",
              "  </thead>\n",
              "  <tbody>\n",
              "    <tr>\n",
              "      <th>0</th>\n",
              "      <td>0</td>\n",
              "      <td>43</td>\n",
              "      <td>10</td>\n",
              "      <td>33</td>\n",
              "      <td>0.2326</td>\n",
              "    </tr>\n",
              "    <tr>\n",
              "      <th>1</th>\n",
              "      <td>1</td>\n",
              "      <td>256</td>\n",
              "      <td>86</td>\n",
              "      <td>170</td>\n",
              "      <td>0.3359</td>\n",
              "    </tr>\n",
              "  </tbody>\n",
              "</table>\n",
              "</div>"
            ],
            "text/plain": [
              "   Edad > 48.5  Total  Fallece = 1  Fallece = 0    Mean\n",
              "0            0     43           10           33  0.2326\n",
              "1            1    256           86          170  0.3359"
            ]
          },
          "metadata": {
            "tags": []
          }
        },
        {
          "output_type": "display_data",
          "data": {
            "text/html": [
              "<div>\n",
              "<style scoped>\n",
              "    .dataframe tbody tr th:only-of-type {\n",
              "        vertical-align: middle;\n",
              "    }\n",
              "\n",
              "    .dataframe tbody tr th {\n",
              "        vertical-align: top;\n",
              "    }\n",
              "\n",
              "    .dataframe thead th {\n",
              "        text-align: right;\n",
              "    }\n",
              "</style>\n",
              "<table border=\"1\" class=\"dataframe\">\n",
              "  <thead>\n",
              "    <tr style=\"text-align: right;\">\n",
              "      <th></th>\n",
              "      <th>Edad &gt; 49.5</th>\n",
              "      <th>Total</th>\n",
              "      <th>Fallece = 1</th>\n",
              "      <th>Fallece = 0</th>\n",
              "      <th>Mean</th>\n",
              "    </tr>\n",
              "  </thead>\n",
              "  <tbody>\n",
              "    <tr>\n",
              "      <th>0</th>\n",
              "      <td>0</td>\n",
              "      <td>47</td>\n",
              "      <td>11</td>\n",
              "      <td>36</td>\n",
              "      <td>0.2340</td>\n",
              "    </tr>\n",
              "    <tr>\n",
              "      <th>1</th>\n",
              "      <td>1</td>\n",
              "      <td>252</td>\n",
              "      <td>85</td>\n",
              "      <td>167</td>\n",
              "      <td>0.3373</td>\n",
              "    </tr>\n",
              "  </tbody>\n",
              "</table>\n",
              "</div>"
            ],
            "text/plain": [
              "   Edad > 49.5  Total  Fallece = 1  Fallece = 0    Mean\n",
              "0            0     47           11           36  0.2340\n",
              "1            1    252           85          167  0.3373"
            ]
          },
          "metadata": {
            "tags": []
          }
        },
        {
          "output_type": "display_data",
          "data": {
            "text/html": [
              "<div>\n",
              "<style scoped>\n",
              "    .dataframe tbody tr th:only-of-type {\n",
              "        vertical-align: middle;\n",
              "    }\n",
              "\n",
              "    .dataframe tbody tr th {\n",
              "        vertical-align: top;\n",
              "    }\n",
              "\n",
              "    .dataframe thead th {\n",
              "        text-align: right;\n",
              "    }\n",
              "</style>\n",
              "<table border=\"1\" class=\"dataframe\">\n",
              "  <thead>\n",
              "    <tr style=\"text-align: right;\">\n",
              "      <th></th>\n",
              "      <th>Edad &gt; 50.5</th>\n",
              "      <th>Total</th>\n",
              "      <th>Fallece = 1</th>\n",
              "      <th>Fallece = 0</th>\n",
              "      <th>Mean</th>\n",
              "    </tr>\n",
              "  </thead>\n",
              "  <tbody>\n",
              "    <tr>\n",
              "      <th>0</th>\n",
              "      <td>0</td>\n",
              "      <td>74</td>\n",
              "      <td>19</td>\n",
              "      <td>55</td>\n",
              "      <td>0.2568</td>\n",
              "    </tr>\n",
              "    <tr>\n",
              "      <th>1</th>\n",
              "      <td>1</td>\n",
              "      <td>225</td>\n",
              "      <td>77</td>\n",
              "      <td>148</td>\n",
              "      <td>0.3422</td>\n",
              "    </tr>\n",
              "  </tbody>\n",
              "</table>\n",
              "</div>"
            ],
            "text/plain": [
              "   Edad > 50.5  Total  Fallece = 1  Fallece = 0    Mean\n",
              "0            0     74           19           55  0.2568\n",
              "1            1    225           77          148  0.3422"
            ]
          },
          "metadata": {
            "tags": []
          }
        },
        {
          "output_type": "display_data",
          "data": {
            "text/html": [
              "<div>\n",
              "<style scoped>\n",
              "    .dataframe tbody tr th:only-of-type {\n",
              "        vertical-align: middle;\n",
              "    }\n",
              "\n",
              "    .dataframe tbody tr th {\n",
              "        vertical-align: top;\n",
              "    }\n",
              "\n",
              "    .dataframe thead th {\n",
              "        text-align: right;\n",
              "    }\n",
              "</style>\n",
              "<table border=\"1\" class=\"dataframe\">\n",
              "  <thead>\n",
              "    <tr style=\"text-align: right;\">\n",
              "      <th></th>\n",
              "      <th>Edad &gt; 51.5</th>\n",
              "      <th>Total</th>\n",
              "      <th>Fallece = 1</th>\n",
              "      <th>Fallece = 0</th>\n",
              "      <th>Mean</th>\n",
              "    </tr>\n",
              "  </thead>\n",
              "  <tbody>\n",
              "    <tr>\n",
              "      <th>0</th>\n",
              "      <td>0</td>\n",
              "      <td>78</td>\n",
              "      <td>20</td>\n",
              "      <td>58</td>\n",
              "      <td>0.2564</td>\n",
              "    </tr>\n",
              "    <tr>\n",
              "      <th>1</th>\n",
              "      <td>1</td>\n",
              "      <td>221</td>\n",
              "      <td>76</td>\n",
              "      <td>145</td>\n",
              "      <td>0.3439</td>\n",
              "    </tr>\n",
              "  </tbody>\n",
              "</table>\n",
              "</div>"
            ],
            "text/plain": [
              "   Edad > 51.5  Total  Fallece = 1  Fallece = 0    Mean\n",
              "0            0     78           20           58  0.2564\n",
              "1            1    221           76          145  0.3439"
            ]
          },
          "metadata": {
            "tags": []
          }
        },
        {
          "output_type": "display_data",
          "data": {
            "text/html": [
              "<div>\n",
              "<style scoped>\n",
              "    .dataframe tbody tr th:only-of-type {\n",
              "        vertical-align: middle;\n",
              "    }\n",
              "\n",
              "    .dataframe tbody tr th {\n",
              "        vertical-align: top;\n",
              "    }\n",
              "\n",
              "    .dataframe thead th {\n",
              "        text-align: right;\n",
              "    }\n",
              "</style>\n",
              "<table border=\"1\" class=\"dataframe\">\n",
              "  <thead>\n",
              "    <tr style=\"text-align: right;\">\n",
              "      <th></th>\n",
              "      <th>Edad &gt; 52.5</th>\n",
              "      <th>Total</th>\n",
              "      <th>Fallece = 1</th>\n",
              "      <th>Fallece = 0</th>\n",
              "      <th>Mean</th>\n",
              "    </tr>\n",
              "  </thead>\n",
              "  <tbody>\n",
              "    <tr>\n",
              "      <th>0</th>\n",
              "      <td>0</td>\n",
              "      <td>83</td>\n",
              "      <td>20</td>\n",
              "      <td>63</td>\n",
              "      <td>0.2410</td>\n",
              "    </tr>\n",
              "    <tr>\n",
              "      <th>1</th>\n",
              "      <td>1</td>\n",
              "      <td>216</td>\n",
              "      <td>76</td>\n",
              "      <td>140</td>\n",
              "      <td>0.3519</td>\n",
              "    </tr>\n",
              "  </tbody>\n",
              "</table>\n",
              "</div>"
            ],
            "text/plain": [
              "   Edad > 52.5  Total  Fallece = 1  Fallece = 0    Mean\n",
              "0            0     83           20           63  0.2410\n",
              "1            1    216           76          140  0.3519"
            ]
          },
          "metadata": {
            "tags": []
          }
        },
        {
          "output_type": "display_data",
          "data": {
            "text/html": [
              "<div>\n",
              "<style scoped>\n",
              "    .dataframe tbody tr th:only-of-type {\n",
              "        vertical-align: middle;\n",
              "    }\n",
              "\n",
              "    .dataframe tbody tr th {\n",
              "        vertical-align: top;\n",
              "    }\n",
              "\n",
              "    .dataframe thead th {\n",
              "        text-align: right;\n",
              "    }\n",
              "</style>\n",
              "<table border=\"1\" class=\"dataframe\">\n",
              "  <thead>\n",
              "    <tr style=\"text-align: right;\">\n",
              "      <th></th>\n",
              "      <th>Edad &gt; 53.5</th>\n",
              "      <th>Total</th>\n",
              "      <th>Fallece = 1</th>\n",
              "      <th>Fallece = 0</th>\n",
              "      <th>Mean</th>\n",
              "    </tr>\n",
              "  </thead>\n",
              "  <tbody>\n",
              "    <tr>\n",
              "      <th>0</th>\n",
              "      <td>0</td>\n",
              "      <td>93</td>\n",
              "      <td>21</td>\n",
              "      <td>72</td>\n",
              "      <td>0.2258</td>\n",
              "    </tr>\n",
              "    <tr>\n",
              "      <th>1</th>\n",
              "      <td>1</td>\n",
              "      <td>206</td>\n",
              "      <td>75</td>\n",
              "      <td>131</td>\n",
              "      <td>0.3641</td>\n",
              "    </tr>\n",
              "  </tbody>\n",
              "</table>\n",
              "</div>"
            ],
            "text/plain": [
              "   Edad > 53.5  Total  Fallece = 1  Fallece = 0    Mean\n",
              "0            0     93           21           72  0.2258\n",
              "1            1    206           75          131  0.3641"
            ]
          },
          "metadata": {
            "tags": []
          }
        },
        {
          "output_type": "display_data",
          "data": {
            "text/html": [
              "<div>\n",
              "<style scoped>\n",
              "    .dataframe tbody tr th:only-of-type {\n",
              "        vertical-align: middle;\n",
              "    }\n",
              "\n",
              "    .dataframe tbody tr th {\n",
              "        vertical-align: top;\n",
              "    }\n",
              "\n",
              "    .dataframe thead th {\n",
              "        text-align: right;\n",
              "    }\n",
              "</style>\n",
              "<table border=\"1\" class=\"dataframe\">\n",
              "  <thead>\n",
              "    <tr style=\"text-align: right;\">\n",
              "      <th></th>\n",
              "      <th>Edad &gt; 54.5</th>\n",
              "      <th>Total</th>\n",
              "      <th>Fallece = 1</th>\n",
              "      <th>Fallece = 0</th>\n",
              "      <th>Mean</th>\n",
              "    </tr>\n",
              "  </thead>\n",
              "  <tbody>\n",
              "    <tr>\n",
              "      <th>0</th>\n",
              "      <td>0</td>\n",
              "      <td>95</td>\n",
              "      <td>22</td>\n",
              "      <td>73</td>\n",
              "      <td>0.2316</td>\n",
              "    </tr>\n",
              "    <tr>\n",
              "      <th>1</th>\n",
              "      <td>1</td>\n",
              "      <td>204</td>\n",
              "      <td>74</td>\n",
              "      <td>130</td>\n",
              "      <td>0.3627</td>\n",
              "    </tr>\n",
              "  </tbody>\n",
              "</table>\n",
              "</div>"
            ],
            "text/plain": [
              "   Edad > 54.5  Total  Fallece = 1  Fallece = 0    Mean\n",
              "0            0     95           22           73  0.2316\n",
              "1            1    204           74          130  0.3627"
            ]
          },
          "metadata": {
            "tags": []
          }
        },
        {
          "output_type": "display_data",
          "data": {
            "text/html": [
              "<div>\n",
              "<style scoped>\n",
              "    .dataframe tbody tr th:only-of-type {\n",
              "        vertical-align: middle;\n",
              "    }\n",
              "\n",
              "    .dataframe tbody tr th {\n",
              "        vertical-align: top;\n",
              "    }\n",
              "\n",
              "    .dataframe thead th {\n",
              "        text-align: right;\n",
              "    }\n",
              "</style>\n",
              "<table border=\"1\" class=\"dataframe\">\n",
              "  <thead>\n",
              "    <tr style=\"text-align: right;\">\n",
              "      <th></th>\n",
              "      <th>Edad &gt; 55.5</th>\n",
              "      <th>Total</th>\n",
              "      <th>Fallece = 1</th>\n",
              "      <th>Fallece = 0</th>\n",
              "      <th>Mean</th>\n",
              "    </tr>\n",
              "  </thead>\n",
              "  <tbody>\n",
              "    <tr>\n",
              "      <th>0</th>\n",
              "      <td>0</td>\n",
              "      <td>112</td>\n",
              "      <td>25</td>\n",
              "      <td>87</td>\n",
              "      <td>0.2232</td>\n",
              "    </tr>\n",
              "    <tr>\n",
              "      <th>1</th>\n",
              "      <td>1</td>\n",
              "      <td>187</td>\n",
              "      <td>71</td>\n",
              "      <td>116</td>\n",
              "      <td>0.3797</td>\n",
              "    </tr>\n",
              "  </tbody>\n",
              "</table>\n",
              "</div>"
            ],
            "text/plain": [
              "   Edad > 55.5  Total  Fallece = 1  Fallece = 0    Mean\n",
              "0            0    112           25           87  0.2232\n",
              "1            1    187           71          116  0.3797"
            ]
          },
          "metadata": {
            "tags": []
          }
        },
        {
          "output_type": "display_data",
          "data": {
            "text/html": [
              "<div>\n",
              "<style scoped>\n",
              "    .dataframe tbody tr th:only-of-type {\n",
              "        vertical-align: middle;\n",
              "    }\n",
              "\n",
              "    .dataframe tbody tr th {\n",
              "        vertical-align: top;\n",
              "    }\n",
              "\n",
              "    .dataframe thead th {\n",
              "        text-align: right;\n",
              "    }\n",
              "</style>\n",
              "<table border=\"1\" class=\"dataframe\">\n",
              "  <thead>\n",
              "    <tr style=\"text-align: right;\">\n",
              "      <th></th>\n",
              "      <th>Edad &gt; 56.5</th>\n",
              "      <th>Total</th>\n",
              "      <th>Fallece = 1</th>\n",
              "      <th>Fallece = 0</th>\n",
              "      <th>Mean</th>\n",
              "    </tr>\n",
              "  </thead>\n",
              "  <tbody>\n",
              "    <tr>\n",
              "      <th>0</th>\n",
              "      <td>0</td>\n",
              "      <td>113</td>\n",
              "      <td>25</td>\n",
              "      <td>88</td>\n",
              "      <td>0.2212</td>\n",
              "    </tr>\n",
              "    <tr>\n",
              "      <th>1</th>\n",
              "      <td>1</td>\n",
              "      <td>186</td>\n",
              "      <td>71</td>\n",
              "      <td>115</td>\n",
              "      <td>0.3817</td>\n",
              "    </tr>\n",
              "  </tbody>\n",
              "</table>\n",
              "</div>"
            ],
            "text/plain": [
              "   Edad > 56.5  Total  Fallece = 1  Fallece = 0    Mean\n",
              "0            0    113           25           88  0.2212\n",
              "1            1    186           71          115  0.3817"
            ]
          },
          "metadata": {
            "tags": []
          }
        },
        {
          "output_type": "display_data",
          "data": {
            "text/html": [
              "<div>\n",
              "<style scoped>\n",
              "    .dataframe tbody tr th:only-of-type {\n",
              "        vertical-align: middle;\n",
              "    }\n",
              "\n",
              "    .dataframe tbody tr th {\n",
              "        vertical-align: top;\n",
              "    }\n",
              "\n",
              "    .dataframe thead th {\n",
              "        text-align: right;\n",
              "    }\n",
              "</style>\n",
              "<table border=\"1\" class=\"dataframe\">\n",
              "  <thead>\n",
              "    <tr style=\"text-align: right;\">\n",
              "      <th></th>\n",
              "      <th>Edad &gt; 57.5</th>\n",
              "      <th>Total</th>\n",
              "      <th>Fallece = 1</th>\n",
              "      <th>Fallece = 0</th>\n",
              "      <th>Mean</th>\n",
              "    </tr>\n",
              "  </thead>\n",
              "  <tbody>\n",
              "    <tr>\n",
              "      <th>0</th>\n",
              "      <td>0</td>\n",
              "      <td>115</td>\n",
              "      <td>26</td>\n",
              "      <td>89</td>\n",
              "      <td>0.2261</td>\n",
              "    </tr>\n",
              "    <tr>\n",
              "      <th>1</th>\n",
              "      <td>1</td>\n",
              "      <td>184</td>\n",
              "      <td>70</td>\n",
              "      <td>114</td>\n",
              "      <td>0.3804</td>\n",
              "    </tr>\n",
              "  </tbody>\n",
              "</table>\n",
              "</div>"
            ],
            "text/plain": [
              "   Edad > 57.5  Total  Fallece = 1  Fallece = 0    Mean\n",
              "0            0    115           26           89  0.2261\n",
              "1            1    184           70          114  0.3804"
            ]
          },
          "metadata": {
            "tags": []
          }
        },
        {
          "output_type": "display_data",
          "data": {
            "text/html": [
              "<div>\n",
              "<style scoped>\n",
              "    .dataframe tbody tr th:only-of-type {\n",
              "        vertical-align: middle;\n",
              "    }\n",
              "\n",
              "    .dataframe tbody tr th {\n",
              "        vertical-align: top;\n",
              "    }\n",
              "\n",
              "    .dataframe thead th {\n",
              "        text-align: right;\n",
              "    }\n",
              "</style>\n",
              "<table border=\"1\" class=\"dataframe\">\n",
              "  <thead>\n",
              "    <tr style=\"text-align: right;\">\n",
              "      <th></th>\n",
              "      <th>Edad &gt; 58.5</th>\n",
              "      <th>Total</th>\n",
              "      <th>Fallece = 1</th>\n",
              "      <th>Fallece = 0</th>\n",
              "      <th>Mean</th>\n",
              "    </tr>\n",
              "  </thead>\n",
              "  <tbody>\n",
              "    <tr>\n",
              "      <th>0</th>\n",
              "      <td>0</td>\n",
              "      <td>125</td>\n",
              "      <td>28</td>\n",
              "      <td>97</td>\n",
              "      <td>0.2240</td>\n",
              "    </tr>\n",
              "    <tr>\n",
              "      <th>1</th>\n",
              "      <td>1</td>\n",
              "      <td>174</td>\n",
              "      <td>68</td>\n",
              "      <td>106</td>\n",
              "      <td>0.3908</td>\n",
              "    </tr>\n",
              "  </tbody>\n",
              "</table>\n",
              "</div>"
            ],
            "text/plain": [
              "   Edad > 58.5  Total  Fallece = 1  Fallece = 0    Mean\n",
              "0            0    125           28           97  0.2240\n",
              "1            1    174           68          106  0.3908"
            ]
          },
          "metadata": {
            "tags": []
          }
        },
        {
          "output_type": "display_data",
          "data": {
            "text/html": [
              "<div>\n",
              "<style scoped>\n",
              "    .dataframe tbody tr th:only-of-type {\n",
              "        vertical-align: middle;\n",
              "    }\n",
              "\n",
              "    .dataframe tbody tr th {\n",
              "        vertical-align: top;\n",
              "    }\n",
              "\n",
              "    .dataframe thead th {\n",
              "        text-align: right;\n",
              "    }\n",
              "</style>\n",
              "<table border=\"1\" class=\"dataframe\">\n",
              "  <thead>\n",
              "    <tr style=\"text-align: right;\">\n",
              "      <th></th>\n",
              "      <th>Edad &gt; 59.5</th>\n",
              "      <th>Total</th>\n",
              "      <th>Fallece = 1</th>\n",
              "      <th>Fallece = 0</th>\n",
              "      <th>Mean</th>\n",
              "    </tr>\n",
              "  </thead>\n",
              "  <tbody>\n",
              "    <tr>\n",
              "      <th>0</th>\n",
              "      <td>0</td>\n",
              "      <td>129</td>\n",
              "      <td>31</td>\n",
              "      <td>98</td>\n",
              "      <td>0.2403</td>\n",
              "    </tr>\n",
              "    <tr>\n",
              "      <th>1</th>\n",
              "      <td>1</td>\n",
              "      <td>170</td>\n",
              "      <td>65</td>\n",
              "      <td>105</td>\n",
              "      <td>0.3824</td>\n",
              "    </tr>\n",
              "  </tbody>\n",
              "</table>\n",
              "</div>"
            ],
            "text/plain": [
              "   Edad > 59.5  Total  Fallece = 1  Fallece = 0    Mean\n",
              "0            0    129           31           98  0.2403\n",
              "1            1    170           65          105  0.3824"
            ]
          },
          "metadata": {
            "tags": []
          }
        },
        {
          "output_type": "display_data",
          "data": {
            "text/html": [
              "<div>\n",
              "<style scoped>\n",
              "    .dataframe tbody tr th:only-of-type {\n",
              "        vertical-align: middle;\n",
              "    }\n",
              "\n",
              "    .dataframe tbody tr th {\n",
              "        vertical-align: top;\n",
              "    }\n",
              "\n",
              "    .dataframe thead th {\n",
              "        text-align: right;\n",
              "    }\n",
              "</style>\n",
              "<table border=\"1\" class=\"dataframe\">\n",
              "  <thead>\n",
              "    <tr style=\"text-align: right;\">\n",
              "      <th></th>\n",
              "      <th>Edad &gt; 60.3335</th>\n",
              "      <th>Total</th>\n",
              "      <th>Fallece = 1</th>\n",
              "      <th>Fallece = 0</th>\n",
              "      <th>Mean</th>\n",
              "    </tr>\n",
              "  </thead>\n",
              "  <tbody>\n",
              "    <tr>\n",
              "      <th>0</th>\n",
              "      <td>0</td>\n",
              "      <td>162</td>\n",
              "      <td>44</td>\n",
              "      <td>118</td>\n",
              "      <td>0.2716</td>\n",
              "    </tr>\n",
              "    <tr>\n",
              "      <th>1</th>\n",
              "      <td>1</td>\n",
              "      <td>137</td>\n",
              "      <td>52</td>\n",
              "      <td>85</td>\n",
              "      <td>0.3796</td>\n",
              "    </tr>\n",
              "  </tbody>\n",
              "</table>\n",
              "</div>"
            ],
            "text/plain": [
              "   Edad > 60.3335  Total  Fallece = 1  Fallece = 0    Mean\n",
              "0               0    162           44          118  0.2716\n",
              "1               1    137           52           85  0.3796"
            ]
          },
          "metadata": {
            "tags": []
          }
        },
        {
          "output_type": "display_data",
          "data": {
            "text/html": [
              "<div>\n",
              "<style scoped>\n",
              "    .dataframe tbody tr th:only-of-type {\n",
              "        vertical-align: middle;\n",
              "    }\n",
              "\n",
              "    .dataframe tbody tr th {\n",
              "        vertical-align: top;\n",
              "    }\n",
              "\n",
              "    .dataframe thead th {\n",
              "        text-align: right;\n",
              "    }\n",
              "</style>\n",
              "<table border=\"1\" class=\"dataframe\">\n",
              "  <thead>\n",
              "    <tr style=\"text-align: right;\">\n",
              "      <th></th>\n",
              "      <th>Edad &gt; 60.8335</th>\n",
              "      <th>Total</th>\n",
              "      <th>Fallece = 1</th>\n",
              "      <th>Fallece = 0</th>\n",
              "      <th>Mean</th>\n",
              "    </tr>\n",
              "  </thead>\n",
              "  <tbody>\n",
              "    <tr>\n",
              "      <th>0</th>\n",
              "      <td>0</td>\n",
              "      <td>164</td>\n",
              "      <td>45</td>\n",
              "      <td>119</td>\n",
              "      <td>0.2744</td>\n",
              "    </tr>\n",
              "    <tr>\n",
              "      <th>1</th>\n",
              "      <td>1</td>\n",
              "      <td>135</td>\n",
              "      <td>51</td>\n",
              "      <td>84</td>\n",
              "      <td>0.3778</td>\n",
              "    </tr>\n",
              "  </tbody>\n",
              "</table>\n",
              "</div>"
            ],
            "text/plain": [
              "   Edad > 60.8335  Total  Fallece = 1  Fallece = 0    Mean\n",
              "0               0    164           45          119  0.2744\n",
              "1               1    135           51           84  0.3778"
            ]
          },
          "metadata": {
            "tags": []
          }
        },
        {
          "output_type": "display_data",
          "data": {
            "text/html": [
              "<div>\n",
              "<style scoped>\n",
              "    .dataframe tbody tr th:only-of-type {\n",
              "        vertical-align: middle;\n",
              "    }\n",
              "\n",
              "    .dataframe tbody tr th {\n",
              "        vertical-align: top;\n",
              "    }\n",
              "\n",
              "    .dataframe thead th {\n",
              "        text-align: right;\n",
              "    }\n",
              "</style>\n",
              "<table border=\"1\" class=\"dataframe\">\n",
              "  <thead>\n",
              "    <tr style=\"text-align: right;\">\n",
              "      <th></th>\n",
              "      <th>Edad &gt; 61.5</th>\n",
              "      <th>Total</th>\n",
              "      <th>Fallece = 1</th>\n",
              "      <th>Fallece = 0</th>\n",
              "      <th>Mean</th>\n",
              "    </tr>\n",
              "  </thead>\n",
              "  <tbody>\n",
              "    <tr>\n",
              "      <th>0</th>\n",
              "      <td>0</td>\n",
              "      <td>168</td>\n",
              "      <td>45</td>\n",
              "      <td>123</td>\n",
              "      <td>0.2679</td>\n",
              "    </tr>\n",
              "    <tr>\n",
              "      <th>1</th>\n",
              "      <td>1</td>\n",
              "      <td>131</td>\n",
              "      <td>51</td>\n",
              "      <td>80</td>\n",
              "      <td>0.3893</td>\n",
              "    </tr>\n",
              "  </tbody>\n",
              "</table>\n",
              "</div>"
            ],
            "text/plain": [
              "   Edad > 61.5  Total  Fallece = 1  Fallece = 0    Mean\n",
              "0            0    168           45          123  0.2679\n",
              "1            1    131           51           80  0.3893"
            ]
          },
          "metadata": {
            "tags": []
          }
        },
        {
          "output_type": "display_data",
          "data": {
            "text/html": [
              "<div>\n",
              "<style scoped>\n",
              "    .dataframe tbody tr th:only-of-type {\n",
              "        vertical-align: middle;\n",
              "    }\n",
              "\n",
              "    .dataframe tbody tr th {\n",
              "        vertical-align: top;\n",
              "    }\n",
              "\n",
              "    .dataframe thead th {\n",
              "        text-align: right;\n",
              "    }\n",
              "</style>\n",
              "<table border=\"1\" class=\"dataframe\">\n",
              "  <thead>\n",
              "    <tr style=\"text-align: right;\">\n",
              "      <th></th>\n",
              "      <th>Edad &gt; 62.5</th>\n",
              "      <th>Total</th>\n",
              "      <th>Fallece = 1</th>\n",
              "      <th>Fallece = 0</th>\n",
              "      <th>Mean</th>\n",
              "    </tr>\n",
              "  </thead>\n",
              "  <tbody>\n",
              "    <tr>\n",
              "      <th>0</th>\n",
              "      <td>0</td>\n",
              "      <td>173</td>\n",
              "      <td>46</td>\n",
              "      <td>127</td>\n",
              "      <td>0.2659</td>\n",
              "    </tr>\n",
              "    <tr>\n",
              "      <th>1</th>\n",
              "      <td>1</td>\n",
              "      <td>126</td>\n",
              "      <td>50</td>\n",
              "      <td>76</td>\n",
              "      <td>0.3968</td>\n",
              "    </tr>\n",
              "  </tbody>\n",
              "</table>\n",
              "</div>"
            ],
            "text/plain": [
              "   Edad > 62.5  Total  Fallece = 1  Fallece = 0    Mean\n",
              "0            0    173           46          127  0.2659\n",
              "1            1    126           50           76  0.3968"
            ]
          },
          "metadata": {
            "tags": []
          }
        },
        {
          "output_type": "display_data",
          "data": {
            "text/html": [
              "<div>\n",
              "<style scoped>\n",
              "    .dataframe tbody tr th:only-of-type {\n",
              "        vertical-align: middle;\n",
              "    }\n",
              "\n",
              "    .dataframe tbody tr th {\n",
              "        vertical-align: top;\n",
              "    }\n",
              "\n",
              "    .dataframe thead th {\n",
              "        text-align: right;\n",
              "    }\n",
              "</style>\n",
              "<table border=\"1\" class=\"dataframe\">\n",
              "  <thead>\n",
              "    <tr style=\"text-align: right;\">\n",
              "      <th></th>\n",
              "      <th>Edad &gt; 63.5</th>\n",
              "      <th>Total</th>\n",
              "      <th>Fallece = 1</th>\n",
              "      <th>Fallece = 0</th>\n",
              "      <th>Mean</th>\n",
              "    </tr>\n",
              "  </thead>\n",
              "  <tbody>\n",
              "    <tr>\n",
              "      <th>0</th>\n",
              "      <td>0</td>\n",
              "      <td>181</td>\n",
              "      <td>46</td>\n",
              "      <td>135</td>\n",
              "      <td>0.2541</td>\n",
              "    </tr>\n",
              "    <tr>\n",
              "      <th>1</th>\n",
              "      <td>1</td>\n",
              "      <td>118</td>\n",
              "      <td>50</td>\n",
              "      <td>68</td>\n",
              "      <td>0.4237</td>\n",
              "    </tr>\n",
              "  </tbody>\n",
              "</table>\n",
              "</div>"
            ],
            "text/plain": [
              "   Edad > 63.5  Total  Fallece = 1  Fallece = 0    Mean\n",
              "0            0    181           46          135  0.2541\n",
              "1            1    118           50           68  0.4237"
            ]
          },
          "metadata": {
            "tags": []
          }
        },
        {
          "output_type": "display_data",
          "data": {
            "text/html": [
              "<div>\n",
              "<style scoped>\n",
              "    .dataframe tbody tr th:only-of-type {\n",
              "        vertical-align: middle;\n",
              "    }\n",
              "\n",
              "    .dataframe tbody tr th {\n",
              "        vertical-align: top;\n",
              "    }\n",
              "\n",
              "    .dataframe thead th {\n",
              "        text-align: right;\n",
              "    }\n",
              "</style>\n",
              "<table border=\"1\" class=\"dataframe\">\n",
              "  <thead>\n",
              "    <tr style=\"text-align: right;\">\n",
              "      <th></th>\n",
              "      <th>Edad &gt; 64.5</th>\n",
              "      <th>Total</th>\n",
              "      <th>Fallece = 1</th>\n",
              "      <th>Fallece = 0</th>\n",
              "      <th>Mean</th>\n",
              "    </tr>\n",
              "  </thead>\n",
              "  <tbody>\n",
              "    <tr>\n",
              "      <th>0</th>\n",
              "      <td>0</td>\n",
              "      <td>184</td>\n",
              "      <td>46</td>\n",
              "      <td>138</td>\n",
              "      <td>0.2500</td>\n",
              "    </tr>\n",
              "    <tr>\n",
              "      <th>1</th>\n",
              "      <td>1</td>\n",
              "      <td>115</td>\n",
              "      <td>50</td>\n",
              "      <td>65</td>\n",
              "      <td>0.4348</td>\n",
              "    </tr>\n",
              "  </tbody>\n",
              "</table>\n",
              "</div>"
            ],
            "text/plain": [
              "   Edad > 64.5  Total  Fallece = 1  Fallece = 0    Mean\n",
              "0            0    184           46          138  0.2500\n",
              "1            1    115           50           65  0.4348"
            ]
          },
          "metadata": {
            "tags": []
          }
        },
        {
          "output_type": "display_data",
          "data": {
            "text/html": [
              "<div>\n",
              "<style scoped>\n",
              "    .dataframe tbody tr th:only-of-type {\n",
              "        vertical-align: middle;\n",
              "    }\n",
              "\n",
              "    .dataframe tbody tr th {\n",
              "        vertical-align: top;\n",
              "    }\n",
              "\n",
              "    .dataframe thead th {\n",
              "        text-align: right;\n",
              "    }\n",
              "</style>\n",
              "<table border=\"1\" class=\"dataframe\">\n",
              "  <thead>\n",
              "    <tr style=\"text-align: right;\">\n",
              "      <th></th>\n",
              "      <th>Edad &gt; 65.5</th>\n",
              "      <th>Total</th>\n",
              "      <th>Fallece = 1</th>\n",
              "      <th>Fallece = 0</th>\n",
              "      <th>Mean</th>\n",
              "    </tr>\n",
              "  </thead>\n",
              "  <tbody>\n",
              "    <tr>\n",
              "      <th>0</th>\n",
              "      <td>0</td>\n",
              "      <td>210</td>\n",
              "      <td>54</td>\n",
              "      <td>156</td>\n",
              "      <td>0.2571</td>\n",
              "    </tr>\n",
              "    <tr>\n",
              "      <th>1</th>\n",
              "      <td>1</td>\n",
              "      <td>89</td>\n",
              "      <td>42</td>\n",
              "      <td>47</td>\n",
              "      <td>0.4719</td>\n",
              "    </tr>\n",
              "  </tbody>\n",
              "</table>\n",
              "</div>"
            ],
            "text/plain": [
              "   Edad > 65.5  Total  Fallece = 1  Fallece = 0    Mean\n",
              "0            0    210           54          156  0.2571\n",
              "1            1     89           42           47  0.4719"
            ]
          },
          "metadata": {
            "tags": []
          }
        },
        {
          "output_type": "display_data",
          "data": {
            "text/html": [
              "<div>\n",
              "<style scoped>\n",
              "    .dataframe tbody tr th:only-of-type {\n",
              "        vertical-align: middle;\n",
              "    }\n",
              "\n",
              "    .dataframe tbody tr th {\n",
              "        vertical-align: top;\n",
              "    }\n",
              "\n",
              "    .dataframe thead th {\n",
              "        text-align: right;\n",
              "    }\n",
              "</style>\n",
              "<table border=\"1\" class=\"dataframe\">\n",
              "  <thead>\n",
              "    <tr style=\"text-align: right;\">\n",
              "      <th></th>\n",
              "      <th>Edad &gt; 66.5</th>\n",
              "      <th>Total</th>\n",
              "      <th>Fallece = 1</th>\n",
              "      <th>Fallece = 0</th>\n",
              "      <th>Mean</th>\n",
              "    </tr>\n",
              "  </thead>\n",
              "  <tbody>\n",
              "    <tr>\n",
              "      <th>0</th>\n",
              "      <td>0</td>\n",
              "      <td>212</td>\n",
              "      <td>54</td>\n",
              "      <td>158</td>\n",
              "      <td>0.2547</td>\n",
              "    </tr>\n",
              "    <tr>\n",
              "      <th>1</th>\n",
              "      <td>1</td>\n",
              "      <td>87</td>\n",
              "      <td>42</td>\n",
              "      <td>45</td>\n",
              "      <td>0.4828</td>\n",
              "    </tr>\n",
              "  </tbody>\n",
              "</table>\n",
              "</div>"
            ],
            "text/plain": [
              "   Edad > 66.5  Total  Fallece = 1  Fallece = 0    Mean\n",
              "0            0    212           54          158  0.2547\n",
              "1            1     87           42           45  0.4828"
            ]
          },
          "metadata": {
            "tags": []
          }
        },
        {
          "output_type": "display_data",
          "data": {
            "text/html": [
              "<div>\n",
              "<style scoped>\n",
              "    .dataframe tbody tr th:only-of-type {\n",
              "        vertical-align: middle;\n",
              "    }\n",
              "\n",
              "    .dataframe tbody tr th {\n",
              "        vertical-align: top;\n",
              "    }\n",
              "\n",
              "    .dataframe thead th {\n",
              "        text-align: right;\n",
              "    }\n",
              "</style>\n",
              "<table border=\"1\" class=\"dataframe\">\n",
              "  <thead>\n",
              "    <tr style=\"text-align: right;\">\n",
              "      <th></th>\n",
              "      <th>Edad &gt; 67.5</th>\n",
              "      <th>Total</th>\n",
              "      <th>Fallece = 1</th>\n",
              "      <th>Fallece = 0</th>\n",
              "      <th>Mean</th>\n",
              "    </tr>\n",
              "  </thead>\n",
              "  <tbody>\n",
              "    <tr>\n",
              "      <th>0</th>\n",
              "      <td>0</td>\n",
              "      <td>214</td>\n",
              "      <td>54</td>\n",
              "      <td>160</td>\n",
              "      <td>0.2523</td>\n",
              "    </tr>\n",
              "    <tr>\n",
              "      <th>1</th>\n",
              "      <td>1</td>\n",
              "      <td>85</td>\n",
              "      <td>42</td>\n",
              "      <td>43</td>\n",
              "      <td>0.4941</td>\n",
              "    </tr>\n",
              "  </tbody>\n",
              "</table>\n",
              "</div>"
            ],
            "text/plain": [
              "   Edad > 67.5  Total  Fallece = 1  Fallece = 0    Mean\n",
              "0            0    214           54          160  0.2523\n",
              "1            1     85           42           43  0.4941"
            ]
          },
          "metadata": {
            "tags": []
          }
        },
        {
          "output_type": "display_data",
          "data": {
            "text/html": [
              "<div>\n",
              "<style scoped>\n",
              "    .dataframe tbody tr th:only-of-type {\n",
              "        vertical-align: middle;\n",
              "    }\n",
              "\n",
              "    .dataframe tbody tr th {\n",
              "        vertical-align: top;\n",
              "    }\n",
              "\n",
              "    .dataframe thead th {\n",
              "        text-align: right;\n",
              "    }\n",
              "</style>\n",
              "<table border=\"1\" class=\"dataframe\">\n",
              "  <thead>\n",
              "    <tr style=\"text-align: right;\">\n",
              "      <th></th>\n",
              "      <th>Edad &gt; 68.5</th>\n",
              "      <th>Total</th>\n",
              "      <th>Fallece = 1</th>\n",
              "      <th>Fallece = 0</th>\n",
              "      <th>Mean</th>\n",
              "    </tr>\n",
              "  </thead>\n",
              "  <tbody>\n",
              "    <tr>\n",
              "      <th>0</th>\n",
              "      <td>0</td>\n",
              "      <td>219</td>\n",
              "      <td>56</td>\n",
              "      <td>163</td>\n",
              "      <td>0.2557</td>\n",
              "    </tr>\n",
              "    <tr>\n",
              "      <th>1</th>\n",
              "      <td>1</td>\n",
              "      <td>80</td>\n",
              "      <td>40</td>\n",
              "      <td>40</td>\n",
              "      <td>0.5000</td>\n",
              "    </tr>\n",
              "  </tbody>\n",
              "</table>\n",
              "</div>"
            ],
            "text/plain": [
              "   Edad > 68.5  Total  Fallece = 1  Fallece = 0    Mean\n",
              "0            0    219           56          163  0.2557\n",
              "1            1     80           40           40  0.5000"
            ]
          },
          "metadata": {
            "tags": []
          }
        },
        {
          "output_type": "display_data",
          "data": {
            "text/html": [
              "<div>\n",
              "<style scoped>\n",
              "    .dataframe tbody tr th:only-of-type {\n",
              "        vertical-align: middle;\n",
              "    }\n",
              "\n",
              "    .dataframe tbody tr th {\n",
              "        vertical-align: top;\n",
              "    }\n",
              "\n",
              "    .dataframe thead th {\n",
              "        text-align: right;\n",
              "    }\n",
              "</style>\n",
              "<table border=\"1\" class=\"dataframe\">\n",
              "  <thead>\n",
              "    <tr style=\"text-align: right;\">\n",
              "      <th></th>\n",
              "      <th>Edad &gt; 69.5</th>\n",
              "      <th>Total</th>\n",
              "      <th>Fallece = 1</th>\n",
              "      <th>Fallece = 0</th>\n",
              "      <th>Mean</th>\n",
              "    </tr>\n",
              "  </thead>\n",
              "  <tbody>\n",
              "    <tr>\n",
              "      <th>0</th>\n",
              "      <td>0</td>\n",
              "      <td>222</td>\n",
              "      <td>58</td>\n",
              "      <td>164</td>\n",
              "      <td>0.2613</td>\n",
              "    </tr>\n",
              "    <tr>\n",
              "      <th>1</th>\n",
              "      <td>1</td>\n",
              "      <td>77</td>\n",
              "      <td>38</td>\n",
              "      <td>39</td>\n",
              "      <td>0.4935</td>\n",
              "    </tr>\n",
              "  </tbody>\n",
              "</table>\n",
              "</div>"
            ],
            "text/plain": [
              "   Edad > 69.5  Total  Fallece = 1  Fallece = 0    Mean\n",
              "0            0    222           58          164  0.2613\n",
              "1            1     77           38           39  0.4935"
            ]
          },
          "metadata": {
            "tags": []
          }
        },
        {
          "output_type": "display_data",
          "data": {
            "text/html": [
              "<div>\n",
              "<style scoped>\n",
              "    .dataframe tbody tr th:only-of-type {\n",
              "        vertical-align: middle;\n",
              "    }\n",
              "\n",
              "    .dataframe tbody tr th {\n",
              "        vertical-align: top;\n",
              "    }\n",
              "\n",
              "    .dataframe thead th {\n",
              "        text-align: right;\n",
              "    }\n",
              "</style>\n",
              "<table border=\"1\" class=\"dataframe\">\n",
              "  <thead>\n",
              "    <tr style=\"text-align: right;\">\n",
              "      <th></th>\n",
              "      <th>Edad &gt; 71.0</th>\n",
              "      <th>Total</th>\n",
              "      <th>Fallece = 1</th>\n",
              "      <th>Fallece = 0</th>\n",
              "      <th>Mean</th>\n",
              "    </tr>\n",
              "  </thead>\n",
              "  <tbody>\n",
              "    <tr>\n",
              "      <th>0</th>\n",
              "      <td>0</td>\n",
              "      <td>247</td>\n",
              "      <td>65</td>\n",
              "      <td>182</td>\n",
              "      <td>0.2632</td>\n",
              "    </tr>\n",
              "    <tr>\n",
              "      <th>1</th>\n",
              "      <td>1</td>\n",
              "      <td>52</td>\n",
              "      <td>31</td>\n",
              "      <td>21</td>\n",
              "      <td>0.5962</td>\n",
              "    </tr>\n",
              "  </tbody>\n",
              "</table>\n",
              "</div>"
            ],
            "text/plain": [
              "   Edad > 71.0  Total  Fallece = 1  Fallece = 0    Mean\n",
              "0            0    247           65          182  0.2632\n",
              "1            1     52           31           21  0.5962"
            ]
          },
          "metadata": {
            "tags": []
          }
        },
        {
          "output_type": "display_data",
          "data": {
            "text/html": [
              "<div>\n",
              "<style scoped>\n",
              "    .dataframe tbody tr th:only-of-type {\n",
              "        vertical-align: middle;\n",
              "    }\n",
              "\n",
              "    .dataframe tbody tr th {\n",
              "        vertical-align: top;\n",
              "    }\n",
              "\n",
              "    .dataframe thead th {\n",
              "        text-align: right;\n",
              "    }\n",
              "</style>\n",
              "<table border=\"1\" class=\"dataframe\">\n",
              "  <thead>\n",
              "    <tr style=\"text-align: right;\">\n",
              "      <th></th>\n",
              "      <th>Edad &gt; 72.5</th>\n",
              "      <th>Total</th>\n",
              "      <th>Fallece = 1</th>\n",
              "      <th>Fallece = 0</th>\n",
              "      <th>Mean</th>\n",
              "    </tr>\n",
              "  </thead>\n",
              "  <tbody>\n",
              "    <tr>\n",
              "      <th>0</th>\n",
              "      <td>0</td>\n",
              "      <td>254</td>\n",
              "      <td>70</td>\n",
              "      <td>184</td>\n",
              "      <td>0.2756</td>\n",
              "    </tr>\n",
              "    <tr>\n",
              "      <th>1</th>\n",
              "      <td>1</td>\n",
              "      <td>45</td>\n",
              "      <td>26</td>\n",
              "      <td>19</td>\n",
              "      <td>0.5778</td>\n",
              "    </tr>\n",
              "  </tbody>\n",
              "</table>\n",
              "</div>"
            ],
            "text/plain": [
              "   Edad > 72.5  Total  Fallece = 1  Fallece = 0    Mean\n",
              "0            0    254           70          184  0.2756\n",
              "1            1     45           26           19  0.5778"
            ]
          },
          "metadata": {
            "tags": []
          }
        },
        {
          "output_type": "display_data",
          "data": {
            "text/html": [
              "<div>\n",
              "<style scoped>\n",
              "    .dataframe tbody tr th:only-of-type {\n",
              "        vertical-align: middle;\n",
              "    }\n",
              "\n",
              "    .dataframe tbody tr th {\n",
              "        vertical-align: top;\n",
              "    }\n",
              "\n",
              "    .dataframe thead th {\n",
              "        text-align: right;\n",
              "    }\n",
              "</style>\n",
              "<table border=\"1\" class=\"dataframe\">\n",
              "  <thead>\n",
              "    <tr style=\"text-align: right;\">\n",
              "      <th></th>\n",
              "      <th>Edad &gt; 74.0</th>\n",
              "      <th>Total</th>\n",
              "      <th>Fallece = 1</th>\n",
              "      <th>Fallece = 0</th>\n",
              "      <th>Mean</th>\n",
              "    </tr>\n",
              "  </thead>\n",
              "  <tbody>\n",
              "    <tr>\n",
              "      <th>0</th>\n",
              "      <td>0</td>\n",
              "      <td>258</td>\n",
              "      <td>71</td>\n",
              "      <td>187</td>\n",
              "      <td>0.2752</td>\n",
              "    </tr>\n",
              "    <tr>\n",
              "      <th>1</th>\n",
              "      <td>1</td>\n",
              "      <td>41</td>\n",
              "      <td>25</td>\n",
              "      <td>16</td>\n",
              "      <td>0.6098</td>\n",
              "    </tr>\n",
              "  </tbody>\n",
              "</table>\n",
              "</div>"
            ],
            "text/plain": [
              "   Edad > 74.0  Total  Fallece = 1  Fallece = 0    Mean\n",
              "0            0    258           71          187  0.2752\n",
              "1            1     41           25           16  0.6098"
            ]
          },
          "metadata": {
            "tags": []
          }
        },
        {
          "output_type": "display_data",
          "data": {
            "text/html": [
              "<div>\n",
              "<style scoped>\n",
              "    .dataframe tbody tr th:only-of-type {\n",
              "        vertical-align: middle;\n",
              "    }\n",
              "\n",
              "    .dataframe tbody tr th {\n",
              "        vertical-align: top;\n",
              "    }\n",
              "\n",
              "    .dataframe thead th {\n",
              "        text-align: right;\n",
              "    }\n",
              "</style>\n",
              "<table border=\"1\" class=\"dataframe\">\n",
              "  <thead>\n",
              "    <tr style=\"text-align: right;\">\n",
              "      <th></th>\n",
              "      <th>Edad &gt; 76.0</th>\n",
              "      <th>Total</th>\n",
              "      <th>Fallece = 1</th>\n",
              "      <th>Fallece = 0</th>\n",
              "      <th>Mean</th>\n",
              "    </tr>\n",
              "  </thead>\n",
              "  <tbody>\n",
              "    <tr>\n",
              "      <th>0</th>\n",
              "      <td>0</td>\n",
              "      <td>269</td>\n",
              "      <td>77</td>\n",
              "      <td>192</td>\n",
              "      <td>0.2862</td>\n",
              "    </tr>\n",
              "    <tr>\n",
              "      <th>1</th>\n",
              "      <td>1</td>\n",
              "      <td>30</td>\n",
              "      <td>19</td>\n",
              "      <td>11</td>\n",
              "      <td>0.6333</td>\n",
              "    </tr>\n",
              "  </tbody>\n",
              "</table>\n",
              "</div>"
            ],
            "text/plain": [
              "   Edad > 76.0  Total  Fallece = 1  Fallece = 0    Mean\n",
              "0            0    269           77          192  0.2862\n",
              "1            1     30           19           11  0.6333"
            ]
          },
          "metadata": {
            "tags": []
          }
        },
        {
          "output_type": "display_data",
          "data": {
            "text/html": [
              "<div>\n",
              "<style scoped>\n",
              "    .dataframe tbody tr th:only-of-type {\n",
              "        vertical-align: middle;\n",
              "    }\n",
              "\n",
              "    .dataframe tbody tr th {\n",
              "        vertical-align: top;\n",
              "    }\n",
              "\n",
              "    .dataframe thead th {\n",
              "        text-align: right;\n",
              "    }\n",
              "</style>\n",
              "<table border=\"1\" class=\"dataframe\">\n",
              "  <thead>\n",
              "    <tr style=\"text-align: right;\">\n",
              "      <th></th>\n",
              "      <th>Edad &gt; 77.5</th>\n",
              "      <th>Total</th>\n",
              "      <th>Fallece = 1</th>\n",
              "      <th>Fallece = 0</th>\n",
              "      <th>Mean</th>\n",
              "    </tr>\n",
              "  </thead>\n",
              "  <tbody>\n",
              "    <tr>\n",
              "      <th>0</th>\n",
              "      <td>0</td>\n",
              "      <td>271</td>\n",
              "      <td>78</td>\n",
              "      <td>193</td>\n",
              "      <td>0.2878</td>\n",
              "    </tr>\n",
              "    <tr>\n",
              "      <th>1</th>\n",
              "      <td>1</td>\n",
              "      <td>28</td>\n",
              "      <td>18</td>\n",
              "      <td>10</td>\n",
              "      <td>0.6429</td>\n",
              "    </tr>\n",
              "  </tbody>\n",
              "</table>\n",
              "</div>"
            ],
            "text/plain": [
              "   Edad > 77.5  Total  Fallece = 1  Fallece = 0    Mean\n",
              "0            0    271           78          193  0.2878\n",
              "1            1     28           18           10  0.6429"
            ]
          },
          "metadata": {
            "tags": []
          }
        },
        {
          "output_type": "display_data",
          "data": {
            "text/html": [
              "<div>\n",
              "<style scoped>\n",
              "    .dataframe tbody tr th:only-of-type {\n",
              "        vertical-align: middle;\n",
              "    }\n",
              "\n",
              "    .dataframe tbody tr th {\n",
              "        vertical-align: top;\n",
              "    }\n",
              "\n",
              "    .dataframe thead th {\n",
              "        text-align: right;\n",
              "    }\n",
              "</style>\n",
              "<table border=\"1\" class=\"dataframe\">\n",
              "  <thead>\n",
              "    <tr style=\"text-align: right;\">\n",
              "      <th></th>\n",
              "      <th>Edad &gt; 78.5</th>\n",
              "      <th>Total</th>\n",
              "      <th>Fallece = 1</th>\n",
              "      <th>Fallece = 0</th>\n",
              "      <th>Mean</th>\n",
              "    </tr>\n",
              "  </thead>\n",
              "  <tbody>\n",
              "    <tr>\n",
              "      <th>0</th>\n",
              "      <td>0</td>\n",
              "      <td>273</td>\n",
              "      <td>78</td>\n",
              "      <td>195</td>\n",
              "      <td>0.2857</td>\n",
              "    </tr>\n",
              "    <tr>\n",
              "      <th>1</th>\n",
              "      <td>1</td>\n",
              "      <td>26</td>\n",
              "      <td>18</td>\n",
              "      <td>8</td>\n",
              "      <td>0.6923</td>\n",
              "    </tr>\n",
              "  </tbody>\n",
              "</table>\n",
              "</div>"
            ],
            "text/plain": [
              "   Edad > 78.5  Total  Fallece = 1  Fallece = 0    Mean\n",
              "0            0    273           78          195  0.2857\n",
              "1            1     26           18            8  0.6923"
            ]
          },
          "metadata": {
            "tags": []
          }
        },
        {
          "output_type": "display_data",
          "data": {
            "text/html": [
              "<div>\n",
              "<style scoped>\n",
              "    .dataframe tbody tr th:only-of-type {\n",
              "        vertical-align: middle;\n",
              "    }\n",
              "\n",
              "    .dataframe tbody tr th {\n",
              "        vertical-align: top;\n",
              "    }\n",
              "\n",
              "    .dataframe thead th {\n",
              "        text-align: right;\n",
              "    }\n",
              "</style>\n",
              "<table border=\"1\" class=\"dataframe\">\n",
              "  <thead>\n",
              "    <tr style=\"text-align: right;\">\n",
              "      <th></th>\n",
              "      <th>Edad &gt; 79.5</th>\n",
              "      <th>Total</th>\n",
              "      <th>Fallece = 1</th>\n",
              "      <th>Fallece = 0</th>\n",
              "      <th>Mean</th>\n",
              "    </tr>\n",
              "  </thead>\n",
              "  <tbody>\n",
              "    <tr>\n",
              "      <th>0</th>\n",
              "      <td>0</td>\n",
              "      <td>274</td>\n",
              "      <td>78</td>\n",
              "      <td>196</td>\n",
              "      <td>0.2847</td>\n",
              "    </tr>\n",
              "    <tr>\n",
              "      <th>1</th>\n",
              "      <td>1</td>\n",
              "      <td>25</td>\n",
              "      <td>18</td>\n",
              "      <td>7</td>\n",
              "      <td>0.7200</td>\n",
              "    </tr>\n",
              "  </tbody>\n",
              "</table>\n",
              "</div>"
            ],
            "text/plain": [
              "   Edad > 79.5  Total  Fallece = 1  Fallece = 0    Mean\n",
              "0            0    274           78          196  0.2847\n",
              "1            1     25           18            7  0.7200"
            ]
          },
          "metadata": {
            "tags": []
          }
        },
        {
          "output_type": "display_data",
          "data": {
            "text/html": [
              "<div>\n",
              "<style scoped>\n",
              "    .dataframe tbody tr th:only-of-type {\n",
              "        vertical-align: middle;\n",
              "    }\n",
              "\n",
              "    .dataframe tbody tr th {\n",
              "        vertical-align: top;\n",
              "    }\n",
              "\n",
              "    .dataframe thead th {\n",
              "        text-align: right;\n",
              "    }\n",
              "</style>\n",
              "<table border=\"1\" class=\"dataframe\">\n",
              "  <thead>\n",
              "    <tr style=\"text-align: right;\">\n",
              "      <th></th>\n",
              "      <th>Edad &gt; 80.5</th>\n",
              "      <th>Total</th>\n",
              "      <th>Fallece = 1</th>\n",
              "      <th>Fallece = 0</th>\n",
              "      <th>Mean</th>\n",
              "    </tr>\n",
              "  </thead>\n",
              "  <tbody>\n",
              "    <tr>\n",
              "      <th>0</th>\n",
              "      <td>0</td>\n",
              "      <td>281</td>\n",
              "      <td>83</td>\n",
              "      <td>198</td>\n",
              "      <td>0.2954</td>\n",
              "    </tr>\n",
              "    <tr>\n",
              "      <th>1</th>\n",
              "      <td>1</td>\n",
              "      <td>18</td>\n",
              "      <td>13</td>\n",
              "      <td>5</td>\n",
              "      <td>0.7222</td>\n",
              "    </tr>\n",
              "  </tbody>\n",
              "</table>\n",
              "</div>"
            ],
            "text/plain": [
              "   Edad > 80.5  Total  Fallece = 1  Fallece = 0    Mean\n",
              "0            0    281           83          198  0.2954\n",
              "1            1     18           13            5  0.7222"
            ]
          },
          "metadata": {
            "tags": []
          }
        },
        {
          "output_type": "display_data",
          "data": {
            "text/html": [
              "<div>\n",
              "<style scoped>\n",
              "    .dataframe tbody tr th:only-of-type {\n",
              "        vertical-align: middle;\n",
              "    }\n",
              "\n",
              "    .dataframe tbody tr th {\n",
              "        vertical-align: top;\n",
              "    }\n",
              "\n",
              "    .dataframe thead th {\n",
              "        text-align: right;\n",
              "    }\n",
              "</style>\n",
              "<table border=\"1\" class=\"dataframe\">\n",
              "  <thead>\n",
              "    <tr style=\"text-align: right;\">\n",
              "      <th></th>\n",
              "      <th>Edad &gt; 81.5</th>\n",
              "      <th>Total</th>\n",
              "      <th>Fallece = 1</th>\n",
              "      <th>Fallece = 0</th>\n",
              "      <th>Mean</th>\n",
              "    </tr>\n",
              "  </thead>\n",
              "  <tbody>\n",
              "    <tr>\n",
              "      <th>0</th>\n",
              "      <td>0</td>\n",
              "      <td>282</td>\n",
              "      <td>83</td>\n",
              "      <td>199</td>\n",
              "      <td>0.2943</td>\n",
              "    </tr>\n",
              "    <tr>\n",
              "      <th>1</th>\n",
              "      <td>1</td>\n",
              "      <td>17</td>\n",
              "      <td>13</td>\n",
              "      <td>4</td>\n",
              "      <td>0.7647</td>\n",
              "    </tr>\n",
              "  </tbody>\n",
              "</table>\n",
              "</div>"
            ],
            "text/plain": [
              "   Edad > 81.5  Total  Fallece = 1  Fallece = 0    Mean\n",
              "0            0    282           83          199  0.2943\n",
              "1            1     17           13            4  0.7647"
            ]
          },
          "metadata": {
            "tags": []
          }
        },
        {
          "output_type": "display_data",
          "data": {
            "text/html": [
              "<div>\n",
              "<style scoped>\n",
              "    .dataframe tbody tr th:only-of-type {\n",
              "        vertical-align: middle;\n",
              "    }\n",
              "\n",
              "    .dataframe tbody tr th {\n",
              "        vertical-align: top;\n",
              "    }\n",
              "\n",
              "    .dataframe thead th {\n",
              "        text-align: right;\n",
              "    }\n",
              "</style>\n",
              "<table border=\"1\" class=\"dataframe\">\n",
              "  <thead>\n",
              "    <tr style=\"text-align: right;\">\n",
              "      <th></th>\n",
              "      <th>Edad &gt; 83.5</th>\n",
              "      <th>Total</th>\n",
              "      <th>Fallece = 1</th>\n",
              "      <th>Fallece = 0</th>\n",
              "      <th>Mean</th>\n",
              "    </tr>\n",
              "  </thead>\n",
              "  <tbody>\n",
              "    <tr>\n",
              "      <th>0</th>\n",
              "      <td>0</td>\n",
              "      <td>285</td>\n",
              "      <td>86</td>\n",
              "      <td>199</td>\n",
              "      <td>0.3018</td>\n",
              "    </tr>\n",
              "    <tr>\n",
              "      <th>1</th>\n",
              "      <td>1</td>\n",
              "      <td>14</td>\n",
              "      <td>10</td>\n",
              "      <td>4</td>\n",
              "      <td>0.7143</td>\n",
              "    </tr>\n",
              "  </tbody>\n",
              "</table>\n",
              "</div>"
            ],
            "text/plain": [
              "   Edad > 83.5  Total  Fallece = 1  Fallece = 0    Mean\n",
              "0            0    285           86          199  0.3018\n",
              "1            1     14           10            4  0.7143"
            ]
          },
          "metadata": {
            "tags": []
          }
        },
        {
          "output_type": "display_data",
          "data": {
            "text/html": [
              "<div>\n",
              "<style scoped>\n",
              "    .dataframe tbody tr th:only-of-type {\n",
              "        vertical-align: middle;\n",
              "    }\n",
              "\n",
              "    .dataframe tbody tr th {\n",
              "        vertical-align: top;\n",
              "    }\n",
              "\n",
              "    .dataframe thead th {\n",
              "        text-align: right;\n",
              "    }\n",
              "</style>\n",
              "<table border=\"1\" class=\"dataframe\">\n",
              "  <thead>\n",
              "    <tr style=\"text-align: right;\">\n",
              "      <th></th>\n",
              "      <th>Edad &gt; 85.5</th>\n",
              "      <th>Total</th>\n",
              "      <th>Fallece = 1</th>\n",
              "      <th>Fallece = 0</th>\n",
              "      <th>Mean</th>\n",
              "    </tr>\n",
              "  </thead>\n",
              "  <tbody>\n",
              "    <tr>\n",
              "      <th>0</th>\n",
              "      <td>0</td>\n",
              "      <td>291</td>\n",
              "      <td>89</td>\n",
              "      <td>202</td>\n",
              "      <td>0.3058</td>\n",
              "    </tr>\n",
              "    <tr>\n",
              "      <th>1</th>\n",
              "      <td>1</td>\n",
              "      <td>8</td>\n",
              "      <td>7</td>\n",
              "      <td>1</td>\n",
              "      <td>0.8750</td>\n",
              "    </tr>\n",
              "  </tbody>\n",
              "</table>\n",
              "</div>"
            ],
            "text/plain": [
              "   Edad > 85.5  Total  Fallece = 1  Fallece = 0    Mean\n",
              "0            0    291           89          202  0.3058\n",
              "1            1      8            7            1  0.8750"
            ]
          },
          "metadata": {
            "tags": []
          }
        },
        {
          "output_type": "display_data",
          "data": {
            "text/html": [
              "<div>\n",
              "<style scoped>\n",
              "    .dataframe tbody tr th:only-of-type {\n",
              "        vertical-align: middle;\n",
              "    }\n",
              "\n",
              "    .dataframe tbody tr th {\n",
              "        vertical-align: top;\n",
              "    }\n",
              "\n",
              "    .dataframe thead th {\n",
              "        text-align: right;\n",
              "    }\n",
              "</style>\n",
              "<table border=\"1\" class=\"dataframe\">\n",
              "  <thead>\n",
              "    <tr style=\"text-align: right;\">\n",
              "      <th></th>\n",
              "      <th>Edad &gt; 86.5</th>\n",
              "      <th>Total</th>\n",
              "      <th>Fallece = 1</th>\n",
              "      <th>Fallece = 0</th>\n",
              "      <th>Mean</th>\n",
              "    </tr>\n",
              "  </thead>\n",
              "  <tbody>\n",
              "    <tr>\n",
              "      <th>0</th>\n",
              "      <td>0</td>\n",
              "      <td>292</td>\n",
              "      <td>90</td>\n",
              "      <td>202</td>\n",
              "      <td>0.3082</td>\n",
              "    </tr>\n",
              "    <tr>\n",
              "      <th>1</th>\n",
              "      <td>1</td>\n",
              "      <td>7</td>\n",
              "      <td>6</td>\n",
              "      <td>1</td>\n",
              "      <td>0.8571</td>\n",
              "    </tr>\n",
              "  </tbody>\n",
              "</table>\n",
              "</div>"
            ],
            "text/plain": [
              "   Edad > 86.5  Total  Fallece = 1  Fallece = 0    Mean\n",
              "0            0    292           90          202  0.3082\n",
              "1            1      7            6            1  0.8571"
            ]
          },
          "metadata": {
            "tags": []
          }
        },
        {
          "output_type": "display_data",
          "data": {
            "text/html": [
              "<div>\n",
              "<style scoped>\n",
              "    .dataframe tbody tr th:only-of-type {\n",
              "        vertical-align: middle;\n",
              "    }\n",
              "\n",
              "    .dataframe tbody tr th {\n",
              "        vertical-align: top;\n",
              "    }\n",
              "\n",
              "    .dataframe thead th {\n",
              "        text-align: right;\n",
              "    }\n",
              "</style>\n",
              "<table border=\"1\" class=\"dataframe\">\n",
              "  <thead>\n",
              "    <tr style=\"text-align: right;\">\n",
              "      <th></th>\n",
              "      <th>Edad &gt; 88.5</th>\n",
              "      <th>Total</th>\n",
              "      <th>Fallece = 1</th>\n",
              "      <th>Fallece = 0</th>\n",
              "      <th>Mean</th>\n",
              "    </tr>\n",
              "  </thead>\n",
              "  <tbody>\n",
              "    <tr>\n",
              "      <th>0</th>\n",
              "      <td>0</td>\n",
              "      <td>293</td>\n",
              "      <td>91</td>\n",
              "      <td>202</td>\n",
              "      <td>0.3106</td>\n",
              "    </tr>\n",
              "    <tr>\n",
              "      <th>1</th>\n",
              "      <td>1</td>\n",
              "      <td>6</td>\n",
              "      <td>5</td>\n",
              "      <td>1</td>\n",
              "      <td>0.8333</td>\n",
              "    </tr>\n",
              "  </tbody>\n",
              "</table>\n",
              "</div>"
            ],
            "text/plain": [
              "   Edad > 88.5  Total  Fallece = 1  Fallece = 0    Mean\n",
              "0            0    293           91          202  0.3106\n",
              "1            1      6            5            1  0.8333"
            ]
          },
          "metadata": {
            "tags": []
          }
        },
        {
          "output_type": "display_data",
          "data": {
            "text/html": [
              "<div>\n",
              "<style scoped>\n",
              "    .dataframe tbody tr th:only-of-type {\n",
              "        vertical-align: middle;\n",
              "    }\n",
              "\n",
              "    .dataframe tbody tr th {\n",
              "        vertical-align: top;\n",
              "    }\n",
              "\n",
              "    .dataframe thead th {\n",
              "        text-align: right;\n",
              "    }\n",
              "</style>\n",
              "<table border=\"1\" class=\"dataframe\">\n",
              "  <thead>\n",
              "    <tr style=\"text-align: right;\">\n",
              "      <th></th>\n",
              "      <th>Edad &gt; 92.0</th>\n",
              "      <th>Total</th>\n",
              "      <th>Fallece = 1</th>\n",
              "      <th>Fallece = 0</th>\n",
              "      <th>Mean</th>\n",
              "    </tr>\n",
              "  </thead>\n",
              "  <tbody>\n",
              "    <tr>\n",
              "      <th>0</th>\n",
              "      <td>0</td>\n",
              "      <td>296</td>\n",
              "      <td>93</td>\n",
              "      <td>203</td>\n",
              "      <td>0.3142</td>\n",
              "    </tr>\n",
              "    <tr>\n",
              "      <th>1</th>\n",
              "      <td>1</td>\n",
              "      <td>3</td>\n",
              "      <td>3</td>\n",
              "      <td>0</td>\n",
              "      <td>1.0000</td>\n",
              "    </tr>\n",
              "  </tbody>\n",
              "</table>\n",
              "</div>"
            ],
            "text/plain": [
              "   Edad > 92.0  Total  Fallece = 1  Fallece = 0    Mean\n",
              "0            0    296           93          203  0.3142\n",
              "1            1      3            3            0  1.0000"
            ]
          },
          "metadata": {
            "tags": []
          }
        },
        {
          "output_type": "display_data",
          "data": {
            "text/html": [
              "<div>\n",
              "<style scoped>\n",
              "    .dataframe tbody tr th:only-of-type {\n",
              "        vertical-align: middle;\n",
              "    }\n",
              "\n",
              "    .dataframe tbody tr th {\n",
              "        vertical-align: top;\n",
              "    }\n",
              "\n",
              "    .dataframe thead th {\n",
              "        text-align: right;\n",
              "    }\n",
              "</style>\n",
              "<table border=\"1\" class=\"dataframe\">\n",
              "  <thead>\n",
              "    <tr style=\"text-align: right;\">\n",
              "      <th></th>\n",
              "      <th>Edad &gt; 94.5</th>\n",
              "      <th>Total</th>\n",
              "      <th>Fallece = 1</th>\n",
              "      <th>Fallece = 0</th>\n",
              "      <th>Mean</th>\n",
              "    </tr>\n",
              "  </thead>\n",
              "  <tbody>\n",
              "    <tr>\n",
              "      <th>0</th>\n",
              "      <td>0</td>\n",
              "      <td>297</td>\n",
              "      <td>94</td>\n",
              "      <td>203</td>\n",
              "      <td>0.3165</td>\n",
              "    </tr>\n",
              "    <tr>\n",
              "      <th>1</th>\n",
              "      <td>1</td>\n",
              "      <td>2</td>\n",
              "      <td>2</td>\n",
              "      <td>0</td>\n",
              "      <td>1.0000</td>\n",
              "    </tr>\n",
              "  </tbody>\n",
              "</table>\n",
              "</div>"
            ],
            "text/plain": [
              "   Edad > 94.5  Total  Fallece = 1  Fallece = 0    Mean\n",
              "0            0    297           94          203  0.3165\n",
              "1            1      2            2            0  1.0000"
            ]
          },
          "metadata": {
            "tags": []
          }
        }
      ]
    },
    {
      "cell_type": "code",
      "metadata": {
        "id": "9OksrKOGwQvO",
        "colab": {
          "base_uri": "https://localhost:8080/",
          "height": 1000
        },
        "outputId": "077f55bb-7c9d-40cf-8d53-f53b933a024e"
      },
      "source": [
        "particiones_continuas(df_resumen, 'Fallece', 'Serum')"
      ],
      "execution_count": 19,
      "outputs": [
        {
          "output_type": "display_data",
          "data": {
            "text/html": [
              "<div>\n",
              "<style scoped>\n",
              "    .dataframe tbody tr th:only-of-type {\n",
              "        vertical-align: middle;\n",
              "    }\n",
              "\n",
              "    .dataframe tbody tr th {\n",
              "        vertical-align: top;\n",
              "    }\n",
              "\n",
              "    .dataframe thead th {\n",
              "        text-align: right;\n",
              "    }\n",
              "</style>\n",
              "<table border=\"1\" class=\"dataframe\">\n",
              "  <thead>\n",
              "    <tr style=\"text-align: right;\">\n",
              "      <th></th>\n",
              "      <th>Serum &gt; 0.55</th>\n",
              "      <th>Total</th>\n",
              "      <th>Fallece = 1</th>\n",
              "      <th>Fallece = 0</th>\n",
              "      <th>Mean</th>\n",
              "    </tr>\n",
              "  </thead>\n",
              "  <tbody>\n",
              "    <tr>\n",
              "      <th>0</th>\n",
              "      <td>0</td>\n",
              "      <td>1</td>\n",
              "      <td>0</td>\n",
              "      <td>1</td>\n",
              "      <td>0.0000</td>\n",
              "    </tr>\n",
              "    <tr>\n",
              "      <th>1</th>\n",
              "      <td>1</td>\n",
              "      <td>298</td>\n",
              "      <td>96</td>\n",
              "      <td>202</td>\n",
              "      <td>0.3221</td>\n",
              "    </tr>\n",
              "  </tbody>\n",
              "</table>\n",
              "</div>"
            ],
            "text/plain": [
              "   Serum > 0.55  Total  Fallece = 1  Fallece = 0    Mean\n",
              "0             0      1            0            1  0.0000\n",
              "1             1    298           96          202  0.3221"
            ]
          },
          "metadata": {
            "tags": []
          }
        },
        {
          "output_type": "display_data",
          "data": {
            "text/html": [
              "<div>\n",
              "<style scoped>\n",
              "    .dataframe tbody tr th:only-of-type {\n",
              "        vertical-align: middle;\n",
              "    }\n",
              "\n",
              "    .dataframe tbody tr th {\n",
              "        vertical-align: top;\n",
              "    }\n",
              "\n",
              "    .dataframe thead th {\n",
              "        text-align: right;\n",
              "    }\n",
              "</style>\n",
              "<table border=\"1\" class=\"dataframe\">\n",
              "  <thead>\n",
              "    <tr style=\"text-align: right;\">\n",
              "      <th></th>\n",
              "      <th>Serum &gt; 0.6499999999999999</th>\n",
              "      <th>Total</th>\n",
              "      <th>Fallece = 1</th>\n",
              "      <th>Fallece = 0</th>\n",
              "      <th>Mean</th>\n",
              "    </tr>\n",
              "  </thead>\n",
              "  <tbody>\n",
              "    <tr>\n",
              "      <th>0</th>\n",
              "      <td>0</td>\n",
              "      <td>5</td>\n",
              "      <td>2</td>\n",
              "      <td>3</td>\n",
              "      <td>0.4000</td>\n",
              "    </tr>\n",
              "    <tr>\n",
              "      <th>1</th>\n",
              "      <td>1</td>\n",
              "      <td>294</td>\n",
              "      <td>94</td>\n",
              "      <td>200</td>\n",
              "      <td>0.3197</td>\n",
              "    </tr>\n",
              "  </tbody>\n",
              "</table>\n",
              "</div>"
            ],
            "text/plain": [
              "   Serum > 0.6499999999999999  Total  Fallece = 1  Fallece = 0    Mean\n",
              "0                           0      5            2            3  0.4000\n",
              "1                           1    294           94          200  0.3197"
            ]
          },
          "metadata": {
            "tags": []
          }
        },
        {
          "output_type": "display_data",
          "data": {
            "text/html": [
              "<div>\n",
              "<style scoped>\n",
              "    .dataframe tbody tr th:only-of-type {\n",
              "        vertical-align: middle;\n",
              "    }\n",
              "\n",
              "    .dataframe tbody tr th {\n",
              "        vertical-align: top;\n",
              "    }\n",
              "\n",
              "    .dataframe thead th {\n",
              "        text-align: right;\n",
              "    }\n",
              "</style>\n",
              "<table border=\"1\" class=\"dataframe\">\n",
              "  <thead>\n",
              "    <tr style=\"text-align: right;\">\n",
              "      <th></th>\n",
              "      <th>Serum &gt; 0.725</th>\n",
              "      <th>Total</th>\n",
              "      <th>Fallece = 1</th>\n",
              "      <th>Fallece = 0</th>\n",
              "      <th>Mean</th>\n",
              "    </tr>\n",
              "  </thead>\n",
              "  <tbody>\n",
              "    <tr>\n",
              "      <th>0</th>\n",
              "      <td>0</td>\n",
              "      <td>24</td>\n",
              "      <td>3</td>\n",
              "      <td>21</td>\n",
              "      <td>0.1250</td>\n",
              "    </tr>\n",
              "    <tr>\n",
              "      <th>1</th>\n",
              "      <td>1</td>\n",
              "      <td>275</td>\n",
              "      <td>93</td>\n",
              "      <td>182</td>\n",
              "      <td>0.3382</td>\n",
              "    </tr>\n",
              "  </tbody>\n",
              "</table>\n",
              "</div>"
            ],
            "text/plain": [
              "   Serum > 0.725  Total  Fallece = 1  Fallece = 0    Mean\n",
              "0              0     24            3           21  0.1250\n",
              "1              1    275           93          182  0.3382"
            ]
          },
          "metadata": {
            "tags": []
          }
        },
        {
          "output_type": "display_data",
          "data": {
            "text/html": [
              "<div>\n",
              "<style scoped>\n",
              "    .dataframe tbody tr th:only-of-type {\n",
              "        vertical-align: middle;\n",
              "    }\n",
              "\n",
              "    .dataframe tbody tr th {\n",
              "        vertical-align: top;\n",
              "    }\n",
              "\n",
              "    .dataframe thead th {\n",
              "        text-align: right;\n",
              "    }\n",
              "</style>\n",
              "<table border=\"1\" class=\"dataframe\">\n",
              "  <thead>\n",
              "    <tr style=\"text-align: right;\">\n",
              "      <th></th>\n",
              "      <th>Serum &gt; 0.775</th>\n",
              "      <th>Total</th>\n",
              "      <th>Fallece = 1</th>\n",
              "      <th>Fallece = 0</th>\n",
              "      <th>Mean</th>\n",
              "    </tr>\n",
              "  </thead>\n",
              "  <tbody>\n",
              "    <tr>\n",
              "      <th>0</th>\n",
              "      <td>0</td>\n",
              "      <td>25</td>\n",
              "      <td>3</td>\n",
              "      <td>22</td>\n",
              "      <td>0.1200</td>\n",
              "    </tr>\n",
              "    <tr>\n",
              "      <th>1</th>\n",
              "      <td>1</td>\n",
              "      <td>274</td>\n",
              "      <td>93</td>\n",
              "      <td>181</td>\n",
              "      <td>0.3394</td>\n",
              "    </tr>\n",
              "  </tbody>\n",
              "</table>\n",
              "</div>"
            ],
            "text/plain": [
              "   Serum > 0.775  Total  Fallece = 1  Fallece = 0    Mean\n",
              "0              0     25            3           22  0.1200\n",
              "1              1    274           93          181  0.3394"
            ]
          },
          "metadata": {
            "tags": []
          }
        },
        {
          "output_type": "display_data",
          "data": {
            "text/html": [
              "<div>\n",
              "<style scoped>\n",
              "    .dataframe tbody tr th:only-of-type {\n",
              "        vertical-align: middle;\n",
              "    }\n",
              "\n",
              "    .dataframe tbody tr th {\n",
              "        vertical-align: top;\n",
              "    }\n",
              "\n",
              "    .dataframe thead th {\n",
              "        text-align: right;\n",
              "    }\n",
              "</style>\n",
              "<table border=\"1\" class=\"dataframe\">\n",
              "  <thead>\n",
              "    <tr style=\"text-align: right;\">\n",
              "      <th></th>\n",
              "      <th>Serum &gt; 0.8500000000000001</th>\n",
              "      <th>Total</th>\n",
              "      <th>Fallece = 1</th>\n",
              "      <th>Fallece = 0</th>\n",
              "      <th>Mean</th>\n",
              "    </tr>\n",
              "  </thead>\n",
              "  <tbody>\n",
              "    <tr>\n",
              "      <th>0</th>\n",
              "      <td>0</td>\n",
              "      <td>49</td>\n",
              "      <td>4</td>\n",
              "      <td>45</td>\n",
              "      <td>0.0816</td>\n",
              "    </tr>\n",
              "    <tr>\n",
              "      <th>1</th>\n",
              "      <td>1</td>\n",
              "      <td>250</td>\n",
              "      <td>92</td>\n",
              "      <td>158</td>\n",
              "      <td>0.3680</td>\n",
              "    </tr>\n",
              "  </tbody>\n",
              "</table>\n",
              "</div>"
            ],
            "text/plain": [
              "   Serum > 0.8500000000000001  Total  Fallece = 1  Fallece = 0    Mean\n",
              "0                           0     49            4           45  0.0816\n",
              "1                           1    250           92          158  0.3680"
            ]
          },
          "metadata": {
            "tags": []
          }
        },
        {
          "output_type": "display_data",
          "data": {
            "text/html": [
              "<div>\n",
              "<style scoped>\n",
              "    .dataframe tbody tr th:only-of-type {\n",
              "        vertical-align: middle;\n",
              "    }\n",
              "\n",
              "    .dataframe tbody tr th {\n",
              "        vertical-align: top;\n",
              "    }\n",
              "\n",
              "    .dataframe thead th {\n",
              "        text-align: right;\n",
              "    }\n",
              "</style>\n",
              "<table border=\"1\" class=\"dataframe\">\n",
              "  <thead>\n",
              "    <tr style=\"text-align: right;\">\n",
              "      <th></th>\n",
              "      <th>Serum &gt; 0.95</th>\n",
              "      <th>Total</th>\n",
              "      <th>Fallece = 1</th>\n",
              "      <th>Fallece = 0</th>\n",
              "      <th>Mean</th>\n",
              "    </tr>\n",
              "  </thead>\n",
              "  <tbody>\n",
              "    <tr>\n",
              "      <th>0</th>\n",
              "      <td>0</td>\n",
              "      <td>81</td>\n",
              "      <td>9</td>\n",
              "      <td>72</td>\n",
              "      <td>0.1111</td>\n",
              "    </tr>\n",
              "    <tr>\n",
              "      <th>1</th>\n",
              "      <td>1</td>\n",
              "      <td>218</td>\n",
              "      <td>87</td>\n",
              "      <td>131</td>\n",
              "      <td>0.3991</td>\n",
              "    </tr>\n",
              "  </tbody>\n",
              "</table>\n",
              "</div>"
            ],
            "text/plain": [
              "   Serum > 0.95  Total  Fallece = 1  Fallece = 0    Mean\n",
              "0             0     81            9           72  0.1111\n",
              "1             1    218           87          131  0.3991"
            ]
          },
          "metadata": {
            "tags": []
          }
        },
        {
          "output_type": "display_data",
          "data": {
            "text/html": [
              "<div>\n",
              "<style scoped>\n",
              "    .dataframe tbody tr th:only-of-type {\n",
              "        vertical-align: middle;\n",
              "    }\n",
              "\n",
              "    .dataframe tbody tr th {\n",
              "        vertical-align: top;\n",
              "    }\n",
              "\n",
              "    .dataframe thead th {\n",
              "        text-align: right;\n",
              "    }\n",
              "</style>\n",
              "<table border=\"1\" class=\"dataframe\">\n",
              "  <thead>\n",
              "    <tr style=\"text-align: right;\">\n",
              "      <th></th>\n",
              "      <th>Serum &gt; 1.05</th>\n",
              "      <th>Total</th>\n",
              "      <th>Fallece = 1</th>\n",
              "      <th>Fallece = 0</th>\n",
              "      <th>Mean</th>\n",
              "    </tr>\n",
              "  </thead>\n",
              "  <tbody>\n",
              "    <tr>\n",
              "      <th>0</th>\n",
              "      <td>0</td>\n",
              "      <td>131</td>\n",
              "      <td>24</td>\n",
              "      <td>107</td>\n",
              "      <td>0.1832</td>\n",
              "    </tr>\n",
              "    <tr>\n",
              "      <th>1</th>\n",
              "      <td>1</td>\n",
              "      <td>168</td>\n",
              "      <td>72</td>\n",
              "      <td>96</td>\n",
              "      <td>0.4286</td>\n",
              "    </tr>\n",
              "  </tbody>\n",
              "</table>\n",
              "</div>"
            ],
            "text/plain": [
              "   Serum > 1.05  Total  Fallece = 1  Fallece = 0    Mean\n",
              "0             0    131           24          107  0.1832\n",
              "1             1    168           72           96  0.4286"
            ]
          },
          "metadata": {
            "tags": []
          }
        },
        {
          "output_type": "display_data",
          "data": {
            "text/html": [
              "<div>\n",
              "<style scoped>\n",
              "    .dataframe tbody tr th:only-of-type {\n",
              "        vertical-align: middle;\n",
              "    }\n",
              "\n",
              "    .dataframe tbody tr th {\n",
              "        vertical-align: top;\n",
              "    }\n",
              "\n",
              "    .dataframe thead th {\n",
              "        text-align: right;\n",
              "    }\n",
              "</style>\n",
              "<table border=\"1\" class=\"dataframe\">\n",
              "  <thead>\n",
              "    <tr style=\"text-align: right;\">\n",
              "      <th></th>\n",
              "      <th>Serum &gt; 1.1400000000000001</th>\n",
              "      <th>Total</th>\n",
              "      <th>Fallece = 1</th>\n",
              "      <th>Fallece = 0</th>\n",
              "      <th>Mean</th>\n",
              "    </tr>\n",
              "  </thead>\n",
              "  <tbody>\n",
              "    <tr>\n",
              "      <th>0</th>\n",
              "      <td>0</td>\n",
              "      <td>163</td>\n",
              "      <td>33</td>\n",
              "      <td>130</td>\n",
              "      <td>0.2025</td>\n",
              "    </tr>\n",
              "    <tr>\n",
              "      <th>1</th>\n",
              "      <td>1</td>\n",
              "      <td>136</td>\n",
              "      <td>63</td>\n",
              "      <td>73</td>\n",
              "      <td>0.4632</td>\n",
              "    </tr>\n",
              "  </tbody>\n",
              "</table>\n",
              "</div>"
            ],
            "text/plain": [
              "   Serum > 1.1400000000000001  Total  Fallece = 1  Fallece = 0    Mean\n",
              "0                           0    163           33          130  0.2025\n",
              "1                           1    136           63           73  0.4632"
            ]
          },
          "metadata": {
            "tags": []
          }
        },
        {
          "output_type": "display_data",
          "data": {
            "text/html": [
              "<div>\n",
              "<style scoped>\n",
              "    .dataframe tbody tr th:only-of-type {\n",
              "        vertical-align: middle;\n",
              "    }\n",
              "\n",
              "    .dataframe tbody tr th {\n",
              "        vertical-align: top;\n",
              "    }\n",
              "\n",
              "    .dataframe thead th {\n",
              "        text-align: right;\n",
              "    }\n",
              "</style>\n",
              "<table border=\"1\" class=\"dataframe\">\n",
              "  <thead>\n",
              "    <tr style=\"text-align: right;\">\n",
              "      <th></th>\n",
              "      <th>Serum &gt; 1.19</th>\n",
              "      <th>Total</th>\n",
              "      <th>Fallece = 1</th>\n",
              "      <th>Fallece = 0</th>\n",
              "      <th>Mean</th>\n",
              "    </tr>\n",
              "  </thead>\n",
              "  <tbody>\n",
              "    <tr>\n",
              "      <th>0</th>\n",
              "      <td>0</td>\n",
              "      <td>174</td>\n",
              "      <td>33</td>\n",
              "      <td>141</td>\n",
              "      <td>0.1897</td>\n",
              "    </tr>\n",
              "    <tr>\n",
              "      <th>1</th>\n",
              "      <td>1</td>\n",
              "      <td>125</td>\n",
              "      <td>63</td>\n",
              "      <td>62</td>\n",
              "      <td>0.5040</td>\n",
              "    </tr>\n",
              "  </tbody>\n",
              "</table>\n",
              "</div>"
            ],
            "text/plain": [
              "   Serum > 1.19  Total  Fallece = 1  Fallece = 0    Mean\n",
              "0             0    174           33          141  0.1897\n",
              "1             1    125           63           62  0.5040"
            ]
          },
          "metadata": {
            "tags": []
          }
        },
        {
          "output_type": "display_data",
          "data": {
            "text/html": [
              "<div>\n",
              "<style scoped>\n",
              "    .dataframe tbody tr th:only-of-type {\n",
              "        vertical-align: middle;\n",
              "    }\n",
              "\n",
              "    .dataframe tbody tr th {\n",
              "        vertical-align: top;\n",
              "    }\n",
              "\n",
              "    .dataframe thead th {\n",
              "        text-align: right;\n",
              "    }\n",
              "</style>\n",
              "<table border=\"1\" class=\"dataframe\">\n",
              "  <thead>\n",
              "    <tr style=\"text-align: right;\">\n",
              "      <th></th>\n",
              "      <th>Serum &gt; 1.25</th>\n",
              "      <th>Total</th>\n",
              "      <th>Fallece = 1</th>\n",
              "      <th>Fallece = 0</th>\n",
              "      <th>Mean</th>\n",
              "    </tr>\n",
              "  </thead>\n",
              "  <tbody>\n",
              "    <tr>\n",
              "      <th>0</th>\n",
              "      <td>0</td>\n",
              "      <td>198</td>\n",
              "      <td>42</td>\n",
              "      <td>156</td>\n",
              "      <td>0.2121</td>\n",
              "    </tr>\n",
              "    <tr>\n",
              "      <th>1</th>\n",
              "      <td>1</td>\n",
              "      <td>101</td>\n",
              "      <td>54</td>\n",
              "      <td>47</td>\n",
              "      <td>0.5347</td>\n",
              "    </tr>\n",
              "  </tbody>\n",
              "</table>\n",
              "</div>"
            ],
            "text/plain": [
              "   Serum > 1.25  Total  Fallece = 1  Fallece = 0    Mean\n",
              "0             0    198           42          156  0.2121\n",
              "1             1    101           54           47  0.5347"
            ]
          },
          "metadata": {
            "tags": []
          }
        },
        {
          "output_type": "display_data",
          "data": {
            "text/html": [
              "<div>\n",
              "<style scoped>\n",
              "    .dataframe tbody tr th:only-of-type {\n",
              "        vertical-align: middle;\n",
              "    }\n",
              "\n",
              "    .dataframe tbody tr th {\n",
              "        vertical-align: top;\n",
              "    }\n",
              "\n",
              "    .dataframe thead th {\n",
              "        text-align: right;\n",
              "    }\n",
              "</style>\n",
              "<table border=\"1\" class=\"dataframe\">\n",
              "  <thead>\n",
              "    <tr style=\"text-align: right;\">\n",
              "      <th></th>\n",
              "      <th>Serum &gt; 1.35</th>\n",
              "      <th>Total</th>\n",
              "      <th>Fallece = 1</th>\n",
              "      <th>Fallece = 0</th>\n",
              "      <th>Mean</th>\n",
              "    </tr>\n",
              "  </thead>\n",
              "  <tbody>\n",
              "    <tr>\n",
              "      <th>0</th>\n",
              "      <td>0</td>\n",
              "      <td>218</td>\n",
              "      <td>49</td>\n",
              "      <td>169</td>\n",
              "      <td>0.2248</td>\n",
              "    </tr>\n",
              "    <tr>\n",
              "      <th>1</th>\n",
              "      <td>1</td>\n",
              "      <td>81</td>\n",
              "      <td>47</td>\n",
              "      <td>34</td>\n",
              "      <td>0.5802</td>\n",
              "    </tr>\n",
              "  </tbody>\n",
              "</table>\n",
              "</div>"
            ],
            "text/plain": [
              "   Serum > 1.35  Total  Fallece = 1  Fallece = 0    Mean\n",
              "0             0    218           49          169  0.2248\n",
              "1             1     81           47           34  0.5802"
            ]
          },
          "metadata": {
            "tags": []
          }
        },
        {
          "output_type": "display_data",
          "data": {
            "text/html": [
              "<div>\n",
              "<style scoped>\n",
              "    .dataframe tbody tr th:only-of-type {\n",
              "        vertical-align: middle;\n",
              "    }\n",
              "\n",
              "    .dataframe tbody tr th {\n",
              "        vertical-align: top;\n",
              "    }\n",
              "\n",
              "    .dataframe thead th {\n",
              "        text-align: right;\n",
              "    }\n",
              "</style>\n",
              "<table border=\"1\" class=\"dataframe\">\n",
              "  <thead>\n",
              "    <tr style=\"text-align: right;\">\n",
              "      <th></th>\n",
              "      <th>Serum &gt; 1.45</th>\n",
              "      <th>Total</th>\n",
              "      <th>Fallece = 1</th>\n",
              "      <th>Fallece = 0</th>\n",
              "      <th>Mean</th>\n",
              "    </tr>\n",
              "  </thead>\n",
              "  <tbody>\n",
              "    <tr>\n",
              "      <th>0</th>\n",
              "      <td>0</td>\n",
              "      <td>227</td>\n",
              "      <td>51</td>\n",
              "      <td>176</td>\n",
              "      <td>0.2247</td>\n",
              "    </tr>\n",
              "    <tr>\n",
              "      <th>1</th>\n",
              "      <td>1</td>\n",
              "      <td>72</td>\n",
              "      <td>45</td>\n",
              "      <td>27</td>\n",
              "      <td>0.6250</td>\n",
              "    </tr>\n",
              "  </tbody>\n",
              "</table>\n",
              "</div>"
            ],
            "text/plain": [
              "   Serum > 1.45  Total  Fallece = 1  Fallece = 0    Mean\n",
              "0             0    227           51          176  0.2247\n",
              "1             1     72           45           27  0.6250"
            ]
          },
          "metadata": {
            "tags": []
          }
        },
        {
          "output_type": "display_data",
          "data": {
            "text/html": [
              "<div>\n",
              "<style scoped>\n",
              "    .dataframe tbody tr th:only-of-type {\n",
              "        vertical-align: middle;\n",
              "    }\n",
              "\n",
              "    .dataframe tbody tr th {\n",
              "        vertical-align: top;\n",
              "    }\n",
              "\n",
              "    .dataframe thead th {\n",
              "        text-align: right;\n",
              "    }\n",
              "</style>\n",
              "<table border=\"1\" class=\"dataframe\">\n",
              "  <thead>\n",
              "    <tr style=\"text-align: right;\">\n",
              "      <th></th>\n",
              "      <th>Serum &gt; 1.55</th>\n",
              "      <th>Total</th>\n",
              "      <th>Fallece = 1</th>\n",
              "      <th>Fallece = 0</th>\n",
              "      <th>Mean</th>\n",
              "    </tr>\n",
              "  </thead>\n",
              "  <tbody>\n",
              "    <tr>\n",
              "      <th>0</th>\n",
              "      <td>0</td>\n",
              "      <td>232</td>\n",
              "      <td>53</td>\n",
              "      <td>179</td>\n",
              "      <td>0.2284</td>\n",
              "    </tr>\n",
              "    <tr>\n",
              "      <th>1</th>\n",
              "      <td>1</td>\n",
              "      <td>67</td>\n",
              "      <td>43</td>\n",
              "      <td>24</td>\n",
              "      <td>0.6418</td>\n",
              "    </tr>\n",
              "  </tbody>\n",
              "</table>\n",
              "</div>"
            ],
            "text/plain": [
              "   Serum > 1.55  Total  Fallece = 1  Fallece = 0    Mean\n",
              "0             0    232           53          179  0.2284\n",
              "1             1     67           43           24  0.6418"
            ]
          },
          "metadata": {
            "tags": []
          }
        },
        {
          "output_type": "display_data",
          "data": {
            "text/html": [
              "<div>\n",
              "<style scoped>\n",
              "    .dataframe tbody tr th:only-of-type {\n",
              "        vertical-align: middle;\n",
              "    }\n",
              "\n",
              "    .dataframe tbody tr th {\n",
              "        vertical-align: top;\n",
              "    }\n",
              "\n",
              "    .dataframe thead th {\n",
              "        text-align: right;\n",
              "    }\n",
              "</style>\n",
              "<table border=\"1\" class=\"dataframe\">\n",
              "  <thead>\n",
              "    <tr style=\"text-align: right;\">\n",
              "      <th></th>\n",
              "      <th>Serum &gt; 1.65</th>\n",
              "      <th>Total</th>\n",
              "      <th>Fallece = 1</th>\n",
              "      <th>Fallece = 0</th>\n",
              "      <th>Mean</th>\n",
              "    </tr>\n",
              "  </thead>\n",
              "  <tbody>\n",
              "    <tr>\n",
              "      <th>0</th>\n",
              "      <td>0</td>\n",
              "      <td>238</td>\n",
              "      <td>56</td>\n",
              "      <td>182</td>\n",
              "      <td>0.2353</td>\n",
              "    </tr>\n",
              "    <tr>\n",
              "      <th>1</th>\n",
              "      <td>1</td>\n",
              "      <td>61</td>\n",
              "      <td>40</td>\n",
              "      <td>21</td>\n",
              "      <td>0.6557</td>\n",
              "    </tr>\n",
              "  </tbody>\n",
              "</table>\n",
              "</div>"
            ],
            "text/plain": [
              "   Serum > 1.65  Total  Fallece = 1  Fallece = 0    Mean\n",
              "0             0    238           56          182  0.2353\n",
              "1             1     61           40           21  0.6557"
            ]
          },
          "metadata": {
            "tags": []
          }
        },
        {
          "output_type": "display_data",
          "data": {
            "text/html": [
              "<div>\n",
              "<style scoped>\n",
              "    .dataframe tbody tr th:only-of-type {\n",
              "        vertical-align: middle;\n",
              "    }\n",
              "\n",
              "    .dataframe tbody tr th {\n",
              "        vertical-align: top;\n",
              "    }\n",
              "\n",
              "    .dataframe thead th {\n",
              "        text-align: right;\n",
              "    }\n",
              "</style>\n",
              "<table border=\"1\" class=\"dataframe\">\n",
              "  <thead>\n",
              "    <tr style=\"text-align: right;\">\n",
              "      <th></th>\n",
              "      <th>Serum &gt; 1.75</th>\n",
              "      <th>Total</th>\n",
              "      <th>Fallece = 1</th>\n",
              "      <th>Fallece = 0</th>\n",
              "      <th>Mean</th>\n",
              "    </tr>\n",
              "  </thead>\n",
              "  <tbody>\n",
              "    <tr>\n",
              "      <th>0</th>\n",
              "      <td>0</td>\n",
              "      <td>247</td>\n",
              "      <td>60</td>\n",
              "      <td>187</td>\n",
              "      <td>0.2429</td>\n",
              "    </tr>\n",
              "    <tr>\n",
              "      <th>1</th>\n",
              "      <td>1</td>\n",
              "      <td>52</td>\n",
              "      <td>36</td>\n",
              "      <td>16</td>\n",
              "      <td>0.6923</td>\n",
              "    </tr>\n",
              "  </tbody>\n",
              "</table>\n",
              "</div>"
            ],
            "text/plain": [
              "   Serum > 1.75  Total  Fallece = 1  Fallece = 0    Mean\n",
              "0             0    247           60          187  0.2429\n",
              "1             1     52           36           16  0.6923"
            ]
          },
          "metadata": {
            "tags": []
          }
        },
        {
          "output_type": "display_data",
          "data": {
            "text/html": [
              "<div>\n",
              "<style scoped>\n",
              "    .dataframe tbody tr th:only-of-type {\n",
              "        vertical-align: middle;\n",
              "    }\n",
              "\n",
              "    .dataframe tbody tr th {\n",
              "        vertical-align: top;\n",
              "    }\n",
              "\n",
              "    .dataframe thead th {\n",
              "        text-align: right;\n",
              "    }\n",
              "</style>\n",
              "<table border=\"1\" class=\"dataframe\">\n",
              "  <thead>\n",
              "    <tr style=\"text-align: right;\">\n",
              "      <th></th>\n",
              "      <th>Serum &gt; 1.815</th>\n",
              "      <th>Total</th>\n",
              "      <th>Fallece = 1</th>\n",
              "      <th>Fallece = 0</th>\n",
              "      <th>Mean</th>\n",
              "    </tr>\n",
              "  </thead>\n",
              "  <tbody>\n",
              "    <tr>\n",
              "      <th>0</th>\n",
              "      <td>0</td>\n",
              "      <td>251</td>\n",
              "      <td>61</td>\n",
              "      <td>190</td>\n",
              "      <td>0.2430</td>\n",
              "    </tr>\n",
              "    <tr>\n",
              "      <th>1</th>\n",
              "      <td>1</td>\n",
              "      <td>48</td>\n",
              "      <td>35</td>\n",
              "      <td>13</td>\n",
              "      <td>0.7292</td>\n",
              "    </tr>\n",
              "  </tbody>\n",
              "</table>\n",
              "</div>"
            ],
            "text/plain": [
              "   Serum > 1.815  Total  Fallece = 1  Fallece = 0    Mean\n",
              "0              0    251           61          190  0.2430\n",
              "1              1     48           35           13  0.7292"
            ]
          },
          "metadata": {
            "tags": []
          }
        },
        {
          "output_type": "display_data",
          "data": {
            "text/html": [
              "<div>\n",
              "<style scoped>\n",
              "    .dataframe tbody tr th:only-of-type {\n",
              "        vertical-align: middle;\n",
              "    }\n",
              "\n",
              "    .dataframe tbody tr th {\n",
              "        vertical-align: top;\n",
              "    }\n",
              "\n",
              "    .dataframe thead th {\n",
              "        text-align: right;\n",
              "    }\n",
              "</style>\n",
              "<table border=\"1\" class=\"dataframe\">\n",
              "  <thead>\n",
              "    <tr style=\"text-align: right;\">\n",
              "      <th></th>\n",
              "      <th>Serum &gt; 1.865</th>\n",
              "      <th>Total</th>\n",
              "      <th>Fallece = 1</th>\n",
              "      <th>Fallece = 0</th>\n",
              "      <th>Mean</th>\n",
              "    </tr>\n",
              "  </thead>\n",
              "  <tbody>\n",
              "    <tr>\n",
              "      <th>0</th>\n",
              "      <td>0</td>\n",
              "      <td>259</td>\n",
              "      <td>69</td>\n",
              "      <td>190</td>\n",
              "      <td>0.2664</td>\n",
              "    </tr>\n",
              "    <tr>\n",
              "      <th>1</th>\n",
              "      <td>1</td>\n",
              "      <td>40</td>\n",
              "      <td>27</td>\n",
              "      <td>13</td>\n",
              "      <td>0.6750</td>\n",
              "    </tr>\n",
              "  </tbody>\n",
              "</table>\n",
              "</div>"
            ],
            "text/plain": [
              "   Serum > 1.865  Total  Fallece = 1  Fallece = 0    Mean\n",
              "0              0    259           69          190  0.2664\n",
              "1              1     40           27           13  0.6750"
            ]
          },
          "metadata": {
            "tags": []
          }
        },
        {
          "output_type": "display_data",
          "data": {
            "text/html": [
              "<div>\n",
              "<style scoped>\n",
              "    .dataframe tbody tr th:only-of-type {\n",
              "        vertical-align: middle;\n",
              "    }\n",
              "\n",
              "    .dataframe tbody tr th {\n",
              "        vertical-align: top;\n",
              "    }\n",
              "\n",
              "    .dataframe thead th {\n",
              "        text-align: right;\n",
              "    }\n",
              "</style>\n",
              "<table border=\"1\" class=\"dataframe\">\n",
              "  <thead>\n",
              "    <tr style=\"text-align: right;\">\n",
              "      <th></th>\n",
              "      <th>Serum &gt; 1.95</th>\n",
              "      <th>Total</th>\n",
              "      <th>Fallece = 1</th>\n",
              "      <th>Fallece = 0</th>\n",
              "      <th>Mean</th>\n",
              "    </tr>\n",
              "  </thead>\n",
              "  <tbody>\n",
              "    <tr>\n",
              "      <th>0</th>\n",
              "      <td>0</td>\n",
              "      <td>264</td>\n",
              "      <td>74</td>\n",
              "      <td>190</td>\n",
              "      <td>0.2803</td>\n",
              "    </tr>\n",
              "    <tr>\n",
              "      <th>1</th>\n",
              "      <td>1</td>\n",
              "      <td>35</td>\n",
              "      <td>22</td>\n",
              "      <td>13</td>\n",
              "      <td>0.6286</td>\n",
              "    </tr>\n",
              "  </tbody>\n",
              "</table>\n",
              "</div>"
            ],
            "text/plain": [
              "   Serum > 1.95  Total  Fallece = 1  Fallece = 0    Mean\n",
              "0             0    264           74          190  0.2803\n",
              "1             1     35           22           13  0.6286"
            ]
          },
          "metadata": {
            "tags": []
          }
        },
        {
          "output_type": "display_data",
          "data": {
            "text/html": [
              "<div>\n",
              "<style scoped>\n",
              "    .dataframe tbody tr th:only-of-type {\n",
              "        vertical-align: middle;\n",
              "    }\n",
              "\n",
              "    .dataframe tbody tr th {\n",
              "        vertical-align: top;\n",
              "    }\n",
              "\n",
              "    .dataframe thead th {\n",
              "        text-align: right;\n",
              "    }\n",
              "</style>\n",
              "<table border=\"1\" class=\"dataframe\">\n",
              "  <thead>\n",
              "    <tr style=\"text-align: right;\">\n",
              "      <th></th>\n",
              "      <th>Serum &gt; 2.05</th>\n",
              "      <th>Total</th>\n",
              "      <th>Fallece = 1</th>\n",
              "      <th>Fallece = 0</th>\n",
              "      <th>Mean</th>\n",
              "    </tr>\n",
              "  </thead>\n",
              "  <tbody>\n",
              "    <tr>\n",
              "      <th>0</th>\n",
              "      <td>0</td>\n",
              "      <td>265</td>\n",
              "      <td>75</td>\n",
              "      <td>190</td>\n",
              "      <td>0.2830</td>\n",
              "    </tr>\n",
              "    <tr>\n",
              "      <th>1</th>\n",
              "      <td>1</td>\n",
              "      <td>34</td>\n",
              "      <td>21</td>\n",
              "      <td>13</td>\n",
              "      <td>0.6176</td>\n",
              "    </tr>\n",
              "  </tbody>\n",
              "</table>\n",
              "</div>"
            ],
            "text/plain": [
              "   Serum > 2.05  Total  Fallece = 1  Fallece = 0    Mean\n",
              "0             0    265           75          190  0.2830\n",
              "1             1     34           21           13  0.6176"
            ]
          },
          "metadata": {
            "tags": []
          }
        },
        {
          "output_type": "display_data",
          "data": {
            "text/html": [
              "<div>\n",
              "<style scoped>\n",
              "    .dataframe tbody tr th:only-of-type {\n",
              "        vertical-align: middle;\n",
              "    }\n",
              "\n",
              "    .dataframe tbody tr th {\n",
              "        vertical-align: top;\n",
              "    }\n",
              "\n",
              "    .dataframe thead th {\n",
              "        text-align: right;\n",
              "    }\n",
              "</style>\n",
              "<table border=\"1\" class=\"dataframe\">\n",
              "  <thead>\n",
              "    <tr style=\"text-align: right;\">\n",
              "      <th></th>\n",
              "      <th>Serum &gt; 2.1500000000000004</th>\n",
              "      <th>Total</th>\n",
              "      <th>Fallece = 1</th>\n",
              "      <th>Fallece = 0</th>\n",
              "      <th>Mean</th>\n",
              "    </tr>\n",
              "  </thead>\n",
              "  <tbody>\n",
              "    <tr>\n",
              "      <th>0</th>\n",
              "      <td>0</td>\n",
              "      <td>270</td>\n",
              "      <td>78</td>\n",
              "      <td>192</td>\n",
              "      <td>0.2889</td>\n",
              "    </tr>\n",
              "    <tr>\n",
              "      <th>1</th>\n",
              "      <td>1</td>\n",
              "      <td>29</td>\n",
              "      <td>18</td>\n",
              "      <td>11</td>\n",
              "      <td>0.6207</td>\n",
              "    </tr>\n",
              "  </tbody>\n",
              "</table>\n",
              "</div>"
            ],
            "text/plain": [
              "   Serum > 2.1500000000000004  Total  Fallece = 1  Fallece = 0    Mean\n",
              "0                           0    270           78          192  0.2889\n",
              "1                           1     29           18           11  0.6207"
            ]
          },
          "metadata": {
            "tags": []
          }
        },
        {
          "output_type": "display_data",
          "data": {
            "text/html": [
              "<div>\n",
              "<style scoped>\n",
              "    .dataframe tbody tr th:only-of-type {\n",
              "        vertical-align: middle;\n",
              "    }\n",
              "\n",
              "    .dataframe tbody tr th {\n",
              "        vertical-align: top;\n",
              "    }\n",
              "\n",
              "    .dataframe thead th {\n",
              "        text-align: right;\n",
              "    }\n",
              "</style>\n",
              "<table border=\"1\" class=\"dataframe\">\n",
              "  <thead>\n",
              "    <tr style=\"text-align: right;\">\n",
              "      <th></th>\n",
              "      <th>Serum &gt; 2.25</th>\n",
              "      <th>Total</th>\n",
              "      <th>Fallece = 1</th>\n",
              "      <th>Fallece = 0</th>\n",
              "      <th>Mean</th>\n",
              "    </tr>\n",
              "  </thead>\n",
              "  <tbody>\n",
              "    <tr>\n",
              "      <th>0</th>\n",
              "      <td>0</td>\n",
              "      <td>271</td>\n",
              "      <td>79</td>\n",
              "      <td>192</td>\n",
              "      <td>0.2915</td>\n",
              "    </tr>\n",
              "    <tr>\n",
              "      <th>1</th>\n",
              "      <td>1</td>\n",
              "      <td>28</td>\n",
              "      <td>17</td>\n",
              "      <td>11</td>\n",
              "      <td>0.6071</td>\n",
              "    </tr>\n",
              "  </tbody>\n",
              "</table>\n",
              "</div>"
            ],
            "text/plain": [
              "   Serum > 2.25  Total  Fallece = 1  Fallece = 0    Mean\n",
              "0             0    271           79          192  0.2915\n",
              "1             1     28           17           11  0.6071"
            ]
          },
          "metadata": {
            "tags": []
          }
        },
        {
          "output_type": "display_data",
          "data": {
            "text/html": [
              "<div>\n",
              "<style scoped>\n",
              "    .dataframe tbody tr th:only-of-type {\n",
              "        vertical-align: middle;\n",
              "    }\n",
              "\n",
              "    .dataframe tbody tr th {\n",
              "        vertical-align: top;\n",
              "    }\n",
              "\n",
              "    .dataframe thead th {\n",
              "        text-align: right;\n",
              "    }\n",
              "</style>\n",
              "<table border=\"1\" class=\"dataframe\">\n",
              "  <thead>\n",
              "    <tr style=\"text-align: right;\">\n",
              "      <th></th>\n",
              "      <th>Serum &gt; 2.3499999999999996</th>\n",
              "      <th>Total</th>\n",
              "      <th>Fallece = 1</th>\n",
              "      <th>Fallece = 0</th>\n",
              "      <th>Mean</th>\n",
              "    </tr>\n",
              "  </thead>\n",
              "  <tbody>\n",
              "    <tr>\n",
              "      <th>0</th>\n",
              "      <td>0</td>\n",
              "      <td>274</td>\n",
              "      <td>80</td>\n",
              "      <td>194</td>\n",
              "      <td>0.292</td>\n",
              "    </tr>\n",
              "    <tr>\n",
              "      <th>1</th>\n",
              "      <td>1</td>\n",
              "      <td>25</td>\n",
              "      <td>16</td>\n",
              "      <td>9</td>\n",
              "      <td>0.640</td>\n",
              "    </tr>\n",
              "  </tbody>\n",
              "</table>\n",
              "</div>"
            ],
            "text/plain": [
              "   Serum > 2.3499999999999996  Total  Fallece = 1  Fallece = 0   Mean\n",
              "0                           0    274           80          194  0.292\n",
              "1                           1     25           16            9  0.640"
            ]
          },
          "metadata": {
            "tags": []
          }
        },
        {
          "output_type": "display_data",
          "data": {
            "text/html": [
              "<div>\n",
              "<style scoped>\n",
              "    .dataframe tbody tr th:only-of-type {\n",
              "        vertical-align: middle;\n",
              "    }\n",
              "\n",
              "    .dataframe tbody tr th {\n",
              "        vertical-align: top;\n",
              "    }\n",
              "\n",
              "    .dataframe thead th {\n",
              "        text-align: right;\n",
              "    }\n",
              "</style>\n",
              "<table border=\"1\" class=\"dataframe\">\n",
              "  <thead>\n",
              "    <tr style=\"text-align: right;\">\n",
              "      <th></th>\n",
              "      <th>Serum &gt; 2.45</th>\n",
              "      <th>Total</th>\n",
              "      <th>Fallece = 1</th>\n",
              "      <th>Fallece = 0</th>\n",
              "      <th>Mean</th>\n",
              "    </tr>\n",
              "  </thead>\n",
              "  <tbody>\n",
              "    <tr>\n",
              "      <th>0</th>\n",
              "      <td>0</td>\n",
              "      <td>276</td>\n",
              "      <td>81</td>\n",
              "      <td>195</td>\n",
              "      <td>0.2935</td>\n",
              "    </tr>\n",
              "    <tr>\n",
              "      <th>1</th>\n",
              "      <td>1</td>\n",
              "      <td>23</td>\n",
              "      <td>15</td>\n",
              "      <td>8</td>\n",
              "      <td>0.6522</td>\n",
              "    </tr>\n",
              "  </tbody>\n",
              "</table>\n",
              "</div>"
            ],
            "text/plain": [
              "   Serum > 2.45  Total  Fallece = 1  Fallece = 0    Mean\n",
              "0             0    276           81          195  0.2935\n",
              "1             1     23           15            8  0.6522"
            ]
          },
          "metadata": {
            "tags": []
          }
        },
        {
          "output_type": "display_data",
          "data": {
            "text/html": [
              "<div>\n",
              "<style scoped>\n",
              "    .dataframe tbody tr th:only-of-type {\n",
              "        vertical-align: middle;\n",
              "    }\n",
              "\n",
              "    .dataframe tbody tr th {\n",
              "        vertical-align: top;\n",
              "    }\n",
              "\n",
              "    .dataframe thead th {\n",
              "        text-align: right;\n",
              "    }\n",
              "</style>\n",
              "<table border=\"1\" class=\"dataframe\">\n",
              "  <thead>\n",
              "    <tr style=\"text-align: right;\">\n",
              "      <th></th>\n",
              "      <th>Serum &gt; 2.6</th>\n",
              "      <th>Total</th>\n",
              "      <th>Fallece = 1</th>\n",
              "      <th>Fallece = 0</th>\n",
              "      <th>Mean</th>\n",
              "    </tr>\n",
              "  </thead>\n",
              "  <tbody>\n",
              "    <tr>\n",
              "      <th>0</th>\n",
              "      <td>0</td>\n",
              "      <td>279</td>\n",
              "      <td>84</td>\n",
              "      <td>195</td>\n",
              "      <td>0.3011</td>\n",
              "    </tr>\n",
              "    <tr>\n",
              "      <th>1</th>\n",
              "      <td>1</td>\n",
              "      <td>20</td>\n",
              "      <td>12</td>\n",
              "      <td>8</td>\n",
              "      <td>0.6000</td>\n",
              "    </tr>\n",
              "  </tbody>\n",
              "</table>\n",
              "</div>"
            ],
            "text/plain": [
              "   Serum > 2.6  Total  Fallece = 1  Fallece = 0    Mean\n",
              "0            0    279           84          195  0.3011\n",
              "1            1     20           12            8  0.6000"
            ]
          },
          "metadata": {
            "tags": []
          }
        },
        {
          "output_type": "display_data",
          "data": {
            "text/html": [
              "<div>\n",
              "<style scoped>\n",
              "    .dataframe tbody tr th:only-of-type {\n",
              "        vertical-align: middle;\n",
              "    }\n",
              "\n",
              "    .dataframe tbody tr th {\n",
              "        vertical-align: top;\n",
              "    }\n",
              "\n",
              "    .dataframe thead th {\n",
              "        text-align: right;\n",
              "    }\n",
              "</style>\n",
              "<table border=\"1\" class=\"dataframe\">\n",
              "  <thead>\n",
              "    <tr style=\"text-align: right;\">\n",
              "      <th></th>\n",
              "      <th>Serum &gt; 2.8</th>\n",
              "      <th>Total</th>\n",
              "      <th>Fallece = 1</th>\n",
              "      <th>Fallece = 0</th>\n",
              "      <th>Mean</th>\n",
              "    </tr>\n",
              "  </thead>\n",
              "  <tbody>\n",
              "    <tr>\n",
              "      <th>0</th>\n",
              "      <td>0</td>\n",
              "      <td>282</td>\n",
              "      <td>85</td>\n",
              "      <td>197</td>\n",
              "      <td>0.3014</td>\n",
              "    </tr>\n",
              "    <tr>\n",
              "      <th>1</th>\n",
              "      <td>1</td>\n",
              "      <td>17</td>\n",
              "      <td>11</td>\n",
              "      <td>6</td>\n",
              "      <td>0.6471</td>\n",
              "    </tr>\n",
              "  </tbody>\n",
              "</table>\n",
              "</div>"
            ],
            "text/plain": [
              "   Serum > 2.8  Total  Fallece = 1  Fallece = 0    Mean\n",
              "0            0    282           85          197  0.3014\n",
              "1            1     17           11            6  0.6471"
            ]
          },
          "metadata": {
            "tags": []
          }
        },
        {
          "output_type": "display_data",
          "data": {
            "text/html": [
              "<div>\n",
              "<style scoped>\n",
              "    .dataframe tbody tr th:only-of-type {\n",
              "        vertical-align: middle;\n",
              "    }\n",
              "\n",
              "    .dataframe tbody tr th {\n",
              "        vertical-align: top;\n",
              "    }\n",
              "\n",
              "    .dataframe thead th {\n",
              "        text-align: right;\n",
              "    }\n",
              "</style>\n",
              "<table border=\"1\" class=\"dataframe\">\n",
              "  <thead>\n",
              "    <tr style=\"text-align: right;\">\n",
              "      <th></th>\n",
              "      <th>Serum &gt; 2.95</th>\n",
              "      <th>Total</th>\n",
              "      <th>Fallece = 1</th>\n",
              "      <th>Fallece = 0</th>\n",
              "      <th>Mean</th>\n",
              "    </tr>\n",
              "  </thead>\n",
              "  <tbody>\n",
              "    <tr>\n",
              "      <th>0</th>\n",
              "      <td>0</td>\n",
              "      <td>283</td>\n",
              "      <td>86</td>\n",
              "      <td>197</td>\n",
              "      <td>0.3039</td>\n",
              "    </tr>\n",
              "    <tr>\n",
              "      <th>1</th>\n",
              "      <td>1</td>\n",
              "      <td>16</td>\n",
              "      <td>10</td>\n",
              "      <td>6</td>\n",
              "      <td>0.6250</td>\n",
              "    </tr>\n",
              "  </tbody>\n",
              "</table>\n",
              "</div>"
            ],
            "text/plain": [
              "   Serum > 2.95  Total  Fallece = 1  Fallece = 0    Mean\n",
              "0             0    283           86          197  0.3039\n",
              "1             1     16           10            6  0.6250"
            ]
          },
          "metadata": {
            "tags": []
          }
        },
        {
          "output_type": "display_data",
          "data": {
            "text/html": [
              "<div>\n",
              "<style scoped>\n",
              "    .dataframe tbody tr th:only-of-type {\n",
              "        vertical-align: middle;\n",
              "    }\n",
              "\n",
              "    .dataframe tbody tr th {\n",
              "        vertical-align: top;\n",
              "    }\n",
              "\n",
              "    .dataframe thead th {\n",
              "        text-align: right;\n",
              "    }\n",
              "</style>\n",
              "<table border=\"1\" class=\"dataframe\">\n",
              "  <thead>\n",
              "    <tr style=\"text-align: right;\">\n",
              "      <th></th>\n",
              "      <th>Serum &gt; 3.1</th>\n",
              "      <th>Total</th>\n",
              "      <th>Fallece = 1</th>\n",
              "      <th>Fallece = 0</th>\n",
              "      <th>Mean</th>\n",
              "    </tr>\n",
              "  </thead>\n",
              "  <tbody>\n",
              "    <tr>\n",
              "      <th>0</th>\n",
              "      <td>0</td>\n",
              "      <td>285</td>\n",
              "      <td>88</td>\n",
              "      <td>197</td>\n",
              "      <td>0.3088</td>\n",
              "    </tr>\n",
              "    <tr>\n",
              "      <th>1</th>\n",
              "      <td>1</td>\n",
              "      <td>14</td>\n",
              "      <td>8</td>\n",
              "      <td>6</td>\n",
              "      <td>0.5714</td>\n",
              "    </tr>\n",
              "  </tbody>\n",
              "</table>\n",
              "</div>"
            ],
            "text/plain": [
              "   Serum > 3.1  Total  Fallece = 1  Fallece = 0    Mean\n",
              "0            0    285           88          197  0.3088\n",
              "1            1     14            8            6  0.5714"
            ]
          },
          "metadata": {
            "tags": []
          }
        },
        {
          "output_type": "display_data",
          "data": {
            "text/html": [
              "<div>\n",
              "<style scoped>\n",
              "    .dataframe tbody tr th:only-of-type {\n",
              "        vertical-align: middle;\n",
              "    }\n",
              "\n",
              "    .dataframe tbody tr th {\n",
              "        vertical-align: top;\n",
              "    }\n",
              "\n",
              "    .dataframe thead th {\n",
              "        text-align: right;\n",
              "    }\n",
              "</style>\n",
              "<table border=\"1\" class=\"dataframe\">\n",
              "  <thead>\n",
              "    <tr style=\"text-align: right;\">\n",
              "      <th></th>\n",
              "      <th>Serum &gt; 3.3</th>\n",
              "      <th>Total</th>\n",
              "      <th>Fallece = 1</th>\n",
              "      <th>Fallece = 0</th>\n",
              "      <th>Mean</th>\n",
              "    </tr>\n",
              "  </thead>\n",
              "  <tbody>\n",
              "    <tr>\n",
              "      <th>0</th>\n",
              "      <td>0</td>\n",
              "      <td>286</td>\n",
              "      <td>88</td>\n",
              "      <td>198</td>\n",
              "      <td>0.3077</td>\n",
              "    </tr>\n",
              "    <tr>\n",
              "      <th>1</th>\n",
              "      <td>1</td>\n",
              "      <td>13</td>\n",
              "      <td>8</td>\n",
              "      <td>5</td>\n",
              "      <td>0.6154</td>\n",
              "    </tr>\n",
              "  </tbody>\n",
              "</table>\n",
              "</div>"
            ],
            "text/plain": [
              "   Serum > 3.3  Total  Fallece = 1  Fallece = 0    Mean\n",
              "0            0    286           88          198  0.3077\n",
              "1            1     13            8            5  0.6154"
            ]
          },
          "metadata": {
            "tags": []
          }
        },
        {
          "output_type": "display_data",
          "data": {
            "text/html": [
              "<div>\n",
              "<style scoped>\n",
              "    .dataframe tbody tr th:only-of-type {\n",
              "        vertical-align: middle;\n",
              "    }\n",
              "\n",
              "    .dataframe tbody tr th {\n",
              "        vertical-align: top;\n",
              "    }\n",
              "\n",
              "    .dataframe thead th {\n",
              "        text-align: right;\n",
              "    }\n",
              "</style>\n",
              "<table border=\"1\" class=\"dataframe\">\n",
              "  <thead>\n",
              "    <tr style=\"text-align: right;\">\n",
              "      <th></th>\n",
              "      <th>Serum &gt; 3.45</th>\n",
              "      <th>Total</th>\n",
              "      <th>Fallece = 1</th>\n",
              "      <th>Fallece = 0</th>\n",
              "      <th>Mean</th>\n",
              "    </tr>\n",
              "  </thead>\n",
              "  <tbody>\n",
              "    <tr>\n",
              "      <th>0</th>\n",
              "      <td>0</td>\n",
              "      <td>287</td>\n",
              "      <td>88</td>\n",
              "      <td>199</td>\n",
              "      <td>0.3066</td>\n",
              "    </tr>\n",
              "    <tr>\n",
              "      <th>1</th>\n",
              "      <td>1</td>\n",
              "      <td>12</td>\n",
              "      <td>8</td>\n",
              "      <td>4</td>\n",
              "      <td>0.6667</td>\n",
              "    </tr>\n",
              "  </tbody>\n",
              "</table>\n",
              "</div>"
            ],
            "text/plain": [
              "   Serum > 3.45  Total  Fallece = 1  Fallece = 0    Mean\n",
              "0             0    287           88          199  0.3066\n",
              "1             1     12            8            4  0.6667"
            ]
          },
          "metadata": {
            "tags": []
          }
        },
        {
          "output_type": "display_data",
          "data": {
            "text/html": [
              "<div>\n",
              "<style scoped>\n",
              "    .dataframe tbody tr th:only-of-type {\n",
              "        vertical-align: middle;\n",
              "    }\n",
              "\n",
              "    .dataframe tbody tr th {\n",
              "        vertical-align: top;\n",
              "    }\n",
              "\n",
              "    .dataframe thead th {\n",
              "        text-align: right;\n",
              "    }\n",
              "</style>\n",
              "<table border=\"1\" class=\"dataframe\">\n",
              "  <thead>\n",
              "    <tr style=\"text-align: right;\">\n",
              "      <th></th>\n",
              "      <th>Serum &gt; 3.6</th>\n",
              "      <th>Total</th>\n",
              "      <th>Fallece = 1</th>\n",
              "      <th>Fallece = 0</th>\n",
              "      <th>Mean</th>\n",
              "    </tr>\n",
              "  </thead>\n",
              "  <tbody>\n",
              "    <tr>\n",
              "      <th>0</th>\n",
              "      <td>0</td>\n",
              "      <td>289</td>\n",
              "      <td>89</td>\n",
              "      <td>200</td>\n",
              "      <td>0.308</td>\n",
              "    </tr>\n",
              "    <tr>\n",
              "      <th>1</th>\n",
              "      <td>1</td>\n",
              "      <td>10</td>\n",
              "      <td>7</td>\n",
              "      <td>3</td>\n",
              "      <td>0.700</td>\n",
              "    </tr>\n",
              "  </tbody>\n",
              "</table>\n",
              "</div>"
            ],
            "text/plain": [
              "   Serum > 3.6  Total  Fallece = 1  Fallece = 0   Mean\n",
              "0            0    289           89          200  0.308\n",
              "1            1     10            7            3  0.700"
            ]
          },
          "metadata": {
            "tags": []
          }
        },
        {
          "output_type": "display_data",
          "data": {
            "text/html": [
              "<div>\n",
              "<style scoped>\n",
              "    .dataframe tbody tr th:only-of-type {\n",
              "        vertical-align: middle;\n",
              "    }\n",
              "\n",
              "    .dataframe tbody tr th {\n",
              "        vertical-align: top;\n",
              "    }\n",
              "\n",
              "    .dataframe thead th {\n",
              "        text-align: right;\n",
              "    }\n",
              "</style>\n",
              "<table border=\"1\" class=\"dataframe\">\n",
              "  <thead>\n",
              "    <tr style=\"text-align: right;\">\n",
              "      <th></th>\n",
              "      <th>Serum &gt; 3.75</th>\n",
              "      <th>Total</th>\n",
              "      <th>Fallece = 1</th>\n",
              "      <th>Fallece = 0</th>\n",
              "      <th>Mean</th>\n",
              "    </tr>\n",
              "  </thead>\n",
              "  <tbody>\n",
              "    <tr>\n",
              "      <th>0</th>\n",
              "      <td>0</td>\n",
              "      <td>290</td>\n",
              "      <td>90</td>\n",
              "      <td>200</td>\n",
              "      <td>0.3103</td>\n",
              "    </tr>\n",
              "    <tr>\n",
              "      <th>1</th>\n",
              "      <td>1</td>\n",
              "      <td>9</td>\n",
              "      <td>6</td>\n",
              "      <td>3</td>\n",
              "      <td>0.6667</td>\n",
              "    </tr>\n",
              "  </tbody>\n",
              "</table>\n",
              "</div>"
            ],
            "text/plain": [
              "   Serum > 3.75  Total  Fallece = 1  Fallece = 0    Mean\n",
              "0             0    290           90          200  0.3103\n",
              "1             1      9            6            3  0.6667"
            ]
          },
          "metadata": {
            "tags": []
          }
        },
        {
          "output_type": "display_data",
          "data": {
            "text/html": [
              "<div>\n",
              "<style scoped>\n",
              "    .dataframe tbody tr th:only-of-type {\n",
              "        vertical-align: middle;\n",
              "    }\n",
              "\n",
              "    .dataframe tbody tr th {\n",
              "        vertical-align: top;\n",
              "    }\n",
              "\n",
              "    .dataframe thead th {\n",
              "        text-align: right;\n",
              "    }\n",
              "</style>\n",
              "<table border=\"1\" class=\"dataframe\">\n",
              "  <thead>\n",
              "    <tr style=\"text-align: right;\">\n",
              "      <th></th>\n",
              "      <th>Serum &gt; 3.9</th>\n",
              "      <th>Total</th>\n",
              "      <th>Fallece = 1</th>\n",
              "      <th>Fallece = 0</th>\n",
              "      <th>Mean</th>\n",
              "    </tr>\n",
              "  </thead>\n",
              "  <tbody>\n",
              "    <tr>\n",
              "      <th>0</th>\n",
              "      <td>0</td>\n",
              "      <td>291</td>\n",
              "      <td>90</td>\n",
              "      <td>201</td>\n",
              "      <td>0.3093</td>\n",
              "    </tr>\n",
              "    <tr>\n",
              "      <th>1</th>\n",
              "      <td>1</td>\n",
              "      <td>8</td>\n",
              "      <td>6</td>\n",
              "      <td>2</td>\n",
              "      <td>0.7500</td>\n",
              "    </tr>\n",
              "  </tbody>\n",
              "</table>\n",
              "</div>"
            ],
            "text/plain": [
              "   Serum > 3.9  Total  Fallece = 1  Fallece = 0    Mean\n",
              "0            0    291           90          201  0.3093\n",
              "1            1      8            6            2  0.7500"
            ]
          },
          "metadata": {
            "tags": []
          }
        },
        {
          "output_type": "display_data",
          "data": {
            "text/html": [
              "<div>\n",
              "<style scoped>\n",
              "    .dataframe tbody tr th:only-of-type {\n",
              "        vertical-align: middle;\n",
              "    }\n",
              "\n",
              "    .dataframe tbody tr th {\n",
              "        vertical-align: top;\n",
              "    }\n",
              "\n",
              "    .dataframe thead th {\n",
              "        text-align: right;\n",
              "    }\n",
              "</style>\n",
              "<table border=\"1\" class=\"dataframe\">\n",
              "  <thead>\n",
              "    <tr style=\"text-align: right;\">\n",
              "      <th></th>\n",
              "      <th>Serum &gt; 4.2</th>\n",
              "      <th>Total</th>\n",
              "      <th>Fallece = 1</th>\n",
              "      <th>Fallece = 0</th>\n",
              "      <th>Mean</th>\n",
              "    </tr>\n",
              "  </thead>\n",
              "  <tbody>\n",
              "    <tr>\n",
              "      <th>0</th>\n",
              "      <td>0</td>\n",
              "      <td>292</td>\n",
              "      <td>91</td>\n",
              "      <td>201</td>\n",
              "      <td>0.3116</td>\n",
              "    </tr>\n",
              "    <tr>\n",
              "      <th>1</th>\n",
              "      <td>1</td>\n",
              "      <td>7</td>\n",
              "      <td>5</td>\n",
              "      <td>2</td>\n",
              "      <td>0.7143</td>\n",
              "    </tr>\n",
              "  </tbody>\n",
              "</table>\n",
              "</div>"
            ],
            "text/plain": [
              "   Serum > 4.2  Total  Fallece = 1  Fallece = 0    Mean\n",
              "0            0    292           91          201  0.3116\n",
              "1            1      7            5            2  0.7143"
            ]
          },
          "metadata": {
            "tags": []
          }
        },
        {
          "output_type": "display_data",
          "data": {
            "text/html": [
              "<div>\n",
              "<style scoped>\n",
              "    .dataframe tbody tr th:only-of-type {\n",
              "        vertical-align: middle;\n",
              "    }\n",
              "\n",
              "    .dataframe tbody tr th {\n",
              "        vertical-align: top;\n",
              "    }\n",
              "\n",
              "    .dataframe thead th {\n",
              "        text-align: right;\n",
              "    }\n",
              "</style>\n",
              "<table border=\"1\" class=\"dataframe\">\n",
              "  <thead>\n",
              "    <tr style=\"text-align: right;\">\n",
              "      <th></th>\n",
              "      <th>Serum &gt; 4.7</th>\n",
              "      <th>Total</th>\n",
              "      <th>Fallece = 1</th>\n",
              "      <th>Fallece = 0</th>\n",
              "      <th>Mean</th>\n",
              "    </tr>\n",
              "  </thead>\n",
              "  <tbody>\n",
              "    <tr>\n",
              "      <th>0</th>\n",
              "      <td>0</td>\n",
              "      <td>293</td>\n",
              "      <td>92</td>\n",
              "      <td>201</td>\n",
              "      <td>0.3140</td>\n",
              "    </tr>\n",
              "    <tr>\n",
              "      <th>1</th>\n",
              "      <td>1</td>\n",
              "      <td>6</td>\n",
              "      <td>4</td>\n",
              "      <td>2</td>\n",
              "      <td>0.6667</td>\n",
              "    </tr>\n",
              "  </tbody>\n",
              "</table>\n",
              "</div>"
            ],
            "text/plain": [
              "   Serum > 4.7  Total  Fallece = 1  Fallece = 0    Mean\n",
              "0            0    293           92          201  0.3140\n",
              "1            1      6            4            2  0.6667"
            ]
          },
          "metadata": {
            "tags": []
          }
        },
        {
          "output_type": "display_data",
          "data": {
            "text/html": [
              "<div>\n",
              "<style scoped>\n",
              "    .dataframe tbody tr th:only-of-type {\n",
              "        vertical-align: middle;\n",
              "    }\n",
              "\n",
              "    .dataframe tbody tr th {\n",
              "        vertical-align: top;\n",
              "    }\n",
              "\n",
              "    .dataframe thead th {\n",
              "        text-align: right;\n",
              "    }\n",
              "</style>\n",
              "<table border=\"1\" class=\"dataframe\">\n",
              "  <thead>\n",
              "    <tr style=\"text-align: right;\">\n",
              "      <th></th>\n",
              "      <th>Serum &gt; 5.4</th>\n",
              "      <th>Total</th>\n",
              "      <th>Fallece = 1</th>\n",
              "      <th>Fallece = 0</th>\n",
              "      <th>Mean</th>\n",
              "    </tr>\n",
              "  </thead>\n",
              "  <tbody>\n",
              "    <tr>\n",
              "      <th>0</th>\n",
              "      <td>0</td>\n",
              "      <td>294</td>\n",
              "      <td>92</td>\n",
              "      <td>202</td>\n",
              "      <td>0.3129</td>\n",
              "    </tr>\n",
              "    <tr>\n",
              "      <th>1</th>\n",
              "      <td>1</td>\n",
              "      <td>5</td>\n",
              "      <td>4</td>\n",
              "      <td>1</td>\n",
              "      <td>0.8000</td>\n",
              "    </tr>\n",
              "  </tbody>\n",
              "</table>\n",
              "</div>"
            ],
            "text/plain": [
              "   Serum > 5.4  Total  Fallece = 1  Fallece = 0    Mean\n",
              "0            0    294           92          202  0.3129\n",
              "1            1      5            4            1  0.8000"
            ]
          },
          "metadata": {
            "tags": []
          }
        },
        {
          "output_type": "display_data",
          "data": {
            "text/html": [
              "<div>\n",
              "<style scoped>\n",
              "    .dataframe tbody tr th:only-of-type {\n",
              "        vertical-align: middle;\n",
              "    }\n",
              "\n",
              "    .dataframe tbody tr th {\n",
              "        vertical-align: top;\n",
              "    }\n",
              "\n",
              "    .dataframe thead th {\n",
              "        text-align: right;\n",
              "    }\n",
              "</style>\n",
              "<table border=\"1\" class=\"dataframe\">\n",
              "  <thead>\n",
              "    <tr style=\"text-align: right;\">\n",
              "      <th></th>\n",
              "      <th>Serum &gt; 5.949999999999999</th>\n",
              "      <th>Total</th>\n",
              "      <th>Fallece = 1</th>\n",
              "      <th>Fallece = 0</th>\n",
              "      <th>Mean</th>\n",
              "    </tr>\n",
              "  </thead>\n",
              "  <tbody>\n",
              "    <tr>\n",
              "      <th>0</th>\n",
              "      <td>0</td>\n",
              "      <td>295</td>\n",
              "      <td>93</td>\n",
              "      <td>202</td>\n",
              "      <td>0.3153</td>\n",
              "    </tr>\n",
              "    <tr>\n",
              "      <th>1</th>\n",
              "      <td>1</td>\n",
              "      <td>4</td>\n",
              "      <td>3</td>\n",
              "      <td>1</td>\n",
              "      <td>0.7500</td>\n",
              "    </tr>\n",
              "  </tbody>\n",
              "</table>\n",
              "</div>"
            ],
            "text/plain": [
              "   Serum > 5.949999999999999  Total  Fallece = 1  Fallece = 0    Mean\n",
              "0                          0    295           93          202  0.3153\n",
              "1                          1      4            3            1  0.7500"
            ]
          },
          "metadata": {
            "tags": []
          }
        },
        {
          "output_type": "display_data",
          "data": {
            "text/html": [
              "<div>\n",
              "<style scoped>\n",
              "    .dataframe tbody tr th:only-of-type {\n",
              "        vertical-align: middle;\n",
              "    }\n",
              "\n",
              "    .dataframe tbody tr th {\n",
              "        vertical-align: top;\n",
              "    }\n",
              "\n",
              "    .dataframe thead th {\n",
              "        text-align: right;\n",
              "    }\n",
              "</style>\n",
              "<table border=\"1\" class=\"dataframe\">\n",
              "  <thead>\n",
              "    <tr style=\"text-align: right;\">\n",
              "      <th></th>\n",
              "      <th>Serum &gt; 6.449999999999999</th>\n",
              "      <th>Total</th>\n",
              "      <th>Fallece = 1</th>\n",
              "      <th>Fallece = 0</th>\n",
              "      <th>Mean</th>\n",
              "    </tr>\n",
              "  </thead>\n",
              "  <tbody>\n",
              "    <tr>\n",
              "      <th>0</th>\n",
              "      <td>0</td>\n",
              "      <td>296</td>\n",
              "      <td>93</td>\n",
              "      <td>203</td>\n",
              "      <td>0.3142</td>\n",
              "    </tr>\n",
              "    <tr>\n",
              "      <th>1</th>\n",
              "      <td>1</td>\n",
              "      <td>3</td>\n",
              "      <td>3</td>\n",
              "      <td>0</td>\n",
              "      <td>1.0000</td>\n",
              "    </tr>\n",
              "  </tbody>\n",
              "</table>\n",
              "</div>"
            ],
            "text/plain": [
              "   Serum > 6.449999999999999  Total  Fallece = 1  Fallece = 0    Mean\n",
              "0                          0    296           93          203  0.3142\n",
              "1                          1      3            3            0  1.0000"
            ]
          },
          "metadata": {
            "tags": []
          }
        },
        {
          "output_type": "display_data",
          "data": {
            "text/html": [
              "<div>\n",
              "<style scoped>\n",
              "    .dataframe tbody tr th:only-of-type {\n",
              "        vertical-align: middle;\n",
              "    }\n",
              "\n",
              "    .dataframe tbody tr th {\n",
              "        vertical-align: top;\n",
              "    }\n",
              "\n",
              "    .dataframe thead th {\n",
              "        text-align: right;\n",
              "    }\n",
              "</style>\n",
              "<table border=\"1\" class=\"dataframe\">\n",
              "  <thead>\n",
              "    <tr style=\"text-align: right;\">\n",
              "      <th></th>\n",
              "      <th>Serum &gt; 7.9</th>\n",
              "      <th>Total</th>\n",
              "      <th>Fallece = 1</th>\n",
              "      <th>Fallece = 0</th>\n",
              "      <th>Mean</th>\n",
              "    </tr>\n",
              "  </thead>\n",
              "  <tbody>\n",
              "    <tr>\n",
              "      <th>0</th>\n",
              "      <td>0</td>\n",
              "      <td>297</td>\n",
              "      <td>94</td>\n",
              "      <td>203</td>\n",
              "      <td>0.3165</td>\n",
              "    </tr>\n",
              "    <tr>\n",
              "      <th>1</th>\n",
              "      <td>1</td>\n",
              "      <td>2</td>\n",
              "      <td>2</td>\n",
              "      <td>0</td>\n",
              "      <td>1.0000</td>\n",
              "    </tr>\n",
              "  </tbody>\n",
              "</table>\n",
              "</div>"
            ],
            "text/plain": [
              "   Serum > 7.9  Total  Fallece = 1  Fallece = 0    Mean\n",
              "0            0    297           94          203  0.3165\n",
              "1            1      2            2            0  1.0000"
            ]
          },
          "metadata": {
            "tags": []
          }
        },
        {
          "output_type": "display_data",
          "data": {
            "text/html": [
              "<div>\n",
              "<style scoped>\n",
              "    .dataframe tbody tr th:only-of-type {\n",
              "        vertical-align: middle;\n",
              "    }\n",
              "\n",
              "    .dataframe tbody tr th {\n",
              "        vertical-align: top;\n",
              "    }\n",
              "\n",
              "    .dataframe thead th {\n",
              "        text-align: right;\n",
              "    }\n",
              "</style>\n",
              "<table border=\"1\" class=\"dataframe\">\n",
              "  <thead>\n",
              "    <tr style=\"text-align: right;\">\n",
              "      <th></th>\n",
              "      <th>Serum &gt; 9.2</th>\n",
              "      <th>Total</th>\n",
              "      <th>Fallece = 1</th>\n",
              "      <th>Fallece = 0</th>\n",
              "      <th>Mean</th>\n",
              "    </tr>\n",
              "  </thead>\n",
              "  <tbody>\n",
              "    <tr>\n",
              "      <th>0</th>\n",
              "      <td>0</td>\n",
              "      <td>298</td>\n",
              "      <td>95</td>\n",
              "      <td>203</td>\n",
              "      <td>0.3188</td>\n",
              "    </tr>\n",
              "    <tr>\n",
              "      <th>1</th>\n",
              "      <td>1</td>\n",
              "      <td>1</td>\n",
              "      <td>1</td>\n",
              "      <td>0</td>\n",
              "      <td>1.0000</td>\n",
              "    </tr>\n",
              "  </tbody>\n",
              "</table>\n",
              "</div>"
            ],
            "text/plain": [
              "   Serum > 9.2  Total  Fallece = 1  Fallece = 0    Mean\n",
              "0            0    298           95          203  0.3188\n",
              "1            1      1            1            0  1.0000"
            ]
          },
          "metadata": {
            "tags": []
          }
        }
      ]
    },
    {
      "cell_type": "markdown",
      "metadata": {
        "id": "TL2RbI9Qj529"
      },
      "source": [
        "### 030103 Impureza de Gini\r\n",
        "Calculamos la impureza de Gini de cada una de las particiones."
      ]
    },
    {
      "cell_type": "code",
      "metadata": {
        "id": "_03aMUMNXRuf"
      },
      "source": [
        "# Generemos una función que añade la columna Gini\r\n",
        "def gini(df_i):\r\n",
        "  df_i['Gini'] = 1 - df_i['Mean']**2 - (1-df_i['Mean'])**2\r\n",
        "  df_i['Gini Media Pond'] = np.round(\r\n",
        "      (df_i['Gini'][0]*df_i['Total'][0] + \r\n",
        "       df_i['Gini'][1]*df_i['Total'][1])/\r\n",
        "       (df_i['Total'][0]+df_i['Total'][1]),\r\n",
        "       4)\r\n",
        "  return df_i"
      ],
      "execution_count": 21,
      "outputs": []
    },
    {
      "cell_type": "code",
      "metadata": {
        "colab": {
          "base_uri": "https://localhost:8080/",
          "height": 111
        },
        "id": "3Jr0TOXr99su",
        "outputId": "8033789e-c49c-4abe-fbf5-d0c789234bbc"
      },
      "source": [
        "gini(df_i)"
      ],
      "execution_count": 22,
      "outputs": [
        {
          "output_type": "execute_result",
          "data": {
            "text/html": [
              "<div>\n",
              "<style scoped>\n",
              "    .dataframe tbody tr th:only-of-type {\n",
              "        vertical-align: middle;\n",
              "    }\n",
              "\n",
              "    .dataframe tbody tr th {\n",
              "        vertical-align: top;\n",
              "    }\n",
              "\n",
              "    .dataframe thead th {\n",
              "        text-align: right;\n",
              "    }\n",
              "</style>\n",
              "<table border=\"1\" class=\"dataframe\">\n",
              "  <thead>\n",
              "    <tr style=\"text-align: right;\">\n",
              "      <th></th>\n",
              "      <th>Edad &gt; 94.5</th>\n",
              "      <th>Total</th>\n",
              "      <th>Fallece = 1</th>\n",
              "      <th>Fallece = 0</th>\n",
              "      <th>Mean</th>\n",
              "      <th>Gini</th>\n",
              "      <th>Gini Media Pond</th>\n",
              "    </tr>\n",
              "  </thead>\n",
              "  <tbody>\n",
              "    <tr>\n",
              "      <th>0</th>\n",
              "      <td>0</td>\n",
              "      <td>297</td>\n",
              "      <td>94</td>\n",
              "      <td>203</td>\n",
              "      <td>0.3165</td>\n",
              "      <td>0.432656</td>\n",
              "      <td>0.4298</td>\n",
              "    </tr>\n",
              "    <tr>\n",
              "      <th>1</th>\n",
              "      <td>1</td>\n",
              "      <td>2</td>\n",
              "      <td>2</td>\n",
              "      <td>0</td>\n",
              "      <td>1.0000</td>\n",
              "      <td>0.000000</td>\n",
              "      <td>0.4298</td>\n",
              "    </tr>\n",
              "  </tbody>\n",
              "</table>\n",
              "</div>"
            ],
            "text/plain": [
              "   Edad > 94.5  Total  Fallece = 1  ...    Mean      Gini  Gini Media Pond\n",
              "0            0    297           94  ...  0.3165  0.432656           0.4298\n",
              "1            1      2            2  ...  1.0000  0.000000           0.4298\n",
              "\n",
              "[2 rows x 7 columns]"
            ]
          },
          "metadata": {
            "tags": []
          },
          "execution_count": 22
        }
      ]
    },
    {
      "cell_type": "markdown",
      "metadata": {
        "id": "Q8ikWtDi-TGJ"
      },
      "source": [
        "#### EJERCICIO\r\n",
        "Modifica la función particion_categorica para incorporar el Gini como medida de impureza al resultado."
      ]
    },
    {
      "cell_type": "code",
      "metadata": {
        "id": "6FXi71rjksOs"
      },
      "source": [
        "def particion_categorica(df, target, var_discreta):\r\n",
        "  \"\"\"\r\n",
        "  Genera un dataframe con información sobre la partición utilizando la variable\r\n",
        "  discreta binaria aportada, incluyendo la medida de impureza con Gini.\r\n",
        "  \"\"\"\r\n",
        "  df_i = df.groupby(var_discreta)[target].agg(['count', 'sum']).reset_index()\r\n",
        "  df_i.columns = [var_discreta, 'Total', target + ' = 1']\r\n",
        "  df_i[target + ' = 0'] = df_i['Total'] - df_i[target + ' = 1']\r\n",
        "  df_i['Mean'] = np.round(df_i[target + ' = 1']/df_i['Total'], 4)\r\n",
        "  return gini(df_i)"
      ],
      "execution_count": 23,
      "outputs": []
    },
    {
      "cell_type": "code",
      "metadata": {
        "colab": {
          "base_uri": "https://localhost:8080/",
          "height": 111
        },
        "id": "63WQR20IBqLk",
        "outputId": "4a284ca4-c25e-4ac3-cad4-897314ea1da6"
      },
      "source": [
        "df_i = particion_categorica(df_resumen, 'Fallece', 'Anemia')\r\n",
        "df_i"
      ],
      "execution_count": 24,
      "outputs": [
        {
          "output_type": "execute_result",
          "data": {
            "text/html": [
              "<div>\n",
              "<style scoped>\n",
              "    .dataframe tbody tr th:only-of-type {\n",
              "        vertical-align: middle;\n",
              "    }\n",
              "\n",
              "    .dataframe tbody tr th {\n",
              "        vertical-align: top;\n",
              "    }\n",
              "\n",
              "    .dataframe thead th {\n",
              "        text-align: right;\n",
              "    }\n",
              "</style>\n",
              "<table border=\"1\" class=\"dataframe\">\n",
              "  <thead>\n",
              "    <tr style=\"text-align: right;\">\n",
              "      <th></th>\n",
              "      <th>Anemia</th>\n",
              "      <th>Total</th>\n",
              "      <th>Fallece = 1</th>\n",
              "      <th>Fallece = 0</th>\n",
              "      <th>Mean</th>\n",
              "      <th>Gini</th>\n",
              "      <th>Gini Media Pond</th>\n",
              "    </tr>\n",
              "  </thead>\n",
              "  <tbody>\n",
              "    <tr>\n",
              "      <th>0</th>\n",
              "      <td>0</td>\n",
              "      <td>170</td>\n",
              "      <td>50</td>\n",
              "      <td>120</td>\n",
              "      <td>0.2941</td>\n",
              "      <td>0.415210</td>\n",
              "      <td>0.434</td>\n",
              "    </tr>\n",
              "    <tr>\n",
              "      <th>1</th>\n",
              "      <td>1</td>\n",
              "      <td>129</td>\n",
              "      <td>46</td>\n",
              "      <td>83</td>\n",
              "      <td>0.3566</td>\n",
              "      <td>0.458873</td>\n",
              "      <td>0.434</td>\n",
              "    </tr>\n",
              "  </tbody>\n",
              "</table>\n",
              "</div>"
            ],
            "text/plain": [
              "   Anemia  Total  Fallece = 1  Fallece = 0    Mean      Gini  Gini Media Pond\n",
              "0       0    170           50          120  0.2941  0.415210            0.434\n",
              "1       1    129           46           83  0.3566  0.458873            0.434"
            ]
          },
          "metadata": {
            "tags": []
          },
          "execution_count": 24
        }
      ]
    },
    {
      "cell_type": "markdown",
      "metadata": {
        "id": "IS2VfTOg_vq2"
      },
      "source": [
        "#### EJERCICIO\r\n",
        "Crea la función mejor_particion_continua que devuelve el árbol con la partición óptima (según el Gini) para una variable continua. "
      ]
    },
    {
      "cell_type": "code",
      "metadata": {
        "id": "qxM8qZIFk7E-"
      },
      "source": [
        "def mejor_particion_continua(df, target, var_continua):\r\n",
        "  \"\"\"\r\n",
        "  Devuelve un dataframe con información sobre la partición ópitma de entre las \r\n",
        "  posibles utilizando la variable continua aportada.\r\n",
        "  \"\"\"\r\n",
        "  valores_edad_unicos_ordenados = df[var_continua].sort_values().unique()\r\n",
        "  valores_particiones = (valores_edad_unicos_ordenados[:-1] + \r\n",
        "                         valores_edad_unicos_ordenados[1:])/2\r\n",
        "  particion_optima = []\r\n",
        "\r\n",
        "  for i, valor in enumerate(valores_particiones):\r\n",
        "    df_i = df.copy(deep=True)\r\n",
        "    filtro_i = df_i[var_continua] > valor\r\n",
        "    df_i[str(var_continua) + ' > ' + str(valor)] = filtro_i.astype(int)\r\n",
        "    df_i = particion_categorica(df_i, \r\n",
        "                                'Fallece', \r\n",
        "                                str(var_continua) + ' > ' + str(valor))\r\n",
        "\r\n",
        "    if i == 0:\r\n",
        "      particion_optima = df_i\r\n",
        "    else:\r\n",
        "      if df_i['Gini Media Pond'][0] < particion_optima['Gini Media Pond'][0]:\r\n",
        "        particion_optima = df_i\r\n",
        "    \r\n",
        "  return particion_optima"
      ],
      "execution_count": 25,
      "outputs": []
    },
    {
      "cell_type": "code",
      "metadata": {
        "colab": {
          "base_uri": "https://localhost:8080/",
          "height": 111
        },
        "id": "svk6dvlGlWus",
        "outputId": "d026f63a-7b86-4c60-ee73-ec9bba3bdcb3"
      },
      "source": [
        "mejor_particion_continua(df_resumen, 'Fallece', 'Edad')"
      ],
      "execution_count": 26,
      "outputs": [
        {
          "output_type": "execute_result",
          "data": {
            "text/html": [
              "<div>\n",
              "<style scoped>\n",
              "    .dataframe tbody tr th:only-of-type {\n",
              "        vertical-align: middle;\n",
              "    }\n",
              "\n",
              "    .dataframe tbody tr th {\n",
              "        vertical-align: top;\n",
              "    }\n",
              "\n",
              "    .dataframe thead th {\n",
              "        text-align: right;\n",
              "    }\n",
              "</style>\n",
              "<table border=\"1\" class=\"dataframe\">\n",
              "  <thead>\n",
              "    <tr style=\"text-align: right;\">\n",
              "      <th></th>\n",
              "      <th>Edad &gt; 71.0</th>\n",
              "      <th>Total</th>\n",
              "      <th>Fallece = 1</th>\n",
              "      <th>Fallece = 0</th>\n",
              "      <th>Mean</th>\n",
              "      <th>Gini</th>\n",
              "      <th>Gini Media Pond</th>\n",
              "    </tr>\n",
              "  </thead>\n",
              "  <tbody>\n",
              "    <tr>\n",
              "      <th>0</th>\n",
              "      <td>0</td>\n",
              "      <td>247</td>\n",
              "      <td>65</td>\n",
              "      <td>182</td>\n",
              "      <td>0.2632</td>\n",
              "      <td>0.387852</td>\n",
              "      <td>0.4041</td>\n",
              "    </tr>\n",
              "    <tr>\n",
              "      <th>1</th>\n",
              "      <td>1</td>\n",
              "      <td>52</td>\n",
              "      <td>31</td>\n",
              "      <td>21</td>\n",
              "      <td>0.5962</td>\n",
              "      <td>0.481491</td>\n",
              "      <td>0.4041</td>\n",
              "    </tr>\n",
              "  </tbody>\n",
              "</table>\n",
              "</div>"
            ],
            "text/plain": [
              "   Edad > 71.0  Total  Fallece = 1  ...    Mean      Gini  Gini Media Pond\n",
              "0            0    247           65  ...  0.2632  0.387852           0.4041\n",
              "1            1     52           31  ...  0.5962  0.481491           0.4041\n",
              "\n",
              "[2 rows x 7 columns]"
            ]
          },
          "metadata": {
            "tags": []
          },
          "execution_count": 26
        }
      ]
    },
    {
      "cell_type": "code",
      "metadata": {
        "colab": {
          "base_uri": "https://localhost:8080/",
          "height": 111
        },
        "id": "Wt9d2l3Vm3VK",
        "outputId": "5116d74a-6fed-4dad-8596-96efe2b15429"
      },
      "source": [
        "mejor_particion_continua(df_resumen, 'Fallece', 'Serum')"
      ],
      "execution_count": 27,
      "outputs": [
        {
          "output_type": "execute_result",
          "data": {
            "text/html": [
              "<div>\n",
              "<style scoped>\n",
              "    .dataframe tbody tr th:only-of-type {\n",
              "        vertical-align: middle;\n",
              "    }\n",
              "\n",
              "    .dataframe tbody tr th {\n",
              "        vertical-align: top;\n",
              "    }\n",
              "\n",
              "    .dataframe thead th {\n",
              "        text-align: right;\n",
              "    }\n",
              "</style>\n",
              "<table border=\"1\" class=\"dataframe\">\n",
              "  <thead>\n",
              "    <tr style=\"text-align: right;\">\n",
              "      <th></th>\n",
              "      <th>Serum &gt; 1.815</th>\n",
              "      <th>Total</th>\n",
              "      <th>Fallece = 1</th>\n",
              "      <th>Fallece = 0</th>\n",
              "      <th>Mean</th>\n",
              "      <th>Gini</th>\n",
              "      <th>Gini Media Pond</th>\n",
              "    </tr>\n",
              "  </thead>\n",
              "  <tbody>\n",
              "    <tr>\n",
              "      <th>0</th>\n",
              "      <td>0</td>\n",
              "      <td>251</td>\n",
              "      <td>61</td>\n",
              "      <td>190</td>\n",
              "      <td>0.2430</td>\n",
              "      <td>0.367902</td>\n",
              "      <td>0.3722</td>\n",
              "    </tr>\n",
              "    <tr>\n",
              "      <th>1</th>\n",
              "      <td>1</td>\n",
              "      <td>48</td>\n",
              "      <td>35</td>\n",
              "      <td>13</td>\n",
              "      <td>0.7292</td>\n",
              "      <td>0.394935</td>\n",
              "      <td>0.3722</td>\n",
              "    </tr>\n",
              "  </tbody>\n",
              "</table>\n",
              "</div>"
            ],
            "text/plain": [
              "   Serum > 1.815  Total  Fallece = 1  ...    Mean      Gini  Gini Media Pond\n",
              "0              0    251           61  ...  0.2430  0.367902           0.3722\n",
              "1              1     48           35  ...  0.7292  0.394935           0.3722\n",
              "\n",
              "[2 rows x 7 columns]"
            ]
          },
          "metadata": {
            "tags": []
          },
          "execution_count": 27
        }
      ]
    },
    {
      "cell_type": "markdown",
      "metadata": {
        "id": "Yr0XMPnaCaRN"
      },
      "source": [
        "### 030104 Cuál es la mejor partición?"
      ]
    },
    {
      "cell_type": "code",
      "metadata": {
        "colab": {
          "base_uri": "https://localhost:8080/",
          "height": 111
        },
        "id": "NM9zFkwUBAbU",
        "outputId": "6ae8f595-aa23-4f09-fa4b-cb04d2fc1fe8"
      },
      "source": [
        "particion_categorica(df_resumen, 'Fallece', 'Anemia')"
      ],
      "execution_count": 28,
      "outputs": [
        {
          "output_type": "execute_result",
          "data": {
            "text/html": [
              "<div>\n",
              "<style scoped>\n",
              "    .dataframe tbody tr th:only-of-type {\n",
              "        vertical-align: middle;\n",
              "    }\n",
              "\n",
              "    .dataframe tbody tr th {\n",
              "        vertical-align: top;\n",
              "    }\n",
              "\n",
              "    .dataframe thead th {\n",
              "        text-align: right;\n",
              "    }\n",
              "</style>\n",
              "<table border=\"1\" class=\"dataframe\">\n",
              "  <thead>\n",
              "    <tr style=\"text-align: right;\">\n",
              "      <th></th>\n",
              "      <th>Anemia</th>\n",
              "      <th>Total</th>\n",
              "      <th>Fallece = 1</th>\n",
              "      <th>Fallece = 0</th>\n",
              "      <th>Mean</th>\n",
              "      <th>Gini</th>\n",
              "      <th>Gini Media Pond</th>\n",
              "    </tr>\n",
              "  </thead>\n",
              "  <tbody>\n",
              "    <tr>\n",
              "      <th>0</th>\n",
              "      <td>0</td>\n",
              "      <td>170</td>\n",
              "      <td>50</td>\n",
              "      <td>120</td>\n",
              "      <td>0.2941</td>\n",
              "      <td>0.415210</td>\n",
              "      <td>0.434</td>\n",
              "    </tr>\n",
              "    <tr>\n",
              "      <th>1</th>\n",
              "      <td>1</td>\n",
              "      <td>129</td>\n",
              "      <td>46</td>\n",
              "      <td>83</td>\n",
              "      <td>0.3566</td>\n",
              "      <td>0.458873</td>\n",
              "      <td>0.434</td>\n",
              "    </tr>\n",
              "  </tbody>\n",
              "</table>\n",
              "</div>"
            ],
            "text/plain": [
              "   Anemia  Total  Fallece = 1  Fallece = 0    Mean      Gini  Gini Media Pond\n",
              "0       0    170           50          120  0.2941  0.415210            0.434\n",
              "1       1    129           46           83  0.3566  0.458873            0.434"
            ]
          },
          "metadata": {
            "tags": []
          },
          "execution_count": 28
        }
      ]
    },
    {
      "cell_type": "code",
      "metadata": {
        "colab": {
          "base_uri": "https://localhost:8080/",
          "height": 111
        },
        "id": "o9Bkx8VmBAfE",
        "outputId": "f98e580d-c46c-44e3-ccba-8e9be3213511"
      },
      "source": [
        "mejor_particion_continua(df_resumen, 'Fallece', 'Edad')"
      ],
      "execution_count": 29,
      "outputs": [
        {
          "output_type": "execute_result",
          "data": {
            "text/html": [
              "<div>\n",
              "<style scoped>\n",
              "    .dataframe tbody tr th:only-of-type {\n",
              "        vertical-align: middle;\n",
              "    }\n",
              "\n",
              "    .dataframe tbody tr th {\n",
              "        vertical-align: top;\n",
              "    }\n",
              "\n",
              "    .dataframe thead th {\n",
              "        text-align: right;\n",
              "    }\n",
              "</style>\n",
              "<table border=\"1\" class=\"dataframe\">\n",
              "  <thead>\n",
              "    <tr style=\"text-align: right;\">\n",
              "      <th></th>\n",
              "      <th>Edad &gt; 71.0</th>\n",
              "      <th>Total</th>\n",
              "      <th>Fallece = 1</th>\n",
              "      <th>Fallece = 0</th>\n",
              "      <th>Mean</th>\n",
              "      <th>Gini</th>\n",
              "      <th>Gini Media Pond</th>\n",
              "    </tr>\n",
              "  </thead>\n",
              "  <tbody>\n",
              "    <tr>\n",
              "      <th>0</th>\n",
              "      <td>0</td>\n",
              "      <td>247</td>\n",
              "      <td>65</td>\n",
              "      <td>182</td>\n",
              "      <td>0.2632</td>\n",
              "      <td>0.387852</td>\n",
              "      <td>0.4041</td>\n",
              "    </tr>\n",
              "    <tr>\n",
              "      <th>1</th>\n",
              "      <td>1</td>\n",
              "      <td>52</td>\n",
              "      <td>31</td>\n",
              "      <td>21</td>\n",
              "      <td>0.5962</td>\n",
              "      <td>0.481491</td>\n",
              "      <td>0.4041</td>\n",
              "    </tr>\n",
              "  </tbody>\n",
              "</table>\n",
              "</div>"
            ],
            "text/plain": [
              "   Edad > 71.0  Total  Fallece = 1  ...    Mean      Gini  Gini Media Pond\n",
              "0            0    247           65  ...  0.2632  0.387852           0.4041\n",
              "1            1     52           31  ...  0.5962  0.481491           0.4041\n",
              "\n",
              "[2 rows x 7 columns]"
            ]
          },
          "metadata": {
            "tags": []
          },
          "execution_count": 29
        }
      ]
    },
    {
      "cell_type": "code",
      "metadata": {
        "colab": {
          "base_uri": "https://localhost:8080/",
          "height": 111
        },
        "id": "OfRF3QfUBAiw",
        "outputId": "229a3fc9-40bb-4857-f178-e3bca4ae01eb"
      },
      "source": [
        "mejor_particion_continua(df_resumen, 'Fallece', 'Serum')"
      ],
      "execution_count": 30,
      "outputs": [
        {
          "output_type": "execute_result",
          "data": {
            "text/html": [
              "<div>\n",
              "<style scoped>\n",
              "    .dataframe tbody tr th:only-of-type {\n",
              "        vertical-align: middle;\n",
              "    }\n",
              "\n",
              "    .dataframe tbody tr th {\n",
              "        vertical-align: top;\n",
              "    }\n",
              "\n",
              "    .dataframe thead th {\n",
              "        text-align: right;\n",
              "    }\n",
              "</style>\n",
              "<table border=\"1\" class=\"dataframe\">\n",
              "  <thead>\n",
              "    <tr style=\"text-align: right;\">\n",
              "      <th></th>\n",
              "      <th>Serum &gt; 1.815</th>\n",
              "      <th>Total</th>\n",
              "      <th>Fallece = 1</th>\n",
              "      <th>Fallece = 0</th>\n",
              "      <th>Mean</th>\n",
              "      <th>Gini</th>\n",
              "      <th>Gini Media Pond</th>\n",
              "    </tr>\n",
              "  </thead>\n",
              "  <tbody>\n",
              "    <tr>\n",
              "      <th>0</th>\n",
              "      <td>0</td>\n",
              "      <td>251</td>\n",
              "      <td>61</td>\n",
              "      <td>190</td>\n",
              "      <td>0.2430</td>\n",
              "      <td>0.367902</td>\n",
              "      <td>0.3722</td>\n",
              "    </tr>\n",
              "    <tr>\n",
              "      <th>1</th>\n",
              "      <td>1</td>\n",
              "      <td>48</td>\n",
              "      <td>35</td>\n",
              "      <td>13</td>\n",
              "      <td>0.7292</td>\n",
              "      <td>0.394935</td>\n",
              "      <td>0.3722</td>\n",
              "    </tr>\n",
              "  </tbody>\n",
              "</table>\n",
              "</div>"
            ],
            "text/plain": [
              "   Serum > 1.815  Total  Fallece = 1  ...    Mean      Gini  Gini Media Pond\n",
              "0              0    251           61  ...  0.2430  0.367902           0.3722\n",
              "1              1     48           35  ...  0.7292  0.394935           0.3722\n",
              "\n",
              "[2 rows x 7 columns]"
            ]
          },
          "metadata": {
            "tags": []
          },
          "execution_count": 30
        }
      ]
    },
    {
      "cell_type": "markdown",
      "metadata": {
        "id": "QoHsABZAGPBr"
      },
      "source": [
        "#### EJEMPLO\r\n",
        "Función que devuelve la mejor partición dados un dataframe, una lista de variables continuas y otra de variables discretas variables"
      ]
    },
    {
      "cell_type": "code",
      "metadata": {
        "id": "LZunZWMpGhg6"
      },
      "source": [
        "def seleccion_particion(df, target, lista_vars_continuas, lista_vars_binarias):\r\n",
        "  particion_optima = []\r\n",
        "\r\n",
        "  for i, var in enumerate(lista_vars_continuas+lista_vars_binarias):\r\n",
        "    if var in lista_vars_continuas:\r\n",
        "      df_i = mejor_particion_continua(df, target, var)\r\n",
        "    if var in lista_vars_binarias:\r\n",
        "      df_i = particion_categorica(df,  target, var)\r\n",
        "    \r\n",
        "\r\n",
        "    if i == 0:\r\n",
        "      particion_optima = df_i\r\n",
        "    else:\r\n",
        "      if df_i['Gini Media Pond'][0] < particion_optima['Gini Media Pond'][0]:\r\n",
        "        particion_optima = df_i\r\n",
        "    \r\n",
        "  return particion_optima"
      ],
      "execution_count": 31,
      "outputs": []
    },
    {
      "cell_type": "code",
      "metadata": {
        "colab": {
          "base_uri": "https://localhost:8080/",
          "height": 111
        },
        "id": "8_uKIpZEHlX7",
        "outputId": "1180b02e-4329-4d05-ffc8-20bea0948146"
      },
      "source": [
        "seleccion_particion(df_resumen, 'Fallece', ['Edad', 'Serum'], ['Anemia'])"
      ],
      "execution_count": 32,
      "outputs": [
        {
          "output_type": "execute_result",
          "data": {
            "text/html": [
              "<div>\n",
              "<style scoped>\n",
              "    .dataframe tbody tr th:only-of-type {\n",
              "        vertical-align: middle;\n",
              "    }\n",
              "\n",
              "    .dataframe tbody tr th {\n",
              "        vertical-align: top;\n",
              "    }\n",
              "\n",
              "    .dataframe thead th {\n",
              "        text-align: right;\n",
              "    }\n",
              "</style>\n",
              "<table border=\"1\" class=\"dataframe\">\n",
              "  <thead>\n",
              "    <tr style=\"text-align: right;\">\n",
              "      <th></th>\n",
              "      <th>Serum &gt; 1.815</th>\n",
              "      <th>Total</th>\n",
              "      <th>Fallece = 1</th>\n",
              "      <th>Fallece = 0</th>\n",
              "      <th>Mean</th>\n",
              "      <th>Gini</th>\n",
              "      <th>Gini Media Pond</th>\n",
              "    </tr>\n",
              "  </thead>\n",
              "  <tbody>\n",
              "    <tr>\n",
              "      <th>0</th>\n",
              "      <td>0</td>\n",
              "      <td>251</td>\n",
              "      <td>61</td>\n",
              "      <td>190</td>\n",
              "      <td>0.2430</td>\n",
              "      <td>0.367902</td>\n",
              "      <td>0.3722</td>\n",
              "    </tr>\n",
              "    <tr>\n",
              "      <th>1</th>\n",
              "      <td>1</td>\n",
              "      <td>48</td>\n",
              "      <td>35</td>\n",
              "      <td>13</td>\n",
              "      <td>0.7292</td>\n",
              "      <td>0.394935</td>\n",
              "      <td>0.3722</td>\n",
              "    </tr>\n",
              "  </tbody>\n",
              "</table>\n",
              "</div>"
            ],
            "text/plain": [
              "   Serum > 1.815  Total  Fallece = 1  ...    Mean      Gini  Gini Media Pond\n",
              "0              0    251           61  ...  0.2430  0.367902           0.3722\n",
              "1              1     48           35  ...  0.7292  0.394935           0.3722\n",
              "\n",
              "[2 rows x 7 columns]"
            ]
          },
          "metadata": {
            "tags": []
          },
          "execution_count": 32
        }
      ]
    },
    {
      "cell_type": "markdown",
      "metadata": {
        "id": "mjWxs5R_FxEH"
      },
      "source": [
        "## 0302 Construímos las ramas\r\n",
        "Vamos a contruír el resto del árbol sin repetir variables."
      ]
    },
    {
      "cell_type": "code",
      "metadata": {
        "id": "OEo0D52qCmbs"
      },
      "source": [
        "# Realizamos la partición\r\n",
        "df_resumen_1 = df_resumen[df_resumen['Serum']>1.815]\r\n",
        "df_resumen_2 = df_resumen[df_resumen['Serum']<1.815]"
      ],
      "execution_count": 33,
      "outputs": []
    },
    {
      "cell_type": "markdown",
      "metadata": {
        "id": "W7WioeqWMbbF"
      },
      "source": [
        "### 030201 Rama Izquierda (1)"
      ]
    },
    {
      "cell_type": "code",
      "metadata": {
        "colab": {
          "base_uri": "https://localhost:8080/",
          "height": 111
        },
        "id": "KJnyLZRACmfc",
        "outputId": "8c081821-3445-4a13-8a51-785914f6135e"
      },
      "source": [
        "# Siguiente partición\r\n",
        "seleccion_particion(df_resumen_1, 'Fallece', ['Edad'], ['Anemia'])"
      ],
      "execution_count": 34,
      "outputs": [
        {
          "output_type": "execute_result",
          "data": {
            "text/html": [
              "<div>\n",
              "<style scoped>\n",
              "    .dataframe tbody tr th:only-of-type {\n",
              "        vertical-align: middle;\n",
              "    }\n",
              "\n",
              "    .dataframe tbody tr th {\n",
              "        vertical-align: top;\n",
              "    }\n",
              "\n",
              "    .dataframe thead th {\n",
              "        text-align: right;\n",
              "    }\n",
              "</style>\n",
              "<table border=\"1\" class=\"dataframe\">\n",
              "  <thead>\n",
              "    <tr style=\"text-align: right;\">\n",
              "      <th></th>\n",
              "      <th>Edad &gt; 71.0</th>\n",
              "      <th>Total</th>\n",
              "      <th>Fallece = 1</th>\n",
              "      <th>Fallece = 0</th>\n",
              "      <th>Mean</th>\n",
              "      <th>Gini</th>\n",
              "      <th>Gini Media Pond</th>\n",
              "    </tr>\n",
              "  </thead>\n",
              "  <tbody>\n",
              "    <tr>\n",
              "      <th>0</th>\n",
              "      <td>0</td>\n",
              "      <td>31</td>\n",
              "      <td>20</td>\n",
              "      <td>11</td>\n",
              "      <td>0.6452</td>\n",
              "      <td>0.457834</td>\n",
              "      <td>0.3692</td>\n",
              "    </tr>\n",
              "    <tr>\n",
              "      <th>1</th>\n",
              "      <td>1</td>\n",
              "      <td>17</td>\n",
              "      <td>15</td>\n",
              "      <td>2</td>\n",
              "      <td>0.8824</td>\n",
              "      <td>0.207540</td>\n",
              "      <td>0.3692</td>\n",
              "    </tr>\n",
              "  </tbody>\n",
              "</table>\n",
              "</div>"
            ],
            "text/plain": [
              "   Edad > 71.0  Total  Fallece = 1  ...    Mean      Gini  Gini Media Pond\n",
              "0            0     31           20  ...  0.6452  0.457834           0.3692\n",
              "1            1     17           15  ...  0.8824  0.207540           0.3692\n",
              "\n",
              "[2 rows x 7 columns]"
            ]
          },
          "metadata": {
            "tags": []
          },
          "execution_count": 34
        }
      ]
    },
    {
      "cell_type": "code",
      "metadata": {
        "id": "DUa4pGiZI_AF"
      },
      "source": [
        "# Realizamos la siguiente partición\r\n",
        "df_resumen_1_1 = df_resumen[((df_resumen['Serum']>1.815)&(df_resumen['Edad']>71))]\r\n",
        "df_resumen_1_2 = df_resumen[((df_resumen['Serum']>1.815)&(df_resumen['Edad']<71))]"
      ],
      "execution_count": 35,
      "outputs": []
    },
    {
      "cell_type": "code",
      "metadata": {
        "colab": {
          "base_uri": "https://localhost:8080/",
          "height": 111
        },
        "id": "7AkXkkPKJPmz",
        "outputId": "13c44424-d1d0-4473-d87d-e4c5cd40f9e8"
      },
      "source": [
        "# Siguiente partición\r\n",
        "seleccion_particion(df_resumen_1_1, 'Fallece', [], ['Anemia'])"
      ],
      "execution_count": 36,
      "outputs": [
        {
          "output_type": "execute_result",
          "data": {
            "text/html": [
              "<div>\n",
              "<style scoped>\n",
              "    .dataframe tbody tr th:only-of-type {\n",
              "        vertical-align: middle;\n",
              "    }\n",
              "\n",
              "    .dataframe tbody tr th {\n",
              "        vertical-align: top;\n",
              "    }\n",
              "\n",
              "    .dataframe thead th {\n",
              "        text-align: right;\n",
              "    }\n",
              "</style>\n",
              "<table border=\"1\" class=\"dataframe\">\n",
              "  <thead>\n",
              "    <tr style=\"text-align: right;\">\n",
              "      <th></th>\n",
              "      <th>Anemia</th>\n",
              "      <th>Total</th>\n",
              "      <th>Fallece = 1</th>\n",
              "      <th>Fallece = 0</th>\n",
              "      <th>Mean</th>\n",
              "      <th>Gini</th>\n",
              "      <th>Gini Media Pond</th>\n",
              "    </tr>\n",
              "  </thead>\n",
              "  <tbody>\n",
              "    <tr>\n",
              "      <th>0</th>\n",
              "      <td>0</td>\n",
              "      <td>10</td>\n",
              "      <td>9</td>\n",
              "      <td>1</td>\n",
              "      <td>0.9000</td>\n",
              "      <td>0.180000</td>\n",
              "      <td>0.2067</td>\n",
              "    </tr>\n",
              "    <tr>\n",
              "      <th>1</th>\n",
              "      <td>1</td>\n",
              "      <td>7</td>\n",
              "      <td>6</td>\n",
              "      <td>1</td>\n",
              "      <td>0.8571</td>\n",
              "      <td>0.244959</td>\n",
              "      <td>0.2067</td>\n",
              "    </tr>\n",
              "  </tbody>\n",
              "</table>\n",
              "</div>"
            ],
            "text/plain": [
              "   Anemia  Total  Fallece = 1  Fallece = 0    Mean      Gini  Gini Media Pond\n",
              "0       0     10            9            1  0.9000  0.180000           0.2067\n",
              "1       1      7            6            1  0.8571  0.244959           0.2067"
            ]
          },
          "metadata": {
            "tags": []
          },
          "execution_count": 36
        }
      ]
    },
    {
      "cell_type": "code",
      "metadata": {
        "colab": {
          "base_uri": "https://localhost:8080/",
          "height": 111
        },
        "id": "pI2rXQiDJT6H",
        "outputId": "214ab18a-cb47-40d2-f2f8-ef9e921d2405"
      },
      "source": [
        "# Siguiente partición\r\n",
        "seleccion_particion(df_resumen_1_2, 'Fallece', [], ['Anemia'])"
      ],
      "execution_count": 37,
      "outputs": [
        {
          "output_type": "execute_result",
          "data": {
            "text/html": [
              "<div>\n",
              "<style scoped>\n",
              "    .dataframe tbody tr th:only-of-type {\n",
              "        vertical-align: middle;\n",
              "    }\n",
              "\n",
              "    .dataframe tbody tr th {\n",
              "        vertical-align: top;\n",
              "    }\n",
              "\n",
              "    .dataframe thead th {\n",
              "        text-align: right;\n",
              "    }\n",
              "</style>\n",
              "<table border=\"1\" class=\"dataframe\">\n",
              "  <thead>\n",
              "    <tr style=\"text-align: right;\">\n",
              "      <th></th>\n",
              "      <th>Anemia</th>\n",
              "      <th>Total</th>\n",
              "      <th>Fallece = 1</th>\n",
              "      <th>Fallece = 0</th>\n",
              "      <th>Mean</th>\n",
              "      <th>Gini</th>\n",
              "      <th>Gini Media Pond</th>\n",
              "    </tr>\n",
              "  </thead>\n",
              "  <tbody>\n",
              "    <tr>\n",
              "      <th>0</th>\n",
              "      <td>0</td>\n",
              "      <td>20</td>\n",
              "      <td>13</td>\n",
              "      <td>7</td>\n",
              "      <td>0.6500</td>\n",
              "      <td>0.45500</td>\n",
              "      <td>0.4578</td>\n",
              "    </tr>\n",
              "    <tr>\n",
              "      <th>1</th>\n",
              "      <td>1</td>\n",
              "      <td>11</td>\n",
              "      <td>7</td>\n",
              "      <td>4</td>\n",
              "      <td>0.6364</td>\n",
              "      <td>0.46279</td>\n",
              "      <td>0.4578</td>\n",
              "    </tr>\n",
              "  </tbody>\n",
              "</table>\n",
              "</div>"
            ],
            "text/plain": [
              "   Anemia  Total  Fallece = 1  Fallece = 0    Mean     Gini  Gini Media Pond\n",
              "0       0     20           13            7  0.6500  0.45500           0.4578\n",
              "1       1     11            7            4  0.6364  0.46279           0.4578"
            ]
          },
          "metadata": {
            "tags": []
          },
          "execution_count": 37
        }
      ]
    },
    {
      "cell_type": "markdown",
      "metadata": {
        "id": "8g7jwnRYMg_I"
      },
      "source": [
        "### 030202 Rama derecha (2)"
      ]
    },
    {
      "cell_type": "code",
      "metadata": {
        "colab": {
          "base_uri": "https://localhost:8080/",
          "height": 111
        },
        "id": "vKC_p05cCmjM",
        "outputId": "25207d70-c663-4493-8a81-69a672115696"
      },
      "source": [
        "# Siguiente partición\r\n",
        "seleccion_particion(df_resumen_2, 'Fallece', ['Edad'], ['Anemia'])"
      ],
      "execution_count": 38,
      "outputs": [
        {
          "output_type": "execute_result",
          "data": {
            "text/html": [
              "<div>\n",
              "<style scoped>\n",
              "    .dataframe tbody tr th:only-of-type {\n",
              "        vertical-align: middle;\n",
              "    }\n",
              "\n",
              "    .dataframe tbody tr th {\n",
              "        vertical-align: top;\n",
              "    }\n",
              "\n",
              "    .dataframe thead th {\n",
              "        text-align: right;\n",
              "    }\n",
              "</style>\n",
              "<table border=\"1\" class=\"dataframe\">\n",
              "  <thead>\n",
              "    <tr style=\"text-align: right;\">\n",
              "      <th></th>\n",
              "      <th>Edad &gt; 79.5</th>\n",
              "      <th>Total</th>\n",
              "      <th>Fallece = 1</th>\n",
              "      <th>Fallece = 0</th>\n",
              "      <th>Mean</th>\n",
              "      <th>Gini</th>\n",
              "      <th>Gini Media Pond</th>\n",
              "    </tr>\n",
              "  </thead>\n",
              "  <tbody>\n",
              "    <tr>\n",
              "      <th>0</th>\n",
              "      <td>0</td>\n",
              "      <td>236</td>\n",
              "      <td>51</td>\n",
              "      <td>185</td>\n",
              "      <td>0.2161</td>\n",
              "      <td>0.338802</td>\n",
              "      <td>0.3451</td>\n",
              "    </tr>\n",
              "    <tr>\n",
              "      <th>1</th>\n",
              "      <td>1</td>\n",
              "      <td>15</td>\n",
              "      <td>10</td>\n",
              "      <td>5</td>\n",
              "      <td>0.6667</td>\n",
              "      <td>0.444422</td>\n",
              "      <td>0.3451</td>\n",
              "    </tr>\n",
              "  </tbody>\n",
              "</table>\n",
              "</div>"
            ],
            "text/plain": [
              "   Edad > 79.5  Total  Fallece = 1  ...    Mean      Gini  Gini Media Pond\n",
              "0            0    236           51  ...  0.2161  0.338802           0.3451\n",
              "1            1     15           10  ...  0.6667  0.444422           0.3451\n",
              "\n",
              "[2 rows x 7 columns]"
            ]
          },
          "metadata": {
            "tags": []
          },
          "execution_count": 38
        }
      ]
    },
    {
      "cell_type": "code",
      "metadata": {
        "id": "MPtY6yUCIsqS"
      },
      "source": [
        "# Realizamos la siguiente partición\r\n",
        "df_resumen_2_1 = df_resumen[((df_resumen['Serum']<1.815)&(df_resumen['Edad']>79.5))]\r\n",
        "df_resumen_2_2 = df_resumen[((df_resumen['Serum']<1.815)&(df_resumen['Edad']<79.5))]"
      ],
      "execution_count": 39,
      "outputs": []
    },
    {
      "cell_type": "code",
      "metadata": {
        "colab": {
          "base_uri": "https://localhost:8080/",
          "height": 111
        },
        "id": "TzCpQfxIIsuN",
        "outputId": "09190df4-a107-4835-80c9-70fdba36e2f9"
      },
      "source": [
        "# Siguiente partición\r\n",
        "seleccion_particion(df_resumen_2_1, 'Fallece', [], ['Anemia'])"
      ],
      "execution_count": 40,
      "outputs": [
        {
          "output_type": "execute_result",
          "data": {
            "text/html": [
              "<div>\n",
              "<style scoped>\n",
              "    .dataframe tbody tr th:only-of-type {\n",
              "        vertical-align: middle;\n",
              "    }\n",
              "\n",
              "    .dataframe tbody tr th {\n",
              "        vertical-align: top;\n",
              "    }\n",
              "\n",
              "    .dataframe thead th {\n",
              "        text-align: right;\n",
              "    }\n",
              "</style>\n",
              "<table border=\"1\" class=\"dataframe\">\n",
              "  <thead>\n",
              "    <tr style=\"text-align: right;\">\n",
              "      <th></th>\n",
              "      <th>Anemia</th>\n",
              "      <th>Total</th>\n",
              "      <th>Fallece = 1</th>\n",
              "      <th>Fallece = 0</th>\n",
              "      <th>Mean</th>\n",
              "      <th>Gini</th>\n",
              "      <th>Gini Media Pond</th>\n",
              "    </tr>\n",
              "  </thead>\n",
              "  <tbody>\n",
              "    <tr>\n",
              "      <th>0</th>\n",
              "      <td>0</td>\n",
              "      <td>8</td>\n",
              "      <td>5</td>\n",
              "      <td>3</td>\n",
              "      <td>0.6250</td>\n",
              "      <td>0.468750</td>\n",
              "      <td>0.4405</td>\n",
              "    </tr>\n",
              "    <tr>\n",
              "      <th>1</th>\n",
              "      <td>1</td>\n",
              "      <td>7</td>\n",
              "      <td>5</td>\n",
              "      <td>2</td>\n",
              "      <td>0.7143</td>\n",
              "      <td>0.408151</td>\n",
              "      <td>0.4405</td>\n",
              "    </tr>\n",
              "  </tbody>\n",
              "</table>\n",
              "</div>"
            ],
            "text/plain": [
              "   Anemia  Total  Fallece = 1  Fallece = 0    Mean      Gini  Gini Media Pond\n",
              "0       0      8            5            3  0.6250  0.468750           0.4405\n",
              "1       1      7            5            2  0.7143  0.408151           0.4405"
            ]
          },
          "metadata": {
            "tags": []
          },
          "execution_count": 40
        }
      ]
    },
    {
      "cell_type": "code",
      "metadata": {
        "colab": {
          "base_uri": "https://localhost:8080/",
          "height": 111
        },
        "id": "ki0hwWcbIsx8",
        "outputId": "bbf220aa-7c9c-4f5d-ddfc-9920f097746e"
      },
      "source": [
        "# Siguiente partición\r\n",
        "seleccion_particion(df_resumen_2_2, 'Fallece', [], ['Anemia'])"
      ],
      "execution_count": 41,
      "outputs": [
        {
          "output_type": "execute_result",
          "data": {
            "text/html": [
              "<div>\n",
              "<style scoped>\n",
              "    .dataframe tbody tr th:only-of-type {\n",
              "        vertical-align: middle;\n",
              "    }\n",
              "\n",
              "    .dataframe tbody tr th {\n",
              "        vertical-align: top;\n",
              "    }\n",
              "\n",
              "    .dataframe thead th {\n",
              "        text-align: right;\n",
              "    }\n",
              "</style>\n",
              "<table border=\"1\" class=\"dataframe\">\n",
              "  <thead>\n",
              "    <tr style=\"text-align: right;\">\n",
              "      <th></th>\n",
              "      <th>Anemia</th>\n",
              "      <th>Total</th>\n",
              "      <th>Fallece = 1</th>\n",
              "      <th>Fallece = 0</th>\n",
              "      <th>Mean</th>\n",
              "      <th>Gini</th>\n",
              "      <th>Gini Media Pond</th>\n",
              "    </tr>\n",
              "  </thead>\n",
              "  <tbody>\n",
              "    <tr>\n",
              "      <th>0</th>\n",
              "      <td>0</td>\n",
              "      <td>132</td>\n",
              "      <td>23</td>\n",
              "      <td>109</td>\n",
              "      <td>0.1742</td>\n",
              "      <td>0.287709</td>\n",
              "      <td>0.3343</td>\n",
              "    </tr>\n",
              "    <tr>\n",
              "      <th>1</th>\n",
              "      <td>1</td>\n",
              "      <td>104</td>\n",
              "      <td>28</td>\n",
              "      <td>76</td>\n",
              "      <td>0.2692</td>\n",
              "      <td>0.393463</td>\n",
              "      <td>0.3343</td>\n",
              "    </tr>\n",
              "  </tbody>\n",
              "</table>\n",
              "</div>"
            ],
            "text/plain": [
              "   Anemia  Total  Fallece = 1  Fallece = 0    Mean      Gini  Gini Media Pond\n",
              "0       0    132           23          109  0.1742  0.287709           0.3343\n",
              "1       1    104           28           76  0.2692  0.393463           0.3343"
            ]
          },
          "metadata": {
            "tags": []
          },
          "execution_count": 41
        }
      ]
    },
    {
      "cell_type": "markdown",
      "metadata": {
        "id": "ue1Rhq1gNAJa"
      },
      "source": [
        "### EJERCICIO\r\n",
        "Genera un árbol sin restringir la repetición de variables en una misma rama."
      ]
    },
    {
      "cell_type": "code",
      "metadata": {
        "colab": {
          "base_uri": "https://localhost:8080/",
          "height": 111
        },
        "id": "hsJgYZQ1Fnk2",
        "outputId": "17698cf1-d88c-4ef0-9eb8-a75f745e6ffd"
      },
      "source": [
        "seleccion_particion(df_resumen, 'Fallece', ['Edad', 'Serum'], ['Anemia'])"
      ],
      "execution_count": 42,
      "outputs": [
        {
          "output_type": "execute_result",
          "data": {
            "text/html": [
              "<div>\n",
              "<style scoped>\n",
              "    .dataframe tbody tr th:only-of-type {\n",
              "        vertical-align: middle;\n",
              "    }\n",
              "\n",
              "    .dataframe tbody tr th {\n",
              "        vertical-align: top;\n",
              "    }\n",
              "\n",
              "    .dataframe thead th {\n",
              "        text-align: right;\n",
              "    }\n",
              "</style>\n",
              "<table border=\"1\" class=\"dataframe\">\n",
              "  <thead>\n",
              "    <tr style=\"text-align: right;\">\n",
              "      <th></th>\n",
              "      <th>Serum &gt; 1.815</th>\n",
              "      <th>Total</th>\n",
              "      <th>Fallece = 1</th>\n",
              "      <th>Fallece = 0</th>\n",
              "      <th>Mean</th>\n",
              "      <th>Gini</th>\n",
              "      <th>Gini Media Pond</th>\n",
              "    </tr>\n",
              "  </thead>\n",
              "  <tbody>\n",
              "    <tr>\n",
              "      <th>0</th>\n",
              "      <td>0</td>\n",
              "      <td>251</td>\n",
              "      <td>61</td>\n",
              "      <td>190</td>\n",
              "      <td>0.2430</td>\n",
              "      <td>0.367902</td>\n",
              "      <td>0.3722</td>\n",
              "    </tr>\n",
              "    <tr>\n",
              "      <th>1</th>\n",
              "      <td>1</td>\n",
              "      <td>48</td>\n",
              "      <td>35</td>\n",
              "      <td>13</td>\n",
              "      <td>0.7292</td>\n",
              "      <td>0.394935</td>\n",
              "      <td>0.3722</td>\n",
              "    </tr>\n",
              "  </tbody>\n",
              "</table>\n",
              "</div>"
            ],
            "text/plain": [
              "   Serum > 1.815  Total  Fallece = 1  ...    Mean      Gini  Gini Media Pond\n",
              "0              0    251           61  ...  0.2430  0.367902           0.3722\n",
              "1              1     48           35  ...  0.7292  0.394935           0.3722\n",
              "\n",
              "[2 rows x 7 columns]"
            ]
          },
          "metadata": {
            "tags": []
          },
          "execution_count": 42
        }
      ]
    },
    {
      "cell_type": "code",
      "metadata": {
        "id": "9EB0yDK7ODM1"
      },
      "source": [
        "df_resumen_1 = df_resumen[(df_resumen['Serum']>1.815)]\r\n",
        "df_resumen_2 = df_resumen[(df_resumen['Serum']<1.815)]"
      ],
      "execution_count": 43,
      "outputs": []
    },
    {
      "cell_type": "code",
      "metadata": {
        "colab": {
          "base_uri": "https://localhost:8080/",
          "height": 111
        },
        "id": "nuDcrd_sOQsf",
        "outputId": "2ce3cd89-1a17-4bbc-e811-9139a8e62308"
      },
      "source": [
        "seleccion_particion(df_resumen_1, 'Fallece', ['Edad', 'Serum'], ['Anemia'])"
      ],
      "execution_count": 44,
      "outputs": [
        {
          "output_type": "execute_result",
          "data": {
            "text/html": [
              "<div>\n",
              "<style scoped>\n",
              "    .dataframe tbody tr th:only-of-type {\n",
              "        vertical-align: middle;\n",
              "    }\n",
              "\n",
              "    .dataframe tbody tr th {\n",
              "        vertical-align: top;\n",
              "    }\n",
              "\n",
              "    .dataframe thead th {\n",
              "        text-align: right;\n",
              "    }\n",
              "</style>\n",
              "<table border=\"1\" class=\"dataframe\">\n",
              "  <thead>\n",
              "    <tr style=\"text-align: right;\">\n",
              "      <th></th>\n",
              "      <th>Serum &gt; 2.05</th>\n",
              "      <th>Total</th>\n",
              "      <th>Fallece = 1</th>\n",
              "      <th>Fallece = 0</th>\n",
              "      <th>Mean</th>\n",
              "      <th>Gini</th>\n",
              "      <th>Gini Media Pond</th>\n",
              "    </tr>\n",
              "  </thead>\n",
              "  <tbody>\n",
              "    <tr>\n",
              "      <th>0</th>\n",
              "      <td>0</td>\n",
              "      <td>14</td>\n",
              "      <td>14</td>\n",
              "      <td>0</td>\n",
              "      <td>1.0000</td>\n",
              "      <td>0.00000</td>\n",
              "      <td>0.3346</td>\n",
              "    </tr>\n",
              "    <tr>\n",
              "      <th>1</th>\n",
              "      <td>1</td>\n",
              "      <td>34</td>\n",
              "      <td>21</td>\n",
              "      <td>13</td>\n",
              "      <td>0.6176</td>\n",
              "      <td>0.47234</td>\n",
              "      <td>0.3346</td>\n",
              "    </tr>\n",
              "  </tbody>\n",
              "</table>\n",
              "</div>"
            ],
            "text/plain": [
              "   Serum > 2.05  Total  Fallece = 1  ...    Mean     Gini  Gini Media Pond\n",
              "0             0     14           14  ...  1.0000  0.00000           0.3346\n",
              "1             1     34           21  ...  0.6176  0.47234           0.3346\n",
              "\n",
              "[2 rows x 7 columns]"
            ]
          },
          "metadata": {
            "tags": []
          },
          "execution_count": 44
        }
      ]
    },
    {
      "cell_type": "code",
      "metadata": {
        "id": "mbncuzhUOVSx"
      },
      "source": [
        "df_resumen_1_1 = df_resumen[((df_resumen['Serum']>1.815)&(df_resumen['Serum']>2.05))]\r\n",
        "df_resumen_1_2 = df_resumen[((df_resumen['Serum']>1.815)&(df_resumen['Serum']<2.05))]"
      ],
      "execution_count": 45,
      "outputs": []
    },
    {
      "cell_type": "code",
      "metadata": {
        "colab": {
          "base_uri": "https://localhost:8080/",
          "height": 111
        },
        "id": "pM4UhRh4Oo-S",
        "outputId": "c7c4ce37-18de-4f90-fee6-c53b1bf4b128"
      },
      "source": [
        "seleccion_particion(df_resumen_1_1, 'Fallece', ['Edad', 'Serum'], ['Anemia'])"
      ],
      "execution_count": 46,
      "outputs": [
        {
          "output_type": "execute_result",
          "data": {
            "text/html": [
              "<div>\n",
              "<style scoped>\n",
              "    .dataframe tbody tr th:only-of-type {\n",
              "        vertical-align: middle;\n",
              "    }\n",
              "\n",
              "    .dataframe tbody tr th {\n",
              "        vertical-align: top;\n",
              "    }\n",
              "\n",
              "    .dataframe thead th {\n",
              "        text-align: right;\n",
              "    }\n",
              "</style>\n",
              "<table border=\"1\" class=\"dataframe\">\n",
              "  <thead>\n",
              "    <tr style=\"text-align: right;\">\n",
              "      <th></th>\n",
              "      <th>Serum &gt; 6.449999999999999</th>\n",
              "      <th>Total</th>\n",
              "      <th>Fallece = 1</th>\n",
              "      <th>Fallece = 0</th>\n",
              "      <th>Mean</th>\n",
              "      <th>Gini</th>\n",
              "      <th>Gini Media Pond</th>\n",
              "    </tr>\n",
              "  </thead>\n",
              "  <tbody>\n",
              "    <tr>\n",
              "      <th>0</th>\n",
              "      <td>0</td>\n",
              "      <td>31</td>\n",
              "      <td>18</td>\n",
              "      <td>13</td>\n",
              "      <td>0.5806</td>\n",
              "      <td>0.487007</td>\n",
              "      <td>0.444</td>\n",
              "    </tr>\n",
              "    <tr>\n",
              "      <th>1</th>\n",
              "      <td>1</td>\n",
              "      <td>3</td>\n",
              "      <td>3</td>\n",
              "      <td>0</td>\n",
              "      <td>1.0000</td>\n",
              "      <td>0.000000</td>\n",
              "      <td>0.444</td>\n",
              "    </tr>\n",
              "  </tbody>\n",
              "</table>\n",
              "</div>"
            ],
            "text/plain": [
              "   Serum > 6.449999999999999  Total  ...      Gini  Gini Media Pond\n",
              "0                          0     31  ...  0.487007            0.444\n",
              "1                          1      3  ...  0.000000            0.444\n",
              "\n",
              "[2 rows x 7 columns]"
            ]
          },
          "metadata": {
            "tags": []
          },
          "execution_count": 46
        }
      ]
    },
    {
      "cell_type": "code",
      "metadata": {
        "colab": {
          "base_uri": "https://localhost:8080/",
          "height": 111
        },
        "id": "1KLVAnYTOrZP",
        "outputId": "f08b4581-34b3-44bf-9513-15c33e77bc6f"
      },
      "source": [
        "seleccion_particion(df_resumen_1_2, 'Fallece', ['Edad', 'Serum'], ['Anemia'])"
      ],
      "execution_count": 47,
      "outputs": [
        {
          "output_type": "execute_result",
          "data": {
            "text/html": [
              "<div>\n",
              "<style scoped>\n",
              "    .dataframe tbody tr th:only-of-type {\n",
              "        vertical-align: middle;\n",
              "    }\n",
              "\n",
              "    .dataframe tbody tr th {\n",
              "        vertical-align: top;\n",
              "    }\n",
              "\n",
              "    .dataframe thead th {\n",
              "        text-align: right;\n",
              "    }\n",
              "</style>\n",
              "<table border=\"1\" class=\"dataframe\">\n",
              "  <thead>\n",
              "    <tr style=\"text-align: right;\">\n",
              "      <th></th>\n",
              "      <th>Edad &gt; 49.0</th>\n",
              "      <th>Total</th>\n",
              "      <th>Fallece = 1</th>\n",
              "      <th>Fallece = 0</th>\n",
              "      <th>Mean</th>\n",
              "      <th>Gini</th>\n",
              "      <th>Gini Media Pond</th>\n",
              "    </tr>\n",
              "  </thead>\n",
              "  <tbody>\n",
              "    <tr>\n",
              "      <th>0</th>\n",
              "      <td>0</td>\n",
              "      <td>1</td>\n",
              "      <td>1</td>\n",
              "      <td>0</td>\n",
              "      <td>1.0</td>\n",
              "      <td>0.0</td>\n",
              "      <td>0.0</td>\n",
              "    </tr>\n",
              "    <tr>\n",
              "      <th>1</th>\n",
              "      <td>1</td>\n",
              "      <td>13</td>\n",
              "      <td>13</td>\n",
              "      <td>0</td>\n",
              "      <td>1.0</td>\n",
              "      <td>0.0</td>\n",
              "      <td>0.0</td>\n",
              "    </tr>\n",
              "  </tbody>\n",
              "</table>\n",
              "</div>"
            ],
            "text/plain": [
              "   Edad > 49.0  Total  Fallece = 1  Fallece = 0  Mean  Gini  Gini Media Pond\n",
              "0            0      1            1            0   1.0   0.0              0.0\n",
              "1            1     13           13            0   1.0   0.0              0.0"
            ]
          },
          "metadata": {
            "tags": []
          },
          "execution_count": 47
        }
      ]
    },
    {
      "cell_type": "code",
      "metadata": {
        "colab": {
          "base_uri": "https://localhost:8080/",
          "height": 111
        },
        "id": "zjz3iBnZOuD5",
        "outputId": "6c5843e1-794f-4c37-d7e7-3faf65824803"
      },
      "source": [
        "seleccion_particion(df_resumen_2, 'Fallece', ['Edad', 'Serum'], ['Anemia'])"
      ],
      "execution_count": 48,
      "outputs": [
        {
          "output_type": "execute_result",
          "data": {
            "text/html": [
              "<div>\n",
              "<style scoped>\n",
              "    .dataframe tbody tr th:only-of-type {\n",
              "        vertical-align: middle;\n",
              "    }\n",
              "\n",
              "    .dataframe tbody tr th {\n",
              "        vertical-align: top;\n",
              "    }\n",
              "\n",
              "    .dataframe thead th {\n",
              "        text-align: right;\n",
              "    }\n",
              "</style>\n",
              "<table border=\"1\" class=\"dataframe\">\n",
              "  <thead>\n",
              "    <tr style=\"text-align: right;\">\n",
              "      <th></th>\n",
              "      <th>Edad &gt; 79.5</th>\n",
              "      <th>Total</th>\n",
              "      <th>Fallece = 1</th>\n",
              "      <th>Fallece = 0</th>\n",
              "      <th>Mean</th>\n",
              "      <th>Gini</th>\n",
              "      <th>Gini Media Pond</th>\n",
              "    </tr>\n",
              "  </thead>\n",
              "  <tbody>\n",
              "    <tr>\n",
              "      <th>0</th>\n",
              "      <td>0</td>\n",
              "      <td>236</td>\n",
              "      <td>51</td>\n",
              "      <td>185</td>\n",
              "      <td>0.2161</td>\n",
              "      <td>0.338802</td>\n",
              "      <td>0.3451</td>\n",
              "    </tr>\n",
              "    <tr>\n",
              "      <th>1</th>\n",
              "      <td>1</td>\n",
              "      <td>15</td>\n",
              "      <td>10</td>\n",
              "      <td>5</td>\n",
              "      <td>0.6667</td>\n",
              "      <td>0.444422</td>\n",
              "      <td>0.3451</td>\n",
              "    </tr>\n",
              "  </tbody>\n",
              "</table>\n",
              "</div>"
            ],
            "text/plain": [
              "   Edad > 79.5  Total  Fallece = 1  ...    Mean      Gini  Gini Media Pond\n",
              "0            0    236           51  ...  0.2161  0.338802           0.3451\n",
              "1            1     15           10  ...  0.6667  0.444422           0.3451\n",
              "\n",
              "[2 rows x 7 columns]"
            ]
          },
          "metadata": {
            "tags": []
          },
          "execution_count": 48
        }
      ]
    },
    {
      "cell_type": "code",
      "metadata": {
        "id": "_rqFaWPYO3UI"
      },
      "source": [
        "df_resumen_2_1 = df_resumen[((df_resumen['Serum']<1.815)&(df_resumen['Edad']>79.5))]\r\n",
        "df_resumen_2_2 = df_resumen[((df_resumen['Serum']<1.815)&(df_resumen['Edad']<79.5))]"
      ],
      "execution_count": 49,
      "outputs": []
    },
    {
      "cell_type": "code",
      "metadata": {
        "colab": {
          "base_uri": "https://localhost:8080/",
          "height": 111
        },
        "id": "EMb3efS8O-qY",
        "outputId": "2ff928df-b8ff-4a85-ed0b-bb1cf3eadefc"
      },
      "source": [
        "seleccion_particion(df_resumen_2_1, 'Fallece', ['Edad', 'Serum'], ['Anemia'])"
      ],
      "execution_count": 50,
      "outputs": [
        {
          "output_type": "execute_result",
          "data": {
            "text/html": [
              "<div>\n",
              "<style scoped>\n",
              "    .dataframe tbody tr th:only-of-type {\n",
              "        vertical-align: middle;\n",
              "    }\n",
              "\n",
              "    .dataframe tbody tr th {\n",
              "        vertical-align: top;\n",
              "    }\n",
              "\n",
              "    .dataframe thead th {\n",
              "        text-align: right;\n",
              "    }\n",
              "</style>\n",
              "<table border=\"1\" class=\"dataframe\">\n",
              "  <thead>\n",
              "    <tr style=\"text-align: right;\">\n",
              "      <th></th>\n",
              "      <th>Serum &gt; 0.95</th>\n",
              "      <th>Total</th>\n",
              "      <th>Fallece = 1</th>\n",
              "      <th>Fallece = 0</th>\n",
              "      <th>Mean</th>\n",
              "      <th>Gini</th>\n",
              "      <th>Gini Media Pond</th>\n",
              "    </tr>\n",
              "  </thead>\n",
              "  <tbody>\n",
              "    <tr>\n",
              "      <th>0</th>\n",
              "      <td>0</td>\n",
              "      <td>3</td>\n",
              "      <td>1</td>\n",
              "      <td>2</td>\n",
              "      <td>0.3333</td>\n",
              "      <td>0.444422</td>\n",
              "      <td>0.3889</td>\n",
              "    </tr>\n",
              "    <tr>\n",
              "      <th>1</th>\n",
              "      <td>1</td>\n",
              "      <td>12</td>\n",
              "      <td>9</td>\n",
              "      <td>3</td>\n",
              "      <td>0.7500</td>\n",
              "      <td>0.375000</td>\n",
              "      <td>0.3889</td>\n",
              "    </tr>\n",
              "  </tbody>\n",
              "</table>\n",
              "</div>"
            ],
            "text/plain": [
              "   Serum > 0.95  Total  Fallece = 1  ...    Mean      Gini  Gini Media Pond\n",
              "0             0      3            1  ...  0.3333  0.444422           0.3889\n",
              "1             1     12            9  ...  0.7500  0.375000           0.3889\n",
              "\n",
              "[2 rows x 7 columns]"
            ]
          },
          "metadata": {
            "tags": []
          },
          "execution_count": 50
        }
      ]
    },
    {
      "cell_type": "code",
      "metadata": {
        "colab": {
          "base_uri": "https://localhost:8080/",
          "height": 111
        },
        "id": "HUPjXBihPDB7",
        "outputId": "c1520f7c-329a-4c6f-8429-761155f480bb"
      },
      "source": [
        "seleccion_particion(df_resumen_2_2, 'Fallece', ['Edad', 'Serum'], ['Anemia'])"
      ],
      "execution_count": 51,
      "outputs": [
        {
          "output_type": "execute_result",
          "data": {
            "text/html": [
              "<div>\n",
              "<style scoped>\n",
              "    .dataframe tbody tr th:only-of-type {\n",
              "        vertical-align: middle;\n",
              "    }\n",
              "\n",
              "    .dataframe tbody tr th {\n",
              "        vertical-align: top;\n",
              "    }\n",
              "\n",
              "    .dataframe thead th {\n",
              "        text-align: right;\n",
              "    }\n",
              "</style>\n",
              "<table border=\"1\" class=\"dataframe\">\n",
              "  <thead>\n",
              "    <tr style=\"text-align: right;\">\n",
              "      <th></th>\n",
              "      <th>Serum &gt; 0.95</th>\n",
              "      <th>Total</th>\n",
              "      <th>Fallece = 1</th>\n",
              "      <th>Fallece = 0</th>\n",
              "      <th>Mean</th>\n",
              "      <th>Gini</th>\n",
              "      <th>Gini Media Pond</th>\n",
              "    </tr>\n",
              "  </thead>\n",
              "  <tbody>\n",
              "    <tr>\n",
              "      <th>0</th>\n",
              "      <td>0</td>\n",
              "      <td>78</td>\n",
              "      <td>8</td>\n",
              "      <td>70</td>\n",
              "      <td>0.1026</td>\n",
              "      <td>0.184146</td>\n",
              "      <td>0.3261</td>\n",
              "    </tr>\n",
              "    <tr>\n",
              "      <th>1</th>\n",
              "      <td>1</td>\n",
              "      <td>158</td>\n",
              "      <td>43</td>\n",
              "      <td>115</td>\n",
              "      <td>0.2722</td>\n",
              "      <td>0.396214</td>\n",
              "      <td>0.3261</td>\n",
              "    </tr>\n",
              "  </tbody>\n",
              "</table>\n",
              "</div>"
            ],
            "text/plain": [
              "   Serum > 0.95  Total  Fallece = 1  ...    Mean      Gini  Gini Media Pond\n",
              "0             0     78            8  ...  0.1026  0.184146           0.3261\n",
              "1             1    158           43  ...  0.2722  0.396214           0.3261\n",
              "\n",
              "[2 rows x 7 columns]"
            ]
          },
          "metadata": {
            "tags": []
          },
          "execution_count": 51
        }
      ]
    },
    {
      "cell_type": "markdown",
      "metadata": {
        "id": "sRO6wMepPOJj"
      },
      "source": [
        "# 04 Construcción árbol de decisión con scikit learn\r\n",
        "Ahora de manera automática, utilizando la librería [scikit learn](https://scikit-learn.org/stable/), la libería básica de referencia para machine learning."
      ]
    },
    {
      "cell_type": "markdown",
      "metadata": {
        "id": "SXSNgNJrsdva"
      },
      "source": [
        "## 0401 Importamos las librerías"
      ]
    },
    {
      "cell_type": "code",
      "metadata": {
        "id": "dpc44ulgPFkN"
      },
      "source": [
        "# Nos importamos las funciones de árboles de scikit learn\r\n",
        "from sklearn import tree"
      ],
      "execution_count": 52,
      "outputs": []
    },
    {
      "cell_type": "markdown",
      "metadata": {
        "id": "H9WKeVmAv89P"
      },
      "source": [
        "## 0402 Inicializamos el árbol\r\n",
        "Definiendo las características que tendrá.\r\n",
        "\r\n",
        "https://scikit-learn.org/stable/modules/generated/sklearn.tree.DecisionTreeClassifier.html#sklearn.tree.DecisionTreeClassifier"
      ]
    },
    {
      "cell_type": "code",
      "metadata": {
        "colab": {
          "base_uri": "https://localhost:8080/"
        },
        "id": "c_yzGJ-UP6wq",
        "outputId": "3fbd0995-b553-4f96-f2aa-8304a115578b"
      },
      "source": [
        "# Inicializamos un árbol. Por ahora está vacío. \r\n",
        "# Solo definimos cómo queremos que sea en cuanto a su estructura y condiciones de entrenamiento\r\n",
        "arbol = tree.DecisionTreeClassifier(max_depth=3)\r\n",
        "arbol"
      ],
      "execution_count": 54,
      "outputs": [
        {
          "output_type": "execute_result",
          "data": {
            "text/plain": [
              "DecisionTreeClassifier(ccp_alpha=0.0, class_weight=None, criterion='gini',\n",
              "                       max_depth=3, max_features=None, max_leaf_nodes=None,\n",
              "                       min_impurity_decrease=0.0, min_impurity_split=None,\n",
              "                       min_samples_leaf=1, min_samples_split=2,\n",
              "                       min_weight_fraction_leaf=0.0, presort='deprecated',\n",
              "                       random_state=None, splitter='best')"
            ]
          },
          "metadata": {
            "tags": []
          },
          "execution_count": 54
        }
      ]
    },
    {
      "cell_type": "markdown",
      "metadata": {
        "id": "1_Q84Q2GJjDC"
      },
      "source": [
        "## 0403 Entrenamos el modelo\r\n",
        "Una vez inicializado y definido el árbol, el método .[fit()](https://scikit-learn.org/stable/modules/generated/sklearn.tree.DecisionTreeClassifier.html#sklearn.tree.DecisionTreeClassifier.fit) realiza el proceso de particionado recursivo que hemos hecho nosotros antes a mano."
      ]
    },
    {
      "cell_type": "code",
      "metadata": {
        "colab": {
          "base_uri": "https://localhost:8080/"
        },
        "id": "QzlRebscRxCe",
        "outputId": "cb873de0-f399-43ef-99a0-137ba8a5fc21"
      },
      "source": [
        "# Entrenamos el árbol inicializado a partir de los datos que le pasemos con .fit()\r\n",
        "arbol = arbol.fit(X = df_resumen[['Edad', 'Serum', 'Anemia']],  # vars descriptivas\r\n",
        "                  y = df_resumen[['Fallece']])                  # var objetico\r\n",
        "arbol"
      ],
      "execution_count": 70,
      "outputs": [
        {
          "output_type": "execute_result",
          "data": {
            "text/plain": [
              "DecisionTreeClassifier(ccp_alpha=0.0, class_weight=None, criterion='gini',\n",
              "                       max_depth=3, max_features=None, max_leaf_nodes=None,\n",
              "                       min_impurity_decrease=0.0, min_impurity_split=None,\n",
              "                       min_samples_leaf=1, min_samples_split=2,\n",
              "                       min_weight_fraction_leaf=0.0, presort='deprecated',\n",
              "                       random_state=None, splitter='best')"
            ]
          },
          "metadata": {
            "tags": []
          },
          "execution_count": 70
        }
      ]
    },
    {
      "cell_type": "markdown",
      "metadata": {
        "id": "akjuRe9yLQ8R"
      },
      "source": [
        "##0404 Visualizamos el modelo\r\n",
        "Una vez entrenado el modelo, podemos visualizarlo."
      ]
    },
    {
      "cell_type": "code",
      "metadata": {
        "colab": {
          "base_uri": "https://localhost:8080/"
        },
        "id": "23xmBvxkRFsq",
        "outputId": "7f68f22f-f88e-4d18-d00e-f4818c3b8f8b"
      },
      "source": [
        "# Con el método export_text en un print()\r\n",
        "esquema_print = tree.export_text(arbol, \r\n",
        "                                 feature_names=['Edad', 'Serum', 'Anemia'])\r\n",
        "print(esquema_print)"
      ],
      "execution_count": 71,
      "outputs": [
        {
          "output_type": "stream",
          "text": [
            "|--- Serum <= 1.81\n",
            "|   |--- Edad <= 79.50\n",
            "|   |   |--- Serum <= 0.95\n",
            "|   |   |   |--- class: 0\n",
            "|   |   |--- Serum >  0.95\n",
            "|   |   |   |--- class: 0\n",
            "|   |--- Edad >  79.50\n",
            "|   |   |--- Serum <= 0.95\n",
            "|   |   |   |--- class: 0\n",
            "|   |   |--- Serum >  0.95\n",
            "|   |   |   |--- class: 1\n",
            "|--- Serum >  1.81\n",
            "|   |--- Serum <= 2.05\n",
            "|   |   |--- class: 1\n",
            "|   |--- Serum >  2.05\n",
            "|   |   |--- Serum <= 6.45\n",
            "|   |   |   |--- class: 1\n",
            "|   |   |--- Serum >  6.45\n",
            "|   |   |   |--- class: 1\n",
            "\n"
          ],
          "name": "stdout"
        }
      ]
    },
    {
      "cell_type": "code",
      "metadata": {
        "colab": {
          "base_uri": "https://localhost:8080/",
          "height": 538
        },
        "id": "mcJgYPAMQSNG",
        "outputId": "cf7ff866-69ba-4f26-e813-b6b4f360680f"
      },
      "source": [
        "# O con la librería graphviz\r\n",
        "import graphviz \r\n",
        "\r\n",
        "# Export_graphviz\r\n",
        "dot_data = tree.export_graphviz(arbol, \r\n",
        "                                out_file=None, \r\n",
        "                                feature_names=['Edad', 'Serum', 'Anemia']) \r\n",
        "graph = graphviz.Source(dot_data) \r\n",
        "graph"
      ],
      "execution_count": 72,
      "outputs": [
        {
          "output_type": "execute_result",
          "data": {
            "text/plain": [
              "<graphviz.files.Source at 0x7f6a5a01f470>"
            ],
            "image/svg+xml": "<?xml version=\"1.0\" encoding=\"UTF-8\" standalone=\"no\"?>\n<!DOCTYPE svg PUBLIC \"-//W3C//DTD SVG 1.1//EN\"\n \"http://www.w3.org/Graphics/SVG/1.1/DTD/svg11.dtd\">\n<!-- Generated by graphviz version 2.40.1 (20161225.0304)\n -->\n<!-- Title: Tree Pages: 1 -->\n<svg width=\"724pt\" height=\"373pt\"\n viewBox=\"0.00 0.00 723.50 373.00\" xmlns=\"http://www.w3.org/2000/svg\" xmlns:xlink=\"http://www.w3.org/1999/xlink\">\n<g id=\"graph0\" class=\"graph\" transform=\"scale(1 1) rotate(0) translate(4 369)\">\n<title>Tree</title>\n<polygon fill=\"#ffffff\" stroke=\"transparent\" points=\"-4,4 -4,-369 719.5,-369 719.5,4 -4,4\"/>\n<!-- 0 -->\n<g id=\"node1\" class=\"node\">\n<title>0</title>\n<polygon fill=\"none\" stroke=\"#000000\" points=\"426.5,-365 309.5,-365 309.5,-297 426.5,-297 426.5,-365\"/>\n<text text-anchor=\"middle\" x=\"368\" y=\"-349.8\" font-family=\"Times,serif\" font-size=\"14.00\" fill=\"#000000\">Serum &lt;= 1.815</text>\n<text text-anchor=\"middle\" x=\"368\" y=\"-334.8\" font-family=\"Times,serif\" font-size=\"14.00\" fill=\"#000000\">gini = 0.436</text>\n<text text-anchor=\"middle\" x=\"368\" y=\"-319.8\" font-family=\"Times,serif\" font-size=\"14.00\" fill=\"#000000\">samples = 299</text>\n<text text-anchor=\"middle\" x=\"368\" y=\"-304.8\" font-family=\"Times,serif\" font-size=\"14.00\" fill=\"#000000\">value = [203, 96]</text>\n</g>\n<!-- 1 -->\n<g id=\"node2\" class=\"node\">\n<title>1</title>\n<polygon fill=\"none\" stroke=\"#000000\" points=\"360.5,-261 243.5,-261 243.5,-193 360.5,-193 360.5,-261\"/>\n<text text-anchor=\"middle\" x=\"302\" y=\"-245.8\" font-family=\"Times,serif\" font-size=\"14.00\" fill=\"#000000\">Edad &lt;= 79.5</text>\n<text text-anchor=\"middle\" x=\"302\" y=\"-230.8\" font-family=\"Times,serif\" font-size=\"14.00\" fill=\"#000000\">gini = 0.368</text>\n<text text-anchor=\"middle\" x=\"302\" y=\"-215.8\" font-family=\"Times,serif\" font-size=\"14.00\" fill=\"#000000\">samples = 251</text>\n<text text-anchor=\"middle\" x=\"302\" y=\"-200.8\" font-family=\"Times,serif\" font-size=\"14.00\" fill=\"#000000\">value = [190, 61]</text>\n</g>\n<!-- 0&#45;&gt;1 -->\n<g id=\"edge1\" class=\"edge\">\n<title>0&#45;&gt;1</title>\n<path fill=\"none\" stroke=\"#000000\" d=\"M346.3891,-296.9465C340.8622,-288.2373 334.8494,-278.7626 329.0854,-269.6801\"/>\n<polygon fill=\"#000000\" stroke=\"#000000\" points=\"331.9729,-267.6979 323.6594,-261.13 326.0626,-271.4487 331.9729,-267.6979\"/>\n<text text-anchor=\"middle\" x=\"318.2058\" y=\"-281.8279\" font-family=\"Times,serif\" font-size=\"14.00\" fill=\"#000000\">True</text>\n</g>\n<!-- 8 -->\n<g id=\"node9\" class=\"node\">\n<title>8</title>\n<polygon fill=\"none\" stroke=\"#000000\" points=\"489,-261 379,-261 379,-193 489,-193 489,-261\"/>\n<text text-anchor=\"middle\" x=\"434\" y=\"-245.8\" font-family=\"Times,serif\" font-size=\"14.00\" fill=\"#000000\">Serum &lt;= 2.05</text>\n<text text-anchor=\"middle\" x=\"434\" y=\"-230.8\" font-family=\"Times,serif\" font-size=\"14.00\" fill=\"#000000\">gini = 0.395</text>\n<text text-anchor=\"middle\" x=\"434\" y=\"-215.8\" font-family=\"Times,serif\" font-size=\"14.00\" fill=\"#000000\">samples = 48</text>\n<text text-anchor=\"middle\" x=\"434\" y=\"-200.8\" font-family=\"Times,serif\" font-size=\"14.00\" fill=\"#000000\">value = [13, 35]</text>\n</g>\n<!-- 0&#45;&gt;8 -->\n<g id=\"edge8\" class=\"edge\">\n<title>0&#45;&gt;8</title>\n<path fill=\"none\" stroke=\"#000000\" d=\"M389.6109,-296.9465C395.1378,-288.2373 401.1506,-278.7626 406.9146,-269.6801\"/>\n<polygon fill=\"#000000\" stroke=\"#000000\" points=\"409.9374,-271.4487 412.3406,-261.13 404.0271,-267.6979 409.9374,-271.4487\"/>\n<text text-anchor=\"middle\" x=\"417.7942\" y=\"-281.8279\" font-family=\"Times,serif\" font-size=\"14.00\" fill=\"#000000\">False</text>\n</g>\n<!-- 2 -->\n<g id=\"node3\" class=\"node\">\n<title>2</title>\n<polygon fill=\"none\" stroke=\"#000000\" points=\"234.5,-157 117.5,-157 117.5,-89 234.5,-89 234.5,-157\"/>\n<text text-anchor=\"middle\" x=\"176\" y=\"-141.8\" font-family=\"Times,serif\" font-size=\"14.00\" fill=\"#000000\">Serum &lt;= 0.95</text>\n<text text-anchor=\"middle\" x=\"176\" y=\"-126.8\" font-family=\"Times,serif\" font-size=\"14.00\" fill=\"#000000\">gini = 0.339</text>\n<text text-anchor=\"middle\" x=\"176\" y=\"-111.8\" font-family=\"Times,serif\" font-size=\"14.00\" fill=\"#000000\">samples = 236</text>\n<text text-anchor=\"middle\" x=\"176\" y=\"-96.8\" font-family=\"Times,serif\" font-size=\"14.00\" fill=\"#000000\">value = [185, 51]</text>\n</g>\n<!-- 1&#45;&gt;2 -->\n<g id=\"edge2\" class=\"edge\">\n<title>1&#45;&gt;2</title>\n<path fill=\"none\" stroke=\"#000000\" d=\"M260.7429,-192.9465C249.4299,-183.6088 237.0508,-173.3911 225.3342,-163.7203\"/>\n<polygon fill=\"#000000\" stroke=\"#000000\" points=\"227.29,-160.7964 217.3498,-157.13 222.8341,-166.195 227.29,-160.7964\"/>\n</g>\n<!-- 5 -->\n<g id=\"node6\" class=\"node\">\n<title>5</title>\n<polygon fill=\"none\" stroke=\"#000000\" points=\"357,-157 253,-157 253,-89 357,-89 357,-157\"/>\n<text text-anchor=\"middle\" x=\"305\" y=\"-141.8\" font-family=\"Times,serif\" font-size=\"14.00\" fill=\"#000000\">Serum &lt;= 0.95</text>\n<text text-anchor=\"middle\" x=\"305\" y=\"-126.8\" font-family=\"Times,serif\" font-size=\"14.00\" fill=\"#000000\">gini = 0.444</text>\n<text text-anchor=\"middle\" x=\"305\" y=\"-111.8\" font-family=\"Times,serif\" font-size=\"14.00\" fill=\"#000000\">samples = 15</text>\n<text text-anchor=\"middle\" x=\"305\" y=\"-96.8\" font-family=\"Times,serif\" font-size=\"14.00\" fill=\"#000000\">value = [5, 10]</text>\n</g>\n<!-- 1&#45;&gt;5 -->\n<g id=\"edge5\" class=\"edge\">\n<title>1&#45;&gt;5</title>\n<path fill=\"none\" stroke=\"#000000\" d=\"M302.9823,-192.9465C303.218,-184.776 303.4731,-175.9318 303.7201,-167.3697\"/>\n<polygon fill=\"#000000\" stroke=\"#000000\" points=\"307.2256,-167.2268 304.0155,-157.13 300.2285,-167.0249 307.2256,-167.2268\"/>\n</g>\n<!-- 3 -->\n<g id=\"node4\" class=\"node\">\n<title>3</title>\n<polygon fill=\"none\" stroke=\"#000000\" points=\"102,-53 0,-53 0,0 102,0 102,-53\"/>\n<text text-anchor=\"middle\" x=\"51\" y=\"-37.8\" font-family=\"Times,serif\" font-size=\"14.00\" fill=\"#000000\">gini = 0.184</text>\n<text text-anchor=\"middle\" x=\"51\" y=\"-22.8\" font-family=\"Times,serif\" font-size=\"14.00\" fill=\"#000000\">samples = 78</text>\n<text text-anchor=\"middle\" x=\"51\" y=\"-7.8\" font-family=\"Times,serif\" font-size=\"14.00\" fill=\"#000000\">value = [70, 8]</text>\n</g>\n<!-- 2&#45;&gt;3 -->\n<g id=\"edge3\" class=\"edge\">\n<title>2&#45;&gt;3</title>\n<path fill=\"none\" stroke=\"#000000\" d=\"M131.9297,-88.9777C119.4752,-79.3629 105.9485,-68.9203 93.5833,-59.3743\"/>\n<polygon fill=\"#000000\" stroke=\"#000000\" points=\"95.7028,-56.5889 85.6483,-53.2485 91.4251,-62.1299 95.7028,-56.5889\"/>\n</g>\n<!-- 4 -->\n<g id=\"node5\" class=\"node\">\n<title>4</title>\n<polygon fill=\"none\" stroke=\"#000000\" points=\"236,-53 120,-53 120,0 236,0 236,-53\"/>\n<text text-anchor=\"middle\" x=\"178\" y=\"-37.8\" font-family=\"Times,serif\" font-size=\"14.00\" fill=\"#000000\">gini = 0.396</text>\n<text text-anchor=\"middle\" x=\"178\" y=\"-22.8\" font-family=\"Times,serif\" font-size=\"14.00\" fill=\"#000000\">samples = 158</text>\n<text text-anchor=\"middle\" x=\"178\" y=\"-7.8\" font-family=\"Times,serif\" font-size=\"14.00\" fill=\"#000000\">value = [115, 43]</text>\n</g>\n<!-- 2&#45;&gt;4 -->\n<g id=\"edge4\" class=\"edge\">\n<title>2&#45;&gt;4</title>\n<path fill=\"none\" stroke=\"#000000\" d=\"M176.7051,-88.9777C176.8759,-80.7364 177.0593,-71.887 177.2328,-63.5153\"/>\n<polygon fill=\"#000000\" stroke=\"#000000\" points=\"180.7376,-63.3189 177.4456,-53.2485 173.7391,-63.1738 180.7376,-63.3189\"/>\n</g>\n<!-- 6 -->\n<g id=\"node7\" class=\"node\">\n<title>6</title>\n<polygon fill=\"none\" stroke=\"#000000\" points=\"351.5,-53 256.5,-53 256.5,0 351.5,0 351.5,-53\"/>\n<text text-anchor=\"middle\" x=\"304\" y=\"-37.8\" font-family=\"Times,serif\" font-size=\"14.00\" fill=\"#000000\">gini = 0.444</text>\n<text text-anchor=\"middle\" x=\"304\" y=\"-22.8\" font-family=\"Times,serif\" font-size=\"14.00\" fill=\"#000000\">samples = 3</text>\n<text text-anchor=\"middle\" x=\"304\" y=\"-7.8\" font-family=\"Times,serif\" font-size=\"14.00\" fill=\"#000000\">value = [2, 1]</text>\n</g>\n<!-- 5&#45;&gt;6 -->\n<g id=\"edge6\" class=\"edge\">\n<title>5&#45;&gt;6</title>\n<path fill=\"none\" stroke=\"#000000\" d=\"M304.6474,-88.9777C304.562,-80.7364 304.4703,-71.887 304.3836,-63.5153\"/>\n<polygon fill=\"#000000\" stroke=\"#000000\" points=\"307.8807,-63.2116 304.2772,-53.2485 300.8811,-63.2842 307.8807,-63.2116\"/>\n</g>\n<!-- 7 -->\n<g id=\"node8\" class=\"node\">\n<title>7</title>\n<polygon fill=\"none\" stroke=\"#000000\" points=\"464.5,-53 369.5,-53 369.5,0 464.5,0 464.5,-53\"/>\n<text text-anchor=\"middle\" x=\"417\" y=\"-37.8\" font-family=\"Times,serif\" font-size=\"14.00\" fill=\"#000000\">gini = 0.375</text>\n<text text-anchor=\"middle\" x=\"417\" y=\"-22.8\" font-family=\"Times,serif\" font-size=\"14.00\" fill=\"#000000\">samples = 12</text>\n<text text-anchor=\"middle\" x=\"417\" y=\"-7.8\" font-family=\"Times,serif\" font-size=\"14.00\" fill=\"#000000\">value = [3, 9]</text>\n</g>\n<!-- 5&#45;&gt;7 -->\n<g id=\"edge7\" class=\"edge\">\n<title>5&#45;&gt;7</title>\n<path fill=\"none\" stroke=\"#000000\" d=\"M344.487,-88.9777C355.4336,-79.546 367.3047,-69.3178 378.2111,-59.9208\"/>\n<polygon fill=\"#000000\" stroke=\"#000000\" points=\"380.6639,-62.4274 385.9551,-53.2485 376.0947,-57.1244 380.6639,-62.4274\"/>\n</g>\n<!-- 9 -->\n<g id=\"node10\" class=\"node\">\n<title>9</title>\n<polygon fill=\"none\" stroke=\"#000000\" points=\"482,-149.5 380,-149.5 380,-96.5 482,-96.5 482,-149.5\"/>\n<text text-anchor=\"middle\" x=\"431\" y=\"-134.3\" font-family=\"Times,serif\" font-size=\"14.00\" fill=\"#000000\">gini = 0.0</text>\n<text text-anchor=\"middle\" x=\"431\" y=\"-119.3\" font-family=\"Times,serif\" font-size=\"14.00\" fill=\"#000000\">samples = 14</text>\n<text text-anchor=\"middle\" x=\"431\" y=\"-104.3\" font-family=\"Times,serif\" font-size=\"14.00\" fill=\"#000000\">value = [0, 14]</text>\n</g>\n<!-- 8&#45;&gt;9 -->\n<g id=\"edge9\" class=\"edge\">\n<title>8&#45;&gt;9</title>\n<path fill=\"none\" stroke=\"#000000\" d=\"M433.0177,-192.9465C432.7095,-182.2621 432.368,-170.4254 432.055,-159.5742\"/>\n<polygon fill=\"#000000\" stroke=\"#000000\" points=\"435.5526,-159.4371 431.7656,-149.5422 428.5555,-159.639 435.5526,-159.4371\"/>\n</g>\n<!-- 10 -->\n<g id=\"node11\" class=\"node\">\n<title>10</title>\n<polygon fill=\"none\" stroke=\"#000000\" points=\"610,-157 500,-157 500,-89 610,-89 610,-157\"/>\n<text text-anchor=\"middle\" x=\"555\" y=\"-141.8\" font-family=\"Times,serif\" font-size=\"14.00\" fill=\"#000000\">Serum &lt;= 6.45</text>\n<text text-anchor=\"middle\" x=\"555\" y=\"-126.8\" font-family=\"Times,serif\" font-size=\"14.00\" fill=\"#000000\">gini = 0.472</text>\n<text text-anchor=\"middle\" x=\"555\" y=\"-111.8\" font-family=\"Times,serif\" font-size=\"14.00\" fill=\"#000000\">samples = 34</text>\n<text text-anchor=\"middle\" x=\"555\" y=\"-96.8\" font-family=\"Times,serif\" font-size=\"14.00\" fill=\"#000000\">value = [13, 21]</text>\n</g>\n<!-- 8&#45;&gt;10 -->\n<g id=\"edge10\" class=\"edge\">\n<title>8&#45;&gt;10</title>\n<path fill=\"none\" stroke=\"#000000\" d=\"M473.6199,-192.9465C484.484,-183.6088 496.3718,-173.3911 507.6235,-163.7203\"/>\n<polygon fill=\"#000000\" stroke=\"#000000\" points=\"509.9887,-166.3026 515.2911,-157.13 505.4259,-160.994 509.9887,-166.3026\"/>\n</g>\n<!-- 11 -->\n<g id=\"node12\" class=\"node\">\n<title>11</title>\n<polygon fill=\"none\" stroke=\"#000000\" points=\"602,-53 492,-53 492,0 602,0 602,-53\"/>\n<text text-anchor=\"middle\" x=\"547\" y=\"-37.8\" font-family=\"Times,serif\" font-size=\"14.00\" fill=\"#000000\">gini = 0.487</text>\n<text text-anchor=\"middle\" x=\"547\" y=\"-22.8\" font-family=\"Times,serif\" font-size=\"14.00\" fill=\"#000000\">samples = 31</text>\n<text text-anchor=\"middle\" x=\"547\" y=\"-7.8\" font-family=\"Times,serif\" font-size=\"14.00\" fill=\"#000000\">value = [13, 18]</text>\n</g>\n<!-- 10&#45;&gt;11 -->\n<g id=\"edge11\" class=\"edge\">\n<title>10&#45;&gt;11</title>\n<path fill=\"none\" stroke=\"#000000\" d=\"M552.1795,-88.9777C551.4887,-80.6449 550.7463,-71.6903 550.0455,-63.2364\"/>\n<polygon fill=\"#000000\" stroke=\"#000000\" points=\"553.5318,-62.9251 549.2175,-53.2485 546.5557,-63.5035 553.5318,-62.9251\"/>\n</g>\n<!-- 12 -->\n<g id=\"node13\" class=\"node\">\n<title>12</title>\n<polygon fill=\"none\" stroke=\"#000000\" points=\"715.5,-53 620.5,-53 620.5,0 715.5,0 715.5,-53\"/>\n<text text-anchor=\"middle\" x=\"668\" y=\"-37.8\" font-family=\"Times,serif\" font-size=\"14.00\" fill=\"#000000\">gini = 0.0</text>\n<text text-anchor=\"middle\" x=\"668\" y=\"-22.8\" font-family=\"Times,serif\" font-size=\"14.00\" fill=\"#000000\">samples = 3</text>\n<text text-anchor=\"middle\" x=\"668\" y=\"-7.8\" font-family=\"Times,serif\" font-size=\"14.00\" fill=\"#000000\">value = [0, 3]</text>\n</g>\n<!-- 10&#45;&gt;12 -->\n<g id=\"edge12\" class=\"edge\">\n<title>10&#45;&gt;12</title>\n<path fill=\"none\" stroke=\"#000000\" d=\"M594.8396,-88.9777C605.8839,-79.546 617.861,-69.3178 628.8648,-59.9208\"/>\n<polygon fill=\"#000000\" stroke=\"#000000\" points=\"631.3464,-62.4041 636.6779,-53.2485 626.8006,-57.081 631.3464,-62.4041\"/>\n</g>\n</g>\n</svg>\n"
          },
          "metadata": {
            "tags": []
          },
          "execution_count": 72
        }
      ]
    },
    {
      "cell_type": "markdown",
      "metadata": {
        "id": "WYs1eiOgMKWU"
      },
      "source": [
        "## 0405 Realizamos una predicción\r\n",
        "Una vez el modelo está entrenado (definido) podemos pasarle datos para obtener las prediciones correspondientes de la variable objetivo. \r\n",
        "\r\n",
        "Para esto utilizamos el método .[predict()](https://scikit-learn.org/stable/modules/generated/sklearn.tree.DecisionTreeClassifier.html#sklearn.tree.DecisionTreeClassifier.predict)."
      ]
    },
    {
      "cell_type": "code",
      "metadata": {
        "id": "acmqdf6ByLdw",
        "outputId": "fa75658f-1583-4712-9b35-dd72f5018449",
        "colab": {
          "base_uri": "https://localhost:8080/"
        }
      },
      "source": [
        "# Predicción\r\n",
        "prediccion = arbol.predict(df_resumen[['Edad', 'Serum', 'Anemia']])\r\n",
        "prediccion"
      ],
      "execution_count": 73,
      "outputs": [
        {
          "output_type": "execute_result",
          "data": {
            "text/plain": [
              "array([1, 0, 0, 1, 1, 1, 0, 0, 0, 1, 1, 0, 0, 0, 0, 1, 0, 0, 0, 1, 0, 0,\n",
              "       0, 0, 1, 1, 1, 0, 1, 1, 1, 1, 0, 0, 0, 1, 1, 1, 1, 1, 1, 0, 0, 0,\n",
              "       0, 1, 0, 0, 1, 0, 0, 0, 1, 0, 1, 1, 1, 0, 0, 0, 0, 1, 0, 0, 0, 1,\n",
              "       0, 0, 0, 1, 0, 0, 1, 0, 0, 0, 0, 0, 0, 0, 0, 0, 1, 0, 0, 0, 0, 0,\n",
              "       0, 0, 0, 0, 0, 0, 0, 0, 0, 0, 0, 0, 0, 0, 1, 0, 1, 0, 0, 0, 0, 0,\n",
              "       1, 0, 0, 0, 0, 0, 0, 1, 0, 1, 0, 0, 0, 0, 1, 0, 1, 0, 0, 1, 0, 1,\n",
              "       0, 0, 1, 0, 0, 1, 0, 0, 1, 0, 0, 0, 0, 0, 0, 0, 1, 0, 1, 0, 0, 0,\n",
              "       0, 0, 0, 0, 1, 0, 0, 0, 0, 0, 0, 1, 0, 1, 0, 0, 0, 0, 0, 0, 0, 0,\n",
              "       0, 0, 0, 0, 0, 0, 0, 1, 0, 0, 0, 1, 0, 0, 1, 0, 0, 0, 0, 0, 0, 0,\n",
              "       0, 0, 0, 0, 0, 1, 0, 0, 0, 0, 0, 0, 0, 0, 0, 0, 0, 0, 0, 1, 0, 0,\n",
              "       1, 0, 0, 0, 0, 0, 0, 0, 1, 0, 0, 0, 0, 0, 0, 0, 0, 0, 0, 0, 0, 0,\n",
              "       0, 0, 0, 0, 0, 1, 0, 0, 0, 0, 0, 0, 0, 0, 0, 0, 0, 0, 0, 0, 0, 0,\n",
              "       0, 0, 1, 0, 0, 0, 0, 0, 0, 0, 0, 0, 0, 0, 0, 0, 0, 1, 1, 0, 0, 0,\n",
              "       0, 0, 0, 0, 0, 0, 0, 0, 0, 0, 0, 0, 0])"
            ]
          },
          "metadata": {
            "tags": []
          },
          "execution_count": 73
        }
      ]
    },
    {
      "cell_type": "code",
      "metadata": {
        "id": "3cMYHbiDyRPW",
        "outputId": "014712bc-af1c-4398-b18f-d2c92972def7",
        "colab": {
          "base_uri": "https://localhost:8080/"
        }
      },
      "source": [
        "# Cómo de buena es la predicción?\r\n",
        "from sklearn.metrics import accuracy_score\r\n",
        "accuracy_score(df_resumen['Fallece'], prediccion)"
      ],
      "execution_count": 74,
      "outputs": [
        {
          "output_type": "execute_result",
          "data": {
            "text/plain": [
              "0.7725752508361204"
            ]
          },
          "metadata": {
            "tags": []
          },
          "execution_count": 74
        }
      ]
    },
    {
      "cell_type": "markdown",
      "metadata": {
        "id": "OOwjE0vpVDAV"
      },
      "source": [
        "# 05 EJEMPLO\r\n",
        "Entrenamos un árbol de decisión con todas las variables del set de datos de accidente cardiaco, y evaluamos si la predicción es mejor o peor que utilizando tres variables."
      ]
    },
    {
      "cell_type": "code",
      "metadata": {
        "id": "IA-sUogXVhQo",
        "outputId": "fa90cc91-4d29-4e55-c99f-e28bedf645b1",
        "colab": {
          "base_uri": "https://localhost:8080/",
          "height": 131
        }
      },
      "source": [
        "df.head(2)"
      ],
      "execution_count": 75,
      "outputs": [
        {
          "output_type": "execute_result",
          "data": {
            "text/html": [
              "<div>\n",
              "<style scoped>\n",
              "    .dataframe tbody tr th:only-of-type {\n",
              "        vertical-align: middle;\n",
              "    }\n",
              "\n",
              "    .dataframe tbody tr th {\n",
              "        vertical-align: top;\n",
              "    }\n",
              "\n",
              "    .dataframe thead th {\n",
              "        text-align: right;\n",
              "    }\n",
              "</style>\n",
              "<table border=\"1\" class=\"dataframe\">\n",
              "  <thead>\n",
              "    <tr style=\"text-align: right;\">\n",
              "      <th></th>\n",
              "      <th>age</th>\n",
              "      <th>anaemia</th>\n",
              "      <th>creatinine_phosphokinase</th>\n",
              "      <th>diabetes</th>\n",
              "      <th>ejection_fraction</th>\n",
              "      <th>high_blood_pressure</th>\n",
              "      <th>platelets</th>\n",
              "      <th>serum_creatinine</th>\n",
              "      <th>serum_sodium</th>\n",
              "      <th>sex</th>\n",
              "      <th>smoking</th>\n",
              "      <th>time</th>\n",
              "      <th>DEATH_EVENT</th>\n",
              "    </tr>\n",
              "  </thead>\n",
              "  <tbody>\n",
              "    <tr>\n",
              "      <th>0</th>\n",
              "      <td>75.0</td>\n",
              "      <td>0</td>\n",
              "      <td>582</td>\n",
              "      <td>0</td>\n",
              "      <td>20</td>\n",
              "      <td>1</td>\n",
              "      <td>265000.00</td>\n",
              "      <td>1.9</td>\n",
              "      <td>130</td>\n",
              "      <td>1</td>\n",
              "      <td>0</td>\n",
              "      <td>4</td>\n",
              "      <td>1</td>\n",
              "    </tr>\n",
              "    <tr>\n",
              "      <th>1</th>\n",
              "      <td>55.0</td>\n",
              "      <td>0</td>\n",
              "      <td>7861</td>\n",
              "      <td>0</td>\n",
              "      <td>38</td>\n",
              "      <td>0</td>\n",
              "      <td>263358.03</td>\n",
              "      <td>1.1</td>\n",
              "      <td>136</td>\n",
              "      <td>1</td>\n",
              "      <td>0</td>\n",
              "      <td>6</td>\n",
              "      <td>1</td>\n",
              "    </tr>\n",
              "  </tbody>\n",
              "</table>\n",
              "</div>"
            ],
            "text/plain": [
              "    age  anaemia  creatinine_phosphokinase  ...  smoking  time  DEATH_EVENT\n",
              "0  75.0        0                       582  ...        0     4            1\n",
              "1  55.0        0                      7861  ...        0     6            1\n",
              "\n",
              "[2 rows x 13 columns]"
            ]
          },
          "metadata": {
            "tags": []
          },
          "execution_count": 75
        }
      ]
    },
    {
      "cell_type": "code",
      "metadata": {
        "id": "ayeaAVKLVBzE"
      },
      "source": [
        "# Inicializamos un árbol. Por ahora está vacío. Solo definimos cómo queremos que sea.\r\n",
        "arbol_grande = tree.DecisionTreeClassifier(max_depth=6)"
      ],
      "execution_count": 76,
      "outputs": []
    },
    {
      "cell_type": "code",
      "metadata": {
        "colab": {
          "base_uri": "https://localhost:8080/"
        },
        "id": "s9yle38RS-DP",
        "outputId": "577028b1-ec45-45a8-cccc-0f09c5d00712"
      },
      "source": [
        "# Entrenamos el árbol inicializado a partir de los datos que le pasemos con .fit()\r\n",
        "# No utilizamos la variable Time porque da información del target \r\n",
        "# (no la conoceríamos a la hora de hacer una predicción del futuro)\r\n",
        "\r\n",
        "arbol_grande = arbol_grande.fit(X = df.iloc[:,:-2], \r\n",
        "                                y = df[['DEATH_EVENT']])\r\n",
        "arbol_grande"
      ],
      "execution_count": 77,
      "outputs": [
        {
          "output_type": "execute_result",
          "data": {
            "text/plain": [
              "DecisionTreeClassifier(ccp_alpha=0.0, class_weight=None, criterion='gini',\n",
              "                       max_depth=6, max_features=None, max_leaf_nodes=None,\n",
              "                       min_impurity_decrease=0.0, min_impurity_split=None,\n",
              "                       min_samples_leaf=1, min_samples_split=2,\n",
              "                       min_weight_fraction_leaf=0.0, presort='deprecated',\n",
              "                       random_state=None, splitter='best')"
            ]
          },
          "metadata": {
            "tags": []
          },
          "execution_count": 77
        }
      ]
    },
    {
      "cell_type": "code",
      "metadata": {
        "id": "-w4XaJn9VqRY",
        "outputId": "2ce50a9f-f894-443c-821f-07cf6666b2d0",
        "colab": {
          "base_uri": "https://localhost:8080/"
        }
      },
      "source": [
        "# Podemos visualizar la estructura\r\n",
        "print(tree.export_text(arbol_grande, \r\n",
        "                       feature_names=list(df.iloc[:,:-2].columns)))"
      ],
      "execution_count": 78,
      "outputs": [
        {
          "output_type": "stream",
          "text": [
            "|--- serum_creatinine <= 1.81\n",
            "|   |--- ejection_fraction <= 27.50\n",
            "|   |   |--- serum_sodium <= 143.00\n",
            "|   |   |   |--- creatinine_phosphokinase <= 685.50\n",
            "|   |   |   |   |--- platelets <= 275000.00\n",
            "|   |   |   |   |   |--- age <= 58.50\n",
            "|   |   |   |   |   |   |--- class: 0\n",
            "|   |   |   |   |   |--- age >  58.50\n",
            "|   |   |   |   |   |   |--- class: 1\n",
            "|   |   |   |   |--- platelets >  275000.00\n",
            "|   |   |   |   |   |--- serum_sodium <= 138.50\n",
            "|   |   |   |   |   |   |--- class: 0\n",
            "|   |   |   |   |   |--- serum_sodium >  138.50\n",
            "|   |   |   |   |   |   |--- class: 1\n",
            "|   |   |   |--- creatinine_phosphokinase >  685.50\n",
            "|   |   |   |   |--- class: 1\n",
            "|   |   |--- serum_sodium >  143.00\n",
            "|   |   |   |--- class: 0\n",
            "|   |--- ejection_fraction >  27.50\n",
            "|   |   |--- age <= 79.50\n",
            "|   |   |   |--- serum_creatinine <= 1.45\n",
            "|   |   |   |   |--- creatinine_phosphokinase <= 6535.00\n",
            "|   |   |   |   |   |--- platelets <= 332000.00\n",
            "|   |   |   |   |   |   |--- class: 0\n",
            "|   |   |   |   |   |--- platelets >  332000.00\n",
            "|   |   |   |   |   |   |--- class: 0\n",
            "|   |   |   |   |--- creatinine_phosphokinase >  6535.00\n",
            "|   |   |   |   |   |--- class: 1\n",
            "|   |   |   |--- serum_creatinine >  1.45\n",
            "|   |   |   |   |--- ejection_fraction <= 32.50\n",
            "|   |   |   |   |   |--- creatinine_phosphokinase <= 455.00\n",
            "|   |   |   |   |   |   |--- class: 1\n",
            "|   |   |   |   |   |--- creatinine_phosphokinase >  455.00\n",
            "|   |   |   |   |   |   |--- class: 0\n",
            "|   |   |   |   |--- ejection_fraction >  32.50\n",
            "|   |   |   |   |   |--- ejection_fraction <= 62.50\n",
            "|   |   |   |   |   |   |--- class: 0\n",
            "|   |   |   |   |   |--- ejection_fraction >  62.50\n",
            "|   |   |   |   |   |   |--- class: 1\n",
            "|   |   |--- age >  79.50\n",
            "|   |   |   |--- creatinine_phosphokinase <= 180.50\n",
            "|   |   |   |   |--- class: 1\n",
            "|   |   |   |--- creatinine_phosphokinase >  180.50\n",
            "|   |   |   |   |--- creatinine_phosphokinase <= 358.00\n",
            "|   |   |   |   |   |--- class: 0\n",
            "|   |   |   |   |--- creatinine_phosphokinase >  358.00\n",
            "|   |   |   |   |   |--- creatinine_phosphokinase <= 882.50\n",
            "|   |   |   |   |   |   |--- class: 1\n",
            "|   |   |   |   |   |--- creatinine_phosphokinase >  882.50\n",
            "|   |   |   |   |   |   |--- class: 0\n",
            "|--- serum_creatinine >  1.81\n",
            "|   |--- serum_creatinine <= 2.05\n",
            "|   |   |--- class: 1\n",
            "|   |--- serum_creatinine >  2.05\n",
            "|   |   |--- serum_sodium <= 134.50\n",
            "|   |   |   |--- creatinine_phosphokinase <= 614.00\n",
            "|   |   |   |   |--- age <= 44.00\n",
            "|   |   |   |   |   |--- class: 0\n",
            "|   |   |   |   |--- age >  44.00\n",
            "|   |   |   |   |   |--- platelets <= 232500.00\n",
            "|   |   |   |   |   |   |--- class: 1\n",
            "|   |   |   |   |   |--- platelets >  232500.00\n",
            "|   |   |   |   |   |   |--- class: 1\n",
            "|   |   |   |--- creatinine_phosphokinase >  614.00\n",
            "|   |   |   |   |--- class: 0\n",
            "|   |   |--- serum_sodium >  134.50\n",
            "|   |   |   |--- sex <= 0.50\n",
            "|   |   |   |   |--- creatinine_phosphokinase <= 167.50\n",
            "|   |   |   |   |   |--- class: 0\n",
            "|   |   |   |   |--- creatinine_phosphokinase >  167.50\n",
            "|   |   |   |   |   |--- class: 1\n",
            "|   |   |   |--- sex >  0.50\n",
            "|   |   |   |   |--- class: 0\n",
            "\n"
          ],
          "name": "stdout"
        }
      ]
    },
    {
      "cell_type": "code",
      "metadata": {
        "id": "dZc4ejfOV7oX",
        "outputId": "7b35c2be-2579-4d02-c0fc-590577ce6d54",
        "colab": {
          "base_uri": "https://localhost:8080/",
          "height": 954
        }
      },
      "source": [
        "import graphviz \r\n",
        "dot_data = tree.export_graphviz(arbol_grande, \r\n",
        "                                out_file=None, \r\n",
        "                                feature_names=list(df.iloc[:,:-2].columns)) \r\n",
        "graph = graphviz.Source(dot_data) \r\n",
        "graph"
      ],
      "execution_count": 79,
      "outputs": [
        {
          "output_type": "execute_result",
          "data": {
            "text/plain": [
              "<graphviz.files.Source at 0x7f6a5a01fba8>"
            ],
            "image/svg+xml": "<?xml version=\"1.0\" encoding=\"UTF-8\" standalone=\"no\"?>\n<!DOCTYPE svg PUBLIC \"-//W3C//DTD SVG 1.1//EN\"\n \"http://www.w3.org/Graphics/SVG/1.1/DTD/svg11.dtd\">\n<!-- Generated by graphviz version 2.40.1 (20161225.0304)\n -->\n<!-- Title: Tree Pages: 1 -->\n<svg width=\"2071pt\" height=\"685pt\"\n viewBox=\"0.00 0.00 2071.00 685.00\" xmlns=\"http://www.w3.org/2000/svg\" xmlns:xlink=\"http://www.w3.org/1999/xlink\">\n<g id=\"graph0\" class=\"graph\" transform=\"scale(1 1) rotate(0) translate(4 681)\">\n<title>Tree</title>\n<polygon fill=\"#ffffff\" stroke=\"transparent\" points=\"-4,4 -4,-681 2067,-681 2067,4 -4,4\"/>\n<!-- 0 -->\n<g id=\"node1\" class=\"node\">\n<title>0</title>\n<polygon fill=\"none\" stroke=\"#000000\" points=\"1219,-677 1048,-677 1048,-609 1219,-609 1219,-677\"/>\n<text text-anchor=\"middle\" x=\"1133.5\" y=\"-661.8\" font-family=\"Times,serif\" font-size=\"14.00\" fill=\"#000000\">serum_creatinine &lt;= 1.815</text>\n<text text-anchor=\"middle\" x=\"1133.5\" y=\"-646.8\" font-family=\"Times,serif\" font-size=\"14.00\" fill=\"#000000\">gini = 0.436</text>\n<text text-anchor=\"middle\" x=\"1133.5\" y=\"-631.8\" font-family=\"Times,serif\" font-size=\"14.00\" fill=\"#000000\">samples = 299</text>\n<text text-anchor=\"middle\" x=\"1133.5\" y=\"-616.8\" font-family=\"Times,serif\" font-size=\"14.00\" fill=\"#000000\">value = [203, 96]</text>\n</g>\n<!-- 1 -->\n<g id=\"node2\" class=\"node\">\n<title>1</title>\n<polygon fill=\"none\" stroke=\"#000000\" points=\"951.5,-573 789.5,-573 789.5,-505 951.5,-505 951.5,-573\"/>\n<text text-anchor=\"middle\" x=\"870.5\" y=\"-557.8\" font-family=\"Times,serif\" font-size=\"14.00\" fill=\"#000000\">ejection_fraction &lt;= 27.5</text>\n<text text-anchor=\"middle\" x=\"870.5\" y=\"-542.8\" font-family=\"Times,serif\" font-size=\"14.00\" fill=\"#000000\">gini = 0.368</text>\n<text text-anchor=\"middle\" x=\"870.5\" y=\"-527.8\" font-family=\"Times,serif\" font-size=\"14.00\" fill=\"#000000\">samples = 251</text>\n<text text-anchor=\"middle\" x=\"870.5\" y=\"-512.8\" font-family=\"Times,serif\" font-size=\"14.00\" fill=\"#000000\">value = [190, 61]</text>\n</g>\n<!-- 0&#45;&gt;1 -->\n<g id=\"edge1\" class=\"edge\">\n<title>0&#45;&gt;1</title>\n<path fill=\"none\" stroke=\"#000000\" d=\"M1047.7479,-609.0904C1020.0048,-598.1198 989.1582,-585.9219 961.0769,-574.8175\"/>\n<polygon fill=\"#000000\" stroke=\"#000000\" points=\"962.2546,-571.5195 951.6682,-571.0969 959.6805,-578.0291 962.2546,-571.5195\"/>\n<text text-anchor=\"middle\" x=\"961.6067\" y=\"-590.3366\" font-family=\"Times,serif\" font-size=\"14.00\" fill=\"#000000\">True</text>\n</g>\n<!-- 34 -->\n<g id=\"node35\" class=\"node\">\n<title>34</title>\n<polygon fill=\"none\" stroke=\"#000000\" points=\"1404.5,-573 1240.5,-573 1240.5,-505 1404.5,-505 1404.5,-573\"/>\n<text text-anchor=\"middle\" x=\"1322.5\" y=\"-557.8\" font-family=\"Times,serif\" font-size=\"14.00\" fill=\"#000000\">serum_creatinine &lt;= 2.05</text>\n<text text-anchor=\"middle\" x=\"1322.5\" y=\"-542.8\" font-family=\"Times,serif\" font-size=\"14.00\" fill=\"#000000\">gini = 0.395</text>\n<text text-anchor=\"middle\" x=\"1322.5\" y=\"-527.8\" font-family=\"Times,serif\" font-size=\"14.00\" fill=\"#000000\">samples = 48</text>\n<text text-anchor=\"middle\" x=\"1322.5\" y=\"-512.8\" font-family=\"Times,serif\" font-size=\"14.00\" fill=\"#000000\">value = [13, 35]</text>\n</g>\n<!-- 0&#45;&gt;34 -->\n<g id=\"edge34\" class=\"edge\">\n<title>0&#45;&gt;34</title>\n<path fill=\"none\" stroke=\"#000000\" d=\"M1195.3857,-608.9465C1213.3341,-599.0701 1233.0716,-588.2093 1251.5301,-578.0522\"/>\n<polygon fill=\"#000000\" stroke=\"#000000\" points=\"1253.4015,-581.0174 1260.4753,-573.13 1250.0267,-574.8846 1253.4015,-581.0174\"/>\n<text text-anchor=\"middle\" x=\"1253.5099\" y=\"-593.4401\" font-family=\"Times,serif\" font-size=\"14.00\" fill=\"#000000\">False</text>\n</g>\n<!-- 2 -->\n<g id=\"node3\" class=\"node\">\n<title>2</title>\n<polygon fill=\"none\" stroke=\"#000000\" points=\"763,-469 604,-469 604,-401 763,-401 763,-469\"/>\n<text text-anchor=\"middle\" x=\"683.5\" y=\"-453.8\" font-family=\"Times,serif\" font-size=\"14.00\" fill=\"#000000\">serum_sodium &lt;= 143.0</text>\n<text text-anchor=\"middle\" x=\"683.5\" y=\"-438.8\" font-family=\"Times,serif\" font-size=\"14.00\" fill=\"#000000\">gini = 0.482</text>\n<text text-anchor=\"middle\" x=\"683.5\" y=\"-423.8\" font-family=\"Times,serif\" font-size=\"14.00\" fill=\"#000000\">samples = 42</text>\n<text text-anchor=\"middle\" x=\"683.5\" y=\"-408.8\" font-family=\"Times,serif\" font-size=\"14.00\" fill=\"#000000\">value = [17, 25]</text>\n</g>\n<!-- 1&#45;&gt;2 -->\n<g id=\"edge2\" class=\"edge\">\n<title>1&#45;&gt;2</title>\n<path fill=\"none\" stroke=\"#000000\" d=\"M809.2692,-504.9465C791.5107,-495.0701 771.982,-484.2093 753.7189,-474.0522\"/>\n<polygon fill=\"#000000\" stroke=\"#000000\" points=\"755.3089,-470.9317 744.8684,-469.13 751.9066,-477.0492 755.3089,-470.9317\"/>\n</g>\n<!-- 13 -->\n<g id=\"node14\" class=\"node\">\n<title>13</title>\n<polygon fill=\"none\" stroke=\"#000000\" points=\"929,-469 812,-469 812,-401 929,-401 929,-469\"/>\n<text text-anchor=\"middle\" x=\"870.5\" y=\"-453.8\" font-family=\"Times,serif\" font-size=\"14.00\" fill=\"#000000\">age &lt;= 79.5</text>\n<text text-anchor=\"middle\" x=\"870.5\" y=\"-438.8\" font-family=\"Times,serif\" font-size=\"14.00\" fill=\"#000000\">gini = 0.285</text>\n<text text-anchor=\"middle\" x=\"870.5\" y=\"-423.8\" font-family=\"Times,serif\" font-size=\"14.00\" fill=\"#000000\">samples = 209</text>\n<text text-anchor=\"middle\" x=\"870.5\" y=\"-408.8\" font-family=\"Times,serif\" font-size=\"14.00\" fill=\"#000000\">value = [173, 36]</text>\n</g>\n<!-- 1&#45;&gt;13 -->\n<g id=\"edge13\" class=\"edge\">\n<title>1&#45;&gt;13</title>\n<path fill=\"none\" stroke=\"#000000\" d=\"M870.5,-504.9465C870.5,-496.776 870.5,-487.9318 870.5,-479.3697\"/>\n<polygon fill=\"#000000\" stroke=\"#000000\" points=\"874.0001,-479.13 870.5,-469.13 867.0001,-479.13 874.0001,-479.13\"/>\n</g>\n<!-- 3 -->\n<g id=\"node4\" class=\"node\">\n<title>3</title>\n<polygon fill=\"none\" stroke=\"#000000\" points=\"577,-365 354,-365 354,-297 577,-297 577,-365\"/>\n<text text-anchor=\"middle\" x=\"465.5\" y=\"-349.8\" font-family=\"Times,serif\" font-size=\"14.00\" fill=\"#000000\">creatinine_phosphokinase &lt;= 685.5</text>\n<text text-anchor=\"middle\" x=\"465.5\" y=\"-334.8\" font-family=\"Times,serif\" font-size=\"14.00\" fill=\"#000000\">gini = 0.469</text>\n<text text-anchor=\"middle\" x=\"465.5\" y=\"-319.8\" font-family=\"Times,serif\" font-size=\"14.00\" fill=\"#000000\">samples = 40</text>\n<text text-anchor=\"middle\" x=\"465.5\" y=\"-304.8\" font-family=\"Times,serif\" font-size=\"14.00\" fill=\"#000000\">value = [15, 25]</text>\n</g>\n<!-- 2&#45;&gt;3 -->\n<g id=\"edge3\" class=\"edge\">\n<title>2&#45;&gt;3</title>\n<path fill=\"none\" stroke=\"#000000\" d=\"M612.1186,-400.9465C591.0398,-390.8906 567.8216,-379.814 546.1997,-369.4989\"/>\n<polygon fill=\"#000000\" stroke=\"#000000\" points=\"547.5743,-366.2769 537.0417,-365.13 544.5602,-372.5948 547.5743,-366.2769\"/>\n</g>\n<!-- 12 -->\n<g id=\"node13\" class=\"node\">\n<title>12</title>\n<polygon fill=\"none\" stroke=\"#000000\" points=\"731,-357.5 636,-357.5 636,-304.5 731,-304.5 731,-357.5\"/>\n<text text-anchor=\"middle\" x=\"683.5\" y=\"-342.3\" font-family=\"Times,serif\" font-size=\"14.00\" fill=\"#000000\">gini = 0.0</text>\n<text text-anchor=\"middle\" x=\"683.5\" y=\"-327.3\" font-family=\"Times,serif\" font-size=\"14.00\" fill=\"#000000\">samples = 2</text>\n<text text-anchor=\"middle\" x=\"683.5\" y=\"-312.3\" font-family=\"Times,serif\" font-size=\"14.00\" fill=\"#000000\">value = [2, 0]</text>\n</g>\n<!-- 2&#45;&gt;12 -->\n<g id=\"edge12\" class=\"edge\">\n<title>2&#45;&gt;12</title>\n<path fill=\"none\" stroke=\"#000000\" d=\"M683.5,-400.9465C683.5,-390.2621 683.5,-378.4254 683.5,-367.5742\"/>\n<polygon fill=\"#000000\" stroke=\"#000000\" points=\"687.0001,-367.5421 683.5,-357.5422 680.0001,-367.5422 687.0001,-367.5421\"/>\n</g>\n<!-- 4 -->\n<g id=\"node5\" class=\"node\">\n<title>4</title>\n<polygon fill=\"none\" stroke=\"#000000\" points=\"397,-261 254,-261 254,-193 397,-193 397,-261\"/>\n<text text-anchor=\"middle\" x=\"325.5\" y=\"-245.8\" font-family=\"Times,serif\" font-size=\"14.00\" fill=\"#000000\">platelets &lt;= 275000.0</text>\n<text text-anchor=\"middle\" x=\"325.5\" y=\"-230.8\" font-family=\"Times,serif\" font-size=\"14.00\" fill=\"#000000\">gini = 0.49</text>\n<text text-anchor=\"middle\" x=\"325.5\" y=\"-215.8\" font-family=\"Times,serif\" font-size=\"14.00\" fill=\"#000000\">samples = 35</text>\n<text text-anchor=\"middle\" x=\"325.5\" y=\"-200.8\" font-family=\"Times,serif\" font-size=\"14.00\" fill=\"#000000\">value = [15, 20]</text>\n</g>\n<!-- 3&#45;&gt;4 -->\n<g id=\"edge4\" class=\"edge\">\n<title>3&#45;&gt;4</title>\n<path fill=\"none\" stroke=\"#000000\" d=\"M419.6588,-296.9465C406.8471,-287.4293 392.8048,-276.9978 379.5656,-267.163\"/>\n<polygon fill=\"#000000\" stroke=\"#000000\" points=\"381.5588,-264.2837 371.4442,-261.13 377.3845,-269.9029 381.5588,-264.2837\"/>\n</g>\n<!-- 11 -->\n<g id=\"node12\" class=\"node\">\n<title>11</title>\n<polygon fill=\"none\" stroke=\"#000000\" points=\"513,-253.5 418,-253.5 418,-200.5 513,-200.5 513,-253.5\"/>\n<text text-anchor=\"middle\" x=\"465.5\" y=\"-238.3\" font-family=\"Times,serif\" font-size=\"14.00\" fill=\"#000000\">gini = 0.0</text>\n<text text-anchor=\"middle\" x=\"465.5\" y=\"-223.3\" font-family=\"Times,serif\" font-size=\"14.00\" fill=\"#000000\">samples = 5</text>\n<text text-anchor=\"middle\" x=\"465.5\" y=\"-208.3\" font-family=\"Times,serif\" font-size=\"14.00\" fill=\"#000000\">value = [0, 5]</text>\n</g>\n<!-- 3&#45;&gt;11 -->\n<g id=\"edge11\" class=\"edge\">\n<title>3&#45;&gt;11</title>\n<path fill=\"none\" stroke=\"#000000\" d=\"M465.5,-296.9465C465.5,-286.2621 465.5,-274.4254 465.5,-263.5742\"/>\n<polygon fill=\"#000000\" stroke=\"#000000\" points=\"469.0001,-263.5421 465.5,-253.5422 462.0001,-263.5422 469.0001,-263.5421\"/>\n</g>\n<!-- 5 -->\n<g id=\"node6\" class=\"node\">\n<title>5</title>\n<polygon fill=\"none\" stroke=\"#000000\" points=\"215.5,-157 113.5,-157 113.5,-89 215.5,-89 215.5,-157\"/>\n<text text-anchor=\"middle\" x=\"164.5\" y=\"-141.8\" font-family=\"Times,serif\" font-size=\"14.00\" fill=\"#000000\">age &lt;= 58.5</text>\n<text text-anchor=\"middle\" x=\"164.5\" y=\"-126.8\" font-family=\"Times,serif\" font-size=\"14.00\" fill=\"#000000\">gini = 0.444</text>\n<text text-anchor=\"middle\" x=\"164.5\" y=\"-111.8\" font-family=\"Times,serif\" font-size=\"14.00\" fill=\"#000000\">samples = 27</text>\n<text text-anchor=\"middle\" x=\"164.5\" y=\"-96.8\" font-family=\"Times,serif\" font-size=\"14.00\" fill=\"#000000\">value = [9, 18]</text>\n</g>\n<!-- 4&#45;&gt;5 -->\n<g id=\"edge5\" class=\"edge\">\n<title>4&#45;&gt;5</title>\n<path fill=\"none\" stroke=\"#000000\" d=\"M272.7826,-192.9465C257.3069,-182.9498 240.2698,-171.9445 224.3816,-161.6813\"/>\n<polygon fill=\"#000000\" stroke=\"#000000\" points=\"225.9893,-158.5531 215.6903,-156.067 222.1911,-164.4331 225.9893,-158.5531\"/>\n</g>\n<!-- 8 -->\n<g id=\"node9\" class=\"node\">\n<title>8</title>\n<polygon fill=\"none\" stroke=\"#000000\" points=\"405,-157 246,-157 246,-89 405,-89 405,-157\"/>\n<text text-anchor=\"middle\" x=\"325.5\" y=\"-141.8\" font-family=\"Times,serif\" font-size=\"14.00\" fill=\"#000000\">serum_sodium &lt;= 138.5</text>\n<text text-anchor=\"middle\" x=\"325.5\" y=\"-126.8\" font-family=\"Times,serif\" font-size=\"14.00\" fill=\"#000000\">gini = 0.375</text>\n<text text-anchor=\"middle\" x=\"325.5\" y=\"-111.8\" font-family=\"Times,serif\" font-size=\"14.00\" fill=\"#000000\">samples = 8</text>\n<text text-anchor=\"middle\" x=\"325.5\" y=\"-96.8\" font-family=\"Times,serif\" font-size=\"14.00\" fill=\"#000000\">value = [6, 2]</text>\n</g>\n<!-- 4&#45;&gt;8 -->\n<g id=\"edge8\" class=\"edge\">\n<title>4&#45;&gt;8</title>\n<path fill=\"none\" stroke=\"#000000\" d=\"M325.5,-192.9465C325.5,-184.776 325.5,-175.9318 325.5,-167.3697\"/>\n<polygon fill=\"#000000\" stroke=\"#000000\" points=\"329.0001,-167.13 325.5,-157.13 322.0001,-167.13 329.0001,-167.13\"/>\n</g>\n<!-- 6 -->\n<g id=\"node7\" class=\"node\">\n<title>6</title>\n<polygon fill=\"none\" stroke=\"#000000\" points=\"95,-53 0,-53 0,0 95,0 95,-53\"/>\n<text text-anchor=\"middle\" x=\"47.5\" y=\"-37.8\" font-family=\"Times,serif\" font-size=\"14.00\" fill=\"#000000\">gini = 0.48</text>\n<text text-anchor=\"middle\" x=\"47.5\" y=\"-22.8\" font-family=\"Times,serif\" font-size=\"14.00\" fill=\"#000000\">samples = 10</text>\n<text text-anchor=\"middle\" x=\"47.5\" y=\"-7.8\" font-family=\"Times,serif\" font-size=\"14.00\" fill=\"#000000\">value = [6, 4]</text>\n</g>\n<!-- 5&#45;&gt;6 -->\n<g id=\"edge6\" class=\"edge\">\n<title>5&#45;&gt;6</title>\n<path fill=\"none\" stroke=\"#000000\" d=\"M123.2502,-88.9777C111.7039,-79.4545 99.1729,-69.1191 87.689,-59.6473\"/>\n<polygon fill=\"#000000\" stroke=\"#000000\" points=\"89.8724,-56.9113 79.9308,-53.2485 85.4184,-62.3115 89.8724,-56.9113\"/>\n</g>\n<!-- 7 -->\n<g id=\"node8\" class=\"node\">\n<title>7</title>\n<polygon fill=\"none\" stroke=\"#000000\" points=\"215.5,-53 113.5,-53 113.5,0 215.5,0 215.5,-53\"/>\n<text text-anchor=\"middle\" x=\"164.5\" y=\"-37.8\" font-family=\"Times,serif\" font-size=\"14.00\" fill=\"#000000\">gini = 0.291</text>\n<text text-anchor=\"middle\" x=\"164.5\" y=\"-22.8\" font-family=\"Times,serif\" font-size=\"14.00\" fill=\"#000000\">samples = 17</text>\n<text text-anchor=\"middle\" x=\"164.5\" y=\"-7.8\" font-family=\"Times,serif\" font-size=\"14.00\" fill=\"#000000\">value = [3, 14]</text>\n</g>\n<!-- 5&#45;&gt;7 -->\n<g id=\"edge7\" class=\"edge\">\n<title>5&#45;&gt;7</title>\n<path fill=\"none\" stroke=\"#000000\" d=\"M164.5,-88.9777C164.5,-80.7364 164.5,-71.887 164.5,-63.5153\"/>\n<polygon fill=\"#000000\" stroke=\"#000000\" points=\"168.0001,-63.2484 164.5,-53.2485 161.0001,-63.2485 168.0001,-63.2484\"/>\n</g>\n<!-- 9 -->\n<g id=\"node10\" class=\"node\">\n<title>9</title>\n<polygon fill=\"none\" stroke=\"#000000\" points=\"329,-53 234,-53 234,0 329,0 329,-53\"/>\n<text text-anchor=\"middle\" x=\"281.5\" y=\"-37.8\" font-family=\"Times,serif\" font-size=\"14.00\" fill=\"#000000\">gini = 0.0</text>\n<text text-anchor=\"middle\" x=\"281.5\" y=\"-22.8\" font-family=\"Times,serif\" font-size=\"14.00\" fill=\"#000000\">samples = 5</text>\n<text text-anchor=\"middle\" x=\"281.5\" y=\"-7.8\" font-family=\"Times,serif\" font-size=\"14.00\" fill=\"#000000\">value = [5, 0]</text>\n</g>\n<!-- 8&#45;&gt;9 -->\n<g id=\"edge9\" class=\"edge\">\n<title>8&#45;&gt;9</title>\n<path fill=\"none\" stroke=\"#000000\" d=\"M309.9872,-88.9777C306.0626,-80.3702 301.8354,-71.0992 297.8698,-62.402\"/>\n<polygon fill=\"#000000\" stroke=\"#000000\" points=\"301.0295,-60.8952 293.6962,-53.2485 294.6603,-63.7994 301.0295,-60.8952\"/>\n</g>\n<!-- 10 -->\n<g id=\"node11\" class=\"node\">\n<title>10</title>\n<polygon fill=\"none\" stroke=\"#000000\" points=\"442,-53 347,-53 347,0 442,0 442,-53\"/>\n<text text-anchor=\"middle\" x=\"394.5\" y=\"-37.8\" font-family=\"Times,serif\" font-size=\"14.00\" fill=\"#000000\">gini = 0.444</text>\n<text text-anchor=\"middle\" x=\"394.5\" y=\"-22.8\" font-family=\"Times,serif\" font-size=\"14.00\" fill=\"#000000\">samples = 3</text>\n<text text-anchor=\"middle\" x=\"394.5\" y=\"-7.8\" font-family=\"Times,serif\" font-size=\"14.00\" fill=\"#000000\">value = [1, 2]</text>\n</g>\n<!-- 8&#45;&gt;10 -->\n<g id=\"edge10\" class=\"edge\">\n<title>8&#45;&gt;10</title>\n<path fill=\"none\" stroke=\"#000000\" d=\"M349.8268,-88.9777C356.1779,-80.0954 363.034,-70.5067 369.4232,-61.5711\"/>\n<polygon fill=\"#000000\" stroke=\"#000000\" points=\"372.4048,-63.4187 375.3741,-53.2485 366.7107,-59.3472 372.4048,-63.4187\"/>\n</g>\n<!-- 14 -->\n<g id=\"node15\" class=\"node\">\n<title>14</title>\n<polygon fill=\"none\" stroke=\"#000000\" points=\"933.5,-365 769.5,-365 769.5,-297 933.5,-297 933.5,-365\"/>\n<text text-anchor=\"middle\" x=\"851.5\" y=\"-349.8\" font-family=\"Times,serif\" font-size=\"14.00\" fill=\"#000000\">serum_creatinine &lt;= 1.45</text>\n<text text-anchor=\"middle\" x=\"851.5\" y=\"-334.8\" font-family=\"Times,serif\" font-size=\"14.00\" fill=\"#000000\">gini = 0.231</text>\n<text text-anchor=\"middle\" x=\"851.5\" y=\"-319.8\" font-family=\"Times,serif\" font-size=\"14.00\" fill=\"#000000\">samples = 195</text>\n<text text-anchor=\"middle\" x=\"851.5\" y=\"-304.8\" font-family=\"Times,serif\" font-size=\"14.00\" fill=\"#000000\">value = [169, 26]</text>\n</g>\n<!-- 13&#45;&gt;14 -->\n<g id=\"edge14\" class=\"edge\">\n<title>13&#45;&gt;14</title>\n<path fill=\"none\" stroke=\"#000000\" d=\"M864.2787,-400.9465C862.7696,-392.6863 861.1347,-383.7374 859.5545,-375.0875\"/>\n<polygon fill=\"#000000\" stroke=\"#000000\" points=\"862.9756,-374.3381 857.7353,-365.13 856.0895,-375.5962 862.9756,-374.3381\"/>\n</g>\n<!-- 27 -->\n<g id=\"node28\" class=\"node\">\n<title>27</title>\n<polygon fill=\"none\" stroke=\"#000000\" points=\"1175,-365 952,-365 952,-297 1175,-297 1175,-365\"/>\n<text text-anchor=\"middle\" x=\"1063.5\" y=\"-349.8\" font-family=\"Times,serif\" font-size=\"14.00\" fill=\"#000000\">creatinine_phosphokinase &lt;= 180.5</text>\n<text text-anchor=\"middle\" x=\"1063.5\" y=\"-334.8\" font-family=\"Times,serif\" font-size=\"14.00\" fill=\"#000000\">gini = 0.408</text>\n<text text-anchor=\"middle\" x=\"1063.5\" y=\"-319.8\" font-family=\"Times,serif\" font-size=\"14.00\" fill=\"#000000\">samples = 14</text>\n<text text-anchor=\"middle\" x=\"1063.5\" y=\"-304.8\" font-family=\"Times,serif\" font-size=\"14.00\" fill=\"#000000\">value = [4, 10]</text>\n</g>\n<!-- 13&#45;&gt;27 -->\n<g id=\"edge27\" class=\"edge\">\n<title>13&#45;&gt;27</title>\n<path fill=\"none\" stroke=\"#000000\" d=\"M929.1924,-403.373C948.8034,-392.8054 970.8888,-380.9045 991.4002,-369.8517\"/>\n<polygon fill=\"#000000\" stroke=\"#000000\" points=\"993.2467,-372.8326 1000.3896,-365.0077 989.9261,-366.6703 993.2467,-372.8326\"/>\n</g>\n<!-- 15 -->\n<g id=\"node16\" class=\"node\">\n<title>15</title>\n<polygon fill=\"none\" stroke=\"#000000\" points=\"767.5,-261 537.5,-261 537.5,-193 767.5,-193 767.5,-261\"/>\n<text text-anchor=\"middle\" x=\"652.5\" y=\"-245.8\" font-family=\"Times,serif\" font-size=\"14.00\" fill=\"#000000\">creatinine_phosphokinase &lt;= 6535.0</text>\n<text text-anchor=\"middle\" x=\"652.5\" y=\"-230.8\" font-family=\"Times,serif\" font-size=\"14.00\" fill=\"#000000\">gini = 0.193</text>\n<text text-anchor=\"middle\" x=\"652.5\" y=\"-215.8\" font-family=\"Times,serif\" font-size=\"14.00\" fill=\"#000000\">samples = 176</text>\n<text text-anchor=\"middle\" x=\"652.5\" y=\"-200.8\" font-family=\"Times,serif\" font-size=\"14.00\" fill=\"#000000\">value = [157, 19]</text>\n</g>\n<!-- 14&#45;&gt;15 -->\n<g id=\"edge15\" class=\"edge\">\n<title>14&#45;&gt;15</title>\n<path fill=\"none\" stroke=\"#000000\" d=\"M786.34,-296.9465C767.2701,-286.9803 746.282,-276.0117 726.6952,-265.7754\"/>\n<polygon fill=\"#000000\" stroke=\"#000000\" points=\"728.2902,-262.6599 717.8064,-261.13 725.048,-268.8637 728.2902,-262.6599\"/>\n</g>\n<!-- 20 -->\n<g id=\"node21\" class=\"node\">\n<title>20</title>\n<polygon fill=\"none\" stroke=\"#000000\" points=\"947.5,-261 785.5,-261 785.5,-193 947.5,-193 947.5,-261\"/>\n<text text-anchor=\"middle\" x=\"866.5\" y=\"-245.8\" font-family=\"Times,serif\" font-size=\"14.00\" fill=\"#000000\">ejection_fraction &lt;= 32.5</text>\n<text text-anchor=\"middle\" x=\"866.5\" y=\"-230.8\" font-family=\"Times,serif\" font-size=\"14.00\" fill=\"#000000\">gini = 0.465</text>\n<text text-anchor=\"middle\" x=\"866.5\" y=\"-215.8\" font-family=\"Times,serif\" font-size=\"14.00\" fill=\"#000000\">samples = 19</text>\n<text text-anchor=\"middle\" x=\"866.5\" y=\"-200.8\" font-family=\"Times,serif\" font-size=\"14.00\" fill=\"#000000\">value = [12, 7]</text>\n</g>\n<!-- 14&#45;&gt;20 -->\n<g id=\"edge20\" class=\"edge\">\n<title>14&#45;&gt;20</title>\n<path fill=\"none\" stroke=\"#000000\" d=\"M856.4116,-296.9465C857.6029,-288.6863 858.8937,-279.7374 860.1412,-271.0875\"/>\n<polygon fill=\"#000000\" stroke=\"#000000\" points=\"863.6139,-271.5272 861.5774,-261.13 856.6856,-270.5279 863.6139,-271.5272\"/>\n</g>\n<!-- 16 -->\n<g id=\"node17\" class=\"node\">\n<title>16</title>\n<polygon fill=\"none\" stroke=\"#000000\" points=\"590,-157 447,-157 447,-89 590,-89 590,-157\"/>\n<text text-anchor=\"middle\" x=\"518.5\" y=\"-141.8\" font-family=\"Times,serif\" font-size=\"14.00\" fill=\"#000000\">platelets &lt;= 332000.0</text>\n<text text-anchor=\"middle\" x=\"518.5\" y=\"-126.8\" font-family=\"Times,serif\" font-size=\"14.00\" fill=\"#000000\">gini = 0.185</text>\n<text text-anchor=\"middle\" x=\"518.5\" y=\"-111.8\" font-family=\"Times,serif\" font-size=\"14.00\" fill=\"#000000\">samples = 175</text>\n<text text-anchor=\"middle\" x=\"518.5\" y=\"-96.8\" font-family=\"Times,serif\" font-size=\"14.00\" fill=\"#000000\">value = [157, 18]</text>\n</g>\n<!-- 15&#45;&gt;16 -->\n<g id=\"edge16\" class=\"edge\">\n<title>15&#45;&gt;16</title>\n<path fill=\"none\" stroke=\"#000000\" d=\"M608.6234,-192.9465C596.4765,-183.519 583.1738,-173.1946 570.6073,-163.4415\"/>\n<polygon fill=\"#000000\" stroke=\"#000000\" points=\"572.521,-160.4963 562.4752,-157.13 568.2291,-166.0262 572.521,-160.4963\"/>\n</g>\n<!-- 19 -->\n<g id=\"node20\" class=\"node\">\n<title>19</title>\n<polygon fill=\"none\" stroke=\"#000000\" points=\"703,-149.5 608,-149.5 608,-96.5 703,-96.5 703,-149.5\"/>\n<text text-anchor=\"middle\" x=\"655.5\" y=\"-134.3\" font-family=\"Times,serif\" font-size=\"14.00\" fill=\"#000000\">gini = 0.0</text>\n<text text-anchor=\"middle\" x=\"655.5\" y=\"-119.3\" font-family=\"Times,serif\" font-size=\"14.00\" fill=\"#000000\">samples = 1</text>\n<text text-anchor=\"middle\" x=\"655.5\" y=\"-104.3\" font-family=\"Times,serif\" font-size=\"14.00\" fill=\"#000000\">value = [0, 1]</text>\n</g>\n<!-- 15&#45;&gt;19 -->\n<g id=\"edge19\" class=\"edge\">\n<title>15&#45;&gt;19</title>\n<path fill=\"none\" stroke=\"#000000\" d=\"M653.4823,-192.9465C653.7905,-182.2621 654.132,-170.4254 654.445,-159.5742\"/>\n<polygon fill=\"#000000\" stroke=\"#000000\" points=\"657.9445,-159.639 654.7344,-149.5422 650.9474,-159.4371 657.9445,-159.639\"/>\n</g>\n<!-- 17 -->\n<g id=\"node18\" class=\"node\">\n<title>17</title>\n<polygon fill=\"none\" stroke=\"#000000\" points=\"576.5,-53 460.5,-53 460.5,0 576.5,0 576.5,-53\"/>\n<text text-anchor=\"middle\" x=\"518.5\" y=\"-37.8\" font-family=\"Times,serif\" font-size=\"14.00\" fill=\"#000000\">gini = 0.143</text>\n<text text-anchor=\"middle\" x=\"518.5\" y=\"-22.8\" font-family=\"Times,serif\" font-size=\"14.00\" fill=\"#000000\">samples = 142</text>\n<text text-anchor=\"middle\" x=\"518.5\" y=\"-7.8\" font-family=\"Times,serif\" font-size=\"14.00\" fill=\"#000000\">value = [131, 11]</text>\n</g>\n<!-- 16&#45;&gt;17 -->\n<g id=\"edge17\" class=\"edge\">\n<title>16&#45;&gt;17</title>\n<path fill=\"none\" stroke=\"#000000\" d=\"M518.5,-88.9777C518.5,-80.7364 518.5,-71.887 518.5,-63.5153\"/>\n<polygon fill=\"#000000\" stroke=\"#000000\" points=\"522.0001,-63.2484 518.5,-53.2485 515.0001,-63.2485 522.0001,-63.2484\"/>\n</g>\n<!-- 18 -->\n<g id=\"node19\" class=\"node\">\n<title>18</title>\n<polygon fill=\"none\" stroke=\"#000000\" points=\"696.5,-53 594.5,-53 594.5,0 696.5,0 696.5,-53\"/>\n<text text-anchor=\"middle\" x=\"645.5\" y=\"-37.8\" font-family=\"Times,serif\" font-size=\"14.00\" fill=\"#000000\">gini = 0.334</text>\n<text text-anchor=\"middle\" x=\"645.5\" y=\"-22.8\" font-family=\"Times,serif\" font-size=\"14.00\" fill=\"#000000\">samples = 33</text>\n<text text-anchor=\"middle\" x=\"645.5\" y=\"-7.8\" font-family=\"Times,serif\" font-size=\"14.00\" fill=\"#000000\">value = [26, 7]</text>\n</g>\n<!-- 16&#45;&gt;18 -->\n<g id=\"edge18\" class=\"edge\">\n<title>16&#45;&gt;18</title>\n<path fill=\"none\" stroke=\"#000000\" d=\"M563.2754,-88.9777C575.9292,-79.3629 589.6723,-68.9203 602.2353,-59.3743\"/>\n<polygon fill=\"#000000\" stroke=\"#000000\" points=\"604.4526,-62.0853 610.2973,-53.2485 600.2176,-56.5118 604.4526,-62.0853\"/>\n</g>\n<!-- 21 -->\n<g id=\"node22\" class=\"node\">\n<title>21</title>\n<polygon fill=\"none\" stroke=\"#000000\" points=\"944,-157 721,-157 721,-89 944,-89 944,-157\"/>\n<text text-anchor=\"middle\" x=\"832.5\" y=\"-141.8\" font-family=\"Times,serif\" font-size=\"14.00\" fill=\"#000000\">creatinine_phosphokinase &lt;= 455.0</text>\n<text text-anchor=\"middle\" x=\"832.5\" y=\"-126.8\" font-family=\"Times,serif\" font-size=\"14.00\" fill=\"#000000\">gini = 0.278</text>\n<text text-anchor=\"middle\" x=\"832.5\" y=\"-111.8\" font-family=\"Times,serif\" font-size=\"14.00\" fill=\"#000000\">samples = 6</text>\n<text text-anchor=\"middle\" x=\"832.5\" y=\"-96.8\" font-family=\"Times,serif\" font-size=\"14.00\" fill=\"#000000\">value = [1, 5]</text>\n</g>\n<!-- 20&#45;&gt;21 -->\n<g id=\"edge21\" class=\"edge\">\n<title>20&#45;&gt;21</title>\n<path fill=\"none\" stroke=\"#000000\" d=\"M855.3671,-192.9465C852.6373,-184.5965 849.6774,-175.5427 846.8211,-166.8056\"/>\n<polygon fill=\"#000000\" stroke=\"#000000\" points=\"850.0921,-165.5473 843.6579,-157.13 843.4386,-167.7226 850.0921,-165.5473\"/>\n</g>\n<!-- 24 -->\n<g id=\"node25\" class=\"node\">\n<title>24</title>\n<polygon fill=\"none\" stroke=\"#000000\" points=\"1124.5,-157 962.5,-157 962.5,-89 1124.5,-89 1124.5,-157\"/>\n<text text-anchor=\"middle\" x=\"1043.5\" y=\"-141.8\" font-family=\"Times,serif\" font-size=\"14.00\" fill=\"#000000\">ejection_fraction &lt;= 62.5</text>\n<text text-anchor=\"middle\" x=\"1043.5\" y=\"-126.8\" font-family=\"Times,serif\" font-size=\"14.00\" fill=\"#000000\">gini = 0.26</text>\n<text text-anchor=\"middle\" x=\"1043.5\" y=\"-111.8\" font-family=\"Times,serif\" font-size=\"14.00\" fill=\"#000000\">samples = 13</text>\n<text text-anchor=\"middle\" x=\"1043.5\" y=\"-96.8\" font-family=\"Times,serif\" font-size=\"14.00\" fill=\"#000000\">value = [11, 2]</text>\n</g>\n<!-- 20&#45;&gt;24 -->\n<g id=\"edge24\" class=\"edge\">\n<title>20&#45;&gt;24</title>\n<path fill=\"none\" stroke=\"#000000\" d=\"M924.4564,-192.9465C941.1125,-183.1599 959.4137,-172.4066 976.5644,-162.3294\"/>\n<polygon fill=\"#000000\" stroke=\"#000000\" points=\"978.5646,-165.2136 985.4134,-157.13 975.0184,-159.1783 978.5646,-165.2136\"/>\n</g>\n<!-- 22 -->\n<g id=\"node23\" class=\"node\">\n<title>22</title>\n<polygon fill=\"none\" stroke=\"#000000\" points=\"823,-53 728,-53 728,0 823,0 823,-53\"/>\n<text text-anchor=\"middle\" x=\"775.5\" y=\"-37.8\" font-family=\"Times,serif\" font-size=\"14.00\" fill=\"#000000\">gini = 0.0</text>\n<text text-anchor=\"middle\" x=\"775.5\" y=\"-22.8\" font-family=\"Times,serif\" font-size=\"14.00\" fill=\"#000000\">samples = 5</text>\n<text text-anchor=\"middle\" x=\"775.5\" y=\"-7.8\" font-family=\"Times,serif\" font-size=\"14.00\" fill=\"#000000\">value = [0, 5]</text>\n</g>\n<!-- 21&#45;&gt;22 -->\n<g id=\"edge22\" class=\"edge\">\n<title>21&#45;&gt;22</title>\n<path fill=\"none\" stroke=\"#000000\" d=\"M812.4039,-88.9777C807.2656,-80.2786 801.727,-70.9018 796.5425,-62.1247\"/>\n<polygon fill=\"#000000\" stroke=\"#000000\" points=\"799.399,-60.0786 791.2996,-53.2485 793.3719,-63.6387 799.399,-60.0786\"/>\n</g>\n<!-- 23 -->\n<g id=\"node24\" class=\"node\">\n<title>23</title>\n<polygon fill=\"none\" stroke=\"#000000\" points=\"936,-53 841,-53 841,0 936,0 936,-53\"/>\n<text text-anchor=\"middle\" x=\"888.5\" y=\"-37.8\" font-family=\"Times,serif\" font-size=\"14.00\" fill=\"#000000\">gini = 0.0</text>\n<text text-anchor=\"middle\" x=\"888.5\" y=\"-22.8\" font-family=\"Times,serif\" font-size=\"14.00\" fill=\"#000000\">samples = 1</text>\n<text text-anchor=\"middle\" x=\"888.5\" y=\"-7.8\" font-family=\"Times,serif\" font-size=\"14.00\" fill=\"#000000\">value = [1, 0]</text>\n</g>\n<!-- 21&#45;&gt;23 -->\n<g id=\"edge23\" class=\"edge\">\n<title>21&#45;&gt;23</title>\n<path fill=\"none\" stroke=\"#000000\" d=\"M852.2435,-88.9777C857.2917,-80.2786 862.7331,-70.9018 867.8266,-62.1247\"/>\n<polygon fill=\"#000000\" stroke=\"#000000\" points=\"870.9855,-63.6544 872.9776,-53.2485 864.9311,-60.1409 870.9855,-63.6544\"/>\n</g>\n<!-- 25 -->\n<g id=\"node26\" class=\"node\">\n<title>25</title>\n<polygon fill=\"none\" stroke=\"#000000\" points=\"1081,-53 980,-53 980,0 1081,0 1081,-53\"/>\n<text text-anchor=\"middle\" x=\"1030.5\" y=\"-37.8\" font-family=\"Times,serif\" font-size=\"14.00\" fill=\"#000000\">gini = 0.153</text>\n<text text-anchor=\"middle\" x=\"1030.5\" y=\"-22.8\" font-family=\"Times,serif\" font-size=\"14.00\" fill=\"#000000\">samples = 12</text>\n<text text-anchor=\"middle\" x=\"1030.5\" y=\"-7.8\" font-family=\"Times,serif\" font-size=\"14.00\" fill=\"#000000\">value = [11, 1]</text>\n</g>\n<!-- 24&#45;&gt;25 -->\n<g id=\"edge25\" class=\"edge\">\n<title>24&#45;&gt;25</title>\n<path fill=\"none\" stroke=\"#000000\" d=\"M1038.9167,-88.9777C1037.7941,-80.6449 1036.5878,-71.6903 1035.449,-63.2364\"/>\n<polygon fill=\"#000000\" stroke=\"#000000\" points=\"1038.9073,-62.6916 1034.1034,-53.2485 1031.9699,-63.6263 1038.9073,-62.6916\"/>\n</g>\n<!-- 26 -->\n<g id=\"node27\" class=\"node\">\n<title>26</title>\n<polygon fill=\"none\" stroke=\"#000000\" points=\"1194,-53 1099,-53 1099,0 1194,0 1194,-53\"/>\n<text text-anchor=\"middle\" x=\"1146.5\" y=\"-37.8\" font-family=\"Times,serif\" font-size=\"14.00\" fill=\"#000000\">gini = 0.0</text>\n<text text-anchor=\"middle\" x=\"1146.5\" y=\"-22.8\" font-family=\"Times,serif\" font-size=\"14.00\" fill=\"#000000\">samples = 1</text>\n<text text-anchor=\"middle\" x=\"1146.5\" y=\"-7.8\" font-family=\"Times,serif\" font-size=\"14.00\" fill=\"#000000\">value = [0, 1]</text>\n</g>\n<!-- 24&#45;&gt;26 -->\n<g id=\"edge26\" class=\"edge\">\n<title>24&#45;&gt;26</title>\n<path fill=\"none\" stroke=\"#000000\" d=\"M1079.8139,-88.9777C1089.7832,-79.6376 1100.5862,-69.5163 1110.5357,-60.1947\"/>\n<polygon fill=\"#000000\" stroke=\"#000000\" points=\"1113.0452,-62.6397 1117.9498,-53.2485 1108.2592,-57.5314 1113.0452,-62.6397\"/>\n</g>\n<!-- 28 -->\n<g id=\"node29\" class=\"node\">\n<title>28</title>\n<polygon fill=\"none\" stroke=\"#000000\" points=\"1086,-253.5 991,-253.5 991,-200.5 1086,-200.5 1086,-253.5\"/>\n<text text-anchor=\"middle\" x=\"1038.5\" y=\"-238.3\" font-family=\"Times,serif\" font-size=\"14.00\" fill=\"#000000\">gini = 0.0</text>\n<text text-anchor=\"middle\" x=\"1038.5\" y=\"-223.3\" font-family=\"Times,serif\" font-size=\"14.00\" fill=\"#000000\">samples = 5</text>\n<text text-anchor=\"middle\" x=\"1038.5\" y=\"-208.3\" font-family=\"Times,serif\" font-size=\"14.00\" fill=\"#000000\">value = [0, 5]</text>\n</g>\n<!-- 27&#45;&gt;28 -->\n<g id=\"edge28\" class=\"edge\">\n<title>27&#45;&gt;28</title>\n<path fill=\"none\" stroke=\"#000000\" d=\"M1055.3141,-296.9465C1052.7457,-286.2621 1049.9003,-274.4254 1047.2919,-263.5742\"/>\n<polygon fill=\"#000000\" stroke=\"#000000\" points=\"1050.6207,-262.4471 1044.8803,-253.5422 1043.8146,-264.0833 1050.6207,-262.4471\"/>\n</g>\n<!-- 29 -->\n<g id=\"node30\" class=\"node\">\n<title>29</title>\n<polygon fill=\"none\" stroke=\"#000000\" points=\"1327,-261 1104,-261 1104,-193 1327,-193 1327,-261\"/>\n<text text-anchor=\"middle\" x=\"1215.5\" y=\"-245.8\" font-family=\"Times,serif\" font-size=\"14.00\" fill=\"#000000\">creatinine_phosphokinase &lt;= 358.0</text>\n<text text-anchor=\"middle\" x=\"1215.5\" y=\"-230.8\" font-family=\"Times,serif\" font-size=\"14.00\" fill=\"#000000\">gini = 0.494</text>\n<text text-anchor=\"middle\" x=\"1215.5\" y=\"-215.8\" font-family=\"Times,serif\" font-size=\"14.00\" fill=\"#000000\">samples = 9</text>\n<text text-anchor=\"middle\" x=\"1215.5\" y=\"-200.8\" font-family=\"Times,serif\" font-size=\"14.00\" fill=\"#000000\">value = [4, 5]</text>\n</g>\n<!-- 27&#45;&gt;29 -->\n<g id=\"edge29\" class=\"edge\">\n<title>27&#45;&gt;29</title>\n<path fill=\"none\" stroke=\"#000000\" d=\"M1113.2705,-296.9465C1127.3115,-287.3395 1142.714,-276.8009 1157.2068,-266.8848\"/>\n<polygon fill=\"#000000\" stroke=\"#000000\" points=\"1159.341,-269.6655 1165.6177,-261.13 1155.3882,-263.8883 1159.341,-269.6655\"/>\n</g>\n<!-- 30 -->\n<g id=\"node31\" class=\"node\">\n<title>30</title>\n<polygon fill=\"none\" stroke=\"#000000\" points=\"1238,-149.5 1143,-149.5 1143,-96.5 1238,-96.5 1238,-149.5\"/>\n<text text-anchor=\"middle\" x=\"1190.5\" y=\"-134.3\" font-family=\"Times,serif\" font-size=\"14.00\" fill=\"#000000\">gini = 0.0</text>\n<text text-anchor=\"middle\" x=\"1190.5\" y=\"-119.3\" font-family=\"Times,serif\" font-size=\"14.00\" fill=\"#000000\">samples = 2</text>\n<text text-anchor=\"middle\" x=\"1190.5\" y=\"-104.3\" font-family=\"Times,serif\" font-size=\"14.00\" fill=\"#000000\">value = [2, 0]</text>\n</g>\n<!-- 29&#45;&gt;30 -->\n<g id=\"edge30\" class=\"edge\">\n<title>29&#45;&gt;30</title>\n<path fill=\"none\" stroke=\"#000000\" d=\"M1207.3141,-192.9465C1204.7457,-182.2621 1201.9003,-170.4254 1199.2919,-159.5742\"/>\n<polygon fill=\"#000000\" stroke=\"#000000\" points=\"1202.6207,-158.4471 1196.8803,-149.5422 1195.8146,-160.0833 1202.6207,-158.4471\"/>\n</g>\n<!-- 31 -->\n<g id=\"node32\" class=\"node\">\n<title>31</title>\n<polygon fill=\"none\" stroke=\"#000000\" points=\"1479,-157 1256,-157 1256,-89 1479,-89 1479,-157\"/>\n<text text-anchor=\"middle\" x=\"1367.5\" y=\"-141.8\" font-family=\"Times,serif\" font-size=\"14.00\" fill=\"#000000\">creatinine_phosphokinase &lt;= 882.5</text>\n<text text-anchor=\"middle\" x=\"1367.5\" y=\"-126.8\" font-family=\"Times,serif\" font-size=\"14.00\" fill=\"#000000\">gini = 0.408</text>\n<text text-anchor=\"middle\" x=\"1367.5\" y=\"-111.8\" font-family=\"Times,serif\" font-size=\"14.00\" fill=\"#000000\">samples = 7</text>\n<text text-anchor=\"middle\" x=\"1367.5\" y=\"-96.8\" font-family=\"Times,serif\" font-size=\"14.00\" fill=\"#000000\">value = [2, 5]</text>\n</g>\n<!-- 29&#45;&gt;31 -->\n<g id=\"edge31\" class=\"edge\">\n<title>29&#45;&gt;31</title>\n<path fill=\"none\" stroke=\"#000000\" d=\"M1265.2705,-192.9465C1279.3115,-183.3395 1294.714,-172.8009 1309.2068,-162.8848\"/>\n<polygon fill=\"#000000\" stroke=\"#000000\" points=\"1311.341,-165.6655 1317.6177,-157.13 1307.3882,-159.8883 1311.341,-165.6655\"/>\n</g>\n<!-- 32 -->\n<g id=\"node33\" class=\"node\">\n<title>32</title>\n<polygon fill=\"none\" stroke=\"#000000\" points=\"1378,-53 1283,-53 1283,0 1378,0 1378,-53\"/>\n<text text-anchor=\"middle\" x=\"1330.5\" y=\"-37.8\" font-family=\"Times,serif\" font-size=\"14.00\" fill=\"#000000\">gini = 0.0</text>\n<text text-anchor=\"middle\" x=\"1330.5\" y=\"-22.8\" font-family=\"Times,serif\" font-size=\"14.00\" fill=\"#000000\">samples = 4</text>\n<text text-anchor=\"middle\" x=\"1330.5\" y=\"-7.8\" font-family=\"Times,serif\" font-size=\"14.00\" fill=\"#000000\">value = [0, 4]</text>\n</g>\n<!-- 31&#45;&gt;32 -->\n<g id=\"edge32\" class=\"edge\">\n<title>31&#45;&gt;32</title>\n<path fill=\"none\" stroke=\"#000000\" d=\"M1354.4552,-88.9777C1351.19,-80.4617 1347.6758,-71.2963 1344.372,-62.6798\"/>\n<polygon fill=\"#000000\" stroke=\"#000000\" points=\"1347.604,-61.3326 1340.7559,-53.2485 1341.068,-63.8387 1347.604,-61.3326\"/>\n</g>\n<!-- 33 -->\n<g id=\"node34\" class=\"node\">\n<title>33</title>\n<polygon fill=\"none\" stroke=\"#000000\" points=\"1491,-53 1396,-53 1396,0 1491,0 1491,-53\"/>\n<text text-anchor=\"middle\" x=\"1443.5\" y=\"-37.8\" font-family=\"Times,serif\" font-size=\"14.00\" fill=\"#000000\">gini = 0.444</text>\n<text text-anchor=\"middle\" x=\"1443.5\" y=\"-22.8\" font-family=\"Times,serif\" font-size=\"14.00\" fill=\"#000000\">samples = 3</text>\n<text text-anchor=\"middle\" x=\"1443.5\" y=\"-7.8\" font-family=\"Times,serif\" font-size=\"14.00\" fill=\"#000000\">value = [2, 1]</text>\n</g>\n<!-- 31&#45;&gt;33 -->\n<g id=\"edge33\" class=\"edge\">\n<title>31&#45;&gt;33</title>\n<path fill=\"none\" stroke=\"#000000\" d=\"M1394.2948,-88.9777C1401.3622,-80.0039 1408.9976,-70.3089 1416.0967,-61.295\"/>\n<polygon fill=\"#000000\" stroke=\"#000000\" points=\"1418.9963,-63.2701 1422.4338,-53.2485 1413.497,-58.9391 1418.9963,-63.2701\"/>\n</g>\n<!-- 35 -->\n<g id=\"node36\" class=\"node\">\n<title>35</title>\n<polygon fill=\"none\" stroke=\"#000000\" points=\"1373.5,-461.5 1271.5,-461.5 1271.5,-408.5 1373.5,-408.5 1373.5,-461.5\"/>\n<text text-anchor=\"middle\" x=\"1322.5\" y=\"-446.3\" font-family=\"Times,serif\" font-size=\"14.00\" fill=\"#000000\">gini = 0.0</text>\n<text text-anchor=\"middle\" x=\"1322.5\" y=\"-431.3\" font-family=\"Times,serif\" font-size=\"14.00\" fill=\"#000000\">samples = 14</text>\n<text text-anchor=\"middle\" x=\"1322.5\" y=\"-416.3\" font-family=\"Times,serif\" font-size=\"14.00\" fill=\"#000000\">value = [0, 14]</text>\n</g>\n<!-- 34&#45;&gt;35 -->\n<g id=\"edge35\" class=\"edge\">\n<title>34&#45;&gt;35</title>\n<path fill=\"none\" stroke=\"#000000\" d=\"M1322.5,-504.9465C1322.5,-494.2621 1322.5,-482.4254 1322.5,-471.5742\"/>\n<polygon fill=\"#000000\" stroke=\"#000000\" points=\"1326.0001,-471.5421 1322.5,-461.5422 1319.0001,-471.5422 1326.0001,-471.5421\"/>\n</g>\n<!-- 36 -->\n<g id=\"node37\" class=\"node\">\n<title>36</title>\n<polygon fill=\"none\" stroke=\"#000000\" points=\"1682,-469 1523,-469 1523,-401 1682,-401 1682,-469\"/>\n<text text-anchor=\"middle\" x=\"1602.5\" y=\"-453.8\" font-family=\"Times,serif\" font-size=\"14.00\" fill=\"#000000\">serum_sodium &lt;= 134.5</text>\n<text text-anchor=\"middle\" x=\"1602.5\" y=\"-438.8\" font-family=\"Times,serif\" font-size=\"14.00\" fill=\"#000000\">gini = 0.472</text>\n<text text-anchor=\"middle\" x=\"1602.5\" y=\"-423.8\" font-family=\"Times,serif\" font-size=\"14.00\" fill=\"#000000\">samples = 34</text>\n<text text-anchor=\"middle\" x=\"1602.5\" y=\"-408.8\" font-family=\"Times,serif\" font-size=\"14.00\" fill=\"#000000\">value = [13, 21]</text>\n</g>\n<!-- 34&#45;&gt;36 -->\n<g id=\"edge36\" class=\"edge\">\n<title>34&#45;&gt;36</title>\n<path fill=\"none\" stroke=\"#000000\" d=\"M1404.6173,-508.4993C1438.6897,-495.8438 1478.3138,-481.1263 1513.1157,-468.1999\"/>\n<polygon fill=\"#000000\" stroke=\"#000000\" points=\"1514.6396,-471.3676 1522.7952,-464.6047 1512.2022,-464.8056 1514.6396,-471.3676\"/>\n</g>\n<!-- 37 -->\n<g id=\"node38\" class=\"node\">\n<title>37</title>\n<polygon fill=\"none\" stroke=\"#000000\" points=\"1714,-365 1491,-365 1491,-297 1714,-297 1714,-365\"/>\n<text text-anchor=\"middle\" x=\"1602.5\" y=\"-349.8\" font-family=\"Times,serif\" font-size=\"14.00\" fill=\"#000000\">creatinine_phosphokinase &lt;= 614.0</text>\n<text text-anchor=\"middle\" x=\"1602.5\" y=\"-334.8\" font-family=\"Times,serif\" font-size=\"14.00\" fill=\"#000000\">gini = 0.363</text>\n<text text-anchor=\"middle\" x=\"1602.5\" y=\"-319.8\" font-family=\"Times,serif\" font-size=\"14.00\" fill=\"#000000\">samples = 21</text>\n<text text-anchor=\"middle\" x=\"1602.5\" y=\"-304.8\" font-family=\"Times,serif\" font-size=\"14.00\" fill=\"#000000\">value = [5, 16]</text>\n</g>\n<!-- 36&#45;&gt;37 -->\n<g id=\"edge37\" class=\"edge\">\n<title>36&#45;&gt;37</title>\n<path fill=\"none\" stroke=\"#000000\" d=\"M1602.5,-400.9465C1602.5,-392.776 1602.5,-383.9318 1602.5,-375.3697\"/>\n<polygon fill=\"#000000\" stroke=\"#000000\" points=\"1606.0001,-375.13 1602.5,-365.13 1599.0001,-375.13 1606.0001,-375.13\"/>\n</g>\n<!-- 44 -->\n<g id=\"node45\" class=\"node\">\n<title>44</title>\n<polygon fill=\"none\" stroke=\"#000000\" points=\"1886,-365 1791,-365 1791,-297 1886,-297 1886,-365\"/>\n<text text-anchor=\"middle\" x=\"1838.5\" y=\"-349.8\" font-family=\"Times,serif\" font-size=\"14.00\" fill=\"#000000\">sex &lt;= 0.5</text>\n<text text-anchor=\"middle\" x=\"1838.5\" y=\"-334.8\" font-family=\"Times,serif\" font-size=\"14.00\" fill=\"#000000\">gini = 0.473</text>\n<text text-anchor=\"middle\" x=\"1838.5\" y=\"-319.8\" font-family=\"Times,serif\" font-size=\"14.00\" fill=\"#000000\">samples = 13</text>\n<text text-anchor=\"middle\" x=\"1838.5\" y=\"-304.8\" font-family=\"Times,serif\" font-size=\"14.00\" fill=\"#000000\">value = [8, 5]</text>\n</g>\n<!-- 36&#45;&gt;44 -->\n<g id=\"edge44\" class=\"edge\">\n<title>36&#45;&gt;44</title>\n<path fill=\"none\" stroke=\"#000000\" d=\"M1679.7752,-400.9465C1712.9119,-386.3439 1750.9324,-369.5891 1781.4533,-356.1392\"/>\n<polygon fill=\"#000000\" stroke=\"#000000\" points=\"1782.9314,-359.3127 1790.6708,-352.0773 1780.1085,-352.9071 1782.9314,-359.3127\"/>\n</g>\n<!-- 38 -->\n<g id=\"node39\" class=\"node\">\n<title>38</title>\n<polygon fill=\"none\" stroke=\"#000000\" points=\"1595.5,-261 1493.5,-261 1493.5,-193 1595.5,-193 1595.5,-261\"/>\n<text text-anchor=\"middle\" x=\"1544.5\" y=\"-245.8\" font-family=\"Times,serif\" font-size=\"14.00\" fill=\"#000000\">age &lt;= 44.0</text>\n<text text-anchor=\"middle\" x=\"1544.5\" y=\"-230.8\" font-family=\"Times,serif\" font-size=\"14.00\" fill=\"#000000\">gini = 0.266</text>\n<text text-anchor=\"middle\" x=\"1544.5\" y=\"-215.8\" font-family=\"Times,serif\" font-size=\"14.00\" fill=\"#000000\">samples = 19</text>\n<text text-anchor=\"middle\" x=\"1544.5\" y=\"-200.8\" font-family=\"Times,serif\" font-size=\"14.00\" fill=\"#000000\">value = [3, 16]</text>\n</g>\n<!-- 37&#45;&gt;38 -->\n<g id=\"edge38\" class=\"edge\">\n<title>37&#45;&gt;38</title>\n<path fill=\"none\" stroke=\"#000000\" d=\"M1583.5086,-296.9465C1578.7017,-288.3271 1573.4765,-278.9579 1568.4591,-269.9611\"/>\n<polygon fill=\"#000000\" stroke=\"#000000\" points=\"1571.4615,-268.1589 1563.534,-261.13 1565.348,-271.5684 1571.4615,-268.1589\"/>\n</g>\n<!-- 43 -->\n<g id=\"node44\" class=\"node\">\n<title>43</title>\n<polygon fill=\"none\" stroke=\"#000000\" points=\"1709,-253.5 1614,-253.5 1614,-200.5 1709,-200.5 1709,-253.5\"/>\n<text text-anchor=\"middle\" x=\"1661.5\" y=\"-238.3\" font-family=\"Times,serif\" font-size=\"14.00\" fill=\"#000000\">gini = 0.0</text>\n<text text-anchor=\"middle\" x=\"1661.5\" y=\"-223.3\" font-family=\"Times,serif\" font-size=\"14.00\" fill=\"#000000\">samples = 2</text>\n<text text-anchor=\"middle\" x=\"1661.5\" y=\"-208.3\" font-family=\"Times,serif\" font-size=\"14.00\" fill=\"#000000\">value = [2, 0]</text>\n</g>\n<!-- 37&#45;&gt;43 -->\n<g id=\"edge43\" class=\"edge\">\n<title>37&#45;&gt;43</title>\n<path fill=\"none\" stroke=\"#000000\" d=\"M1621.8188,-296.9465C1628.0676,-285.9316 1635.0112,-273.6922 1641.3207,-262.5703\"/>\n<polygon fill=\"#000000\" stroke=\"#000000\" points=\"1644.5523,-263.967 1646.4424,-253.5422 1638.4638,-260.513 1644.5523,-263.967\"/>\n</g>\n<!-- 39 -->\n<g id=\"node40\" class=\"node\">\n<title>39</title>\n<polygon fill=\"none\" stroke=\"#000000\" points=\"1592,-149.5 1497,-149.5 1497,-96.5 1592,-96.5 1592,-149.5\"/>\n<text text-anchor=\"middle\" x=\"1544.5\" y=\"-134.3\" font-family=\"Times,serif\" font-size=\"14.00\" fill=\"#000000\">gini = 0.0</text>\n<text text-anchor=\"middle\" x=\"1544.5\" y=\"-119.3\" font-family=\"Times,serif\" font-size=\"14.00\" fill=\"#000000\">samples = 1</text>\n<text text-anchor=\"middle\" x=\"1544.5\" y=\"-104.3\" font-family=\"Times,serif\" font-size=\"14.00\" fill=\"#000000\">value = [1, 0]</text>\n</g>\n<!-- 38&#45;&gt;39 -->\n<g id=\"edge39\" class=\"edge\">\n<title>38&#45;&gt;39</title>\n<path fill=\"none\" stroke=\"#000000\" d=\"M1544.5,-192.9465C1544.5,-182.2621 1544.5,-170.4254 1544.5,-159.5742\"/>\n<polygon fill=\"#000000\" stroke=\"#000000\" points=\"1548.0001,-159.5421 1544.5,-149.5422 1541.0001,-159.5422 1548.0001,-159.5421\"/>\n</g>\n<!-- 40 -->\n<g id=\"node41\" class=\"node\">\n<title>40</title>\n<polygon fill=\"none\" stroke=\"#000000\" points=\"1753,-157 1610,-157 1610,-89 1753,-89 1753,-157\"/>\n<text text-anchor=\"middle\" x=\"1681.5\" y=\"-141.8\" font-family=\"Times,serif\" font-size=\"14.00\" fill=\"#000000\">platelets &lt;= 232500.0</text>\n<text text-anchor=\"middle\" x=\"1681.5\" y=\"-126.8\" font-family=\"Times,serif\" font-size=\"14.00\" fill=\"#000000\">gini = 0.198</text>\n<text text-anchor=\"middle\" x=\"1681.5\" y=\"-111.8\" font-family=\"Times,serif\" font-size=\"14.00\" fill=\"#000000\">samples = 18</text>\n<text text-anchor=\"middle\" x=\"1681.5\" y=\"-96.8\" font-family=\"Times,serif\" font-size=\"14.00\" fill=\"#000000\">value = [2, 16]</text>\n</g>\n<!-- 38&#45;&gt;40 -->\n<g id=\"edge40\" class=\"edge\">\n<title>38&#45;&gt;40</title>\n<path fill=\"none\" stroke=\"#000000\" d=\"M1589.3589,-192.9465C1601.7778,-183.519 1615.3783,-173.1946 1628.2261,-163.4415\"/>\n<polygon fill=\"#000000\" stroke=\"#000000\" points=\"1630.6915,-165.9642 1636.5403,-157.13 1626.459,-160.3887 1630.6915,-165.9642\"/>\n</g>\n<!-- 41 -->\n<g id=\"node42\" class=\"node\">\n<title>41</title>\n<polygon fill=\"none\" stroke=\"#000000\" points=\"1653.5,-53 1551.5,-53 1551.5,0 1653.5,0 1653.5,-53\"/>\n<text text-anchor=\"middle\" x=\"1602.5\" y=\"-37.8\" font-family=\"Times,serif\" font-size=\"14.00\" fill=\"#000000\">gini = 0.0</text>\n<text text-anchor=\"middle\" x=\"1602.5\" y=\"-22.8\" font-family=\"Times,serif\" font-size=\"14.00\" fill=\"#000000\">samples = 10</text>\n<text text-anchor=\"middle\" x=\"1602.5\" y=\"-7.8\" font-family=\"Times,serif\" font-size=\"14.00\" fill=\"#000000\">value = [0, 10]</text>\n</g>\n<!-- 40&#45;&gt;41 -->\n<g id=\"edge41\" class=\"edge\">\n<title>40&#45;&gt;41</title>\n<path fill=\"none\" stroke=\"#000000\" d=\"M1653.6476,-88.9777C1646.2261,-79.9123 1638.2023,-70.111 1630.7593,-61.0192\"/>\n<polygon fill=\"#000000\" stroke=\"#000000\" points=\"1633.4405,-58.7692 1624.3977,-53.2485 1628.0241,-63.2034 1633.4405,-58.7692\"/>\n</g>\n<!-- 42 -->\n<g id=\"node43\" class=\"node\">\n<title>42</title>\n<polygon fill=\"none\" stroke=\"#000000\" points=\"1767,-53 1672,-53 1672,0 1767,0 1767,-53\"/>\n<text text-anchor=\"middle\" x=\"1719.5\" y=\"-37.8\" font-family=\"Times,serif\" font-size=\"14.00\" fill=\"#000000\">gini = 0.375</text>\n<text text-anchor=\"middle\" x=\"1719.5\" y=\"-22.8\" font-family=\"Times,serif\" font-size=\"14.00\" fill=\"#000000\">samples = 8</text>\n<text text-anchor=\"middle\" x=\"1719.5\" y=\"-7.8\" font-family=\"Times,serif\" font-size=\"14.00\" fill=\"#000000\">value = [2, 6]</text>\n</g>\n<!-- 40&#45;&gt;42 -->\n<g id=\"edge42\" class=\"edge\">\n<title>40&#45;&gt;42</title>\n<path fill=\"none\" stroke=\"#000000\" d=\"M1694.8974,-88.9777C1698.2508,-80.4617 1701.86,-71.2963 1705.253,-62.6798\"/>\n<polygon fill=\"#000000\" stroke=\"#000000\" points=\"1708.5595,-63.8355 1708.9669,-53.2485 1702.0463,-61.2707 1708.5595,-63.8355\"/>\n</g>\n<!-- 45 -->\n<g id=\"node46\" class=\"node\">\n<title>45</title>\n<polygon fill=\"none\" stroke=\"#000000\" points=\"1950,-261 1727,-261 1727,-193 1950,-193 1950,-261\"/>\n<text text-anchor=\"middle\" x=\"1838.5\" y=\"-245.8\" font-family=\"Times,serif\" font-size=\"14.00\" fill=\"#000000\">creatinine_phosphokinase &lt;= 167.5</text>\n<text text-anchor=\"middle\" x=\"1838.5\" y=\"-230.8\" font-family=\"Times,serif\" font-size=\"14.00\" fill=\"#000000\">gini = 0.408</text>\n<text text-anchor=\"middle\" x=\"1838.5\" y=\"-215.8\" font-family=\"Times,serif\" font-size=\"14.00\" fill=\"#000000\">samples = 7</text>\n<text text-anchor=\"middle\" x=\"1838.5\" y=\"-200.8\" font-family=\"Times,serif\" font-size=\"14.00\" fill=\"#000000\">value = [2, 5]</text>\n</g>\n<!-- 44&#45;&gt;45 -->\n<g id=\"edge45\" class=\"edge\">\n<title>44&#45;&gt;45</title>\n<path fill=\"none\" stroke=\"#000000\" d=\"M1838.5,-296.9465C1838.5,-288.776 1838.5,-279.9318 1838.5,-271.3697\"/>\n<polygon fill=\"#000000\" stroke=\"#000000\" points=\"1842.0001,-271.13 1838.5,-261.13 1835.0001,-271.13 1842.0001,-271.13\"/>\n</g>\n<!-- 48 -->\n<g id=\"node49\" class=\"node\">\n<title>48</title>\n<polygon fill=\"none\" stroke=\"#000000\" points=\"2063,-253.5 1968,-253.5 1968,-200.5 2063,-200.5 2063,-253.5\"/>\n<text text-anchor=\"middle\" x=\"2015.5\" y=\"-238.3\" font-family=\"Times,serif\" font-size=\"14.00\" fill=\"#000000\">gini = 0.0</text>\n<text text-anchor=\"middle\" x=\"2015.5\" y=\"-223.3\" font-family=\"Times,serif\" font-size=\"14.00\" fill=\"#000000\">samples = 6</text>\n<text text-anchor=\"middle\" x=\"2015.5\" y=\"-208.3\" font-family=\"Times,serif\" font-size=\"14.00\" fill=\"#000000\">value = [6, 0]</text>\n</g>\n<!-- 44&#45;&gt;48 -->\n<g id=\"edge48\" class=\"edge\">\n<title>44&#45;&gt;48</title>\n<path fill=\"none\" stroke=\"#000000\" d=\"M1886.1561,-303.3436C1908.1998,-290.5143 1934.714,-275.0312 1958.5,-261 1959.7716,-260.2499 1961.0587,-259.4897 1962.3565,-258.7223\"/>\n<polygon fill=\"#000000\" stroke=\"#000000\" points=\"1964.2092,-261.6929 1971.028,-253.584 1960.6407,-255.6708 1964.2092,-261.6929\"/>\n</g>\n<!-- 46 -->\n<g id=\"node47\" class=\"node\">\n<title>46</title>\n<polygon fill=\"none\" stroke=\"#000000\" points=\"1876,-149.5 1781,-149.5 1781,-96.5 1876,-96.5 1876,-149.5\"/>\n<text text-anchor=\"middle\" x=\"1828.5\" y=\"-134.3\" font-family=\"Times,serif\" font-size=\"14.00\" fill=\"#000000\">gini = 0.0</text>\n<text text-anchor=\"middle\" x=\"1828.5\" y=\"-119.3\" font-family=\"Times,serif\" font-size=\"14.00\" fill=\"#000000\">samples = 2</text>\n<text text-anchor=\"middle\" x=\"1828.5\" y=\"-104.3\" font-family=\"Times,serif\" font-size=\"14.00\" fill=\"#000000\">value = [2, 0]</text>\n</g>\n<!-- 45&#45;&gt;46 -->\n<g id=\"edge46\" class=\"edge\">\n<title>45&#45;&gt;46</title>\n<path fill=\"none\" stroke=\"#000000\" d=\"M1835.2256,-192.9465C1834.1983,-182.2621 1833.0601,-170.4254 1832.0168,-159.5742\"/>\n<polygon fill=\"#000000\" stroke=\"#000000\" points=\"1835.4933,-159.1612 1831.0521,-149.5422 1828.5254,-159.8313 1835.4933,-159.1612\"/>\n</g>\n<!-- 47 -->\n<g id=\"node48\" class=\"node\">\n<title>47</title>\n<polygon fill=\"none\" stroke=\"#000000\" points=\"1989,-149.5 1894,-149.5 1894,-96.5 1989,-96.5 1989,-149.5\"/>\n<text text-anchor=\"middle\" x=\"1941.5\" y=\"-134.3\" font-family=\"Times,serif\" font-size=\"14.00\" fill=\"#000000\">gini = 0.0</text>\n<text text-anchor=\"middle\" x=\"1941.5\" y=\"-119.3\" font-family=\"Times,serif\" font-size=\"14.00\" fill=\"#000000\">samples = 5</text>\n<text text-anchor=\"middle\" x=\"1941.5\" y=\"-104.3\" font-family=\"Times,serif\" font-size=\"14.00\" fill=\"#000000\">value = [0, 5]</text>\n</g>\n<!-- 45&#45;&gt;47 -->\n<g id=\"edge47\" class=\"edge\">\n<title>45&#45;&gt;47</title>\n<path fill=\"none\" stroke=\"#000000\" d=\"M1872.2261,-192.9465C1883.6805,-181.3809 1896.472,-168.4652 1907.9154,-156.9107\"/>\n<polygon fill=\"#000000\" stroke=\"#000000\" points=\"1910.663,-159.1102 1915.213,-149.5422 1905.6894,-154.1844 1910.663,-159.1102\"/>\n</g>\n</g>\n</svg>\n"
          },
          "metadata": {
            "tags": []
          },
          "execution_count": 79
        }
      ]
    },
    {
      "cell_type": "code",
      "metadata": {
        "id": "N-0NlQ6xV-b4",
        "outputId": "543f1683-5c39-4bc2-d240-a9178abe0c4f",
        "colab": {
          "base_uri": "https://localhost:8080/"
        }
      },
      "source": [
        "# Predicción\r\n",
        "prediccion = arbol_grande.predict(df.iloc[:,:-2])\r\n",
        "prediccion"
      ],
      "execution_count": 80,
      "outputs": [
        {
          "output_type": "execute_result",
          "data": {
            "text/plain": [
              "array([1, 1, 1, 1, 1, 1, 1, 0, 1, 1, 1, 1, 0, 0, 0, 1, 1, 0, 1, 1, 0, 1,\n",
              "       0, 0, 1, 1, 1, 0, 1, 1, 1, 1, 0, 0, 0, 1, 1, 1, 0, 1, 1, 0, 0, 0,\n",
              "       0, 1, 1, 0, 1, 0, 1, 1, 1, 0, 1, 1, 0, 0, 1, 1, 1, 1, 0, 0, 0, 1,\n",
              "       0, 1, 1, 1, 0, 0, 0, 0, 1, 1, 0, 0, 0, 0, 0, 0, 1, 0, 1, 0, 0, 0,\n",
              "       0, 0, 0, 0, 0, 1, 0, 0, 1, 0, 0, 0, 1, 0, 0, 0, 0, 1, 0, 0, 0, 0,\n",
              "       1, 0, 0, 0, 0, 0, 0, 0, 0, 1, 0, 0, 0, 0, 1, 0, 1, 0, 0, 0, 0, 0,\n",
              "       0, 0, 0, 0, 0, 0, 0, 0, 1, 0, 0, 0, 1, 0, 0, 0, 1, 0, 1, 0, 0, 0,\n",
              "       0, 1, 0, 0, 0, 0, 0, 0, 0, 0, 0, 1, 0, 1, 0, 0, 0, 0, 0, 0, 0, 0,\n",
              "       0, 0, 0, 0, 0, 1, 1, 1, 0, 1, 0, 1, 0, 0, 1, 0, 0, 0, 0, 0, 0, 0,\n",
              "       0, 0, 0, 0, 0, 0, 0, 0, 0, 0, 0, 0, 0, 0, 0, 1, 0, 0, 0, 1, 0, 0,\n",
              "       1, 0, 0, 0, 0, 0, 0, 0, 1, 1, 1, 0, 0, 0, 0, 0, 0, 0, 0, 0, 0, 0,\n",
              "       0, 0, 0, 0, 1, 0, 0, 0, 0, 0, 0, 0, 0, 0, 0, 0, 0, 0, 0, 0, 1, 0,\n",
              "       0, 0, 1, 0, 0, 0, 0, 0, 0, 0, 0, 0, 0, 0, 0, 0, 0, 0, 0, 0, 0, 0,\n",
              "       0, 0, 0, 0, 0, 0, 0, 0, 0, 0, 0, 0, 0])"
            ]
          },
          "metadata": {
            "tags": []
          },
          "execution_count": 80
        }
      ]
    },
    {
      "cell_type": "code",
      "metadata": {
        "id": "MRlWh4DzXdnD",
        "outputId": "b84147af-c0ec-43a3-b529-8e632f4eeca1",
        "colab": {
          "base_uri": "https://localhost:8080/"
        }
      },
      "source": [
        "# Precisión de la predicción\r\n",
        "from sklearn.metrics import accuracy_score\r\n",
        "accuracy_score(df['DEATH_EVENT'], prediccion)"
      ],
      "execution_count": 81,
      "outputs": [
        {
          "output_type": "execute_result",
          "data": {
            "text/plain": [
              "0.8996655518394648"
            ]
          },
          "metadata": {
            "tags": []
          },
          "execution_count": 81
        }
      ]
    },
    {
      "cell_type": "markdown",
      "metadata": {
        "id": "V66-xgckYMQs"
      },
      "source": [
        "## 06 EJERCICIO TITANIC\r\n",
        "Recordais el dataset del Titanic?\r\n",
        "\r\n",
        "Vamos a hacer un árbol de decisión que prediga si alguien fallece o no. "
      ]
    },
    {
      "cell_type": "code",
      "metadata": {
        "id": "hYiZbvGgYGzt"
      },
      "source": [
        ""
      ],
      "execution_count": null,
      "outputs": []
    }
  ]
}