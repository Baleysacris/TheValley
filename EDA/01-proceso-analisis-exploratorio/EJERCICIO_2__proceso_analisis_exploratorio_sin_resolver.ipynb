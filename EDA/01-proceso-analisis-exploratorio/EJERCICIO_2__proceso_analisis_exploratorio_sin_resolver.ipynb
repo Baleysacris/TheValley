{
  "nbformat": 4,
  "nbformat_minor": 0,
  "metadata": {
    "colab": {
      "name": "EJERCICIO_2 _proceso-analisis-exploratorio.ipynb",
      "provenance": [],
      "toc_visible": true,
      "authorship_tag": "ABX9TyOBWoFSju5zuHw8BaYck+sE",
      "include_colab_link": true
    },
    "kernelspec": {
      "name": "python3",
      "display_name": "Python 3"
    }
  },
  "cells": [
    {
      "cell_type": "markdown",
      "metadata": {
        "id": "view-in-github",
        "colab_type": "text"
      },
      "source": [
        "<a href=\"https://colab.research.google.com/github/JotaBlanco/TheValley/blob/main/EDA/01-proceso-analisis-exploratorio/EJERCICIO_2__proceso_analisis_exploratorio_sin_resolver.ipynb\" target=\"_parent\"><img src=\"https://colab.research.google.com/assets/colab-badge.svg\" alt=\"Open In Colab\"/></a>"
      ]
    },
    {
      "cell_type": "markdown",
      "metadata": {
        "id": "R53FGLN8jo1L"
      },
      "source": [
        "# EJERCICIO 2: Proceso Análisis Exploratorio \r\n",
        "Ejercicio para practicar la introducción al EDA (Exploratory Data Analysis).\r\n",
        "\r\n",
        "Notebook por [Javier Blanco Cordero](https://www.linkedin.com/in/javier-blanco-cordero-71373656/).\r\n",
        "\r\n",
        "### Enlaces de interés\r\n",
        "*   [Slides de presentación](https://docs.google.com/presentation/d/1IT6OVy9YS_sbgHF2oU9D0L--fZiyUfij7NxVhu3cAdg/edit?usp=sharing)\r\n",
        "*   [Enlace a notebook con introducción al EDA](https://colab.research.google.com/drive/1B37GMOCjKQ0S8NoRI6lALEW9EZtE0Hit#scrollTo=R53FGLN8jo1L)\r\n",
        "*   [Enlace a este notebook en Colab](https://colab.research.google.com/drive/1VMkJls178kiMWqEBRXvFxw47UWMcivfm)\r\n",
        "*   [Enlace al notebook de este ejercicio resuelto](https://colab.research.google.com/github/JotaBlanco/TheValley/blob/main/Notebooks/01-proceso-analisis-exploratorio/EJERCICIO_2__proceso_analisis_exploratorio.ipynb)"
      ]
    },
    {
      "cell_type": "markdown",
      "metadata": {
        "id": "exi-HUGCoCae"
      },
      "source": [
        "# Objetivo: EDA SP500\r\n",
        "Eres un inversor privado que está considerando el sp500 como producto. Basándote en el histórico del sp500, resuelve las preguntas que puedes ver a continuación.\r\n",
        "\r\n",
        "\r\n",
        "Primero, claro, debes importar el dataset del sp500 y las librerías necesarias."
      ]
    },
    {
      "cell_type": "code",
      "metadata": {
        "id": "4be6xiUqjPHI"
      },
      "source": [
        ""
      ],
      "execution_count": null,
      "outputs": []
    },
    {
      "cell_type": "code",
      "metadata": {
        "id": "J9-edLWbpuqc"
      },
      "source": [
        ""
      ],
      "execution_count": null,
      "outputs": []
    },
    {
      "cell_type": "markdown",
      "metadata": {
        "id": "cnHRaho3rsXS"
      },
      "source": [
        "# Pregunta 1\r\n",
        "### Cuánto valdría mi inversión ahora si hubiera metido 1 dollar el primer día (1927-12-30)\r\n",
        "Nota: ese dollar es equivalente a unos $15.22 de ahora por la inflacción. Ha superado el sp500 la inflacción?"
      ]
    },
    {
      "cell_type": "code",
      "metadata": {
        "id": "9eg9GeddrxDN"
      },
      "source": [
        ""
      ],
      "execution_count": null,
      "outputs": []
    },
    {
      "cell_type": "code",
      "metadata": {
        "id": "xMEiC2Rcr6k8"
      },
      "source": [
        ""
      ],
      "execution_count": null,
      "outputs": []
    },
    {
      "cell_type": "code",
      "metadata": {
        "id": "Rf69AZGEr6oe"
      },
      "source": [
        ""
      ],
      "execution_count": null,
      "outputs": []
    },
    {
      "cell_type": "markdown",
      "metadata": {
        "id": "LssysnYCtmqu"
      },
      "source": [
        "# Pregunta 2\r\n",
        "### Qué porcentaje de días el sp500 ha acabado por encima del día valor de cierre del día anterior"
      ]
    },
    {
      "cell_type": "code",
      "metadata": {
        "id": "btaGzJqNt0Uc"
      },
      "source": [
        ""
      ],
      "execution_count": null,
      "outputs": []
    },
    {
      "cell_type": "code",
      "metadata": {
        "id": "Hepym7n8uG2d"
      },
      "source": [
        ""
      ],
      "execution_count": null,
      "outputs": []
    },
    {
      "cell_type": "markdown",
      "metadata": {
        "id": "T_nOTjcJu3Qv"
      },
      "source": [
        "# Pregunta 3\r\n",
        "Considerando un año como los ultímos 365 días, es decir, los últimos 250 días de bolsa (cierra findes y festivos), \r\n",
        "### Cuál es la ganancia media anual esperable\r\n"
      ]
    },
    {
      "cell_type": "code",
      "metadata": {
        "id": "U2eHTQxRvPns"
      },
      "source": [
        ""
      ],
      "execution_count": null,
      "outputs": []
    },
    {
      "cell_type": "code",
      "metadata": {
        "id": "HBrnTHCqvmSL"
      },
      "source": [
        ""
      ],
      "execution_count": null,
      "outputs": []
    },
    {
      "cell_type": "markdown",
      "metadata": {
        "id": "ccYi9uZEwuEf"
      },
      "source": [
        "# Pregunta 4\r\n",
        "Mi objetivo es invertir una cantidad en el sp500 y extraer mi dinero en 5 años (de nuevo nos referimos a la idea de año descrita en la pregunta anterior). Pero soy tremendamente gafe e invierto el peor día posible de la historia para conseguir mi objetivo.\r\n",
        "### Qué día he invertido? Cuánto he perdido al cabo de 5 años? "
      ]
    },
    {
      "cell_type": "code",
      "metadata": {
        "id": "VTmWIm9Rx0IL"
      },
      "source": [
        ""
      ],
      "execution_count": null,
      "outputs": []
    },
    {
      "cell_type": "code",
      "metadata": {
        "id": "zwFd7wWVv_X1"
      },
      "source": [
        ""
      ],
      "execution_count": null,
      "outputs": []
    },
    {
      "cell_type": "code",
      "metadata": {
        "id": "IePrkW8wyBj1"
      },
      "source": [
        ""
      ],
      "execution_count": null,
      "outputs": []
    },
    {
      "cell_type": "code",
      "metadata": {
        "id": "QuQ-uylb3s3c"
      },
      "source": [
        ""
      ],
      "execution_count": null,
      "outputs": []
    },
    {
      "cell_type": "markdown",
      "metadata": {
        "id": "lIYDUEbeq5Ay"
      },
      "source": [
        "# Pregunta 5\r\n",
        "La respuesta a la pregunta anterior se ve influenciada por el crash del 1929. A partir de ahora limitemos nuestro análisis a los últimos del 1955 en adelante.\r\n",
        "### Cuál es la distribución de la ganancia a [1,2,5,10,15,20] años?\r\n",
        "Nota: con distribución nos referimos a los estadísticos principales: media, mediana, cuantiles principales, etc."
      ]
    },
    {
      "cell_type": "code",
      "metadata": {
        "id": "KJCvB9jx5i5t"
      },
      "source": [
        ""
      ],
      "execution_count": null,
      "outputs": []
    },
    {
      "cell_type": "code",
      "metadata": {
        "id": "QRAWMOXpPDyE"
      },
      "source": [
        ""
      ],
      "execution_count": null,
      "outputs": []
    },
    {
      "cell_type": "code",
      "metadata": {
        "id": "hlb8UQi05_yJ"
      },
      "source": [
        ""
      ],
      "execution_count": null,
      "outputs": []
    },
    {
      "cell_type": "code",
      "metadata": {
        "id": "LTBWGZ7cAAgt"
      },
      "source": [
        ""
      ],
      "execution_count": null,
      "outputs": []
    }
  ]
}