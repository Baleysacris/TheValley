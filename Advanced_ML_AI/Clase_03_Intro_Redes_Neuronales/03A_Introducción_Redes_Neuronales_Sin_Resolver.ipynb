{
  "nbformat": 4,
  "nbformat_minor": 0,
  "metadata": {
    "colab": {
      "name": "03A - Introducción Redes Neuronales.ipynb",
      "provenance": [],
      "toc_visible": true,
      "include_colab_link": true
    },
    "kernelspec": {
      "name": "python3",
      "display_name": "Python 3"
    }
  },
  "cells": [
    {
      "cell_type": "markdown",
      "metadata": {
        "id": "view-in-github",
        "colab_type": "text"
      },
      "source": [
        "<a href=\"https://colab.research.google.com/github/JotaBlanco/TheValley/blob/main/Advanced_ML_AI/Clase_03_Intro_Redes_Neuronales/03A_Introducci%C3%B3n_Redes_Neuronales_Sin_Resolver.ipynb\" target=\"_parent\"><img src=\"https://colab.research.google.com/assets/colab-badge.svg\" alt=\"Open In Colab\"/></a>"
      ]
    },
    {
      "cell_type": "markdown",
      "metadata": {
        "id": "_mo1-Qxt1OAp"
      },
      "source": [
        "# 01 INTRODUCCIÓN\n",
        "En este notebook introduciremos el concepto de redes neuronales utilizando como ejemplo el ejercicio CHALLENGE sobre churn en una empresa telco.\n",
        "\n",
        "\n",
        "\n",
        "Notebook por [Javier Blanco Cordero](https://www.linkedin.com/in/javier-blanco-cordero-71373656/).\n",
        "\n",
        "### Enlaces de interés\n",
        "*   [Slides de presentación](https://docs.google.com/presentation/d/1vFXqP9QBoipKkGjajyqZEDelGllNueR51kBmXCGWzck/edit?usp=sharing)\n",
        "*   [Enlace a este notebook](https://colab.research.google.com/github/JotaBlanco/TheValley/blob/main/Advanced_ML_AI/Clase_02_Optimizacion_Modelos/02B_%7C_Ejercicio_CHALLENGE.ipynb)\n",
        "*   [Enlace a este notebook ejercicio CHALLENGE](https://colab.research.google.com/github/JotaBlanco/TheValley/blob/main/Advanced_ML_AI/Clase_02_Optimizacion_Modelos/02B_%7C_Ejercicio_CHALLENGE.ipynb)"
      ]
    },
    {
      "cell_type": "markdown",
      "metadata": {
        "id": "cnHRaho3rsXS"
      },
      "source": [
        "## 0101 Import\n",
        "Puedes importar aquí las librerías que creas que vas a necesitar."
      ]
    },
    {
      "cell_type": "code",
      "metadata": {
        "id": "4be6xiUqjPHI"
      },
      "source": [
        "import pandas as pd\n",
        "import numpy as np\n",
        "import matplotlib.pyplot as plt\n",
        "import seaborn as sns\n",
        "import graphviz\n",
        "\n",
        "from sklearn.model_selection import train_test_split\n",
        "from sklearn.metrics import accuracy_score"
      ],
      "execution_count": null,
      "outputs": []
    },
    {
      "cell_type": "markdown",
      "metadata": {
        "id": "AblkT14d4Gvt"
      },
      "source": [
        "## 0102 Carga el dataset del Churn Telco\n",
        "Aquí teneis el url del archivo raw del dataset de churn en una empresa Telco. OJO: este es el dataset para entrenar vuestro modelo, sobre el que conocemos el target (si un cliente ha realizado o no churn). \n",
        "\n",
        "https://raw.githubusercontent.com/JotaBlanco/TheValley/main/Data/CHURN_DF_train.csv\n",
        "\n",
        "Importa los datos en un dataframe llamado **dataframe df_churn**."
      ]
    },
    {
      "cell_type": "code",
      "metadata": {
        "id": "GMZACcIXOclu"
      },
      "source": [
        "# Url archivo raw\n",
        "url = 'https://raw.githubusercontent.com/JotaBlanco/TheValley/main/Data/CHURN_DF_train.csv'\n",
        "\n",
        "# Importa csv\n",
        "df_churn = pd.read_csv(url, sep=',')\n",
        "\n",
        "# Pequeña limpieza\n",
        "df_churn.loc[df_churn['TotalCharges']==\" \", 'TotalCharges'] = np.NaN\n",
        "df_churn['TotalCharges'] = df_churn['TotalCharges'].astype(float)\n",
        "\n",
        "print(len(df_churn))\n",
        "\n",
        "# Visualización primeras filas\n",
        "df_churn.head()"
      ],
      "execution_count": null,
      "outputs": []
    },
    {
      "cell_type": "markdown",
      "metadata": {
        "id": "KBOQJ0AjdYrM"
      },
      "source": [
        "# 02 EDA\n",
        "Para familiarizarte con los datos puedes realizar un pequeño análisis exploratorio visual. Puedes usar los métodos .shape, .info(), .describe(), por ejemplo para entender su tamaño y sus variables. \n",
        "\n",
        "Recuerda que puedes encontrar mis clases sobre análisis exploratorio [aquí](https://github.com/JotaBlanco/TheValley/tree/main/EDA/)."
      ]
    },
    {
      "cell_type": "code",
      "metadata": {
        "id": "qGrwhGyaj0-a"
      },
      "source": [
        "df_churn.info()"
      ],
      "execution_count": null,
      "outputs": []
    },
    {
      "cell_type": "code",
      "metadata": {
        "id": "8LoZpl8rjWEX"
      },
      "source": [
        "df_churn.describe()"
      ],
      "execution_count": null,
      "outputs": []
    },
    {
      "cell_type": "markdown",
      "metadata": {
        "id": "8OJS0b4R5ZNh"
      },
      "source": [
        "# 03 Preparación de los datos\n",
        "Normalmente el dataframe contiene nulos, así como variables categóricas y presencia de ciertas variables que probablemente no queramos usar. \n",
        "\n",
        "Necesitamos limpiarlo antes de poder entrenar los modelos."
      ]
    },
    {
      "cell_type": "markdown",
      "metadata": {
        "id": "8wguISKl5q_h"
      },
      "source": [
        "### 0301 Variables Útiles\n",
        "De entre las variables disponibles, quedémonos con la que queramos utilizar como predictoras para el estudio."
      ]
    },
    {
      "cell_type": "code",
      "metadata": {
        "id": "gqcX-sFQ5krb"
      },
      "source": [
        "df_churn.head(2)"
      ],
      "execution_count": null,
      "outputs": []
    },
    {
      "cell_type": "code",
      "metadata": {
        "id": "Xp0mlSG6D-AZ"
      },
      "source": [
        "df_churn.columns"
      ],
      "execution_count": null,
      "outputs": []
    },
    {
      "cell_type": "code",
      "metadata": {
        "id": "AjP61licD-EH"
      },
      "source": [
        "cols = ['gender', 'SeniorCitizen', 'Partner', 'Dependents',\n",
        "       'tenure', 'PhoneService', 'PaperlessBilling', 'MonthlyCharges',\n",
        "       'TotalCharges', 'MultipleLines_No', 'MultipleLines_No phone service',\n",
        "       'MultipleLines_Yes', 'InternetService_DSL',\n",
        "       'InternetService_Fiber optic', 'InternetService_No', 'StreamingTV_No',\n",
        "       'StreamingTV_No internet service', 'StreamingTV_Yes',\n",
        "       'OnlineSecurity_No', 'OnlineSecurity_No internet service',\n",
        "       'OnlineSecurity_Yes', 'OnlineBackup_No',\n",
        "       'OnlineBackup_No internet service', 'OnlineBackup_Yes',\n",
        "       'DeviceProtection_No', 'DeviceProtection_No internet service',\n",
        "       'DeviceProtection_Yes', 'TechSupport_No',\n",
        "       'TechSupport_No internet service', 'TechSupport_Yes',\n",
        "       'StreamingMovies_No', 'StreamingMovies_No internet service',\n",
        "       'StreamingMovies_Yes', 'Contract_Month-to-month', 'Contract_One year',\n",
        "       'Contract_Two year', 'PaymentMethod_Bank transfer (automatic)',\n",
        "       'PaymentMethod_Credit card (automatic)',\n",
        "       'PaymentMethod_Electronic check', 'PaymentMethod_Mailed check']\n",
        "\n",
        "cat_cols = ['gender']"
      ],
      "execution_count": null,
      "outputs": []
    },
    {
      "cell_type": "code",
      "metadata": {
        "id": "nDGAkkloEbtO"
      },
      "source": [
        "df_churn = df_churn[cols+['Churn']]"
      ],
      "execution_count": null,
      "outputs": []
    },
    {
      "cell_type": "markdown",
      "metadata": {
        "id": "fOdoBzd46La9"
      },
      "source": [
        "### 030102 Dumificación de variables categóricas\n",
        "Recuerda que debemos transformar las variables categóricas para convertirlas en numéricas."
      ]
    },
    {
      "cell_type": "code",
      "metadata": {
        "id": "ThnP11iE5kvJ"
      },
      "source": [
        "df_churn = pd.get_dummies(df_churn[cols+['Churn']], \n",
        "                          prefix_sep='_',\n",
        "                          drop_first=True, \n",
        "                          columns=cat_cols)\n",
        "\n",
        "display(df_churn.shape)\n",
        "\n",
        "df_churn.head()"
      ],
      "execution_count": null,
      "outputs": []
    },
    {
      "cell_type": "markdown",
      "metadata": {
        "id": "vBvgESsE7GUy"
      },
      "source": [
        "### 030103 Limpieza de nulos\n",
        "Recuerda que puedes mirarlo con dataframe.isna().sum() y si sí hay nulos, puedes rellenarlos con el método .fillna()."
      ]
    },
    {
      "cell_type": "code",
      "metadata": {
        "id": "rCN0RJLv5KmU"
      },
      "source": [
        "df_churn.isna().sum()"
      ],
      "execution_count": null,
      "outputs": []
    },
    {
      "cell_type": "code",
      "metadata": {
        "id": "F0WA4ylg5WAG"
      },
      "source": [
        "df_churn['TotalCharges'] = df_churn['TotalCharges'].fillna(df_churn['TotalCharges'].mean())"
      ],
      "execution_count": null,
      "outputs": []
    },
    {
      "cell_type": "code",
      "metadata": {
        "id": "aUqQsYSJ5kjj"
      },
      "source": [
        "df_churn.isna().sum()"
      ],
      "execution_count": null,
      "outputs": []
    },
    {
      "cell_type": "markdown",
      "metadata": {
        "id": "YFZJJT_VGP5E"
      },
      "source": [
        "### 030104 Estandarización\n",
        "Normalizamos (estandarizamos) las variables numéricas. Scklearn propone distintos métodos:\n",
        "\n",
        "*   [sklearn.preprocessing.StandardScaler](https://scikit-learn.org/stable/modules/generated/sklearn.preprocessing.StandardScaler.html)\n",
        "*   [sklearn.preprocessing.MinMaxScaler](https://scikit-learn.org/stable/modules/generated/sklearn.preprocessing.MinMaxScaler.html)\n",
        "*   [sklearn.preprocessing.normalize](https://scikit-learn.org/stable/modules/generated/sklearn.preprocessing.normalize.html)"
      ]
    },
    {
      "cell_type": "code",
      "metadata": {
        "id": "hMoMDl3WR__F"
      },
      "source": [
        "df_churn.head()"
      ],
      "execution_count": null,
      "outputs": []
    },
    {
      "cell_type": "code",
      "metadata": {
        "id": "so9LK1A5SCKI"
      },
      "source": [
        "# columnas no binarias \n",
        "display(df_churn.loc[:,df_churn.isin([0,1]).all()==False].columns)\n",
        "\n",
        "# non-binary cols\n",
        "non_binary_cols = ['tenure', 'MonthlyCharges', 'TotalCharges']"
      ],
      "execution_count": null,
      "outputs": []
    },
    {
      "cell_type": "code",
      "metadata": {
        "id": "SM9vcghy9U3f"
      },
      "source": [
        "from sklearn.preprocessing import StandardScaler\n",
        "\n",
        "# Inicializamos objeto de normalización\n",
        "scaler = StandardScaler()\n",
        "\n",
        "# \"Entrenamos\" el objeto \n",
        "scaler.fit(df_churn[non_binary_cols])\n",
        "\n",
        "# Transformamos las columnas no binarias\n",
        "df_churn[non_binary_cols] = scaler.transform(df_churn[non_binary_cols])\n",
        "\n",
        "df_churn.head()"
      ],
      "execution_count": null,
      "outputs": []
    },
    {
      "cell_type": "markdown",
      "metadata": {
        "id": "vXuahKge_Szf"
      },
      "source": [
        "### 030105 Train - test"
      ]
    },
    {
      "cell_type": "code",
      "metadata": {
        "id": "JuUqE7RMGk73"
      },
      "source": [
        "# Primero generamos la matriz X con las variables predictoras \n",
        "# y el vector y con la variable a predecir\n",
        "X = df_churn.drop('Churn',axis=1)\n",
        "y = df_churn['Churn']\n",
        "\n",
        "# Comprueba sus tamaños\n",
        "X.shape, y.shape"
      ],
      "execution_count": null,
      "outputs": []
    },
    {
      "cell_type": "code",
      "metadata": {
        "id": "nbt_ueIVG9Ut"
      },
      "source": [
        "# Haz la partición train-test\n",
        "X_train, X_test, y_train, y_test = train_test_split(X, \n",
        "                                                    y, \n",
        "                                                    test_size=0.33,\n",
        "                                                    random_state=42)\n",
        "\n",
        "# Comprueba sus tamaños\n",
        "X_train.shape, X_test.shape, y_train.shape, y_test.shape"
      ],
      "execution_count": null,
      "outputs": []
    },
    {
      "cell_type": "markdown",
      "metadata": {
        "id": "JIJw6wpoDeYL"
      },
      "source": [
        "# 04 Entrenamos una red neuronal con Keras\n",
        "\n",
        "Aquí podéis encontrar [un buen notebook ejemplo](https://colab.research.google.com/github/keras-team/keras-io/blob/master/guides/ipynb/sequential_model.ipynb) (de la documentación de Keras) sobre cómo definir redes neuronales secuenciales. "
      ]
    },
    {
      "cell_type": "markdown",
      "metadata": {
        "id": "jR8jPudCUh1W"
      },
      "source": [
        "## 0401 Importamos Keras"
      ]
    },
    {
      "cell_type": "code",
      "metadata": {
        "id": "K_t54sKQaFb9"
      },
      "source": [
        "from tensorflow import keras\n",
        "from keras.models import Sequential\n",
        "from keras.layers import Dense"
      ],
      "execution_count": null,
      "outputs": []
    },
    {
      "cell_type": "markdown",
      "metadata": {
        "id": "W5IKyePtV2a2"
      },
      "source": [
        "## 0402 Definimos arquitectura\n",
        "Más info sobre la función de activación softmax [aquí](https://en.wikipedia.org/wiki/Softmax_function)."
      ]
    },
    {
      "cell_type": "code",
      "metadata": {
        "id": "aL8ISTkCbjLq"
      },
      "source": [
        "# Inicializamos la red neuronal\n",
        "modelo = Sequential([\n",
        "    Dense(1000, activation='relu', input_shape=(X.shape[1],)),\n",
        "    Dense(1000, activation='relu'),\n",
        "    Dense(1000, activation='relu'),\n",
        "    Dense(1, activation=\"sigmoid\")\n",
        "    ], name = 'Mi_primera_red_neuronal')\n",
        "\n",
        "modelo"
      ],
      "execution_count": null,
      "outputs": []
    },
    {
      "cell_type": "code",
      "metadata": {
        "id": "0RF4bGxXHGrl"
      },
      "source": [
        "modelo.summary()"
      ],
      "execution_count": null,
      "outputs": []
    },
    {
      "cell_type": "code",
      "metadata": {
        "id": "Rlll4dW0I4jw"
      },
      "source": [
        "keras.utils.plot_model(modelo, \"imagen.png\", show_shapes=True)"
      ],
      "execution_count": null,
      "outputs": []
    },
    {
      "cell_type": "markdown",
      "metadata": {
        "id": "z7DL_18HXLkM"
      },
      "source": [
        "## 0403 Compilamos"
      ]
    },
    {
      "cell_type": "code",
      "metadata": {
        "id": "2xru7yPYbld4"
      },
      "source": [
        "modelo.compile(optimizer = 'sgd', \n",
        "               loss = 'binary_crossentropy', \n",
        "               metrics = ['accuracy'])\n",
        "\n",
        "modelo"
      ],
      "execution_count": null,
      "outputs": []
    },
    {
      "cell_type": "markdown",
      "metadata": {
        "id": "Sn907Ts1XhRS"
      },
      "source": [
        "## 0404 Entrenamos\n",
        "[Colab notebook](https://colab.research.google.com/github/keras-team/keras-io/blob/master/guides/ipynb/training_with_built_in_methods.ipynb#scrollTo=IFz5UrHJC4SF) muy completo de la documentacion de Keras sobre el entrenamiento de redes neuronales."
      ]
    },
    {
      "cell_type": "code",
      "metadata": {
        "id": "bwvI-vu_cUs-"
      },
      "source": [
        "modelo.fit(X_train, y_train, epochs=25, batch_size=50)\n",
        "modelo"
      ],
      "execution_count": null,
      "outputs": []
    },
    {
      "cell_type": "code",
      "metadata": {
        "id": "WNMm6KBUEGZG"
      },
      "source": [
        "# Evaluate the model on the test data using `evaluate`\n",
        "print(\"Evaluate on test data\")\n",
        "results = modelo.evaluate(X_test, y_test, batch_size=128)\n",
        "print(\"test loss, test acc:\", results)"
      ],
      "execution_count": null,
      "outputs": []
    },
    {
      "cell_type": "markdown",
      "metadata": {
        "id": "76S9Y8iSaPsh"
      },
      "source": [
        "## 0405 Predecimos\n"
      ]
    },
    {
      "cell_type": "code",
      "metadata": {
        "id": "o4tZXlPpbQs9"
      },
      "source": [
        "# Usamos la red neuronal para predecir sobre el dataset de entrenamiento\n",
        "y_pred_train = np.round(modelo.predict(X_train), 0)\n",
        "\n",
        "# Usamos la red neuronal para predecir sobre el dataset de test\n",
        "y_pred_test = np.round(modelo.predict(X_test), 0)"
      ],
      "execution_count": null,
      "outputs": []
    },
    {
      "cell_type": "code",
      "metadata": {
        "id": "H47CO0QaBkvl"
      },
      "source": [
        "# Calidad predicción train\n",
        "ac_train = round(accuracy_score(y_train, y_pred_train), 4)\n",
        "print('Precisión en set de entrenamiento :', ac_train)\n",
        "\n",
        "# Calidad predicción test\n",
        "ac_test = round(accuracy_score(y_test, y_pred_test), 4)\n",
        "print('Precisión en set de test :', ac_test)\n",
        "\n",
        "# Degradación de la predicción\n",
        "print('Degradación: ' + str(round((ac_test-ac_train)/ac_train*100,2)) + '%')"
      ],
      "execution_count": null,
      "outputs": []
    },
    {
      "cell_type": "markdown",
      "metadata": {
        "id": "7IIPvWOHMxbR"
      },
      "source": [
        "# 05 EJERCICIO\n",
        "Entrena una red neuronal que prediga si se da o no una complicación en una operación quirúrgica."
      ]
    },
    {
      "cell_type": "markdown",
      "metadata": {
        "id": "xjjzS8anOX76"
      },
      "source": [
        "## 0501 Carga el dataset de complicaciones quirúrgicas\n",
        "Aquí teneis el url del archivo raw del dataset: \n",
        "\n",
        "https://raw.githubusercontent.com/JotaBlanco/TheValley/main/Data/complicacion_quirurgica.csv\n",
        "\n",
        "Importa los datos en un dataframe llamado **dataframe df**."
      ]
    },
    {
      "cell_type": "code",
      "metadata": {
        "id": "kuoFbe8aOiHs"
      },
      "source": [
        "# Url archivo raw\n",
        "url = 'https://raw.githubusercontent.com/JotaBlanco/TheValley/main/Data/complicacion_quirurgica.csv'\n",
        "\n",
        "# Importa csv\n",
        "df = pd.read_csv(url, sep=',')\n",
        "\n",
        "# Visualización primeras filas\n",
        "df.head()"
      ],
      "execution_count": null,
      "outputs": []
    },
    {
      "cell_type": "code",
      "metadata": {
        "id": "yz4DtM4rTTjr"
      },
      "source": [
        "df.info()"
      ],
      "execution_count": null,
      "outputs": []
    },
    {
      "cell_type": "markdown",
      "metadata": {
        "id": "rhJogpicP7kh"
      },
      "source": [
        "## 0502 Estandarización\n",
        "Normaliza las variables numéricas para que estén en la misma escala.\n"
      ]
    },
    {
      "cell_type": "code",
      "metadata": {
        "id": "mteJGtsEPcAL"
      },
      "source": [
        "# columnas no binarias \n",
        "display(df.loc[:,df.isin([0,1]).all()==False].columns)\n",
        "\n",
        "# non-binary cols\n",
        "non_binary_cols = ['bmi', 'Age', 'asa_status', 'baseline_charlson', 'ahrq_ccs',\n",
        "       'ccsComplicationRate', 'ccsMort30Rate', 'complication_rsi', 'dow',\n",
        "       'hour', 'month', 'moonphase', 'mortality_rsi', 'race']"
      ],
      "execution_count": null,
      "outputs": []
    },
    {
      "cell_type": "code",
      "metadata": {
        "id": "ZPjQONSAUCEz"
      },
      "source": [
        "# normaliza las columnas numéricas no binarias\n"
      ],
      "execution_count": null,
      "outputs": []
    },
    {
      "cell_type": "markdown",
      "metadata": {
        "id": "B-PKz5IdUmg0"
      },
      "source": [
        "## 0503 Train - test\n",
        "Separa el dataset en train y test."
      ]
    },
    {
      "cell_type": "code",
      "metadata": {
        "id": "slRxMvcnUawL"
      },
      "source": [
        ""
      ],
      "execution_count": null,
      "outputs": []
    },
    {
      "cell_type": "code",
      "metadata": {
        "id": "bnV8hiKCUg1_"
      },
      "source": [
        ""
      ],
      "execution_count": null,
      "outputs": []
    },
    {
      "cell_type": "markdown",
      "metadata": {
        "id": "nsSa7ho9U3Ul"
      },
      "source": [
        "## 0504 Entrena una red neuronal\n",
        "Prueba de hecho varias, con distintas arquitecturas."
      ]
    },
    {
      "cell_type": "code",
      "metadata": {
        "id": "vE_S0Yn0Y57g"
      },
      "source": [
        ""
      ],
      "execution_count": null,
      "outputs": []
    },
    {
      "cell_type": "code",
      "metadata": {
        "id": "jiJJKKHVY5_R"
      },
      "source": [
        ""
      ],
      "execution_count": null,
      "outputs": []
    },
    {
      "cell_type": "code",
      "metadata": {
        "id": "3SZJQ9zIY6Co"
      },
      "source": [
        ""
      ],
      "execution_count": null,
      "outputs": []
    },
    {
      "cell_type": "code",
      "metadata": {
        "id": "5Qehz6GgY6GJ"
      },
      "source": [
        ""
      ],
      "execution_count": null,
      "outputs": []
    },
    {
      "cell_type": "code",
      "metadata": {
        "id": "PrnBXJS2Y6JZ"
      },
      "source": [
        ""
      ],
      "execution_count": null,
      "outputs": []
    }
  ]
}