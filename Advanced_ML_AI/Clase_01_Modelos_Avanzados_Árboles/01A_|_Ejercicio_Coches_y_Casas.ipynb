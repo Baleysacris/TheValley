{
  "nbformat": 4,
  "nbformat_minor": 0,
  "metadata": {
    "colab": {
      "name": "01A | Ejercicio Coches y Casas.ipynb",
      "provenance": [],
      "toc_visible": true,
      "authorship_tag": "ABX9TyMSgEG++w30iewrdMPt7k3N",
      "include_colab_link": true
    },
    "kernelspec": {
      "name": "python3",
      "display_name": "Python 3"
    }
  },
  "cells": [
    {
      "cell_type": "markdown",
      "metadata": {
        "id": "view-in-github",
        "colab_type": "text"
      },
      "source": [
        "<a href=\"https://colab.research.google.com/github/JotaBlanco/TheValley/blob/main/Advanced_ML_AI/Clase_01_Modelos_Avanzados_%C3%81rboles/01A_%7C_Ejercicio_Coches_y_Casas.ipynb\" target=\"_parent\"><img src=\"https://colab.research.google.com/assets/colab-badge.svg\" alt=\"Open In Colab\"/></a>"
      ]
    },
    {
      "cell_type": "markdown",
      "metadata": {
        "id": "_mo1-Qxt1OAp"
      },
      "source": [
        "# 01 INTRODUCCIÓN\n",
        "En este Notebook trataremos dos ejercicios como modo de afianzar los conceptos sobre árboles decisión y modelos de ensamble de árboles de decisión.\n",
        "\n",
        "\n",
        "*   EJERCICIO PRECIO COCHES\n",
        "*   EJERCICIO PRECIO CASAS\n",
        "\n",
        "\n",
        "\n",
        "Notebook por [Javier Blanco Cordero](https://www.linkedin.com/in/javier-blanco-cordero-71373656/).\n",
        "\n",
        "### Enlaces de interés\n",
        "*   [Slides de presentación](https://docs.google.com/presentation/d/1F68d62Vskya9lSi8nwJfQxRqMqdVk3_I0c61jgtSWWg/edit?usp=sharing)\n",
        "*   [Enlace a este notebook](https://colab.research.google.com/github/JotaBlanco/TheValley/blob/main/Advanced_ML_AI/Clase_01_Modelos_Avanzados_%C3%81rboles/01A_%7C_Ejercicio_Coches_y_Casas.ipynb)\n"
      ]
    },
    {
      "cell_type": "markdown",
      "metadata": {
        "id": "cnHRaho3rsXS"
      },
      "source": [
        "## 0101 Import\n",
        "Puedes importar aquí las librerías que creas que vas a necesitar."
      ]
    },
    {
      "cell_type": "code",
      "metadata": {
        "id": "4be6xiUqjPHI"
      },
      "source": [
        "import pandas as pd\n",
        "import numpy as np\n",
        "import matplotlib.pyplot as plt\n",
        "import seaborn as sns\n",
        "import graphviz\n",
        "\n",
        "from sklearn.model_selection import train_test_split\n",
        "from sklearn.metrics import mean_squared_error\n",
        "from sklearn import tree\n",
        "from sklearn import ensemble"
      ],
      "execution_count": 2,
      "outputs": []
    },
    {
      "cell_type": "markdown",
      "metadata": {
        "id": "AblkT14d4Gvt"
      },
      "source": [
        "## 0102 Carga el dataset del precio de coches\n",
        "Aquí teneis el url del archivo raw del dataset sobre el precio de diversos coches de segunda mano. \n",
        "\n",
        "https://raw.githubusercontent.com/JotaBlanco/TheValley/main/Data/coches_usados_esp.csv \n",
        "\n",
        "Importa los datos en un dataframe llamado **dataframe df_coches**."
      ]
    },
    {
      "cell_type": "code",
      "metadata": {
        "id": "GMZACcIXOclu",
        "colab": {
          "base_uri": "https://localhost:8080/",
          "height": 306
        },
        "outputId": "9e5b3095-f512-405e-a224-e2df7ebab719"
      },
      "source": [
        "# Url archivo raw\n",
        "url = 'https://raw.githubusercontent.com/JotaBlanco/TheValley/main/Data/coches_usados_esp.csv'\n",
        "\n",
        "# Importa csv\n",
        "df_coches = pd.read_csv(url, sep=';')\n",
        "\n",
        "# Visualización primeras filas\n",
        "df_coches.head()"
      ],
      "execution_count": 3,
      "outputs": [
        {
          "output_type": "execute_result",
          "data": {
            "text/html": [
              "<div>\n",
              "<style scoped>\n",
              "    .dataframe tbody tr th:only-of-type {\n",
              "        vertical-align: middle;\n",
              "    }\n",
              "\n",
              "    .dataframe tbody tr th {\n",
              "        vertical-align: top;\n",
              "    }\n",
              "\n",
              "    .dataframe thead th {\n",
              "        text-align: right;\n",
              "    }\n",
              "</style>\n",
              "<table border=\"1\" class=\"dataframe\">\n",
              "  <thead>\n",
              "    <tr style=\"text-align: right;\">\n",
              "      <th></th>\n",
              "      <th>ID</th>\n",
              "      <th>make</th>\n",
              "      <th>model</th>\n",
              "      <th>version</th>\n",
              "      <th>months_old</th>\n",
              "      <th>power</th>\n",
              "      <th>sale_type</th>\n",
              "      <th>num_owners</th>\n",
              "      <th>gear_type</th>\n",
              "      <th>fuel_type</th>\n",
              "      <th>kms</th>\n",
              "      <th>price</th>\n",
              "    </tr>\n",
              "  </thead>\n",
              "  <tbody>\n",
              "    <tr>\n",
              "      <th>0</th>\n",
              "      <td>97860</td>\n",
              "      <td>Porsche</td>\n",
              "      <td>911</td>\n",
              "      <td>Carrera 4 S Coup�</td>\n",
              "      <td>240.0</td>\n",
              "      <td>210.0</td>\n",
              "      <td>classic</td>\n",
              "      <td>3.0</td>\n",
              "      <td>manual</td>\n",
              "      <td>gasoline</td>\n",
              "      <td>202000.0</td>\n",
              "      <td>999999</td>\n",
              "    </tr>\n",
              "    <tr>\n",
              "      <th>1</th>\n",
              "      <td>27821</td>\n",
              "      <td>Ford</td>\n",
              "      <td>Mustang</td>\n",
              "      <td>Gt500 Cabrio Vendido</td>\n",
              "      <td>54.0</td>\n",
              "      <td>487.0</td>\n",
              "      <td>used</td>\n",
              "      <td>1.0</td>\n",
              "      <td>manual</td>\n",
              "      <td>gasoline</td>\n",
              "      <td>30000.0</td>\n",
              "      <td>685000</td>\n",
              "    </tr>\n",
              "    <tr>\n",
              "      <th>2</th>\n",
              "      <td>97801</td>\n",
              "      <td>Porsche</td>\n",
              "      <td>911</td>\n",
              "      <td>3.3 Turbo Targa (Precio A Consultar)</td>\n",
              "      <td>358.0</td>\n",
              "      <td>220.0</td>\n",
              "      <td>used</td>\n",
              "      <td>NaN</td>\n",
              "      <td>manual</td>\n",
              "      <td>gasoline</td>\n",
              "      <td>56300.0</td>\n",
              "      <td>555555</td>\n",
              "    </tr>\n",
              "    <tr>\n",
              "      <th>3</th>\n",
              "      <td>98251</td>\n",
              "      <td>Porsche</td>\n",
              "      <td>911</td>\n",
              "      <td>R Unidad 343 De 991-Iva Deducible</td>\n",
              "      <td>14.0</td>\n",
              "      <td>368.0</td>\n",
              "      <td>used</td>\n",
              "      <td>1.0</td>\n",
              "      <td>manual</td>\n",
              "      <td>gasoline</td>\n",
              "      <td>2800.0</td>\n",
              "      <td>470000</td>\n",
              "    </tr>\n",
              "    <tr>\n",
              "      <th>4</th>\n",
              "      <td>98250</td>\n",
              "      <td>Porsche</td>\n",
              "      <td>911</td>\n",
              "      <td>Gt2 Rs</td>\n",
              "      <td>3.0</td>\n",
              "      <td>515.0</td>\n",
              "      <td>used</td>\n",
              "      <td>NaN</td>\n",
              "      <td>NaN</td>\n",
              "      <td>gasoline</td>\n",
              "      <td>10.0</td>\n",
              "      <td>450000</td>\n",
              "    </tr>\n",
              "  </tbody>\n",
              "</table>\n",
              "</div>"
            ],
            "text/plain": [
              "      ID     make    model  ... fuel_type       kms   price\n",
              "0  97860  Porsche      911  ...  gasoline  202000.0  999999\n",
              "1  27821     Ford  Mustang  ...  gasoline   30000.0  685000\n",
              "2  97801  Porsche      911  ...  gasoline   56300.0  555555\n",
              "3  98251  Porsche      911  ...  gasoline    2800.0  470000\n",
              "4  98250  Porsche      911  ...  gasoline      10.0  450000\n",
              "\n",
              "[5 rows x 12 columns]"
            ]
          },
          "metadata": {
            "tags": []
          },
          "execution_count": 3
        }
      ]
    },
    {
      "cell_type": "markdown",
      "metadata": {
        "id": "IptSm8tn3Lmg"
      },
      "source": [
        "## 0103 Carga el dataset del precio de casas\n",
        "Aquí teneis el url del archivo raw del dataset sobre el precio de diversas venta de casas en el condado de King County en USA. \n",
        "\n",
        "https://raw.githubusercontent.com/JotaBlanco/TheValley/main/Data/casas_train.csv\n",
        "\n",
        "Importa los datos en un dataframe llamado **dataframe df_casas**."
      ]
    },
    {
      "cell_type": "code",
      "metadata": {
        "colab": {
          "base_uri": "https://localhost:8080/",
          "height": 224
        },
        "id": "FRmxZfWr5-qY",
        "outputId": "fc5c59ac-4df2-42de-8bcd-bccf57dd34e9"
      },
      "source": [
        "# Url archivo raw\n",
        "url = 'https://raw.githubusercontent.com/JotaBlanco/TheValley/main/Data/casas_train.csv'\n",
        "\n",
        "# Importa csv\n",
        "df_casas = pd.read_csv(url, sep=',')\n",
        "\n",
        "# Visualización primeras filas\n",
        "df_casas.head()"
      ],
      "execution_count": 4,
      "outputs": [
        {
          "output_type": "execute_result",
          "data": {
            "text/html": [
              "<div>\n",
              "<style scoped>\n",
              "    .dataframe tbody tr th:only-of-type {\n",
              "        vertical-align: middle;\n",
              "    }\n",
              "\n",
              "    .dataframe tbody tr th {\n",
              "        vertical-align: top;\n",
              "    }\n",
              "\n",
              "    .dataframe thead th {\n",
              "        text-align: right;\n",
              "    }\n",
              "</style>\n",
              "<table border=\"1\" class=\"dataframe\">\n",
              "  <thead>\n",
              "    <tr style=\"text-align: right;\">\n",
              "      <th></th>\n",
              "      <th>id</th>\n",
              "      <th>date</th>\n",
              "      <th>price</th>\n",
              "      <th>bedrooms</th>\n",
              "      <th>bathrooms</th>\n",
              "      <th>sqft_living</th>\n",
              "      <th>sqft_lot</th>\n",
              "      <th>floors</th>\n",
              "      <th>waterfront</th>\n",
              "      <th>view</th>\n",
              "      <th>condition</th>\n",
              "      <th>grade</th>\n",
              "      <th>sqft_above</th>\n",
              "      <th>sqft_basement</th>\n",
              "      <th>yr_built</th>\n",
              "      <th>yr_renovated</th>\n",
              "      <th>zipcode</th>\n",
              "      <th>lat</th>\n",
              "      <th>long</th>\n",
              "      <th>sqft_living15</th>\n",
              "      <th>sqft_lot15</th>\n",
              "    </tr>\n",
              "  </thead>\n",
              "  <tbody>\n",
              "    <tr>\n",
              "      <th>0</th>\n",
              "      <td>7129300520</td>\n",
              "      <td>20141013T000000</td>\n",
              "      <td>221900.0</td>\n",
              "      <td>3</td>\n",
              "      <td>1.00</td>\n",
              "      <td>1180</td>\n",
              "      <td>5650</td>\n",
              "      <td>1.0</td>\n",
              "      <td>0</td>\n",
              "      <td>0</td>\n",
              "      <td>3</td>\n",
              "      <td>7</td>\n",
              "      <td>1180</td>\n",
              "      <td>0</td>\n",
              "      <td>1955</td>\n",
              "      <td>0</td>\n",
              "      <td>98178</td>\n",
              "      <td>47.5112</td>\n",
              "      <td>-122.257</td>\n",
              "      <td>1340</td>\n",
              "      <td>5650</td>\n",
              "    </tr>\n",
              "    <tr>\n",
              "      <th>1</th>\n",
              "      <td>6414100192</td>\n",
              "      <td>20141209T000000</td>\n",
              "      <td>538000.0</td>\n",
              "      <td>3</td>\n",
              "      <td>2.25</td>\n",
              "      <td>2570</td>\n",
              "      <td>7242</td>\n",
              "      <td>2.0</td>\n",
              "      <td>0</td>\n",
              "      <td>0</td>\n",
              "      <td>3</td>\n",
              "      <td>7</td>\n",
              "      <td>2170</td>\n",
              "      <td>400</td>\n",
              "      <td>1951</td>\n",
              "      <td>1991</td>\n",
              "      <td>98125</td>\n",
              "      <td>47.7210</td>\n",
              "      <td>-122.319</td>\n",
              "      <td>1690</td>\n",
              "      <td>7639</td>\n",
              "    </tr>\n",
              "    <tr>\n",
              "      <th>2</th>\n",
              "      <td>2487200875</td>\n",
              "      <td>20141209T000000</td>\n",
              "      <td>604000.0</td>\n",
              "      <td>4</td>\n",
              "      <td>3.00</td>\n",
              "      <td>1960</td>\n",
              "      <td>5000</td>\n",
              "      <td>1.0</td>\n",
              "      <td>0</td>\n",
              "      <td>0</td>\n",
              "      <td>5</td>\n",
              "      <td>7</td>\n",
              "      <td>1050</td>\n",
              "      <td>910</td>\n",
              "      <td>1965</td>\n",
              "      <td>0</td>\n",
              "      <td>98136</td>\n",
              "      <td>47.5208</td>\n",
              "      <td>-122.393</td>\n",
              "      <td>1360</td>\n",
              "      <td>5000</td>\n",
              "    </tr>\n",
              "    <tr>\n",
              "      <th>3</th>\n",
              "      <td>7237550310</td>\n",
              "      <td>20140512T000000</td>\n",
              "      <td>1225000.0</td>\n",
              "      <td>4</td>\n",
              "      <td>4.50</td>\n",
              "      <td>5420</td>\n",
              "      <td>101930</td>\n",
              "      <td>1.0</td>\n",
              "      <td>0</td>\n",
              "      <td>0</td>\n",
              "      <td>3</td>\n",
              "      <td>11</td>\n",
              "      <td>3890</td>\n",
              "      <td>1530</td>\n",
              "      <td>2001</td>\n",
              "      <td>0</td>\n",
              "      <td>98053</td>\n",
              "      <td>47.6561</td>\n",
              "      <td>-122.005</td>\n",
              "      <td>4760</td>\n",
              "      <td>101930</td>\n",
              "    </tr>\n",
              "    <tr>\n",
              "      <th>4</th>\n",
              "      <td>1321400060</td>\n",
              "      <td>20140627T000000</td>\n",
              "      <td>257500.0</td>\n",
              "      <td>3</td>\n",
              "      <td>2.25</td>\n",
              "      <td>1715</td>\n",
              "      <td>6819</td>\n",
              "      <td>2.0</td>\n",
              "      <td>0</td>\n",
              "      <td>0</td>\n",
              "      <td>3</td>\n",
              "      <td>7</td>\n",
              "      <td>1715</td>\n",
              "      <td>0</td>\n",
              "      <td>1995</td>\n",
              "      <td>0</td>\n",
              "      <td>98003</td>\n",
              "      <td>47.3097</td>\n",
              "      <td>-122.327</td>\n",
              "      <td>2238</td>\n",
              "      <td>6819</td>\n",
              "    </tr>\n",
              "  </tbody>\n",
              "</table>\n",
              "</div>"
            ],
            "text/plain": [
              "           id             date      price  ...     long  sqft_living15  sqft_lot15\n",
              "0  7129300520  20141013T000000   221900.0  ... -122.257           1340        5650\n",
              "1  6414100192  20141209T000000   538000.0  ... -122.319           1690        7639\n",
              "2  2487200875  20141209T000000   604000.0  ... -122.393           1360        5000\n",
              "3  7237550310  20140512T000000  1225000.0  ... -122.005           4760      101930\n",
              "4  1321400060  20140627T000000   257500.0  ... -122.327           2238        6819\n",
              "\n",
              "[5 rows x 21 columns]"
            ]
          },
          "metadata": {
            "tags": []
          },
          "execution_count": 4
        }
      ]
    },
    {
      "cell_type": "markdown",
      "metadata": {
        "id": "KBOQJ0AjdYrM"
      },
      "source": [
        "# 02 EDA\n",
        "Para familiarizarte con los datos puedes realizar un pequeño análisis exploratorio visual. Puedes usar los métodos .shape, .info(), .describe(), por ejemplo para entender su tamaño y sus variables. \n",
        "\n",
        "Recuerda que puedes encontrar mis clases sobre análisis exploratorio [aquí](https://github.com/JotaBlanco/TheValley/tree/main/EDA/)."
      ]
    },
    {
      "cell_type": "markdown",
      "metadata": {
        "id": "787vUOHx6ROV"
      },
      "source": [
        "## 0201 EDA COCHES"
      ]
    },
    {
      "cell_type": "code",
      "metadata": {
        "id": "qGrwhGyaj0-a",
        "colab": {
          "base_uri": "https://localhost:8080/"
        },
        "outputId": "6a754bea-020a-4aca-c4aa-dbf05ddf7832"
      },
      "source": [
        "df_coches.info()"
      ],
      "execution_count": 5,
      "outputs": [
        {
          "output_type": "stream",
          "text": [
            "<class 'pandas.core.frame.DataFrame'>\n",
            "RangeIndex: 93991 entries, 0 to 93990\n",
            "Data columns (total 12 columns):\n",
            " #   Column      Non-Null Count  Dtype  \n",
            "---  ------      --------------  -----  \n",
            " 0   ID          93991 non-null  int64  \n",
            " 1   make        93991 non-null  object \n",
            " 2   model       93991 non-null  object \n",
            " 3   version     93991 non-null  object \n",
            " 4   months_old  93717 non-null  float64\n",
            " 5   power       93504 non-null  float64\n",
            " 6   sale_type   93979 non-null  object \n",
            " 7   num_owners  22660 non-null  float64\n",
            " 8   gear_type   92710 non-null  object \n",
            " 9   fuel_type   93926 non-null  object \n",
            " 10  kms         93127 non-null  float64\n",
            " 11  price       93991 non-null  int64  \n",
            "dtypes: float64(4), int64(2), object(6)\n",
            "memory usage: 8.6+ MB\n"
          ],
          "name": "stdout"
        }
      ]
    },
    {
      "cell_type": "code",
      "metadata": {
        "id": "8LoZpl8rjWEX",
        "colab": {
          "base_uri": "https://localhost:8080/",
          "height": 297
        },
        "outputId": "4973eb68-92c0-43f6-83d2-467e9fb79273"
      },
      "source": [
        "df_coches.describe()"
      ],
      "execution_count": 6,
      "outputs": [
        {
          "output_type": "execute_result",
          "data": {
            "text/html": [
              "<div>\n",
              "<style scoped>\n",
              "    .dataframe tbody tr th:only-of-type {\n",
              "        vertical-align: middle;\n",
              "    }\n",
              "\n",
              "    .dataframe tbody tr th {\n",
              "        vertical-align: top;\n",
              "    }\n",
              "\n",
              "    .dataframe thead th {\n",
              "        text-align: right;\n",
              "    }\n",
              "</style>\n",
              "<table border=\"1\" class=\"dataframe\">\n",
              "  <thead>\n",
              "    <tr style=\"text-align: right;\">\n",
              "      <th></th>\n",
              "      <th>ID</th>\n",
              "      <th>months_old</th>\n",
              "      <th>power</th>\n",
              "      <th>num_owners</th>\n",
              "      <th>kms</th>\n",
              "      <th>price</th>\n",
              "    </tr>\n",
              "  </thead>\n",
              "  <tbody>\n",
              "    <tr>\n",
              "      <th>count</th>\n",
              "      <td>93991.00000</td>\n",
              "      <td>93717.000000</td>\n",
              "      <td>93504.000000</td>\n",
              "      <td>22660.000000</td>\n",
              "      <td>93127.000000</td>\n",
              "      <td>93991.000000</td>\n",
              "    </tr>\n",
              "    <tr>\n",
              "      <th>mean</th>\n",
              "      <td>55100.87935</td>\n",
              "      <td>63.094775</td>\n",
              "      <td>99.729477</td>\n",
              "      <td>1.055119</td>\n",
              "      <td>82702.565250</td>\n",
              "      <td>16587.291379</td>\n",
              "    </tr>\n",
              "    <tr>\n",
              "      <th>std</th>\n",
              "      <td>33119.32602</td>\n",
              "      <td>56.837686</td>\n",
              "      <td>42.698809</td>\n",
              "      <td>0.277124</td>\n",
              "      <td>75186.697789</td>\n",
              "      <td>15563.712383</td>\n",
              "    </tr>\n",
              "    <tr>\n",
              "      <th>min</th>\n",
              "      <td>25.00000</td>\n",
              "      <td>1.000000</td>\n",
              "      <td>0.000000</td>\n",
              "      <td>1.000000</td>\n",
              "      <td>0.000000</td>\n",
              "      <td>200.000000</td>\n",
              "    </tr>\n",
              "    <tr>\n",
              "      <th>25%</th>\n",
              "      <td>25452.50000</td>\n",
              "      <td>16.000000</td>\n",
              "      <td>77.000000</td>\n",
              "      <td>1.000000</td>\n",
              "      <td>18300.000000</td>\n",
              "      <td>8500.000000</td>\n",
              "    </tr>\n",
              "    <tr>\n",
              "      <th>50%</th>\n",
              "      <td>53896.00000</td>\n",
              "      <td>46.000000</td>\n",
              "      <td>88.000000</td>\n",
              "      <td>1.000000</td>\n",
              "      <td>66000.000000</td>\n",
              "      <td>13490.000000</td>\n",
              "    </tr>\n",
              "    <tr>\n",
              "      <th>75%</th>\n",
              "      <td>83573.50000</td>\n",
              "      <td>96.000000</td>\n",
              "      <td>110.000000</td>\n",
              "      <td>1.000000</td>\n",
              "      <td>129000.000000</td>\n",
              "      <td>19999.000000</td>\n",
              "    </tr>\n",
              "    <tr>\n",
              "      <th>max</th>\n",
              "      <td>113143.00000</td>\n",
              "      <td>374.000000</td>\n",
              "      <td>809.000000</td>\n",
              "      <td>11.000000</td>\n",
              "      <td>497000.000000</td>\n",
              "      <td>999999.000000</td>\n",
              "    </tr>\n",
              "  </tbody>\n",
              "</table>\n",
              "</div>"
            ],
            "text/plain": [
              "                 ID    months_old  ...            kms          price\n",
              "count   93991.00000  93717.000000  ...   93127.000000   93991.000000\n",
              "mean    55100.87935     63.094775  ...   82702.565250   16587.291379\n",
              "std     33119.32602     56.837686  ...   75186.697789   15563.712383\n",
              "min        25.00000      1.000000  ...       0.000000     200.000000\n",
              "25%     25452.50000     16.000000  ...   18300.000000    8500.000000\n",
              "50%     53896.00000     46.000000  ...   66000.000000   13490.000000\n",
              "75%     83573.50000     96.000000  ...  129000.000000   19999.000000\n",
              "max    113143.00000    374.000000  ...  497000.000000  999999.000000\n",
              "\n",
              "[8 rows x 6 columns]"
            ]
          },
          "metadata": {
            "tags": []
          },
          "execution_count": 6
        }
      ]
    },
    {
      "cell_type": "code",
      "metadata": {
        "id": "YUz-qSwBjaEW",
        "colab": {
          "base_uri": "https://localhost:8080/",
          "height": 433
        },
        "outputId": "959bcb0a-c19e-44f7-fc4f-19f5dec06007"
      },
      "source": [
        "# Visualización coeficientes Pearson\n",
        "plt.figure(figsize=(8,7))\n",
        "sns.heatmap(np.round(df_coches.corr(),2), \n",
        "            vmin=-1, vmax=1, \n",
        "            annot=True, cmap=\"coolwarm\")\n",
        "plt.show()"
      ],
      "execution_count": 7,
      "outputs": [
        {
          "output_type": "display_data",
          "data": {
            "image/png": "[encoded data removed]",
            "text/plain": [
              "<Figure size 576x504 with 2 Axes>"
            ]
          },
          "metadata": {
            "tags": [],
            "needs_background": "light"
          }
        }
      ]
    },
    {
      "cell_type": "markdown",
      "metadata": {
        "id": "5RSCxX_v7LrX"
      },
      "source": [
        "## 0202 EDA CASAS\n",
        "[Aquí](https://www.kaggle.com/harlfoxem/housesalesprediction/discussion/207885) más información sobre qué significa cada variable."
      ]
    },
    {
      "cell_type": "code",
      "metadata": {
        "colab": {
          "base_uri": "https://localhost:8080/"
        },
        "id": "IOk2azY_7ZPF",
        "outputId": "e1788d40-ced8-4eb0-d994-23d06287e47c"
      },
      "source": [
        "df_casas.info()"
      ],
      "execution_count": 8,
      "outputs": [
        {
          "output_type": "stream",
          "text": [
            "<class 'pandas.core.frame.DataFrame'>\n",
            "RangeIndex: 14633 entries, 0 to 14632\n",
            "Data columns (total 21 columns):\n",
            " #   Column         Non-Null Count  Dtype  \n",
            "---  ------         --------------  -----  \n",
            " 0   id             14633 non-null  int64  \n",
            " 1   date           14633 non-null  object \n",
            " 2   price          14633 non-null  float64\n",
            " 3   bedrooms       14633 non-null  int64  \n",
            " 4   bathrooms      14633 non-null  float64\n",
            " 5   sqft_living    14633 non-null  int64  \n",
            " 6   sqft_lot       14633 non-null  int64  \n",
            " 7   floors         14633 non-null  float64\n",
            " 8   waterfront     14633 non-null  int64  \n",
            " 9   view           14633 non-null  int64  \n",
            " 10  condition      14633 non-null  int64  \n",
            " 11  grade          14633 non-null  int64  \n",
            " 12  sqft_above     14633 non-null  int64  \n",
            " 13  sqft_basement  14633 non-null  int64  \n",
            " 14  yr_built       14633 non-null  int64  \n",
            " 15  yr_renovated   14633 non-null  int64  \n",
            " 16  zipcode        14633 non-null  int64  \n",
            " 17  lat            14633 non-null  float64\n",
            " 18  long           14633 non-null  float64\n",
            " 19  sqft_living15  14633 non-null  int64  \n",
            " 20  sqft_lot15     14633 non-null  int64  \n",
            "dtypes: float64(5), int64(15), object(1)\n",
            "memory usage: 2.3+ MB\n"
          ],
          "name": "stdout"
        }
      ]
    },
    {
      "cell_type": "code",
      "metadata": {
        "colab": {
          "base_uri": "https://localhost:8080/",
          "height": 317
        },
        "id": "Fetfx7wa7ZS6",
        "outputId": "8455b9b0-eeae-4abf-d324-3390d23e72d2"
      },
      "source": [
        "df_casas.describe()"
      ],
      "execution_count": 9,
      "outputs": [
        {
          "output_type": "execute_result",
          "data": {
            "text/html": [
              "<div>\n",
              "<style scoped>\n",
              "    .dataframe tbody tr th:only-of-type {\n",
              "        vertical-align: middle;\n",
              "    }\n",
              "\n",
              "    .dataframe tbody tr th {\n",
              "        vertical-align: top;\n",
              "    }\n",
              "\n",
              "    .dataframe thead th {\n",
              "        text-align: right;\n",
              "    }\n",
              "</style>\n",
              "<table border=\"1\" class=\"dataframe\">\n",
              "  <thead>\n",
              "    <tr style=\"text-align: right;\">\n",
              "      <th></th>\n",
              "      <th>id</th>\n",
              "      <th>price</th>\n",
              "      <th>bedrooms</th>\n",
              "      <th>bathrooms</th>\n",
              "      <th>sqft_living</th>\n",
              "      <th>sqft_lot</th>\n",
              "      <th>floors</th>\n",
              "      <th>waterfront</th>\n",
              "      <th>view</th>\n",
              "      <th>condition</th>\n",
              "      <th>grade</th>\n",
              "      <th>sqft_above</th>\n",
              "      <th>sqft_basement</th>\n",
              "      <th>yr_built</th>\n",
              "      <th>yr_renovated</th>\n",
              "      <th>zipcode</th>\n",
              "      <th>lat</th>\n",
              "      <th>long</th>\n",
              "      <th>sqft_living15</th>\n",
              "      <th>sqft_lot15</th>\n",
              "    </tr>\n",
              "  </thead>\n",
              "  <tbody>\n",
              "    <tr>\n",
              "      <th>count</th>\n",
              "      <td>1.463300e+04</td>\n",
              "      <td>1.463300e+04</td>\n",
              "      <td>14633.000000</td>\n",
              "      <td>14633.000000</td>\n",
              "      <td>14633.000000</td>\n",
              "      <td>1.463300e+04</td>\n",
              "      <td>14633.000000</td>\n",
              "      <td>14633.000000</td>\n",
              "      <td>14633.000000</td>\n",
              "      <td>14633.000000</td>\n",
              "      <td>14633.000000</td>\n",
              "      <td>14633.000000</td>\n",
              "      <td>14633.000000</td>\n",
              "      <td>14633.000000</td>\n",
              "      <td>14633.000000</td>\n",
              "      <td>14633.000000</td>\n",
              "      <td>14633.000000</td>\n",
              "      <td>14633.000000</td>\n",
              "      <td>14633.000000</td>\n",
              "      <td>14633.000000</td>\n",
              "    </tr>\n",
              "    <tr>\n",
              "      <th>mean</th>\n",
              "      <td>4.560180e+09</td>\n",
              "      <td>5.391814e+05</td>\n",
              "      <td>3.377161</td>\n",
              "      <td>2.128904</td>\n",
              "      <td>2098.319073</td>\n",
              "      <td>1.495053e+04</td>\n",
              "      <td>1.502631</td>\n",
              "      <td>0.007791</td>\n",
              "      <td>0.233582</td>\n",
              "      <td>3.429919</td>\n",
              "      <td>7.681542</td>\n",
              "      <td>1802.015240</td>\n",
              "      <td>296.303834</td>\n",
              "      <td>1970.933985</td>\n",
              "      <td>90.978883</td>\n",
              "      <td>98077.895852</td>\n",
              "      <td>47.562848</td>\n",
              "      <td>-122.213923</td>\n",
              "      <td>1996.840498</td>\n",
              "      <td>12770.057473</td>\n",
              "    </tr>\n",
              "    <tr>\n",
              "      <th>std</th>\n",
              "      <td>2.873192e+09</td>\n",
              "      <td>3.691627e+05</td>\n",
              "      <td>0.942636</td>\n",
              "      <td>0.771628</td>\n",
              "      <td>929.621019</td>\n",
              "      <td>3.752184e+04</td>\n",
              "      <td>0.540567</td>\n",
              "      <td>0.087923</td>\n",
              "      <td>0.767346</td>\n",
              "      <td>0.664473</td>\n",
              "      <td>1.178388</td>\n",
              "      <td>835.193434</td>\n",
              "      <td>448.463475</td>\n",
              "      <td>29.489005</td>\n",
              "      <td>416.334428</td>\n",
              "      <td>53.407146</td>\n",
              "      <td>0.137514</td>\n",
              "      <td>0.141430</td>\n",
              "      <td>691.376543</td>\n",
              "      <td>26107.338627</td>\n",
              "    </tr>\n",
              "    <tr>\n",
              "      <th>min</th>\n",
              "      <td>1.000102e+06</td>\n",
              "      <td>7.800000e+04</td>\n",
              "      <td>0.000000</td>\n",
              "      <td>0.000000</td>\n",
              "      <td>290.000000</td>\n",
              "      <td>5.200000e+02</td>\n",
              "      <td>1.000000</td>\n",
              "      <td>0.000000</td>\n",
              "      <td>0.000000</td>\n",
              "      <td>1.000000</td>\n",
              "      <td>1.000000</td>\n",
              "      <td>290.000000</td>\n",
              "      <td>0.000000</td>\n",
              "      <td>1900.000000</td>\n",
              "      <td>0.000000</td>\n",
              "      <td>98001.000000</td>\n",
              "      <td>47.155900</td>\n",
              "      <td>-122.519000</td>\n",
              "      <td>460.000000</td>\n",
              "      <td>651.000000</td>\n",
              "    </tr>\n",
              "    <tr>\n",
              "      <th>25%</th>\n",
              "      <td>2.115200e+09</td>\n",
              "      <td>3.200000e+05</td>\n",
              "      <td>3.000000</td>\n",
              "      <td>1.750000</td>\n",
              "      <td>1440.000000</td>\n",
              "      <td>5.040000e+03</td>\n",
              "      <td>1.000000</td>\n",
              "      <td>0.000000</td>\n",
              "      <td>0.000000</td>\n",
              "      <td>3.000000</td>\n",
              "      <td>7.000000</td>\n",
              "      <td>1200.000000</td>\n",
              "      <td>0.000000</td>\n",
              "      <td>1951.000000</td>\n",
              "      <td>0.000000</td>\n",
              "      <td>98033.000000</td>\n",
              "      <td>47.477600</td>\n",
              "      <td>-122.328000</td>\n",
              "      <td>1490.000000</td>\n",
              "      <td>5099.000000</td>\n",
              "    </tr>\n",
              "    <tr>\n",
              "      <th>50%</th>\n",
              "      <td>3.902100e+09</td>\n",
              "      <td>4.500000e+05</td>\n",
              "      <td>3.000000</td>\n",
              "      <td>2.250000</td>\n",
              "      <td>1930.000000</td>\n",
              "      <td>7.634000e+03</td>\n",
              "      <td>1.500000</td>\n",
              "      <td>0.000000</td>\n",
              "      <td>0.000000</td>\n",
              "      <td>3.000000</td>\n",
              "      <td>7.000000</td>\n",
              "      <td>1580.000000</td>\n",
              "      <td>0.000000</td>\n",
              "      <td>1975.000000</td>\n",
              "      <td>0.000000</td>\n",
              "      <td>98065.000000</td>\n",
              "      <td>47.576400</td>\n",
              "      <td>-122.231000</td>\n",
              "      <td>1850.000000</td>\n",
              "      <td>7620.000000</td>\n",
              "    </tr>\n",
              "    <tr>\n",
              "      <th>75%</th>\n",
              "      <td>7.298900e+09</td>\n",
              "      <td>6.450000e+05</td>\n",
              "      <td>4.000000</td>\n",
              "      <td>2.500000</td>\n",
              "      <td>2570.000000</td>\n",
              "      <td>1.080000e+04</td>\n",
              "      <td>2.000000</td>\n",
              "      <td>0.000000</td>\n",
              "      <td>0.000000</td>\n",
              "      <td>4.000000</td>\n",
              "      <td>8.000000</td>\n",
              "      <td>2240.000000</td>\n",
              "      <td>580.000000</td>\n",
              "      <td>1997.000000</td>\n",
              "      <td>0.000000</td>\n",
              "      <td>98117.000000</td>\n",
              "      <td>47.678900</td>\n",
              "      <td>-122.125000</td>\n",
              "      <td>2380.000000</td>\n",
              "      <td>10125.000000</td>\n",
              "    </tr>\n",
              "    <tr>\n",
              "      <th>max</th>\n",
              "      <td>9.900000e+09</td>\n",
              "      <td>7.700000e+06</td>\n",
              "      <td>33.000000</td>\n",
              "      <td>8.000000</td>\n",
              "      <td>13540.000000</td>\n",
              "      <td>1.074218e+06</td>\n",
              "      <td>3.500000</td>\n",
              "      <td>1.000000</td>\n",
              "      <td>4.000000</td>\n",
              "      <td>5.000000</td>\n",
              "      <td>13.000000</td>\n",
              "      <td>9410.000000</td>\n",
              "      <td>4820.000000</td>\n",
              "      <td>2015.000000</td>\n",
              "      <td>2015.000000</td>\n",
              "      <td>98199.000000</td>\n",
              "      <td>47.777600</td>\n",
              "      <td>-121.315000</td>\n",
              "      <td>6110.000000</td>\n",
              "      <td>560617.000000</td>\n",
              "    </tr>\n",
              "  </tbody>\n",
              "</table>\n",
              "</div>"
            ],
            "text/plain": [
              "                 id         price  ...  sqft_living15     sqft_lot15\n",
              "count  1.463300e+04  1.463300e+04  ...   14633.000000   14633.000000\n",
              "mean   4.560180e+09  5.391814e+05  ...    1996.840498   12770.057473\n",
              "std    2.873192e+09  3.691627e+05  ...     691.376543   26107.338627\n",
              "min    1.000102e+06  7.800000e+04  ...     460.000000     651.000000\n",
              "25%    2.115200e+09  3.200000e+05  ...    1490.000000    5099.000000\n",
              "50%    3.902100e+09  4.500000e+05  ...    1850.000000    7620.000000\n",
              "75%    7.298900e+09  6.450000e+05  ...    2380.000000   10125.000000\n",
              "max    9.900000e+09  7.700000e+06  ...    6110.000000  560617.000000\n",
              "\n",
              "[8 rows x 20 columns]"
            ]
          },
          "metadata": {
            "tags": []
          },
          "execution_count": 9
        }
      ]
    },
    {
      "cell_type": "code",
      "metadata": {
        "colab": {
          "base_uri": "https://localhost:8080/",
          "height": 768
        },
        "id": "PI98V6Je7ZWg",
        "outputId": "333e45d7-4c46-4704-ff8f-0fab9155de70"
      },
      "source": [
        "# Visualización coeficientes Pearson\n",
        "plt.figure(figsize=(12,12))\n",
        "sns.heatmap(np.round(df_casas.corr(),2), \n",
        "            vmin=-1, vmax=1, \n",
        "            annot=True, cmap=\"coolwarm\")\n",
        "plt.show()"
      ],
      "execution_count": 10,
      "outputs": [
        {
          "output_type": "display_data",
          "data": {
            "image/png": "[encoded data removed]",
            "text/plain": [
              "<Figure size 864x864 with 2 Axes>"
            ]
          },
          "metadata": {
            "tags": [],
            "needs_background": "light"
          }
        }
      ]
    },
    {
      "cell_type": "markdown",
      "metadata": {
        "id": "8OJS0b4R5ZNh"
      },
      "source": [
        "# 03 Preparación de los datos\n",
        "Normalmente el dataframe contiene nulos, así como variables categóricas y presencia de ciertas variables que probablemente no queramos usar. \n",
        "\n",
        "Necesitamos limpiarlo antes de poder entrenar los modelos."
      ]
    },
    {
      "cell_type": "markdown",
      "metadata": {
        "id": "LnKz7huB8jIt"
      },
      "source": [
        "## 0301 DATASET COCHES: Preparación de los datos"
      ]
    },
    {
      "cell_type": "markdown",
      "metadata": {
        "id": "8wguISKl5q_h"
      },
      "source": [
        "### 030101 Variables Útiles\n",
        "De entre las variables disponibles, quedémonos con la que queramos utilizar como predictoras para el estudio."
      ]
    },
    {
      "cell_type": "code",
      "metadata": {
        "id": "gqcX-sFQ5krb",
        "colab": {
          "base_uri": "https://localhost:8080/",
          "height": 306
        },
        "outputId": "32c9a784-53fc-438d-cdf3-fc4c6056bcf0"
      },
      "source": [
        "df_coches.head()"
      ],
      "execution_count": 11,
      "outputs": [
        {
          "output_type": "execute_result",
          "data": {
            "text/html": [
              "<div>\n",
              "<style scoped>\n",
              "    .dataframe tbody tr th:only-of-type {\n",
              "        vertical-align: middle;\n",
              "    }\n",
              "\n",
              "    .dataframe tbody tr th {\n",
              "        vertical-align: top;\n",
              "    }\n",
              "\n",
              "    .dataframe thead th {\n",
              "        text-align: right;\n",
              "    }\n",
              "</style>\n",
              "<table border=\"1\" class=\"dataframe\">\n",
              "  <thead>\n",
              "    <tr style=\"text-align: right;\">\n",
              "      <th></th>\n",
              "      <th>ID</th>\n",
              "      <th>make</th>\n",
              "      <th>model</th>\n",
              "      <th>version</th>\n",
              "      <th>months_old</th>\n",
              "      <th>power</th>\n",
              "      <th>sale_type</th>\n",
              "      <th>num_owners</th>\n",
              "      <th>gear_type</th>\n",
              "      <th>fuel_type</th>\n",
              "      <th>kms</th>\n",
              "      <th>price</th>\n",
              "    </tr>\n",
              "  </thead>\n",
              "  <tbody>\n",
              "    <tr>\n",
              "      <th>0</th>\n",
              "      <td>97860</td>\n",
              "      <td>Porsche</td>\n",
              "      <td>911</td>\n",
              "      <td>Carrera 4 S Coup�</td>\n",
              "      <td>240.0</td>\n",
              "      <td>210.0</td>\n",
              "      <td>classic</td>\n",
              "      <td>3.0</td>\n",
              "      <td>manual</td>\n",
              "      <td>gasoline</td>\n",
              "      <td>202000.0</td>\n",
              "      <td>999999</td>\n",
              "    </tr>\n",
              "    <tr>\n",
              "      <th>1</th>\n",
              "      <td>27821</td>\n",
              "      <td>Ford</td>\n",
              "      <td>Mustang</td>\n",
              "      <td>Gt500 Cabrio Vendido</td>\n",
              "      <td>54.0</td>\n",
              "      <td>487.0</td>\n",
              "      <td>used</td>\n",
              "      <td>1.0</td>\n",
              "      <td>manual</td>\n",
              "      <td>gasoline</td>\n",
              "      <td>30000.0</td>\n",
              "      <td>685000</td>\n",
              "    </tr>\n",
              "    <tr>\n",
              "      <th>2</th>\n",
              "      <td>97801</td>\n",
              "      <td>Porsche</td>\n",
              "      <td>911</td>\n",
              "      <td>3.3 Turbo Targa (Precio A Consultar)</td>\n",
              "      <td>358.0</td>\n",
              "      <td>220.0</td>\n",
              "      <td>used</td>\n",
              "      <td>NaN</td>\n",
              "      <td>manual</td>\n",
              "      <td>gasoline</td>\n",
              "      <td>56300.0</td>\n",
              "      <td>555555</td>\n",
              "    </tr>\n",
              "    <tr>\n",
              "      <th>3</th>\n",
              "      <td>98251</td>\n",
              "      <td>Porsche</td>\n",
              "      <td>911</td>\n",
              "      <td>R Unidad 343 De 991-Iva Deducible</td>\n",
              "      <td>14.0</td>\n",
              "      <td>368.0</td>\n",
              "      <td>used</td>\n",
              "      <td>1.0</td>\n",
              "      <td>manual</td>\n",
              "      <td>gasoline</td>\n",
              "      <td>2800.0</td>\n",
              "      <td>470000</td>\n",
              "    </tr>\n",
              "    <tr>\n",
              "      <th>4</th>\n",
              "      <td>98250</td>\n",
              "      <td>Porsche</td>\n",
              "      <td>911</td>\n",
              "      <td>Gt2 Rs</td>\n",
              "      <td>3.0</td>\n",
              "      <td>515.0</td>\n",
              "      <td>used</td>\n",
              "      <td>NaN</td>\n",
              "      <td>NaN</td>\n",
              "      <td>gasoline</td>\n",
              "      <td>10.0</td>\n",
              "      <td>450000</td>\n",
              "    </tr>\n",
              "  </tbody>\n",
              "</table>\n",
              "</div>"
            ],
            "text/plain": [
              "      ID     make    model  ... fuel_type       kms   price\n",
              "0  97860  Porsche      911  ...  gasoline  202000.0  999999\n",
              "1  27821     Ford  Mustang  ...  gasoline   30000.0  685000\n",
              "2  97801  Porsche      911  ...  gasoline   56300.0  555555\n",
              "3  98251  Porsche      911  ...  gasoline    2800.0  470000\n",
              "4  98250  Porsche      911  ...  gasoline      10.0  450000\n",
              "\n",
              "[5 rows x 12 columns]"
            ]
          },
          "metadata": {
            "tags": []
          },
          "execution_count": 11
        }
      ]
    },
    {
      "cell_type": "code",
      "metadata": {
        "id": "Xp0mlSG6D-AZ",
        "colab": {
          "base_uri": "https://localhost:8080/"
        },
        "outputId": "9c75203c-1800-4388-ea0e-d7eb37bda2ec"
      },
      "source": [
        "df_coches.columns"
      ],
      "execution_count": 12,
      "outputs": [
        {
          "output_type": "execute_result",
          "data": {
            "text/plain": [
              "Index(['ID', 'make', 'model', 'version', 'months_old', 'power', 'sale_type',\n",
              "       'num_owners', 'gear_type', 'fuel_type', 'kms', 'price'],\n",
              "      dtype='object')"
            ]
          },
          "metadata": {
            "tags": []
          },
          "execution_count": 12
        }
      ]
    },
    {
      "cell_type": "code",
      "metadata": {
        "id": "AjP61licD-EH"
      },
      "source": [
        "cols = ['make', 'model', 'months_old', 'power', 'sale_type',\n",
        "       'num_owners', 'gear_type', 'fuel_type', 'kms', 'price']\n",
        "\n",
        "cat_cols = ['make', 'model', 'sale_type', 'gear_type', 'fuel_type']"
      ],
      "execution_count": 13,
      "outputs": []
    },
    {
      "cell_type": "code",
      "metadata": {
        "id": "nDGAkkloEbtO",
        "colab": {
          "base_uri": "https://localhost:8080/",
          "height": 204
        },
        "outputId": "4cd88d88-46a8-4fe1-b782-88b7a73c7e49"
      },
      "source": [
        "df_coches = df_coches[cols]\n",
        "df_coches.head()"
      ],
      "execution_count": 14,
      "outputs": [
        {
          "output_type": "execute_result",
          "data": {
            "text/html": [
              "<div>\n",
              "<style scoped>\n",
              "    .dataframe tbody tr th:only-of-type {\n",
              "        vertical-align: middle;\n",
              "    }\n",
              "\n",
              "    .dataframe tbody tr th {\n",
              "        vertical-align: top;\n",
              "    }\n",
              "\n",
              "    .dataframe thead th {\n",
              "        text-align: right;\n",
              "    }\n",
              "</style>\n",
              "<table border=\"1\" class=\"dataframe\">\n",
              "  <thead>\n",
              "    <tr style=\"text-align: right;\">\n",
              "      <th></th>\n",
              "      <th>make</th>\n",
              "      <th>model</th>\n",
              "      <th>months_old</th>\n",
              "      <th>power</th>\n",
              "      <th>sale_type</th>\n",
              "      <th>num_owners</th>\n",
              "      <th>gear_type</th>\n",
              "      <th>fuel_type</th>\n",
              "      <th>kms</th>\n",
              "      <th>price</th>\n",
              "    </tr>\n",
              "  </thead>\n",
              "  <tbody>\n",
              "    <tr>\n",
              "      <th>0</th>\n",
              "      <td>Porsche</td>\n",
              "      <td>911</td>\n",
              "      <td>240.0</td>\n",
              "      <td>210.0</td>\n",
              "      <td>classic</td>\n",
              "      <td>3.0</td>\n",
              "      <td>manual</td>\n",
              "      <td>gasoline</td>\n",
              "      <td>202000.0</td>\n",
              "      <td>999999</td>\n",
              "    </tr>\n",
              "    <tr>\n",
              "      <th>1</th>\n",
              "      <td>Ford</td>\n",
              "      <td>Mustang</td>\n",
              "      <td>54.0</td>\n",
              "      <td>487.0</td>\n",
              "      <td>used</td>\n",
              "      <td>1.0</td>\n",
              "      <td>manual</td>\n",
              "      <td>gasoline</td>\n",
              "      <td>30000.0</td>\n",
              "      <td>685000</td>\n",
              "    </tr>\n",
              "    <tr>\n",
              "      <th>2</th>\n",
              "      <td>Porsche</td>\n",
              "      <td>911</td>\n",
              "      <td>358.0</td>\n",
              "      <td>220.0</td>\n",
              "      <td>used</td>\n",
              "      <td>NaN</td>\n",
              "      <td>manual</td>\n",
              "      <td>gasoline</td>\n",
              "      <td>56300.0</td>\n",
              "      <td>555555</td>\n",
              "    </tr>\n",
              "    <tr>\n",
              "      <th>3</th>\n",
              "      <td>Porsche</td>\n",
              "      <td>911</td>\n",
              "      <td>14.0</td>\n",
              "      <td>368.0</td>\n",
              "      <td>used</td>\n",
              "      <td>1.0</td>\n",
              "      <td>manual</td>\n",
              "      <td>gasoline</td>\n",
              "      <td>2800.0</td>\n",
              "      <td>470000</td>\n",
              "    </tr>\n",
              "    <tr>\n",
              "      <th>4</th>\n",
              "      <td>Porsche</td>\n",
              "      <td>911</td>\n",
              "      <td>3.0</td>\n",
              "      <td>515.0</td>\n",
              "      <td>used</td>\n",
              "      <td>NaN</td>\n",
              "      <td>NaN</td>\n",
              "      <td>gasoline</td>\n",
              "      <td>10.0</td>\n",
              "      <td>450000</td>\n",
              "    </tr>\n",
              "  </tbody>\n",
              "</table>\n",
              "</div>"
            ],
            "text/plain": [
              "      make    model  months_old  power  ... gear_type  fuel_type       kms   price\n",
              "0  Porsche      911       240.0  210.0  ...    manual   gasoline  202000.0  999999\n",
              "1     Ford  Mustang        54.0  487.0  ...    manual   gasoline   30000.0  685000\n",
              "2  Porsche      911       358.0  220.0  ...    manual   gasoline   56300.0  555555\n",
              "3  Porsche      911        14.0  368.0  ...    manual   gasoline    2800.0  470000\n",
              "4  Porsche      911         3.0  515.0  ...       NaN   gasoline      10.0  450000\n",
              "\n",
              "[5 rows x 10 columns]"
            ]
          },
          "metadata": {
            "tags": []
          },
          "execution_count": 14
        }
      ]
    },
    {
      "cell_type": "markdown",
      "metadata": {
        "id": "fOdoBzd46La9"
      },
      "source": [
        "### 030102 Dumificación de variables categóricas\n",
        "Recuerda que debemos transformar las variables categóricas para convertirlas en numéricas."
      ]
    },
    {
      "cell_type": "code",
      "metadata": {
        "id": "ThnP11iE5kvJ",
        "colab": {
          "base_uri": "https://localhost:8080/",
          "height": 287
        },
        "outputId": "f52a3230-3521-4fa9-ec81-92f204d56d69"
      },
      "source": [
        "df_coches = pd.get_dummies(df_coches[cols], \n",
        "                           prefix_sep='_',\n",
        "                           drop_first=True, \n",
        "                           columns=cat_cols)\n",
        "\n",
        "display(len(df_coches))\n",
        "df_coches.head()"
      ],
      "execution_count": 15,
      "outputs": [
        {
          "output_type": "display_data",
          "data": {
            "text/plain": [
              "93991"
            ]
          },
          "metadata": {
            "tags": []
          }
        },
        {
          "output_type": "execute_result",
          "data": {
            "text/html": [
              "<div>\n",
              "<style scoped>\n",
              "    .dataframe tbody tr th:only-of-type {\n",
              "        vertical-align: middle;\n",
              "    }\n",
              "\n",
              "    .dataframe tbody tr th {\n",
              "        vertical-align: top;\n",
              "    }\n",
              "\n",
              "    .dataframe thead th {\n",
              "        text-align: right;\n",
              "    }\n",
              "</style>\n",
              "<table border=\"1\" class=\"dataframe\">\n",
              "  <thead>\n",
              "    <tr style=\"text-align: right;\">\n",
              "      <th></th>\n",
              "      <th>months_old</th>\n",
              "      <th>power</th>\n",
              "      <th>num_owners</th>\n",
              "      <th>kms</th>\n",
              "      <th>price</th>\n",
              "      <th>make_Audi</th>\n",
              "      <th>make_Bentley</th>\n",
              "      <th>make_Bmw</th>\n",
              "      <th>make_Chevrolet</th>\n",
              "      <th>make_Chrysler</th>\n",
              "      <th>make_Citroen</th>\n",
              "      <th>make_Dacia</th>\n",
              "      <th>make_Ds</th>\n",
              "      <th>make_Fiat</th>\n",
              "      <th>make_Ford</th>\n",
              "      <th>make_Honda</th>\n",
              "      <th>make_Hyundai</th>\n",
              "      <th>make_Iveco</th>\n",
              "      <th>make_Jaguar</th>\n",
              "      <th>make_Jeep</th>\n",
              "      <th>make_Kia</th>\n",
              "      <th>make_Land</th>\n",
              "      <th>make_Mazda</th>\n",
              "      <th>make_Mercedes-Benz</th>\n",
              "      <th>make_Mini</th>\n",
              "      <th>make_Mitsubishi</th>\n",
              "      <th>make_Nissan</th>\n",
              "      <th>make_Opel</th>\n",
              "      <th>make_Peugeot</th>\n",
              "      <th>make_Porsche</th>\n",
              "      <th>make_Renault</th>\n",
              "      <th>make_Saab</th>\n",
              "      <th>make_Seat</th>\n",
              "      <th>make_Skoda</th>\n",
              "      <th>make_Smart</th>\n",
              "      <th>make_Ssangyong</th>\n",
              "      <th>make_Suzuki</th>\n",
              "      <th>make_Toyota</th>\n",
              "      <th>make_Volkswagen</th>\n",
              "      <th>make_Volvo</th>\n",
              "      <th>...</th>\n",
              "      <th>model_V220</th>\n",
              "      <th>model_V40</th>\n",
              "      <th>model_V40Cc</th>\n",
              "      <th>model_V60</th>\n",
              "      <th>model_Vectra</th>\n",
              "      <th>model_Verso</th>\n",
              "      <th>model_Viano</th>\n",
              "      <th>model_Vito</th>\n",
              "      <th>model_Vivaro</th>\n",
              "      <th>model_Voyager</th>\n",
              "      <th>model_Wrangler</th>\n",
              "      <th>model_X-Trail</th>\n",
              "      <th>model_X1</th>\n",
              "      <th>model_X3</th>\n",
              "      <th>model_X4</th>\n",
              "      <th>model_X5</th>\n",
              "      <th>model_X6</th>\n",
              "      <th>model_Xc60</th>\n",
              "      <th>model_Xc90</th>\n",
              "      <th>model_Xe</th>\n",
              "      <th>model_Xf</th>\n",
              "      <th>model_Xsara</th>\n",
              "      <th>model_XsaraPicasso</th>\n",
              "      <th>model_Yaris</th>\n",
              "      <th>model_Z4</th>\n",
              "      <th>model_Zafira</th>\n",
              "      <th>model_ZafiraTourer</th>\n",
              "      <th>sale_type_classic</th>\n",
              "      <th>sale_type_demo</th>\n",
              "      <th>sale_type_km_0</th>\n",
              "      <th>sale_type_new</th>\n",
              "      <th>sale_type_used</th>\n",
              "      <th>gear_type_manual</th>\n",
              "      <th>gear_type_semi-automatic</th>\n",
              "      <th>fuel_type_LPG</th>\n",
              "      <th>fuel_type_diesel</th>\n",
              "      <th>fuel_type_electric</th>\n",
              "      <th>fuel_type_etanol</th>\n",
              "      <th>fuel_type_gasoline</th>\n",
              "      <th>fuel_type_hybrid</th>\n",
              "    </tr>\n",
              "  </thead>\n",
              "  <tbody>\n",
              "    <tr>\n",
              "      <th>0</th>\n",
              "      <td>240.0</td>\n",
              "      <td>210.0</td>\n",
              "      <td>3.0</td>\n",
              "      <td>202000.0</td>\n",
              "      <td>999999</td>\n",
              "      <td>0</td>\n",
              "      <td>0</td>\n",
              "      <td>0</td>\n",
              "      <td>0</td>\n",
              "      <td>0</td>\n",
              "      <td>0</td>\n",
              "      <td>0</td>\n",
              "      <td>0</td>\n",
              "      <td>0</td>\n",
              "      <td>0</td>\n",
              "      <td>0</td>\n",
              "      <td>0</td>\n",
              "      <td>0</td>\n",
              "      <td>0</td>\n",
              "      <td>0</td>\n",
              "      <td>0</td>\n",
              "      <td>0</td>\n",
              "      <td>0</td>\n",
              "      <td>0</td>\n",
              "      <td>0</td>\n",
              "      <td>0</td>\n",
              "      <td>0</td>\n",
              "      <td>0</td>\n",
              "      <td>0</td>\n",
              "      <td>1</td>\n",
              "      <td>0</td>\n",
              "      <td>0</td>\n",
              "      <td>0</td>\n",
              "      <td>0</td>\n",
              "      <td>0</td>\n",
              "      <td>0</td>\n",
              "      <td>0</td>\n",
              "      <td>0</td>\n",
              "      <td>0</td>\n",
              "      <td>0</td>\n",
              "      <td>...</td>\n",
              "      <td>0</td>\n",
              "      <td>0</td>\n",
              "      <td>0</td>\n",
              "      <td>0</td>\n",
              "      <td>0</td>\n",
              "      <td>0</td>\n",
              "      <td>0</td>\n",
              "      <td>0</td>\n",
              "      <td>0</td>\n",
              "      <td>0</td>\n",
              "      <td>0</td>\n",
              "      <td>0</td>\n",
              "      <td>0</td>\n",
              "      <td>0</td>\n",
              "      <td>0</td>\n",
              "      <td>0</td>\n",
              "      <td>0</td>\n",
              "      <td>0</td>\n",
              "      <td>0</td>\n",
              "      <td>0</td>\n",
              "      <td>0</td>\n",
              "      <td>0</td>\n",
              "      <td>0</td>\n",
              "      <td>0</td>\n",
              "      <td>0</td>\n",
              "      <td>0</td>\n",
              "      <td>0</td>\n",
              "      <td>1</td>\n",
              "      <td>0</td>\n",
              "      <td>0</td>\n",
              "      <td>0</td>\n",
              "      <td>0</td>\n",
              "      <td>1</td>\n",
              "      <td>0</td>\n",
              "      <td>0</td>\n",
              "      <td>0</td>\n",
              "      <td>0</td>\n",
              "      <td>0</td>\n",
              "      <td>1</td>\n",
              "      <td>0</td>\n",
              "    </tr>\n",
              "    <tr>\n",
              "      <th>1</th>\n",
              "      <td>54.0</td>\n",
              "      <td>487.0</td>\n",
              "      <td>1.0</td>\n",
              "      <td>30000.0</td>\n",
              "      <td>685000</td>\n",
              "      <td>0</td>\n",
              "      <td>0</td>\n",
              "      <td>0</td>\n",
              "      <td>0</td>\n",
              "      <td>0</td>\n",
              "      <td>0</td>\n",
              "      <td>0</td>\n",
              "      <td>0</td>\n",
              "      <td>0</td>\n",
              "      <td>1</td>\n",
              "      <td>0</td>\n",
              "      <td>0</td>\n",
              "      <td>0</td>\n",
              "      <td>0</td>\n",
              "      <td>0</td>\n",
              "      <td>0</td>\n",
              "      <td>0</td>\n",
              "      <td>0</td>\n",
              "      <td>0</td>\n",
              "      <td>0</td>\n",
              "      <td>0</td>\n",
              "      <td>0</td>\n",
              "      <td>0</td>\n",
              "      <td>0</td>\n",
              "      <td>0</td>\n",
              "      <td>0</td>\n",
              "      <td>0</td>\n",
              "      <td>0</td>\n",
              "      <td>0</td>\n",
              "      <td>0</td>\n",
              "      <td>0</td>\n",
              "      <td>0</td>\n",
              "      <td>0</td>\n",
              "      <td>0</td>\n",
              "      <td>0</td>\n",
              "      <td>...</td>\n",
              "      <td>0</td>\n",
              "      <td>0</td>\n",
              "      <td>0</td>\n",
              "      <td>0</td>\n",
              "      <td>0</td>\n",
              "      <td>0</td>\n",
              "      <td>0</td>\n",
              "      <td>0</td>\n",
              "      <td>0</td>\n",
              "      <td>0</td>\n",
              "      <td>0</td>\n",
              "      <td>0</td>\n",
              "      <td>0</td>\n",
              "      <td>0</td>\n",
              "      <td>0</td>\n",
              "      <td>0</td>\n",
              "      <td>0</td>\n",
              "      <td>0</td>\n",
              "      <td>0</td>\n",
              "      <td>0</td>\n",
              "      <td>0</td>\n",
              "      <td>0</td>\n",
              "      <td>0</td>\n",
              "      <td>0</td>\n",
              "      <td>0</td>\n",
              "      <td>0</td>\n",
              "      <td>0</td>\n",
              "      <td>0</td>\n",
              "      <td>0</td>\n",
              "      <td>0</td>\n",
              "      <td>0</td>\n",
              "      <td>1</td>\n",
              "      <td>1</td>\n",
              "      <td>0</td>\n",
              "      <td>0</td>\n",
              "      <td>0</td>\n",
              "      <td>0</td>\n",
              "      <td>0</td>\n",
              "      <td>1</td>\n",
              "      <td>0</td>\n",
              "    </tr>\n",
              "    <tr>\n",
              "      <th>2</th>\n",
              "      <td>358.0</td>\n",
              "      <td>220.0</td>\n",
              "      <td>NaN</td>\n",
              "      <td>56300.0</td>\n",
              "      <td>555555</td>\n",
              "      <td>0</td>\n",
              "      <td>0</td>\n",
              "      <td>0</td>\n",
              "      <td>0</td>\n",
              "      <td>0</td>\n",
              "      <td>0</td>\n",
              "      <td>0</td>\n",
              "      <td>0</td>\n",
              "      <td>0</td>\n",
              "      <td>0</td>\n",
              "      <td>0</td>\n",
              "      <td>0</td>\n",
              "      <td>0</td>\n",
              "      <td>0</td>\n",
              "      <td>0</td>\n",
              "      <td>0</td>\n",
              "      <td>0</td>\n",
              "      <td>0</td>\n",
              "      <td>0</td>\n",
              "      <td>0</td>\n",
              "      <td>0</td>\n",
              "      <td>0</td>\n",
              "      <td>0</td>\n",
              "      <td>0</td>\n",
              "      <td>1</td>\n",
              "      <td>0</td>\n",
              "      <td>0</td>\n",
              "      <td>0</td>\n",
              "      <td>0</td>\n",
              "      <td>0</td>\n",
              "      <td>0</td>\n",
              "      <td>0</td>\n",
              "      <td>0</td>\n",
              "      <td>0</td>\n",
              "      <td>0</td>\n",
              "      <td>...</td>\n",
              "      <td>0</td>\n",
              "      <td>0</td>\n",
              "      <td>0</td>\n",
              "      <td>0</td>\n",
              "      <td>0</td>\n",
              "      <td>0</td>\n",
              "      <td>0</td>\n",
              "      <td>0</td>\n",
              "      <td>0</td>\n",
              "      <td>0</td>\n",
              "      <td>0</td>\n",
              "      <td>0</td>\n",
              "      <td>0</td>\n",
              "      <td>0</td>\n",
              "      <td>0</td>\n",
              "      <td>0</td>\n",
              "      <td>0</td>\n",
              "      <td>0</td>\n",
              "      <td>0</td>\n",
              "      <td>0</td>\n",
              "      <td>0</td>\n",
              "      <td>0</td>\n",
              "      <td>0</td>\n",
              "      <td>0</td>\n",
              "      <td>0</td>\n",
              "      <td>0</td>\n",
              "      <td>0</td>\n",
              "      <td>0</td>\n",
              "      <td>0</td>\n",
              "      <td>0</td>\n",
              "      <td>0</td>\n",
              "      <td>1</td>\n",
              "      <td>1</td>\n",
              "      <td>0</td>\n",
              "      <td>0</td>\n",
              "      <td>0</td>\n",
              "      <td>0</td>\n",
              "      <td>0</td>\n",
              "      <td>1</td>\n",
              "      <td>0</td>\n",
              "    </tr>\n",
              "    <tr>\n",
              "      <th>3</th>\n",
              "      <td>14.0</td>\n",
              "      <td>368.0</td>\n",
              "      <td>1.0</td>\n",
              "      <td>2800.0</td>\n",
              "      <td>470000</td>\n",
              "      <td>0</td>\n",
              "      <td>0</td>\n",
              "      <td>0</td>\n",
              "      <td>0</td>\n",
              "      <td>0</td>\n",
              "      <td>0</td>\n",
              "      <td>0</td>\n",
              "      <td>0</td>\n",
              "      <td>0</td>\n",
              "      <td>0</td>\n",
              "      <td>0</td>\n",
              "      <td>0</td>\n",
              "      <td>0</td>\n",
              "      <td>0</td>\n",
              "      <td>0</td>\n",
              "      <td>0</td>\n",
              "      <td>0</td>\n",
              "      <td>0</td>\n",
              "      <td>0</td>\n",
              "      <td>0</td>\n",
              "      <td>0</td>\n",
              "      <td>0</td>\n",
              "      <td>0</td>\n",
              "      <td>0</td>\n",
              "      <td>1</td>\n",
              "      <td>0</td>\n",
              "      <td>0</td>\n",
              "      <td>0</td>\n",
              "      <td>0</td>\n",
              "      <td>0</td>\n",
              "      <td>0</td>\n",
              "      <td>0</td>\n",
              "      <td>0</td>\n",
              "      <td>0</td>\n",
              "      <td>0</td>\n",
              "      <td>...</td>\n",
              "      <td>0</td>\n",
              "      <td>0</td>\n",
              "      <td>0</td>\n",
              "      <td>0</td>\n",
              "      <td>0</td>\n",
              "      <td>0</td>\n",
              "      <td>0</td>\n",
              "      <td>0</td>\n",
              "      <td>0</td>\n",
              "      <td>0</td>\n",
              "      <td>0</td>\n",
              "      <td>0</td>\n",
              "      <td>0</td>\n",
              "      <td>0</td>\n",
              "      <td>0</td>\n",
              "      <td>0</td>\n",
              "      <td>0</td>\n",
              "      <td>0</td>\n",
              "      <td>0</td>\n",
              "      <td>0</td>\n",
              "      <td>0</td>\n",
              "      <td>0</td>\n",
              "      <td>0</td>\n",
              "      <td>0</td>\n",
              "      <td>0</td>\n",
              "      <td>0</td>\n",
              "      <td>0</td>\n",
              "      <td>0</td>\n",
              "      <td>0</td>\n",
              "      <td>0</td>\n",
              "      <td>0</td>\n",
              "      <td>1</td>\n",
              "      <td>1</td>\n",
              "      <td>0</td>\n",
              "      <td>0</td>\n",
              "      <td>0</td>\n",
              "      <td>0</td>\n",
              "      <td>0</td>\n",
              "      <td>1</td>\n",
              "      <td>0</td>\n",
              "    </tr>\n",
              "    <tr>\n",
              "      <th>4</th>\n",
              "      <td>3.0</td>\n",
              "      <td>515.0</td>\n",
              "      <td>NaN</td>\n",
              "      <td>10.0</td>\n",
              "      <td>450000</td>\n",
              "      <td>0</td>\n",
              "      <td>0</td>\n",
              "      <td>0</td>\n",
              "      <td>0</td>\n",
              "      <td>0</td>\n",
              "      <td>0</td>\n",
              "      <td>0</td>\n",
              "      <td>0</td>\n",
              "      <td>0</td>\n",
              "      <td>0</td>\n",
              "      <td>0</td>\n",
              "      <td>0</td>\n",
              "      <td>0</td>\n",
              "      <td>0</td>\n",
              "      <td>0</td>\n",
              "      <td>0</td>\n",
              "      <td>0</td>\n",
              "      <td>0</td>\n",
              "      <td>0</td>\n",
              "      <td>0</td>\n",
              "      <td>0</td>\n",
              "      <td>0</td>\n",
              "      <td>0</td>\n",
              "      <td>0</td>\n",
              "      <td>1</td>\n",
              "      <td>0</td>\n",
              "      <td>0</td>\n",
              "      <td>0</td>\n",
              "      <td>0</td>\n",
              "      <td>0</td>\n",
              "      <td>0</td>\n",
              "      <td>0</td>\n",
              "      <td>0</td>\n",
              "      <td>0</td>\n",
              "      <td>0</td>\n",
              "      <td>...</td>\n",
              "      <td>0</td>\n",
              "      <td>0</td>\n",
              "      <td>0</td>\n",
              "      <td>0</td>\n",
              "      <td>0</td>\n",
              "      <td>0</td>\n",
              "      <td>0</td>\n",
              "      <td>0</td>\n",
              "      <td>0</td>\n",
              "      <td>0</td>\n",
              "      <td>0</td>\n",
              "      <td>0</td>\n",
              "      <td>0</td>\n",
              "      <td>0</td>\n",
              "      <td>0</td>\n",
              "      <td>0</td>\n",
              "      <td>0</td>\n",
              "      <td>0</td>\n",
              "      <td>0</td>\n",
              "      <td>0</td>\n",
              "      <td>0</td>\n",
              "      <td>0</td>\n",
              "      <td>0</td>\n",
              "      <td>0</td>\n",
              "      <td>0</td>\n",
              "      <td>0</td>\n",
              "      <td>0</td>\n",
              "      <td>0</td>\n",
              "      <td>0</td>\n",
              "      <td>0</td>\n",
              "      <td>0</td>\n",
              "      <td>1</td>\n",
              "      <td>0</td>\n",
              "      <td>0</td>\n",
              "      <td>0</td>\n",
              "      <td>0</td>\n",
              "      <td>0</td>\n",
              "      <td>0</td>\n",
              "      <td>1</td>\n",
              "      <td>0</td>\n",
              "    </tr>\n",
              "  </tbody>\n",
              "</table>\n",
              "<p>5 rows × 299 columns</p>\n",
              "</div>"
            ],
            "text/plain": [
              "   months_old  power  ...  fuel_type_gasoline  fuel_type_hybrid\n",
              "0       240.0  210.0  ...                   1                 0\n",
              "1        54.0  487.0  ...                   1                 0\n",
              "2       358.0  220.0  ...                   1                 0\n",
              "3        14.0  368.0  ...                   1                 0\n",
              "4         3.0  515.0  ...                   1                 0\n",
              "\n",
              "[5 rows x 299 columns]"
            ]
          },
          "metadata": {
            "tags": []
          },
          "execution_count": 15
        }
      ]
    },
    {
      "cell_type": "markdown",
      "metadata": {
        "id": "vBvgESsE7GUy"
      },
      "source": [
        "### 030103 Limpieza de nulos\n",
        "Con la dumificación hemos eliminado los nulos en las columnas categóricas sin deshacernos de las filas. Queda algún nulo en las variables numéricas? \n",
        "\n",
        "Recuerda que puedes mirarlo con dataframe.isna().sum() y si sí hay nulos, puedes rellenarlos con el método .fillna()."
      ]
    },
    {
      "cell_type": "code",
      "metadata": {
        "id": "P1pmWM-S5k6Z",
        "colab": {
          "base_uri": "https://localhost:8080/"
        },
        "outputId": "f76504c8-4693-42f4-bf45-5f8d7bc6ce88"
      },
      "source": [
        "# Rellenamos los nulos de las variables numéricas\n",
        "df_coches[['months_old', 'power', 'num_owners', 'kms', 'price']].isna().sum()"
      ],
      "execution_count": 16,
      "outputs": [
        {
          "output_type": "execute_result",
          "data": {
            "text/plain": [
              "months_old      274\n",
              "power           487\n",
              "num_owners    71331\n",
              "kms             864\n",
              "price             0\n",
              "dtype: int64"
            ]
          },
          "metadata": {
            "tags": []
          },
          "execution_count": 16
        }
      ]
    },
    {
      "cell_type": "code",
      "metadata": {
        "id": "bD2jzXrPGTbu",
        "colab": {
          "base_uri": "https://localhost:8080/",
          "height": 270
        },
        "outputId": "5fcc36e3-6713-44af-c6b5-193967ebd67c"
      },
      "source": [
        "# Hay muchos nulos en num_owners\n",
        "# Quizás esto tiene que ver con origenes del coche desconocidos?\n",
        "# Vamos a limpiar la variable en 1, 2, 3+, nulo y la utilizamos como categórica\n",
        "filtro_muchos_owners = df_coches['num_owners']>=3\n",
        "df_coches.loc[filtro_muchos_owners, 'num_owners'] = '3+'\n",
        "df_coches = pd.get_dummies(df_coches, prefix_sep='_', \n",
        "                   dummy_na=True,\n",
        "                   drop_first=True, \n",
        "                   columns=['num_owners'])\n",
        "df_coches.head()"
      ],
      "execution_count": 17,
      "outputs": [
        {
          "output_type": "execute_result",
          "data": {
            "text/html": [
              "<div>\n",
              "<style scoped>\n",
              "    .dataframe tbody tr th:only-of-type {\n",
              "        vertical-align: middle;\n",
              "    }\n",
              "\n",
              "    .dataframe tbody tr th {\n",
              "        vertical-align: top;\n",
              "    }\n",
              "\n",
              "    .dataframe thead th {\n",
              "        text-align: right;\n",
              "    }\n",
              "</style>\n",
              "<table border=\"1\" class=\"dataframe\">\n",
              "  <thead>\n",
              "    <tr style=\"text-align: right;\">\n",
              "      <th></th>\n",
              "      <th>months_old</th>\n",
              "      <th>power</th>\n",
              "      <th>kms</th>\n",
              "      <th>price</th>\n",
              "      <th>make_Audi</th>\n",
              "      <th>make_Bentley</th>\n",
              "      <th>make_Bmw</th>\n",
              "      <th>make_Chevrolet</th>\n",
              "      <th>make_Chrysler</th>\n",
              "      <th>make_Citroen</th>\n",
              "      <th>make_Dacia</th>\n",
              "      <th>make_Ds</th>\n",
              "      <th>make_Fiat</th>\n",
              "      <th>make_Ford</th>\n",
              "      <th>make_Honda</th>\n",
              "      <th>make_Hyundai</th>\n",
              "      <th>make_Iveco</th>\n",
              "      <th>make_Jaguar</th>\n",
              "      <th>make_Jeep</th>\n",
              "      <th>make_Kia</th>\n",
              "      <th>make_Land</th>\n",
              "      <th>make_Mazda</th>\n",
              "      <th>make_Mercedes-Benz</th>\n",
              "      <th>make_Mini</th>\n",
              "      <th>make_Mitsubishi</th>\n",
              "      <th>make_Nissan</th>\n",
              "      <th>make_Opel</th>\n",
              "      <th>make_Peugeot</th>\n",
              "      <th>make_Porsche</th>\n",
              "      <th>make_Renault</th>\n",
              "      <th>make_Saab</th>\n",
              "      <th>make_Seat</th>\n",
              "      <th>make_Skoda</th>\n",
              "      <th>make_Smart</th>\n",
              "      <th>make_Ssangyong</th>\n",
              "      <th>make_Suzuki</th>\n",
              "      <th>make_Toyota</th>\n",
              "      <th>make_Volkswagen</th>\n",
              "      <th>make_Volvo</th>\n",
              "      <th>model_118</th>\n",
              "      <th>...</th>\n",
              "      <th>model_V60</th>\n",
              "      <th>model_Vectra</th>\n",
              "      <th>model_Verso</th>\n",
              "      <th>model_Viano</th>\n",
              "      <th>model_Vito</th>\n",
              "      <th>model_Vivaro</th>\n",
              "      <th>model_Voyager</th>\n",
              "      <th>model_Wrangler</th>\n",
              "      <th>model_X-Trail</th>\n",
              "      <th>model_X1</th>\n",
              "      <th>model_X3</th>\n",
              "      <th>model_X4</th>\n",
              "      <th>model_X5</th>\n",
              "      <th>model_X6</th>\n",
              "      <th>model_Xc60</th>\n",
              "      <th>model_Xc90</th>\n",
              "      <th>model_Xe</th>\n",
              "      <th>model_Xf</th>\n",
              "      <th>model_Xsara</th>\n",
              "      <th>model_XsaraPicasso</th>\n",
              "      <th>model_Yaris</th>\n",
              "      <th>model_Z4</th>\n",
              "      <th>model_Zafira</th>\n",
              "      <th>model_ZafiraTourer</th>\n",
              "      <th>sale_type_classic</th>\n",
              "      <th>sale_type_demo</th>\n",
              "      <th>sale_type_km_0</th>\n",
              "      <th>sale_type_new</th>\n",
              "      <th>sale_type_used</th>\n",
              "      <th>gear_type_manual</th>\n",
              "      <th>gear_type_semi-automatic</th>\n",
              "      <th>fuel_type_LPG</th>\n",
              "      <th>fuel_type_diesel</th>\n",
              "      <th>fuel_type_electric</th>\n",
              "      <th>fuel_type_etanol</th>\n",
              "      <th>fuel_type_gasoline</th>\n",
              "      <th>fuel_type_hybrid</th>\n",
              "      <th>num_owners_2.0</th>\n",
              "      <th>num_owners_3+</th>\n",
              "      <th>num_owners_nan</th>\n",
              "    </tr>\n",
              "  </thead>\n",
              "  <tbody>\n",
              "    <tr>\n",
              "      <th>0</th>\n",
              "      <td>240.0</td>\n",
              "      <td>210.0</td>\n",
              "      <td>202000.0</td>\n",
              "      <td>999999</td>\n",
              "      <td>0</td>\n",
              "      <td>0</td>\n",
              "      <td>0</td>\n",
              "      <td>0</td>\n",
              "      <td>0</td>\n",
              "      <td>0</td>\n",
              "      <td>0</td>\n",
              "      <td>0</td>\n",
              "      <td>0</td>\n",
              "      <td>0</td>\n",
              "      <td>0</td>\n",
              "      <td>0</td>\n",
              "      <td>0</td>\n",
              "      <td>0</td>\n",
              "      <td>0</td>\n",
              "      <td>0</td>\n",
              "      <td>0</td>\n",
              "      <td>0</td>\n",
              "      <td>0</td>\n",
              "      <td>0</td>\n",
              "      <td>0</td>\n",
              "      <td>0</td>\n",
              "      <td>0</td>\n",
              "      <td>0</td>\n",
              "      <td>1</td>\n",
              "      <td>0</td>\n",
              "      <td>0</td>\n",
              "      <td>0</td>\n",
              "      <td>0</td>\n",
              "      <td>0</td>\n",
              "      <td>0</td>\n",
              "      <td>0</td>\n",
              "      <td>0</td>\n",
              "      <td>0</td>\n",
              "      <td>0</td>\n",
              "      <td>0</td>\n",
              "      <td>...</td>\n",
              "      <td>0</td>\n",
              "      <td>0</td>\n",
              "      <td>0</td>\n",
              "      <td>0</td>\n",
              "      <td>0</td>\n",
              "      <td>0</td>\n",
              "      <td>0</td>\n",
              "      <td>0</td>\n",
              "      <td>0</td>\n",
              "      <td>0</td>\n",
              "      <td>0</td>\n",
              "      <td>0</td>\n",
              "      <td>0</td>\n",
              "      <td>0</td>\n",
              "      <td>0</td>\n",
              "      <td>0</td>\n",
              "      <td>0</td>\n",
              "      <td>0</td>\n",
              "      <td>0</td>\n",
              "      <td>0</td>\n",
              "      <td>0</td>\n",
              "      <td>0</td>\n",
              "      <td>0</td>\n",
              "      <td>0</td>\n",
              "      <td>1</td>\n",
              "      <td>0</td>\n",
              "      <td>0</td>\n",
              "      <td>0</td>\n",
              "      <td>0</td>\n",
              "      <td>1</td>\n",
              "      <td>0</td>\n",
              "      <td>0</td>\n",
              "      <td>0</td>\n",
              "      <td>0</td>\n",
              "      <td>0</td>\n",
              "      <td>1</td>\n",
              "      <td>0</td>\n",
              "      <td>0</td>\n",
              "      <td>1</td>\n",
              "      <td>0</td>\n",
              "    </tr>\n",
              "    <tr>\n",
              "      <th>1</th>\n",
              "      <td>54.0</td>\n",
              "      <td>487.0</td>\n",
              "      <td>30000.0</td>\n",
              "      <td>685000</td>\n",
              "      <td>0</td>\n",
              "      <td>0</td>\n",
              "      <td>0</td>\n",
              "      <td>0</td>\n",
              "      <td>0</td>\n",
              "      <td>0</td>\n",
              "      <td>0</td>\n",
              "      <td>0</td>\n",
              "      <td>0</td>\n",
              "      <td>1</td>\n",
              "      <td>0</td>\n",
              "      <td>0</td>\n",
              "      <td>0</td>\n",
              "      <td>0</td>\n",
              "      <td>0</td>\n",
              "      <td>0</td>\n",
              "      <td>0</td>\n",
              "      <td>0</td>\n",
              "      <td>0</td>\n",
              "      <td>0</td>\n",
              "      <td>0</td>\n",
              "      <td>0</td>\n",
              "      <td>0</td>\n",
              "      <td>0</td>\n",
              "      <td>0</td>\n",
              "      <td>0</td>\n",
              "      <td>0</td>\n",
              "      <td>0</td>\n",
              "      <td>0</td>\n",
              "      <td>0</td>\n",
              "      <td>0</td>\n",
              "      <td>0</td>\n",
              "      <td>0</td>\n",
              "      <td>0</td>\n",
              "      <td>0</td>\n",
              "      <td>0</td>\n",
              "      <td>...</td>\n",
              "      <td>0</td>\n",
              "      <td>0</td>\n",
              "      <td>0</td>\n",
              "      <td>0</td>\n",
              "      <td>0</td>\n",
              "      <td>0</td>\n",
              "      <td>0</td>\n",
              "      <td>0</td>\n",
              "      <td>0</td>\n",
              "      <td>0</td>\n",
              "      <td>0</td>\n",
              "      <td>0</td>\n",
              "      <td>0</td>\n",
              "      <td>0</td>\n",
              "      <td>0</td>\n",
              "      <td>0</td>\n",
              "      <td>0</td>\n",
              "      <td>0</td>\n",
              "      <td>0</td>\n",
              "      <td>0</td>\n",
              "      <td>0</td>\n",
              "      <td>0</td>\n",
              "      <td>0</td>\n",
              "      <td>0</td>\n",
              "      <td>0</td>\n",
              "      <td>0</td>\n",
              "      <td>0</td>\n",
              "      <td>0</td>\n",
              "      <td>1</td>\n",
              "      <td>1</td>\n",
              "      <td>0</td>\n",
              "      <td>0</td>\n",
              "      <td>0</td>\n",
              "      <td>0</td>\n",
              "      <td>0</td>\n",
              "      <td>1</td>\n",
              "      <td>0</td>\n",
              "      <td>0</td>\n",
              "      <td>0</td>\n",
              "      <td>0</td>\n",
              "    </tr>\n",
              "    <tr>\n",
              "      <th>2</th>\n",
              "      <td>358.0</td>\n",
              "      <td>220.0</td>\n",
              "      <td>56300.0</td>\n",
              "      <td>555555</td>\n",
              "      <td>0</td>\n",
              "      <td>0</td>\n",
              "      <td>0</td>\n",
              "      <td>0</td>\n",
              "      <td>0</td>\n",
              "      <td>0</td>\n",
              "      <td>0</td>\n",
              "      <td>0</td>\n",
              "      <td>0</td>\n",
              "      <td>0</td>\n",
              "      <td>0</td>\n",
              "      <td>0</td>\n",
              "      <td>0</td>\n",
              "      <td>0</td>\n",
              "      <td>0</td>\n",
              "      <td>0</td>\n",
              "      <td>0</td>\n",
              "      <td>0</td>\n",
              "      <td>0</td>\n",
              "      <td>0</td>\n",
              "      <td>0</td>\n",
              "      <td>0</td>\n",
              "      <td>0</td>\n",
              "      <td>0</td>\n",
              "      <td>1</td>\n",
              "      <td>0</td>\n",
              "      <td>0</td>\n",
              "      <td>0</td>\n",
              "      <td>0</td>\n",
              "      <td>0</td>\n",
              "      <td>0</td>\n",
              "      <td>0</td>\n",
              "      <td>0</td>\n",
              "      <td>0</td>\n",
              "      <td>0</td>\n",
              "      <td>0</td>\n",
              "      <td>...</td>\n",
              "      <td>0</td>\n",
              "      <td>0</td>\n",
              "      <td>0</td>\n",
              "      <td>0</td>\n",
              "      <td>0</td>\n",
              "      <td>0</td>\n",
              "      <td>0</td>\n",
              "      <td>0</td>\n",
              "      <td>0</td>\n",
              "      <td>0</td>\n",
              "      <td>0</td>\n",
              "      <td>0</td>\n",
              "      <td>0</td>\n",
              "      <td>0</td>\n",
              "      <td>0</td>\n",
              "      <td>0</td>\n",
              "      <td>0</td>\n",
              "      <td>0</td>\n",
              "      <td>0</td>\n",
              "      <td>0</td>\n",
              "      <td>0</td>\n",
              "      <td>0</td>\n",
              "      <td>0</td>\n",
              "      <td>0</td>\n",
              "      <td>0</td>\n",
              "      <td>0</td>\n",
              "      <td>0</td>\n",
              "      <td>0</td>\n",
              "      <td>1</td>\n",
              "      <td>1</td>\n",
              "      <td>0</td>\n",
              "      <td>0</td>\n",
              "      <td>0</td>\n",
              "      <td>0</td>\n",
              "      <td>0</td>\n",
              "      <td>1</td>\n",
              "      <td>0</td>\n",
              "      <td>0</td>\n",
              "      <td>0</td>\n",
              "      <td>1</td>\n",
              "    </tr>\n",
              "    <tr>\n",
              "      <th>3</th>\n",
              "      <td>14.0</td>\n",
              "      <td>368.0</td>\n",
              "      <td>2800.0</td>\n",
              "      <td>470000</td>\n",
              "      <td>0</td>\n",
              "      <td>0</td>\n",
              "      <td>0</td>\n",
              "      <td>0</td>\n",
              "      <td>0</td>\n",
              "      <td>0</td>\n",
              "      <td>0</td>\n",
              "      <td>0</td>\n",
              "      <td>0</td>\n",
              "      <td>0</td>\n",
              "      <td>0</td>\n",
              "      <td>0</td>\n",
              "      <td>0</td>\n",
              "      <td>0</td>\n",
              "      <td>0</td>\n",
              "      <td>0</td>\n",
              "      <td>0</td>\n",
              "      <td>0</td>\n",
              "      <td>0</td>\n",
              "      <td>0</td>\n",
              "      <td>0</td>\n",
              "      <td>0</td>\n",
              "      <td>0</td>\n",
              "      <td>0</td>\n",
              "      <td>1</td>\n",
              "      <td>0</td>\n",
              "      <td>0</td>\n",
              "      <td>0</td>\n",
              "      <td>0</td>\n",
              "      <td>0</td>\n",
              "      <td>0</td>\n",
              "      <td>0</td>\n",
              "      <td>0</td>\n",
              "      <td>0</td>\n",
              "      <td>0</td>\n",
              "      <td>0</td>\n",
              "      <td>...</td>\n",
              "      <td>0</td>\n",
              "      <td>0</td>\n",
              "      <td>0</td>\n",
              "      <td>0</td>\n",
              "      <td>0</td>\n",
              "      <td>0</td>\n",
              "      <td>0</td>\n",
              "      <td>0</td>\n",
              "      <td>0</td>\n",
              "      <td>0</td>\n",
              "      <td>0</td>\n",
              "      <td>0</td>\n",
              "      <td>0</td>\n",
              "      <td>0</td>\n",
              "      <td>0</td>\n",
              "      <td>0</td>\n",
              "      <td>0</td>\n",
              "      <td>0</td>\n",
              "      <td>0</td>\n",
              "      <td>0</td>\n",
              "      <td>0</td>\n",
              "      <td>0</td>\n",
              "      <td>0</td>\n",
              "      <td>0</td>\n",
              "      <td>0</td>\n",
              "      <td>0</td>\n",
              "      <td>0</td>\n",
              "      <td>0</td>\n",
              "      <td>1</td>\n",
              "      <td>1</td>\n",
              "      <td>0</td>\n",
              "      <td>0</td>\n",
              "      <td>0</td>\n",
              "      <td>0</td>\n",
              "      <td>0</td>\n",
              "      <td>1</td>\n",
              "      <td>0</td>\n",
              "      <td>0</td>\n",
              "      <td>0</td>\n",
              "      <td>0</td>\n",
              "    </tr>\n",
              "    <tr>\n",
              "      <th>4</th>\n",
              "      <td>3.0</td>\n",
              "      <td>515.0</td>\n",
              "      <td>10.0</td>\n",
              "      <td>450000</td>\n",
              "      <td>0</td>\n",
              "      <td>0</td>\n",
              "      <td>0</td>\n",
              "      <td>0</td>\n",
              "      <td>0</td>\n",
              "      <td>0</td>\n",
              "      <td>0</td>\n",
              "      <td>0</td>\n",
              "      <td>0</td>\n",
              "      <td>0</td>\n",
              "      <td>0</td>\n",
              "      <td>0</td>\n",
              "      <td>0</td>\n",
              "      <td>0</td>\n",
              "      <td>0</td>\n",
              "      <td>0</td>\n",
              "      <td>0</td>\n",
              "      <td>0</td>\n",
              "      <td>0</td>\n",
              "      <td>0</td>\n",
              "      <td>0</td>\n",
              "      <td>0</td>\n",
              "      <td>0</td>\n",
              "      <td>0</td>\n",
              "      <td>1</td>\n",
              "      <td>0</td>\n",
              "      <td>0</td>\n",
              "      <td>0</td>\n",
              "      <td>0</td>\n",
              "      <td>0</td>\n",
              "      <td>0</td>\n",
              "      <td>0</td>\n",
              "      <td>0</td>\n",
              "      <td>0</td>\n",
              "      <td>0</td>\n",
              "      <td>0</td>\n",
              "      <td>...</td>\n",
              "      <td>0</td>\n",
              "      <td>0</td>\n",
              "      <td>0</td>\n",
              "      <td>0</td>\n",
              "      <td>0</td>\n",
              "      <td>0</td>\n",
              "      <td>0</td>\n",
              "      <td>0</td>\n",
              "      <td>0</td>\n",
              "      <td>0</td>\n",
              "      <td>0</td>\n",
              "      <td>0</td>\n",
              "      <td>0</td>\n",
              "      <td>0</td>\n",
              "      <td>0</td>\n",
              "      <td>0</td>\n",
              "      <td>0</td>\n",
              "      <td>0</td>\n",
              "      <td>0</td>\n",
              "      <td>0</td>\n",
              "      <td>0</td>\n",
              "      <td>0</td>\n",
              "      <td>0</td>\n",
              "      <td>0</td>\n",
              "      <td>0</td>\n",
              "      <td>0</td>\n",
              "      <td>0</td>\n",
              "      <td>0</td>\n",
              "      <td>1</td>\n",
              "      <td>0</td>\n",
              "      <td>0</td>\n",
              "      <td>0</td>\n",
              "      <td>0</td>\n",
              "      <td>0</td>\n",
              "      <td>0</td>\n",
              "      <td>1</td>\n",
              "      <td>0</td>\n",
              "      <td>0</td>\n",
              "      <td>0</td>\n",
              "      <td>1</td>\n",
              "    </tr>\n",
              "  </tbody>\n",
              "</table>\n",
              "<p>5 rows × 301 columns</p>\n",
              "</div>"
            ],
            "text/plain": [
              "   months_old  power       kms  ...  num_owners_2.0  num_owners_3+  num_owners_nan\n",
              "0       240.0  210.0  202000.0  ...               0              1               0\n",
              "1        54.0  487.0   30000.0  ...               0              0               0\n",
              "2       358.0  220.0   56300.0  ...               0              0               1\n",
              "3        14.0  368.0    2800.0  ...               0              0               0\n",
              "4         3.0  515.0      10.0  ...               0              0               1\n",
              "\n",
              "[5 rows x 301 columns]"
            ]
          },
          "metadata": {
            "tags": []
          },
          "execution_count": 17
        }
      ]
    },
    {
      "cell_type": "code",
      "metadata": {
        "id": "aZoAWMfFGTic",
        "colab": {
          "base_uri": "https://localhost:8080/"
        },
        "outputId": "ecc2a86c-70ed-49bf-a1e3-1f0c617771ae"
      },
      "source": [
        "df_coches[['months_old', 'power', 'kms', 'price']].isna().sum()"
      ],
      "execution_count": 18,
      "outputs": [
        {
          "output_type": "execute_result",
          "data": {
            "text/plain": [
              "months_old    274\n",
              "power         487\n",
              "kms           864\n",
              "price           0\n",
              "dtype: int64"
            ]
          },
          "metadata": {
            "tags": []
          },
          "execution_count": 18
        }
      ]
    },
    {
      "cell_type": "code",
      "metadata": {
        "id": "Clej3qPeGk0-"
      },
      "source": [
        "for col in ['months_old', 'power', 'kms']:\n",
        "  df_coches[col] = df_coches[col].fillna(df_coches[col].median())"
      ],
      "execution_count": 19,
      "outputs": []
    },
    {
      "cell_type": "code",
      "metadata": {
        "id": "MXcV4qIdGk4b",
        "colab": {
          "base_uri": "https://localhost:8080/"
        },
        "outputId": "0310b1a3-f414-44ab-8bb6-614ce0d0a7ce"
      },
      "source": [
        "df_coches.isna().sum()"
      ],
      "execution_count": 20,
      "outputs": [
        {
          "output_type": "execute_result",
          "data": {
            "text/plain": [
              "months_old            0\n",
              "power                 0\n",
              "kms                   0\n",
              "price                 0\n",
              "make_Audi             0\n",
              "                     ..\n",
              "fuel_type_gasoline    0\n",
              "fuel_type_hybrid      0\n",
              "num_owners_2.0        0\n",
              "num_owners_3+         0\n",
              "num_owners_nan        0\n",
              "Length: 301, dtype: int64"
            ]
          },
          "metadata": {
            "tags": []
          },
          "execution_count": 20
        }
      ]
    },
    {
      "cell_type": "markdown",
      "metadata": {
        "id": "vXuahKge_Szf"
      },
      "source": [
        "### 030104 Train - test"
      ]
    },
    {
      "cell_type": "code",
      "metadata": {
        "id": "JuUqE7RMGk73",
        "colab": {
          "base_uri": "https://localhost:8080/"
        },
        "outputId": "18bc4bed-d23d-4dea-a2eb-55511383f277"
      },
      "source": [
        "# Primero generamos la matriz X con las variables predictoras \n",
        "# y el vector y con la variable a predecir\n",
        "X_CO = df_coches.drop('price',axis=1)\n",
        "y_CO = df_coches['price']\n",
        "\n",
        "# Comprueba sus tamaños\n",
        "X_CO.shape, y_CO.shape"
      ],
      "execution_count": 21,
      "outputs": [
        {
          "output_type": "execute_result",
          "data": {
            "text/plain": [
              "((93991, 300), (93991,))"
            ]
          },
          "metadata": {
            "tags": []
          },
          "execution_count": 21
        }
      ]
    },
    {
      "cell_type": "code",
      "metadata": {
        "id": "nbt_ueIVG9Ut",
        "colab": {
          "base_uri": "https://localhost:8080/"
        },
        "outputId": "83fa2d25-c108-4cad-8d31-371c42680a45"
      },
      "source": [
        "# Haz la partición train-test\n",
        "X_CO_train, X_CO_test, y_CO_train, y_CO_test = train_test_split(X_CO, \n",
        "                                                                y_CO,\n",
        "                                                                test_size=0.33, \n",
        "                                                                random_state=42)\n",
        "\n",
        "# Comprueba sus tamaños\n",
        "X_CO_train.shape, X_CO_test.shape, y_CO_train.shape, y_CO_test.shape"
      ],
      "execution_count": 22,
      "outputs": [
        {
          "output_type": "execute_result",
          "data": {
            "text/plain": [
              "((62973, 300), (31018, 300), (62973,), (31018,))"
            ]
          },
          "metadata": {
            "tags": []
          },
          "execution_count": 22
        }
      ]
    },
    {
      "cell_type": "markdown",
      "metadata": {
        "id": "nQ7AlJc59eTf"
      },
      "source": [
        "## 0302 DATASET CASAS: Preparación de los datos"
      ]
    },
    {
      "cell_type": "markdown",
      "metadata": {
        "id": "kAKpqT4m9rP-"
      },
      "source": [
        "### 030201 Variables Útiles\n",
        "De entre las variables disponibles, quedémonos con la que queramos utilizar como predictoras para el estudio."
      ]
    },
    {
      "cell_type": "code",
      "metadata": {
        "colab": {
          "base_uri": "https://localhost:8080/",
          "height": 224
        },
        "id": "ItpzD8kk9tG_",
        "outputId": "cd1b066e-55a2-4cab-dbc9-c86d0c05ab03"
      },
      "source": [
        "df_casas.head()"
      ],
      "execution_count": 23,
      "outputs": [
        {
          "output_type": "execute_result",
          "data": {
            "text/html": [
              "<div>\n",
              "<style scoped>\n",
              "    .dataframe tbody tr th:only-of-type {\n",
              "        vertical-align: middle;\n",
              "    }\n",
              "\n",
              "    .dataframe tbody tr th {\n",
              "        vertical-align: top;\n",
              "    }\n",
              "\n",
              "    .dataframe thead th {\n",
              "        text-align: right;\n",
              "    }\n",
              "</style>\n",
              "<table border=\"1\" class=\"dataframe\">\n",
              "  <thead>\n",
              "    <tr style=\"text-align: right;\">\n",
              "      <th></th>\n",
              "      <th>id</th>\n",
              "      <th>date</th>\n",
              "      <th>price</th>\n",
              "      <th>bedrooms</th>\n",
              "      <th>bathrooms</th>\n",
              "      <th>sqft_living</th>\n",
              "      <th>sqft_lot</th>\n",
              "      <th>floors</th>\n",
              "      <th>waterfront</th>\n",
              "      <th>view</th>\n",
              "      <th>condition</th>\n",
              "      <th>grade</th>\n",
              "      <th>sqft_above</th>\n",
              "      <th>sqft_basement</th>\n",
              "      <th>yr_built</th>\n",
              "      <th>yr_renovated</th>\n",
              "      <th>zipcode</th>\n",
              "      <th>lat</th>\n",
              "      <th>long</th>\n",
              "      <th>sqft_living15</th>\n",
              "      <th>sqft_lot15</th>\n",
              "    </tr>\n",
              "  </thead>\n",
              "  <tbody>\n",
              "    <tr>\n",
              "      <th>0</th>\n",
              "      <td>7129300520</td>\n",
              "      <td>20141013T000000</td>\n",
              "      <td>221900.0</td>\n",
              "      <td>3</td>\n",
              "      <td>1.00</td>\n",
              "      <td>1180</td>\n",
              "      <td>5650</td>\n",
              "      <td>1.0</td>\n",
              "      <td>0</td>\n",
              "      <td>0</td>\n",
              "      <td>3</td>\n",
              "      <td>7</td>\n",
              "      <td>1180</td>\n",
              "      <td>0</td>\n",
              "      <td>1955</td>\n",
              "      <td>0</td>\n",
              "      <td>98178</td>\n",
              "      <td>47.5112</td>\n",
              "      <td>-122.257</td>\n",
              "      <td>1340</td>\n",
              "      <td>5650</td>\n",
              "    </tr>\n",
              "    <tr>\n",
              "      <th>1</th>\n",
              "      <td>6414100192</td>\n",
              "      <td>20141209T000000</td>\n",
              "      <td>538000.0</td>\n",
              "      <td>3</td>\n",
              "      <td>2.25</td>\n",
              "      <td>2570</td>\n",
              "      <td>7242</td>\n",
              "      <td>2.0</td>\n",
              "      <td>0</td>\n",
              "      <td>0</td>\n",
              "      <td>3</td>\n",
              "      <td>7</td>\n",
              "      <td>2170</td>\n",
              "      <td>400</td>\n",
              "      <td>1951</td>\n",
              "      <td>1991</td>\n",
              "      <td>98125</td>\n",
              "      <td>47.7210</td>\n",
              "      <td>-122.319</td>\n",
              "      <td>1690</td>\n",
              "      <td>7639</td>\n",
              "    </tr>\n",
              "    <tr>\n",
              "      <th>2</th>\n",
              "      <td>2487200875</td>\n",
              "      <td>20141209T000000</td>\n",
              "      <td>604000.0</td>\n",
              "      <td>4</td>\n",
              "      <td>3.00</td>\n",
              "      <td>1960</td>\n",
              "      <td>5000</td>\n",
              "      <td>1.0</td>\n",
              "      <td>0</td>\n",
              "      <td>0</td>\n",
              "      <td>5</td>\n",
              "      <td>7</td>\n",
              "      <td>1050</td>\n",
              "      <td>910</td>\n",
              "      <td>1965</td>\n",
              "      <td>0</td>\n",
              "      <td>98136</td>\n",
              "      <td>47.5208</td>\n",
              "      <td>-122.393</td>\n",
              "      <td>1360</td>\n",
              "      <td>5000</td>\n",
              "    </tr>\n",
              "    <tr>\n",
              "      <th>3</th>\n",
              "      <td>7237550310</td>\n",
              "      <td>20140512T000000</td>\n",
              "      <td>1225000.0</td>\n",
              "      <td>4</td>\n",
              "      <td>4.50</td>\n",
              "      <td>5420</td>\n",
              "      <td>101930</td>\n",
              "      <td>1.0</td>\n",
              "      <td>0</td>\n",
              "      <td>0</td>\n",
              "      <td>3</td>\n",
              "      <td>11</td>\n",
              "      <td>3890</td>\n",
              "      <td>1530</td>\n",
              "      <td>2001</td>\n",
              "      <td>0</td>\n",
              "      <td>98053</td>\n",
              "      <td>47.6561</td>\n",
              "      <td>-122.005</td>\n",
              "      <td>4760</td>\n",
              "      <td>101930</td>\n",
              "    </tr>\n",
              "    <tr>\n",
              "      <th>4</th>\n",
              "      <td>1321400060</td>\n",
              "      <td>20140627T000000</td>\n",
              "      <td>257500.0</td>\n",
              "      <td>3</td>\n",
              "      <td>2.25</td>\n",
              "      <td>1715</td>\n",
              "      <td>6819</td>\n",
              "      <td>2.0</td>\n",
              "      <td>0</td>\n",
              "      <td>0</td>\n",
              "      <td>3</td>\n",
              "      <td>7</td>\n",
              "      <td>1715</td>\n",
              "      <td>0</td>\n",
              "      <td>1995</td>\n",
              "      <td>0</td>\n",
              "      <td>98003</td>\n",
              "      <td>47.3097</td>\n",
              "      <td>-122.327</td>\n",
              "      <td>2238</td>\n",
              "      <td>6819</td>\n",
              "    </tr>\n",
              "  </tbody>\n",
              "</table>\n",
              "</div>"
            ],
            "text/plain": [
              "           id             date      price  ...     long  sqft_living15  sqft_lot15\n",
              "0  7129300520  20141013T000000   221900.0  ... -122.257           1340        5650\n",
              "1  6414100192  20141209T000000   538000.0  ... -122.319           1690        7639\n",
              "2  2487200875  20141209T000000   604000.0  ... -122.393           1360        5000\n",
              "3  7237550310  20140512T000000  1225000.0  ... -122.005           4760      101930\n",
              "4  1321400060  20140627T000000   257500.0  ... -122.327           2238        6819\n",
              "\n",
              "[5 rows x 21 columns]"
            ]
          },
          "metadata": {
            "tags": []
          },
          "execution_count": 23
        }
      ]
    },
    {
      "cell_type": "code",
      "metadata": {
        "colab": {
          "base_uri": "https://localhost:8080/"
        },
        "id": "gNW-aiDh9zkh",
        "outputId": "d74fba90-40ca-4c0f-a129-fcf12681dc7a"
      },
      "source": [
        "df_casas.columns"
      ],
      "execution_count": 24,
      "outputs": [
        {
          "output_type": "execute_result",
          "data": {
            "text/plain": [
              "Index(['id', 'date', 'price', 'bedrooms', 'bathrooms', 'sqft_living',\n",
              "       'sqft_lot', 'floors', 'waterfront', 'view', 'condition', 'grade',\n",
              "       'sqft_above', 'sqft_basement', 'yr_built', 'yr_renovated', 'zipcode',\n",
              "       'lat', 'long', 'sqft_living15', 'sqft_lot15'],\n",
              "      dtype='object')"
            ]
          },
          "metadata": {
            "tags": []
          },
          "execution_count": 24
        }
      ]
    },
    {
      "cell_type": "code",
      "metadata": {
        "id": "N3-EBMbz91Lq"
      },
      "source": [
        "cols = ['bedrooms', 'bathrooms', 'sqft_living',\n",
        "       'sqft_lot', 'floors', 'waterfront', 'view', 'condition', 'grade',\n",
        "       'sqft_above', 'sqft_basement', 'yr_built', 'yr_renovated', 'zipcode',\n",
        "       'lat', 'long', 'sqft_living15', 'sqft_lot15',\n",
        "        'price']\n"
      ],
      "execution_count": 25,
      "outputs": []
    },
    {
      "cell_type": "code",
      "metadata": {
        "colab": {
          "base_uri": "https://localhost:8080/",
          "height": 224
        },
        "id": "8Y-MBD6K91PC",
        "outputId": "49380855-6462-4a73-9659-205cad387eb2"
      },
      "source": [
        "df_casas = df_casas[cols]\n",
        "df_casas.head()"
      ],
      "execution_count": 26,
      "outputs": [
        {
          "output_type": "execute_result",
          "data": {
            "text/html": [
              "<div>\n",
              "<style scoped>\n",
              "    .dataframe tbody tr th:only-of-type {\n",
              "        vertical-align: middle;\n",
              "    }\n",
              "\n",
              "    .dataframe tbody tr th {\n",
              "        vertical-align: top;\n",
              "    }\n",
              "\n",
              "    .dataframe thead th {\n",
              "        text-align: right;\n",
              "    }\n",
              "</style>\n",
              "<table border=\"1\" class=\"dataframe\">\n",
              "  <thead>\n",
              "    <tr style=\"text-align: right;\">\n",
              "      <th></th>\n",
              "      <th>bedrooms</th>\n",
              "      <th>bathrooms</th>\n",
              "      <th>sqft_living</th>\n",
              "      <th>sqft_lot</th>\n",
              "      <th>floors</th>\n",
              "      <th>waterfront</th>\n",
              "      <th>view</th>\n",
              "      <th>condition</th>\n",
              "      <th>grade</th>\n",
              "      <th>sqft_above</th>\n",
              "      <th>sqft_basement</th>\n",
              "      <th>yr_built</th>\n",
              "      <th>yr_renovated</th>\n",
              "      <th>zipcode</th>\n",
              "      <th>lat</th>\n",
              "      <th>long</th>\n",
              "      <th>sqft_living15</th>\n",
              "      <th>sqft_lot15</th>\n",
              "      <th>price</th>\n",
              "    </tr>\n",
              "  </thead>\n",
              "  <tbody>\n",
              "    <tr>\n",
              "      <th>0</th>\n",
              "      <td>3</td>\n",
              "      <td>1.00</td>\n",
              "      <td>1180</td>\n",
              "      <td>5650</td>\n",
              "      <td>1.0</td>\n",
              "      <td>0</td>\n",
              "      <td>0</td>\n",
              "      <td>3</td>\n",
              "      <td>7</td>\n",
              "      <td>1180</td>\n",
              "      <td>0</td>\n",
              "      <td>1955</td>\n",
              "      <td>0</td>\n",
              "      <td>98178</td>\n",
              "      <td>47.5112</td>\n",
              "      <td>-122.257</td>\n",
              "      <td>1340</td>\n",
              "      <td>5650</td>\n",
              "      <td>221900.0</td>\n",
              "    </tr>\n",
              "    <tr>\n",
              "      <th>1</th>\n",
              "      <td>3</td>\n",
              "      <td>2.25</td>\n",
              "      <td>2570</td>\n",
              "      <td>7242</td>\n",
              "      <td>2.0</td>\n",
              "      <td>0</td>\n",
              "      <td>0</td>\n",
              "      <td>3</td>\n",
              "      <td>7</td>\n",
              "      <td>2170</td>\n",
              "      <td>400</td>\n",
              "      <td>1951</td>\n",
              "      <td>1991</td>\n",
              "      <td>98125</td>\n",
              "      <td>47.7210</td>\n",
              "      <td>-122.319</td>\n",
              "      <td>1690</td>\n",
              "      <td>7639</td>\n",
              "      <td>538000.0</td>\n",
              "    </tr>\n",
              "    <tr>\n",
              "      <th>2</th>\n",
              "      <td>4</td>\n",
              "      <td>3.00</td>\n",
              "      <td>1960</td>\n",
              "      <td>5000</td>\n",
              "      <td>1.0</td>\n",
              "      <td>0</td>\n",
              "      <td>0</td>\n",
              "      <td>5</td>\n",
              "      <td>7</td>\n",
              "      <td>1050</td>\n",
              "      <td>910</td>\n",
              "      <td>1965</td>\n",
              "      <td>0</td>\n",
              "      <td>98136</td>\n",
              "      <td>47.5208</td>\n",
              "      <td>-122.393</td>\n",
              "      <td>1360</td>\n",
              "      <td>5000</td>\n",
              "      <td>604000.0</td>\n",
              "    </tr>\n",
              "    <tr>\n",
              "      <th>3</th>\n",
              "      <td>4</td>\n",
              "      <td>4.50</td>\n",
              "      <td>5420</td>\n",
              "      <td>101930</td>\n",
              "      <td>1.0</td>\n",
              "      <td>0</td>\n",
              "      <td>0</td>\n",
              "      <td>3</td>\n",
              "      <td>11</td>\n",
              "      <td>3890</td>\n",
              "      <td>1530</td>\n",
              "      <td>2001</td>\n",
              "      <td>0</td>\n",
              "      <td>98053</td>\n",
              "      <td>47.6561</td>\n",
              "      <td>-122.005</td>\n",
              "      <td>4760</td>\n",
              "      <td>101930</td>\n",
              "      <td>1225000.0</td>\n",
              "    </tr>\n",
              "    <tr>\n",
              "      <th>4</th>\n",
              "      <td>3</td>\n",
              "      <td>2.25</td>\n",
              "      <td>1715</td>\n",
              "      <td>6819</td>\n",
              "      <td>2.0</td>\n",
              "      <td>0</td>\n",
              "      <td>0</td>\n",
              "      <td>3</td>\n",
              "      <td>7</td>\n",
              "      <td>1715</td>\n",
              "      <td>0</td>\n",
              "      <td>1995</td>\n",
              "      <td>0</td>\n",
              "      <td>98003</td>\n",
              "      <td>47.3097</td>\n",
              "      <td>-122.327</td>\n",
              "      <td>2238</td>\n",
              "      <td>6819</td>\n",
              "      <td>257500.0</td>\n",
              "    </tr>\n",
              "  </tbody>\n",
              "</table>\n",
              "</div>"
            ],
            "text/plain": [
              "   bedrooms  bathrooms  sqft_living  ...  sqft_living15  sqft_lot15      price\n",
              "0         3       1.00         1180  ...           1340        5650   221900.0\n",
              "1         3       2.25         2570  ...           1690        7639   538000.0\n",
              "2         4       3.00         1960  ...           1360        5000   604000.0\n",
              "3         4       4.50         5420  ...           4760      101930  1225000.0\n",
              "4         3       2.25         1715  ...           2238        6819   257500.0\n",
              "\n",
              "[5 rows x 19 columns]"
            ]
          },
          "metadata": {
            "tags": []
          },
          "execution_count": 26
        }
      ]
    },
    {
      "cell_type": "markdown",
      "metadata": {
        "id": "UWv-HyrU_5J5"
      },
      "source": [
        "### 030202 Train - test"
      ]
    },
    {
      "cell_type": "code",
      "metadata": {
        "colab": {
          "base_uri": "https://localhost:8080/"
        },
        "id": "MaFdOo_u_-CH",
        "outputId": "da6e1774-3b63-42a8-972d-ac3ac4695f9d"
      },
      "source": [
        "# Primero generamos la matriz X con las variables predictoras \n",
        "# y el vector y con la variable a predecir\n",
        "X_CA = df_casas.drop('price',axis=1)\n",
        "y_CA = df_casas['price']\n",
        "\n",
        "# Comprueba sus tamaños\n",
        "X_CA.shape, y_CA.shape"
      ],
      "execution_count": 27,
      "outputs": [
        {
          "output_type": "execute_result",
          "data": {
            "text/plain": [
              "((14633, 18), (14633,))"
            ]
          },
          "metadata": {
            "tags": []
          },
          "execution_count": 27
        }
      ]
    },
    {
      "cell_type": "code",
      "metadata": {
        "colab": {
          "base_uri": "https://localhost:8080/"
        },
        "id": "Aa0HIAuG_-Ff",
        "outputId": "1aae1bc5-5c3e-4454-9864-6ba8104d3186"
      },
      "source": [
        "# Haz la partición train-test\n",
        "X_CA_train, X_CA_test, y_CA_train, y_CA_test = train_test_split(X_CA, \n",
        "                                                                y_CA,\n",
        "                                                                test_size=0.33, \n",
        "                                                                random_state=42)\n",
        "\n",
        "# Comprueba sus tamaños\n",
        "X_CA_train.shape, X_CA_test.shape, y_CA_train.shape, y_CA_test.shape"
      ],
      "execution_count": 28,
      "outputs": [
        {
          "output_type": "execute_result",
          "data": {
            "text/plain": [
              "((9804, 18), (4829, 18), (9804,), (4829,))"
            ]
          },
          "metadata": {
            "tags": []
          },
          "execution_count": 28
        }
      ]
    },
    {
      "cell_type": "markdown",
      "metadata": {
        "id": "JIJw6wpoDeYL"
      },
      "source": [
        "# 04 Árbol de Decisión\n",
        "Documentación sklearn: http://scikit-learn.org/stable/modules/generated/sklearn.tree.DecisionTreeRegressor.html."
      ]
    },
    {
      "cell_type": "code",
      "metadata": {
        "colab": {
          "base_uri": "https://localhost:8080/"
        },
        "id": "2BTxOL_eEAzK",
        "outputId": "16da6d0f-81ef-4ed1-b55b-907cfdd9f340"
      },
      "source": [
        "# Inicializo el modelo\n",
        "modelo_1 = tree.DecisionTreeRegressor(max_depth=3)\n",
        "modelo_1"
      ],
      "execution_count": 29,
      "outputs": [
        {
          "output_type": "execute_result",
          "data": {
            "text/plain": [
              "DecisionTreeRegressor(ccp_alpha=0.0, criterion='mse', max_depth=3,\n",
              "                      max_features=None, max_leaf_nodes=None,\n",
              "                      min_impurity_decrease=0.0, min_impurity_split=None,\n",
              "                      min_samples_leaf=1, min_samples_split=2,\n",
              "                      min_weight_fraction_leaf=0.0, presort='deprecated',\n",
              "                      random_state=None, splitter='best')"
            ]
          },
          "metadata": {
            "tags": []
          },
          "execution_count": 29
        }
      ]
    },
    {
      "cell_type": "code",
      "metadata": {
        "id": "m9qF5jPHEGx_"
      },
      "source": [
        "# Entreno el árbol con el set de entrenamiento\n",
        "modelo_1 = modelo_1.fit(X=X_CO_train, y=y_CO_train)"
      ],
      "execution_count": 30,
      "outputs": []
    },
    {
      "cell_type": "code",
      "metadata": {
        "colab": {
          "base_uri": "https://localhost:8080/"
        },
        "id": "NRjgQ50TEgb3",
        "outputId": "6679c35d-197d-40d5-d404-b90208e8e589"
      },
      "source": [
        "# Ahora, ya entrenado, puedo visualizarlo\n",
        "print(tree.export_text(modelo_1,\n",
        "                       feature_names=list(X_CO_train.columns)))"
      ],
      "execution_count": 31,
      "outputs": [
        {
          "output_type": "stream",
          "text": [
            "|--- power <= 182.00\n",
            "|   |--- power <= 109.50\n",
            "|   |   |--- months_old <= 69.50\n",
            "|   |   |   |--- value: [14554.74]\n",
            "|   |   |--- months_old >  69.50\n",
            "|   |   |   |--- value: [6695.08]\n",
            "|   |--- power >  109.50\n",
            "|   |   |--- months_old <= 50.50\n",
            "|   |   |   |--- value: [29430.63]\n",
            "|   |   |--- months_old >  50.50\n",
            "|   |   |   |--- value: [14607.95]\n",
            "|--- power >  182.00\n",
            "|   |--- power <= 308.50\n",
            "|   |   |--- kms <= 87476.50\n",
            "|   |   |   |--- value: [59507.88]\n",
            "|   |   |--- kms >  87476.50\n",
            "|   |   |   |--- value: [30496.17]\n",
            "|   |--- power >  308.50\n",
            "|   |   |--- months_old <= 54.50\n",
            "|   |   |   |--- value: [151158.72]\n",
            "|   |   |--- months_old >  54.50\n",
            "|   |   |   |--- value: [60199.54]\n",
            "\n"
          ],
          "name": "stdout"
        }
      ]
    },
    {
      "cell_type": "code",
      "metadata": {
        "colab": {
          "base_uri": "https://localhost:8080/",
          "height": 538
        },
        "id": "9QjS3___EG7B",
        "outputId": "b5b5bf69-e700-49f8-ff92-34d100f6c510"
      },
      "source": [
        "# Export_graphviz\n",
        "dot_data = tree.export_graphviz(modelo_1, \n",
        "                                out_file=None, \n",
        "                                feature_names=list(X_CO_train.columns)) \n",
        "graph = graphviz.Source(dot_data) \n",
        "graph"
      ],
      "execution_count": 32,
      "outputs": [
        {
          "output_type": "execute_result",
          "data": {
            "text/plain": [
              "<graphviz.files.Source at 0x7fc99da024d0>"
            ],
            "image/svg+xml": "<?xml version=\"1.0\" encoding=\"UTF-8\" standalone=\"no\"?>\n<!DOCTYPE svg PUBLIC \"-//W3C//DTD SVG 1.1//EN\"\n \"http://www.w3.org/Graphics/SVG/1.1/DTD/svg11.dtd\">\n<!-- Generated by graphviz version 2.40.1 (20161225.0304)\n -->\n<!-- Title: Tree Pages: 1 -->\n<svg width=\"1295pt\" height=\"373pt\"\n viewBox=\"0.00 0.00 1295.00 373.00\" xmlns=\"http://www.w3.org/2000/svg\" xmlns:xlink=\"http://www.w3.org/1999/xlink\">\n<g id=\"graph0\" class=\"graph\" transform=\"scale(1 1) rotate(0) translate(4 369)\">\n<title>Tree</title>\n<polygon fill=\"#ffffff\" stroke=\"transparent\" points=\"-4,4 -4,-369 1291,-369 1291,4 -4,4\"/>\n<!-- 0 -->\n<g id=\"node1\" class=\"node\">\n<title>0</title>\n<polygon fill=\"none\" stroke=\"#000000\" points=\"661,-365 512,-365 512,-297 661,-297 661,-365\"/>\n<text text-anchor=\"middle\" x=\"586.5\" y=\"-349.8\" font-family=\"Times,serif\" font-size=\"14.00\" fill=\"#000000\">power &lt;= 182.0</text>\n<text text-anchor=\"middle\" x=\"586.5\" y=\"-334.8\" font-family=\"Times,serif\" font-size=\"14.00\" fill=\"#000000\">mse = 259743747.459</text>\n<text text-anchor=\"middle\" x=\"586.5\" y=\"-319.8\" font-family=\"Times,serif\" font-size=\"14.00\" fill=\"#000000\">samples = 62973</text>\n<text text-anchor=\"middle\" x=\"586.5\" y=\"-304.8\" font-family=\"Times,serif\" font-size=\"14.00\" fill=\"#000000\">value = 16627.864</text>\n</g>\n<!-- 1 -->\n<g id=\"node2\" class=\"node\">\n<title>1</title>\n<polygon fill=\"none\" stroke=\"#000000\" points=\"572,-261 431,-261 431,-193 572,-193 572,-261\"/>\n<text text-anchor=\"middle\" x=\"501.5\" y=\"-245.8\" font-family=\"Times,serif\" font-size=\"14.00\" fill=\"#000000\">power &lt;= 109.5</text>\n<text text-anchor=\"middle\" x=\"501.5\" y=\"-230.8\" font-family=\"Times,serif\" font-size=\"14.00\" fill=\"#000000\">mse = 91085126.975</text>\n<text text-anchor=\"middle\" x=\"501.5\" y=\"-215.8\" font-family=\"Times,serif\" font-size=\"14.00\" fill=\"#000000\">samples = 60206</text>\n<text text-anchor=\"middle\" x=\"501.5\" y=\"-200.8\" font-family=\"Times,serif\" font-size=\"14.00\" fill=\"#000000\">value = 14795.693</text>\n</g>\n<!-- 0&#45;&gt;1 -->\n<g id=\"edge1\" class=\"edge\">\n<title>0&#45;&gt;1</title>\n<path fill=\"none\" stroke=\"#000000\" d=\"M558.6678,-296.9465C551.403,-288.0578 543.4864,-278.3716 535.924,-269.1188\"/>\n<polygon fill=\"#000000\" stroke=\"#000000\" points=\"538.4331,-266.658 529.3947,-261.13 533.013,-271.0878 538.4331,-266.658\"/>\n<text text-anchor=\"middle\" x=\"526.8941\" y=\"-282.3046\" font-family=\"Times,serif\" font-size=\"14.00\" fill=\"#000000\">True</text>\n</g>\n<!-- 8 -->\n<g id=\"node9\" class=\"node\">\n<title>8</title>\n<polygon fill=\"none\" stroke=\"#000000\" points=\"819.5,-261 663.5,-261 663.5,-193 819.5,-193 819.5,-261\"/>\n<text text-anchor=\"middle\" x=\"741.5\" y=\"-245.8\" font-family=\"Times,serif\" font-size=\"14.00\" fill=\"#000000\">power &lt;= 308.5</text>\n<text text-anchor=\"middle\" x=\"741.5\" y=\"-230.8\" font-family=\"Times,serif\" font-size=\"14.00\" fill=\"#000000\">mse = 2267223100.897</text>\n<text text-anchor=\"middle\" x=\"741.5\" y=\"-215.8\" font-family=\"Times,serif\" font-size=\"14.00\" fill=\"#000000\">samples = 2767</text>\n<text text-anchor=\"middle\" x=\"741.5\" y=\"-200.8\" font-family=\"Times,serif\" font-size=\"14.00\" fill=\"#000000\">value = 56493.3</text>\n</g>\n<!-- 0&#45;&gt;8 -->\n<g id=\"edge8\" class=\"edge\">\n<title>0&#45;&gt;8</title>\n<path fill=\"none\" stroke=\"#000000\" d=\"M637.2528,-296.9465C651.571,-287.3395 667.2775,-276.8009 682.0563,-266.8848\"/>\n<polygon fill=\"#000000\" stroke=\"#000000\" points=\"684.2793,-269.6081 690.6332,-261.13 680.3791,-263.7953 684.2793,-269.6081\"/>\n<text text-anchor=\"middle\" x=\"685.8031\" y=\"-281.959\" font-family=\"Times,serif\" font-size=\"14.00\" fill=\"#000000\">False</text>\n</g>\n<!-- 2 -->\n<g id=\"node3\" class=\"node\">\n<title>2</title>\n<polygon fill=\"none\" stroke=\"#000000\" points=\"300,-157 159,-157 159,-89 300,-89 300,-157\"/>\n<text text-anchor=\"middle\" x=\"229.5\" y=\"-141.8\" font-family=\"Times,serif\" font-size=\"14.00\" fill=\"#000000\">months_old &lt;= 69.5</text>\n<text text-anchor=\"middle\" x=\"229.5\" y=\"-126.8\" font-family=\"Times,serif\" font-size=\"14.00\" fill=\"#000000\">mse = 42940823.514</text>\n<text text-anchor=\"middle\" x=\"229.5\" y=\"-111.8\" font-family=\"Times,serif\" font-size=\"14.00\" fill=\"#000000\">samples = 43090</text>\n<text text-anchor=\"middle\" x=\"229.5\" y=\"-96.8\" font-family=\"Times,serif\" font-size=\"14.00\" fill=\"#000000\">value = 11932.908</text>\n</g>\n<!-- 1&#45;&gt;2 -->\n<g id=\"edge2\" class=\"edge\">\n<title>1&#45;&gt;2</title>\n<path fill=\"none\" stroke=\"#000000\" d=\"M430.7453,-199.9467C393.7423,-185.7985 348.2944,-168.4214 309.9567,-153.7629\"/>\n<polygon fill=\"#000000\" stroke=\"#000000\" points=\"310.963,-150.4006 300.3725,-150.0983 308.463,-156.9389 310.963,-150.4006\"/>\n</g>\n<!-- 5 -->\n<g id=\"node6\" class=\"node\">\n<title>5</title>\n<polygon fill=\"none\" stroke=\"#000000\" points=\"576,-157 427,-157 427,-89 576,-89 576,-157\"/>\n<text text-anchor=\"middle\" x=\"501.5\" y=\"-141.8\" font-family=\"Times,serif\" font-size=\"14.00\" fill=\"#000000\">months_old &lt;= 50.5</text>\n<text text-anchor=\"middle\" x=\"501.5\" y=\"-126.8\" font-family=\"Times,serif\" font-size=\"14.00\" fill=\"#000000\">mse = 139714350.173</text>\n<text text-anchor=\"middle\" x=\"501.5\" y=\"-111.8\" font-family=\"Times,serif\" font-size=\"14.00\" fill=\"#000000\">samples = 17116</text>\n<text text-anchor=\"middle\" x=\"501.5\" y=\"-96.8\" font-family=\"Times,serif\" font-size=\"14.00\" fill=\"#000000\">value = 22002.835</text>\n</g>\n<!-- 1&#45;&gt;5 -->\n<g id=\"edge5\" class=\"edge\">\n<title>1&#45;&gt;5</title>\n<path fill=\"none\" stroke=\"#000000\" d=\"M501.5,-192.9465C501.5,-184.776 501.5,-175.9318 501.5,-167.3697\"/>\n<polygon fill=\"#000000\" stroke=\"#000000\" points=\"505.0001,-167.13 501.5,-157.13 498.0001,-167.13 505.0001,-167.13\"/>\n</g>\n<!-- 3 -->\n<g id=\"node4\" class=\"node\">\n<title>3</title>\n<polygon fill=\"none\" stroke=\"#000000\" points=\"141,-53 0,-53 0,0 141,0 141,-53\"/>\n<text text-anchor=\"middle\" x=\"70.5\" y=\"-37.8\" font-family=\"Times,serif\" font-size=\"14.00\" fill=\"#000000\">mse = 32660376.413</text>\n<text text-anchor=\"middle\" x=\"70.5\" y=\"-22.8\" font-family=\"Times,serif\" font-size=\"14.00\" fill=\"#000000\">samples = 28716</text>\n<text text-anchor=\"middle\" x=\"70.5\" y=\"-7.8\" font-family=\"Times,serif\" font-size=\"14.00\" fill=\"#000000\">value = 14554.738</text>\n</g>\n<!-- 2&#45;&gt;3 -->\n<g id=\"edge3\" class=\"edge\">\n<title>2&#45;&gt;3</title>\n<path fill=\"none\" stroke=\"#000000\" d=\"M173.4425,-88.9777C157.0724,-79.0424 139.246,-68.2232 123.0982,-58.4228\"/>\n<polygon fill=\"#000000\" stroke=\"#000000\" points=\"124.6845,-55.2914 114.3198,-53.095 121.0526,-61.2755 124.6845,-55.2914\"/>\n</g>\n<!-- 4 -->\n<g id=\"node5\" class=\"node\">\n<title>4</title>\n<polygon fill=\"none\" stroke=\"#000000\" points=\"299.5,-53 159.5,-53 159.5,0 299.5,0 299.5,-53\"/>\n<text text-anchor=\"middle\" x=\"229.5\" y=\"-37.8\" font-family=\"Times,serif\" font-size=\"14.00\" fill=\"#000000\">mse = 22311343.877</text>\n<text text-anchor=\"middle\" x=\"229.5\" y=\"-22.8\" font-family=\"Times,serif\" font-size=\"14.00\" fill=\"#000000\">samples = 14374</text>\n<text text-anchor=\"middle\" x=\"229.5\" y=\"-7.8\" font-family=\"Times,serif\" font-size=\"14.00\" fill=\"#000000\">value = 6695.084</text>\n</g>\n<!-- 2&#45;&gt;4 -->\n<g id=\"edge4\" class=\"edge\">\n<title>2&#45;&gt;4</title>\n<path fill=\"none\" stroke=\"#000000\" d=\"M229.5,-88.9777C229.5,-80.7364 229.5,-71.887 229.5,-63.5153\"/>\n<polygon fill=\"#000000\" stroke=\"#000000\" points=\"233.0001,-63.2484 229.5,-53.2485 226.0001,-63.2485 233.0001,-63.2484\"/>\n</g>\n<!-- 6 -->\n<g id=\"node7\" class=\"node\">\n<title>6</title>\n<polygon fill=\"none\" stroke=\"#000000\" points=\"451.5,-53 317.5,-53 317.5,0 451.5,0 451.5,-53\"/>\n<text text-anchor=\"middle\" x=\"384.5\" y=\"-37.8\" font-family=\"Times,serif\" font-size=\"14.00\" fill=\"#000000\">mse = 91941954.97</text>\n<text text-anchor=\"middle\" x=\"384.5\" y=\"-22.8\" font-family=\"Times,serif\" font-size=\"14.00\" fill=\"#000000\">samples = 8539</text>\n<text text-anchor=\"middle\" x=\"384.5\" y=\"-7.8\" font-family=\"Times,serif\" font-size=\"14.00\" fill=\"#000000\">value = 29430.626</text>\n</g>\n<!-- 5&#45;&gt;6 -->\n<g id=\"edge6\" class=\"edge\">\n<title>5&#45;&gt;6</title>\n<path fill=\"none\" stroke=\"#000000\" d=\"M460.2502,-88.9777C448.7039,-79.4545 436.1729,-69.1191 424.689,-59.6473\"/>\n<polygon fill=\"#000000\" stroke=\"#000000\" points=\"426.8724,-56.9113 416.9308,-53.2485 422.4184,-62.3115 426.8724,-56.9113\"/>\n</g>\n<!-- 7 -->\n<g id=\"node8\" class=\"node\">\n<title>7</title>\n<polygon fill=\"none\" stroke=\"#000000\" points=\"611,-53 470,-53 470,0 611,0 611,-53\"/>\n<text text-anchor=\"middle\" x=\"540.5\" y=\"-37.8\" font-family=\"Times,serif\" font-size=\"14.00\" fill=\"#000000\">mse = 77663162.722</text>\n<text text-anchor=\"middle\" x=\"540.5\" y=\"-22.8\" font-family=\"Times,serif\" font-size=\"14.00\" fill=\"#000000\">samples = 8577</text>\n<text text-anchor=\"middle\" x=\"540.5\" y=\"-7.8\" font-family=\"Times,serif\" font-size=\"14.00\" fill=\"#000000\">value = 14607.952</text>\n</g>\n<!-- 5&#45;&gt;7 -->\n<g id=\"edge7\" class=\"edge\">\n<title>5&#45;&gt;7</title>\n<path fill=\"none\" stroke=\"#000000\" d=\"M515.2499,-88.9777C518.6916,-80.4617 522.3958,-71.2963 525.8781,-62.6798\"/>\n<polygon fill=\"#000000\" stroke=\"#000000\" points=\"529.1877,-63.8314 529.6897,-53.2485 522.6976,-61.2085 529.1877,-63.8314\"/>\n</g>\n<!-- 9 -->\n<g id=\"node10\" class=\"node\">\n<title>9</title>\n<polygon fill=\"none\" stroke=\"#000000\" points=\"819,-157 664,-157 664,-89 819,-89 819,-157\"/>\n<text text-anchor=\"middle\" x=\"741.5\" y=\"-141.8\" font-family=\"Times,serif\" font-size=\"14.00\" fill=\"#000000\">kms &lt;= 87476.5</text>\n<text text-anchor=\"middle\" x=\"741.5\" y=\"-126.8\" font-family=\"Times,serif\" font-size=\"14.00\" fill=\"#000000\">mse = 1110952234.097</text>\n<text text-anchor=\"middle\" x=\"741.5\" y=\"-111.8\" font-family=\"Times,serif\" font-size=\"14.00\" fill=\"#000000\">samples = 2359</text>\n<text text-anchor=\"middle\" x=\"741.5\" y=\"-96.8\" font-family=\"Times,serif\" font-size=\"14.00\" fill=\"#000000\">value = 47369.449</text>\n</g>\n<!-- 8&#45;&gt;9 -->\n<g id=\"edge9\" class=\"edge\">\n<title>8&#45;&gt;9</title>\n<path fill=\"none\" stroke=\"#000000\" d=\"M741.5,-192.9465C741.5,-184.776 741.5,-175.9318 741.5,-167.3697\"/>\n<polygon fill=\"#000000\" stroke=\"#000000\" points=\"745.0001,-167.13 741.5,-157.13 738.0001,-167.13 745.0001,-167.13\"/>\n</g>\n<!-- 12 -->\n<g id=\"node13\" class=\"node\">\n<title>12</title>\n<polygon fill=\"none\" stroke=\"#000000\" points=\"1123.5,-157 967.5,-157 967.5,-89 1123.5,-89 1123.5,-157\"/>\n<text text-anchor=\"middle\" x=\"1045.5\" y=\"-141.8\" font-family=\"Times,serif\" font-size=\"14.00\" fill=\"#000000\">months_old &lt;= 54.5</text>\n<text text-anchor=\"middle\" x=\"1045.5\" y=\"-126.8\" font-family=\"Times,serif\" font-size=\"14.00\" fill=\"#000000\">mse = 5688449755.042</text>\n<text text-anchor=\"middle\" x=\"1045.5\" y=\"-111.8\" font-family=\"Times,serif\" font-size=\"14.00\" fill=\"#000000\">samples = 408</text>\n<text text-anchor=\"middle\" x=\"1045.5\" y=\"-96.8\" font-family=\"Times,serif\" font-size=\"14.00\" fill=\"#000000\">value = 109246.154</text>\n</g>\n<!-- 8&#45;&gt;12 -->\n<g id=\"edge12\" class=\"edge\">\n<title>8&#45;&gt;12</title>\n<path fill=\"none\" stroke=\"#000000\" d=\"M819.7876,-200.2174C861.9846,-185.7816 914.182,-167.9246 957.749,-153.0201\"/>\n<polygon fill=\"#000000\" stroke=\"#000000\" points=\"959.149,-156.2403 967.4777,-149.6918 956.8832,-149.6172 959.149,-156.2403\"/>\n</g>\n<!-- 10 -->\n<g id=\"node11\" class=\"node\">\n<title>10</title>\n<polygon fill=\"none\" stroke=\"#000000\" points=\"778,-53 629,-53 629,0 778,0 778,-53\"/>\n<text text-anchor=\"middle\" x=\"703.5\" y=\"-37.8\" font-family=\"Times,serif\" font-size=\"14.00\" fill=\"#000000\">mse = 678723477.632</text>\n<text text-anchor=\"middle\" x=\"703.5\" y=\"-22.8\" font-family=\"Times,serif\" font-size=\"14.00\" fill=\"#000000\">samples = 1372</text>\n<text text-anchor=\"middle\" x=\"703.5\" y=\"-7.8\" font-family=\"Times,serif\" font-size=\"14.00\" fill=\"#000000\">value = 59507.878</text>\n</g>\n<!-- 9&#45;&gt;10 -->\n<g id=\"edge10\" class=\"edge\">\n<title>9&#45;&gt;10</title>\n<path fill=\"none\" stroke=\"#000000\" d=\"M728.1026,-88.9777C724.7492,-80.4617 721.14,-71.2963 717.747,-62.6798\"/>\n<polygon fill=\"#000000\" stroke=\"#000000\" points=\"720.9537,-61.2707 714.0331,-53.2485 714.4405,-63.8355 720.9537,-61.2707\"/>\n</g>\n<!-- 11 -->\n<g id=\"node12\" class=\"node\">\n<title>11</title>\n<polygon fill=\"none\" stroke=\"#000000\" points=\"952.5,-53 796.5,-53 796.5,0 952.5,0 952.5,-53\"/>\n<text text-anchor=\"middle\" x=\"874.5\" y=\"-37.8\" font-family=\"Times,serif\" font-size=\"14.00\" fill=\"#000000\">mse = 1222258304.823</text>\n<text text-anchor=\"middle\" x=\"874.5\" y=\"-22.8\" font-family=\"Times,serif\" font-size=\"14.00\" fill=\"#000000\">samples = 987</text>\n<text text-anchor=\"middle\" x=\"874.5\" y=\"-7.8\" font-family=\"Times,serif\" font-size=\"14.00\" fill=\"#000000\">value = 30496.172</text>\n</g>\n<!-- 9&#45;&gt;11 -->\n<g id=\"edge11\" class=\"edge\">\n<title>9&#45;&gt;11</title>\n<path fill=\"none\" stroke=\"#000000\" d=\"M788.3908,-88.9777C801.6423,-79.3629 816.0347,-68.9203 829.1913,-59.3743\"/>\n<polygon fill=\"#000000\" stroke=\"#000000\" points=\"831.5957,-61.9541 837.6342,-53.2485 827.4848,-56.2883 831.5957,-61.9541\"/>\n</g>\n<!-- 13 -->\n<g id=\"node14\" class=\"node\">\n<title>13</title>\n<polygon fill=\"none\" stroke=\"#000000\" points=\"1120,-53 971,-53 971,0 1120,0 1120,-53\"/>\n<text text-anchor=\"middle\" x=\"1045.5\" y=\"-37.8\" font-family=\"Times,serif\" font-size=\"14.00\" fill=\"#000000\">mse = 5945969428.23</text>\n<text text-anchor=\"middle\" x=\"1045.5\" y=\"-22.8\" font-family=\"Times,serif\" font-size=\"14.00\" fill=\"#000000\">samples = 220</text>\n<text text-anchor=\"middle\" x=\"1045.5\" y=\"-7.8\" font-family=\"Times,serif\" font-size=\"14.00\" fill=\"#000000\">value = 151158.718</text>\n</g>\n<!-- 12&#45;&gt;13 -->\n<g id=\"edge13\" class=\"edge\">\n<title>12&#45;&gt;13</title>\n<path fill=\"none\" stroke=\"#000000\" d=\"M1045.5,-88.9777C1045.5,-80.7364 1045.5,-71.887 1045.5,-63.5153\"/>\n<polygon fill=\"#000000\" stroke=\"#000000\" points=\"1049.0001,-63.2484 1045.5,-53.2485 1042.0001,-63.2485 1049.0001,-63.2484\"/>\n</g>\n<!-- 14 -->\n<g id=\"node15\" class=\"node\">\n<title>14</title>\n<polygon fill=\"none\" stroke=\"#000000\" points=\"1287,-53 1138,-53 1138,0 1287,0 1287,-53\"/>\n<text text-anchor=\"middle\" x=\"1212.5\" y=\"-37.8\" font-family=\"Times,serif\" font-size=\"14.00\" fill=\"#000000\">mse = 925856819.249</text>\n<text text-anchor=\"middle\" x=\"1212.5\" y=\"-22.8\" font-family=\"Times,serif\" font-size=\"14.00\" fill=\"#000000\">samples = 188</text>\n<text text-anchor=\"middle\" x=\"1212.5\" y=\"-7.8\" font-family=\"Times,serif\" font-size=\"14.00\" fill=\"#000000\">value = 60199.537</text>\n</g>\n<!-- 12&#45;&gt;14 -->\n<g id=\"edge14\" class=\"edge\">\n<title>12&#45;&gt;14</title>\n<path fill=\"none\" stroke=\"#000000\" d=\"M1104.378,-88.9777C1121.7309,-78.9504 1140.642,-68.0228 1157.726,-58.1508\"/>\n<polygon fill=\"#000000\" stroke=\"#000000\" points=\"1159.5682,-61.1287 1166.4754,-53.095 1156.0659,-55.0678 1159.5682,-61.1287\"/>\n</g>\n</g>\n</svg>\n"
          },
          "metadata": {
            "tags": []
          },
          "execution_count": 32
        }
      ]
    },
    {
      "cell_type": "code",
      "metadata": {
        "colab": {
          "base_uri": "https://localhost:8080/"
        },
        "id": "jaSqSF0-GZgT",
        "outputId": "1526ca9f-36f7-4839-965e-e1e41c1fc9aa"
      },
      "source": [
        "# Evaluamos el rendimiento del modelo\n",
        "y_CO_pred_train = modelo_1.predict(X_CO_train)\n",
        "# Calidad predicción train\n",
        "rmse_train = round(mean_squared_error(y_CO_train, y_CO_pred_train, squared=False), 2)\n",
        "print('RMSE en set de entrenamiento :', rmse_train)\n",
        "\n",
        "# Uso el árbol para predecir sobre el dataset de test\n",
        "y_CO_pred_test = modelo_1.predict(X_CO_test)\n",
        "# Calidad predicción test\n",
        "rmse_test = round(mean_squared_error(y_CO_test, y_CO_pred_test, squared=False), 2)\n",
        "print('RMSE en set de test :', rmse_test)\n",
        "\n",
        "# Degradación de la predicción\n",
        "print('Degradación: ' + str(round((rmse_test-rmse_train)/rmse_train*100,2)) + '%')"
      ],
      "execution_count": 33,
      "outputs": [
        {
          "output_type": "stream",
          "text": [
            "RMSE en set de entrenamiento : 10025.57\n",
            "RMSE en set de test : 8564.43\n",
            "Degradación: -14.57%\n"
          ],
          "name": "stdout"
        }
      ]
    },
    {
      "cell_type": "markdown",
      "metadata": {
        "id": "z4oA4TkcpYMT"
      },
      "source": [
        "## 0401 Función"
      ]
    },
    {
      "cell_type": "code",
      "metadata": {
        "id": "r5tLedpsHBpB"
      },
      "source": [
        "def entrenar_modelo_y_predecir(modelo, X_train, X_test, y_train, y_test):\n",
        "  \"\"\"\n",
        "  Función que entrena un modelo ya inicializado y evalua su calidad en el set\n",
        "  de entrenamiento y de test, indicando la degradación en este.\n",
        "  \"\"\"\n",
        "  # Entreno el árbol con el set de entrenamiento\n",
        "  modelo = modelo.fit(X=X_train, y=y_train)\n",
        "  # Uso el árbol para predecir sobre el dataset de entrenamiento\n",
        "  y_pred_train = modelo.predict(X_train)\n",
        "  # Uso el árbol para predecir sobre el dataset de test\n",
        "  y_pred_test = modelo.predict(X_test)\n",
        "  # Calidad predicción train\n",
        "  rmse_train = round(mean_squared_error(y_train, y_pred_train, squared=False), 2)\n",
        "  print('RMSE en set de entrenamiento :', rmse_train)\n",
        "  # Calidad predicción test\n",
        "  rmse_test = round(mean_squared_error(y_test, y_pred_test, squared=False), 2)\n",
        "  print('RMSE en set de test :', rmse_test)\n",
        "  # Degradación de la predicción\n",
        "  print('Degradación: ' + str(round((rmse_test-rmse_train)/rmse_train*100,2)) + '%')"
      ],
      "execution_count": 34,
      "outputs": []
    },
    {
      "cell_type": "markdown",
      "metadata": {
        "id": "d2S53DzgG3TV"
      },
      "source": [
        "## 0401 COCHES"
      ]
    },
    {
      "cell_type": "code",
      "metadata": {
        "colab": {
          "base_uri": "https://localhost:8080/"
        },
        "id": "HWon3LAUHgI7",
        "outputId": "6e1c9551-9a22-4240-e3c5-9c514fc2ee12"
      },
      "source": [
        "# Define el árbol\n",
        "modelo_arbol_coches = tree.DecisionTreeRegressor(\n",
        "    max_depth=55)\n",
        "\n",
        "# Entrena y evalúa el árbol\n",
        "entrenar_modelo_y_predecir(modelo_arbol_coches, \n",
        "                           X_CO_train, X_CO_test, y_CO_train, y_CO_test)"
      ],
      "execution_count": 35,
      "outputs": [
        {
          "output_type": "stream",
          "text": [
            "RMSE en set de entrenamiento : 346.39\n",
            "RMSE en set de test : 5666.63\n",
            "Degradación: 1535.91%\n"
          ],
          "name": "stdout"
        }
      ]
    },
    {
      "cell_type": "code",
      "metadata": {
        "colab": {
          "base_uri": "https://localhost:8080/"
        },
        "id": "IFpaoLSHHgMJ",
        "outputId": "7b247dd9-411e-4d37-d284-6af1ef5b40d7"
      },
      "source": [
        "# Define el árbol\n",
        "modelo_arbol_coches = tree.DecisionTreeRegressor(\n",
        "    max_depth=50, \n",
        "    min_samples_split = 10)\n",
        "\n",
        "# Entrena y evalúa el árbol\n",
        "entrenar_modelo_y_predecir(modelo_arbol_coches, \n",
        "                           X_CO_train, X_CO_test, y_CO_train, y_CO_test)"
      ],
      "execution_count": 36,
      "outputs": [
        {
          "output_type": "stream",
          "text": [
            "RMSE en set de entrenamiento : 4409.3\n",
            "RMSE en set de test : 5391.13\n",
            "Degradación: 22.27%\n"
          ],
          "name": "stdout"
        }
      ]
    },
    {
      "cell_type": "code",
      "metadata": {
        "colab": {
          "base_uri": "https://localhost:8080/"
        },
        "id": "YTd7ssphDKJV",
        "outputId": "8d5f49f4-391a-4072-be6a-683cb9018752"
      },
      "source": [
        "# Define el árbol\n",
        "modelo_arbol_coches = tree.DecisionTreeRegressor(\n",
        "    max_depth=60, \n",
        "    min_samples_split = 15)\n",
        "\n",
        "# Entrena y evalúa el árbol\n",
        "entrenar_modelo_y_predecir(modelo_arbol_coches, \n",
        "                           X_CO_train, X_CO_test, y_CO_train, y_CO_test)"
      ],
      "execution_count": 37,
      "outputs": [
        {
          "output_type": "stream",
          "text": [
            "RMSE en set de entrenamiento : 4591.49\n",
            "RMSE en set de test : 5318.14\n",
            "Degradación: 15.83%\n"
          ],
          "name": "stdout"
        }
      ]
    },
    {
      "cell_type": "markdown",
      "metadata": {
        "id": "Nc51xhHPJBB1"
      },
      "source": [
        "## 0503 CASAS"
      ]
    },
    {
      "cell_type": "code",
      "metadata": {
        "colab": {
          "base_uri": "https://localhost:8080/"
        },
        "id": "cpcfikxvI8BB",
        "outputId": "4ecbca66-83dd-4178-a59d-e13fdaf0e95d"
      },
      "source": [
        "# Define el árbol\n",
        "modelo_arbol_casas = tree.DecisionTreeRegressor(\n",
        "    max_depth=50)\n",
        "\n",
        "# Entrena y evalúa el árbol\n",
        "entrenar_modelo_y_predecir(modelo_arbol_casas, \n",
        "                           X_CA_train, X_CA_test, y_CA_train, y_CA_test)"
      ],
      "execution_count": 38,
      "outputs": [
        {
          "output_type": "stream",
          "text": [
            "RMSE en set de entrenamiento : 3660.51\n",
            "RMSE en set de test : 201490.97\n",
            "Degradación: 5404.45%\n"
          ],
          "name": "stdout"
        }
      ]
    },
    {
      "cell_type": "code",
      "metadata": {
        "colab": {
          "base_uri": "https://localhost:8080/"
        },
        "id": "aaYOGohPI8Ep",
        "outputId": "a98bada2-00b4-477f-f94c-375c50cd0fb2"
      },
      "source": [
        "# Define el árbol\n",
        "modelo_arbol = tree.DecisionTreeRegressor(\n",
        "    max_depth=40,\n",
        "    min_samples_split = 10, \n",
        "    min_impurity_decrease = 0.01)\n",
        "\n",
        "# Entrena y evalúa el árbol\n",
        "entrenar_modelo_y_predecir(modelo_arbol, \n",
        "                           X_CA_train, X_CA_test, y_CA_train, y_CA_test)"
      ],
      "execution_count": 39,
      "outputs": [
        {
          "output_type": "stream",
          "text": [
            "RMSE en set de entrenamiento : 65501.0\n",
            "RMSE en set de test : 185785.63\n",
            "Degradación: 183.64%\n"
          ],
          "name": "stdout"
        }
      ]
    },
    {
      "cell_type": "code",
      "metadata": {
        "id": "AWQiYe4-8Yeo",
        "outputId": "766cf7ab-ebf7-4d8f-ffa2-53124fb491f1",
        "colab": {
          "base_uri": "https://localhost:8080/"
        }
      },
      "source": [
        "# Define el árbol\n",
        "modelo_arbol = tree.DecisionTreeRegressor(\n",
        "    max_depth=12,\n",
        "    min_samples_split = 50, \n",
        "    min_samples_leaf = 10, \n",
        "    min_impurity_decrease = 50)\n",
        "\n",
        "# Entrena y evalúa el árbol\n",
        "entrenar_modelo_y_predecir(modelo_arbol, \n",
        "                           X_CA_train, X_CA_test, y_CA_train, y_CA_test)"
      ],
      "execution_count": 70,
      "outputs": [
        {
          "output_type": "stream",
          "text": [
            "RMSE en set de entrenamiento : 142936.56\n",
            "RMSE en set de test : 176729.03\n",
            "Degradación: 23.64%\n"
          ],
          "name": "stdout"
        }
      ]
    },
    {
      "cell_type": "markdown",
      "metadata": {
        "id": "GLc_9kelUB4x"
      },
      "source": [
        "# 05 Random Forest\n",
        "Documentación sklearn: https://scikit-learn.org/stable/modules/generated/sklearn.ensemble.RandomForestRegressor.html"
      ]
    },
    {
      "cell_type": "markdown",
      "metadata": {
        "id": "8hvICHZqKSt2"
      },
      "source": [
        "## 0501 COCHES"
      ]
    },
    {
      "cell_type": "code",
      "metadata": {
        "colab": {
          "base_uri": "https://localhost:8080/"
        },
        "id": "NfJ5bnGNKjzl",
        "outputId": "eafe5d33-5808-4bd2-fc6a-622921e12c86"
      },
      "source": [
        "# Define el modelo de Random Forest\n",
        "modelo_RF_coches = ensemble.RandomForestRegressor(\n",
        "    n_estimators = 100)\n",
        "\n",
        "# Entrena y evalúa el árbol\n",
        "entrenar_modelo_y_predecir(modelo_RF_coches, \n",
        "                           X_CO_train, X_CO_test, y_CO_train, y_CO_test)"
      ],
      "execution_count": null,
      "outputs": [
        {
          "output_type": "stream",
          "text": [
            "RMSE en set de entrenamiento : 2559.94\n",
            "RMSE en set de test : 4766.21\n",
            "Degradación: 86.18%\n"
          ],
          "name": "stdout"
        }
      ]
    },
    {
      "cell_type": "code",
      "metadata": {
        "colab": {
          "base_uri": "https://localhost:8080/"
        },
        "id": "dw_GNNNqKn6L",
        "outputId": "cb28b181-1662-49ba-f5aa-7caff7558680"
      },
      "source": [
        "# Define el modelo de Random Forest\n",
        "modelo_RF_coches = ensemble.RandomForestRegressor(\n",
        "    n_estimators = 100,\n",
        "    max_features = \"auto\",\n",
        "    min_samples_split = 10)\n",
        "\n",
        "# Entrena y evalúa el árbol\n",
        "entrenar_modelo_y_predecir(modelo_RF_coches, \n",
        "                           X_CO_train, X_CO_test, y_CO_train, y_CO_test)"
      ],
      "execution_count": null,
      "outputs": [
        {
          "output_type": "stream",
          "text": [
            "RMSE en set de entrenamiento : 4632.36\n",
            "RMSE en set de test : 4825.02\n",
            "Degradación: 4.16%\n"
          ],
          "name": "stdout"
        }
      ]
    },
    {
      "cell_type": "code",
      "metadata": {
        "colab": {
          "base_uri": "https://localhost:8080/"
        },
        "id": "Ww_qAPa_WJFX",
        "outputId": "b566146e-de5e-4bde-9d69-a8ee3a6de1af"
      },
      "source": [
        "# Define el modelo de Random Forest\n",
        "modelo_RF_coches = ensemble.RandomForestRegressor(\n",
        "    n_estimators = 200,\n",
        "    max_features = \"auto\",\n",
        "    max_depth = 15, \n",
        "    min_samples_split = 10,\n",
        "    min_samples_leaf = 5)\n",
        "\n",
        "# Entrena y evalúa el árbol\n",
        "entrenar_modelo_y_predecir(modelo_RF_coches, \n",
        "                           X_CO_train, X_CO_test, y_CO_train, y_CO_test)"
      ],
      "execution_count": null,
      "outputs": [
        {
          "output_type": "stream",
          "text": [
            "RMSE en set de entrenamiento : 5776.33\n",
            "RMSE en set de test : 5041.05\n",
            "Degradación: -12.73%\n"
          ],
          "name": "stdout"
        }
      ]
    },
    {
      "cell_type": "code",
      "metadata": {
        "colab": {
          "base_uri": "https://localhost:8080/"
        },
        "id": "VDSzfuJMXn5x",
        "outputId": "1d24319b-9848-41b4-8294-019add2fe591"
      },
      "source": [
        "# Define el modelo de Random Forest\n",
        "modelo_RF_coches = ensemble.RandomForestRegressor(\n",
        "    n_estimators = 150,\n",
        "    max_features = \"auto\",\n",
        "    max_depth = 20, \n",
        "    min_samples_split = 5)\n",
        "\n",
        "# Entrena y evalúa el árbol\n",
        "entrenar_modelo_y_predecir(modelo_RF_coches, \n",
        "                           X_CO_train, X_CO_test, y_CO_train, y_CO_test)"
      ],
      "execution_count": null,
      "outputs": [
        {
          "output_type": "stream",
          "text": [
            "RMSE en set de entrenamiento : 4350.01\n",
            "RMSE en set de test : 4892.65\n",
            "Degradación: 12.47%\n"
          ],
          "name": "stdout"
        }
      ]
    },
    {
      "cell_type": "markdown",
      "metadata": {
        "id": "mAquNjuSLyYo"
      },
      "source": [
        "## 0502 CASAS"
      ]
    },
    {
      "cell_type": "code",
      "metadata": {
        "colab": {
          "base_uri": "https://localhost:8080/"
        },
        "id": "0J9vCXxOL2FT",
        "outputId": "dc66cc3d-c64d-4804-e81b-386de00234f7"
      },
      "source": [
        "# Define el modelo de Random Forest\n",
        "modelo_RF_casas = ensemble.RandomForestRegressor(\n",
        "    n_estimators = 100)\n",
        "\n",
        "# Entrena y evalúa el árbol\n",
        "entrenar_modelo_y_predecir(modelo_RF_casas, \n",
        "                           X_CA_train, X_CA_test, y_CA_train, y_CA_test)"
      ],
      "execution_count": 71,
      "outputs": [
        {
          "output_type": "stream",
          "text": [
            "RMSE en set de entrenamiento : 50452.29\n",
            "RMSE en set de test : 134436.5\n",
            "Degradación: 166.46%\n"
          ],
          "name": "stdout"
        }
      ]
    },
    {
      "cell_type": "code",
      "metadata": {
        "colab": {
          "base_uri": "https://localhost:8080/"
        },
        "id": "cl_7jDdgL2Jz",
        "outputId": "b1e4ee01-278d-4cbd-d84b-c9e174559e0b"
      },
      "source": [
        "# Define el modelo de Random Forest\n",
        "modelo_RF_casas = ensemble.RandomForestRegressor(\n",
        "    n_estimators = 200)\n",
        "\n",
        "# Entrena y evalúa el árbol\n",
        "entrenar_modelo_y_predecir(modelo_RF_casas, \n",
        "                           X_CA_train, X_CA_test, y_CA_train, y_CA_test)"
      ],
      "execution_count": 83,
      "outputs": [
        {
          "output_type": "stream",
          "text": [
            "RMSE en set de entrenamiento : 49127.07\n",
            "RMSE en set de test : 133973.16\n",
            "Degradación: 172.71%\n"
          ],
          "name": "stdout"
        }
      ]
    },
    {
      "cell_type": "code",
      "metadata": {
        "id": "oe0jYTh4-501",
        "outputId": "64b7ba5e-ea1b-4148-e2fd-1cad0c3b9ef5",
        "colab": {
          "base_uri": "https://localhost:8080/"
        }
      },
      "source": [
        "# Define el modelo de Random Forest\n",
        "modelo_RF_casas = ensemble.RandomForestRegressor(\n",
        "    n_estimators = 200,\n",
        "    max_features = \"auto\",\n",
        "    max_depth = 12, \n",
        "    min_samples_split = 10,\n",
        "    min_samples_leaf = 5)\n",
        "\n",
        "# Entrena y evalúa el árbol\n",
        "entrenar_modelo_y_predecir(modelo_RF_casas, \n",
        "                           X_CA_train, X_CA_test, y_CA_train, y_CA_test)"
      ],
      "execution_count": 85,
      "outputs": [
        {
          "output_type": "stream",
          "text": [
            "RMSE en set de entrenamiento : 102003.61\n",
            "RMSE en set de test : 138451.3\n",
            "Degradación: 35.73%\n"
          ],
          "name": "stdout"
        }
      ]
    },
    {
      "cell_type": "markdown",
      "metadata": {
        "id": "Onb8PxWAUmfO"
      },
      "source": [
        "# 06 Gradient Boosting\n",
        "Documentación: https://scikit-learn.org/stable/modules/generated/sklearn.ensemble.GradientBoostingRegressor.html."
      ]
    },
    {
      "cell_type": "markdown",
      "metadata": {
        "id": "rSn-k5k4Rnyv"
      },
      "source": [
        "## 0601 COCHES"
      ]
    },
    {
      "cell_type": "code",
      "metadata": {
        "colab": {
          "base_uri": "https://localhost:8080/"
        },
        "id": "oGL59gYTQ-WN",
        "outputId": "8100fb52-09c3-43be-f286-5e973ddac2b0"
      },
      "source": [
        "modelo_GB_coches = ensemble.GradientBoostingRegressor(\n",
        "    n_estimators = 100, \n",
        "    learning_rate = 0.1)\n",
        "\n",
        "# Entrenamos y predecimos con dicho modelo\n",
        "entrenar_modelo_y_predecir(modelo_GB_coches, \n",
        "                           X_CO_train, X_CO_test, y_CO_train, y_CO_test)"
      ],
      "execution_count": null,
      "outputs": [
        {
          "output_type": "stream",
          "text": [
            "RMSE en set de entrenamiento : 5354.16\n",
            "RMSE en set de test : 5310.02\n",
            "Degradación: -0.82%\n"
          ],
          "name": "stdout"
        }
      ]
    },
    {
      "cell_type": "code",
      "metadata": {
        "colab": {
          "base_uri": "https://localhost:8080/"
        },
        "id": "cL8kCPVnUdWB",
        "outputId": "f8adefa8-c29c-4975-89f4-1f6338687252"
      },
      "source": [
        "modelo_GB_coches = ensemble.GradientBoostingRegressor(\n",
        "    n_estimators = 200, \n",
        "    learning_rate = 0.01,\n",
        "    max_depth = 8, \n",
        "    min_samples_split = 10,\n",
        "    min_samples_leaf = 5)\n",
        "\n",
        "# Entrenamos y predecimos con dicho modelo\n",
        "entrenar_modelo_y_predecir(modelo_GB_coches, \n",
        "                           X_CO_train, X_CO_test, y_CO_train, y_CO_test)"
      ],
      "execution_count": null,
      "outputs": [
        {
          "output_type": "stream",
          "text": [
            "RMSE en set de entrenamiento : 5969.58\n",
            "RMSE en set de test : 5562.9\n",
            "Degradación: -6.81%\n"
          ],
          "name": "stdout"
        }
      ]
    },
    {
      "cell_type": "code",
      "metadata": {
        "colab": {
          "base_uri": "https://localhost:8080/"
        },
        "id": "mVs_5Af_fc8R",
        "outputId": "bc62b314-fc6b-4a08-f357-63327514e5d0"
      },
      "source": [
        "modelo_GB_coches = ensemble.GradientBoostingRegressor(\n",
        "    n_estimators = 200, \n",
        "    learning_rate = 0.01,\n",
        "    max_depth = 10, \n",
        "    min_samples_split = 10,\n",
        "    min_samples_leaf = 5)\n",
        "\n",
        "# Entrenamos y predecimos con dicho modelo\n",
        "entrenar_modelo_y_predecir(modelo_GB_coches, \n",
        "                           X_CO_train, X_CO_test, y_CO_train, y_CO_test)"
      ],
      "execution_count": null,
      "outputs": [
        {
          "output_type": "stream",
          "text": [
            "RMSE en set de entrenamiento : 5681.75\n",
            "RMSE en set de test : 5347.05\n",
            "Degradación: -5.89%\n"
          ],
          "name": "stdout"
        }
      ]
    },
    {
      "cell_type": "markdown",
      "metadata": {
        "id": "yZnfNmM2RvCs"
      },
      "source": [
        "## 0602 CASAS"
      ]
    },
    {
      "cell_type": "code",
      "metadata": {
        "colab": {
          "base_uri": "https://localhost:8080/"
        },
        "id": "5sLDn5QvRxVS",
        "outputId": "f71b7630-8764-41bf-c412-527d43b50727"
      },
      "source": [
        "modelo_GB_casas = ensemble.GradientBoostingRegressor(\n",
        "    n_estimators = 100, \n",
        "    learning_rate = 0.1)\n",
        "\n",
        "# Entrena y evalúa el árbol\n",
        "entrenar_modelo_y_predecir(modelo_GB_casas, \n",
        "                           X_CA_train, X_CA_test, y_CA_train, y_CA_test)"
      ],
      "execution_count": 86,
      "outputs": [
        {
          "output_type": "stream",
          "text": [
            "RMSE en set de entrenamiento : 109816.3\n",
            "RMSE en set de test : 129196.92\n",
            "Degradación: 17.65%\n"
          ],
          "name": "stdout"
        }
      ]
    },
    {
      "cell_type": "code",
      "metadata": {
        "colab": {
          "base_uri": "https://localhost:8080/"
        },
        "id": "ULX3ZufaR6lr",
        "outputId": "5a78cefe-0b58-4199-c920-db7da8ced0b6"
      },
      "source": [
        "modelo_GB_casas = ensemble.GradientBoostingRegressor(\n",
        "    n_estimators = 200, \n",
        "    learning_rate = 0.01)\n",
        "\n",
        "# Entrena y evalúa el árbol\n",
        "entrenar_modelo_y_predecir(modelo_GB_casas, \n",
        "                           X_CA_train, X_CA_test, y_CA_train, y_CA_test)"
      ],
      "execution_count": 90,
      "outputs": [
        {
          "output_type": "stream",
          "text": [
            "RMSE en set de entrenamiento : 174050.54\n",
            "RMSE en set de test : 182133.61\n",
            "Degradación: 4.64%\n"
          ],
          "name": "stdout"
        }
      ]
    },
    {
      "cell_type": "code",
      "metadata": {
        "colab": {
          "base_uri": "https://localhost:8080/"
        },
        "id": "uxJaoFacsDAA",
        "outputId": "3458aebf-2986-4e36-a2d6-12a81cd6a7e1"
      },
      "source": [
        "modelo_GB_casas = ensemble.GradientBoostingRegressor(\n",
        "    n_estimators = 250, \n",
        "    learning_rate = 0.015)\n",
        "\n",
        "# Entrena y evalúa el árbol\n",
        "entrenar_modelo_y_predecir(modelo_GB_casas, \n",
        "                           X_CA_train, X_CA_test, y_CA_train, y_CA_test)"
      ],
      "execution_count": 91,
      "outputs": [
        {
          "output_type": "stream",
          "text": [
            "RMSE en set de entrenamiento : 138046.08\n",
            "RMSE en set de test : 149691.33\n",
            "Degradación: 8.44%\n"
          ],
          "name": "stdout"
        }
      ]
    },
    {
      "cell_type": "code",
      "metadata": {
        "id": "_phmgUFhDF3r",
        "outputId": "99ecfc08-5d6e-41cf-e31f-e96a0203234c",
        "colab": {
          "base_uri": "https://localhost:8080/"
        }
      },
      "source": [
        "modelo_GB_casas = ensemble.GradientBoostingRegressor(\n",
        "    n_estimators = 250, \n",
        "    learning_rate = 0.01, \n",
        "    max_depth = 10)\n",
        "\n",
        "# Entrena y evalúa el árbol\n",
        "entrenar_modelo_y_predecir(modelo_GB_casas, \n",
        "                           X_CA_train, X_CA_test, y_CA_train, y_CA_test)"
      ],
      "execution_count": 97,
      "outputs": [
        {
          "output_type": "stream",
          "text": [
            "RMSE en set de entrenamiento : 57939.48\n",
            "RMSE en set de test : 149854.05\n",
            "Degradación: 158.64%\n"
          ],
          "name": "stdout"
        }
      ]
    },
    {
      "cell_type": "code",
      "metadata": {
        "colab": {
          "base_uri": "https://localhost:8080/"
        },
        "id": "BhH1AxUFu6Jt",
        "outputId": "b6c4669c-cd6d-4f3a-b7f7-04b43ad3a965"
      },
      "source": [
        "modelo_GB_casas = ensemble.GradientBoostingRegressor(\n",
        "    n_estimators = 250, \n",
        "    learning_rate = 0.015,\n",
        "    max_depth = 10, \n",
        "    min_samples_split = 15)\n",
        "\n",
        "# Entrena y evalúa el árbol\n",
        "entrenar_modelo_y_predecir(modelo_GB_casas, \n",
        "                           X_CA_train, X_CA_test, y_CA_train, y_CA_test)"
      ],
      "execution_count": null,
      "outputs": [
        {
          "output_type": "stream",
          "text": [
            "RMSE en set de entrenamiento : 3407.95\n",
            "RMSE en set de test : 4681.0\n",
            "Degradación: 37.36%\n"
          ],
          "name": "stdout"
        }
      ]
    },
    {
      "cell_type": "markdown",
      "metadata": {
        "id": "WpaJmcSVHAM7"
      },
      "source": [
        "# 07 ADABoost\n",
        "Parámetros: https://scikit-learn.org/stable/modules/generated/sklearn.ensemble.AdaBoostRegressor.html"
      ]
    },
    {
      "cell_type": "markdown",
      "metadata": {
        "id": "DAhWeafnVfI9"
      },
      "source": [
        "## 0701 COCHES"
      ]
    },
    {
      "cell_type": "code",
      "metadata": {
        "id": "rhnqNVDWG1C_",
        "colab": {
          "base_uri": "https://localhost:8080/"
        },
        "outputId": "e8c88cdf-020a-424e-dab7-2cad3bc11703"
      },
      "source": [
        "modelo_ADA_coches = ensemble.AdaBoostRegressor()\n",
        "\n",
        "# Entrenamos y predecimos con dicho modelo\n",
        "entrenar_modelo_y_predecir(modelo_ADA_coches, \n",
        "                           X_CO_train, X_CO_test, y_CO_train, y_CO_test)"
      ],
      "execution_count": null,
      "outputs": [
        {
          "output_type": "stream",
          "text": [
            "RMSE en set de entrenamiento : 12053.47\n",
            "RMSE en set de test : 12224.13\n",
            "Degradación: 1.42%\n"
          ],
          "name": "stdout"
        }
      ]
    },
    {
      "cell_type": "code",
      "metadata": {
        "id": "-JWw-xkLZLW4",
        "colab": {
          "base_uri": "https://localhost:8080/"
        },
        "outputId": "def29ee4-c0da-4fa2-c070-99e6d4ddfa8f"
      },
      "source": [
        "modelo_ADA_coches = ensemble.AdaBoostRegressor(\n",
        "    n_estimators = 1000\n",
        ")\n",
        "\n",
        "# Entrenamos y predecimos con dicho modelo\n",
        "entrenar_modelo_y_predecir(modelo_ADA_coches, \n",
        "                           X_CO_train, X_CO_test, y_CO_train, y_CO_test)"
      ],
      "execution_count": null,
      "outputs": [
        {
          "output_type": "stream",
          "text": [
            "RMSE en set de entrenamiento : 41620.33\n",
            "RMSE en set de test : 41666.23\n",
            "Degradación: 0.11%\n"
          ],
          "name": "stdout"
        }
      ]
    },
    {
      "cell_type": "code",
      "metadata": {
        "id": "VwvJ1cpmbhPR",
        "colab": {
          "base_uri": "https://localhost:8080/"
        },
        "outputId": "a9811b6c-a2d6-41be-c433-50f2178a346c"
      },
      "source": [
        "modelo_ADA_coches = ensemble.AdaBoostRegressor(\n",
        "    n_estimators = 10000\n",
        ")\n",
        "\n",
        "# Entrenamos y predecimos con dicho modelo\n",
        "entrenar_modelo_y_predecir(modelo_ADA_coches, \n",
        "                           X_CO_train, X_CO_test, y_CO_train, y_CO_test)"
      ],
      "execution_count": null,
      "outputs": [
        {
          "output_type": "stream",
          "text": [
            "RMSE en set de entrenamiento : 43484.82\n",
            "RMSE en set de test : 43546.08\n",
            "Degradación: 0.14%\n"
          ],
          "name": "stdout"
        }
      ]
    },
    {
      "cell_type": "markdown",
      "metadata": {
        "id": "cvEqEsUeVmmA"
      },
      "source": [
        "## 0702 CASAS"
      ]
    },
    {
      "cell_type": "code",
      "metadata": {
        "id": "XS5nPqITVoQn",
        "colab": {
          "base_uri": "https://localhost:8080/"
        },
        "outputId": "8fade303-e2ce-4d04-bd4d-91a475c6513e"
      },
      "source": [
        "modelo_ADA_casas = ensemble.AdaBoostRegressor()\n",
        "\n",
        "# Entrenamos y predecimos con dicho modelo\n",
        "entrenar_modelo_y_predecir(modelo_ADA_casas, \n",
        "                           X_CA_train, X_CA_test, y_CA_train, y_CA_test)"
      ],
      "execution_count": 98,
      "outputs": [
        {
          "output_type": "stream",
          "text": [
            "RMSE en set de entrenamiento : 327728.4\n",
            "RMSE en set de test : 337053.88\n",
            "Degradación: 2.85%\n"
          ],
          "name": "stdout"
        }
      ]
    },
    {
      "cell_type": "code",
      "metadata": {
        "id": "ZOUgHSu6atPJ",
        "colab": {
          "base_uri": "https://localhost:8080/"
        },
        "outputId": "41017796-5e78-4207-fa3e-e2a9a7de9845"
      },
      "source": [
        "modelo_ADA_casas = ensemble.AdaBoostRegressor(\n",
        "    n_estimators = 1000\n",
        ")\n",
        "\n",
        "# Entrenamos y predecimos con dicho modelo\n",
        "entrenar_modelo_y_predecir(modelo_ADA_casas, \n",
        "                           X_CA_train, X_CA_test, y_CA_train, y_CA_test)"
      ],
      "execution_count": 99,
      "outputs": [
        {
          "output_type": "stream",
          "text": [
            "RMSE en set de entrenamiento : 298521.81\n",
            "RMSE en set de test : 309040.52\n",
            "Degradación: 3.52%\n"
          ],
          "name": "stdout"
        }
      ]
    },
    {
      "cell_type": "code",
      "metadata": {
        "id": "Omzs3Ge7bEgW",
        "colab": {
          "base_uri": "https://localhost:8080/"
        },
        "outputId": "882db87f-2b55-4448-a44b-9bfb7ec6a1d4"
      },
      "source": [
        "modelo_ADA_casas = ensemble.AdaBoostRegressor(\n",
        "    n_estimators = 10000\n",
        ")\n",
        "\n",
        "# Entrenamos y predecimos con dicho modelo\n",
        "entrenar_modelo_y_predecir(modelo_ADA_casas, \n",
        "                           X_CA_train, X_CA_test, y_CA_train, y_CA_test)"
      ],
      "execution_count": 100,
      "outputs": [
        {
          "output_type": "stream",
          "text": [
            "RMSE en set de entrenamiento : 347807.85\n",
            "RMSE en set de test : 357235.84\n",
            "Degradación: 2.71%\n"
          ],
          "name": "stdout"
        }
      ]
    },
    {
      "cell_type": "markdown",
      "metadata": {
        "id": "rqxFmI3_TBKY"
      },
      "source": [
        "# 08 XGBoost\n",
        "Definición de los parámetros: https://xgboost.readthedocs.io/en/latest/parameter.html."
      ]
    },
    {
      "cell_type": "code",
      "metadata": {
        "id": "UtOaE8-gUFtj"
      },
      "source": [
        "from xgboost import XGBRegressor"
      ],
      "execution_count": 101,
      "outputs": []
    },
    {
      "cell_type": "markdown",
      "metadata": {
        "id": "aDcFbO72THJe"
      },
      "source": [
        "## 0801 COCHES"
      ]
    },
    {
      "cell_type": "code",
      "metadata": {
        "colab": {
          "base_uri": "https://localhost:8080/"
        },
        "id": "XW26RDmrTFgo",
        "outputId": "21f12637-15ce-46a6-edd5-230117d9ca28"
      },
      "source": [
        "modelo_XGB_coches = XGBRegressor()\n",
        "\n",
        "# Entrenamos y predecimos con dicho modelo\n",
        "entrenar_modelo_y_predecir(modelo_XGB_coches, \n",
        "                           X_CO_train, X_CO_test, y_CO_train, y_CO_test)"
      ],
      "execution_count": null,
      "outputs": [
        {
          "output_type": "stream",
          "text": [
            "[19:54:47] WARNING: /workspace/src/objective/regression_obj.cu:152: reg:linear is now deprecated in favor of reg:squarederror.\n",
            "RMSE en set de entrenamiento : 5639.9\n",
            "RMSE en set de test : 5438.39\n",
            "Degradación: -3.57%\n"
          ],
          "name": "stdout"
        }
      ]
    },
    {
      "cell_type": "code",
      "metadata": {
        "colab": {
          "base_uri": "https://localhost:8080/"
        },
        "id": "GOCznUtJ6JtJ",
        "outputId": "9fd4d274-c4af-45b3-d360-848538b08cb6"
      },
      "source": [
        "modelo_XGB_coches = XGBRegressor(\n",
        "    max_depth=10)\n",
        "\n",
        "# Entrenamos y predecimos con dicho modelo\n",
        "entrenar_modelo_y_predecir(modelo_XGB_coches, \n",
        "                           X_CO_train, X_CO_test, y_CO_train, y_CO_test)"
      ],
      "execution_count": null,
      "outputs": [
        {
          "output_type": "stream",
          "text": [
            "[19:58:21] WARNING: /workspace/src/objective/regression_obj.cu:152: reg:linear is now deprecated in favor of reg:squarederror.\n",
            "RMSE en set de entrenamiento : 2637.39\n",
            "RMSE en set de test : 4623.74\n",
            "Degradación: 75.31%\n"
          ],
          "name": "stdout"
        }
      ]
    },
    {
      "cell_type": "code",
      "metadata": {
        "colab": {
          "base_uri": "https://localhost:8080/"
        },
        "id": "QrJD21iN7AUm",
        "outputId": "edc8f0d2-dedb-4527-f597-f69785e868c5"
      },
      "source": [
        "modelo_XGB_coches = XGBRegressor(\n",
        "    max_depth=10,\n",
        "    reg_lambda=5)\n",
        "\n",
        "# Entrenamos y predecimos con dicho modelo\n",
        "entrenar_modelo_y_predecir(modelo_XGB_coches, \n",
        "                           X_CO_train, X_CO_test, y_CO_train, y_CO_test)"
      ],
      "execution_count": null,
      "outputs": [
        {
          "output_type": "stream",
          "text": [
            "[20:02:18] WARNING: /workspace/src/objective/regression_obj.cu:152: reg:linear is now deprecated in favor of reg:squarederror.\n",
            "RMSE en set de entrenamiento : 3295.1\n",
            "RMSE en set de test : 4620.74\n",
            "Degradación: 40.23%\n"
          ],
          "name": "stdout"
        }
      ]
    },
    {
      "cell_type": "code",
      "metadata": {
        "colab": {
          "base_uri": "https://localhost:8080/"
        },
        "id": "9WdZcKWV7ik7",
        "outputId": "9d2e59d9-ff6f-43cd-f503-a0de4ca3af46"
      },
      "source": [
        "modelo_XGB_coches = XGBRegressor(\n",
        "    max_depth=10,\n",
        "    reg_lambda=7)\n",
        "\n",
        "# Entrenamos y predecimos con dicho modelo\n",
        "entrenar_modelo_y_predecir(modelo_XGB_coches, \n",
        "                           X_CO_train, X_CO_test, y_CO_train, y_CO_test)"
      ],
      "execution_count": null,
      "outputs": [
        {
          "output_type": "stream",
          "text": [
            "[12:59:11] WARNING: /workspace/src/objective/regression_obj.cu:152: reg:linear is now deprecated in favor of reg:squarederror.\n",
            "RMSE en set de entrenamiento : 3591.22\n",
            "RMSE en set de test : 4633.51\n",
            "Degradación: 29.02%\n"
          ],
          "name": "stdout"
        }
      ]
    },
    {
      "cell_type": "markdown",
      "metadata": {
        "id": "B6Do1PQNTJnb"
      },
      "source": [
        "## 0802 CASAS"
      ]
    },
    {
      "cell_type": "code",
      "metadata": {
        "colab": {
          "base_uri": "https://localhost:8080/"
        },
        "id": "DDTvTFYuTMcT",
        "outputId": "33c1c520-a8fd-4d43-e272-a35e28d335cc"
      },
      "source": [
        "# Menos overfitting y menos rendimiento\n",
        "modelo_XGB_casas = XGBRegressor(\n",
        "    max_depth=3, \n",
        "    learning_rate=0.1)\n",
        "\n",
        "# Entrenamos y predecimos con dicho modelo\n",
        "entrenar_modelo_y_predecir(modelo_XGB_casas, \n",
        "                           X_CA_train, X_CA_test, y_CA_train, y_CA_test)"
      ],
      "execution_count": 116,
      "outputs": [
        {
          "output_type": "stream",
          "text": [
            "[11:00:39] WARNING: /workspace/src/objective/regression_obj.cu:152: reg:linear is now deprecated in favor of reg:squarederror.\n",
            "RMSE en set de entrenamiento : 110876.57\n",
            "RMSE en set de test : 125660.01\n",
            "Degradación: 13.33%\n"
          ],
          "name": "stdout"
        }
      ]
    },
    {
      "cell_type": "code",
      "metadata": {
        "colab": {
          "base_uri": "https://localhost:8080/"
        },
        "id": "xaOdIsXA9Zzo",
        "outputId": "556ddd64-6512-433e-e04a-614439979bcb"
      },
      "source": [
        "# Más overfitting y más rendimiento\n",
        "modelo_XGB_casas = XGBRegressor(\n",
        "    n_estimators=125,\n",
        "    max_depth=4, \n",
        "    learning_rate=0.075)\n",
        "\n",
        "# Entrenamos y predecimos con dicho modelo\n",
        "entrenar_modelo_y_predecir(modelo_XGB_casas, \n",
        "                           X_CA_train, X_CA_test, y_CA_train, y_CA_test)"
      ],
      "execution_count": 136,
      "outputs": [
        {
          "output_type": "stream",
          "text": [
            "[11:04:20] WARNING: /workspace/src/objective/regression_obj.cu:152: reg:linear is now deprecated in favor of reg:squarederror.\n",
            "RMSE en set de entrenamiento : 96633.39\n",
            "RMSE en set de test : 119281.9\n",
            "Degradación: 23.44%\n"
          ],
          "name": "stdout"
        }
      ]
    },
    {
      "cell_type": "markdown",
      "metadata": {
        "id": "uAM-ETaKYyg0"
      },
      "source": [
        "# 09 Stacking\n",
        "Hay maneras de automatizar la creación de modelos con stacking. Por ahora no vamos a centrarnos en eso sino en la lógica detrás del stacking, por lo que realizaremos modelos de stacking a mano paso a paso.\n",
        "\n",
        "- 1 Entrenar varios modelos de manera independiente (es lo que hemos venido haciendo en secciones anteriores)\n",
        "- 2 Realizar predicciones con los distintos modelos\n",
        "- 3 Entrenar un nuevo modelo que use las predicciones de los anteriores como variables"
      ]
    },
    {
      "cell_type": "markdown",
      "metadata": {
        "id": "uZ8A-05Fb8ET"
      },
      "source": [
        "## 0901 COCHES"
      ]
    },
    {
      "cell_type": "markdown",
      "metadata": {
        "id": "8yinxRvAcEPh"
      },
      "source": [
        "### 090101 Predicción con modelos anteriores"
      ]
    },
    {
      "cell_type": "code",
      "metadata": {
        "colab": {
          "base_uri": "https://localhost:8080/",
          "height": 289
        },
        "id": "v0PHGrWzcCtk",
        "outputId": "8b45af6d-b906-4305-f872-4643517c43b0"
      },
      "source": [
        "diccionario_modelos = {\n",
        "    'arbol': modelo_arbol_coches,\n",
        "    'Random Forest': modelo_RF_coches,\n",
        "    'Gradient Boosting': modelo_GB_coches,\n",
        "    'ADABoost': modelo_ADA_coches, \n",
        "    'XGBoost': modelo_XGB_coches\n",
        "} \n",
        "\n",
        "X_STACKING_train_coches = pd.DataFrame()\n",
        "X_STACKING_test_coches = pd.DataFrame()\n",
        "\n",
        "for modelo in diccionario_modelos.keys():\n",
        "  print(modelo)\n",
        "  X_STACKING_train_coches[modelo] = diccionario_modelos[modelo].predict(X_CO_train) \n",
        "  X_STACKING_test_coches[modelo] = diccionario_modelos[modelo].predict(X_CO_test) \n",
        "\n",
        "X_STACKING_train_coches.head()"
      ],
      "execution_count": null,
      "outputs": [
        {
          "output_type": "stream",
          "text": [
            "arbol\n",
            "Random Forest\n",
            "Gradient Boosting\n",
            "ADABoost\n",
            "XGBoost\n"
          ],
          "name": "stdout"
        },
        {
          "output_type": "execute_result",
          "data": {
            "text/html": [
              "<div>\n",
              "<style scoped>\n",
              "    .dataframe tbody tr th:only-of-type {\n",
              "        vertical-align: middle;\n",
              "    }\n",
              "\n",
              "    .dataframe tbody tr th {\n",
              "        vertical-align: top;\n",
              "    }\n",
              "\n",
              "    .dataframe thead th {\n",
              "        text-align: right;\n",
              "    }\n",
              "</style>\n",
              "<table border=\"1\" class=\"dataframe\">\n",
              "  <thead>\n",
              "    <tr style=\"text-align: right;\">\n",
              "      <th></th>\n",
              "      <th>arbol</th>\n",
              "      <th>Random Forest</th>\n",
              "      <th>Gradient Boosting</th>\n",
              "      <th>ADABoost</th>\n",
              "      <th>XGBoost</th>\n",
              "    </tr>\n",
              "  </thead>\n",
              "  <tbody>\n",
              "    <tr>\n",
              "      <th>0</th>\n",
              "      <td>27150.000000</td>\n",
              "      <td>27537.983208</td>\n",
              "      <td>27723.261091</td>\n",
              "      <td>67127.464323</td>\n",
              "      <td>29834.361328</td>\n",
              "    </tr>\n",
              "    <tr>\n",
              "      <th>1</th>\n",
              "      <td>32649.000000</td>\n",
              "      <td>32109.091339</td>\n",
              "      <td>27178.017243</td>\n",
              "      <td>67127.464323</td>\n",
              "      <td>29372.777344</td>\n",
              "    </tr>\n",
              "    <tr>\n",
              "      <th>2</th>\n",
              "      <td>5284.642857</td>\n",
              "      <td>5906.929187</td>\n",
              "      <td>7797.255245</td>\n",
              "      <td>59273.355295</td>\n",
              "      <td>6347.126953</td>\n",
              "    </tr>\n",
              "    <tr>\n",
              "      <th>3</th>\n",
              "      <td>8366.666667</td>\n",
              "      <td>7878.168543</td>\n",
              "      <td>8874.329912</td>\n",
              "      <td>59997.954888</td>\n",
              "      <td>7577.419434</td>\n",
              "    </tr>\n",
              "    <tr>\n",
              "      <th>4</th>\n",
              "      <td>34333.333333</td>\n",
              "      <td>34839.783995</td>\n",
              "      <td>32072.766002</td>\n",
              "      <td>67127.464323</td>\n",
              "      <td>34385.457031</td>\n",
              "    </tr>\n",
              "  </tbody>\n",
              "</table>\n",
              "</div>"
            ],
            "text/plain": [
              "          arbol  Random Forest  Gradient Boosting      ADABoost       XGBoost\n",
              "0  27150.000000   27537.983208       27723.261091  67127.464323  29834.361328\n",
              "1  32649.000000   32109.091339       27178.017243  67127.464323  29372.777344\n",
              "2   5284.642857    5906.929187        7797.255245  59273.355295   6347.126953\n",
              "3   8366.666667    7878.168543        8874.329912  59997.954888   7577.419434\n",
              "4  34333.333333   34839.783995       32072.766002  67127.464323  34385.457031"
            ]
          },
          "metadata": {
            "tags": []
          },
          "execution_count": 73
        }
      ]
    },
    {
      "cell_type": "markdown",
      "metadata": {
        "id": "Giz-e6t1cKxd"
      },
      "source": [
        "### 090102 Entrenamiento y predicción de metamodelo"
      ]
    },
    {
      "cell_type": "code",
      "metadata": {
        "id": "zA1iAzlqcSrw"
      },
      "source": [
        "from sklearn.linear_model import LinearRegression"
      ],
      "execution_count": null,
      "outputs": []
    },
    {
      "cell_type": "code",
      "metadata": {
        "id": "WTT4lcFjf8Nz",
        "colab": {
          "base_uri": "https://localhost:8080/"
        },
        "outputId": "28539f9f-ecaf-4dc2-fd35-9d70761f2c83"
      },
      "source": [
        "metamodelo_coches = LinearRegression()\n",
        "\n",
        "# Entrenamos y predecimos con dicho modelo\n",
        "entrenar_modelo_y_predecir(metamodelo_coches, \n",
        "                           X_STACKING_train_coches, X_STACKING_test_coches, y_CO_train, y_CO_test)"
      ],
      "execution_count": null,
      "outputs": [
        {
          "output_type": "stream",
          "text": [
            "RMSE en set de entrenamiento : 2977.49\n",
            "RMSE en set de test : 4672.56\n",
            "Degradación: 56.93%\n"
          ],
          "name": "stdout"
        }
      ]
    },
    {
      "cell_type": "code",
      "metadata": {
        "id": "YnMFRos7igJD",
        "colab": {
          "base_uri": "https://localhost:8080/"
        },
        "outputId": "bda64317-8ee3-4dd6-d27e-bae0203402c4"
      },
      "source": [
        "metamodelo_coches = tree.DecisionTreeRegressor(\n",
        "    max_depth=5)\n",
        "\n",
        "# Entrenamos y predecimos con dicho modelo\n",
        "entrenar_modelo_y_predecir(metamodelo_coches, \n",
        "                           X_STACKING_train_coches, X_STACKING_test_coches, y_CO_train, y_CO_test)"
      ],
      "execution_count": null,
      "outputs": [
        {
          "output_type": "stream",
          "text": [
            "RMSE en set de entrenamiento : 2498.3\n",
            "RMSE en set de test : 5144.79\n",
            "Degradación: 105.93%\n"
          ],
          "name": "stdout"
        }
      ]
    },
    {
      "cell_type": "markdown",
      "metadata": {
        "id": "kXRw6G-zb-5X"
      },
      "source": [
        "## 0902 CASAS"
      ]
    },
    {
      "cell_type": "markdown",
      "metadata": {
        "id": "mDUiYPh5fZQP"
      },
      "source": [
        "### 090201 Predicción con modelos anteriores"
      ]
    },
    {
      "cell_type": "code",
      "metadata": {
        "id": "5OShjLeHfZQP",
        "colab": {
          "base_uri": "https://localhost:8080/",
          "height": 289
        },
        "outputId": "6eba41a5-190d-45ef-d83d-83722671f7b6"
      },
      "source": [
        "diccionario_modelos = {\n",
        "    'arbol': modelo_arbol_casas,\n",
        "    'Random Forest': modelo_RF_casas,\n",
        "    'Gradient Boosting': modelo_GB_casas,\n",
        "    'ADABoost': modelo_ADA_casas, \n",
        "    'XGBoost': modelo_XGB_casas\n",
        "} \n",
        "\n",
        "X_STACKING_train_casas = pd.DataFrame()\n",
        "X_STACKING_test_casas = pd.DataFrame()\n",
        "\n",
        "for modelo in diccionario_modelos.keys():\n",
        "  print(modelo)\n",
        "  X_STACKING_train_casas[modelo] = diccionario_modelos[modelo].predict(X_CA_train) \n",
        "  X_STACKING_test_casas[modelo] = diccionario_modelos[modelo].predict(X_CA_test) \n",
        "\n",
        "X_STACKING_train_casas.head()"
      ],
      "execution_count": null,
      "outputs": [
        {
          "output_type": "stream",
          "text": [
            "arbol\n",
            "Random Forest\n",
            "Gradient Boosting\n",
            "ADABoost\n",
            "XGBoost\n"
          ],
          "name": "stdout"
        },
        {
          "output_type": "execute_result",
          "data": {
            "text/html": [
              "<div>\n",
              "<style scoped>\n",
              "    .dataframe tbody tr th:only-of-type {\n",
              "        vertical-align: middle;\n",
              "    }\n",
              "\n",
              "    .dataframe tbody tr th {\n",
              "        vertical-align: top;\n",
              "    }\n",
              "\n",
              "    .dataframe thead th {\n",
              "        text-align: right;\n",
              "    }\n",
              "</style>\n",
              "<table border=\"1\" class=\"dataframe\">\n",
              "  <thead>\n",
              "    <tr style=\"text-align: right;\">\n",
              "      <th></th>\n",
              "      <th>arbol</th>\n",
              "      <th>Random Forest</th>\n",
              "      <th>Gradient Boosting</th>\n",
              "      <th>ADABoost</th>\n",
              "      <th>XGBoost</th>\n",
              "    </tr>\n",
              "  </thead>\n",
              "  <tbody>\n",
              "    <tr>\n",
              "      <th>0</th>\n",
              "      <td>26500.0</td>\n",
              "      <td>28775.123690</td>\n",
              "      <td>28932.182519</td>\n",
              "      <td>29590.932072</td>\n",
              "      <td>30142.574219</td>\n",
              "    </tr>\n",
              "    <tr>\n",
              "      <th>1</th>\n",
              "      <td>32500.0</td>\n",
              "      <td>27462.711836</td>\n",
              "      <td>29457.103342</td>\n",
              "      <td>29590.932072</td>\n",
              "      <td>29741.632812</td>\n",
              "    </tr>\n",
              "    <tr>\n",
              "      <th>2</th>\n",
              "      <td>5500.0</td>\n",
              "      <td>7288.466246</td>\n",
              "      <td>6407.275675</td>\n",
              "      <td>22165.789502</td>\n",
              "      <td>6310.621094</td>\n",
              "    </tr>\n",
              "    <tr>\n",
              "      <th>3</th>\n",
              "      <td>8200.0</td>\n",
              "      <td>7921.058970</td>\n",
              "      <td>7799.865969</td>\n",
              "      <td>22165.789502</td>\n",
              "      <td>7544.802246</td>\n",
              "    </tr>\n",
              "    <tr>\n",
              "      <th>4</th>\n",
              "      <td>33850.0</td>\n",
              "      <td>36361.984360</td>\n",
              "      <td>33906.518041</td>\n",
              "      <td>29590.932072</td>\n",
              "      <td>35127.753906</td>\n",
              "    </tr>\n",
              "  </tbody>\n",
              "</table>\n",
              "</div>"
            ],
            "text/plain": [
              "     arbol  Random Forest  Gradient Boosting      ADABoost       XGBoost\n",
              "0  26500.0   28775.123690       28932.182519  29590.932072  30142.574219\n",
              "1  32500.0   27462.711836       29457.103342  29590.932072  29741.632812\n",
              "2   5500.0    7288.466246        6407.275675  22165.789502   6310.621094\n",
              "3   8200.0    7921.058970        7799.865969  22165.789502   7544.802246\n",
              "4  33850.0   36361.984360       33906.518041  29590.932072  35127.753906"
            ]
          },
          "metadata": {
            "tags": []
          },
          "execution_count": 66
        }
      ]
    },
    {
      "cell_type": "markdown",
      "metadata": {
        "id": "BzoEwAmQfZQP"
      },
      "source": [
        "### 090202 Entrenamiento y predicción de metamodelo"
      ]
    },
    {
      "cell_type": "code",
      "metadata": {
        "id": "sUvlXg0FfZQP",
        "colab": {
          "base_uri": "https://localhost:8080/"
        },
        "outputId": "dc65b716-94ab-4d18-85b4-bca1aa70cea1"
      },
      "source": [
        "metamodelo_casas = LinearRegression()\n",
        "\n",
        "# Entrenamos y predecimos con dicho modelo\n",
        "entrenar_modelo_y_predecir(metamodelo_casas, \n",
        "                           X_STACKING_train_casas, X_STACKING_test_casas, y_CA_train, y_CA_test)"
      ],
      "execution_count": null,
      "outputs": [
        {
          "output_type": "stream",
          "text": [
            "RMSE en set de entrenamiento : 375.82\n",
            "RMSE en set de test : 5798.55\n",
            "Degradación: 1442.91%\n"
          ],
          "name": "stdout"
        }
      ]
    },
    {
      "cell_type": "code",
      "metadata": {
        "id": "imbKP0pehmgD",
        "colab": {
          "base_uri": "https://localhost:8080/"
        },
        "outputId": "2ad8f7d4-f5f9-4599-e18b-3c2f574f63ba"
      },
      "source": [
        "metamodelo_casas = tree.DecisionTreeRegressor(\n",
        "    max_depth=5)\n",
        "\n",
        "# Entrenamos y predecimos con dicho modelo\n",
        "entrenar_modelo_y_predecir(metamodelo_casas, \n",
        "                           X_STACKING_train_casas, X_STACKING_test_casas, y_CA_train, y_CA_test)"
      ],
      "execution_count": null,
      "outputs": [
        {
          "output_type": "stream",
          "text": [
            "RMSE en set de entrenamiento : 1130.48\n",
            "RMSE en set de test : 5908.05\n",
            "Degradación: 422.61%\n"
          ],
          "name": "stdout"
        }
      ]
    },
    {
      "cell_type": "code",
      "metadata": {
        "id": "G1R7yCfWiv8i"
      },
      "source": [
        ""
      ],
      "execution_count": null,
      "outputs": []
    }
  ]
}