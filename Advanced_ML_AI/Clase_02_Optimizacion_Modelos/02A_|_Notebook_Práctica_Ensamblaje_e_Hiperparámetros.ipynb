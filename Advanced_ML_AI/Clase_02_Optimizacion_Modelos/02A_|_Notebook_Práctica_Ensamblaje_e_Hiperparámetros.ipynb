{
  "nbformat": 4,
  "nbformat_minor": 0,
  "metadata": {
    "colab": {
      "name": "02A | Notebook Práctica Ensamblaje e Hiperparámetros.ipynb",
      "provenance": [],
      "toc_visible": true,
      "include_colab_link": true
    },
    "kernelspec": {
      "name": "python3",
      "display_name": "Python 3"
    }
  },
  "cells": [
    {
      "cell_type": "markdown",
      "metadata": {
        "id": "view-in-github",
        "colab_type": "text"
      },
      "source": [
        "<a href=\"https://colab.research.google.com/github/JotaBlanco/TheValley/blob/main/Advanced_ML_AI/Clase_02_Optimizacion_Modelos/02A_%7C_Notebook_Pr%C3%A1ctica_Ensamblaje_e_Hiperpar%C3%A1metros.ipynb\" target=\"_parent\"><img src=\"https://colab.research.google.com/assets/colab-badge.svg\" alt=\"Open In Colab\"/></a>"
      ]
    },
    {
      "cell_type": "markdown",
      "metadata": {
        "id": "_mo1-Qxt1OAp"
      },
      "source": [
        "# 01 INTRODUCCIÓN\n",
        "En este Notebook trataremos dos ejercicios como modo de afianzar los conceptos sobre modelos de ensamblaje de modelos de árbol de decisión y métodos de búsqueda de hiperparámetros.\n",
        "\n",
        "\n",
        "*   EJERCICIO COMPLICACIÓN QUIRÚRGICA\n",
        "*   EJERCICIO CÍTRICOS\n",
        "\n",
        "\n",
        "Notebook por [Javier Blanco Cordero](https://www.linkedin.com/in/javier-blanco-cordero-71373656/).\n",
        "\n",
        "### Enlaces de interés\n",
        "*   [Slides de presentación](https://docs.google.com/presentation/d/1Rzsrt7jqXUUyHNQMq20xaCfQw-YamYdZzYjfJPxZ12Y/edit?usp=sharing)\n",
        "*   [Enlace a este notebook](https://colab.research.google.com/github/JotaBlanco/TheValley/blob/main/Advanced_ML_AI/Clase_02_Optimizacion_Modelos/02A_%7C_Notebook_Pr%C3%A1ctica_Ensamblaje_e_Hiperpar%C3%A1metros.ipynb#scrollTo=cnHRaho3rsXS)\n"
      ]
    },
    {
      "cell_type": "markdown",
      "metadata": {
        "id": "cnHRaho3rsXS"
      },
      "source": [
        "## 0101 Import\n",
        "Puedes importar aquí las librerías que creas que vas a necesitar."
      ]
    },
    {
      "cell_type": "code",
      "metadata": {
        "id": "4be6xiUqjPHI"
      },
      "source": [
        "import pandas as pd\n",
        "import numpy as np\n",
        "import matplotlib.pyplot as plt\n",
        "import seaborn as sns\n",
        "import graphviz\n",
        "\n",
        "from sklearn.model_selection import train_test_split\n",
        "from sklearn.metrics import accuracy_score\n",
        "from sklearn import tree\n",
        "from sklearn import ensemble"
      ],
      "execution_count": null,
      "outputs": []
    },
    {
      "cell_type": "markdown",
      "metadata": {
        "id": "AblkT14d4Gvt"
      },
      "source": [
        "## 0102 Carga el dataset de complicaciones quirúrgicas\n",
        "Aquí teneis el url del archivo raw del dataset sobre si se da o no una complicación en una operación quirúrgica. \n",
        "\n",
        "https://raw.githubusercontent.com/JotaBlanco/TheValley/main/Data/complicacion_quirurgica.csv\n",
        "\n",
        "Importa los datos en un dataframe llamado **dataframe df_operacion**."
      ]
    },
    {
      "cell_type": "code",
      "metadata": {
        "id": "GMZACcIXOclu",
        "colab": {
          "base_uri": "https://localhost:8080/",
          "height": 222
        },
        "outputId": "04832bbd-e23d-4f25-bfa2-f3cb1b437d12"
      },
      "source": [
        "# Url archivo raw\n",
        "url = 'https://raw.githubusercontent.com/JotaBlanco/TheValley/main/Data/complicacion_quirurgica.csv'\n",
        "\n",
        "# Importa csv\n",
        "df_operacion = pd.read_csv(url, sep=',')\n",
        "\n",
        "# Visualización primeras filas\n",
        "df_operacion.head()"
      ],
      "execution_count": null,
      "outputs": [
        {
          "output_type": "execute_result",
          "data": {
            "text/html": [
              "<div>\n",
              "<style scoped>\n",
              "    .dataframe tbody tr th:only-of-type {\n",
              "        vertical-align: middle;\n",
              "    }\n",
              "\n",
              "    .dataframe tbody tr th {\n",
              "        vertical-align: top;\n",
              "    }\n",
              "\n",
              "    .dataframe thead th {\n",
              "        text-align: right;\n",
              "    }\n",
              "</style>\n",
              "<table border=\"1\" class=\"dataframe\">\n",
              "  <thead>\n",
              "    <tr style=\"text-align: right;\">\n",
              "      <th></th>\n",
              "      <th>bmi</th>\n",
              "      <th>Age</th>\n",
              "      <th>asa_status</th>\n",
              "      <th>baseline_cancer</th>\n",
              "      <th>baseline_charlson</th>\n",
              "      <th>baseline_cvd</th>\n",
              "      <th>baseline_dementia</th>\n",
              "      <th>baseline_diabetes</th>\n",
              "      <th>baseline_digestive</th>\n",
              "      <th>baseline_osteoart</th>\n",
              "      <th>baseline_psych</th>\n",
              "      <th>baseline_pulmonary</th>\n",
              "      <th>ahrq_ccs</th>\n",
              "      <th>ccsComplicationRate</th>\n",
              "      <th>ccsMort30Rate</th>\n",
              "      <th>complication_rsi</th>\n",
              "      <th>dow</th>\n",
              "      <th>gender</th>\n",
              "      <th>hour</th>\n",
              "      <th>month</th>\n",
              "      <th>moonphase</th>\n",
              "      <th>mort30</th>\n",
              "      <th>mortality_rsi</th>\n",
              "      <th>race</th>\n",
              "      <th>complication</th>\n",
              "    </tr>\n",
              "  </thead>\n",
              "  <tbody>\n",
              "    <tr>\n",
              "      <th>0</th>\n",
              "      <td>19.31</td>\n",
              "      <td>59.2</td>\n",
              "      <td>1</td>\n",
              "      <td>1</td>\n",
              "      <td>0</td>\n",
              "      <td>0</td>\n",
              "      <td>0</td>\n",
              "      <td>0</td>\n",
              "      <td>0</td>\n",
              "      <td>0</td>\n",
              "      <td>0</td>\n",
              "      <td>0</td>\n",
              "      <td>19</td>\n",
              "      <td>0.183370</td>\n",
              "      <td>0.007424</td>\n",
              "      <td>-0.57</td>\n",
              "      <td>3</td>\n",
              "      <td>0</td>\n",
              "      <td>7.63</td>\n",
              "      <td>6</td>\n",
              "      <td>1</td>\n",
              "      <td>0</td>\n",
              "      <td>-0.43</td>\n",
              "      <td>1</td>\n",
              "      <td>0</td>\n",
              "    </tr>\n",
              "    <tr>\n",
              "      <th>1</th>\n",
              "      <td>18.73</td>\n",
              "      <td>59.1</td>\n",
              "      <td>0</td>\n",
              "      <td>0</td>\n",
              "      <td>0</td>\n",
              "      <td>0</td>\n",
              "      <td>0</td>\n",
              "      <td>0</td>\n",
              "      <td>0</td>\n",
              "      <td>0</td>\n",
              "      <td>0</td>\n",
              "      <td>0</td>\n",
              "      <td>1</td>\n",
              "      <td>0.312029</td>\n",
              "      <td>0.016673</td>\n",
              "      <td>0.21</td>\n",
              "      <td>0</td>\n",
              "      <td>0</td>\n",
              "      <td>12.93</td>\n",
              "      <td>0</td>\n",
              "      <td>1</td>\n",
              "      <td>0</td>\n",
              "      <td>-0.41</td>\n",
              "      <td>1</td>\n",
              "      <td>0</td>\n",
              "    </tr>\n",
              "    <tr>\n",
              "      <th>2</th>\n",
              "      <td>21.85</td>\n",
              "      <td>59.0</td>\n",
              "      <td>0</td>\n",
              "      <td>0</td>\n",
              "      <td>0</td>\n",
              "      <td>0</td>\n",
              "      <td>0</td>\n",
              "      <td>0</td>\n",
              "      <td>0</td>\n",
              "      <td>0</td>\n",
              "      <td>0</td>\n",
              "      <td>0</td>\n",
              "      <td>6</td>\n",
              "      <td>0.150706</td>\n",
              "      <td>0.001962</td>\n",
              "      <td>0.00</td>\n",
              "      <td>2</td>\n",
              "      <td>0</td>\n",
              "      <td>7.68</td>\n",
              "      <td>5</td>\n",
              "      <td>3</td>\n",
              "      <td>0</td>\n",
              "      <td>0.08</td>\n",
              "      <td>1</td>\n",
              "      <td>0</td>\n",
              "    </tr>\n",
              "    <tr>\n",
              "      <th>3</th>\n",
              "      <td>18.49</td>\n",
              "      <td>59.0</td>\n",
              "      <td>1</td>\n",
              "      <td>0</td>\n",
              "      <td>1</td>\n",
              "      <td>0</td>\n",
              "      <td>0</td>\n",
              "      <td>1</td>\n",
              "      <td>1</td>\n",
              "      <td>0</td>\n",
              "      <td>0</td>\n",
              "      <td>0</td>\n",
              "      <td>7</td>\n",
              "      <td>0.056166</td>\n",
              "      <td>0.000000</td>\n",
              "      <td>-0.65</td>\n",
              "      <td>2</td>\n",
              "      <td>1</td>\n",
              "      <td>7.58</td>\n",
              "      <td>4</td>\n",
              "      <td>3</td>\n",
              "      <td>0</td>\n",
              "      <td>-0.32</td>\n",
              "      <td>1</td>\n",
              "      <td>0</td>\n",
              "    </tr>\n",
              "    <tr>\n",
              "      <th>4</th>\n",
              "      <td>19.70</td>\n",
              "      <td>59.0</td>\n",
              "      <td>1</td>\n",
              "      <td>0</td>\n",
              "      <td>0</td>\n",
              "      <td>0</td>\n",
              "      <td>0</td>\n",
              "      <td>0</td>\n",
              "      <td>0</td>\n",
              "      <td>0</td>\n",
              "      <td>0</td>\n",
              "      <td>0</td>\n",
              "      <td>11</td>\n",
              "      <td>0.197305</td>\n",
              "      <td>0.002764</td>\n",
              "      <td>0.00</td>\n",
              "      <td>0</td>\n",
              "      <td>0</td>\n",
              "      <td>7.88</td>\n",
              "      <td>11</td>\n",
              "      <td>0</td>\n",
              "      <td>0</td>\n",
              "      <td>0.00</td>\n",
              "      <td>1</td>\n",
              "      <td>0</td>\n",
              "    </tr>\n",
              "  </tbody>\n",
              "</table>\n",
              "</div>"
            ],
            "text/plain": [
              "     bmi   Age  asa_status  ...  mortality_rsi  race  complication\n",
              "0  19.31  59.2           1  ...          -0.43     1             0\n",
              "1  18.73  59.1           0  ...          -0.41     1             0\n",
              "2  21.85  59.0           0  ...           0.08     1             0\n",
              "3  18.49  59.0           1  ...          -0.32     1             0\n",
              "4  19.70  59.0           1  ...           0.00     1             0\n",
              "\n",
              "[5 rows x 25 columns]"
            ]
          },
          "metadata": {
            "tags": []
          },
          "execution_count": 2
        }
      ]
    },
    {
      "cell_type": "markdown",
      "metadata": {
        "id": "IptSm8tn3Lmg"
      },
      "source": [
        "## 0103 Carga el dataset de naranja-pomelo\n",
        "Aquí teneis el url del archivo raw del dataset que indica si una fruta es una naranja o un pomelo. \n",
        "\n",
        "https://raw.githubusercontent.com/JotaBlanco/TheValley/main/Data/citrus.csv\n",
        "\n",
        "Importa los datos en un dataframe llamado **dataframe df**."
      ]
    },
    {
      "cell_type": "code",
      "metadata": {
        "colab": {
          "base_uri": "https://localhost:8080/",
          "height": 202
        },
        "id": "FRmxZfWr5-qY",
        "outputId": "7c45ab3f-bf40-43a5-d844-73b50a702f23"
      },
      "source": [
        "# Url archivo raw\n",
        "url = 'https://raw.githubusercontent.com/JotaBlanco/TheValley/main/Data/citrus.csv'\n",
        "\n",
        "# Importa csv\n",
        "df = pd.read_csv(url, sep=',')\n",
        "\n",
        "# Visualización primeras filas\n",
        "df.head()"
      ],
      "execution_count": null,
      "outputs": [
        {
          "output_type": "execute_result",
          "data": {
            "text/html": [
              "<div>\n",
              "<style scoped>\n",
              "    .dataframe tbody tr th:only-of-type {\n",
              "        vertical-align: middle;\n",
              "    }\n",
              "\n",
              "    .dataframe tbody tr th {\n",
              "        vertical-align: top;\n",
              "    }\n",
              "\n",
              "    .dataframe thead th {\n",
              "        text-align: right;\n",
              "    }\n",
              "</style>\n",
              "<table border=\"1\" class=\"dataframe\">\n",
              "  <thead>\n",
              "    <tr style=\"text-align: right;\">\n",
              "      <th></th>\n",
              "      <th>name</th>\n",
              "      <th>diameter</th>\n",
              "      <th>weight</th>\n",
              "      <th>red</th>\n",
              "      <th>green</th>\n",
              "      <th>blue</th>\n",
              "    </tr>\n",
              "  </thead>\n",
              "  <tbody>\n",
              "    <tr>\n",
              "      <th>0</th>\n",
              "      <td>orange</td>\n",
              "      <td>2.96</td>\n",
              "      <td>86.76</td>\n",
              "      <td>172</td>\n",
              "      <td>85</td>\n",
              "      <td>2</td>\n",
              "    </tr>\n",
              "    <tr>\n",
              "      <th>1</th>\n",
              "      <td>orange</td>\n",
              "      <td>3.91</td>\n",
              "      <td>88.05</td>\n",
              "      <td>166</td>\n",
              "      <td>78</td>\n",
              "      <td>3</td>\n",
              "    </tr>\n",
              "    <tr>\n",
              "      <th>2</th>\n",
              "      <td>orange</td>\n",
              "      <td>4.42</td>\n",
              "      <td>95.17</td>\n",
              "      <td>156</td>\n",
              "      <td>81</td>\n",
              "      <td>2</td>\n",
              "    </tr>\n",
              "    <tr>\n",
              "      <th>3</th>\n",
              "      <td>orange</td>\n",
              "      <td>4.47</td>\n",
              "      <td>95.60</td>\n",
              "      <td>163</td>\n",
              "      <td>81</td>\n",
              "      <td>4</td>\n",
              "    </tr>\n",
              "    <tr>\n",
              "      <th>4</th>\n",
              "      <td>orange</td>\n",
              "      <td>4.48</td>\n",
              "      <td>95.76</td>\n",
              "      <td>161</td>\n",
              "      <td>72</td>\n",
              "      <td>9</td>\n",
              "    </tr>\n",
              "  </tbody>\n",
              "</table>\n",
              "</div>"
            ],
            "text/plain": [
              "     name  diameter  weight  red  green  blue\n",
              "0  orange      2.96   86.76  172     85     2\n",
              "1  orange      3.91   88.05  166     78     3\n",
              "2  orange      4.42   95.17  156     81     2\n",
              "3  orange      4.47   95.60  163     81     4\n",
              "4  orange      4.48   95.76  161     72     9"
            ]
          },
          "metadata": {
            "tags": []
          },
          "execution_count": 3
        }
      ]
    },
    {
      "cell_type": "code",
      "metadata": {
        "colab": {
          "base_uri": "https://localhost:8080/"
        },
        "id": "cm8Sgyi5_F-m",
        "outputId": "2a45a966-bc6b-440d-8f16-f3e88d351db4"
      },
      "source": [
        "df['name'].value_counts()"
      ],
      "execution_count": null,
      "outputs": [
        {
          "output_type": "execute_result",
          "data": {
            "text/plain": [
              "grapefruit    5000\n",
              "orange        5000\n",
              "Name: name, dtype: int64"
            ]
          },
          "metadata": {
            "tags": []
          },
          "execution_count": 4
        }
      ]
    },
    {
      "cell_type": "markdown",
      "metadata": {
        "id": "KBOQJ0AjdYrM"
      },
      "source": [
        "# 02 EDA\n",
        "Para familiarizarte con los datos puedes realizar un pequeño análisis exploratorio visual. Puedes usar los métodos .shape, .info(), .describe(), por ejemplo para entender su tamaño y sus variables. \n",
        "\n",
        "Recuerda que puedes encontrar mis clases sobre análisis exploratorio [aquí](https://github.com/JotaBlanco/TheValley/tree/main/EDA/)."
      ]
    },
    {
      "cell_type": "markdown",
      "metadata": {
        "id": "787vUOHx6ROV"
      },
      "source": [
        "## 0201 EDA OPERACIONES"
      ]
    },
    {
      "cell_type": "code",
      "metadata": {
        "id": "qGrwhGyaj0-a",
        "colab": {
          "base_uri": "https://localhost:8080/"
        },
        "outputId": "c161320f-8394-438a-c731-f39cd10d3f15"
      },
      "source": [
        "df_operacion.info()"
      ],
      "execution_count": null,
      "outputs": [
        {
          "output_type": "stream",
          "text": [
            "<class 'pandas.core.frame.DataFrame'>\n",
            "RangeIndex: 14635 entries, 0 to 14634\n",
            "Data columns (total 25 columns):\n",
            " #   Column               Non-Null Count  Dtype  \n",
            "---  ------               --------------  -----  \n",
            " 0   bmi                  14635 non-null  float64\n",
            " 1   Age                  14635 non-null  float64\n",
            " 2   asa_status           14635 non-null  int64  \n",
            " 3   baseline_cancer      14635 non-null  int64  \n",
            " 4   baseline_charlson    14635 non-null  int64  \n",
            " 5   baseline_cvd         14635 non-null  int64  \n",
            " 6   baseline_dementia    14635 non-null  int64  \n",
            " 7   baseline_diabetes    14635 non-null  int64  \n",
            " 8   baseline_digestive   14635 non-null  int64  \n",
            " 9   baseline_osteoart    14635 non-null  int64  \n",
            " 10  baseline_psych       14635 non-null  int64  \n",
            " 11  baseline_pulmonary   14635 non-null  int64  \n",
            " 12  ahrq_ccs             14635 non-null  int64  \n",
            " 13  ccsComplicationRate  14635 non-null  float64\n",
            " 14  ccsMort30Rate        14635 non-null  float64\n",
            " 15  complication_rsi     14635 non-null  float64\n",
            " 16  dow                  14635 non-null  int64  \n",
            " 17  gender               14635 non-null  int64  \n",
            " 18  hour                 14635 non-null  float64\n",
            " 19  month                14635 non-null  int64  \n",
            " 20  moonphase            14635 non-null  int64  \n",
            " 21  mort30               14635 non-null  int64  \n",
            " 22  mortality_rsi        14635 non-null  float64\n",
            " 23  race                 14635 non-null  int64  \n",
            " 24  complication         14635 non-null  int64  \n",
            "dtypes: float64(7), int64(18)\n",
            "memory usage: 2.8 MB\n"
          ],
          "name": "stdout"
        }
      ]
    },
    {
      "cell_type": "code",
      "metadata": {
        "id": "8LoZpl8rjWEX",
        "colab": {
          "base_uri": "https://localhost:8080/",
          "height": 314
        },
        "outputId": "698f349e-6a25-4cc2-99f7-8a3c3073c0a5"
      },
      "source": [
        "df_operacion.describe()"
      ],
      "execution_count": null,
      "outputs": [
        {
          "output_type": "execute_result",
          "data": {
            "text/html": [
              "<div>\n",
              "<style scoped>\n",
              "    .dataframe tbody tr th:only-of-type {\n",
              "        vertical-align: middle;\n",
              "    }\n",
              "\n",
              "    .dataframe tbody tr th {\n",
              "        vertical-align: top;\n",
              "    }\n",
              "\n",
              "    .dataframe thead th {\n",
              "        text-align: right;\n",
              "    }\n",
              "</style>\n",
              "<table border=\"1\" class=\"dataframe\">\n",
              "  <thead>\n",
              "    <tr style=\"text-align: right;\">\n",
              "      <th></th>\n",
              "      <th>bmi</th>\n",
              "      <th>Age</th>\n",
              "      <th>asa_status</th>\n",
              "      <th>baseline_cancer</th>\n",
              "      <th>baseline_charlson</th>\n",
              "      <th>baseline_cvd</th>\n",
              "      <th>baseline_dementia</th>\n",
              "      <th>baseline_diabetes</th>\n",
              "      <th>baseline_digestive</th>\n",
              "      <th>baseline_osteoart</th>\n",
              "      <th>baseline_psych</th>\n",
              "      <th>baseline_pulmonary</th>\n",
              "      <th>ahrq_ccs</th>\n",
              "      <th>ccsComplicationRate</th>\n",
              "      <th>ccsMort30Rate</th>\n",
              "      <th>complication_rsi</th>\n",
              "      <th>dow</th>\n",
              "      <th>gender</th>\n",
              "      <th>hour</th>\n",
              "      <th>month</th>\n",
              "      <th>moonphase</th>\n",
              "      <th>mort30</th>\n",
              "      <th>mortality_rsi</th>\n",
              "      <th>race</th>\n",
              "      <th>complication</th>\n",
              "    </tr>\n",
              "  </thead>\n",
              "  <tbody>\n",
              "    <tr>\n",
              "      <th>count</th>\n",
              "      <td>14635.000000</td>\n",
              "      <td>14635.000000</td>\n",
              "      <td>14635.000000</td>\n",
              "      <td>14635.000000</td>\n",
              "      <td>14635.000000</td>\n",
              "      <td>14635.000000</td>\n",
              "      <td>14635.000000</td>\n",
              "      <td>14635.000000</td>\n",
              "      <td>14635.000000</td>\n",
              "      <td>14635.000000</td>\n",
              "      <td>14635.000000</td>\n",
              "      <td>14635.000000</td>\n",
              "      <td>14635.000000</td>\n",
              "      <td>14635.000000</td>\n",
              "      <td>14635.000000</td>\n",
              "      <td>14635.000000</td>\n",
              "      <td>14635.000000</td>\n",
              "      <td>14635.000000</td>\n",
              "      <td>14635.000000</td>\n",
              "      <td>14635.000000</td>\n",
              "      <td>14635.000000</td>\n",
              "      <td>14635.000000</td>\n",
              "      <td>14635.000000</td>\n",
              "      <td>14635.000000</td>\n",
              "      <td>14635.000000</td>\n",
              "    </tr>\n",
              "    <tr>\n",
              "      <th>mean</th>\n",
              "      <td>31.295642</td>\n",
              "      <td>63.205268</td>\n",
              "      <td>0.632320</td>\n",
              "      <td>0.262316</td>\n",
              "      <td>0.977520</td>\n",
              "      <td>0.620294</td>\n",
              "      <td>0.004851</td>\n",
              "      <td>0.120875</td>\n",
              "      <td>0.189546</td>\n",
              "      <td>0.342740</td>\n",
              "      <td>0.082405</td>\n",
              "      <td>0.094090</td>\n",
              "      <td>7.428493</td>\n",
              "      <td>0.133570</td>\n",
              "      <td>0.004447</td>\n",
              "      <td>-0.699044</td>\n",
              "      <td>1.606970</td>\n",
              "      <td>0.548890</td>\n",
              "      <td>10.171613</td>\n",
              "      <td>5.915408</td>\n",
              "      <td>1.187086</td>\n",
              "      <td>0.003963</td>\n",
              "      <td>-0.836712</td>\n",
              "      <td>0.919440</td>\n",
              "      <td>0.252135</td>\n",
              "    </tr>\n",
              "    <tr>\n",
              "      <th>std</th>\n",
              "      <td>8.152709</td>\n",
              "      <td>18.088191</td>\n",
              "      <td>0.539952</td>\n",
              "      <td>0.439909</td>\n",
              "      <td>1.758355</td>\n",
              "      <td>0.485330</td>\n",
              "      <td>0.069485</td>\n",
              "      <td>0.325993</td>\n",
              "      <td>0.391955</td>\n",
              "      <td>0.474642</td>\n",
              "      <td>0.274990</td>\n",
              "      <td>0.291963</td>\n",
              "      <td>6.949455</td>\n",
              "      <td>0.088402</td>\n",
              "      <td>0.004579</td>\n",
              "      <td>1.339394</td>\n",
              "      <td>1.497738</td>\n",
              "      <td>0.497621</td>\n",
              "      <td>2.659881</td>\n",
              "      <td>3.239825</td>\n",
              "      <td>1.158357</td>\n",
              "      <td>0.062830</td>\n",
              "      <td>1.194111</td>\n",
              "      <td>0.364663</td>\n",
              "      <td>0.434253</td>\n",
              "    </tr>\n",
              "    <tr>\n",
              "      <th>min</th>\n",
              "      <td>2.150000</td>\n",
              "      <td>6.100000</td>\n",
              "      <td>0.000000</td>\n",
              "      <td>0.000000</td>\n",
              "      <td>0.000000</td>\n",
              "      <td>0.000000</td>\n",
              "      <td>0.000000</td>\n",
              "      <td>0.000000</td>\n",
              "      <td>0.000000</td>\n",
              "      <td>0.000000</td>\n",
              "      <td>0.000000</td>\n",
              "      <td>0.000000</td>\n",
              "      <td>0.000000</td>\n",
              "      <td>0.016118</td>\n",
              "      <td>0.000000</td>\n",
              "      <td>-4.720000</td>\n",
              "      <td>0.000000</td>\n",
              "      <td>0.000000</td>\n",
              "      <td>6.070000</td>\n",
              "      <td>0.000000</td>\n",
              "      <td>0.000000</td>\n",
              "      <td>0.000000</td>\n",
              "      <td>-3.820000</td>\n",
              "      <td>0.000000</td>\n",
              "      <td>0.000000</td>\n",
              "    </tr>\n",
              "    <tr>\n",
              "      <th>25%</th>\n",
              "      <td>26.510000</td>\n",
              "      <td>51.500000</td>\n",
              "      <td>0.000000</td>\n",
              "      <td>0.000000</td>\n",
              "      <td>0.000000</td>\n",
              "      <td>0.000000</td>\n",
              "      <td>0.000000</td>\n",
              "      <td>0.000000</td>\n",
              "      <td>0.000000</td>\n",
              "      <td>0.000000</td>\n",
              "      <td>0.000000</td>\n",
              "      <td>0.000000</td>\n",
              "      <td>0.000000</td>\n",
              "      <td>0.081977</td>\n",
              "      <td>0.001962</td>\n",
              "      <td>-1.970000</td>\n",
              "      <td>0.000000</td>\n",
              "      <td>0.000000</td>\n",
              "      <td>7.820000</td>\n",
              "      <td>3.000000</td>\n",
              "      <td>0.000000</td>\n",
              "      <td>0.000000</td>\n",
              "      <td>-2.250000</td>\n",
              "      <td>1.000000</td>\n",
              "      <td>0.000000</td>\n",
              "    </tr>\n",
              "    <tr>\n",
              "      <th>50%</th>\n",
              "      <td>28.980000</td>\n",
              "      <td>59.700000</td>\n",
              "      <td>1.000000</td>\n",
              "      <td>0.000000</td>\n",
              "      <td>0.000000</td>\n",
              "      <td>1.000000</td>\n",
              "      <td>0.000000</td>\n",
              "      <td>0.000000</td>\n",
              "      <td>0.000000</td>\n",
              "      <td>0.000000</td>\n",
              "      <td>0.000000</td>\n",
              "      <td>0.000000</td>\n",
              "      <td>6.000000</td>\n",
              "      <td>0.105720</td>\n",
              "      <td>0.002959</td>\n",
              "      <td>-0.580000</td>\n",
              "      <td>1.000000</td>\n",
              "      <td>1.000000</td>\n",
              "      <td>9.120000</td>\n",
              "      <td>7.000000</td>\n",
              "      <td>1.000000</td>\n",
              "      <td>0.000000</td>\n",
              "      <td>-0.640000</td>\n",
              "      <td>1.000000</td>\n",
              "      <td>0.000000</td>\n",
              "    </tr>\n",
              "    <tr>\n",
              "      <th>75%</th>\n",
              "      <td>35.295000</td>\n",
              "      <td>74.700000</td>\n",
              "      <td>1.000000</td>\n",
              "      <td>1.000000</td>\n",
              "      <td>2.000000</td>\n",
              "      <td>1.000000</td>\n",
              "      <td>0.000000</td>\n",
              "      <td>0.000000</td>\n",
              "      <td>0.000000</td>\n",
              "      <td>1.000000</td>\n",
              "      <td>0.000000</td>\n",
              "      <td>0.000000</td>\n",
              "      <td>13.000000</td>\n",
              "      <td>0.183370</td>\n",
              "      <td>0.007398</td>\n",
              "      <td>0.000000</td>\n",
              "      <td>3.000000</td>\n",
              "      <td>1.000000</td>\n",
              "      <td>12.050000</td>\n",
              "      <td>8.000000</td>\n",
              "      <td>2.000000</td>\n",
              "      <td>0.000000</td>\n",
              "      <td>0.000000</td>\n",
              "      <td>1.000000</td>\n",
              "      <td>1.000000</td>\n",
              "    </tr>\n",
              "    <tr>\n",
              "      <th>max</th>\n",
              "      <td>92.590000</td>\n",
              "      <td>90.000000</td>\n",
              "      <td>2.000000</td>\n",
              "      <td>1.000000</td>\n",
              "      <td>13.000000</td>\n",
              "      <td>1.000000</td>\n",
              "      <td>1.000000</td>\n",
              "      <td>1.000000</td>\n",
              "      <td>1.000000</td>\n",
              "      <td>1.000000</td>\n",
              "      <td>1.000000</td>\n",
              "      <td>1.000000</td>\n",
              "      <td>21.000000</td>\n",
              "      <td>0.466129</td>\n",
              "      <td>0.016673</td>\n",
              "      <td>12.560000</td>\n",
              "      <td>4.000000</td>\n",
              "      <td>1.000000</td>\n",
              "      <td>18.920000</td>\n",
              "      <td>11.000000</td>\n",
              "      <td>3.000000</td>\n",
              "      <td>1.000000</td>\n",
              "      <td>4.400000</td>\n",
              "      <td>2.000000</td>\n",
              "      <td>1.000000</td>\n",
              "    </tr>\n",
              "  </tbody>\n",
              "</table>\n",
              "</div>"
            ],
            "text/plain": [
              "                bmi           Age  ...          race  complication\n",
              "count  14635.000000  14635.000000  ...  14635.000000  14635.000000\n",
              "mean      31.295642     63.205268  ...      0.919440      0.252135\n",
              "std        8.152709     18.088191  ...      0.364663      0.434253\n",
              "min        2.150000      6.100000  ...      0.000000      0.000000\n",
              "25%       26.510000     51.500000  ...      1.000000      0.000000\n",
              "50%       28.980000     59.700000  ...      1.000000      0.000000\n",
              "75%       35.295000     74.700000  ...      1.000000      1.000000\n",
              "max       92.590000     90.000000  ...      2.000000      1.000000\n",
              "\n",
              "[8 rows x 25 columns]"
            ]
          },
          "metadata": {
            "tags": []
          },
          "execution_count": 6
        }
      ]
    },
    {
      "cell_type": "code",
      "metadata": {
        "id": "YUz-qSwBjaEW",
        "colab": {
          "base_uri": "https://localhost:8080/",
          "height": 690
        },
        "outputId": "766b1361-de4d-4d26-d7b7-d51483ba1d91"
      },
      "source": [
        "# Visualización coeficientes Pearson\n",
        "plt.figure(figsize=(12,10))\n",
        "sns.heatmap(np.round(df_operacion.corr(),2), \n",
        "            vmin=-1, vmax=1, \n",
        "            annot=True, cmap=\"coolwarm\")\n",
        "plt.show()"
      ],
      "execution_count": null,
      "outputs": [
        {
          "output_type": "display_data",
          "data": {
            "image/png": "[encoded data removed]",
            "text/plain": [
              "<Figure size 864x720 with 2 Axes>"
            ]
          },
          "metadata": {
            "tags": [],
            "needs_background": "light"
          }
        }
      ]
    },
    {
      "cell_type": "markdown",
      "metadata": {
        "id": "5RSCxX_v7LrX"
      },
      "source": [
        "## 0202 EDA CÍTRICOS"
      ]
    },
    {
      "cell_type": "code",
      "metadata": {
        "colab": {
          "base_uri": "https://localhost:8080/"
        },
        "id": "IOk2azY_7ZPF",
        "outputId": "6cfdea6f-0430-4a36-c0fb-9a4a3d110237"
      },
      "source": [
        "df.info()"
      ],
      "execution_count": null,
      "outputs": [
        {
          "output_type": "stream",
          "text": [
            "<class 'pandas.core.frame.DataFrame'>\n",
            "RangeIndex: 10000 entries, 0 to 9999\n",
            "Data columns (total 6 columns):\n",
            " #   Column    Non-Null Count  Dtype  \n",
            "---  ------    --------------  -----  \n",
            " 0   name      10000 non-null  object \n",
            " 1   diameter  10000 non-null  float64\n",
            " 2   weight    10000 non-null  float64\n",
            " 3   red       10000 non-null  int64  \n",
            " 4   green     10000 non-null  int64  \n",
            " 5   blue      10000 non-null  int64  \n",
            "dtypes: float64(2), int64(3), object(1)\n",
            "memory usage: 468.9+ KB\n"
          ],
          "name": "stdout"
        }
      ]
    },
    {
      "cell_type": "code",
      "metadata": {
        "colab": {
          "base_uri": "https://localhost:8080/",
          "height": 294
        },
        "id": "Fetfx7wa7ZS6",
        "outputId": "bc3273e6-6d28-483a-db66-43c2a2b5cf29"
      },
      "source": [
        "df.describe()"
      ],
      "execution_count": null,
      "outputs": [
        {
          "output_type": "execute_result",
          "data": {
            "text/html": [
              "<div>\n",
              "<style scoped>\n",
              "    .dataframe tbody tr th:only-of-type {\n",
              "        vertical-align: middle;\n",
              "    }\n",
              "\n",
              "    .dataframe tbody tr th {\n",
              "        vertical-align: top;\n",
              "    }\n",
              "\n",
              "    .dataframe thead th {\n",
              "        text-align: right;\n",
              "    }\n",
              "</style>\n",
              "<table border=\"1\" class=\"dataframe\">\n",
              "  <thead>\n",
              "    <tr style=\"text-align: right;\">\n",
              "      <th></th>\n",
              "      <th>diameter</th>\n",
              "      <th>weight</th>\n",
              "      <th>red</th>\n",
              "      <th>green</th>\n",
              "      <th>blue</th>\n",
              "    </tr>\n",
              "  </thead>\n",
              "  <tbody>\n",
              "    <tr>\n",
              "      <th>count</th>\n",
              "      <td>10000.000000</td>\n",
              "      <td>10000.000000</td>\n",
              "      <td>10000.000000</td>\n",
              "      <td>10000.000000</td>\n",
              "      <td>10000.000000</td>\n",
              "    </tr>\n",
              "    <tr>\n",
              "      <th>mean</th>\n",
              "      <td>9.975685</td>\n",
              "      <td>175.050792</td>\n",
              "      <td>153.847800</td>\n",
              "      <td>76.010600</td>\n",
              "      <td>11.363200</td>\n",
              "    </tr>\n",
              "    <tr>\n",
              "      <th>std</th>\n",
              "      <td>1.947844</td>\n",
              "      <td>29.212119</td>\n",
              "      <td>10.432954</td>\n",
              "      <td>11.708433</td>\n",
              "      <td>9.061275</td>\n",
              "    </tr>\n",
              "    <tr>\n",
              "      <th>min</th>\n",
              "      <td>2.960000</td>\n",
              "      <td>86.760000</td>\n",
              "      <td>115.000000</td>\n",
              "      <td>31.000000</td>\n",
              "      <td>2.000000</td>\n",
              "    </tr>\n",
              "    <tr>\n",
              "      <th>25%</th>\n",
              "      <td>8.460000</td>\n",
              "      <td>152.220000</td>\n",
              "      <td>147.000000</td>\n",
              "      <td>68.000000</td>\n",
              "      <td>2.000000</td>\n",
              "    </tr>\n",
              "    <tr>\n",
              "      <th>50%</th>\n",
              "      <td>9.980000</td>\n",
              "      <td>174.985000</td>\n",
              "      <td>154.000000</td>\n",
              "      <td>76.000000</td>\n",
              "      <td>10.000000</td>\n",
              "    </tr>\n",
              "    <tr>\n",
              "      <th>75%</th>\n",
              "      <td>11.480000</td>\n",
              "      <td>197.722500</td>\n",
              "      <td>161.000000</td>\n",
              "      <td>84.000000</td>\n",
              "      <td>17.000000</td>\n",
              "    </tr>\n",
              "    <tr>\n",
              "      <th>max</th>\n",
              "      <td>16.450000</td>\n",
              "      <td>261.510000</td>\n",
              "      <td>192.000000</td>\n",
              "      <td>116.000000</td>\n",
              "      <td>56.000000</td>\n",
              "    </tr>\n",
              "  </tbody>\n",
              "</table>\n",
              "</div>"
            ],
            "text/plain": [
              "           diameter        weight           red         green          blue\n",
              "count  10000.000000  10000.000000  10000.000000  10000.000000  10000.000000\n",
              "mean       9.975685    175.050792    153.847800     76.010600     11.363200\n",
              "std        1.947844     29.212119     10.432954     11.708433      9.061275\n",
              "min        2.960000     86.760000    115.000000     31.000000      2.000000\n",
              "25%        8.460000    152.220000    147.000000     68.000000      2.000000\n",
              "50%        9.980000    174.985000    154.000000     76.000000     10.000000\n",
              "75%       11.480000    197.722500    161.000000     84.000000     17.000000\n",
              "max       16.450000    261.510000    192.000000    116.000000     56.000000"
            ]
          },
          "metadata": {
            "tags": []
          },
          "execution_count": 9
        }
      ]
    },
    {
      "cell_type": "code",
      "metadata": {
        "colab": {
          "base_uri": "https://localhost:8080/",
          "height": 704
        },
        "id": "PI98V6Je7ZWg",
        "outputId": "3d08b402-6889-4fb7-d650-7e1f7d87e9be"
      },
      "source": [
        "# Visualización coeficientes Pearson\n",
        "plt.figure(figsize=(12,12))\n",
        "sns.heatmap(np.round(df.corr(),2), \n",
        "            vmin=-1, vmax=1, \n",
        "            annot=True, cmap=\"coolwarm\")\n",
        "plt.show()"
      ],
      "execution_count": null,
      "outputs": [
        {
          "output_type": "display_data",
          "data": {
            "image/png": "[encoded data removed]",
            "text/plain": [
              "<Figure size 864x864 with 2 Axes>"
            ]
          },
          "metadata": {
            "tags": [],
            "needs_background": "light"
          }
        }
      ]
    },
    {
      "cell_type": "markdown",
      "metadata": {
        "id": "8OJS0b4R5ZNh"
      },
      "source": [
        "# 03 Preparación de los datos\n",
        "Normalmente el dataframe contiene nulos, así como variables categóricas y presencia de ciertas variables que probablemente no queramos usar. \n",
        "\n",
        "Necesitamos limpiarlo antes de poder entrenar los modelos."
      ]
    },
    {
      "cell_type": "markdown",
      "metadata": {
        "id": "Fdor9tFL_pSX"
      },
      "source": [
        "##0301 DATASET CÍTRICOS: Preparación de los datos\n",
        "En este caso tenemos ya presentes sólo variables útiles y no hay nulos. Aún así, hay trabajo que hacer:"
      ]
    },
    {
      "cell_type": "markdown",
      "metadata": {
        "id": "19QLuSJw_1Ps"
      },
      "source": [
        "### 030101 Dumificación de variables categóricas\n",
        "El target en este caso!"
      ]
    },
    {
      "cell_type": "code",
      "metadata": {
        "colab": {
          "base_uri": "https://localhost:8080/",
          "height": 202
        },
        "id": "jhXJvblm_5y6",
        "outputId": "5b61a3ed-cfbc-433d-abf0-8d4f6790fdfc"
      },
      "source": [
        "df.head()"
      ],
      "execution_count": null,
      "outputs": [
        {
          "output_type": "execute_result",
          "data": {
            "text/html": [
              "<div>\n",
              "<style scoped>\n",
              "    .dataframe tbody tr th:only-of-type {\n",
              "        vertical-align: middle;\n",
              "    }\n",
              "\n",
              "    .dataframe tbody tr th {\n",
              "        vertical-align: top;\n",
              "    }\n",
              "\n",
              "    .dataframe thead th {\n",
              "        text-align: right;\n",
              "    }\n",
              "</style>\n",
              "<table border=\"1\" class=\"dataframe\">\n",
              "  <thead>\n",
              "    <tr style=\"text-align: right;\">\n",
              "      <th></th>\n",
              "      <th>name</th>\n",
              "      <th>diameter</th>\n",
              "      <th>weight</th>\n",
              "      <th>red</th>\n",
              "      <th>green</th>\n",
              "      <th>blue</th>\n",
              "    </tr>\n",
              "  </thead>\n",
              "  <tbody>\n",
              "    <tr>\n",
              "      <th>0</th>\n",
              "      <td>orange</td>\n",
              "      <td>2.96</td>\n",
              "      <td>86.76</td>\n",
              "      <td>172</td>\n",
              "      <td>85</td>\n",
              "      <td>2</td>\n",
              "    </tr>\n",
              "    <tr>\n",
              "      <th>1</th>\n",
              "      <td>orange</td>\n",
              "      <td>3.91</td>\n",
              "      <td>88.05</td>\n",
              "      <td>166</td>\n",
              "      <td>78</td>\n",
              "      <td>3</td>\n",
              "    </tr>\n",
              "    <tr>\n",
              "      <th>2</th>\n",
              "      <td>orange</td>\n",
              "      <td>4.42</td>\n",
              "      <td>95.17</td>\n",
              "      <td>156</td>\n",
              "      <td>81</td>\n",
              "      <td>2</td>\n",
              "    </tr>\n",
              "    <tr>\n",
              "      <th>3</th>\n",
              "      <td>orange</td>\n",
              "      <td>4.47</td>\n",
              "      <td>95.60</td>\n",
              "      <td>163</td>\n",
              "      <td>81</td>\n",
              "      <td>4</td>\n",
              "    </tr>\n",
              "    <tr>\n",
              "      <th>4</th>\n",
              "      <td>orange</td>\n",
              "      <td>4.48</td>\n",
              "      <td>95.76</td>\n",
              "      <td>161</td>\n",
              "      <td>72</td>\n",
              "      <td>9</td>\n",
              "    </tr>\n",
              "  </tbody>\n",
              "</table>\n",
              "</div>"
            ],
            "text/plain": [
              "     name  diameter  weight  red  green  blue\n",
              "0  orange      2.96   86.76  172     85     2\n",
              "1  orange      3.91   88.05  166     78     3\n",
              "2  orange      4.42   95.17  156     81     2\n",
              "3  orange      4.47   95.60  163     81     4\n",
              "4  orange      4.48   95.76  161     72     9"
            ]
          },
          "metadata": {
            "tags": []
          },
          "execution_count": 11
        }
      ]
    },
    {
      "cell_type": "code",
      "metadata": {
        "colab": {
          "base_uri": "https://localhost:8080/",
          "height": 219
        },
        "id": "YuN3LskdAUMU",
        "outputId": "e2b348fe-0c92-47d9-d989-48e8d61c0c36"
      },
      "source": [
        "df = pd.get_dummies(df, prefix_sep='_', drop_first=True, columns=['name'])\n",
        "\n",
        "display(len(df))\n",
        "df.head()"
      ],
      "execution_count": null,
      "outputs": [
        {
          "output_type": "display_data",
          "data": {
            "text/plain": [
              "10000"
            ]
          },
          "metadata": {
            "tags": []
          }
        },
        {
          "output_type": "execute_result",
          "data": {
            "text/html": [
              "<div>\n",
              "<style scoped>\n",
              "    .dataframe tbody tr th:only-of-type {\n",
              "        vertical-align: middle;\n",
              "    }\n",
              "\n",
              "    .dataframe tbody tr th {\n",
              "        vertical-align: top;\n",
              "    }\n",
              "\n",
              "    .dataframe thead th {\n",
              "        text-align: right;\n",
              "    }\n",
              "</style>\n",
              "<table border=\"1\" class=\"dataframe\">\n",
              "  <thead>\n",
              "    <tr style=\"text-align: right;\">\n",
              "      <th></th>\n",
              "      <th>diameter</th>\n",
              "      <th>weight</th>\n",
              "      <th>red</th>\n",
              "      <th>green</th>\n",
              "      <th>blue</th>\n",
              "      <th>name_orange</th>\n",
              "    </tr>\n",
              "  </thead>\n",
              "  <tbody>\n",
              "    <tr>\n",
              "      <th>0</th>\n",
              "      <td>2.96</td>\n",
              "      <td>86.76</td>\n",
              "      <td>172</td>\n",
              "      <td>85</td>\n",
              "      <td>2</td>\n",
              "      <td>1</td>\n",
              "    </tr>\n",
              "    <tr>\n",
              "      <th>1</th>\n",
              "      <td>3.91</td>\n",
              "      <td>88.05</td>\n",
              "      <td>166</td>\n",
              "      <td>78</td>\n",
              "      <td>3</td>\n",
              "      <td>1</td>\n",
              "    </tr>\n",
              "    <tr>\n",
              "      <th>2</th>\n",
              "      <td>4.42</td>\n",
              "      <td>95.17</td>\n",
              "      <td>156</td>\n",
              "      <td>81</td>\n",
              "      <td>2</td>\n",
              "      <td>1</td>\n",
              "    </tr>\n",
              "    <tr>\n",
              "      <th>3</th>\n",
              "      <td>4.47</td>\n",
              "      <td>95.60</td>\n",
              "      <td>163</td>\n",
              "      <td>81</td>\n",
              "      <td>4</td>\n",
              "      <td>1</td>\n",
              "    </tr>\n",
              "    <tr>\n",
              "      <th>4</th>\n",
              "      <td>4.48</td>\n",
              "      <td>95.76</td>\n",
              "      <td>161</td>\n",
              "      <td>72</td>\n",
              "      <td>9</td>\n",
              "      <td>1</td>\n",
              "    </tr>\n",
              "  </tbody>\n",
              "</table>\n",
              "</div>"
            ],
            "text/plain": [
              "   diameter  weight  red  green  blue  name_orange\n",
              "0      2.96   86.76  172     85     2            1\n",
              "1      3.91   88.05  166     78     3            1\n",
              "2      4.42   95.17  156     81     2            1\n",
              "3      4.47   95.60  163     81     4            1\n",
              "4      4.48   95.76  161     72     9            1"
            ]
          },
          "metadata": {
            "tags": []
          },
          "execution_count": 12
        }
      ]
    },
    {
      "cell_type": "markdown",
      "metadata": {
        "id": "vXuahKge_Szf"
      },
      "source": [
        "### 030102 Train - test"
      ]
    },
    {
      "cell_type": "code",
      "metadata": {
        "id": "JuUqE7RMGk73",
        "colab": {
          "base_uri": "https://localhost:8080/"
        },
        "outputId": "5884e185-7623-4d83-d377-07408471e209"
      },
      "source": [
        "# Primero generamos la matriz X con las variables predictoras \n",
        "# y el vector y con la variable a predecir\n",
        "X = df.drop('name_orange',axis=1)\n",
        "y = df['name_orange']\n",
        "\n",
        "# Comprueba sus tamaños\n",
        "X.shape, y.shape"
      ],
      "execution_count": null,
      "outputs": [
        {
          "output_type": "execute_result",
          "data": {
            "text/plain": [
              "((10000, 5), (10000,))"
            ]
          },
          "metadata": {
            "tags": []
          },
          "execution_count": 13
        }
      ]
    },
    {
      "cell_type": "code",
      "metadata": {
        "id": "nbt_ueIVG9Ut",
        "colab": {
          "base_uri": "https://localhost:8080/"
        },
        "outputId": "8a509690-fe7e-42c5-8436-144c7b80d816"
      },
      "source": [
        "# Haz la partición train-test\n",
        "X_train, X_test, y_train, y_test = train_test_split(X, y, \n",
        "                                                    test_size=0.33, \n",
        "                                                    random_state=42)\n",
        "\n",
        "# Comprueba sus tamaños\n",
        "X_train.shape, X_test.shape, y_train.shape, y_test.shape"
      ],
      "execution_count": null,
      "outputs": [
        {
          "output_type": "execute_result",
          "data": {
            "text/plain": [
              "((6700, 5), (3300, 5), (6700,), (3300,))"
            ]
          },
          "metadata": {
            "tags": []
          },
          "execution_count": 14
        }
      ]
    },
    {
      "cell_type": "markdown",
      "metadata": {
        "id": "ohUSdJe5wnX-"
      },
      "source": [
        "## 0302 Train - test dataset operaciones"
      ]
    },
    {
      "cell_type": "code",
      "metadata": {
        "colab": {
          "base_uri": "https://localhost:8080/",
          "height": 130
        },
        "id": "UH3R9LIpwvfn",
        "outputId": "14cb06f8-c2e0-4c72-cb71-852cce4f6d74"
      },
      "source": [
        "df_operacion.head(2)"
      ],
      "execution_count": null,
      "outputs": [
        {
          "output_type": "execute_result",
          "data": {
            "text/html": [
              "<div>\n",
              "<style scoped>\n",
              "    .dataframe tbody tr th:only-of-type {\n",
              "        vertical-align: middle;\n",
              "    }\n",
              "\n",
              "    .dataframe tbody tr th {\n",
              "        vertical-align: top;\n",
              "    }\n",
              "\n",
              "    .dataframe thead th {\n",
              "        text-align: right;\n",
              "    }\n",
              "</style>\n",
              "<table border=\"1\" class=\"dataframe\">\n",
              "  <thead>\n",
              "    <tr style=\"text-align: right;\">\n",
              "      <th></th>\n",
              "      <th>bmi</th>\n",
              "      <th>Age</th>\n",
              "      <th>asa_status</th>\n",
              "      <th>baseline_cancer</th>\n",
              "      <th>baseline_charlson</th>\n",
              "      <th>baseline_cvd</th>\n",
              "      <th>baseline_dementia</th>\n",
              "      <th>baseline_diabetes</th>\n",
              "      <th>baseline_digestive</th>\n",
              "      <th>baseline_osteoart</th>\n",
              "      <th>baseline_psych</th>\n",
              "      <th>baseline_pulmonary</th>\n",
              "      <th>ahrq_ccs</th>\n",
              "      <th>ccsComplicationRate</th>\n",
              "      <th>ccsMort30Rate</th>\n",
              "      <th>complication_rsi</th>\n",
              "      <th>dow</th>\n",
              "      <th>gender</th>\n",
              "      <th>hour</th>\n",
              "      <th>month</th>\n",
              "      <th>moonphase</th>\n",
              "      <th>mort30</th>\n",
              "      <th>mortality_rsi</th>\n",
              "      <th>race</th>\n",
              "      <th>complication</th>\n",
              "    </tr>\n",
              "  </thead>\n",
              "  <tbody>\n",
              "    <tr>\n",
              "      <th>0</th>\n",
              "      <td>19.31</td>\n",
              "      <td>59.2</td>\n",
              "      <td>1</td>\n",
              "      <td>1</td>\n",
              "      <td>0</td>\n",
              "      <td>0</td>\n",
              "      <td>0</td>\n",
              "      <td>0</td>\n",
              "      <td>0</td>\n",
              "      <td>0</td>\n",
              "      <td>0</td>\n",
              "      <td>0</td>\n",
              "      <td>19</td>\n",
              "      <td>0.183370</td>\n",
              "      <td>0.007424</td>\n",
              "      <td>-0.57</td>\n",
              "      <td>3</td>\n",
              "      <td>0</td>\n",
              "      <td>7.63</td>\n",
              "      <td>6</td>\n",
              "      <td>1</td>\n",
              "      <td>0</td>\n",
              "      <td>-0.43</td>\n",
              "      <td>1</td>\n",
              "      <td>0</td>\n",
              "    </tr>\n",
              "    <tr>\n",
              "      <th>1</th>\n",
              "      <td>18.73</td>\n",
              "      <td>59.1</td>\n",
              "      <td>0</td>\n",
              "      <td>0</td>\n",
              "      <td>0</td>\n",
              "      <td>0</td>\n",
              "      <td>0</td>\n",
              "      <td>0</td>\n",
              "      <td>0</td>\n",
              "      <td>0</td>\n",
              "      <td>0</td>\n",
              "      <td>0</td>\n",
              "      <td>1</td>\n",
              "      <td>0.312029</td>\n",
              "      <td>0.016673</td>\n",
              "      <td>0.21</td>\n",
              "      <td>0</td>\n",
              "      <td>0</td>\n",
              "      <td>12.93</td>\n",
              "      <td>0</td>\n",
              "      <td>1</td>\n",
              "      <td>0</td>\n",
              "      <td>-0.41</td>\n",
              "      <td>1</td>\n",
              "      <td>0</td>\n",
              "    </tr>\n",
              "  </tbody>\n",
              "</table>\n",
              "</div>"
            ],
            "text/plain": [
              "     bmi   Age  asa_status  ...  mortality_rsi  race  complication\n",
              "0  19.31  59.2           1  ...          -0.43     1             0\n",
              "1  18.73  59.1           0  ...          -0.41     1             0\n",
              "\n",
              "[2 rows x 25 columns]"
            ]
          },
          "metadata": {
            "tags": []
          },
          "execution_count": 15
        }
      ]
    },
    {
      "cell_type": "code",
      "metadata": {
        "colab": {
          "base_uri": "https://localhost:8080/"
        },
        "id": "47lOKjFIw1N2",
        "outputId": "c89db505-2257-43b7-cc87-d509e038d03d"
      },
      "source": [
        "# Primero generamos la matriz X con las variables predictoras \n",
        "# y el vector y con la variable a predecir\n",
        "X_operacion = df_operacion.drop('complication',axis=1)\n",
        "y_operacion = df_operacion['complication']\n",
        "\n",
        "# Comprueba sus tamaños\n",
        "X_operacion.shape, y_operacion.shape"
      ],
      "execution_count": null,
      "outputs": [
        {
          "output_type": "execute_result",
          "data": {
            "text/plain": [
              "((14635, 24), (14635,))"
            ]
          },
          "metadata": {
            "tags": []
          },
          "execution_count": 16
        }
      ]
    },
    {
      "cell_type": "code",
      "metadata": {
        "colab": {
          "base_uri": "https://localhost:8080/"
        },
        "id": "hcKn7g9fxCif",
        "outputId": "aadbebd7-e6ad-40a1-c749-fee2a8dd1c7f"
      },
      "source": [
        "# Haz la partición train-test\n",
        "X_op_train, X_op_test, y_op_train, y_op_test = train_test_split(X_operacion, y_operacion, \n",
        "                                                                test_size=0.33, \n",
        "                                                                random_state=42)\n",
        "\n",
        "# Comprueba sus tamaños\n",
        "X_op_train.shape, X_op_test.shape, y_op_train.shape, y_op_test.shape"
      ],
      "execution_count": null,
      "outputs": [
        {
          "output_type": "execute_result",
          "data": {
            "text/plain": [
              "((9805, 24), (4830, 24), (9805,), (4830,))"
            ]
          },
          "metadata": {
            "tags": []
          },
          "execution_count": 17
        }
      ]
    },
    {
      "cell_type": "markdown",
      "metadata": {
        "id": "JIJw6wpoDeYL"
      },
      "source": [
        "# 04 Función evaluación de modelos\n"
      ]
    },
    {
      "cell_type": "code",
      "metadata": {
        "id": "MMZXOpK9zH9u"
      },
      "source": [
        "# Inicializo un modelo (árbol de decisión)\n",
        "modelo_1 = tree.DecisionTreeClassifier( \n",
        "    max_depth=3)"
      ],
      "execution_count": null,
      "outputs": []
    },
    {
      "cell_type": "code",
      "metadata": {
        "id": "m9qF5jPHEGx_"
      },
      "source": [
        "# Entreno el árbol con el set de entrenamiento\n",
        "modelo_1 = modelo_1.fit(X=X_op_train, y=y_op_train)"
      ],
      "execution_count": null,
      "outputs": []
    },
    {
      "cell_type": "code",
      "metadata": {
        "colab": {
          "base_uri": "https://localhost:8080/"
        },
        "id": "NRjgQ50TEgb3",
        "outputId": "2cd55843-3914-4af8-cd5a-e1880981b159"
      },
      "source": [
        "# Ahora, ya entrenado, puedo visualizarlo\n",
        "print(tree.export_text(modelo_1,\n",
        "                       feature_names=list(X_op_train.columns)))"
      ],
      "execution_count": null,
      "outputs": [
        {
          "output_type": "stream",
          "text": [
            "|--- ccsComplicationRate <= 0.09\n",
            "|   |--- Age <= 89.60\n",
            "|   |   |--- Age <= 75.05\n",
            "|   |   |   |--- class: 0\n",
            "|   |   |--- Age >  75.05\n",
            "|   |   |   |--- class: 1\n",
            "|   |--- Age >  89.60\n",
            "|   |   |--- complication_rsi <= -1.18\n",
            "|   |   |   |--- class: 0\n",
            "|   |   |--- complication_rsi >  -1.18\n",
            "|   |   |   |--- class: 1\n",
            "|--- ccsComplicationRate >  0.09\n",
            "|   |--- Age <= 75.05\n",
            "|   |   |--- complication_rsi <= 0.27\n",
            "|   |   |   |--- class: 0\n",
            "|   |   |--- complication_rsi >  0.27\n",
            "|   |   |   |--- class: 1\n",
            "|   |--- Age >  75.05\n",
            "|   |   |--- class: 1\n",
            "\n"
          ],
          "name": "stdout"
        }
      ]
    },
    {
      "cell_type": "code",
      "metadata": {
        "colab": {
          "base_uri": "https://localhost:8080/"
        },
        "id": "jaSqSF0-GZgT",
        "outputId": "a70274cf-1bb3-47fa-e2a9-b95b804d48ab"
      },
      "source": [
        "# Evaluamos el rendimiento del modelo\n",
        "y_op_pred_train = modelo_1.predict(X_op_train)\n",
        "\n",
        "# Calidad predicción train\n",
        "ac_train = round(accuracy_score(y_op_train, y_op_pred_train), 4)\n",
        "print('Precisión en set de entrenamiento :', ac_train)"
      ],
      "execution_count": null,
      "outputs": [
        {
          "output_type": "stream",
          "text": [
            "Precisión en set de entrenamiento : 0.8153\n"
          ],
          "name": "stdout"
        }
      ]
    },
    {
      "cell_type": "code",
      "metadata": {
        "colab": {
          "base_uri": "https://localhost:8080/"
        },
        "id": "OfJsOTHrzYeu",
        "outputId": "96e273ee-033f-47c8-ada1-38ac6d1ad840"
      },
      "source": [
        "# Uso el árbol para predecir sobre el dataset de test\n",
        "y_op_pred_test = modelo_1.predict(X_op_test)\n",
        "\n",
        "# Calidad predicción test\n",
        "ac_test = round(accuracy_score(y_op_test, y_op_pred_test), 4)\n",
        "print('Precisión en set de test :', ac_test)"
      ],
      "execution_count": null,
      "outputs": [
        {
          "output_type": "stream",
          "text": [
            "Precisión en set de test : 0.812\n"
          ],
          "name": "stdout"
        }
      ]
    },
    {
      "cell_type": "code",
      "metadata": {
        "colab": {
          "base_uri": "https://localhost:8080/"
        },
        "id": "mi6kuz2Jzdit",
        "outputId": "0f592833-23a1-4e6b-a25c-35936bcf57c8"
      },
      "source": [
        "# Degradación de la predicción\n",
        "print('Degradación: ' + str(round((ac_train-ac_test)/ac_train*100,2)) + '%')"
      ],
      "execution_count": null,
      "outputs": [
        {
          "output_type": "stream",
          "text": [
            "Degradación: 0.4%\n"
          ],
          "name": "stdout"
        }
      ]
    },
    {
      "cell_type": "markdown",
      "metadata": {
        "id": "z4oA4TkcpYMT"
      },
      "source": [
        "## 0401 Función"
      ]
    },
    {
      "cell_type": "code",
      "metadata": {
        "id": "r5tLedpsHBpB"
      },
      "source": [
        "def entrenar_modelo_y_predecir(modelo, X_train, X_test, y_train, y_test):\n",
        "  \"\"\"\n",
        "  Función que entrena un modelo ya inicializado y evalua su calidad en el set\n",
        "  de entrenamiento y de test, indicando la degradación en este.\n",
        "  \"\"\"\n",
        "  # Entreno el árbol con el set de entrenamiento\n",
        "  modelo = modelo.fit(X=X_train, y=y_train)\n",
        "  # Uso el árbol para predecir sobre el dataset de entrenamiento\n",
        "  y_pred_train = modelo.predict(X_train)\n",
        "  # Uso el árbol para predecir sobre el dataset de test\n",
        "  y_pred_test = modelo.predict(X_test)\n",
        "  # Calidad predicción train\n",
        "  ac_train = round(accuracy_score(y_train, y_pred_train), 4)\n",
        "  print('Precisión en set de entrenamiento :', ac_train)\n",
        "  # Calidad predicción test\n",
        "  ac_test = round(accuracy_score(y_test, y_pred_test), 4)\n",
        "  print('Precisión en set de test :', ac_test)\n",
        "  # Degradación de la predicción\n",
        "  print('Degradación: ' + str(round((ac_train-ac_test)/ac_train*100,2)) + '%')  "
      ],
      "execution_count": null,
      "outputs": []
    },
    {
      "cell_type": "code",
      "metadata": {
        "colab": {
          "base_uri": "https://localhost:8080/"
        },
        "id": "BKHOHDcRz9y8",
        "outputId": "bb8fe41b-9188-4522-e3e9-1545503b0bcd"
      },
      "source": [
        "# Inicializo un modelo (árbol de decisión)\n",
        "modelo_1 = tree.DecisionTreeClassifier( \n",
        "    max_depth=5)\n",
        "\n",
        "entrenar_modelo_y_predecir(modelo_1, X_op_train, X_op_test, y_op_train, y_op_test)"
      ],
      "execution_count": null,
      "outputs": [
        {
          "output_type": "stream",
          "text": [
            "Precisión en set de entrenamiento : 0.8264\n",
            "Precisión en set de test : 0.8259\n",
            "Degradación: 0.06%\n"
          ],
          "name": "stdout"
        }
      ]
    },
    {
      "cell_type": "markdown",
      "metadata": {
        "id": "GLc_9kelUB4x"
      },
      "source": [
        "# 05 Random Forest\n",
        "Documentación sklearn: https://scikit-learn.org/stable/modules/generated/sklearn.ensemble.RandomForestRegressor.html"
      ]
    },
    {
      "cell_type": "markdown",
      "metadata": {
        "id": "8hvICHZqKSt2"
      },
      "source": [
        "## 0501 OPERACIÓN"
      ]
    },
    {
      "cell_type": "code",
      "metadata": {
        "colab": {
          "base_uri": "https://localhost:8080/"
        },
        "id": "NfJ5bnGNKjzl",
        "outputId": "d9d34c1a-3c89-40a2-b275-0094911272a7"
      },
      "source": [
        "# Define el modelo de Random Forest\n",
        "modelo_RF_operacion = ensemble.RandomForestClassifier(\n",
        "    n_estimators = 100)\n",
        "\n",
        "# Entrena y evalúa el árbol\n",
        "entrenar_modelo_y_predecir(modelo_RF_operacion, \n",
        "                           X_op_train, X_op_test, y_op_train, y_op_test)"
      ],
      "execution_count": null,
      "outputs": [
        {
          "output_type": "stream",
          "text": [
            "Precisión en set de entrenamiento : 1.0\n",
            "Precisión en set de test : 0.859\n",
            "Degradación: 14.1%\n"
          ],
          "name": "stdout"
        }
      ]
    },
    {
      "cell_type": "code",
      "metadata": {
        "colab": {
          "base_uri": "https://localhost:8080/"
        },
        "id": "dw_GNNNqKn6L",
        "outputId": "1702d72c-2248-4e1d-8c8d-c9b1e7ab01c6"
      },
      "source": [
        "# Define el modelo de Random Forest\n",
        "modelo_RF_operacion = ensemble.RandomForestClassifier(\n",
        "    n_estimators = 100,\n",
        "    max_features = \"auto\",\n",
        "    min_samples_split = 10)\n",
        "\n",
        "# Entrena y evalúa el árbol\n",
        "entrenar_modelo_y_predecir(modelo_RF_operacion, \n",
        "                           X_op_train, X_op_test, y_op_train, y_op_test)"
      ],
      "execution_count": null,
      "outputs": [
        {
          "output_type": "stream",
          "text": [
            "Precisión en set de entrenamiento : 0.9578\n",
            "Precisión en set de test : 0.859\n",
            "Degradación: 10.32%\n"
          ],
          "name": "stdout"
        }
      ]
    },
    {
      "cell_type": "code",
      "metadata": {
        "colab": {
          "base_uri": "https://localhost:8080/"
        },
        "id": "Ww_qAPa_WJFX",
        "outputId": "daf77b3c-d3a9-4444-ad1c-dc5197c424fb"
      },
      "source": [
        "# Define el modelo de Random Forest\n",
        "modelo_RF_operacion = ensemble.RandomForestClassifier(\n",
        "    n_estimators = 100,\n",
        "    max_features = \"auto\",\n",
        "    min_samples_split = 35,\n",
        "    min_samples_leaf = 3)\n",
        "\n",
        "# Entrena y evalúa el árbol\n",
        "entrenar_modelo_y_predecir(modelo_RF_operacion, \n",
        "                           X_op_train, X_op_test, y_op_train, y_op_test)"
      ],
      "execution_count": null,
      "outputs": [
        {
          "output_type": "stream",
          "text": [
            "Precisión en set de entrenamiento : 0.8893\n",
            "Precisión en set de test : 0.846\n",
            "Degradación: 4.87%\n"
          ],
          "name": "stdout"
        }
      ]
    },
    {
      "cell_type": "markdown",
      "metadata": {
        "id": "mAquNjuSLyYo"
      },
      "source": [
        "## 0502 CÍTRICO"
      ]
    },
    {
      "cell_type": "code",
      "metadata": {
        "colab": {
          "base_uri": "https://localhost:8080/"
        },
        "id": "0J9vCXxOL2FT",
        "outputId": "03da8a25-ef3b-4d96-8ba6-b94bc1b76217"
      },
      "source": [
        "# Define el modelo de Random Forest\n",
        "modelo_RF_citrico = ensemble.RandomForestClassifier(\n",
        "    n_estimators = 100)\n",
        "\n",
        "# Entrena y evalúa el árbol\n",
        "entrenar_modelo_y_predecir(modelo_RF_citrico, \n",
        "                           X_train, X_test, y_train, y_test)"
      ],
      "execution_count": null,
      "outputs": [
        {
          "output_type": "stream",
          "text": [
            "Precisión en set de entrenamiento : 1.0\n",
            "Precisión en set de test : 0.953\n",
            "Degradación: 4.7%\n"
          ],
          "name": "stdout"
        }
      ]
    },
    {
      "cell_type": "code",
      "metadata": {
        "colab": {
          "base_uri": "https://localhost:8080/"
        },
        "id": "cl_7jDdgL2Jz",
        "outputId": "e36754f1-8de8-48ff-9a22-f8180b0336e7"
      },
      "source": [
        "# Define el modelo de Random Forest\n",
        "modelo_RF_citrico = ensemble.RandomForestClassifier(\n",
        "    n_estimators = 100, \n",
        "    min_samples_split = 5)\n",
        "\n",
        "# Entrena y evalúa el árbol\n",
        "entrenar_modelo_y_predecir(modelo_RF_citrico, \n",
        "                           X_train, X_test, y_train, y_test)"
      ],
      "execution_count": null,
      "outputs": [
        {
          "output_type": "stream",
          "text": [
            "Precisión en set de entrenamiento : 0.996\n",
            "Precisión en set de test : 0.953\n",
            "Degradación: 4.32%\n"
          ],
          "name": "stdout"
        }
      ]
    },
    {
      "cell_type": "markdown",
      "metadata": {
        "id": "Onb8PxWAUmfO"
      },
      "source": [
        "# 06 Gradient Boosting\n",
        "Documentación: https://scikit-learn.org/stable/modules/generated/sklearn.ensemble.GradientBoostingRegressor.html."
      ]
    },
    {
      "cell_type": "markdown",
      "metadata": {
        "id": "rSn-k5k4Rnyv"
      },
      "source": [
        "## 0601 OPERACIÓN"
      ]
    },
    {
      "cell_type": "code",
      "metadata": {
        "colab": {
          "base_uri": "https://localhost:8080/"
        },
        "id": "oGL59gYTQ-WN",
        "outputId": "c1872422-a520-4aaa-96f9-0324be853554"
      },
      "source": [
        "modelo_GB_operacion = ensemble.GradientBoostingClassifier(\n",
        "    n_estimators = 100, \n",
        "    learning_rate = 0.1)\n",
        "\n",
        "# Entrenamos y predecimos con dicho modelo\n",
        "entrenar_modelo_y_predecir(modelo_GB_operacion, \n",
        "                           X_op_train, X_op_test, y_op_train, y_op_test) "
      ],
      "execution_count": null,
      "outputs": [
        {
          "output_type": "stream",
          "text": [
            "Precisión en set de entrenamiento : 0.9169\n",
            "Precisión en set de test : 0.9099\n",
            "Degradación: 0.76%\n"
          ],
          "name": "stdout"
        }
      ]
    },
    {
      "cell_type": "code",
      "metadata": {
        "colab": {
          "base_uri": "https://localhost:8080/"
        },
        "id": "PbTIBVma2bnk",
        "outputId": "35cd0879-abc6-4776-952f-49c496482120"
      },
      "source": [
        "modelo_GB_operacion = ensemble.GradientBoostingClassifier(\n",
        "    n_estimators = 100,\n",
        "    learning_rate = 0.1,\n",
        "    max_depth = 7)\n",
        "\n",
        "# Entrenamos y predecimos con dicho modelo\n",
        "entrenar_modelo_y_predecir(modelo_GB_operacion, \n",
        "                           X_op_train, X_op_test, y_op_train, y_op_test) "
      ],
      "execution_count": null,
      "outputs": [
        {
          "output_type": "stream",
          "text": [
            "Precisión en set de entrenamiento : 0.9674\n",
            "Precisión en set de test : 0.912\n",
            "Degradación: 5.73%\n"
          ],
          "name": "stdout"
        }
      ]
    },
    {
      "cell_type": "markdown",
      "metadata": {
        "id": "yZnfNmM2RvCs"
      },
      "source": [
        "## 0602 CÍTRICOS"
      ]
    },
    {
      "cell_type": "code",
      "metadata": {
        "colab": {
          "base_uri": "https://localhost:8080/"
        },
        "id": "5sLDn5QvRxVS",
        "outputId": "db2e7938-f99e-480f-b401-64452926d056"
      },
      "source": [
        "modelo_GB_citrico = ensemble.GradientBoostingClassifier(\n",
        "    n_estimators = 100)\n",
        "\n",
        "# Entrena y evalúa el árbol\n",
        "entrenar_modelo_y_predecir(modelo_GB_citrico, \n",
        "                           X_train, X_test, y_train, y_test)"
      ],
      "execution_count": null,
      "outputs": [
        {
          "output_type": "stream",
          "text": [
            "Precisión en set de entrenamiento : 0.9581\n",
            "Precisión en set de test : 0.9445\n",
            "Degradación: 1.42%\n"
          ],
          "name": "stdout"
        }
      ]
    },
    {
      "cell_type": "code",
      "metadata": {
        "colab": {
          "base_uri": "https://localhost:8080/"
        },
        "id": "FXjKz3tTBjg2",
        "outputId": "6fb00782-c214-4c80-f65a-d38a73be3dbc"
      },
      "source": [
        "modelo_GB_citrico = ensemble.GradientBoostingClassifier(\n",
        "    n_estimators = 100,\n",
        "    learning_rate = 0.1,\n",
        "    max_depth = 7)\n",
        "\n",
        "# Entrena y evalúa el árbol\n",
        "entrenar_modelo_y_predecir(modelo_GB_citrico, \n",
        "                           X_train, X_test, y_train, y_test)"
      ],
      "execution_count": null,
      "outputs": [
        {
          "output_type": "stream",
          "text": [
            "Precisión en set de entrenamiento : 0.999\n",
            "Precisión en set de test : 0.9748\n",
            "Degradación: 2.42%\n"
          ],
          "name": "stdout"
        }
      ]
    },
    {
      "cell_type": "markdown",
      "metadata": {
        "id": "WpaJmcSVHAM7"
      },
      "source": [
        "# 07 ADABoost\n",
        "Parámetros: https://scikit-learn.org/stable/modules/generated/sklearn.ensemble.AdaBoostRegressor.html"
      ]
    },
    {
      "cell_type": "markdown",
      "metadata": {
        "id": "DAhWeafnVfI9"
      },
      "source": [
        "## 0701 OPERACIÓN"
      ]
    },
    {
      "cell_type": "code",
      "metadata": {
        "id": "rhnqNVDWG1C_",
        "colab": {
          "base_uri": "https://localhost:8080/"
        },
        "outputId": "35f51de5-6821-46b6-d7f4-a6f75bd79b58"
      },
      "source": [
        "modelo_ADA_operacion = ensemble.AdaBoostClassifier()\n",
        "\n",
        "# Entrenamos y predecimos con dicho modelo\n",
        "entrenar_modelo_y_predecir(modelo_ADA_operacion, \n",
        "                           X_op_train, X_op_test, y_op_train, y_op_test)"
      ],
      "execution_count": null,
      "outputs": [
        {
          "output_type": "stream",
          "text": [
            "Precisión en set de entrenamiento : 0.893\n",
            "Precisión en set de test : 0.8909\n",
            "Degradación: 0.24%\n"
          ],
          "name": "stdout"
        }
      ]
    },
    {
      "cell_type": "code",
      "metadata": {
        "id": "-JWw-xkLZLW4",
        "colab": {
          "base_uri": "https://localhost:8080/"
        },
        "outputId": "51cbbbb9-67d7-49fc-f4fd-75b805f9938a"
      },
      "source": [
        "modelo_ADA_operacion = ensemble.AdaBoostClassifier(\n",
        "    n_estimators=1000)\n",
        "\n",
        "# Entrenamos y predecimos con dicho modelo\n",
        "entrenar_modelo_y_predecir(modelo_ADA_operacion, \n",
        "                           X_op_train, X_op_test, y_op_train, y_op_test)"
      ],
      "execution_count": null,
      "outputs": [
        {
          "output_type": "stream",
          "text": [
            "Precisión en set de entrenamiento : 0.9096\n",
            "Precisión en set de test : 0.893\n",
            "Degradación: 1.82%\n"
          ],
          "name": "stdout"
        }
      ]
    },
    {
      "cell_type": "markdown",
      "metadata": {
        "id": "cvEqEsUeVmmA"
      },
      "source": [
        "## 0702 CÍTRICOS"
      ]
    },
    {
      "cell_type": "code",
      "metadata": {
        "id": "XS5nPqITVoQn",
        "colab": {
          "base_uri": "https://localhost:8080/"
        },
        "outputId": "57eef40a-f0dc-459a-9190-949b8fc8696c"
      },
      "source": [
        "modelo_ADA_citrico = ensemble.AdaBoostClassifier()\n",
        "\n",
        "# Entrena y evalúa el árbol\n",
        "entrenar_modelo_y_predecir(modelo_ADA_citrico, \n",
        "                           X_train, X_test, y_train, y_test)"
      ],
      "execution_count": null,
      "outputs": [
        {
          "output_type": "stream",
          "text": [
            "Precisión en set de entrenamiento : 0.9385\n",
            "Precisión en set de test : 0.9352\n",
            "Degradación: 0.35%\n"
          ],
          "name": "stdout"
        }
      ]
    },
    {
      "cell_type": "markdown",
      "metadata": {
        "id": "rqxFmI3_TBKY"
      },
      "source": [
        "# 08 XGBoost\n",
        "Definición de los parámetros: https://xgboost.readthedocs.io/en/latest/parameter.html."
      ]
    },
    {
      "cell_type": "code",
      "metadata": {
        "id": "UtOaE8-gUFtj"
      },
      "source": [
        "from xgboost import XGBClassifier"
      ],
      "execution_count": null,
      "outputs": []
    },
    {
      "cell_type": "markdown",
      "metadata": {
        "id": "aDcFbO72THJe"
      },
      "source": [
        "## 0801 OPERACIÓN"
      ]
    },
    {
      "cell_type": "code",
      "metadata": {
        "colab": {
          "base_uri": "https://localhost:8080/"
        },
        "id": "XW26RDmrTFgo",
        "outputId": "34ea7ca0-ab29-4819-8997-df4c3865ebea"
      },
      "source": [
        "modelo_XGB_operacion = XGBClassifier()\n",
        "\n",
        "# Entrenamos y predecimos con dicho modelo\n",
        "entrenar_modelo_y_predecir(modelo_XGB_operacion, \n",
        "                           X_op_train, X_op_test, y_op_train, y_op_test)"
      ],
      "execution_count": null,
      "outputs": [
        {
          "output_type": "stream",
          "text": [
            "Precisión en set de entrenamiento : 0.915\n",
            "Precisión en set de test : 0.9101\n",
            "Degradación: 0.54%\n"
          ],
          "name": "stdout"
        }
      ]
    },
    {
      "cell_type": "code",
      "metadata": {
        "colab": {
          "base_uri": "https://localhost:8080/"
        },
        "id": "9PC7YQ23DKub",
        "outputId": "ea2007f6-c9be-4eb6-dd9d-d3d353a115c3"
      },
      "source": [
        "modelo_XGB_operacion = XGBClassifier(\n",
        "    n_estimators = 200)\n",
        "\n",
        "# Entrenamos y predecimos con dicho modelo\n",
        "entrenar_modelo_y_predecir(modelo_XGB_operacion, \n",
        "                           X_op_train, X_op_test, y_op_train, y_op_test)"
      ],
      "execution_count": null,
      "outputs": [
        {
          "output_type": "stream",
          "text": [
            "Precisión en set de entrenamiento : 0.921\n",
            "Precisión en set de test : 0.9122\n",
            "Degradación: 0.96%\n"
          ],
          "name": "stdout"
        }
      ]
    },
    {
      "cell_type": "code",
      "metadata": {
        "colab": {
          "base_uri": "https://localhost:8080/"
        },
        "id": "8SQBxfwMDZXk",
        "outputId": "467980d2-7bbb-42af-b1b0-5f7379be117e"
      },
      "source": [
        "modelo_XGB_operacion = XGBClassifier(\n",
        "    n_estimators = 200,\n",
        "    max_depth = 6)\n",
        "\n",
        "# Entrenamos y predecimos con dicho modelo\n",
        "entrenar_modelo_y_predecir(modelo_XGB_operacion, \n",
        "                           X_op_train, X_op_test, y_op_train, y_op_test)"
      ],
      "execution_count": null,
      "outputs": [
        {
          "output_type": "stream",
          "text": [
            "Precisión en set de entrenamiento : 0.9556\n",
            "Precisión en set de test : 0.9106\n",
            "Degradación: 4.71%\n"
          ],
          "name": "stdout"
        }
      ]
    },
    {
      "cell_type": "markdown",
      "metadata": {
        "id": "B6Do1PQNTJnb"
      },
      "source": [
        "## 0802 CÍTRICOS"
      ]
    },
    {
      "cell_type": "code",
      "metadata": {
        "colab": {
          "base_uri": "https://localhost:8080/"
        },
        "id": "DDTvTFYuTMcT",
        "outputId": "abae9ba4-8e4c-4bb5-fcd3-0b2a865b03c7"
      },
      "source": [
        "# Menos overfitting y menos rendimiento\n",
        "modelo_XGB_citrico = XGBClassifier()\n",
        "\n",
        "# Entrena y evalúa el árbol\n",
        "entrenar_modelo_y_predecir(modelo_XGB_citrico, \n",
        "                           X_train, X_test, y_train, y_test)"
      ],
      "execution_count": null,
      "outputs": [
        {
          "output_type": "stream",
          "text": [
            "Precisión en set de entrenamiento : 0.9466\n",
            "Precisión en set de test : 0.9373\n",
            "Degradación: 0.98%\n"
          ],
          "name": "stdout"
        }
      ]
    },
    {
      "cell_type": "code",
      "metadata": {
        "colab": {
          "base_uri": "https://localhost:8080/"
        },
        "id": "xaOdIsXA9Zzo",
        "outputId": "b5f2227d-b4ec-4c30-aff3-ea43bb00568f"
      },
      "source": [
        "# Más overfitting y más rendimiento\n",
        "modelo_XGB_citrico = XGBClassifier(\n",
        "    n_estimators=125,\n",
        "    max_depth=4)\n",
        "\n",
        "# Entrena y evalúa el árbol\n",
        "entrenar_modelo_y_predecir(modelo_XGB_citrico, \n",
        "                           X_train, X_test, y_train, y_test)"
      ],
      "execution_count": null,
      "outputs": [
        {
          "output_type": "stream",
          "text": [
            "Precisión en set de entrenamiento : 0.976\n",
            "Precisión en set de test : 0.9636\n",
            "Degradación: 1.27%\n"
          ],
          "name": "stdout"
        }
      ]
    },
    {
      "cell_type": "markdown",
      "metadata": {
        "id": "uAM-ETaKYyg0"
      },
      "source": [
        "# 09 Stacking\n",
        "Hay maneras de automatizar la creación de modelos con stacking. Por ahora no vamos a centrarnos en eso sino en la lógica detrás del stacking, por lo que realizaremos modelos de stacking a mano paso a paso.\n",
        "\n",
        "- 1 Entrenar varios modelos de manera independiente (es lo que hemos venido haciendo en secciones anteriores)\n",
        "- 2 Realizar predicciones con los distintos modelos\n",
        "- 3 Entrenar un nuevo modelo que use las predicciones de los anteriores como variables"
      ]
    },
    {
      "cell_type": "markdown",
      "metadata": {
        "id": "uZ8A-05Fb8ET"
      },
      "source": [
        "## 0901 OPERACIÓN"
      ]
    },
    {
      "cell_type": "markdown",
      "metadata": {
        "id": "8yinxRvAcEPh"
      },
      "source": [
        "### 090101 Predicción con modelos anteriores"
      ]
    },
    {
      "cell_type": "code",
      "metadata": {
        "colab": {
          "base_uri": "https://localhost:8080/",
          "height": 271
        },
        "id": "v0PHGrWzcCtk",
        "outputId": "ec8b5ffa-34d3-4bad-9d18-3290fd75a301"
      },
      "source": [
        "diccionario_modelos = {\n",
        "    'Random Forest': modelo_RF_operacion,\n",
        "    'Gradient Boosting': modelo_GB_operacion,\n",
        "    'ADABoost': modelo_ADA_operacion, \n",
        "    'XGBoost': modelo_XGB_operacion\n",
        "} \n",
        "\n",
        "X_STACKING_train_operaciones = pd.DataFrame()\n",
        "X_STACKING_test_operaciones = pd.DataFrame()\n",
        "\n",
        "for modelo in diccionario_modelos.keys():\n",
        "  print(modelo)\n",
        "  X_STACKING_train_operaciones[modelo] = diccionario_modelos[modelo].predict(X_op_train) \n",
        "  X_STACKING_test_operaciones[modelo] = diccionario_modelos[modelo].predict(X_op_test) \n",
        "\n",
        "X_STACKING_train_operaciones.head()"
      ],
      "execution_count": null,
      "outputs": [
        {
          "output_type": "stream",
          "text": [
            "Random Forest\n",
            "Gradient Boosting\n",
            "ADABoost\n",
            "XGBoost\n"
          ],
          "name": "stdout"
        },
        {
          "output_type": "execute_result",
          "data": {
            "text/html": [
              "<div>\n",
              "<style scoped>\n",
              "    .dataframe tbody tr th:only-of-type {\n",
              "        vertical-align: middle;\n",
              "    }\n",
              "\n",
              "    .dataframe tbody tr th {\n",
              "        vertical-align: top;\n",
              "    }\n",
              "\n",
              "    .dataframe thead th {\n",
              "        text-align: right;\n",
              "    }\n",
              "</style>\n",
              "<table border=\"1\" class=\"dataframe\">\n",
              "  <thead>\n",
              "    <tr style=\"text-align: right;\">\n",
              "      <th></th>\n",
              "      <th>Random Forest</th>\n",
              "      <th>Gradient Boosting</th>\n",
              "      <th>ADABoost</th>\n",
              "      <th>XGBoost</th>\n",
              "    </tr>\n",
              "  </thead>\n",
              "  <tbody>\n",
              "    <tr>\n",
              "      <th>0</th>\n",
              "      <td>0</td>\n",
              "      <td>0</td>\n",
              "      <td>0</td>\n",
              "      <td>0</td>\n",
              "    </tr>\n",
              "    <tr>\n",
              "      <th>1</th>\n",
              "      <td>0</td>\n",
              "      <td>0</td>\n",
              "      <td>0</td>\n",
              "      <td>0</td>\n",
              "    </tr>\n",
              "    <tr>\n",
              "      <th>2</th>\n",
              "      <td>0</td>\n",
              "      <td>0</td>\n",
              "      <td>0</td>\n",
              "      <td>0</td>\n",
              "    </tr>\n",
              "    <tr>\n",
              "      <th>3</th>\n",
              "      <td>0</td>\n",
              "      <td>0</td>\n",
              "      <td>0</td>\n",
              "      <td>0</td>\n",
              "    </tr>\n",
              "    <tr>\n",
              "      <th>4</th>\n",
              "      <td>0</td>\n",
              "      <td>0</td>\n",
              "      <td>0</td>\n",
              "      <td>0</td>\n",
              "    </tr>\n",
              "  </tbody>\n",
              "</table>\n",
              "</div>"
            ],
            "text/plain": [
              "   Random Forest  Gradient Boosting  ADABoost  XGBoost\n",
              "0              0                  0         0        0\n",
              "1              0                  0         0        0\n",
              "2              0                  0         0        0\n",
              "3              0                  0         0        0\n",
              "4              0                  0         0        0"
            ]
          },
          "metadata": {
            "tags": []
          },
          "execution_count": 44
        }
      ]
    },
    {
      "cell_type": "markdown",
      "metadata": {
        "id": "Giz-e6t1cKxd"
      },
      "source": [
        "### 090102 Entrenamiento y predicción de metamodelo"
      ]
    },
    {
      "cell_type": "code",
      "metadata": {
        "id": "zA1iAzlqcSrw"
      },
      "source": [
        "from sklearn.linear_model import LogisticRegression"
      ],
      "execution_count": null,
      "outputs": []
    },
    {
      "cell_type": "code",
      "metadata": {
        "id": "WTT4lcFjf8Nz",
        "colab": {
          "base_uri": "https://localhost:8080/"
        },
        "outputId": "79c96a5d-d9b0-44a2-a5a0-17199fba0765"
      },
      "source": [
        "metamodelo_operaciones = LogisticRegression()\n",
        "\n",
        "# Entrenamos y predecimos con dicho modelo\n",
        "entrenar_modelo_y_predecir(metamodelo_operaciones, \n",
        "                           X_STACKING_train_operaciones, X_STACKING_test_operaciones, y_op_train, y_op_test)"
      ],
      "execution_count": null,
      "outputs": [
        {
          "output_type": "stream",
          "text": [
            "Precisión en set de entrenamiento : 0.9695\n",
            "Precisión en set de test : 0.911\n",
            "Degradación: 6.03%\n"
          ],
          "name": "stdout"
        }
      ]
    },
    {
      "cell_type": "code",
      "metadata": {
        "id": "YnMFRos7igJD",
        "colab": {
          "base_uri": "https://localhost:8080/"
        },
        "outputId": "020627aa-77f0-4fa5-93e2-dbcc3acc3acc"
      },
      "source": [
        "metamodelo_operaciones_arbol = tree.DecisionTreeClassifier(\n",
        "    max_depth=5)\n",
        "\n",
        "# Entrenamos y predecimos con dicho modelo\n",
        "entrenar_modelo_y_predecir(metamodelo_operaciones_arbol, \n",
        "                           X_STACKING_train_operaciones, X_STACKING_test_operaciones, y_op_train, y_op_test)"
      ],
      "execution_count": null,
      "outputs": [
        {
          "output_type": "stream",
          "text": [
            "Precisión en set de entrenamiento : 0.9697\n",
            "Precisión en set de test : 0.9112\n",
            "Degradación: 6.03%\n"
          ],
          "name": "stdout"
        }
      ]
    },
    {
      "cell_type": "code",
      "metadata": {
        "colab": {
          "base_uri": "https://localhost:8080/"
        },
        "id": "TL0rhlR0GwFl",
        "outputId": "00a412d6-3681-4e58-c8b6-bc335f03259b"
      },
      "source": [
        "# Modelos individuales\n",
        "for modelo in diccionario_modelos.keys():\n",
        "  print(modelo)\n",
        "  entrenar_modelo_y_predecir(diccionario_modelos[modelo], \n",
        "                             X_op_train, X_op_test, y_op_train, y_op_test)"
      ],
      "execution_count": null,
      "outputs": [
        {
          "output_type": "stream",
          "text": [
            "Random Forest\n",
            "Precisión en set de entrenamiento : 0.8936\n",
            "Precisión en set de test : 0.8491\n",
            "Degradación: 4.98%\n",
            "Gradient Boosting\n",
            "Precisión en set de entrenamiento : 0.9656\n",
            "Precisión en set de test : 0.9099\n",
            "Degradación: 5.77%\n",
            "ADABoost\n",
            "Precisión en set de entrenamiento : 0.9096\n",
            "Precisión en set de test : 0.893\n",
            "Degradación: 1.82%\n",
            "XGBoost\n",
            "Precisión en set de entrenamiento : 0.9556\n",
            "Precisión en set de test : 0.9106\n",
            "Degradación: 4.71%\n"
          ],
          "name": "stdout"
        }
      ]
    },
    {
      "cell_type": "code",
      "metadata": {
        "colab": {
          "base_uri": "https://localhost:8080/"
        },
        "id": "22SKjJwpHlrU",
        "outputId": "c5de867c-130e-4420-8ac7-3a94331b1b15"
      },
      "source": [
        "# Ahora, ya entrenado, puedo visualizarlo\n",
        "print(tree.export_text(metamodelo_operaciones_arbol,\n",
        "                       feature_names=list(X_STACKING_train_operaciones.columns)))"
      ],
      "execution_count": null,
      "outputs": [
        {
          "output_type": "stream",
          "text": [
            "|--- Gradient Boosting <= 0.50\n",
            "|   |--- XGBoost <= 0.50\n",
            "|   |   |--- Random Forest <= 0.50\n",
            "|   |   |   |--- ADABoost <= 0.50\n",
            "|   |   |   |   |--- class: 0\n",
            "|   |   |   |--- ADABoost >  0.50\n",
            "|   |   |   |   |--- class: 0\n",
            "|   |   |--- Random Forest >  0.50\n",
            "|   |   |   |--- ADABoost <= 0.50\n",
            "|   |   |   |   |--- class: 0\n",
            "|   |   |   |--- ADABoost >  0.50\n",
            "|   |   |   |   |--- class: 0\n",
            "|   |--- XGBoost >  0.50\n",
            "|   |   |--- ADABoost <= 0.50\n",
            "|   |   |   |--- Random Forest <= 0.50\n",
            "|   |   |   |   |--- class: 1\n",
            "|   |   |   |--- Random Forest >  0.50\n",
            "|   |   |   |   |--- class: 1\n",
            "|   |   |--- ADABoost >  0.50\n",
            "|   |   |   |--- Random Forest <= 0.50\n",
            "|   |   |   |   |--- class: 1\n",
            "|   |   |   |--- Random Forest >  0.50\n",
            "|   |   |   |   |--- class: 0\n",
            "|--- Gradient Boosting >  0.50\n",
            "|   |--- XGBoost <= 0.50\n",
            "|   |   |--- ADABoost <= 0.50\n",
            "|   |   |   |--- class: 1\n",
            "|   |   |--- ADABoost >  0.50\n",
            "|   |   |   |--- Random Forest <= 0.50\n",
            "|   |   |   |   |--- class: 1\n",
            "|   |   |   |--- Random Forest >  0.50\n",
            "|   |   |   |   |--- class: 1\n",
            "|   |--- XGBoost >  0.50\n",
            "|   |   |--- Random Forest <= 0.50\n",
            "|   |   |   |--- class: 1\n",
            "|   |   |--- Random Forest >  0.50\n",
            "|   |   |   |--- ADABoost <= 0.50\n",
            "|   |   |   |   |--- class: 1\n",
            "|   |   |   |--- ADABoost >  0.50\n",
            "|   |   |   |   |--- class: 1\n",
            "\n"
          ],
          "name": "stdout"
        }
      ]
    },
    {
      "cell_type": "markdown",
      "metadata": {
        "id": "kXRw6G-zb-5X"
      },
      "source": [
        "## 0902 CÍTRICOS"
      ]
    },
    {
      "cell_type": "markdown",
      "metadata": {
        "id": "mDUiYPh5fZQP"
      },
      "source": [
        "### 090201 Predicción con modelos anteriores"
      ]
    },
    {
      "cell_type": "code",
      "metadata": {
        "id": "5OShjLeHfZQP",
        "colab": {
          "base_uri": "https://localhost:8080/",
          "height": 271
        },
        "outputId": "8dab6feb-35d3-47b5-ead6-ecc55eb9c910"
      },
      "source": [
        "diccionario_modelos = {\n",
        "    'Random Forest': modelo_RF_citrico,\n",
        "    'Gradient Boosting': modelo_GB_citrico,\n",
        "    'ADABoost': modelo_ADA_citrico, \n",
        "    'XGBoost': modelo_XGB_citrico\n",
        "} \n",
        "\n",
        "X_STACKING_train_citrico = pd.DataFrame()\n",
        "X_STACKING_test_citrico = pd.DataFrame()\n",
        "\n",
        "for modelo in diccionario_modelos.keys():\n",
        "  print(modelo)\n",
        "  X_STACKING_train_citrico[modelo] = diccionario_modelos[modelo].predict(X_train) \n",
        "  X_STACKING_test_citrico[modelo] = diccionario_modelos[modelo].predict(X_test) \n",
        "\n",
        "X_STACKING_train_citrico.head()"
      ],
      "execution_count": null,
      "outputs": [
        {
          "output_type": "stream",
          "text": [
            "Random Forest\n",
            "Gradient Boosting\n",
            "ADABoost\n",
            "XGBoost\n"
          ],
          "name": "stdout"
        },
        {
          "output_type": "execute_result",
          "data": {
            "text/html": [
              "<div>\n",
              "<style scoped>\n",
              "    .dataframe tbody tr th:only-of-type {\n",
              "        vertical-align: middle;\n",
              "    }\n",
              "\n",
              "    .dataframe tbody tr th {\n",
              "        vertical-align: top;\n",
              "    }\n",
              "\n",
              "    .dataframe thead th {\n",
              "        text-align: right;\n",
              "    }\n",
              "</style>\n",
              "<table border=\"1\" class=\"dataframe\">\n",
              "  <thead>\n",
              "    <tr style=\"text-align: right;\">\n",
              "      <th></th>\n",
              "      <th>Random Forest</th>\n",
              "      <th>Gradient Boosting</th>\n",
              "      <th>ADABoost</th>\n",
              "      <th>XGBoost</th>\n",
              "    </tr>\n",
              "  </thead>\n",
              "  <tbody>\n",
              "    <tr>\n",
              "      <th>0</th>\n",
              "      <td>0</td>\n",
              "      <td>0</td>\n",
              "      <td>0</td>\n",
              "      <td>0</td>\n",
              "    </tr>\n",
              "    <tr>\n",
              "      <th>1</th>\n",
              "      <td>0</td>\n",
              "      <td>0</td>\n",
              "      <td>1</td>\n",
              "      <td>1</td>\n",
              "    </tr>\n",
              "    <tr>\n",
              "      <th>2</th>\n",
              "      <td>0</td>\n",
              "      <td>0</td>\n",
              "      <td>0</td>\n",
              "      <td>0</td>\n",
              "    </tr>\n",
              "    <tr>\n",
              "      <th>3</th>\n",
              "      <td>1</td>\n",
              "      <td>1</td>\n",
              "      <td>1</td>\n",
              "      <td>1</td>\n",
              "    </tr>\n",
              "    <tr>\n",
              "      <th>4</th>\n",
              "      <td>0</td>\n",
              "      <td>0</td>\n",
              "      <td>0</td>\n",
              "      <td>0</td>\n",
              "    </tr>\n",
              "  </tbody>\n",
              "</table>\n",
              "</div>"
            ],
            "text/plain": [
              "   Random Forest  Gradient Boosting  ADABoost  XGBoost\n",
              "0              0                  0         0        0\n",
              "1              0                  0         1        1\n",
              "2              0                  0         0        0\n",
              "3              1                  1         1        1\n",
              "4              0                  0         0        0"
            ]
          },
          "metadata": {
            "tags": []
          },
          "execution_count": 50
        }
      ]
    },
    {
      "cell_type": "markdown",
      "metadata": {
        "id": "BzoEwAmQfZQP"
      },
      "source": [
        "### 090202 Entrenamiento y predicción de metamodelo"
      ]
    },
    {
      "cell_type": "code",
      "metadata": {
        "id": "sUvlXg0FfZQP",
        "colab": {
          "base_uri": "https://localhost:8080/"
        },
        "outputId": "16d2dbc1-69c8-453c-ad70-5533bd4bb373"
      },
      "source": [
        "metamodelo_citrico = LogisticRegression()\n",
        "\n",
        "# Entrenamos y predecimos con dicho modelo\n",
        "entrenar_modelo_y_predecir(metamodelo_citrico, \n",
        "                           X_STACKING_train_citrico, X_STACKING_test_citrico, y_train, y_test)"
      ],
      "execution_count": null,
      "outputs": [
        {
          "output_type": "stream",
          "text": [
            "Precisión en set de entrenamiento : 0.999\n",
            "Precisión en set de test : 0.9748\n",
            "Degradación: 2.42%\n"
          ],
          "name": "stdout"
        }
      ]
    },
    {
      "cell_type": "code",
      "metadata": {
        "id": "imbKP0pehmgD",
        "colab": {
          "base_uri": "https://localhost:8080/"
        },
        "outputId": "4f269b4e-9afc-44a6-dd5f-cdccf1c6f7db"
      },
      "source": [
        "metamodelo_citrico_arbol = tree.DecisionTreeClassifier()\n",
        "\n",
        "# Entrenamos y predecimos con dicho modelo\n",
        "entrenar_modelo_y_predecir(metamodelo_citrico_arbol, \n",
        "                           X_STACKING_train_citrico, X_STACKING_test_citrico, y_train, y_test)"
      ],
      "execution_count": null,
      "outputs": [
        {
          "output_type": "stream",
          "text": [
            "Precisión en set de entrenamiento : 0.9993\n",
            "Precisión en set de test : 0.9718\n",
            "Degradación: 2.75%\n"
          ],
          "name": "stdout"
        }
      ]
    },
    {
      "cell_type": "code",
      "metadata": {
        "id": "G1R7yCfWiv8i",
        "colab": {
          "base_uri": "https://localhost:8080/"
        },
        "outputId": "b5fad237-a009-47ad-f322-aaad1db7c7fb"
      },
      "source": [
        "# Modelos individuales\n",
        "for modelo in diccionario_modelos.keys():\n",
        "  print(modelo)\n",
        "  entrenar_modelo_y_predecir(diccionario_modelos[modelo], \n",
        "                             X_train, X_test, y_train, y_test)"
      ],
      "execution_count": null,
      "outputs": [
        {
          "output_type": "stream",
          "text": [
            "Random Forest\n",
            "Precisión en set de entrenamiento : 0.9961\n",
            "Precisión en set de test : 0.953\n",
            "Degradación: 4.33%\n",
            "Gradient Boosting\n",
            "Precisión en set de entrenamiento : 0.999\n",
            "Precisión en set de test : 0.9748\n",
            "Degradación: 2.42%\n",
            "ADABoost\n",
            "Precisión en set de entrenamiento : 0.9385\n",
            "Precisión en set de test : 0.9352\n",
            "Degradación: 0.35%\n",
            "XGBoost\n",
            "Precisión en set de entrenamiento : 0.976\n",
            "Precisión en set de test : 0.9636\n",
            "Degradación: 1.27%\n"
          ],
          "name": "stdout"
        }
      ]
    },
    {
      "cell_type": "code",
      "metadata": {
        "colab": {
          "base_uri": "https://localhost:8080/"
        },
        "id": "iB9awr33Iq8k",
        "outputId": "b55441ab-bc2e-40d2-997f-2e907a2025a8"
      },
      "source": [
        "# Ahora, ya entrenado, puedo visualizarlo\n",
        "print(tree.export_text(metamodelo_citrico_arbol,\n",
        "                       feature_names=list(X_STACKING_train_citrico.columns)))"
      ],
      "execution_count": null,
      "outputs": [
        {
          "output_type": "stream",
          "text": [
            "|--- Gradient Boosting <= 0.50\n",
            "|   |--- Random Forest <= 0.50\n",
            "|   |   |--- ADABoost <= 0.50\n",
            "|   |   |   |--- XGBoost <= 0.50\n",
            "|   |   |   |   |--- class: 0\n",
            "|   |   |   |--- XGBoost >  0.50\n",
            "|   |   |   |   |--- class: 0\n",
            "|   |   |--- ADABoost >  0.50\n",
            "|   |   |   |--- class: 0\n",
            "|   |--- Random Forest >  0.50\n",
            "|   |   |--- ADABoost <= 0.50\n",
            "|   |   |   |--- class: 1\n",
            "|   |   |--- ADABoost >  0.50\n",
            "|   |   |   |--- class: 0\n",
            "|--- Gradient Boosting >  0.50\n",
            "|   |--- class: 1\n",
            "\n"
          ],
          "name": "stdout"
        }
      ]
    },
    {
      "cell_type": "markdown",
      "metadata": {
        "id": "dT0uj-8aJUu5"
      },
      "source": [
        "# 10 Selección automática de hiperparámetros"
      ]
    },
    {
      "cell_type": "markdown",
      "metadata": {
        "id": "IUY3KASVPcDu"
      },
      "source": [
        "## 10.01 Grid Search\n",
        "Documentación scklearn: https://scikit-learn.org/stable/modules/generated/sklearn.model_selection.GridSearchCV.html."
      ]
    },
    {
      "cell_type": "code",
      "metadata": {
        "id": "UqLRyv1cRCaq"
      },
      "source": [
        "from sklearn.model_selection import GridSearchCV"
      ],
      "execution_count": null,
      "outputs": []
    },
    {
      "cell_type": "code",
      "metadata": {
        "colab": {
          "base_uri": "https://localhost:8080/"
        },
        "id": "zKpABl-TI28s",
        "outputId": "672a94d2-93aa-4edb-c029-c4537aaf6959"
      },
      "source": [
        "# Diccionario con parámetros que queremos probar\n",
        "parameters = {'n_estimators': [100, 200], \n",
        "              'min_samples_split': [5, 10, 20], \n",
        "              'max_depth': [5,20, None]}\n",
        "\n",
        "# Se crea objeto GridSearch\n",
        "RF_GSCV = GridSearchCV(\n",
        "    estimator = ensemble.RandomForestClassifier(), \n",
        "    param_grid = parameters)\n",
        "\n",
        "RF_GSCV"
      ],
      "execution_count": null,
      "outputs": [
        {
          "output_type": "execute_result",
          "data": {
            "text/plain": [
              "GridSearchCV(cv=None, error_score=nan,\n",
              "             estimator=RandomForestClassifier(bootstrap=True, ccp_alpha=0.0,\n",
              "                                              class_weight=None,\n",
              "                                              criterion='gini', max_depth=None,\n",
              "                                              max_features='auto',\n",
              "                                              max_leaf_nodes=None,\n",
              "                                              max_samples=None,\n",
              "                                              min_impurity_decrease=0.0,\n",
              "                                              min_impurity_split=None,\n",
              "                                              min_samples_leaf=1,\n",
              "                                              min_samples_split=2,\n",
              "                                              min_weight_fraction_leaf=0.0,\n",
              "                                              n_estimators=100, n_jobs=None,\n",
              "                                              oob_score=False,\n",
              "                                              random_state=None, verbose=0,\n",
              "                                              warm_start=False),\n",
              "             iid='deprecated', n_jobs=None,\n",
              "             param_grid={'max_depth': [5, 20, None],\n",
              "                         'min_samples_split': [5, 10, 20],\n",
              "                         'n_estimators': [100, 200]},\n",
              "             pre_dispatch='2*n_jobs', refit=True, return_train_score=False,\n",
              "             scoring=None, verbose=0)"
            ]
          },
          "metadata": {
            "tags": []
          },
          "execution_count": 64
        }
      ]
    },
    {
      "cell_type": "code",
      "metadata": {
        "colab": {
          "base_uri": "https://localhost:8080/"
        },
        "id": "VBvGWQTKPa8G",
        "outputId": "f9da02fe-f3ea-4641-c07e-f9a684c812ae"
      },
      "source": [
        "# Se entrena el objeto GridSearch\n",
        "RF_GSCV.fit(X_op_train, y_op_train)\n",
        "\n",
        "RF_GSCV"
      ],
      "execution_count": null,
      "outputs": [
        {
          "output_type": "execute_result",
          "data": {
            "text/plain": [
              "GridSearchCV(cv=None, error_score=nan,\n",
              "             estimator=RandomForestClassifier(bootstrap=True, ccp_alpha=0.0,\n",
              "                                              class_weight=None,\n",
              "                                              criterion='gini', max_depth=None,\n",
              "                                              max_features='auto',\n",
              "                                              max_leaf_nodes=None,\n",
              "                                              max_samples=None,\n",
              "                                              min_impurity_decrease=0.0,\n",
              "                                              min_impurity_split=None,\n",
              "                                              min_samples_leaf=1,\n",
              "                                              min_samples_split=2,\n",
              "                                              min_weight_fraction_leaf=0.0,\n",
              "                                              n_estimators=100, n_jobs=None,\n",
              "                                              oob_score=False,\n",
              "                                              random_state=None, verbose=0,\n",
              "                                              warm_start=False),\n",
              "             iid='deprecated', n_jobs=None,\n",
              "             param_grid={'max_depth': [5, 20, None],\n",
              "                         'min_samples_split': [5, 10, 20],\n",
              "                         'n_estimators': [100, 200]},\n",
              "             pre_dispatch='2*n_jobs', refit=True, return_train_score=False,\n",
              "             scoring=None, verbose=0)"
            ]
          },
          "metadata": {
            "tags": []
          },
          "execution_count": 65
        }
      ]
    },
    {
      "cell_type": "code",
      "metadata": {
        "colab": {
          "base_uri": "https://localhost:8080/"
        },
        "id": "AEq7UCxZSkM5",
        "outputId": "4b85ca5b-820d-41ba-d91a-e0647cde3d44"
      },
      "source": [
        "RF_GSCV.cv_results_"
      ],
      "execution_count": null,
      "outputs": [
        {
          "output_type": "execute_result",
          "data": {
            "text/plain": [
              "{'mean_fit_time': array([0.49253373, 0.95539761, 0.47854347, 0.96279759, 0.47872481,\n",
              "        0.95753498, 0.97203417, 1.91963596, 0.92496748, 1.84739552,\n",
              "        0.87218862, 1.74076996, 0.97380228, 1.95805559, 0.94004412,\n",
              "        1.88584542, 0.88683805, 1.78881874]),\n",
              " 'mean_score_time': array([0.02392864, 0.04619398, 0.0240963 , 0.04555364, 0.02493157,\n",
              "        0.0485805 , 0.0421381 , 0.08199105, 0.04125013, 0.07853732,\n",
              "        0.03823681, 0.07602015, 0.04343033, 0.08474422, 0.04169974,\n",
              "        0.08032117, 0.03842416, 0.07600684]),\n",
              " 'mean_test_score': array([0.82192759, 0.82264151, 0.82151963, 0.82049975, 0.82223355,\n",
              "        0.82162162, 0.85986741, 0.85854156, 0.85925548, 0.85670576,\n",
              "        0.8536461 , 0.85232024, 0.86047935, 0.86027537, 0.8563998 ,\n",
              "        0.85792963, 0.85405405, 0.85537991]),\n",
              " 'param_max_depth': masked_array(data=[5, 5, 5, 5, 5, 5, 20, 20, 20, 20, 20, 20, None, None,\n",
              "                    None, None, None, None],\n",
              "              mask=[False, False, False, False, False, False, False, False,\n",
              "                    False, False, False, False, False, False, False, False,\n",
              "                    False, False],\n",
              "        fill_value='?',\n",
              "             dtype=object),\n",
              " 'param_min_samples_split': masked_array(data=[5, 5, 10, 10, 20, 20, 5, 5, 10, 10, 20, 20, 5, 5, 10,\n",
              "                    10, 20, 20],\n",
              "              mask=[False, False, False, False, False, False, False, False,\n",
              "                    False, False, False, False, False, False, False, False,\n",
              "                    False, False],\n",
              "        fill_value='?',\n",
              "             dtype=object),\n",
              " 'param_n_estimators': masked_array(data=[100, 200, 100, 200, 100, 200, 100, 200, 100, 200, 100,\n",
              "                    200, 100, 200, 100, 200, 100, 200],\n",
              "              mask=[False, False, False, False, False, False, False, False,\n",
              "                    False, False, False, False, False, False, False, False,\n",
              "                    False, False],\n",
              "        fill_value='?',\n",
              "             dtype=object),\n",
              " 'params': [{'max_depth': 5, 'min_samples_split': 5, 'n_estimators': 100},\n",
              "  {'max_depth': 5, 'min_samples_split': 5, 'n_estimators': 200},\n",
              "  {'max_depth': 5, 'min_samples_split': 10, 'n_estimators': 100},\n",
              "  {'max_depth': 5, 'min_samples_split': 10, 'n_estimators': 200},\n",
              "  {'max_depth': 5, 'min_samples_split': 20, 'n_estimators': 100},\n",
              "  {'max_depth': 5, 'min_samples_split': 20, 'n_estimators': 200},\n",
              "  {'max_depth': 20, 'min_samples_split': 5, 'n_estimators': 100},\n",
              "  {'max_depth': 20, 'min_samples_split': 5, 'n_estimators': 200},\n",
              "  {'max_depth': 20, 'min_samples_split': 10, 'n_estimators': 100},\n",
              "  {'max_depth': 20, 'min_samples_split': 10, 'n_estimators': 200},\n",
              "  {'max_depth': 20, 'min_samples_split': 20, 'n_estimators': 100},\n",
              "  {'max_depth': 20, 'min_samples_split': 20, 'n_estimators': 200},\n",
              "  {'max_depth': None, 'min_samples_split': 5, 'n_estimators': 100},\n",
              "  {'max_depth': None, 'min_samples_split': 5, 'n_estimators': 200},\n",
              "  {'max_depth': None, 'min_samples_split': 10, 'n_estimators': 100},\n",
              "  {'max_depth': None, 'min_samples_split': 10, 'n_estimators': 200},\n",
              "  {'max_depth': None, 'min_samples_split': 20, 'n_estimators': 100},\n",
              "  {'max_depth': None, 'min_samples_split': 20, 'n_estimators': 200}],\n",
              " 'rank_test_score': array([15, 13, 17, 18, 14, 16,  3,  5,  4,  7, 11, 12,  1,  2,  8,  6, 10,\n",
              "         9], dtype=int32),\n",
              " 'split0_test_score': array([0.82967874, 0.83018868, 0.83018868, 0.82712902, 0.82712902,\n",
              "        0.82967874, 0.85619582, 0.86282509, 0.86588475, 0.86231515,\n",
              "        0.85466599, 0.85415604, 0.86537481, 0.86129526, 0.85925548,\n",
              "        0.86333503, 0.86027537, 0.85874554]),\n",
              " 'split1_test_score': array([0.81285059, 0.81336053, 0.81234064, 0.8072412 , 0.80928098,\n",
              "        0.81081081, 0.84599694, 0.85007649, 0.85415604, 0.85109638,\n",
              "        0.84854666, 0.84497705, 0.85874554, 0.8536461 , 0.84650688,\n",
              "        0.85517593, 0.84752677, 0.84803672]),\n",
              " 'split2_test_score': array([0.81947986, 0.8199898 , 0.81744008, 0.81947986, 0.81795003,\n",
              "        0.81591025, 0.86588475, 0.85874554, 0.85670576, 0.85160632,\n",
              "        0.85466599, 0.85058644, 0.85109638, 0.85925548, 0.85670576,\n",
              "        0.85466599, 0.85313616, 0.85619582]),\n",
              " 'split3_test_score': array([0.8281489 , 0.82661907, 0.82610913, 0.82661907, 0.82763896,\n",
              "        0.82916879, 0.87098419, 0.86333503, 0.86486486, 0.86078531,\n",
              "        0.85466599, 0.85721571, 0.86537481, 0.8663947 , 0.86435492,\n",
              "        0.86027537, 0.85619582, 0.85670576]),\n",
              " 'split4_test_score': array([0.81947986, 0.82304946, 0.82151963, 0.82202958, 0.82916879,\n",
              "        0.82253952, 0.86027537, 0.85772565, 0.85466599, 0.85772565,\n",
              "        0.85568587, 0.85466599, 0.8618052 , 0.86078531, 0.85517593,\n",
              "        0.85619582, 0.85313616, 0.85721571]),\n",
              " 'std_fit_time': array([0.00550743, 0.01356743, 0.01028256, 0.01305638, 0.01015276,\n",
              "        0.00579507, 0.01073362, 0.01503072, 0.01036593, 0.01538932,\n",
              "        0.00569592, 0.0042391 , 0.0126936 , 0.01845952, 0.00783921,\n",
              "        0.01488251, 0.00637681, 0.01790823]),\n",
              " 'std_score_time': array([0.00033359, 0.00178552, 0.00056285, 0.00024488, 0.00111594,\n",
              "        0.00647757, 0.00042407, 0.00073315, 0.00187051, 0.00108317,\n",
              "        0.0006339 , 0.00387142, 0.0007457 , 0.00164973, 0.00217027,\n",
              "        0.00072739, 0.00057682, 0.0038403 ]),\n",
              " 'std_test_score': array([0.00621546, 0.00576395, 0.00627873, 0.0072189 , 0.00758155,\n",
              "        0.00737852, 0.00855369, 0.00476845, 0.005079  , 0.00461774,\n",
              "        0.00258013, 0.00423714, 0.00530538, 0.00409228, 0.00584637,\n",
              "        0.00334548, 0.00418527, 0.00376945])}"
            ]
          },
          "metadata": {
            "tags": []
          },
          "execution_count": 68
        }
      ]
    },
    {
      "cell_type": "code",
      "metadata": {
        "colab": {
          "base_uri": "https://localhost:8080/"
        },
        "id": "aaBpxpPPTRT9",
        "outputId": "ac62643c-b067-4262-afee-e905c64f46a7"
      },
      "source": [
        "RF_GSCV.best_params_"
      ],
      "execution_count": null,
      "outputs": [
        {
          "output_type": "execute_result",
          "data": {
            "text/plain": [
              "{'max_depth': None, 'min_samples_split': 5, 'n_estimators': 100}"
            ]
          },
          "metadata": {
            "tags": []
          },
          "execution_count": 69
        }
      ]
    },
    {
      "cell_type": "markdown",
      "metadata": {
        "id": "rLjoWr1MR82N"
      },
      "source": [
        "## 10.02 EJEMPLO: Modelo Operaciones\n",
        "Encuentra los mejores hiperparámetros posibles para el modelo de XGBoost que predice las complicaciones en una operación utilizando Grid Search: "
      ]
    },
    {
      "cell_type": "code",
      "metadata": {
        "colab": {
          "base_uri": "https://localhost:8080/"
        },
        "id": "6XG_XaD5Rumh",
        "outputId": "763ad4c6-807c-4f19-e9d9-6999040357b9"
      },
      "source": [
        "modelo_GB_operacion = ensemble.GradientBoostingClassifier()\n",
        "\n",
        "# Entrenamos y predecimos con dicho modelo\n",
        "entrenar_modelo_y_predecir(modelo_GB_operacion, \n",
        "                           X_op_train, X_op_test, y_op_train, y_op_test) "
      ],
      "execution_count": null,
      "outputs": [
        {
          "output_type": "stream",
          "text": [
            "Precisión en set de entrenamiento : 0.9169\n",
            "Precisión en set de test : 0.9097\n",
            "Degradación: 0.79%\n"
          ],
          "name": "stdout"
        }
      ]
    },
    {
      "cell_type": "code",
      "metadata": {
        "colab": {
          "base_uri": "https://localhost:8080/"
        },
        "id": "bMJJTnX0SfHZ",
        "outputId": "0dcd9198-1f37-4419-e853-2d18d1dce9f6"
      },
      "source": [
        "# Diccionario con parámetros que queremos probar\n",
        "parameters = {'n_estimators': [100, 200, 300], \n",
        "              'learning_rate': [0.3, 0.1], \n",
        "              'max_depth': [5,20], \n",
        "              'reg_alpha': [0, 1, 10]}\n",
        "\n",
        "# Se crea objeto GridSearch\n",
        "XGB_GSCV = GridSearchCV(\n",
        "    estimator = XGBClassifier(), \n",
        "    param_grid = parameters)\n",
        "\n",
        "XGB_GSCV"
      ],
      "execution_count": null,
      "outputs": [
        {
          "output_type": "execute_result",
          "data": {
            "text/plain": [
              "GridSearchCV(cv=None, error_score=nan,\n",
              "             estimator=XGBClassifier(base_score=0.5, booster='gbtree',\n",
              "                                     colsample_bylevel=1, colsample_bynode=1,\n",
              "                                     colsample_bytree=1, gamma=0,\n",
              "                                     learning_rate=0.1, max_delta_step=0,\n",
              "                                     max_depth=3, min_child_weight=1,\n",
              "                                     missing=None, n_estimators=100, n_jobs=1,\n",
              "                                     nthread=None, objective='binary:logistic',\n",
              "                                     random_state=0, reg_alpha=0, reg_lambda=1,\n",
              "                                     scale_pos_weight=1, seed=None, silent=None,\n",
              "                                     subsample=1, verbosity=1),\n",
              "             iid='deprecated', n_jobs=None,\n",
              "             param_grid={'learning_rate': [0.3, 0.1],\n",
              "                         'max_depth': [5, 20, None],\n",
              "                         'n_estimators': [100, 200, 300],\n",
              "                         'reg_alpha': [0, 1, 10]},\n",
              "             pre_dispatch='2*n_jobs', refit=True, return_train_score=False,\n",
              "             scoring=None, verbose=0)"
            ]
          },
          "metadata": {
            "tags": []
          },
          "execution_count": 71
        }
      ]
    },
    {
      "cell_type": "code",
      "metadata": {
        "colab": {
          "base_uri": "https://localhost:8080/"
        },
        "id": "2dZwhPkWSff8",
        "outputId": "8458080e-dc62-442a-e6ce-4f9b6f814753"
      },
      "source": [
        "# Se entrena el objeto GridSearch\n",
        "XGB_GSCV.fit(X_op_train, y_op_train)\n",
        "\n",
        "XGB_GSCV"
      ],
      "execution_count": null,
      "outputs": [
        {
          "output_type": "stream",
          "text": [
            "/usr/local/lib/python3.7/dist-packages/sklearn/model_selection/_validation.py:536: FitFailedWarning: Estimator fit failed. The score on this train-test partition for these parameters will be set to nan. Details: \n",
            "xgboost.core.XGBoostError: Invalid Parameter format for max_depth expect int but value='None'\n",
            "\n",
            "  FitFailedWarning)\n"
          ],
          "name": "stderr"
        }
      ]
    },
    {
      "cell_type": "code",
      "metadata": {
        "id": "64b3ZTb_Seci"
      },
      "source": [
        "XGB_GSCV.cv_results_"
      ],
      "execution_count": null,
      "outputs": []
    },
    {
      "cell_type": "markdown",
      "metadata": {
        "id": "02zrP201Ul4j"
      },
      "source": [
        "## 10.03 EJERCICIO: Modelo Cítricos\n",
        "Encuentra los mejores hiperparámetros posibles para el modelo de Gradient Boosting de cítricos: "
      ]
    },
    {
      "cell_type": "code",
      "metadata": {
        "id": "9dhG3jvkUjes"
      },
      "source": [
        "modelo_GB_citrico = ensemble.GradientBoostingClassifier(\n",
        "    n_estimators = 100)\n",
        "\n",
        "# Entrena y evalúa el árbol\n",
        "entrenar_modelo_y_predecir(modelo_GB_citrico, \n",
        "                           X_train, X_test, y_train, y_test)"
      ],
      "execution_count": null,
      "outputs": []
    },
    {
      "cell_type": "code",
      "metadata": {
        "id": "vzNxR5TwVzGG"
      },
      "source": [
        "# Diccionario con parámetros que queremos probar\n",
        "parameters = {'n_estimators': [100, 200, 300], \n",
        "              'learning_rate': [0.3, 0.1], \n",
        "              'max_depth': [5,10,20]}\n",
        "\n",
        "# Se crea objeto GridSearch\n",
        "GB_GSCV = GridSearchCV(\n",
        "    estimator = ensemble.GradientBoostingClassifier(), \n",
        "    param_grid = parameters)\n",
        "\n",
        "GB_GSCV"
      ],
      "execution_count": null,
      "outputs": []
    },
    {
      "cell_type": "code",
      "metadata": {
        "id": "Xt79Gre_WT0N"
      },
      "source": [
        ""
      ],
      "execution_count": null,
      "outputs": []
    }
  ]
}