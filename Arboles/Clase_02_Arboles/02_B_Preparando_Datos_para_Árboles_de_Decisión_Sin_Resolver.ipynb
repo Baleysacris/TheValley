{
  "nbformat": 4,
  "nbformat_minor": 0,
  "metadata": {
    "colab": {
      "name": "02B Preparando Datos para Árboles de Decisión.ipynb",
      "provenance": [],
      "toc_visible": true,
      "authorship_tag": "ABX9TyO3t4mi0Rp+s6de97Z3VGsD",
      "include_colab_link": true
    },
    "kernelspec": {
      "name": "python3",
      "display_name": "Python 3"
    }
  },
  "cells": [
    {
      "cell_type": "markdown",
      "metadata": {
        "id": "view-in-github",
        "colab_type": "text"
      },
      "source": [
        "<a href=\"https://colab.research.google.com/github/JotaBlanco/TheValley/blob/main/Arboles/Clase_02_Arboles/02_B_Preparando_Datos_para_%C3%81rboles_de_Decisi%C3%B3n_Sin_Resolver.ipynb\" target=\"_parent\"><img src=\"https://colab.research.google.com/assets/colab-badge.svg\" alt=\"Open In Colab\"/></a>"
      ]
    },
    {
      "cell_type": "markdown",
      "metadata": {
        "id": "R53FGLN8jo1L"
      },
      "source": [
        "# 01 INTRO: Árboles de Decisión\r\n",
        "Explicación de cómo preparar los datos para un modelo de árboles de decisión.\r\n",
        "\r\n",
        "Notebook por [Javier Blanco Cordero](https://www.linkedin.com/in/javier-blanco-cordero-71373656/).\r\n",
        "\r\n",
        "### Enlaces de interés\r\n",
        "*   [Slides de presentación](https://docs.google.com/presentation/d/1kiEbdMHy7Ji02SlTxzq913bZ-rcQWn00Td0K_MNVXEk/edit?usp=sharing)\r\n",
        "*   [Enlace a este notebook en Colab](https://colab.research.google.com/github/JotaBlanco/TheValley/blob/main/Arboles/Clase_02_Arboles/02_A_%C3%81rboles_Clasificaci%C3%B3n_M%C3%BAltiple_Resuelto.ipynb)\r\n",
        "\r\n",
        "\r\n"
      ]
    },
    {
      "cell_type": "markdown",
      "metadata": {
        "id": "LSuEDXhPLi8u"
      },
      "source": [
        "## 0101 Qué es un árbol de decisión?\r\n",
        "Un tipo de algoritmo de aprendizaje supervisado que se basa en realizar particiones a partir de distintos niveles de las variables disponibles.\r\n",
        "\r\n",
        "Los árboles de decisión de scikit learn requiren:\r\n",
        "\r\n",
        "\r\n",
        "*   Que no haya nulos entre las variables\r\n",
        "*   Que todas las variables sean numéricas (hay que dumificar las categóricas)\r\n",
        "\r\n"
      ]
    },
    {
      "cell_type": "markdown",
      "metadata": {
        "id": "cnHRaho3rsXS"
      },
      "source": [
        "## 0102 Import\r\n",
        "Importamos todas las librerías necesarias para este análisis ([¿No sabes lo que es una librería de Python?](https://www.quora.com/What-is-a-Python-library-and-what-can-I-use-it-for)): pandas, numpy, seaborn, matplotlib."
      ]
    },
    {
      "cell_type": "code",
      "metadata": {
        "id": "4be6xiUqjPHI"
      },
      "source": [
        "import pandas as pd\r\n",
        "import numpy as np\r\n",
        "import matplotlib.pyplot as plt\r\n",
        "import seaborn as sns\r\n",
        "import graphviz \r\n",
        "from sklearn import tree\r\n",
        "from sklearn.metrics import accuracy_score\r\n",
        "from sklearn.metrics import mean_squared_error"
      ],
      "execution_count": null,
      "outputs": []
    },
    {
      "cell_type": "markdown",
      "metadata": {
        "id": "AblkT14d4Gvt"
      },
      "source": [
        "## 0103 Carga el dataset: notas alumnos portugueses\r\n",
        "Para probar a transformar datos para entrenar árboles de decisión el dataset sobre las notas finales de ciertos estudiantes portugueses de dos instituos en función de ciertas características socio-demográficas. El dataset original se puede encontrr en Kaggle ([aquí](https://www.kaggle.com/dipam7/student-grade-prediction)).\r\n",
        "\r\n",
        "Esta vez no accederemos a la versión que yo había limpiado previamente, sino al dataset en su formato original, que podéis encontrar listo para importar en mi github: 'https://raw.githubusercontent.com/JotaBlanco/TheValley/main/Data/Notas_Estudiantes.csv'. \r\n",
        "\r\n",
        "Importa este dataset en un dataframe llamado **df**."
      ]
    },
    {
      "cell_type": "code",
      "metadata": {
        "id": "GMZACcIXOclu"
      },
      "source": [
        "# Url archivo raw\r\n",
        "url =  'https://raw.githubusercontent.com/JotaBlanco/TheValley/main/Data/Notas_Estudiantes.csv'\r\n",
        "\r\n",
        "# Importa csv\r\n",
        "df = pd.read_csv(url)\r\n",
        "\r\n",
        "# Visualización primeras filas\r\n",
        "df.head()"
      ],
      "execution_count": null,
      "outputs": []
    },
    {
      "cell_type": "markdown",
      "metadata": {
        "id": "KBOQJ0AjdYrM"
      },
      "source": [
        "# 02 EDA\r\n",
        "Realizaremos un pequeño análisis exploratorio visual para familiarizarnos con el dataset. \r\n",
        "\r\n",
        "Recuerda que puedes encontrar mis clases sobre análisis exploratorio [aquí](https://github.com/JotaBlanco/TheValley/tree/main/EDA/)."
      ]
    },
    {
      "cell_type": "code",
      "metadata": {
        "id": "qGrwhGyaj0-a"
      },
      "source": [
        "df.info()"
      ],
      "execution_count": null,
      "outputs": []
    },
    {
      "cell_type": "markdown",
      "metadata": {
        "id": "aw4NKEGOePiM"
      },
      "source": [
        "## 0201 Ensuciamos con nulos\r\n",
        "Para probar cómo arreglar los nulos, vamos a meter primero ciertos nulos en nuestro dataframe."
      ]
    },
    {
      "cell_type": "code",
      "metadata": {
        "id": "4HMrUT2Kekhe"
      },
      "source": [
        "df.columns[:-3]"
      ],
      "execution_count": null,
      "outputs": []
    },
    {
      "cell_type": "code",
      "metadata": {
        "id": "sXkPtfTNecxg"
      },
      "source": [
        "df_2 = df.copy(deep=True)\r\n",
        "\r\n",
        "prop_nulos = 0.05\r\n",
        "for col in df.columns[:-3]:\r\n",
        "  indice_para_nulos = df_2.sample(frac=prop_nulos, replace=False).index\r\n",
        "  df_2.loc[indice_para_nulos,col] = np.NaN\r\n",
        "\r\n",
        "df_2.head(10)"
      ],
      "execution_count": null,
      "outputs": []
    },
    {
      "cell_type": "code",
      "metadata": {
        "id": "8LoZpl8rjWEX"
      },
      "source": [
        "df_2.info()"
      ],
      "execution_count": null,
      "outputs": []
    },
    {
      "cell_type": "markdown",
      "metadata": {
        "id": "4errfzSQfy81"
      },
      "source": [
        "## 0202 Continuamos con el EDA"
      ]
    },
    {
      "cell_type": "code",
      "metadata": {
        "id": "bhkosbpygCzB"
      },
      "source": [
        "df_2.describe()"
      ],
      "execution_count": null,
      "outputs": []
    },
    {
      "cell_type": "code",
      "metadata": {
        "id": "YUz-qSwBjaEW"
      },
      "source": [
        "# Visualización coeficientes Pearson\r\n",
        "plt.figure(figsize=(12,9))\r\n",
        "sns.heatmap(np.round(df_2.corr(),2), \r\n",
        "            vmin=-1, vmax=1, \r\n",
        "            annot=True, cmap=\"coolwarm\")\r\n",
        "plt.show()"
      ],
      "execution_count": null,
      "outputs": []
    },
    {
      "cell_type": "markdown",
      "metadata": {
        "id": "lcnJKyElO8FU"
      },
      "source": [
        "# 03 Preparación de datos para árbol de decisión\r\n",
        "Los árboles de decisión de scikit learn requiren:\r\n",
        "\r\n",
        "*   Que no haya nulos entre las variables\r\n",
        "*   Que todas las variables sean numéricas (hay que dumificar las categóricas)\r\n"
      ]
    },
    {
      "cell_type": "markdown",
      "metadata": {
        "id": "bu-dRbavgWus"
      },
      "source": [
        "## 0301 Inicialización de árbol\r\n",
        "Recordemos cómo entrenar un árbol cuando las variables son numéricas (G2 y G3)."
      ]
    },
    {
      "cell_type": "code",
      "metadata": {
        "id": "ZsyQLVEzhEDs"
      },
      "source": [
        "X = df_2[['G1','G2']]\r\n",
        "y = df_2['G3']\r\n",
        "\r\n",
        "display(len(X))\r\n",
        "display(X.isna().sum())"
      ],
      "execution_count": null,
      "outputs": []
    },
    {
      "cell_type": "code",
      "metadata": {
        "id": "BHJes7PhgoPM"
      },
      "source": [
        "# Inicializo un árbol\r\n",
        "arbolito = tree.DecisionTreeRegressor(max_depth=3)\r\n",
        "# Entreno el árbol\r\n",
        "arbolito = arbolito.fit(X=X, y=y)\r\n",
        "# Uso el árbol para predecir y\r\n",
        "pred_arbolito = arbolito.predict(X)\r\n",
        "# Cómo de buena es la predicción?\r\n",
        "mean_squared_error(y, pred_arbolito, squared=False)"
      ],
      "execution_count": null,
      "outputs": []
    },
    {
      "cell_type": "code",
      "metadata": {
        "id": "2iv_lqrXl766"
      },
      "source": [
        "# Con el método export_text en un print()\r\n",
        "esquema_print = tree.export_text(arbolito, \r\n",
        "                                 feature_names=list(X.columns))\r\n",
        "print(esquema_print)"
      ],
      "execution_count": null,
      "outputs": []
    },
    {
      "cell_type": "markdown",
      "metadata": {
        "id": "p0y__k4SiMS7"
      },
      "source": [
        "## 0301 Limpieza de nulos"
      ]
    },
    {
      "cell_type": "markdown",
      "metadata": {
        "id": "AF5pO7R2klFx"
      },
      "source": [
        "### 030101 Qué pasa cuando hay nulos en los datos"
      ]
    },
    {
      "cell_type": "code",
      "metadata": {
        "id": "56V51DTZiDoh"
      },
      "source": [
        "df_2[['absences','G1', 'G2', 'G3']].head()"
      ],
      "execution_count": null,
      "outputs": []
    },
    {
      "cell_type": "code",
      "metadata": {
        "id": "KahbXvIXgoYR"
      },
      "source": [
        "X = df_2[['absences','G1','G2']]\r\n",
        "y = df_2['G3']\r\n",
        "\r\n",
        "display(len(X))\r\n",
        "display(X.isna().sum())"
      ],
      "execution_count": null,
      "outputs": []
    },
    {
      "cell_type": "code",
      "metadata": {
        "id": "y0Fylsb1kwZL"
      },
      "source": [
        "# Inicializo un árbol\r\n",
        "arbolito = tree.DecisionTreeRegressor(max_depth=3)\r\n",
        "# Entreno el árbol\r\n",
        "arbolito = arbolito.fit(X=X, y=y)\r\n",
        "# Uso el árbol para predecir y\r\n",
        "pred_arbolito = arbolito.predict(X)\r\n",
        "# Cómo de buena es la predicción?\r\n",
        "mean_squared_error(y, pred_arbolito, squared=False)"
      ],
      "execution_count": null,
      "outputs": []
    },
    {
      "cell_type": "markdown",
      "metadata": {
        "id": "V-klD66dlkHl"
      },
      "source": [
        "### 030202 Eliminando nulos\r\n",
        "Con el método .[dropna()](https://pandas.pydata.org/pandas-docs/stable/reference/api/pandas.DataFrame.dropna.html)."
      ]
    },
    {
      "cell_type": "code",
      "metadata": {
        "id": "Y0lN_CPylyAb"
      },
      "source": [
        "X = df_2.dropna(subset=['absences'])[['absences','G1','G2']]\r\n",
        "y = df_2.dropna(subset=['absences'])['G3']\r\n",
        "\r\n",
        "display(len(X))\r\n",
        "display(X.isna().sum())"
      ],
      "execution_count": null,
      "outputs": []
    },
    {
      "cell_type": "code",
      "metadata": {
        "id": "W_SiS48vm57D"
      },
      "source": [
        "# Inicializo un árbol\r\n",
        "arbolito = tree.DecisionTreeRegressor(max_depth=3)\r\n",
        "# Entreno el árbol\r\n",
        "arbolito = arbolito.fit(X=X, y=y)\r\n",
        "# Uso el árbol para predecir y\r\n",
        "pred_arbolito = arbolito.predict(X)\r\n",
        "# Cómo de buena es la predicción?\r\n",
        "mean_squared_error(y, pred_arbolito, squared=False)"
      ],
      "execution_count": null,
      "outputs": []
    },
    {
      "cell_type": "code",
      "metadata": {
        "id": "HliRVIu-m5-l"
      },
      "source": [
        "# Con el método export_text en un print()\r\n",
        "esquema_print = tree.export_text(arbolito, \r\n",
        "                                 feature_names=list(X.columns))\r\n",
        "print(esquema_print)"
      ],
      "execution_count": null,
      "outputs": []
    },
    {
      "cell_type": "markdown",
      "metadata": {
        "id": "QyF4CEk-nfIk"
      },
      "source": [
        "**Problemas de este enfoque**\r\n",
        "\r\n",
        "Eliminando filas tenemos varios problemas: \r\n",
        "*   Perdemos información al perder filas\r\n",
        "\r\n",
        "Sí, nuestra variable estaba a nulo en la filas que hemos eliminado, pero quizás había información útil en el resto de variables que también nos estamos perdiendo.\r\n",
        "*   No hemos resuelto el problema de los nulos\r\n",
        "\r\n",
        "\r\n",
        "Cuando queramos hacer predicciones sobre datos nuevos que contengan nulos tendremos igualmente que desarrollar un método para tratarlos si queremos producir una predicción.\r\n",
        "\r\n"
      ]
    },
    {
      "cell_type": "markdown",
      "metadata": {
        "id": "tRGsnOH1lI9s"
      },
      "source": [
        "### 030103 Rellenando nulos\r\n",
        "Usando el método .[fillna()](https://pandas.pydata.org/pandas-docs/stable/reference/api/pandas.DataFrame.fillna.html)."
      ]
    },
    {
      "cell_type": "markdown",
      "metadata": {
        "id": "hIAwE7W5qGhy"
      },
      "source": [
        "#### Rellenando con 0s"
      ]
    },
    {
      "cell_type": "code",
      "metadata": {
        "id": "sXLw4ruqleKN"
      },
      "source": [
        "X = df_2.loc[:,['absences','G1','G2']]\r\n",
        "X['absences'] = X['absences'].fillna(0)\r\n",
        "y = df_2['G3']\r\n",
        "\r\n",
        "display(len(X))\r\n",
        "display(X.isna().sum())"
      ],
      "execution_count": null,
      "outputs": []
    },
    {
      "cell_type": "code",
      "metadata": {
        "id": "BQ8EongZpVYU"
      },
      "source": [
        "# Inicializo un árbol\r\n",
        "arbolito = tree.DecisionTreeRegressor(max_depth=3)\r\n",
        "# Entreno el árbol\r\n",
        "arbolito = arbolito.fit(X=X, y=y)\r\n",
        "# Uso el árbol para predecir y\r\n",
        "pred_arbolito = arbolito.predict(X)\r\n",
        "# Cómo de buena es la predicción?\r\n",
        "mean_squared_error(y, pred_arbolito, squared=False)"
      ],
      "execution_count": null,
      "outputs": []
    },
    {
      "cell_type": "code",
      "metadata": {
        "id": "yEjAq2bcpW2a"
      },
      "source": [
        "# Con el método export_text en un print()\r\n",
        "esquema_print = tree.export_text(arbolito, \r\n",
        "                                 feature_names=list(X.columns))\r\n",
        "print(esquema_print)"
      ],
      "execution_count": null,
      "outputs": []
    },
    {
      "cell_type": "markdown",
      "metadata": {
        "id": "vvOmcaHjqN8r"
      },
      "source": [
        "#### Rellenando con mediana"
      ]
    },
    {
      "cell_type": "code",
      "metadata": {
        "id": "sY5acK5KqUML"
      },
      "source": [
        "X = df_2.loc[:,['absences','G1','G2']]\r\n",
        "X['absences'] = X['absences'].fillna(X['absences'].median())\r\n",
        "y = df_2['G3']\r\n",
        "\r\n",
        "display(len(X))\r\n",
        "display(X.isna().sum())"
      ],
      "execution_count": null,
      "outputs": []
    },
    {
      "cell_type": "code",
      "metadata": {
        "id": "Qgzcmb11qUPU"
      },
      "source": [
        "# Inicializo un árbol\r\n",
        "arbolito = tree.DecisionTreeRegressor(max_depth=3)\r\n",
        "# Entreno el árbol\r\n",
        "arbolito = arbolito.fit(X=X, y=y)\r\n",
        "# Uso el árbol para predecir y\r\n",
        "pred_arbolito = arbolito.predict(X)\r\n",
        "# Cómo de buena es la predicción?\r\n",
        "mean_squared_error(y, pred_arbolito, squared=False)"
      ],
      "execution_count": null,
      "outputs": []
    },
    {
      "cell_type": "code",
      "metadata": {
        "id": "NYVBro4-qUSm"
      },
      "source": [
        "# Con el método export_text en un print()\r\n",
        "esquema_print = tree.export_text(arbolito, \r\n",
        "                                 feature_names=list(X.columns))\r\n",
        "print(esquema_print)"
      ],
      "execution_count": null,
      "outputs": []
    },
    {
      "cell_type": "markdown",
      "metadata": {
        "id": "sW3n4ad6r77q"
      },
      "source": [
        "#### Reflexión sobre estos dos últimos árboles\r\n",
        "Los dos son iguales! \r\n",
        "\r\n",
        "Pero el método de relleno de nulos para \"absences\" provocaba que esos 20 alumnos acabaran a un lado o a otro de la segunda partición en la rama G2<=10.5.\r\n",
        "\r\n",
        "El método de relleno va a influír en dónde caen las filas con nulos cuando hay una partición, por eso es importante y deberá seguir una lógica lo más realista posible."
      ]
    },
    {
      "cell_type": "markdown",
      "metadata": {
        "id": "VI-afAaGsmsp"
      },
      "source": [
        "### 030104 EJERCICIO\r\n",
        "Queremos hacer un árbol que prediga la nota 'G3' con las variables ['age', 'Medu', 'Fedu', 'traveltime', 'studytime', 'failures', 'famrel', 'freetime', 'goout', 'Dalc', 'Walc', 'health', 'absences'].\r\n",
        "\r\n",
        "Estas variables tienen nulos. Haz 3 modelos:\r\n",
        "\r\n",
        "\r\n",
        "1.   Un modelo eliminando los nulos\r\n",
        "2.   Un modelo rellenando los nulos con 0s\r\n",
        "3.   Un modelo rellenando los nulos con un método un poco más avanzado, de tu elección.\r\n",
        "\r\n"
      ]
    },
    {
      "cell_type": "code",
      "metadata": {
        "id": "NgG5FjRK2NTp"
      },
      "source": [
        "# Visualizamos los datos que vamos a usar\r\n",
        "cols = ['age', 'Medu', 'Fedu', 'traveltime', 'studytime', 'failures', 'famrel', \r\n",
        "        'freetime', 'goout', 'Dalc', 'Walc', 'health', 'absences']\r\n",
        "df_2[cols].head()"
      ],
      "execution_count": null,
      "outputs": []
    },
    {
      "cell_type": "markdown",
      "metadata": {
        "id": "LFPk76RTtt9T"
      },
      "source": [
        "#### Modelo 1\r\n",
        "Eliminando los nulos"
      ]
    },
    {
      "cell_type": "code",
      "metadata": {
        "id": "aBaMBRvrst-d"
      },
      "source": [
        "# Genera las variables X e Y\r\n",
        "cols =  ['age', 'Medu', 'Fedu', 'traveltime', 'studytime', 'failures', 'famrel', \r\n",
        "         'freetime', 'goout', 'Dalc', 'Walc', 'health', 'absences']\r\n",
        "\r\n",
        "X = ...\r\n",
        "y = ...\r\n",
        "\r\n",
        "# Visualiza la longitud y el número de nulos\r\n",
        "...\r\n",
        "..."
      ],
      "execution_count": null,
      "outputs": []
    },
    {
      "cell_type": "code",
      "metadata": {
        "id": "klxxlvUtqUVt"
      },
      "source": [
        "# Inicializo un árbol\r\n",
        "...\r\n",
        "# Entreno el árbol\r\n",
        "...\r\n",
        "# Uso el árbol para predecir y\r\n",
        "...\r\n",
        "# Cómo de buena es la predicción?\r\n",
        "..."
      ],
      "execution_count": null,
      "outputs": []
    },
    {
      "cell_type": "code",
      "metadata": {
        "id": "vUnkQlkoulkz"
      },
      "source": [
        "# Visualiza el árbol\r\n",
        "..."
      ],
      "execution_count": null,
      "outputs": []
    },
    {
      "cell_type": "markdown",
      "metadata": {
        "id": "5ol6Dvnfur73"
      },
      "source": [
        "#### Modelo 2\r\n",
        "Rellenamos los nulos con 0s."
      ]
    },
    {
      "cell_type": "code",
      "metadata": {
        "id": "XQzQ0Htmur73"
      },
      "source": [
        "# Genera las variables X e Y\r\n",
        "cols =  ['age', 'Medu', 'Fedu', 'traveltime', 'studytime', 'failures', 'famrel', \r\n",
        "         'freetime', 'goout', 'Dalc', 'Walc', 'health', 'absences']\r\n",
        "\r\n",
        "X = ...\r\n",
        "...\r\n",
        "y = ...\r\n",
        "\r\n",
        "# Visualiza la longitud y el número de nulos\r\n",
        "...\r\n",
        "..."
      ],
      "execution_count": null,
      "outputs": []
    },
    {
      "cell_type": "code",
      "metadata": {
        "id": "DZ3WlWudur74"
      },
      "source": [
        "# Inicializo un árbol\r\n",
        "...\r\n",
        "# Entreno el árbol\r\n",
        "...\r\n",
        "# Uso el árbol para predecir y\r\n",
        "...\r\n",
        "# Cómo de buena es la predicción?\r\n",
        "..."
      ],
      "execution_count": null,
      "outputs": []
    },
    {
      "cell_type": "code",
      "metadata": {
        "id": "2JOf2IL3ur74"
      },
      "source": [
        "# Visualiza el árbol\r\n",
        "..."
      ],
      "execution_count": null,
      "outputs": []
    },
    {
      "cell_type": "markdown",
      "metadata": {
        "id": "YUoakiXUvJzp"
      },
      "source": [
        "#### Modelo 3\r\n",
        "Rellenamos los nulos."
      ]
    },
    {
      "cell_type": "code",
      "metadata": {
        "id": "Y81YrOwHvl8b"
      },
      "source": [
        "# Genera las variables X e Y\r\n",
        "cols =  ['age', 'Medu', 'Fedu', 'traveltime', 'studytime', 'failures', 'famrel', \r\n",
        "         'freetime', 'goout', 'Dalc', 'Walc', 'health', 'absences']\r\n",
        "\r\n",
        "X = ...\r\n",
        "...\r\n",
        "...\r\n",
        "y = ..."
      ],
      "execution_count": null,
      "outputs": []
    },
    {
      "cell_type": "code",
      "metadata": {
        "id": "I39B40npvJzu"
      },
      "source": [
        "# Inicializo un árbol\r\n",
        "...\r\n",
        "# Entreno el árbol\r\n",
        "...\r\n",
        "# Uso el árbol para predecir y\r\n",
        "...\r\n",
        "# Cómo de buena es la predicción?\r\n",
        "..."
      ],
      "execution_count": null,
      "outputs": []
    },
    {
      "cell_type": "code",
      "metadata": {
        "id": "zLBf8AdGvJzv"
      },
      "source": [
        "# Visualiza el árbol\r\n",
        "..."
      ],
      "execution_count": null,
      "outputs": []
    },
    {
      "cell_type": "markdown",
      "metadata": {
        "id": "FBiApGMl3eHN"
      },
      "source": [
        "## 0302 Dumificación vars categóricas"
      ]
    },
    {
      "cell_type": "markdown",
      "metadata": {
        "id": "_XJZv6FU3nTT"
      },
      "source": [
        "### 030201 Qué pasa cuando hay vars categóricas"
      ]
    },
    {
      "cell_type": "code",
      "metadata": {
        "id": "iOV5aUIZ3cNg"
      },
      "source": [
        "df_2[['school', 'sex', 'Mjob', 'G3']].head()"
      ],
      "execution_count": null,
      "outputs": []
    },
    {
      "cell_type": "code",
      "metadata": {
        "id": "m8GD170U39NF"
      },
      "source": [
        "X = df_2[['school','sex', 'Mjob']]\r\n",
        "y = df_2['G3']\r\n",
        "\r\n",
        "display(len(X))\r\n",
        "display(X.isna().sum())"
      ],
      "execution_count": null,
      "outputs": []
    },
    {
      "cell_type": "code",
      "metadata": {
        "id": "FPsu4YLZ6G57"
      },
      "source": [
        "# Inicializo un árbol\r\n",
        "arbolito = tree.DecisionTreeRegressor(max_depth=3)\r\n",
        "# Entreno el árbol\r\n",
        "arbolito = arbolito.fit(X=X, y=y)\r\n",
        "# Uso el árbol para predecir y\r\n",
        "pred_arbolito = arbolito.predict(X)\r\n",
        "# Cómo de buena es la predicción?\r\n",
        "mean_squared_error(y, pred_arbolito, squared=False)"
      ],
      "execution_count": null,
      "outputs": []
    },
    {
      "cell_type": "markdown",
      "metadata": {
        "id": "5_Gc2bPg6OJR"
      },
      "source": [
        "### 030202 Dumificación\r\n",
        "Utilizando la función [.get_dummies()](https://pandas.pydata.org/pandas-docs/stable/reference/api/pandas.get_dummies.html)."
      ]
    },
    {
      "cell_type": "code",
      "metadata": {
        "id": "mCL9x_fg6bHw"
      },
      "source": [
        "X.head()"
      ],
      "execution_count": null,
      "outputs": []
    },
    {
      "cell_type": "code",
      "metadata": {
        "id": "tW36P8sD4C5e"
      },
      "source": [
        "pd.get_dummies(X, prefix_sep='_').head()"
      ],
      "execution_count": null,
      "outputs": []
    },
    {
      "cell_type": "code",
      "metadata": {
        "id": "-kSDr8go4c9x"
      },
      "source": [
        "pd.get_dummies(X, prefix_sep='__', dummy_na=True).head()"
      ],
      "execution_count": null,
      "outputs": []
    },
    {
      "cell_type": "code",
      "metadata": {
        "id": "qO__ze7q4z2P"
      },
      "source": [
        "pd.get_dummies(X, prefix_sep='_', drop_first=True).head()"
      ],
      "execution_count": null,
      "outputs": []
    },
    {
      "cell_type": "code",
      "metadata": {
        "id": "Lxk4AqrW5tPK"
      },
      "source": [
        "pd.get_dummies(X, prefix_sep='_', drop_first=True, columns=['school']).head()"
      ],
      "execution_count": null,
      "outputs": []
    },
    {
      "cell_type": "code",
      "metadata": {
        "id": "fAUKAlYr54nQ"
      },
      "source": [
        "X = pd.get_dummies(df_2[['school','sex', 'Mjob']], \r\n",
        "                   prefix_sep='_', \r\n",
        "                   drop_first=True)\r\n",
        "y = df_2['G3']\r\n",
        "\r\n",
        "display(len(X))\r\n",
        "display(X.isna().sum())"
      ],
      "execution_count": null,
      "outputs": []
    },
    {
      "cell_type": "code",
      "metadata": {
        "id": "PI1Zf1iX7UeL"
      },
      "source": [
        "# Inicializo un árbol\r\n",
        "arbolito = tree.DecisionTreeRegressor(max_depth=4)\r\n",
        "# Entreno el árbol\r\n",
        "arbolito = arbolito.fit(X=X, y=y)\r\n",
        "# Uso el árbol para predecir y\r\n",
        "pred_arbolito = arbolito.predict(X)\r\n",
        "# Cómo de buena es la predicción?\r\n",
        "mean_squared_error(y, pred_arbolito, squared=False)"
      ],
      "execution_count": null,
      "outputs": []
    },
    {
      "cell_type": "code",
      "metadata": {
        "id": "Xo3X-2ou7jvV"
      },
      "source": [
        "# Con el método export_text en un print()\r\n",
        "esquema_print = tree.export_text(arbolito, \r\n",
        "                                 feature_names=list(X.columns))\r\n",
        "print(esquema_print)"
      ],
      "execution_count": null,
      "outputs": []
    },
    {
      "cell_type": "markdown",
      "metadata": {
        "id": "Veq9drco735k"
      },
      "source": [
        "# 04 Ejercicio\r\n",
        "Utilizando df_2 (la versión del dataset con nulos), crea un modelo que prediga 'G3' utilizando las variables predictivas:\r\n",
        "\r\n",
        "['school', 'sex', 'age', 'famsize', 'Pstatus', 'Medu', 'Fedu', 'Mjob', 'Fjob', 'studytime', 'failures', 'schoolsup', 'health', 'absences']\r\n",
        "\r\n"
      ]
    },
    {
      "cell_type": "code",
      "metadata": {
        "id": "6KIx7TJY9OS7"
      },
      "source": [
        "# Fijate en este subset de datos\r\n",
        "df_2[['school',  'Mjob', 'age']].head()"
      ],
      "execution_count": null,
      "outputs": []
    },
    {
      "cell_type": "code",
      "metadata": {
        "id": "4DQGU2m_7rMp"
      },
      "source": [
        "# Y ahora fíjate en lo que hace esto a partir de dicho subset:\r\n",
        "pd.get_dummies(df_2[['school',  'Mjob', 'age']], \r\n",
        "               prefix_sep='_', \r\n",
        "               drop_first=True, \r\n",
        "               columns=['school', 'Mjob'])"
      ],
      "execution_count": null,
      "outputs": []
    },
    {
      "cell_type": "code",
      "metadata": {
        "id": "dYHznxWJ8Wyt"
      },
      "source": [
        "# Ahora genera el dataset X con las variables predictoras dumificadas\r\n",
        "X = pd.get_dummies(...)\r\n",
        "y = ...\r\n",
        "\r\n",
        "...\r\n",
        "..."
      ],
      "execution_count": null,
      "outputs": []
    },
    {
      "cell_type": "code",
      "metadata": {
        "id": "8rGwou9_-OkE"
      },
      "source": [
        "# Limpia los nulos\r\n",
        "...\r\n",
        "...\r\n",
        "\r\n",
        "display(len(X))\r\n",
        "display(X.isna().sum())"
      ],
      "execution_count": null,
      "outputs": []
    },
    {
      "cell_type": "code",
      "metadata": {
        "id": "Xghb0BSU-kd4"
      },
      "source": [
        "# Inicializo un árbol\r\n",
        "...\r\n",
        "# Entreno el árbol\r\n",
        "...\r\n",
        "# Uso el árbol para predecir y\r\n",
        "...\r\n",
        "# Cómo de buena es la predicción?\r\n",
        "..."
      ],
      "execution_count": null,
      "outputs": []
    },
    {
      "cell_type": "code",
      "metadata": {
        "id": "34udHBlC--I2"
      },
      "source": [
        "# Visualiza el árbol\r\n",
        "..."
      ],
      "execution_count": null,
      "outputs": []
    },
    {
      "cell_type": "code",
      "metadata": {
        "id": "8SZFkA-j_CGv"
      },
      "source": [
        ""
      ],
      "execution_count": null,
      "outputs": []
    }
  ]
}