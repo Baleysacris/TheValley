{
  "nbformat": 4,
  "nbformat_minor": 0,
  "metadata": {
    "colab": {
      "name": "03 C _ Introducción_analisis_causal.ipynb",
      "provenance": [],
      "toc_visible": true,
      "authorship_tag": "ABX9TyNbvhcn8ATkvr9PH7YmyFG2",
      "include_colab_link": true
    },
    "kernelspec": {
      "name": "python3",
      "display_name": "Python 3"
    }
  },
  "cells": [
    {
      "cell_type": "markdown",
      "metadata": {
        "id": "view-in-github",
        "colab_type": "text"
      },
      "source": [
        "<a href=\"https://colab.research.google.com/github/JotaBlanco/TheValley/blob/main/Notebooks/03-analisis-univariante-causal-multivariante/03_C___Introducci%C3%B3n_analisis_causal_sin_resolver.ipynb\" target=\"_parent\"><img src=\"https://colab.research.google.com/assets/colab-badge.svg\" alt=\"Open In Colab\"/></a>"
      ]
    },
    {
      "cell_type": "markdown",
      "metadata": {
        "id": "R53FGLN8jo1L"
      },
      "source": [
        "# 01 INTRO: Análisis Causal \r\n",
        "El análisis causal trata de encontrar las relaciones causales (no solo asociaciones) entre las variables.\r\n",
        "\r\n",
        "Notebook por [Javier Blanco Cordero](https://www.linkedin.com/in/javier-blanco-cordero-71373656/).\r\n",
        "\r\n",
        "### Enlaces de interés\r\n",
        "*   [Slides de presentación](https://docs.google.com/presentation/d/1WNWGnLUyiGqwFf92V3V_szu3QTD_0EQY5GZjhFgen5Q/edit?usp=sharing)\r\n",
        "*   [Enlace a este notebook en Colab](https://colab.research.google.com/github/JotaBlanco/TheValley/blob/main/Notebooks/03-analisis-univariante-causal-multivariante/03_C___Introducci%C3%B3n_analisis_causal.ipynb)\r\n",
        "\r\n",
        "\r\n"
      ]
    },
    {
      "cell_type": "markdown",
      "metadata": {
        "id": "LSuEDXhPLi8u"
      },
      "source": [
        "## 0101 Qué es un análisis univariante?\r\n",
        "El análisis univariante consiste en estudiar la distribución y características de una sola variable.\r\n",
        "\r\n",
        "Veamos con ejemplos:"
      ]
    },
    {
      "cell_type": "markdown",
      "metadata": {
        "id": "cnHRaho3rsXS"
      },
      "source": [
        "## 0102 Import\r\n",
        "Importamos todas las librerías necesarias para este análisis ([¿No sabes lo que es una librería de Python?](https://www.quora.com/What-is-a-Python-library-and-what-can-I-use-it-for)): pandas, numpy, seaborn, matplotlib."
      ]
    },
    {
      "cell_type": "code",
      "metadata": {
        "id": "4be6xiUqjPHI"
      },
      "source": [
        "import pandas as pd\r\n",
        "import numpy as np\r\n",
        "import matplotlib.pyplot as plt\r\n",
        "import seaborn as sns"
      ],
      "execution_count": 104,
      "outputs": []
    },
    {
      "cell_type": "markdown",
      "metadata": {
        "id": "AblkT14d4Gvt"
      },
      "source": [
        "## 0103 Carga el dataset Fifa19\r\n",
        "Para probar a hacer análisis univariantes utilizaremos el dataframe con datos ya limpios del fifa 19 ([aquí](https://drive.google.com/file/d/1P0sQHp1bPiKbL-MSr7FndJRgowvOLdjU/view?usp=sharing) está mi archivo ya limpio). Importa este dataset en un dataframe llamado **df_fifa19**.\r\n",
        "\r\n",
        "Utiliza solo las columnas cols = ['Name', 'Age', 'Nationality', 'Overall', 'Potential', 'Club', \r\n",
        "        'Height_cm', 'Weight_kg', 'Value_€', 'Wage_€', \r\n",
        "        'Release Clause_€', 'Preferred Foot', 'Position', 'SprintSpeed'] y en este orden."
      ]
    },
    {
      "cell_type": "code",
      "metadata": {
        "colab": {
          "base_uri": "https://localhost:8080/",
          "height": 247
        },
        "id": "GMZACcIXOclu",
        "outputId": "ce2afc8e-9ac0-45cc-b8d1-013d54bade0f"
      },
      "source": [
        "cols = ['Name', 'Age', 'Nationality', 'Overall', 'Potential', 'Club', \r\n",
        "        'Height_cm', 'Weight_kg', 'Value_€', 'Wage_€', \r\n",
        "        'Release Clause_€', 'Preferred Foot', 'Position', 'SprintSpeed']\r\n",
        "\r\n",
        "# Url\r\n",
        "url = \"https://raw.githubusercontent.com/JotaBlanco/TheValley/main/Data/Fifa19_Clean.csv\"\r\n",
        "\r\n",
        "# Importamos el archivos usando read_csv()\r\n",
        "df_fifa19 = pd.read_csv(url, usecols=cols)\r\n",
        "df_fifa19.head(3)"
      ],
      "execution_count": 105,
      "outputs": [
        {
          "output_type": "execute_result",
          "data": {
            "text/html": [
              "<div>\n",
              "<style scoped>\n",
              "    .dataframe tbody tr th:only-of-type {\n",
              "        vertical-align: middle;\n",
              "    }\n",
              "\n",
              "    .dataframe tbody tr th {\n",
              "        vertical-align: top;\n",
              "    }\n",
              "\n",
              "    .dataframe thead th {\n",
              "        text-align: right;\n",
              "    }\n",
              "</style>\n",
              "<table border=\"1\" class=\"dataframe\">\n",
              "  <thead>\n",
              "    <tr style=\"text-align: right;\">\n",
              "      <th></th>\n",
              "      <th>Name</th>\n",
              "      <th>Age</th>\n",
              "      <th>Nationality</th>\n",
              "      <th>Overall</th>\n",
              "      <th>Potential</th>\n",
              "      <th>Club</th>\n",
              "      <th>Preferred Foot</th>\n",
              "      <th>Position</th>\n",
              "      <th>SprintSpeed</th>\n",
              "      <th>Weight_kg</th>\n",
              "      <th>Value_€</th>\n",
              "      <th>Wage_€</th>\n",
              "      <th>Release Clause_€</th>\n",
              "      <th>Height_cm</th>\n",
              "    </tr>\n",
              "  </thead>\n",
              "  <tbody>\n",
              "    <tr>\n",
              "      <th>0</th>\n",
              "      <td>L. Messi</td>\n",
              "      <td>31</td>\n",
              "      <td>Argentina</td>\n",
              "      <td>94</td>\n",
              "      <td>94</td>\n",
              "      <td>FC Barcelona</td>\n",
              "      <td>Left</td>\n",
              "      <td>RF</td>\n",
              "      <td>86.0</td>\n",
              "      <td>72.121128</td>\n",
              "      <td>110500000.0</td>\n",
              "      <td>565000.0</td>\n",
              "      <td>226500000.0</td>\n",
              "      <td>170.18</td>\n",
              "    </tr>\n",
              "    <tr>\n",
              "      <th>1</th>\n",
              "      <td>Cristiano Ronaldo</td>\n",
              "      <td>33</td>\n",
              "      <td>Portugal</td>\n",
              "      <td>94</td>\n",
              "      <td>94</td>\n",
              "      <td>Juventus</td>\n",
              "      <td>Right</td>\n",
              "      <td>ST</td>\n",
              "      <td>91.0</td>\n",
              "      <td>83.007336</td>\n",
              "      <td>77000000.0</td>\n",
              "      <td>405000.0</td>\n",
              "      <td>127100000.0</td>\n",
              "      <td>187.96</td>\n",
              "    </tr>\n",
              "    <tr>\n",
              "      <th>2</th>\n",
              "      <td>Neymar Jr</td>\n",
              "      <td>26</td>\n",
              "      <td>Brazil</td>\n",
              "      <td>92</td>\n",
              "      <td>93</td>\n",
              "      <td>Paris Saint-Germain</td>\n",
              "      <td>Right</td>\n",
              "      <td>LW</td>\n",
              "      <td>90.0</td>\n",
              "      <td>68.038800</td>\n",
              "      <td>118500000.0</td>\n",
              "      <td>290000.0</td>\n",
              "      <td>228100000.0</td>\n",
              "      <td>175.26</td>\n",
              "    </tr>\n",
              "  </tbody>\n",
              "</table>\n",
              "</div>"
            ],
            "text/plain": [
              "                Name  Age Nationality  ...    Wage_€  Release Clause_€ Height_cm\n",
              "0           L. Messi   31   Argentina  ...  565000.0       226500000.0    170.18\n",
              "1  Cristiano Ronaldo   33    Portugal  ...  405000.0       127100000.0    187.96\n",
              "2          Neymar Jr   26      Brazil  ...  290000.0       228100000.0    175.26\n",
              "\n",
              "[3 rows x 14 columns]"
            ]
          },
          "metadata": {
            "tags": []
          },
          "execution_count": 105
        }
      ]
    },
    {
      "cell_type": "markdown",
      "metadata": {
        "id": "KBOQJ0AjdYrM"
      },
      "source": [
        "# 02 Azar\r\n",
        "El azar puede ser la fuente de una correlación.\r\n",
        "\r\n",
        "Imaginémonos dos monedas de 1€. Una es de Pepe, y la otra de Carmen. Se ponen de acuerdo y tiran sus respectivas monedas 10 veces. Anotan un 1 si sale cara, un 0 si sale cruz.  "
      ]
    },
    {
      "cell_type": "markdown",
      "metadata": {
        "id": "ewIIpx81R01F"
      },
      "source": [
        "## 0201 Probabilidad de correlación\r\n",
        "Qué probabilidad hay de que (solo por azar) obtengan una correlación entre ambas monedas mayor a [0.5]?"
      ]
    },
    {
      "cell_type": "code",
      "metadata": {
        "colab": {
          "base_uri": "https://localhost:8080/"
        },
        "id": "qrTx3WKqRVwS",
        "outputId": "119b45a6-67c3-4393-921a-926e059c4ff5"
      },
      "source": [
        "# Definimos una moneda\r\n",
        "moneda = pd.Series([0,1])\r\n",
        "moneda"
      ],
      "execution_count": 106,
      "outputs": [
        {
          "output_type": "execute_result",
          "data": {
            "text/plain": [
              "0    0\n",
              "1    1\n",
              "dtype: int64"
            ]
          },
          "metadata": {
            "tags": []
          },
          "execution_count": 106
        }
      ]
    },
    {
      "cell_type": "code",
      "metadata": {
        "colab": {
          "base_uri": "https://localhost:8080/"
        },
        "id": "Y8kyPWV3SwaT",
        "outputId": "e8e8d730-cd19-4f8b-d70b-4a710afdf51d"
      },
      "source": [
        "# Ejemplo de tirada\r\n",
        "moneda.sample(10, replace=True).reset_index(drop=True)"
      ],
      "execution_count": 107,
      "outputs": [
        {
          "output_type": "execute_result",
          "data": {
            "text/plain": [
              "0    0\n",
              "1    1\n",
              "2    1\n",
              "3    0\n",
              "4    1\n",
              "5    1\n",
              "6    1\n",
              "7    0\n",
              "8    1\n",
              "9    0\n",
              "dtype: int64"
            ]
          },
          "metadata": {
            "tags": []
          },
          "execution_count": 107
        }
      ]
    },
    {
      "cell_type": "code",
      "metadata": {
        "id": "9kp8EoANSe_B"
      },
      "source": [
        "#Experimento\r\n",
        "# Primero generamos una variable donde guardaremos los valores de la correlación\r\n",
        "correlacion = []\r\n",
        "\r\n",
        "# Empezamos experimento \r\n",
        "for n_experimento in range(10000):\r\n",
        "  tirada_pepe = moneda.sample(10, replace=True).reset_index(drop=True)\r\n",
        "  tirada_carmen = moneda.sample(10, replace=True).reset_index(drop=True)\r\n",
        "  correlacion.append(tirada_pepe.corr(tirada_carmen))"
      ],
      "execution_count": 108,
      "outputs": []
    },
    {
      "cell_type": "code",
      "metadata": {
        "colab": {
          "base_uri": "https://localhost:8080/",
          "height": 268
        },
        "id": "Yq7h2nZfTi_5",
        "outputId": "5d2ec1ca-4f2b-44d2-ee76-d7c7c411eb88"
      },
      "source": [
        "# Visualizamos la distribución de correlación\r\n",
        "plt.hist(correlacion, bins=[-1, -0.5, 0, 0.5, 1])\r\n",
        "plt.show()"
      ],
      "execution_count": 109,
      "outputs": [
        {
          "output_type": "display_data",
          "data": {
            "image/png": "[encoded data removed]",
            "text/plain": [
              "<Figure size 432x288 with 1 Axes>"
            ]
          },
          "metadata": {
            "tags": []
          }
        }
      ]
    },
    {
      "cell_type": "code",
      "metadata": {
        "colab": {
          "base_uri": "https://localhost:8080/"
        },
        "id": "nZT8qXdQUuGS",
        "outputId": "5f383491-f2b7-4378-8381-302fe8fdbba0"
      },
      "source": [
        "(np.abs(correlacion)>=0.5).sum() / len(correlacion)"
      ],
      "execution_count": 110,
      "outputs": [
        {
          "output_type": "execute_result",
          "data": {
            "text/plain": [
              "0.1398"
            ]
          },
          "metadata": {
            "tags": []
          },
          "execution_count": 110
        }
      ]
    },
    {
      "cell_type": "markdown",
      "metadata": {
        "id": "qA9WQyk6VXlV"
      },
      "source": [
        "## 0202 Y si tiran la moneda 20 veces? y 100?\r\n",
        "La probabilidad de que el azar sea el causante de una correlación disminuye cuando el tamaño de la muestra es mayor (es decir, cuando tiran la moneda más veces)."
      ]
    },
    {
      "cell_type": "code",
      "metadata": {
        "id": "NoAbyEjLVrMC"
      },
      "source": [
        "# EXPERIMENTO\r\n",
        "# Inicializamos un dataframe para guardar los resultados\r\n",
        "df_resultados = pd.DataFrame()\r\n",
        "\r\n",
        "# Probamos para distintos números de veces que se tiran la moneda\r\n",
        "for n_tiradas in [5, 10, 20, 50, 100]:\r\n",
        "\r\n",
        "  # Primero generamos una variable donde guardaremos los valores de la correlación\r\n",
        "  correlacion = []\r\n",
        "\r\n",
        "  # Empezamos experimento \r\n",
        "  for n_experimento in range(10000):\r\n",
        "    tirada_pepe = moneda.sample(n_tiradas, replace=True).reset_index(drop=True)\r\n",
        "    tirada_carmen = moneda.sample(n_tiradas, replace=True).reset_index(drop=True)\r\n",
        "    correlacion.append(tirada_pepe.corr(tirada_carmen))\r\n",
        "  \r\n",
        "  # Guardamos el resultado en el dataframe\r\n",
        "  df_resultados[str(n_tiradas)+'_tiradas'] = correlacion"
      ],
      "execution_count": 111,
      "outputs": []
    },
    {
      "cell_type": "code",
      "metadata": {
        "colab": {
          "base_uri": "https://localhost:8080/",
          "height": 204
        },
        "id": "nsVwldlkW7DC",
        "outputId": "31db4403-3ae7-4a33-9f71-7fb6909a3f04"
      },
      "source": [
        "df_resultados.head()"
      ],
      "execution_count": 112,
      "outputs": [
        {
          "output_type": "execute_result",
          "data": {
            "text/html": [
              "<div>\n",
              "<style scoped>\n",
              "    .dataframe tbody tr th:only-of-type {\n",
              "        vertical-align: middle;\n",
              "    }\n",
              "\n",
              "    .dataframe tbody tr th {\n",
              "        vertical-align: top;\n",
              "    }\n",
              "\n",
              "    .dataframe thead th {\n",
              "        text-align: right;\n",
              "    }\n",
              "</style>\n",
              "<table border=\"1\" class=\"dataframe\">\n",
              "  <thead>\n",
              "    <tr style=\"text-align: right;\">\n",
              "      <th></th>\n",
              "      <th>5_tiradas</th>\n",
              "      <th>10_tiradas</th>\n",
              "      <th>20_tiradas</th>\n",
              "      <th>50_tiradas</th>\n",
              "      <th>100_tiradas</th>\n",
              "    </tr>\n",
              "  </thead>\n",
              "  <tbody>\n",
              "    <tr>\n",
              "      <th>0</th>\n",
              "      <td>-0.666667</td>\n",
              "      <td>-8.908708e-02</td>\n",
              "      <td>1.919192e-01</td>\n",
              "      <td>-0.003213</td>\n",
              "      <td>-0.046506</td>\n",
              "    </tr>\n",
              "    <tr>\n",
              "      <th>1</th>\n",
              "      <td>0.666667</td>\n",
              "      <td>2.000000e-01</td>\n",
              "      <td>1.308410e-17</td>\n",
              "      <td>0.244177</td>\n",
              "      <td>0.060012</td>\n",
              "    </tr>\n",
              "    <tr>\n",
              "      <th>2</th>\n",
              "      <td>-0.408248</td>\n",
              "      <td>-2.266233e-17</td>\n",
              "      <td>2.041241e-01</td>\n",
              "      <td>-0.196778</td>\n",
              "      <td>-0.143516</td>\n",
              "    </tr>\n",
              "    <tr>\n",
              "      <th>3</th>\n",
              "      <td>-0.166667</td>\n",
              "      <td>2.721655e-01</td>\n",
              "      <td>3.750000e-01</td>\n",
              "      <td>0.003213</td>\n",
              "      <td>0.304662</td>\n",
              "    </tr>\n",
              "    <tr>\n",
              "      <th>4</th>\n",
              "      <td>-0.408248</td>\n",
              "      <td>-2.182179e-01</td>\n",
              "      <td>3.898194e-01</td>\n",
              "      <td>-0.079420</td>\n",
              "      <td>-0.118389</td>\n",
              "    </tr>\n",
              "  </tbody>\n",
              "</table>\n",
              "</div>"
            ],
            "text/plain": [
              "   5_tiradas    10_tiradas    20_tiradas  50_tiradas  100_tiradas\n",
              "0  -0.666667 -8.908708e-02  1.919192e-01   -0.003213    -0.046506\n",
              "1   0.666667  2.000000e-01  1.308410e-17    0.244177     0.060012\n",
              "2  -0.408248 -2.266233e-17  2.041241e-01   -0.196778    -0.143516\n",
              "3  -0.166667  2.721655e-01  3.750000e-01    0.003213     0.304662\n",
              "4  -0.408248 -2.182179e-01  3.898194e-01   -0.079420    -0.118389"
            ]
          },
          "metadata": {
            "tags": []
          },
          "execution_count": 112
        }
      ]
    },
    {
      "cell_type": "code",
      "metadata": {
        "colab": {
          "base_uri": "https://localhost:8080/"
        },
        "id": "PMXMF9ALWvl0",
        "outputId": "099d568a-000c-4459-eb85-e2d0d90d9795"
      },
      "source": [
        "filtro_interes = df_resultados.abs()>=0.5\r\n",
        "filtro_interes.sum()/len(df_resultados)"
      ],
      "execution_count": 113,
      "outputs": [
        {
          "output_type": "execute_result",
          "data": {
            "text/plain": [
              "5_tiradas      0.3322\n",
              "10_tiradas     0.1459\n",
              "20_tiradas     0.0307\n",
              "50_tiradas     0.0005\n",
              "100_tiradas    0.0000\n",
              "dtype: float64"
            ]
          },
          "metadata": {
            "tags": []
          },
          "execution_count": 113
        }
      ]
    },
    {
      "cell_type": "markdown",
      "metadata": {
        "id": "wtgK8sLwYlXi"
      },
      "source": [
        "# 03 Relación causal directa\r\n",
        "No hay métodos estadísticos que nos permitan saber si la relación entre dos variables es causal. Sólo conocimiento sobre el sistema que genera los datos nos permitirá hacer este tipo de juicios.\r\n",
        "\r\n",
        "Lo que sí podemos calcular es la fortaleza de la asociación entre las variables, como hemos visto en el [notebook de análisis bivariantes](https://colab.research.google.com/github/JotaBlanco/TheValley/blob/main/Notebooks/03-analisis-univariante-causal-multivariante/03_B___Analisis_multivariante.ipynb). Por ejemplo, podríamos utilizar la función desarrollada en el [EJERCICIO 5](https://colab.research.google.com/github/JotaBlanco/TheValley/blob/main/Notebooks/02-analisis-exploratorio-visual/EJERCICIO_5___EDA_Visual_Funcion_Scatter.ipynb).\r\n"
      ]
    },
    {
      "cell_type": "code",
      "metadata": {
        "id": "3iLQb80UBvMZ"
      },
      "source": [
        "# FUNCIÓN EJERCICIO 5\r\n",
        "def evaluacion_correlacion(vector_x, nombre_x, vector_y, nombre_y):\r\n",
        "  # Estilo seaborn\r\n",
        "  sns.set()\r\n",
        "\r\n",
        "  # Tamaño de 7.7 x 7.5\r\n",
        "  plt.figure(figsize=(7.5, 7.5))\r\n",
        "\r\n",
        "  # DIAGRAMA DE DISPERSIÓN\r\n",
        "  # Simplemente utilizamos plt.scatter()\r\n",
        "  plt.scatter(vector_x, \r\n",
        "              vector_y, \r\n",
        "              alpha = 0.05)\r\n",
        "  \r\n",
        "  # COEFICIENTE DE CORRELACIÓN\r\n",
        "  # Calculamos el coeficiente pearson redondeando a dos cifras (0.XX) ... \r\n",
        "  # ... y lo guardamos en formato texto (str)\r\n",
        "  corr_formato_texto = str(round(np.corrcoef(vector_x, vector_y)[0,1],2))\r\n",
        "\r\n",
        "  # Calculamos las coordenadas donde posicionar el texto (en el medio del gráfico)\r\n",
        "  coordenada_x = vector_x.min() + (vector_x.max()-vector_x.min())/2\r\n",
        "  coordenada_y = vector_y.min() + (vector_y.max()-vector_y.min())/2\r\n",
        "  \r\n",
        "  # Utilizamos la función plt.text() \r\n",
        "  plt.text(s = corr_formato_texto, \r\n",
        "           x = coordenada_x, \r\n",
        "           y = coordenada_y,\r\n",
        "           fontsize=150, \r\n",
        "           horizontalalignment='center',\r\n",
        "           verticalalignment='center', \r\n",
        "           color = 'white', \r\n",
        "           alpha = 0.85)\r\n",
        "  \r\n",
        "  # Añadimos detalles a la imagen\r\n",
        "  plt.ylabel(nombre_y)\r\n",
        "  plt.xlabel(nombre_x)\r\n",
        "  plt.title('CORRELACIÓN ' + nombre_x + ' VS ' + nombre_y,\r\n",
        "            fontsize = 15)\r\n",
        "  plt.show()"
      ],
      "execution_count": 114,
      "outputs": []
    },
    {
      "cell_type": "markdown",
      "metadata": {
        "id": "xl7ya1J9y6A0"
      },
      "source": [
        "# 04 Presencia de confounders\r\n",
        "La presencia de confounders puede hacer que la asociación que observamos entre dos variables no sea la que corresponde a su relación directa."
      ]
    },
    {
      "cell_type": "markdown",
      "metadata": {
        "id": "NeEzRtSp8lLo"
      },
      "source": [
        "## EJEMPLO\r\n",
        "Caso real! (Con nombres y cifras modificados por privacidad).\r\n",
        "\r\n",
        "Mi jefa Pepa tiene una reunión inminente con Xiaomi. Quiere conseguir que financien parte de los anuncios publicitarios de Orange. Su lógica es que las nuevas altas de clientes Orange están correlacionadas con las ventas de Orange de terminales. Al ser Xiaomi un partner estratégico de Orange, si nos ayudan a conseguir clientes ellos aumentarán sus ventas.\r\n",
        "\r\n",
        "Esa es la hipótesis de mi jefa. Me pide que la sustente con cifras.\r\n",
        "\r\n",
        "Os voy a enseñar cómo afronté el problema pero no puedo compartir con vosotros los datos."
      ]
    },
    {
      "cell_type": "markdown",
      "metadata": {
        "id": "EYRHQssvcomp"
      },
      "source": [
        "## EJERCICIO 1\r\n",
        "Cuál es la influencia del nivel fubolístico sobre el valor del futbolista? \r\n",
        "\r\n",
        "Ver el diagrama causal propuesto:\r\n",
        "https://docs.google.com/presentation/d/1jYSOQpCVbL7JdacYhq8NuKWwhYe2QwW8qvM680GERps/edit#slide=id.gbc327d14bd_0_11\r\n",
        "\r\n",
        "La variable edad es un confounder: afecta tanto al nivel futbolistico actual como al valor."
      ]
    },
    {
      "cell_type": "code",
      "metadata": {
        "id": "RaNLY0vEZ1U5",
        "colab": {
          "base_uri": "https://localhost:8080/",
          "height": 204
        },
        "outputId": "3e42f0d1-7342-4c0c-b17a-ebefb2e47dad"
      },
      "source": [
        "# Utilizaremos este dataframe\r\n",
        "df_valor = df_fifa19[['Name','Value_€','Overall','Age']]\r\n",
        "df_valor.head()"
      ],
      "execution_count": 115,
      "outputs": [
        {
          "output_type": "execute_result",
          "data": {
            "text/html": [
              "<div>\n",
              "<style scoped>\n",
              "    .dataframe tbody tr th:only-of-type {\n",
              "        vertical-align: middle;\n",
              "    }\n",
              "\n",
              "    .dataframe tbody tr th {\n",
              "        vertical-align: top;\n",
              "    }\n",
              "\n",
              "    .dataframe thead th {\n",
              "        text-align: right;\n",
              "    }\n",
              "</style>\n",
              "<table border=\"1\" class=\"dataframe\">\n",
              "  <thead>\n",
              "    <tr style=\"text-align: right;\">\n",
              "      <th></th>\n",
              "      <th>Name</th>\n",
              "      <th>Value_€</th>\n",
              "      <th>Overall</th>\n",
              "      <th>Age</th>\n",
              "    </tr>\n",
              "  </thead>\n",
              "  <tbody>\n",
              "    <tr>\n",
              "      <th>0</th>\n",
              "      <td>L. Messi</td>\n",
              "      <td>110500000.0</td>\n",
              "      <td>94</td>\n",
              "      <td>31</td>\n",
              "    </tr>\n",
              "    <tr>\n",
              "      <th>1</th>\n",
              "      <td>Cristiano Ronaldo</td>\n",
              "      <td>77000000.0</td>\n",
              "      <td>94</td>\n",
              "      <td>33</td>\n",
              "    </tr>\n",
              "    <tr>\n",
              "      <th>2</th>\n",
              "      <td>Neymar Jr</td>\n",
              "      <td>118500000.0</td>\n",
              "      <td>92</td>\n",
              "      <td>26</td>\n",
              "    </tr>\n",
              "    <tr>\n",
              "      <th>3</th>\n",
              "      <td>De Gea</td>\n",
              "      <td>72000000.0</td>\n",
              "      <td>91</td>\n",
              "      <td>27</td>\n",
              "    </tr>\n",
              "    <tr>\n",
              "      <th>4</th>\n",
              "      <td>K. De Bruyne</td>\n",
              "      <td>102000000.0</td>\n",
              "      <td>91</td>\n",
              "      <td>27</td>\n",
              "    </tr>\n",
              "  </tbody>\n",
              "</table>\n",
              "</div>"
            ],
            "text/plain": [
              "                Name      Value_€  Overall  Age\n",
              "0           L. Messi  110500000.0       94   31\n",
              "1  Cristiano Ronaldo   77000000.0       94   33\n",
              "2          Neymar Jr  118500000.0       92   26\n",
              "3             De Gea   72000000.0       91   27\n",
              "4       K. De Bruyne  102000000.0       91   27"
            ]
          },
          "metadata": {
            "tags": []
          },
          "execution_count": 115
        }
      ]
    },
    {
      "cell_type": "markdown",
      "metadata": {
        "id": "TmxEoZCleiPJ"
      },
      "source": [
        "Primero muestra la asociación entre las 3 variables con con sns.pairplot() y la visualización de la matriz de los coeficientes de Pearson."
      ]
    },
    {
      "cell_type": "code",
      "metadata": {
        "id": "jqXPks_3VAY2"
      },
      "source": [
        "# Utiliza sns.pairplot() como hemos visto en el notebook 3B (análisis bivariante)\r\n"
      ],
      "execution_count": 116,
      "outputs": []
    },
    {
      "cell_type": "code",
      "metadata": {
        "id": "gQwybE3tWH2h"
      },
      "source": [
        "# Visualización coeficientes Pearson\r\n"
      ],
      "execution_count": 117,
      "outputs": []
    },
    {
      "cell_type": "markdown",
      "metadata": {
        "id": "0JhohYvlf77y"
      },
      "source": [
        "Vamos a centrarnos ahora en los futbolistas que tienen una misma edad. Por ejemplo, vamos a centrarnos en aquellos que tienen 25 años."
      ]
    },
    {
      "cell_type": "code",
      "metadata": {
        "id": "O4PuyykRWZ3T"
      },
      "source": [
        "# Creamos un filtro que se quede con los futbolistas de 25 años\r\n"
      ],
      "execution_count": 118,
      "outputs": []
    },
    {
      "cell_type": "markdown",
      "metadata": {
        "id": "CSJ7HNZpgWf0"
      },
      "source": [
        "Ahora vuelve a mostrar las distribuciones y asociaciones, pero sólo para este grupo de futbolistas."
      ]
    },
    {
      "cell_type": "code",
      "metadata": {
        "id": "nrZnF5T7gOY1"
      },
      "source": [
        "# Vuelve a utilizar sns.pairplot() para los futbolistas de 25 años\r\n"
      ],
      "execution_count": 119,
      "outputs": []
    },
    {
      "cell_type": "code",
      "metadata": {
        "id": "iJJFEkQkatxW"
      },
      "source": [
        "# Visualización coeficientes Pearson para los futbolistas de 25 años\r\n"
      ],
      "execution_count": 120,
      "outputs": []
    },
    {
      "cell_type": "markdown",
      "metadata": {
        "id": "ngEmXSzEixEb"
      },
      "source": [
        "Genera un loop que evalúe la relación entre el nivel futbolístico y el valor para cada edad (entre 25 y 35 años) utilizando la función evaluacion_correlacion()."
      ]
    },
    {
      "cell_type": "code",
      "metadata": {
        "id": "1FG_rs7bgnc_"
      },
      "source": [
        "# Iniciamos el loop\r\n",
        "for edad in [25,26,27,28,29,30,31,32,33,34,35]:\r\n",
        "  # Filtro edad\r\n",
        "  ...\r\n",
        "  # Utiliza la función evaluacion_correlacion\r\n",
        "  ..."
      ],
      "execution_count": 121,
      "outputs": []
    },
    {
      "cell_type": "markdown",
      "metadata": {
        "id": "qIzwHbs1Ubg4"
      },
      "source": [
        "# 05 Ajuste por collider\r\n",
        "Ajustar a (quedarnos con ciertos valores de) un collider (causa común a dos variables) puede modificar la asociación que vemos entre esas dos variables."
      ]
    },
    {
      "cell_type": "markdown",
      "metadata": {
        "id": "_YSOEXvFby0h"
      },
      "source": [
        "## EJERCICIO 2\r\n",
        "Queremos entender la influencia de la edad sobre el nivel futbolístico.\r\n",
        "\r\n",
        "Link al diagrama causal: https://docs.google.com/presentation/d/1jYSOQpCVbL7JdacYhq8NuKWwhYe2QwW8qvM680GERps/edit#slide=id.gbc327d14bd_1_6"
      ]
    },
    {
      "cell_type": "markdown",
      "metadata": {
        "id": "jW_7Vh9tlixj"
      },
      "source": [
        "Primero, visualiza la relación entre ambas."
      ]
    },
    {
      "cell_type": "code",
      "metadata": {
        "id": "s1kH_8DOXfDu"
      },
      "source": [
        "# Puedes utilizar la funcion evaluacion_correlacion\r\n"
      ],
      "execution_count": 122,
      "outputs": []
    },
    {
      "cell_type": "markdown",
      "metadata": {
        "id": "21smzqQ-l4O5"
      },
      "source": [
        "Ahora visualiza la misma relación entre variables pero sólo de aquellos jugadores con un valor mediano. Para esto, calcula el percentil 44 y 55 de la columna valor y crea un filtro que se quede con solo con los jugadores cuyo valor este entre ambos."
      ]
    },
    {
      "cell_type": "code",
      "metadata": {
        "id": "HH87p2ArmXLY"
      },
      "source": [
        "# Generamos el filtro de valor mediano\r\n",
        "valor_min = df_valor['Value_€'].quantile(0.45)\r\n",
        "valor_max = df_valor['Value_€'].quantile(0.55)\r\n",
        "\r\n",
        "filtro_medianos = ((df_valor['Value_€'] >= valor_min)&\r\n",
        "                   (df_valor['Value_€'] <= valor_max))"
      ],
      "execution_count": 123,
      "outputs": []
    },
    {
      "cell_type": "code",
      "metadata": {
        "id": "98RcTHdtXut6"
      },
      "source": [
        "# Vuelve a utilizar la función evaluacion_correlacion sólo para los futbolistas de valor mediano\r\n"
      ],
      "execution_count": 124,
      "outputs": []
    },
    {
      "cell_type": "markdown",
      "metadata": {
        "id": "KoXsO95BnFc-"
      },
      "source": [
        "## Por qué varía tanto, que explicación tiene?"
      ]
    }
  ]
}