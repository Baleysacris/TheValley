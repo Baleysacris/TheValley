{
  "nbformat": 4,
  "nbformat_minor": 0,
  "metadata": {
    "colab": {
      "name": "02A Árboles Clasificación Múltiple.ipynb",
      "provenance": [],
      "toc_visible": true,
      "authorship_tag": "ABX9TyMtwC4ViR6AdEBRJ7rf6DyS",
      "include_colab_link": true
    },
    "kernelspec": {
      "name": "python3",
      "display_name": "Python 3"
    }
  },
  "cells": [
    {
      "cell_type": "markdown",
      "metadata": {
        "id": "view-in-github",
        "colab_type": "text"
      },
      "source": [
        "<a href=\"https://colab.research.google.com/github/JotaBlanco/TheValley/blob/main/Arboles/Clase_02_Arboles/02_A_%C3%81rboles_Clasificaci%C3%B3n_M%C3%BAltiple_Resuelto.ipynb\" target=\"_parent\"><img src=\"https://colab.research.google.com/assets/colab-badge.svg\" alt=\"Open In Colab\"/></a>"
      ]
    },
    {
      "cell_type": "markdown",
      "metadata": {
        "id": "R53FGLN8jo1L"
      },
      "source": [
        "# 01 INTRO: Árboles de Decisión\r\n",
        "Explicación de cómo construír árboles de decisión de **clasificación multiclase**.\r\n",
        "\r\n",
        "Notebook por [Javier Blanco Cordero](https://www.linkedin.com/in/javier-blanco-cordero-71373656/).\r\n",
        "\r\n",
        "### Enlaces de interés\r\n",
        "*   [Slides de presentación](https://docs.google.com/presentation/d/1kiEbdMHy7Ji02SlTxzq913bZ-rcQWn00Td0K_MNVXEk/edit?usp=sharing)\r\n",
        "*   [Enlace a este notebook en Colab](https://colab.research.google.com/github/JotaBlanco/TheValley/blob/main/Arboles/Clase_01_Arboles/01_%C3%81rboles_Decisi%C3%B3n_Clasificaci%C3%B3n_Resuelto.ipynb)\r\n",
        "\r\n",
        "\r\n"
      ]
    },
    {
      "cell_type": "markdown",
      "metadata": {
        "id": "LSuEDXhPLi8u"
      },
      "source": [
        "## 0101 Qué es un árbol de decisión?\r\n",
        "Un tipo de algoritmo de aprendizaje supervisado que se basa en realizar particiones a partir de distintos niveles de las variables disponibles."
      ]
    },
    {
      "cell_type": "markdown",
      "metadata": {
        "id": "cnHRaho3rsXS"
      },
      "source": [
        "## 0102 Import\r\n",
        "Importamos todas las librerías necesarias para este análisis ([¿No sabes lo que es una librería de Python?](https://www.quora.com/What-is-a-Python-library-and-what-can-I-use-it-for)): pandas, numpy, seaborn, matplotlib."
      ]
    },
    {
      "cell_type": "code",
      "metadata": {
        "id": "4be6xiUqjPHI"
      },
      "source": [
        "import pandas as pd\r\n",
        "import numpy as np\r\n",
        "import matplotlib.pyplot as plt\r\n",
        "import seaborn as sns"
      ],
      "execution_count": null,
      "outputs": []
    },
    {
      "cell_type": "markdown",
      "metadata": {
        "id": "AblkT14d4Gvt"
      },
      "source": [
        "## 0103 Carga el dataset: salud del feto\r\n",
        "Para probar a hacer árboles de decisión de clasificación multiclas utilizaremos un dataset sobre el estado de salud de un feto que he encontrado en Kaggle ([aquí](https://www.kaggle.com/andrewmvd/fetal-health-classification)). \r\n",
        "\r\n",
        "Podéis encontrar el archivo listo para importar en mi github: 'https://raw.githubusercontent.com/JotaBlanco/TheValley/main/Data/fetal_health.csv'. \r\n",
        "\r\n",
        "Importa este dataset en un dataframe llamado **df**."
      ]
    },
    {
      "cell_type": "code",
      "metadata": {
        "id": "GMZACcIXOclu"
      },
      "source": [
        "# Url archivo raw\r\n",
        "url = 'https://raw.githubusercontent.com/JotaBlanco/TheValley/main/Data/fetal_health.csv'\r\n",
        "\r\n",
        "# Importa csv\r\n",
        "df = pd.read_csv(url)\r\n",
        "\r\n",
        "# Visualización primeras filas\r\n",
        "df.head()"
      ],
      "execution_count": null,
      "outputs": []
    },
    {
      "cell_type": "markdown",
      "metadata": {
        "id": "KBOQJ0AjdYrM"
      },
      "source": [
        "# 02 EDA\r\n",
        "Realizaremos un pequeño análisis exploratorio visual para familiarizarnos con el dataset. \r\n",
        "\r\n",
        "Recuerda que puedes encontrar mis clases sobre análisis exploratorio [aquí](https://github.com/JotaBlanco/TheValley/tree/main/EDA/)."
      ]
    },
    {
      "cell_type": "code",
      "metadata": {
        "id": "qGrwhGyaj0-a"
      },
      "source": [
        "df.info()"
      ],
      "execution_count": null,
      "outputs": []
    },
    {
      "cell_type": "code",
      "metadata": {
        "id": "8LoZpl8rjWEX"
      },
      "source": [
        "df.describe()"
      ],
      "execution_count": null,
      "outputs": []
    },
    {
      "cell_type": "code",
      "metadata": {
        "id": "YUz-qSwBjaEW"
      },
      "source": [
        "# Visualización coeficientes Pearson\r\n",
        "plt.figure(figsize=(12,9))\r\n",
        "sns.heatmap(np.round(df.corr(),2), \r\n",
        "            vmin=-1, vmax=1, \r\n",
        "            annot=True, cmap=\"coolwarm\")\r\n",
        "plt.show()"
      ],
      "execution_count": null,
      "outputs": []
    },
    {
      "cell_type": "markdown",
      "metadata": {
        "id": "lcnJKyElO8FU"
      },
      "source": [
        "# 03 Construcción árbol de decisión a mano\r\n",
        "Nunca lo haremos en la vida real, pero para afianzar el entendimiento de este tipo de algoritmos, vamos a reproducir el proceso de entrenamiento a mano."
      ]
    },
    {
      "cell_type": "markdown",
      "metadata": {
        "id": "BBXHQSiBCzgT"
      },
      "source": [
        "## 0301 DataFrame\r\n",
        "Para simplificar, haremos esto con un dataframe consistente solo en las columnas ['baseline value', 'accelerations', 'fetal_movement', 'fetal_health'] renombradas como ['Base', 'Acc', 'Mov', 'Salud Feto']."
      ]
    },
    {
      "cell_type": "code",
      "metadata": {
        "id": "L3SmZ9EyD8m8"
      },
      "source": [
        "df.columns"
      ],
      "execution_count": null,
      "outputs": []
    },
    {
      "cell_type": "code",
      "metadata": {
        "id": "X-DsmAVtDHJH"
      },
      "source": [
        "df_resumen = df[['baseline value', 'accelerations', 'fetal_movement', 'fetal_health']]\r\n",
        "df_resumen.columns = ['Base', 'Acc', 'Mov', 'Salud Feto']\r\n",
        "df_resumen.head(7)"
      ],
      "execution_count": null,
      "outputs": []
    },
    {
      "cell_type": "markdown",
      "metadata": {
        "id": "7TX8LhTlWZC7"
      },
      "source": [
        "## 0301 Seleccionamos el nodo raíz\r\n",
        "Para seleccionar el nodo raíz generaremos árboles muy sencillos, de solo 3 nodos (una sola partición)."
      ]
    },
    {
      "cell_type": "markdown",
      "metadata": {
        "id": "EE9K9D7kM9Ru"
      },
      "source": [
        "### 030101 Variable categórica\r\n",
        "En este dataset resumen no tenemos una variable categórica binaria, pero generamos una a partir de una partición sobre una variable continua (por ejemplo Base > 132).\r\n",
        "\r\n",
        "A partir de esa nueva variable categórica binaria probamos a generar una partición."
      ]
    },
    {
      "cell_type": "code",
      "metadata": {
        "id": "-kyz6cu_ZOSs"
      },
      "source": [
        "df_resumen_i = df_resumen.copy(deep=True)\r\n",
        "filtro_i = df_resumen_i['Base'] > 132\r\n",
        "df_resumen_i['base > 132'] = filtro_i.astype(int)\r\n",
        "df_resumen_i.head()"
      ],
      "execution_count": null,
      "outputs": []
    },
    {
      "cell_type": "code",
      "metadata": {
        "id": "IsFqrhz9xAYI"
      },
      "source": [
        "# Podemos hacer la partición Anemia = 1 y Anemia = 0 con un groupby\r\n",
        "df_i = df_resumen_i.groupby(['base > 132','Salud Feto'])['Base'].agg(['count']).reset_index()\r\n",
        "df_i"
      ],
      "execution_count": null,
      "outputs": []
    },
    {
      "cell_type": "code",
      "metadata": {
        "id": "fZBfJw78E0ZD"
      },
      "source": [
        "def particion_categorica(df, target, var_discreta):\r\n",
        "  \"\"\"\r\n",
        "  Genera un dataframe con información sobre la partición utilizando la variable\r\n",
        "  discreta binaria aportada.\r\n",
        "  \"\"\"\r\n",
        "  df_i = df.groupby([var_discreta,target])[df.columns[0]].agg(['count']).reset_index()\r\n",
        "  \r\n",
        "  return df_i.sort_values(var_discreta, ascending=True).reset_index(drop=True)"
      ],
      "execution_count": null,
      "outputs": []
    },
    {
      "cell_type": "markdown",
      "metadata": {
        "id": "dlRcuKtvwD9O"
      },
      "source": [
        "### 030102 Variable Continua\r\n",
        "Las variables continuas pueden dar lugar a diversas particiones. Veamos la variable 'Base' como ejemplo."
      ]
    },
    {
      "cell_type": "code",
      "metadata": {
        "id": "M0V5r52h5tYj"
      },
      "source": [
        "def particiones_continuas(df, target, var_continua):\r\n",
        "  \"\"\"\r\n",
        "  Muestra una serie dataframes con información sobre las distintas particiones \r\n",
        "  posibles utilizando la variable continua aportada.\r\n",
        "  \"\"\"\r\n",
        "  valores_unicos_ordenados = df[var_continua].sort_values().unique()\r\n",
        "  valores_particiones = (valores_unicos_ordenados[:-1] + \r\n",
        "                         valores_unicos_ordenados[1:])/2\r\n",
        "\r\n",
        "  for valor in valores_particiones:\r\n",
        "    df_i = df.copy(deep=True)\r\n",
        "    filtro_i = df_i[var_continua] > valor\r\n",
        "    df_i[str(var_continua) + ' > ' + str(valor)] = filtro_i.astype(int)\r\n",
        "    df_i = particion_categorica(df_i, \r\n",
        "                                target, \r\n",
        "                                str(var_continua) + ' > ' + str(valor))\r\n",
        "    display(df_i)"
      ],
      "execution_count": null,
      "outputs": []
    },
    {
      "cell_type": "code",
      "metadata": {
        "id": "okLIc7df57Qi"
      },
      "source": [
        "particiones_continuas(df_resumen, 'Salud Feto', 'Base')"
      ],
      "execution_count": null,
      "outputs": []
    },
    {
      "cell_type": "markdown",
      "metadata": {
        "id": "TL2RbI9Qj529"
      },
      "source": [
        "### 030103 Impureza de Gini\r\n",
        "Calculamos la impureza de Gini de cada una de las particiones."
      ]
    },
    {
      "cell_type": "code",
      "metadata": {
        "id": "ux4INX9O6YwT"
      },
      "source": [
        "df_i"
      ],
      "execution_count": null,
      "outputs": []
    },
    {
      "cell_type": "code",
      "metadata": {
        "id": "ReuOc9GwkL0s"
      },
      "source": [
        "def gini(df_i):\r\n",
        "  \"\"\"\r\n",
        "  Calcula el Gini para cada nodo el ponderado de la decisión.\r\n",
        "  \"\"\"\r\n",
        "  for nodo in [0, 1]:\r\n",
        "    gini = 1\r\n",
        "    filtro_condicion = df_i[df_i.columns[0]]==nodo\r\n",
        "    for clase in df_i.loc[filtro_condicion, df_i.columns[1]]:\r\n",
        "      conteo_i = int(df_i.loc[((filtro_condicion)&(df_i[df_i.columns[1]]==clase)), 'count'])\r\n",
        "      prob_i = conteo_i/df_i.loc[filtro_condicion, 'count'].sum()\r\n",
        "      gini = gini - prob_i**2\r\n",
        "    \r\n",
        "    df_i.loc[filtro_condicion,'Gini'] = gini\r\n",
        "  \r\n",
        "  df_i_group = df_i.groupby([df_i.columns[0], 'Gini'])['count'].agg('sum').reset_index()\r\n",
        "  gini_pond = (df_i_group['count'][0] * df_i_group['Gini'][0] +  \r\n",
        "               df_i_group['count'][1] * df_i_group['Gini'][1])/(df_i_group['count'].sum())\r\n",
        "  \r\n",
        "  df_i['Gini Media Pond'] = gini_pond\r\n",
        "  return df_i"
      ],
      "execution_count": null,
      "outputs": []
    },
    {
      "cell_type": "code",
      "metadata": {
        "id": "SwCnVBZJkcLn"
      },
      "source": [
        "gini(df_i)"
      ],
      "execution_count": null,
      "outputs": []
    },
    {
      "cell_type": "code",
      "metadata": {
        "id": "_03aMUMNXRuf"
      },
      "source": [
        "def particion_categorica(df, target, var_discreta):\r\n",
        "  \"\"\"\r\n",
        "  Genera un dataframe con información sobre la partición utilizando la variable\r\n",
        "  discreta binaria aportada.\r\n",
        "  \"\"\"\r\n",
        "  df_i = df.groupby([var_discreta,target])[df_resumen_i.columns[0]].agg(['count']).reset_index()\r\n",
        "  df_i = df_i.sort_values(var_discreta, ascending=True).reset_index(drop=True)\r\n",
        "  return gini(df_i)"
      ],
      "execution_count": null,
      "outputs": []
    },
    {
      "cell_type": "markdown",
      "metadata": {
        "id": "Yr0XMPnaCaRN"
      },
      "source": [
        "### 030104 Cuál es la mejor partición?"
      ]
    },
    {
      "cell_type": "code",
      "metadata": {
        "id": "qxM8qZIFk7E-"
      },
      "source": [
        "def mejor_particion_continua(df, target, var_continua):\r\n",
        "  \"\"\"\r\n",
        "  Devuelve un dataframe con información sobre la partición ópitma de entre las \r\n",
        "  posibles utilizando la variable continua aportada.\r\n",
        "  \"\"\"\r\n",
        "  valores_unicos_ordenados = df[var_continua].sort_values().unique()\r\n",
        "  valores_particiones = (valores_unicos_ordenados[:-1] + \r\n",
        "                         valores_unicos_ordenados[1:])/2\r\n",
        "  particion_optima = []\r\n",
        "\r\n",
        "  for i, valor in enumerate(valores_particiones):\r\n",
        "    df_i = df.copy(deep=True)\r\n",
        "    filtro_i = df_i[var_continua] > valor\r\n",
        "    df_i[str(var_continua) + ' > ' + str(valor)] = filtro_i.astype(int)\r\n",
        "    df_i = particion_categorica(df_i, \r\n",
        "                                target, \r\n",
        "                                str(var_continua) + ' > ' + str(valor))\r\n",
        "\r\n",
        "    if i == 0:\r\n",
        "      particion_optima = df_i\r\n",
        "    else:\r\n",
        "      if df_i['Gini Media Pond'][0] < particion_optima['Gini Media Pond'][0]:\r\n",
        "        particion_optima = df_i\r\n",
        "    \r\n",
        "  return particion_optima"
      ],
      "execution_count": null,
      "outputs": []
    },
    {
      "cell_type": "code",
      "metadata": {
        "id": "svk6dvlGlWus"
      },
      "source": [
        "mejor_particion_continua(df_resumen, 'Salud Feto', 'Base')"
      ],
      "execution_count": null,
      "outputs": []
    },
    {
      "cell_type": "code",
      "metadata": {
        "id": "i0b3am-e_p6K"
      },
      "source": [
        "mejor_particion_continua(df_resumen, 'Salud Feto', 'Acc')"
      ],
      "execution_count": null,
      "outputs": []
    },
    {
      "cell_type": "code",
      "metadata": {
        "id": "Wt9d2l3Vm3VK"
      },
      "source": [
        "mejor_particion_continua(df_resumen, 'Salud Feto', 'Mov')"
      ],
      "execution_count": null,
      "outputs": []
    },
    {
      "cell_type": "code",
      "metadata": {
        "id": "LZunZWMpGhg6"
      },
      "source": [
        "def seleccion_particion(df, target, lista_vars_continuas, lista_vars_binarias):\r\n",
        "  particion_optima = []\r\n",
        "\r\n",
        "  for i, var in enumerate(lista_vars_continuas+lista_vars_binarias):\r\n",
        "    if var in lista_vars_continuas:\r\n",
        "      df_i = mejor_particion_continua(df, target, var)\r\n",
        "    if var in lista_vars_binarias:\r\n",
        "      df_i = particion_categorica(df,  target, var)\r\n",
        "    \r\n",
        "\r\n",
        "    if i == 0:\r\n",
        "      particion_optima = df_i\r\n",
        "    else:\r\n",
        "      if df_i['Gini Media Pond'][0] < particion_optima['Gini Media Pond'][0]:\r\n",
        "        particion_optima = df_i\r\n",
        "    \r\n",
        "  return particion_optima"
      ],
      "execution_count": null,
      "outputs": []
    },
    {
      "cell_type": "code",
      "metadata": {
        "id": "8_uKIpZEHlX7"
      },
      "source": [
        "seleccion_particion(df_resumen, 'Salud Feto', ['Base', 'Acc', 'Mov'], [])"
      ],
      "execution_count": null,
      "outputs": []
    },
    {
      "cell_type": "markdown",
      "metadata": {
        "id": "mjWxs5R_FxEH"
      },
      "source": [
        "## 0302 Construímos las ramas\r\n",
        "Vamos a contruír el resto del árbol sin repetir variables."
      ]
    },
    {
      "cell_type": "code",
      "metadata": {
        "id": "OEo0D52qCmbs"
      },
      "source": [
        "# Realizamos la partición\r\n",
        "df_resumen_1 = df_resumen[df_resumen['Acc']>0.0005]\r\n",
        "df_resumen_2 = df_resumen[df_resumen['Base']<0.0005]"
      ],
      "execution_count": null,
      "outputs": []
    },
    {
      "cell_type": "code",
      "metadata": {
        "id": "rSpVB-dVBX5O"
      },
      "source": [
        "df_resumen.columns"
      ],
      "execution_count": null,
      "outputs": []
    },
    {
      "cell_type": "markdown",
      "metadata": {
        "id": "W7WioeqWMbbF"
      },
      "source": [
        "### 030201 Rama Izquierda (1)"
      ]
    },
    {
      "cell_type": "code",
      "metadata": {
        "id": "KJnyLZRACmfc"
      },
      "source": [
        "# Siguiente partición\r\n",
        "seleccion_particion(df_resumen_1, 'Salud Feto', ['Base', 'Acc', 'Mov'], [])"
      ],
      "execution_count": null,
      "outputs": []
    },
    {
      "cell_type": "code",
      "metadata": {
        "id": "DUa4pGiZI_AF"
      },
      "source": [
        "# Realizamos la siguiente partición\r\n",
        "df_resumen_1_1 = df_resumen[((df_resumen['Acc']>0.0005)&(df_resumen['Acc']>0.0025))]\r\n",
        "df_resumen_1_2 = df_resumen[((df_resumen['Acc']>0.0005)&(df_resumen['Acc']<0.0025))]"
      ],
      "execution_count": null,
      "outputs": []
    },
    {
      "cell_type": "code",
      "metadata": {
        "id": "7AkXkkPKJPmz"
      },
      "source": [
        "# Siguiente partición\r\n",
        "seleccion_particion(df_resumen_1_1, 'Salud Feto', ['Base', 'Acc', 'Mov'], [])"
      ],
      "execution_count": null,
      "outputs": []
    },
    {
      "cell_type": "code",
      "metadata": {
        "id": "pI2rXQiDJT6H"
      },
      "source": [
        "# Siguiente partición\r\n",
        "seleccion_particion(df_resumen_1_2, 'Salud Feto', ['Base', 'Acc', 'Mov'], [])"
      ],
      "execution_count": null,
      "outputs": []
    },
    {
      "cell_type": "markdown",
      "metadata": {
        "id": "sRO6wMepPOJj"
      },
      "source": [
        "# 04 Construcción árbol de decisión con scikit learn\r\n",
        "Ahora de manera automática, utilizando la librería [scikit learn](https://scikit-learn.org/stable/), la libería básica de referencia para machine learning."
      ]
    },
    {
      "cell_type": "markdown",
      "metadata": {
        "id": "SXSNgNJrsdva"
      },
      "source": [
        "## 0401 Importamos las librerías"
      ]
    },
    {
      "cell_type": "code",
      "metadata": {
        "id": "dpc44ulgPFkN"
      },
      "source": [
        "# Nos importamos las funciones de árboles de scikit learn\r\n",
        "from sklearn import tree"
      ],
      "execution_count": null,
      "outputs": []
    },
    {
      "cell_type": "markdown",
      "metadata": {
        "id": "H9WKeVmAv89P"
      },
      "source": [
        "## 0402 Inicializamos el árbol\r\n",
        "Definiendo las características que tendrá.\r\n",
        "\r\n",
        "https://scikit-learn.org/stable/modules/generated/sklearn.tree.DecisionTreeClassifier.html#sklearn.tree.DecisionTreeClassifier"
      ]
    },
    {
      "cell_type": "code",
      "metadata": {
        "id": "c_yzGJ-UP6wq"
      },
      "source": [
        "# Inicializamos un árbol. Por ahora está vacío. \r\n",
        "# Solo definimos cómo queremos que sea en cuanto a su estructura y condiciones de entrenamiento\r\n",
        "arbol = tree.DecisionTreeClassifier(max_depth=3)\r\n",
        "arbol"
      ],
      "execution_count": null,
      "outputs": []
    },
    {
      "cell_type": "markdown",
      "metadata": {
        "id": "1_Q84Q2GJjDC"
      },
      "source": [
        "## 0403 Entrenamos el modelo\r\n",
        "Una vez inicializado y definido el árbol, el método .[fit()](https://scikit-learn.org/stable/modules/generated/sklearn.tree.DecisionTreeClassifier.html#sklearn.tree.DecisionTreeClassifier.fit) realiza el proceso de particionado recursivo que hemos hecho nosotros antes a mano."
      ]
    },
    {
      "cell_type": "code",
      "metadata": {
        "id": "QzlRebscRxCe"
      },
      "source": [
        "# Entrenamos el árbol inicializado a partir de los datos que le pasemos con .fit()\r\n",
        "arbol = arbol.fit(X = df_resumen[['Base', 'Acc', 'Mov']],  # vars descriptivas\r\n",
        "                  y = df_resumen[['Salud Feto']])                  # var objetico\r\n",
        "arbol"
      ],
      "execution_count": null,
      "outputs": []
    },
    {
      "cell_type": "markdown",
      "metadata": {
        "id": "akjuRe9yLQ8R"
      },
      "source": [
        "##0404 Visualizamos el modelo\r\n",
        "Una vez entrenado el modelo, podemos visualizarlo."
      ]
    },
    {
      "cell_type": "code",
      "metadata": {
        "id": "23xmBvxkRFsq"
      },
      "source": [
        "# Con el método export_text en un print()\r\n",
        "esquema_print = tree.export_text(arbol, \r\n",
        "                                 feature_names= ['Base', 'Acc', 'Mov'])\r\n",
        "print(esquema_print)"
      ],
      "execution_count": null,
      "outputs": []
    },
    {
      "cell_type": "code",
      "metadata": {
        "id": "mcJgYPAMQSNG"
      },
      "source": [
        "# O con la librería graphviz\r\n",
        "import graphviz \r\n",
        "\r\n",
        "# Export_graphviz\r\n",
        "dot_data = tree.export_graphviz(arbol, \r\n",
        "                                out_file=None, \r\n",
        "                                feature_names= ['Base', 'Acc', 'Mov']) \r\n",
        "graph = graphviz.Source(dot_data) \r\n",
        "graph"
      ],
      "execution_count": null,
      "outputs": []
    },
    {
      "cell_type": "markdown",
      "metadata": {
        "id": "WYs1eiOgMKWU"
      },
      "source": [
        "## 0405 Realizamos una predicción\r\n",
        "Una vez el modelo está entrenado (definido) podemos pasarle datos para obtener las prediciones correspondientes de la variable objetivo. \r\n",
        "\r\n",
        "Para esto utilizamos el método .[predict()](https://scikit-learn.org/stable/modules/generated/sklearn.tree.DecisionTreeClassifier.html#sklearn.tree.DecisionTreeClassifier.predict)."
      ]
    },
    {
      "cell_type": "code",
      "metadata": {
        "id": "acmqdf6ByLdw"
      },
      "source": [
        "# Predicción\r\n",
        "prediccion = arbol.predict(df_resumen[['Base', 'Acc', 'Mov']])\r\n",
        "prediccion"
      ],
      "execution_count": null,
      "outputs": []
    },
    {
      "cell_type": "code",
      "metadata": {
        "id": "3cMYHbiDyRPW"
      },
      "source": [
        "# Cómo de buena es la predicción?\r\n",
        "from sklearn.metrics import accuracy_score\r\n",
        "accuracy_score(df_resumen['Salud Feto'], prediccion)"
      ],
      "execution_count": null,
      "outputs": []
    },
    {
      "cell_type": "markdown",
      "metadata": {
        "id": "OOwjE0vpVDAV"
      },
      "source": [
        "# 05 EJERCICIO\r\n",
        "Entrena un árbol de decisión con todas las variables del set de datos de salud del feto, y evalua si la predicción es mejor o peor que utilizando tres variables (que es lo que acabamos de hacer en la sección anterior).\r\n",
        "\r\n",
        "Hazlo primero manteniendo una profundidad de 3 como en el ejemplo anterior y luego prueba también con 5 y 20."
      ]
    },
    {
      "cell_type": "code",
      "metadata": {
        "id": "IA-sUogXVhQo"
      },
      "source": [
        "df.head(2)"
      ],
      "execution_count": null,
      "outputs": []
    },
    {
      "cell_type": "code",
      "metadata": {
        "id": "IBrIrI1FmzuS"
      },
      "source": [
        "df.columns"
      ],
      "execution_count": null,
      "outputs": []
    },
    {
      "cell_type": "code",
      "metadata": {
        "id": "ayeaAVKLVBzE"
      },
      "source": [
        "# Inicializamos un árbol. Por ahora está vacío. Solo definimos cómo queremos que sea.\r\n",
        "arbol_3 = tree.DecisionTreeClassifier(max_depth=3)\r\n",
        "arbol_5 = tree.DecisionTreeClassifier(max_depth=5)\r\n",
        "arbol_20 = tree.DecisionTreeClassifier(max_depth=20)"
      ],
      "execution_count": null,
      "outputs": []
    },
    {
      "cell_type": "code",
      "metadata": {
        "id": "JtLHTyK163Aw"
      },
      "source": [
        "# Matrices de datos\r\n",
        "cols = ['baseline value', 'accelerations', 'fetal_movement',\r\n",
        "       'uterine_contractions', 'light_decelerations', 'severe_decelerations',\r\n",
        "       'prolongued_decelerations', 'abnormal_short_term_variability',\r\n",
        "       'mean_value_of_short_term_variability',\r\n",
        "       'percentage_of_time_with_abnormal_long_term_variability',\r\n",
        "       'mean_value_of_long_term_variability', 'histogram_width',\r\n",
        "       'histogram_min', 'histogram_max', 'histogram_number_of_peaks',\r\n",
        "       'histogram_number_of_zeroes', 'histogram_mode', 'histogram_mean',\r\n",
        "       'histogram_median', 'histogram_variance', 'histogram_tendency']\r\n",
        "X = df[cols]\r\n",
        "y = df['fetal_health']"
      ],
      "execution_count": null,
      "outputs": []
    },
    {
      "cell_type": "code",
      "metadata": {
        "id": "s9yle38RS-DP"
      },
      "source": [
        "# Entrenamos los árboles inicializados a partir de los datos que le pasemos con .fit()\r\n",
        "arbol_3 = arbol_3.fit(X = X, y = y)\r\n",
        "arbol_5 = arbol_5.fit(X = X, y = y)\r\n",
        "arbol_20 = arbol_20.fit(X = X, y = y)"
      ],
      "execution_count": null,
      "outputs": []
    },
    {
      "cell_type": "code",
      "metadata": {
        "id": "-w4XaJn9VqRY"
      },
      "source": [
        "# Podemos visualizar la estructura\r\n",
        "print(tree.export_text(arbol_3, \r\n",
        "                       feature_names=list(X.columns)))"
      ],
      "execution_count": null,
      "outputs": []
    },
    {
      "cell_type": "code",
      "metadata": {
        "id": "gBJ5sZH_nZFK"
      },
      "source": [
        "# Podemos visualizar la estructura\r\n",
        "print(tree.export_text(arbol_5, \r\n",
        "                       feature_names=list(X.columns)))"
      ],
      "execution_count": null,
      "outputs": []
    },
    {
      "cell_type": "code",
      "metadata": {
        "id": "dZc4ejfOV7oX"
      },
      "source": [
        "import graphviz \r\n",
        "dot_data = tree.export_graphviz(arbol_5, \r\n",
        "                                out_file=None, \r\n",
        "                                feature_names=list(X.columns)) \r\n",
        "graph = graphviz.Source(dot_data) \r\n",
        "graph"
      ],
      "execution_count": null,
      "outputs": []
    },
    {
      "cell_type": "code",
      "metadata": {
        "id": "N-0NlQ6xV-b4"
      },
      "source": [
        "# Predicción\r\n",
        "prediccion_3 = arbol_3.predict(X)\r\n",
        "prediccion_5 = arbol_5.predict(X)\r\n",
        "prediccion_20 = arbol_20.predict(X)"
      ],
      "execution_count": null,
      "outputs": []
    },
    {
      "cell_type": "code",
      "metadata": {
        "id": "MRlWh4DzXdnD"
      },
      "source": [
        "# Precisión de la predicción\r\n",
        "print('Precisión de arbol depth=3 es de ',accuracy_score(y, prediccion_3))\r\n",
        "print('Precisión de arbol depth=5 es de ',accuracy_score(y, prediccion_5))\r\n",
        "print('Precisión de arbol depth=20 es de ',accuracy_score(y, prediccion_20))"
      ],
      "execution_count": null,
      "outputs": []
    }
  ]
}