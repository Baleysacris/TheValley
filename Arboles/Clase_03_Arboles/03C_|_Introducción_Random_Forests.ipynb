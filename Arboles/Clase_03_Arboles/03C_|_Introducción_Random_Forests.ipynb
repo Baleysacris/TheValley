{
  "nbformat": 4,
  "nbformat_minor": 0,
  "metadata": {
    "colab": {
      "name": "03C | Introducción Random Forests.ipynb",
      "provenance": [],
      "toc_visible": true,
      "authorship_tag": "ABX9TyPj4Gn0gTVykCpxCSyU900y",
      "include_colab_link": true
    },
    "kernelspec": {
      "name": "python3",
      "display_name": "Python 3"
    }
  },
  "cells": [
    {
      "cell_type": "markdown",
      "metadata": {
        "id": "view-in-github",
        "colab_type": "text"
      },
      "source": [
        "<a href=\"https://colab.research.google.com/github/JotaBlanco/TheValley/blob/main/Arboles/Clase_03_Arboles/03C_%7C_Introducci%C3%B3n_Random_Forests.ipynb\" target=\"_parent\"><img src=\"https://colab.research.google.com/assets/colab-badge.svg\" alt=\"Open In Colab\"/></a>"
      ]
    },
    {
      "cell_type": "markdown",
      "metadata": {
        "id": "R53FGLN8jo1L"
      },
      "source": [
        "# 01 INTRO: Random Forest\n",
        "Introducción a modelos de bagging de árboles de decisión (Random Forests).\n",
        "\n",
        "Notebook por [Javier Blanco Cordero](https://www.linkedin.com/in/javier-blanco-cordero-71373656/).\n",
        "\n",
        "### Enlaces de interés\n",
        "*   [Slides de presentación](https://docs.google.com/presentation/d/1jRg7Dk2y_2_fxnC_Jpj5aWcqgW9t1KAd7izdmWzv9Sk/edit?usp=sharing)\n",
        "*   [Enlace a este notebook](https://colab.research.google.com/github/JotaBlanco/TheValley/blob/main/Arboles/Clase_03_Arboles/03A_%7C_Repaso_I_sobre_%C3%81rboles_Decisi%C3%B3n.ipynb)\n",
        "\n",
        "\n"
      ]
    },
    {
      "cell_type": "markdown",
      "metadata": {
        "id": "LSuEDXhPLi8u"
      },
      "source": [
        "## 0101 Qué es un Random Forest?\n",
        "Es una agregación de árboles de decisión de tipo bagging."
      ]
    },
    {
      "cell_type": "markdown",
      "metadata": {
        "id": "cnHRaho3rsXS"
      },
      "source": [
        "## 0102 Import\n",
        "Importamos todas las librerías necesarias para este análisis ([¿No sabes lo que es una librería de Python?](https://www.quora.com/What-is-a-Python-library-and-what-can-I-use-it-for)): pandas, numpy, seaborn, matplotlib."
      ]
    },
    {
      "cell_type": "code",
      "metadata": {
        "id": "4be6xiUqjPHI"
      },
      "source": [
        "import pandas as pd\n",
        "import numpy as np\n",
        "import matplotlib.pyplot as plt\n",
        "import seaborn as sns\n",
        "import graphviz\n",
        "from sklearn import tree\n",
        "from sklearn.metrics import accuracy_score"
      ],
      "execution_count": 100,
      "outputs": []
    },
    {
      "cell_type": "markdown",
      "metadata": {
        "id": "AblkT14d4Gvt"
      },
      "source": [
        "## 0103 Carga el dataset del Titanic\n",
        "Volvamos con el Dataset del Titanic\n",
        "\n",
        "Vamos a comparar el rendimiento de un Random Forest con los modelos de árboles de decisión que creamos en el [notebook 3B](https://colab.research.google.com/github/JotaBlanco/TheValley/blob/main/Arboles/Clase_03_Arboles/03B_%7C_Repaso_II_sobre_%C3%81rboles_Decisi%C3%B3n.ipynb).\n",
        "\n",
        "Este es el link al archivo raw: https://raw.githubusercontent.com/JotaBlanco/TheValley/main/Data/titanic.csv.\n",
        "\n",
        "Importa los datos en un dataframe llamado **dataframe df_titanic**."
      ]
    },
    {
      "cell_type": "code",
      "metadata": {
        "id": "GMZACcIXOclu",
        "colab": {
          "base_uri": "https://localhost:8080/",
          "height": 255
        },
        "outputId": "2d24414e-aa74-456d-a630-6eda7e445243"
      },
      "source": [
        "# Url archivo raw\n",
        "url = 'https://raw.githubusercontent.com/JotaBlanco/TheValley/main/Data/titanic.csv'\n",
        "\n",
        "# Importa csv\n",
        "df_titanic = pd.read_csv(url)\n",
        "\n",
        "# Visualización primeras filas\n",
        "df_titanic.head()"
      ],
      "execution_count": 101,
      "outputs": [
        {
          "output_type": "execute_result",
          "data": {
            "text/html": [
              "<div>\n",
              "<style scoped>\n",
              "    .dataframe tbody tr th:only-of-type {\n",
              "        vertical-align: middle;\n",
              "    }\n",
              "\n",
              "    .dataframe tbody tr th {\n",
              "        vertical-align: top;\n",
              "    }\n",
              "\n",
              "    .dataframe thead th {\n",
              "        text-align: right;\n",
              "    }\n",
              "</style>\n",
              "<table border=\"1\" class=\"dataframe\">\n",
              "  <thead>\n",
              "    <tr style=\"text-align: right;\">\n",
              "      <th></th>\n",
              "      <th>PassengerId</th>\n",
              "      <th>Survived</th>\n",
              "      <th>Pclass</th>\n",
              "      <th>Name</th>\n",
              "      <th>Sex</th>\n",
              "      <th>Age</th>\n",
              "      <th>SibSp</th>\n",
              "      <th>Parch</th>\n",
              "      <th>Ticket</th>\n",
              "      <th>Fare</th>\n",
              "      <th>Cabin</th>\n",
              "      <th>Embarked</th>\n",
              "    </tr>\n",
              "  </thead>\n",
              "  <tbody>\n",
              "    <tr>\n",
              "      <th>0</th>\n",
              "      <td>1</td>\n",
              "      <td>0</td>\n",
              "      <td>3</td>\n",
              "      <td>Braund, Mr. Owen Harris</td>\n",
              "      <td>male</td>\n",
              "      <td>22.0</td>\n",
              "      <td>1</td>\n",
              "      <td>0</td>\n",
              "      <td>A/5 21171</td>\n",
              "      <td>7.2500</td>\n",
              "      <td>NaN</td>\n",
              "      <td>S</td>\n",
              "    </tr>\n",
              "    <tr>\n",
              "      <th>1</th>\n",
              "      <td>2</td>\n",
              "      <td>1</td>\n",
              "      <td>1</td>\n",
              "      <td>Cumings, Mrs. John Bradley (Florence Briggs Th...</td>\n",
              "      <td>female</td>\n",
              "      <td>38.0</td>\n",
              "      <td>1</td>\n",
              "      <td>0</td>\n",
              "      <td>PC 17599</td>\n",
              "      <td>71.2833</td>\n",
              "      <td>C85</td>\n",
              "      <td>C</td>\n",
              "    </tr>\n",
              "    <tr>\n",
              "      <th>2</th>\n",
              "      <td>3</td>\n",
              "      <td>1</td>\n",
              "      <td>3</td>\n",
              "      <td>Heikkinen, Miss. Laina</td>\n",
              "      <td>female</td>\n",
              "      <td>26.0</td>\n",
              "      <td>0</td>\n",
              "      <td>0</td>\n",
              "      <td>STON/O2. 3101282</td>\n",
              "      <td>7.9250</td>\n",
              "      <td>NaN</td>\n",
              "      <td>S</td>\n",
              "    </tr>\n",
              "    <tr>\n",
              "      <th>3</th>\n",
              "      <td>4</td>\n",
              "      <td>1</td>\n",
              "      <td>1</td>\n",
              "      <td>Futrelle, Mrs. Jacques Heath (Lily May Peel)</td>\n",
              "      <td>female</td>\n",
              "      <td>35.0</td>\n",
              "      <td>1</td>\n",
              "      <td>0</td>\n",
              "      <td>113803</td>\n",
              "      <td>53.1000</td>\n",
              "      <td>C123</td>\n",
              "      <td>S</td>\n",
              "    </tr>\n",
              "    <tr>\n",
              "      <th>4</th>\n",
              "      <td>5</td>\n",
              "      <td>0</td>\n",
              "      <td>3</td>\n",
              "      <td>Allen, Mr. William Henry</td>\n",
              "      <td>male</td>\n",
              "      <td>35.0</td>\n",
              "      <td>0</td>\n",
              "      <td>0</td>\n",
              "      <td>373450</td>\n",
              "      <td>8.0500</td>\n",
              "      <td>NaN</td>\n",
              "      <td>S</td>\n",
              "    </tr>\n",
              "  </tbody>\n",
              "</table>\n",
              "</div>"
            ],
            "text/plain": [
              "   PassengerId  Survived  Pclass  ...     Fare Cabin  Embarked\n",
              "0            1         0       3  ...   7.2500   NaN         S\n",
              "1            2         1       1  ...  71.2833   C85         C\n",
              "2            3         1       3  ...   7.9250   NaN         S\n",
              "3            4         1       1  ...  53.1000  C123         S\n",
              "4            5         0       3  ...   8.0500   NaN         S\n",
              "\n",
              "[5 rows x 12 columns]"
            ]
          },
          "metadata": {
            "tags": []
          },
          "execution_count": 101
        }
      ]
    },
    {
      "cell_type": "markdown",
      "metadata": {
        "id": "Jj4KI0FDBC-K"
      },
      "source": [
        "## 0104 Limpieza del Dataset\n",
        "Limpiamos los nulos y creamos la variable Title como en el notebook 3B."
      ]
    },
    {
      "cell_type": "code",
      "metadata": {
        "colab": {
          "base_uri": "https://localhost:8080/",
          "height": 162
        },
        "id": "wBiiIka2A_P-",
        "outputId": "b8f4f967-6863-4a5b-8d66-45769a7cedf0"
      },
      "source": [
        "# Creamos una nueva variable Título (es opcional, pero podría ayudar al modelo)\n",
        "df_titanic['Title'] = [name.split(\",\")[1].split(\".\")[0][1:] for name in df_titanic['Name']]\n",
        "df_titanic.head(2)"
      ],
      "execution_count": 102,
      "outputs": [
        {
          "output_type": "execute_result",
          "data": {
            "text/html": [
              "<div>\n",
              "<style scoped>\n",
              "    .dataframe tbody tr th:only-of-type {\n",
              "        vertical-align: middle;\n",
              "    }\n",
              "\n",
              "    .dataframe tbody tr th {\n",
              "        vertical-align: top;\n",
              "    }\n",
              "\n",
              "    .dataframe thead th {\n",
              "        text-align: right;\n",
              "    }\n",
              "</style>\n",
              "<table border=\"1\" class=\"dataframe\">\n",
              "  <thead>\n",
              "    <tr style=\"text-align: right;\">\n",
              "      <th></th>\n",
              "      <th>PassengerId</th>\n",
              "      <th>Survived</th>\n",
              "      <th>Pclass</th>\n",
              "      <th>Name</th>\n",
              "      <th>Sex</th>\n",
              "      <th>Age</th>\n",
              "      <th>SibSp</th>\n",
              "      <th>Parch</th>\n",
              "      <th>Ticket</th>\n",
              "      <th>Fare</th>\n",
              "      <th>Cabin</th>\n",
              "      <th>Embarked</th>\n",
              "      <th>Title</th>\n",
              "    </tr>\n",
              "  </thead>\n",
              "  <tbody>\n",
              "    <tr>\n",
              "      <th>0</th>\n",
              "      <td>1</td>\n",
              "      <td>0</td>\n",
              "      <td>3</td>\n",
              "      <td>Braund, Mr. Owen Harris</td>\n",
              "      <td>male</td>\n",
              "      <td>22.0</td>\n",
              "      <td>1</td>\n",
              "      <td>0</td>\n",
              "      <td>A/5 21171</td>\n",
              "      <td>7.2500</td>\n",
              "      <td>NaN</td>\n",
              "      <td>S</td>\n",
              "      <td>Mr</td>\n",
              "    </tr>\n",
              "    <tr>\n",
              "      <th>1</th>\n",
              "      <td>2</td>\n",
              "      <td>1</td>\n",
              "      <td>1</td>\n",
              "      <td>Cumings, Mrs. John Bradley (Florence Briggs Th...</td>\n",
              "      <td>female</td>\n",
              "      <td>38.0</td>\n",
              "      <td>1</td>\n",
              "      <td>0</td>\n",
              "      <td>PC 17599</td>\n",
              "      <td>71.2833</td>\n",
              "      <td>C85</td>\n",
              "      <td>C</td>\n",
              "      <td>Mrs</td>\n",
              "    </tr>\n",
              "  </tbody>\n",
              "</table>\n",
              "</div>"
            ],
            "text/plain": [
              "   PassengerId  Survived  Pclass  ... Cabin Embarked  Title\n",
              "0            1         0       3  ...   NaN        S     Mr\n",
              "1            2         1       1  ...   C85        C    Mrs\n",
              "\n",
              "[2 rows x 13 columns]"
            ]
          },
          "metadata": {
            "tags": []
          },
          "execution_count": 102
        }
      ]
    },
    {
      "cell_type": "code",
      "metadata": {
        "colab": {
          "base_uri": "https://localhost:8080/",
          "height": 204
        },
        "id": "huJ7oPGYBel7",
        "outputId": "67627a58-d7d1-461e-8456-0ce38dcdc4e3"
      },
      "source": [
        "# Columnas con las que nos quedamos\n",
        "cols = ['Survived', \n",
        "        'Pclass', 'Sex', 'Age', 'SibSp', 'Parch', 'Fare', 'Embarked', 'Title']\n",
        "\n",
        "# De ellas, cuáles son categóricas\n",
        "cat_cols = ['Sex', 'Embarked', 'Title']\n",
        "\n",
        "# Visualizamos las columnas con las que nos hemos quedado\n",
        "df_titanic[cols].head()"
      ],
      "execution_count": 103,
      "outputs": [
        {
          "output_type": "execute_result",
          "data": {
            "text/html": [
              "<div>\n",
              "<style scoped>\n",
              "    .dataframe tbody tr th:only-of-type {\n",
              "        vertical-align: middle;\n",
              "    }\n",
              "\n",
              "    .dataframe tbody tr th {\n",
              "        vertical-align: top;\n",
              "    }\n",
              "\n",
              "    .dataframe thead th {\n",
              "        text-align: right;\n",
              "    }\n",
              "</style>\n",
              "<table border=\"1\" class=\"dataframe\">\n",
              "  <thead>\n",
              "    <tr style=\"text-align: right;\">\n",
              "      <th></th>\n",
              "      <th>Survived</th>\n",
              "      <th>Pclass</th>\n",
              "      <th>Sex</th>\n",
              "      <th>Age</th>\n",
              "      <th>SibSp</th>\n",
              "      <th>Parch</th>\n",
              "      <th>Fare</th>\n",
              "      <th>Embarked</th>\n",
              "      <th>Title</th>\n",
              "    </tr>\n",
              "  </thead>\n",
              "  <tbody>\n",
              "    <tr>\n",
              "      <th>0</th>\n",
              "      <td>0</td>\n",
              "      <td>3</td>\n",
              "      <td>male</td>\n",
              "      <td>22.0</td>\n",
              "      <td>1</td>\n",
              "      <td>0</td>\n",
              "      <td>7.2500</td>\n",
              "      <td>S</td>\n",
              "      <td>Mr</td>\n",
              "    </tr>\n",
              "    <tr>\n",
              "      <th>1</th>\n",
              "      <td>1</td>\n",
              "      <td>1</td>\n",
              "      <td>female</td>\n",
              "      <td>38.0</td>\n",
              "      <td>1</td>\n",
              "      <td>0</td>\n",
              "      <td>71.2833</td>\n",
              "      <td>C</td>\n",
              "      <td>Mrs</td>\n",
              "    </tr>\n",
              "    <tr>\n",
              "      <th>2</th>\n",
              "      <td>1</td>\n",
              "      <td>3</td>\n",
              "      <td>female</td>\n",
              "      <td>26.0</td>\n",
              "      <td>0</td>\n",
              "      <td>0</td>\n",
              "      <td>7.9250</td>\n",
              "      <td>S</td>\n",
              "      <td>Miss</td>\n",
              "    </tr>\n",
              "    <tr>\n",
              "      <th>3</th>\n",
              "      <td>1</td>\n",
              "      <td>1</td>\n",
              "      <td>female</td>\n",
              "      <td>35.0</td>\n",
              "      <td>1</td>\n",
              "      <td>0</td>\n",
              "      <td>53.1000</td>\n",
              "      <td>S</td>\n",
              "      <td>Mrs</td>\n",
              "    </tr>\n",
              "    <tr>\n",
              "      <th>4</th>\n",
              "      <td>0</td>\n",
              "      <td>3</td>\n",
              "      <td>male</td>\n",
              "      <td>35.0</td>\n",
              "      <td>0</td>\n",
              "      <td>0</td>\n",
              "      <td>8.0500</td>\n",
              "      <td>S</td>\n",
              "      <td>Mr</td>\n",
              "    </tr>\n",
              "  </tbody>\n",
              "</table>\n",
              "</div>"
            ],
            "text/plain": [
              "   Survived  Pclass     Sex   Age  SibSp  Parch     Fare Embarked Title\n",
              "0         0       3    male  22.0      1      0   7.2500        S    Mr\n",
              "1         1       1  female  38.0      1      0  71.2833        C   Mrs\n",
              "2         1       3  female  26.0      0      0   7.9250        S  Miss\n",
              "3         1       1  female  35.0      1      0  53.1000        S   Mrs\n",
              "4         0       3    male  35.0      0      0   8.0500        S    Mr"
            ]
          },
          "metadata": {
            "tags": []
          },
          "execution_count": 103
        }
      ]
    },
    {
      "cell_type": "code",
      "metadata": {
        "colab": {
          "base_uri": "https://localhost:8080/"
        },
        "id": "wn7Z8sdPBepk",
        "outputId": "aa925d0e-03b7-4684-9571-21b576666f21"
      },
      "source": [
        "# Rellenamos los nulos de las variables numéricas (edad)\n",
        "df_titanic[cols].isna().sum()"
      ],
      "execution_count": 104,
      "outputs": [
        {
          "output_type": "execute_result",
          "data": {
            "text/plain": [
              "Survived      0\n",
              "Pclass        0\n",
              "Sex           0\n",
              "Age         177\n",
              "SibSp         0\n",
              "Parch         0\n",
              "Fare          0\n",
              "Embarked      2\n",
              "Title         0\n",
              "dtype: int64"
            ]
          },
          "metadata": {
            "tags": []
          },
          "execution_count": 104
        }
      ]
    },
    {
      "cell_type": "code",
      "metadata": {
        "colab": {
          "base_uri": "https://localhost:8080/"
        },
        "id": "gVMI9BAQBlLo",
        "outputId": "b45ed624-df7d-4461-e5db-a43d8f418844"
      },
      "source": [
        "# Rellenamos los nulos de la variable edad de una forma avanzada:\n",
        "# calculando la media para cada título\n",
        "\n",
        "filtro_edad_nula = df_titanic['Age'].isna()\n",
        "filtro_edad_no_nula = df_titanic['Age'].notnull()\n",
        "\n",
        "# Rellenamos los nulos en función del título \n",
        "for titulo in df_titanic['Title'].unique():\n",
        "  filtro_titulo = df_titanic['Title'] == titulo\n",
        "\n",
        "  if len(df_titanic[((filtro_titulo) & (filtro_edad_no_nula))]) > 2:\n",
        "    print(titulo)\n",
        "    df_titanic.loc[((filtro_titulo)&(filtro_edad_nula)), 'Age'] = df_titanic.loc[((filtro_titulo)&(filtro_edad_no_nula)), 'Age'].median()\n",
        "  \n",
        "# Rellenamos los que sigan siendo nulos (títulos solo presentes entre gente sin la edad informada)\n",
        "df_titanic['Age'] = df_titanic['Age'].fillna(df_titanic['Age'].median())"
      ],
      "execution_count": 105,
      "outputs": [
        {
          "output_type": "stream",
          "text": [
            "Mr\n",
            "Mrs\n",
            "Miss\n",
            "Master\n",
            "Rev\n",
            "Dr\n"
          ],
          "name": "stdout"
        }
      ]
    },
    {
      "cell_type": "code",
      "metadata": {
        "colab": {
          "base_uri": "https://localhost:8080/"
        },
        "id": "mLI5X9CyBobX",
        "outputId": "94857c58-5eb8-4b17-9975-267b9989c509"
      },
      "source": [
        "# Eliminamos los nulos de la variable Embarked\n",
        "print(len(df_titanic))\n",
        "df_titanic = df_titanic.dropna(subset=['Embarked'])\n",
        "print(len(df_titanic))"
      ],
      "execution_count": 106,
      "outputs": [
        {
          "output_type": "stream",
          "text": [
            "891\n",
            "889\n"
          ],
          "name": "stdout"
        }
      ]
    },
    {
      "cell_type": "code",
      "metadata": {
        "colab": {
          "base_uri": "https://localhost:8080/",
          "height": 241
        },
        "id": "21-yN-efBoe2",
        "outputId": "05f9d252-dc4b-4205-b126-357435557f2e"
      },
      "source": [
        "# Dumificamos variables categóricas\n",
        "df_titanic_i = pd.get_dummies(df_titanic[cols], \n",
        "                              prefix_sep='_',\n",
        "                              drop_first=True, \n",
        "                              columns=cat_cols)\n",
        "df_titanic_i.head()"
      ],
      "execution_count": 107,
      "outputs": [
        {
          "output_type": "execute_result",
          "data": {
            "text/html": [
              "<div>\n",
              "<style scoped>\n",
              "    .dataframe tbody tr th:only-of-type {\n",
              "        vertical-align: middle;\n",
              "    }\n",
              "\n",
              "    .dataframe tbody tr th {\n",
              "        vertical-align: top;\n",
              "    }\n",
              "\n",
              "    .dataframe thead th {\n",
              "        text-align: right;\n",
              "    }\n",
              "</style>\n",
              "<table border=\"1\" class=\"dataframe\">\n",
              "  <thead>\n",
              "    <tr style=\"text-align: right;\">\n",
              "      <th></th>\n",
              "      <th>Survived</th>\n",
              "      <th>Pclass</th>\n",
              "      <th>Age</th>\n",
              "      <th>SibSp</th>\n",
              "      <th>Parch</th>\n",
              "      <th>Fare</th>\n",
              "      <th>Sex_male</th>\n",
              "      <th>Embarked_Q</th>\n",
              "      <th>Embarked_S</th>\n",
              "      <th>Title_Col</th>\n",
              "      <th>Title_Don</th>\n",
              "      <th>Title_Dr</th>\n",
              "      <th>Title_Jonkheer</th>\n",
              "      <th>Title_Lady</th>\n",
              "      <th>Title_Major</th>\n",
              "      <th>Title_Master</th>\n",
              "      <th>Title_Miss</th>\n",
              "      <th>Title_Mlle</th>\n",
              "      <th>Title_Mme</th>\n",
              "      <th>Title_Mr</th>\n",
              "      <th>Title_Mrs</th>\n",
              "      <th>Title_Ms</th>\n",
              "      <th>Title_Rev</th>\n",
              "      <th>Title_Sir</th>\n",
              "      <th>Title_the Countess</th>\n",
              "    </tr>\n",
              "  </thead>\n",
              "  <tbody>\n",
              "    <tr>\n",
              "      <th>0</th>\n",
              "      <td>0</td>\n",
              "      <td>3</td>\n",
              "      <td>22.0</td>\n",
              "      <td>1</td>\n",
              "      <td>0</td>\n",
              "      <td>7.2500</td>\n",
              "      <td>1</td>\n",
              "      <td>0</td>\n",
              "      <td>1</td>\n",
              "      <td>0</td>\n",
              "      <td>0</td>\n",
              "      <td>0</td>\n",
              "      <td>0</td>\n",
              "      <td>0</td>\n",
              "      <td>0</td>\n",
              "      <td>0</td>\n",
              "      <td>0</td>\n",
              "      <td>0</td>\n",
              "      <td>0</td>\n",
              "      <td>1</td>\n",
              "      <td>0</td>\n",
              "      <td>0</td>\n",
              "      <td>0</td>\n",
              "      <td>0</td>\n",
              "      <td>0</td>\n",
              "    </tr>\n",
              "    <tr>\n",
              "      <th>1</th>\n",
              "      <td>1</td>\n",
              "      <td>1</td>\n",
              "      <td>38.0</td>\n",
              "      <td>1</td>\n",
              "      <td>0</td>\n",
              "      <td>71.2833</td>\n",
              "      <td>0</td>\n",
              "      <td>0</td>\n",
              "      <td>0</td>\n",
              "      <td>0</td>\n",
              "      <td>0</td>\n",
              "      <td>0</td>\n",
              "      <td>0</td>\n",
              "      <td>0</td>\n",
              "      <td>0</td>\n",
              "      <td>0</td>\n",
              "      <td>0</td>\n",
              "      <td>0</td>\n",
              "      <td>0</td>\n",
              "      <td>0</td>\n",
              "      <td>1</td>\n",
              "      <td>0</td>\n",
              "      <td>0</td>\n",
              "      <td>0</td>\n",
              "      <td>0</td>\n",
              "    </tr>\n",
              "    <tr>\n",
              "      <th>2</th>\n",
              "      <td>1</td>\n",
              "      <td>3</td>\n",
              "      <td>26.0</td>\n",
              "      <td>0</td>\n",
              "      <td>0</td>\n",
              "      <td>7.9250</td>\n",
              "      <td>0</td>\n",
              "      <td>0</td>\n",
              "      <td>1</td>\n",
              "      <td>0</td>\n",
              "      <td>0</td>\n",
              "      <td>0</td>\n",
              "      <td>0</td>\n",
              "      <td>0</td>\n",
              "      <td>0</td>\n",
              "      <td>0</td>\n",
              "      <td>1</td>\n",
              "      <td>0</td>\n",
              "      <td>0</td>\n",
              "      <td>0</td>\n",
              "      <td>0</td>\n",
              "      <td>0</td>\n",
              "      <td>0</td>\n",
              "      <td>0</td>\n",
              "      <td>0</td>\n",
              "    </tr>\n",
              "    <tr>\n",
              "      <th>3</th>\n",
              "      <td>1</td>\n",
              "      <td>1</td>\n",
              "      <td>35.0</td>\n",
              "      <td>1</td>\n",
              "      <td>0</td>\n",
              "      <td>53.1000</td>\n",
              "      <td>0</td>\n",
              "      <td>0</td>\n",
              "      <td>1</td>\n",
              "      <td>0</td>\n",
              "      <td>0</td>\n",
              "      <td>0</td>\n",
              "      <td>0</td>\n",
              "      <td>0</td>\n",
              "      <td>0</td>\n",
              "      <td>0</td>\n",
              "      <td>0</td>\n",
              "      <td>0</td>\n",
              "      <td>0</td>\n",
              "      <td>0</td>\n",
              "      <td>1</td>\n",
              "      <td>0</td>\n",
              "      <td>0</td>\n",
              "      <td>0</td>\n",
              "      <td>0</td>\n",
              "    </tr>\n",
              "    <tr>\n",
              "      <th>4</th>\n",
              "      <td>0</td>\n",
              "      <td>3</td>\n",
              "      <td>35.0</td>\n",
              "      <td>0</td>\n",
              "      <td>0</td>\n",
              "      <td>8.0500</td>\n",
              "      <td>1</td>\n",
              "      <td>0</td>\n",
              "      <td>1</td>\n",
              "      <td>0</td>\n",
              "      <td>0</td>\n",
              "      <td>0</td>\n",
              "      <td>0</td>\n",
              "      <td>0</td>\n",
              "      <td>0</td>\n",
              "      <td>0</td>\n",
              "      <td>0</td>\n",
              "      <td>0</td>\n",
              "      <td>0</td>\n",
              "      <td>1</td>\n",
              "      <td>0</td>\n",
              "      <td>0</td>\n",
              "      <td>0</td>\n",
              "      <td>0</td>\n",
              "      <td>0</td>\n",
              "    </tr>\n",
              "  </tbody>\n",
              "</table>\n",
              "</div>"
            ],
            "text/plain": [
              "   Survived  Pclass   Age  ...  Title_Rev  Title_Sir  Title_the Countess\n",
              "0         0       3  22.0  ...          0          0                   0\n",
              "1         1       1  38.0  ...          0          0                   0\n",
              "2         1       3  26.0  ...          0          0                   0\n",
              "3         1       1  35.0  ...          0          0                   0\n",
              "4         0       3  35.0  ...          0          0                   0\n",
              "\n",
              "[5 rows x 25 columns]"
            ]
          },
          "metadata": {
            "tags": []
          },
          "execution_count": 107
        }
      ]
    },
    {
      "cell_type": "markdown",
      "metadata": {
        "id": "aWB003sfBuvs"
      },
      "source": [
        "## 0105 Train-Test Split"
      ]
    },
    {
      "cell_type": "code",
      "metadata": {
        "colab": {
          "base_uri": "https://localhost:8080/"
        },
        "id": "l8_lZjJNBoh3",
        "outputId": "f86d1e7b-a9a8-4361-eedd-f4d213096542"
      },
      "source": [
        "# Generamos las matrices X e y\n",
        "X_titanic = df_titanic_i.drop('Survived',axis=1)\n",
        "y_titanic = df_titanic_i['Survived']\n",
        "\n",
        "X_titanic.shape, y_titanic.shape"
      ],
      "execution_count": 108,
      "outputs": [
        {
          "output_type": "execute_result",
          "data": {
            "text/plain": [
              "((889, 24), (889,))"
            ]
          },
          "metadata": {
            "tags": []
          },
          "execution_count": 108
        }
      ]
    },
    {
      "cell_type": "code",
      "metadata": {
        "colab": {
          "base_uri": "https://localhost:8080/"
        },
        "id": "NA1EnqzxB0ew",
        "outputId": "08bdc1a2-125e-476f-9874-24853897c49d"
      },
      "source": [
        "from sklearn.model_selection import train_test_split\n",
        "\n",
        "X_train, X_test, y_train, y_test = train_test_split(X_titanic, \n",
        "                                                    y_titanic, \n",
        "                                                    test_size=0.25, \n",
        "                                                    random_state=42)\n",
        "\n",
        "X_train.shape, X_test.shape, y_train.shape, y_test.shape"
      ],
      "execution_count": 109,
      "outputs": [
        {
          "output_type": "execute_result",
          "data": {
            "text/plain": [
              "((666, 24), (223, 24), (666,), (223,))"
            ]
          },
          "metadata": {
            "tags": []
          },
          "execution_count": 109
        }
      ]
    },
    {
      "cell_type": "markdown",
      "metadata": {
        "id": "KBOQJ0AjdYrM"
      },
      "source": [
        "# 02 Entrenamiento árbol de decisión\n",
        "Entrenamos un árbol de decisión tomando medidas para evitar el overfitting."
      ]
    },
    {
      "cell_type": "code",
      "metadata": {
        "id": "sAcxd_o5Zl-j"
      },
      "source": [
        "from sklearn.metrics import roc_auc_score"
      ],
      "execution_count": 110,
      "outputs": []
    },
    {
      "cell_type": "code",
      "metadata": {
        "id": "KZ-FEpCkCAR8"
      },
      "source": [
        "def entrenar_modelo_y_predecir_classificacion(modelo):\n",
        "  # Entreno el árbol con el set de entrenamiento\n",
        "  modelo = modelo.fit(X=X_train, y=y_train)\n",
        "  # Uso el árbol para predecir sobre el dataset de entrenamiento\n",
        "  y_pred_train = modelo.predict(X_train)\n",
        "  # Uso el árbol para predecir sobre el dataset de test\n",
        "  y_pred_test = modelo.predict(X_test)\n",
        "  # Cómo de buena es la predicción?\n",
        "  ac_train = round(accuracy_score(y_train, y_pred_train), 4)\n",
        "  print('Precisión en set de entrenamiento :', ac_train)\n",
        "  ac_test = round(accuracy_score(y_test, y_pred_test), 4)\n",
        "  print('Precisión en set de test :', ac_test)\n",
        "  print('Degradación: ', round((ac_train-ac_test)/ac_train*100,2), '%')\n",
        "  print('ROC AUC: ', round(roc_auc_score(y_test, y_pred_test),2))"
      ],
      "execution_count": 111,
      "outputs": []
    },
    {
      "cell_type": "code",
      "metadata": {
        "colab": {
          "base_uri": "https://localhost:8080/"
        },
        "id": "mAxIPaSACAVh",
        "outputId": "dfb0a777-59b8-4184-d00c-36cb2e56e0df"
      },
      "source": [
        "modelo = tree.DecisionTreeClassifier(max_depth=20, \n",
        "                                     min_samples_split = 20,\n",
        "                                     min_samples_leaf = 5, \n",
        "                                     min_impurity_decrease = 0.003)\n",
        "# Entrenamos y predecimos con dicho modelo\n",
        "entrenar_modelo_y_predecir_classificacion(modelo)"
      ],
      "execution_count": 112,
      "outputs": [
        {
          "output_type": "stream",
          "text": [
            "Precisión en set de entrenamiento : 0.8589\n",
            "Precisión en set de test : 0.843\n",
            "Degradación:  1.85 %\n",
            "ROC AUC:  0.82\n"
          ],
          "name": "stdout"
        }
      ]
    },
    {
      "cell_type": "code",
      "metadata": {
        "colab": {
          "base_uri": "https://localhost:8080/",
          "height": 954
        },
        "id": "V1MXDCO6cD0O",
        "outputId": "d5db2369-de00-41fb-c412-1d9d4d361b20"
      },
      "source": [
        "# con export_graphviz\n",
        "dot_data = tree.export_graphviz(modelo, \n",
        "                                out_file=None, \n",
        "                                feature_names=list(X_titanic.columns)) \n",
        "graph = graphviz.Source(dot_data) \n",
        "graph"
      ],
      "execution_count": 114,
      "outputs": [
        {
          "output_type": "execute_result",
          "data": {
            "text/plain": [
              "<graphviz.files.Source at 0x7f6c16449290>"
            ],
            "image/svg+xml": "<?xml version=\"1.0\" encoding=\"UTF-8\" standalone=\"no\"?>\n<!DOCTYPE svg PUBLIC \"-//W3C//DTD SVG 1.1//EN\"\n \"http://www.w3.org/Graphics/SVG/1.1/DTD/svg11.dtd\">\n<!-- Generated by graphviz version 2.40.1 (20161225.0304)\n -->\n<!-- Title: Tree Pages: 1 -->\n<svg width=\"769pt\" height=\"685pt\"\n viewBox=\"0.00 0.00 768.50 685.00\" xmlns=\"http://www.w3.org/2000/svg\" xmlns:xlink=\"http://www.w3.org/1999/xlink\">\n<g id=\"graph0\" class=\"graph\" transform=\"scale(1 1) rotate(0) translate(4 681)\">\n<title>Tree</title>\n<polygon fill=\"#ffffff\" stroke=\"transparent\" points=\"-4,4 -4,-681 764.5,-681 764.5,4 -4,4\"/>\n<!-- 0 -->\n<g id=\"node1\" class=\"node\">\n<title>0</title>\n<polygon fill=\"none\" stroke=\"#000000\" points=\"460,-677 335,-677 335,-609 460,-609 460,-677\"/>\n<text text-anchor=\"middle\" x=\"397.5\" y=\"-661.8\" font-family=\"Times,serif\" font-size=\"14.00\" fill=\"#000000\">Title_Mr &lt;= 0.5</text>\n<text text-anchor=\"middle\" x=\"397.5\" y=\"-646.8\" font-family=\"Times,serif\" font-size=\"14.00\" fill=\"#000000\">gini = 0.475</text>\n<text text-anchor=\"middle\" x=\"397.5\" y=\"-631.8\" font-family=\"Times,serif\" font-size=\"14.00\" fill=\"#000000\">samples = 666</text>\n<text text-anchor=\"middle\" x=\"397.5\" y=\"-616.8\" font-family=\"Times,serif\" font-size=\"14.00\" fill=\"#000000\">value = [408, 258]</text>\n</g>\n<!-- 1 -->\n<g id=\"node2\" class=\"node\">\n<title>1</title>\n<polygon fill=\"none\" stroke=\"#000000\" points=\"389,-573 272,-573 272,-505 389,-505 389,-573\"/>\n<text text-anchor=\"middle\" x=\"330.5\" y=\"-557.8\" font-family=\"Times,serif\" font-size=\"14.00\" fill=\"#000000\">Pclass &lt;= 2.5</text>\n<text text-anchor=\"middle\" x=\"330.5\" y=\"-542.8\" font-family=\"Times,serif\" font-size=\"14.00\" fill=\"#000000\">gini = 0.41</text>\n<text text-anchor=\"middle\" x=\"330.5\" y=\"-527.8\" font-family=\"Times,serif\" font-size=\"14.00\" fill=\"#000000\">samples = 274</text>\n<text text-anchor=\"middle\" x=\"330.5\" y=\"-512.8\" font-family=\"Times,serif\" font-size=\"14.00\" fill=\"#000000\">value = [79, 195]</text>\n</g>\n<!-- 0&#45;&gt;1 -->\n<g id=\"edge1\" class=\"edge\">\n<title>0&#45;&gt;1</title>\n<path fill=\"none\" stroke=\"#000000\" d=\"M375.5617,-608.9465C369.951,-600.2373 363.8471,-590.7626 357.9958,-581.6801\"/>\n<polygon fill=\"#000000\" stroke=\"#000000\" points=\"360.8457,-579.641 352.4876,-573.13 354.9611,-583.4321 360.8457,-579.641\"/>\n<text text-anchor=\"middle\" x=\"347.2006\" y=\"-593.8646\" font-family=\"Times,serif\" font-size=\"14.00\" fill=\"#000000\">True</text>\n</g>\n<!-- 16 -->\n<g id=\"node17\" class=\"node\">\n<title>16</title>\n<polygon fill=\"none\" stroke=\"#000000\" points=\"524,-573 407,-573 407,-505 524,-505 524,-573\"/>\n<text text-anchor=\"middle\" x=\"465.5\" y=\"-557.8\" font-family=\"Times,serif\" font-size=\"14.00\" fill=\"#000000\">Fare &lt;= 26.269</text>\n<text text-anchor=\"middle\" x=\"465.5\" y=\"-542.8\" font-family=\"Times,serif\" font-size=\"14.00\" fill=\"#000000\">gini = 0.27</text>\n<text text-anchor=\"middle\" x=\"465.5\" y=\"-527.8\" font-family=\"Times,serif\" font-size=\"14.00\" fill=\"#000000\">samples = 392</text>\n<text text-anchor=\"middle\" x=\"465.5\" y=\"-512.8\" font-family=\"Times,serif\" font-size=\"14.00\" fill=\"#000000\">value = [329, 63]</text>\n</g>\n<!-- 0&#45;&gt;16 -->\n<g id=\"edge16\" class=\"edge\">\n<title>0&#45;&gt;16</title>\n<path fill=\"none\" stroke=\"#000000\" d=\"M419.7657,-608.9465C425.4602,-600.2373 431.6552,-590.7626 437.5938,-581.6801\"/>\n<polygon fill=\"#000000\" stroke=\"#000000\" points=\"440.6411,-583.4151 443.1842,-573.13 434.7823,-579.5843 440.6411,-583.4151\"/>\n<text text-anchor=\"middle\" x=\"448.3058\" y=\"-593.8998\" font-family=\"Times,serif\" font-size=\"14.00\" fill=\"#000000\">False</text>\n</g>\n<!-- 2 -->\n<g id=\"node3\" class=\"node\">\n<title>2</title>\n<polygon fill=\"none\" stroke=\"#000000\" points=\"251,-469 134,-469 134,-401 251,-401 251,-469\"/>\n<text text-anchor=\"middle\" x=\"192.5\" y=\"-453.8\" font-family=\"Times,serif\" font-size=\"14.00\" fill=\"#000000\">Sex_male &lt;= 0.5</text>\n<text text-anchor=\"middle\" x=\"192.5\" y=\"-438.8\" font-family=\"Times,serif\" font-size=\"14.00\" fill=\"#000000\">gini = 0.153</text>\n<text text-anchor=\"middle\" x=\"192.5\" y=\"-423.8\" font-family=\"Times,serif\" font-size=\"14.00\" fill=\"#000000\">samples = 144</text>\n<text text-anchor=\"middle\" x=\"192.5\" y=\"-408.8\" font-family=\"Times,serif\" font-size=\"14.00\" fill=\"#000000\">value = [12, 132]</text>\n</g>\n<!-- 1&#45;&gt;2 -->\n<g id=\"edge2\" class=\"edge\">\n<title>1&#45;&gt;2</title>\n<path fill=\"none\" stroke=\"#000000\" d=\"M285.3136,-504.9465C272.685,-495.4293 258.8433,-484.9978 245.7932,-475.163\"/>\n<polygon fill=\"#000000\" stroke=\"#000000\" points=\"247.8805,-472.3534 237.7879,-469.13 243.6675,-477.9437 247.8805,-472.3534\"/>\n</g>\n<!-- 7 -->\n<g id=\"node8\" class=\"node\">\n<title>7</title>\n<polygon fill=\"none\" stroke=\"#000000\" points=\"386.5,-469 276.5,-469 276.5,-401 386.5,-401 386.5,-469\"/>\n<text text-anchor=\"middle\" x=\"331.5\" y=\"-453.8\" font-family=\"Times,serif\" font-size=\"14.00\" fill=\"#000000\">Fare &lt;= 23.35</text>\n<text text-anchor=\"middle\" x=\"331.5\" y=\"-438.8\" font-family=\"Times,serif\" font-size=\"14.00\" fill=\"#000000\">gini = 0.5</text>\n<text text-anchor=\"middle\" x=\"331.5\" y=\"-423.8\" font-family=\"Times,serif\" font-size=\"14.00\" fill=\"#000000\">samples = 130</text>\n<text text-anchor=\"middle\" x=\"331.5\" y=\"-408.8\" font-family=\"Times,serif\" font-size=\"14.00\" fill=\"#000000\">value = [67, 63]</text>\n</g>\n<!-- 1&#45;&gt;7 -->\n<g id=\"edge7\" class=\"edge\">\n<title>1&#45;&gt;7</title>\n<path fill=\"none\" stroke=\"#000000\" d=\"M330.8274,-504.9465C330.906,-496.776 330.991,-487.9318 331.0734,-479.3697\"/>\n<polygon fill=\"#000000\" stroke=\"#000000\" points=\"334.5754,-479.1632 331.1718,-469.13 327.5757,-479.0958 334.5754,-479.1632\"/>\n</g>\n<!-- 3 -->\n<g id=\"node4\" class=\"node\">\n<title>3</title>\n<polygon fill=\"none\" stroke=\"#000000\" points=\"109,-357.5 0,-357.5 0,-304.5 109,-304.5 109,-357.5\"/>\n<text text-anchor=\"middle\" x=\"54.5\" y=\"-342.3\" font-family=\"Times,serif\" font-size=\"14.00\" fill=\"#000000\">gini = 0.079</text>\n<text text-anchor=\"middle\" x=\"54.5\" y=\"-327.3\" font-family=\"Times,serif\" font-size=\"14.00\" fill=\"#000000\">samples = 122</text>\n<text text-anchor=\"middle\" x=\"54.5\" y=\"-312.3\" font-family=\"Times,serif\" font-size=\"14.00\" fill=\"#000000\">value = [5, 117]</text>\n</g>\n<!-- 2&#45;&gt;3 -->\n<g id=\"edge3\" class=\"edge\">\n<title>2&#45;&gt;3</title>\n<path fill=\"none\" stroke=\"#000000\" d=\"M147.3136,-400.9465C131.3823,-388.9403 113.5204,-375.4791 97.7527,-363.5962\"/>\n<polygon fill=\"#000000\" stroke=\"#000000\" points=\"99.812,-360.7656 89.7194,-357.5422 95.599,-366.3558 99.812,-360.7656\"/>\n</g>\n<!-- 4 -->\n<g id=\"node5\" class=\"node\">\n<title>4</title>\n<polygon fill=\"none\" stroke=\"#000000\" points=\"258,-365 127,-365 127,-297 258,-297 258,-365\"/>\n<text text-anchor=\"middle\" x=\"192.5\" y=\"-349.8\" font-family=\"Times,serif\" font-size=\"14.00\" fill=\"#000000\">Title_Master &lt;= 0.5</text>\n<text text-anchor=\"middle\" x=\"192.5\" y=\"-334.8\" font-family=\"Times,serif\" font-size=\"14.00\" fill=\"#000000\">gini = 0.434</text>\n<text text-anchor=\"middle\" x=\"192.5\" y=\"-319.8\" font-family=\"Times,serif\" font-size=\"14.00\" fill=\"#000000\">samples = 22</text>\n<text text-anchor=\"middle\" x=\"192.5\" y=\"-304.8\" font-family=\"Times,serif\" font-size=\"14.00\" fill=\"#000000\">value = [7, 15]</text>\n</g>\n<!-- 2&#45;&gt;4 -->\n<g id=\"edge4\" class=\"edge\">\n<title>2&#45;&gt;4</title>\n<path fill=\"none\" stroke=\"#000000\" d=\"M192.5,-400.9465C192.5,-392.776 192.5,-383.9318 192.5,-375.3697\"/>\n<polygon fill=\"#000000\" stroke=\"#000000\" points=\"196.0001,-375.13 192.5,-365.13 189.0001,-375.13 196.0001,-375.13\"/>\n</g>\n<!-- 5 -->\n<g id=\"node6\" class=\"node\">\n<title>5</title>\n<polygon fill=\"none\" stroke=\"#000000\" points=\"128,-253.5 33,-253.5 33,-200.5 128,-200.5 128,-253.5\"/>\n<text text-anchor=\"middle\" x=\"80.5\" y=\"-238.3\" font-family=\"Times,serif\" font-size=\"14.00\" fill=\"#000000\">gini = 0.486</text>\n<text text-anchor=\"middle\" x=\"80.5\" y=\"-223.3\" font-family=\"Times,serif\" font-size=\"14.00\" fill=\"#000000\">samples = 12</text>\n<text text-anchor=\"middle\" x=\"80.5\" y=\"-208.3\" font-family=\"Times,serif\" font-size=\"14.00\" fill=\"#000000\">value = [7, 5]</text>\n</g>\n<!-- 4&#45;&gt;5 -->\n<g id=\"edge5\" class=\"edge\">\n<title>4&#45;&gt;5</title>\n<path fill=\"none\" stroke=\"#000000\" d=\"M155.827,-296.9465C143.2531,-285.2707 129.1974,-272.219 116.6641,-260.5809\"/>\n<polygon fill=\"#000000\" stroke=\"#000000\" points=\"118.7934,-257.7819 109.0839,-253.5422 114.0302,-262.9115 118.7934,-257.7819\"/>\n</g>\n<!-- 6 -->\n<g id=\"node7\" class=\"node\">\n<title>6</title>\n<polygon fill=\"none\" stroke=\"#000000\" points=\"248.5,-253.5 146.5,-253.5 146.5,-200.5 248.5,-200.5 248.5,-253.5\"/>\n<text text-anchor=\"middle\" x=\"197.5\" y=\"-238.3\" font-family=\"Times,serif\" font-size=\"14.00\" fill=\"#000000\">gini = 0.0</text>\n<text text-anchor=\"middle\" x=\"197.5\" y=\"-223.3\" font-family=\"Times,serif\" font-size=\"14.00\" fill=\"#000000\">samples = 10</text>\n<text text-anchor=\"middle\" x=\"197.5\" y=\"-208.3\" font-family=\"Times,serif\" font-size=\"14.00\" fill=\"#000000\">value = [0, 10]</text>\n</g>\n<!-- 4&#45;&gt;6 -->\n<g id=\"edge6\" class=\"edge\">\n<title>4&#45;&gt;6</title>\n<path fill=\"none\" stroke=\"#000000\" d=\"M194.1372,-296.9465C194.6509,-286.2621 195.2199,-274.4254 195.7416,-263.5742\"/>\n<polygon fill=\"#000000\" stroke=\"#000000\" points=\"199.2396,-263.6987 196.2239,-253.5422 192.2477,-263.3625 199.2396,-263.6987\"/>\n</g>\n<!-- 8 -->\n<g id=\"node9\" class=\"node\">\n<title>8</title>\n<polygon fill=\"none\" stroke=\"#000000\" points=\"386.5,-365 276.5,-365 276.5,-297 386.5,-297 386.5,-365\"/>\n<text text-anchor=\"middle\" x=\"331.5\" y=\"-349.8\" font-family=\"Times,serif\" font-size=\"14.00\" fill=\"#000000\">Age &lt;= 16.5</text>\n<text text-anchor=\"middle\" x=\"331.5\" y=\"-334.8\" font-family=\"Times,serif\" font-size=\"14.00\" fill=\"#000000\">gini = 0.456</text>\n<text text-anchor=\"middle\" x=\"331.5\" y=\"-319.8\" font-family=\"Times,serif\" font-size=\"14.00\" fill=\"#000000\">samples = 94</text>\n<text text-anchor=\"middle\" x=\"331.5\" y=\"-304.8\" font-family=\"Times,serif\" font-size=\"14.00\" fill=\"#000000\">value = [33, 61]</text>\n</g>\n<!-- 7&#45;&gt;8 -->\n<g id=\"edge8\" class=\"edge\">\n<title>7&#45;&gt;8</title>\n<path fill=\"none\" stroke=\"#000000\" d=\"M331.5,-400.9465C331.5,-392.776 331.5,-383.9318 331.5,-375.3697\"/>\n<polygon fill=\"#000000\" stroke=\"#000000\" points=\"335.0001,-375.13 331.5,-365.13 328.0001,-375.13 335.0001,-375.13\"/>\n</g>\n<!-- 15 -->\n<g id=\"node16\" class=\"node\">\n<title>15</title>\n<polygon fill=\"none\" stroke=\"#000000\" points=\"506.5,-357.5 404.5,-357.5 404.5,-304.5 506.5,-304.5 506.5,-357.5\"/>\n<text text-anchor=\"middle\" x=\"455.5\" y=\"-342.3\" font-family=\"Times,serif\" font-size=\"14.00\" fill=\"#000000\">gini = 0.105</text>\n<text text-anchor=\"middle\" x=\"455.5\" y=\"-327.3\" font-family=\"Times,serif\" font-size=\"14.00\" fill=\"#000000\">samples = 36</text>\n<text text-anchor=\"middle\" x=\"455.5\" y=\"-312.3\" font-family=\"Times,serif\" font-size=\"14.00\" fill=\"#000000\">value = [34, 2]</text>\n</g>\n<!-- 7&#45;&gt;15 -->\n<g id=\"edge15\" class=\"edge\">\n<title>7&#45;&gt;15</title>\n<path fill=\"none\" stroke=\"#000000\" d=\"M372.1022,-400.9465C386.1547,-389.1606 401.8788,-375.9726 415.8535,-364.2519\"/>\n<polygon fill=\"#000000\" stroke=\"#000000\" points=\"418.4408,-366.65 423.8536,-357.5422 413.9425,-361.2866 418.4408,-366.65\"/>\n</g>\n<!-- 9 -->\n<g id=\"node10\" class=\"node\">\n<title>9</title>\n<polygon fill=\"none\" stroke=\"#000000\" points=\"377.5,-253.5 275.5,-253.5 275.5,-200.5 377.5,-200.5 377.5,-253.5\"/>\n<text text-anchor=\"middle\" x=\"326.5\" y=\"-238.3\" font-family=\"Times,serif\" font-size=\"14.00\" fill=\"#000000\">gini = 0.219</text>\n<text text-anchor=\"middle\" x=\"326.5\" y=\"-223.3\" font-family=\"Times,serif\" font-size=\"14.00\" fill=\"#000000\">samples = 24</text>\n<text text-anchor=\"middle\" x=\"326.5\" y=\"-208.3\" font-family=\"Times,serif\" font-size=\"14.00\" fill=\"#000000\">value = [3, 21]</text>\n</g>\n<!-- 8&#45;&gt;9 -->\n<g id=\"edge9\" class=\"edge\">\n<title>8&#45;&gt;9</title>\n<path fill=\"none\" stroke=\"#000000\" d=\"M329.8628,-296.9465C329.3491,-286.2621 328.7801,-274.4254 328.2584,-263.5742\"/>\n<polygon fill=\"#000000\" stroke=\"#000000\" points=\"331.7523,-263.3625 327.7761,-253.5422 324.7604,-263.6987 331.7523,-263.3625\"/>\n</g>\n<!-- 10 -->\n<g id=\"node11\" class=\"node\">\n<title>10</title>\n<polygon fill=\"none\" stroke=\"#000000\" points=\"505.5,-261 395.5,-261 395.5,-193 505.5,-193 505.5,-261\"/>\n<text text-anchor=\"middle\" x=\"450.5\" y=\"-245.8\" font-family=\"Times,serif\" font-size=\"14.00\" fill=\"#000000\">Fare &lt;= 7.888</text>\n<text text-anchor=\"middle\" x=\"450.5\" y=\"-230.8\" font-family=\"Times,serif\" font-size=\"14.00\" fill=\"#000000\">gini = 0.49</text>\n<text text-anchor=\"middle\" x=\"450.5\" y=\"-215.8\" font-family=\"Times,serif\" font-size=\"14.00\" fill=\"#000000\">samples = 70</text>\n<text text-anchor=\"middle\" x=\"450.5\" y=\"-200.8\" font-family=\"Times,serif\" font-size=\"14.00\" fill=\"#000000\">value = [30, 40]</text>\n</g>\n<!-- 8&#45;&gt;10 -->\n<g id=\"edge10\" class=\"edge\">\n<title>8&#45;&gt;10</title>\n<path fill=\"none\" stroke=\"#000000\" d=\"M370.4651,-296.9465C381.1495,-287.6088 392.8409,-277.3911 403.9066,-267.7203\"/>\n<polygon fill=\"#000000\" stroke=\"#000000\" points=\"406.2209,-270.346 411.4474,-261.13 401.6145,-265.0752 406.2209,-270.346\"/>\n</g>\n<!-- 11 -->\n<g id=\"node12\" class=\"node\">\n<title>11</title>\n<polygon fill=\"none\" stroke=\"#000000\" points=\"439.5,-149.5 337.5,-149.5 337.5,-96.5 439.5,-96.5 439.5,-149.5\"/>\n<text text-anchor=\"middle\" x=\"388.5\" y=\"-134.3\" font-family=\"Times,serif\" font-size=\"14.00\" fill=\"#000000\">gini = 0.4</text>\n<text text-anchor=\"middle\" x=\"388.5\" y=\"-119.3\" font-family=\"Times,serif\" font-size=\"14.00\" fill=\"#000000\">samples = 29</text>\n<text text-anchor=\"middle\" x=\"388.5\" y=\"-104.3\" font-family=\"Times,serif\" font-size=\"14.00\" fill=\"#000000\">value = [8, 21]</text>\n</g>\n<!-- 10&#45;&gt;11 -->\n<g id=\"edge11\" class=\"edge\">\n<title>10&#45;&gt;11</title>\n<path fill=\"none\" stroke=\"#000000\" d=\"M430.1989,-192.9465C423.5666,-181.8215 416.1897,-169.4473 409.5067,-158.237\"/>\n<polygon fill=\"#000000\" stroke=\"#000000\" points=\"412.4502,-156.3394 404.3232,-149.5422 406.4376,-159.9239 412.4502,-156.3394\"/>\n</g>\n<!-- 12 -->\n<g id=\"node13\" class=\"node\">\n<title>12</title>\n<polygon fill=\"none\" stroke=\"#000000\" points=\"567.5,-157 457.5,-157 457.5,-89 567.5,-89 567.5,-157\"/>\n<text text-anchor=\"middle\" x=\"512.5\" y=\"-141.8\" font-family=\"Times,serif\" font-size=\"14.00\" fill=\"#000000\">Fare &lt;= 15.0</text>\n<text text-anchor=\"middle\" x=\"512.5\" y=\"-126.8\" font-family=\"Times,serif\" font-size=\"14.00\" fill=\"#000000\">gini = 0.497</text>\n<text text-anchor=\"middle\" x=\"512.5\" y=\"-111.8\" font-family=\"Times,serif\" font-size=\"14.00\" fill=\"#000000\">samples = 41</text>\n<text text-anchor=\"middle\" x=\"512.5\" y=\"-96.8\" font-family=\"Times,serif\" font-size=\"14.00\" fill=\"#000000\">value = [22, 19]</text>\n</g>\n<!-- 10&#45;&gt;12 -->\n<g id=\"edge12\" class=\"edge\">\n<title>10&#45;&gt;12</title>\n<path fill=\"none\" stroke=\"#000000\" d=\"M470.8011,-192.9465C475.9396,-184.3271 481.5251,-174.9579 486.8886,-165.9611\"/>\n<polygon fill=\"#000000\" stroke=\"#000000\" points=\"490.0389,-167.5117 492.1533,-157.13 484.0263,-163.9272 490.0389,-167.5117\"/>\n</g>\n<!-- 13 -->\n<g id=\"node14\" class=\"node\">\n<title>13</title>\n<polygon fill=\"none\" stroke=\"#000000\" points=\"503.5,-53 401.5,-53 401.5,0 503.5,0 503.5,-53\"/>\n<text text-anchor=\"middle\" x=\"452.5\" y=\"-37.8\" font-family=\"Times,serif\" font-size=\"14.00\" fill=\"#000000\">gini = 0.423</text>\n<text text-anchor=\"middle\" x=\"452.5\" y=\"-22.8\" font-family=\"Times,serif\" font-size=\"14.00\" fill=\"#000000\">samples = 23</text>\n<text text-anchor=\"middle\" x=\"452.5\" y=\"-7.8\" font-family=\"Times,serif\" font-size=\"14.00\" fill=\"#000000\">value = [16, 7]</text>\n</g>\n<!-- 12&#45;&gt;13 -->\n<g id=\"edge13\" class=\"edge\">\n<title>12&#45;&gt;13</title>\n<path fill=\"none\" stroke=\"#000000\" d=\"M491.3462,-88.9777C485.8805,-80.187 479.9846,-70.7044 474.4778,-61.8477\"/>\n<polygon fill=\"#000000\" stroke=\"#000000\" points=\"477.3837,-59.8927 469.1312,-53.2485 471.4391,-63.5889 477.3837,-59.8927\"/>\n</g>\n<!-- 14 -->\n<g id=\"node15\" class=\"node\">\n<title>14</title>\n<polygon fill=\"none\" stroke=\"#000000\" points=\"623.5,-53 521.5,-53 521.5,0 623.5,0 623.5,-53\"/>\n<text text-anchor=\"middle\" x=\"572.5\" y=\"-37.8\" font-family=\"Times,serif\" font-size=\"14.00\" fill=\"#000000\">gini = 0.444</text>\n<text text-anchor=\"middle\" x=\"572.5\" y=\"-22.8\" font-family=\"Times,serif\" font-size=\"14.00\" fill=\"#000000\">samples = 18</text>\n<text text-anchor=\"middle\" x=\"572.5\" y=\"-7.8\" font-family=\"Times,serif\" font-size=\"14.00\" fill=\"#000000\">value = [6, 12]</text>\n</g>\n<!-- 12&#45;&gt;14 -->\n<g id=\"edge14\" class=\"edge\">\n<title>12&#45;&gt;14</title>\n<path fill=\"none\" stroke=\"#000000\" d=\"M533.6538,-88.9777C539.1195,-80.187 545.0154,-70.7044 550.5222,-61.8477\"/>\n<polygon fill=\"#000000\" stroke=\"#000000\" points=\"553.5609,-63.5889 555.8688,-53.2485 547.6163,-59.8927 553.5609,-63.5889\"/>\n</g>\n<!-- 17 -->\n<g id=\"node18\" class=\"node\">\n<title>17</title>\n<polygon fill=\"none\" stroke=\"#000000\" points=\"523,-461.5 406,-461.5 406,-408.5 523,-408.5 523,-461.5\"/>\n<text text-anchor=\"middle\" x=\"464.5\" y=\"-446.3\" font-family=\"Times,serif\" font-size=\"14.00\" fill=\"#000000\">gini = 0.188</text>\n<text text-anchor=\"middle\" x=\"464.5\" y=\"-431.3\" font-family=\"Times,serif\" font-size=\"14.00\" fill=\"#000000\">samples = 295</text>\n<text text-anchor=\"middle\" x=\"464.5\" y=\"-416.3\" font-family=\"Times,serif\" font-size=\"14.00\" fill=\"#000000\">value = [264, 31]</text>\n</g>\n<!-- 16&#45;&gt;17 -->\n<g id=\"edge17\" class=\"edge\">\n<title>16&#45;&gt;17</title>\n<path fill=\"none\" stroke=\"#000000\" d=\"M465.1726,-504.9465C465.0698,-494.2621 464.956,-482.4254 464.8517,-471.5742\"/>\n<polygon fill=\"#000000\" stroke=\"#000000\" points=\"468.3513,-471.508 464.7552,-461.5422 461.3516,-471.5754 468.3513,-471.508\"/>\n</g>\n<!-- 18 -->\n<g id=\"node19\" class=\"node\">\n<title>18</title>\n<polygon fill=\"none\" stroke=\"#000000\" points=\"651.5,-469 541.5,-469 541.5,-401 651.5,-401 651.5,-469\"/>\n<text text-anchor=\"middle\" x=\"596.5\" y=\"-453.8\" font-family=\"Times,serif\" font-size=\"14.00\" fill=\"#000000\">Fare &lt;= 26.775</text>\n<text text-anchor=\"middle\" x=\"596.5\" y=\"-438.8\" font-family=\"Times,serif\" font-size=\"14.00\" fill=\"#000000\">gini = 0.442</text>\n<text text-anchor=\"middle\" x=\"596.5\" y=\"-423.8\" font-family=\"Times,serif\" font-size=\"14.00\" fill=\"#000000\">samples = 97</text>\n<text text-anchor=\"middle\" x=\"596.5\" y=\"-408.8\" font-family=\"Times,serif\" font-size=\"14.00\" fill=\"#000000\">value = [65, 32]</text>\n</g>\n<!-- 16&#45;&gt;18 -->\n<g id=\"edge18\" class=\"edge\">\n<title>16&#45;&gt;18</title>\n<path fill=\"none\" stroke=\"#000000\" d=\"M508.3943,-504.9465C520.2693,-495.519 533.2741,-485.1946 545.5593,-475.4415\"/>\n<polygon fill=\"#000000\" stroke=\"#000000\" points=\"547.8536,-478.089 553.5093,-469.13 543.5011,-472.6066 547.8536,-478.089\"/>\n</g>\n<!-- 19 -->\n<g id=\"node20\" class=\"node\">\n<title>19</title>\n<polygon fill=\"none\" stroke=\"#000000\" points=\"632,-357.5 537,-357.5 537,-304.5 632,-304.5 632,-357.5\"/>\n<text text-anchor=\"middle\" x=\"584.5\" y=\"-342.3\" font-family=\"Times,serif\" font-size=\"14.00\" fill=\"#000000\">gini = 0.426</text>\n<text text-anchor=\"middle\" x=\"584.5\" y=\"-327.3\" font-family=\"Times,serif\" font-size=\"14.00\" fill=\"#000000\">samples = 13</text>\n<text text-anchor=\"middle\" x=\"584.5\" y=\"-312.3\" font-family=\"Times,serif\" font-size=\"14.00\" fill=\"#000000\">value = [4, 9]</text>\n</g>\n<!-- 18&#45;&gt;19 -->\n<g id=\"edge19\" class=\"edge\">\n<title>18&#45;&gt;19</title>\n<path fill=\"none\" stroke=\"#000000\" d=\"M592.5708,-400.9465C591.3379,-390.2621 589.9722,-378.4254 588.7201,-367.5742\"/>\n<polygon fill=\"#000000\" stroke=\"#000000\" points=\"592.1858,-367.075 587.5626,-357.5422 585.232,-367.8775 592.1858,-367.075\"/>\n</g>\n<!-- 20 -->\n<g id=\"node21\" class=\"node\">\n<title>20</title>\n<polygon fill=\"none\" stroke=\"#000000\" points=\"760.5,-357.5 650.5,-357.5 650.5,-304.5 760.5,-304.5 760.5,-357.5\"/>\n<text text-anchor=\"middle\" x=\"705.5\" y=\"-342.3\" font-family=\"Times,serif\" font-size=\"14.00\" fill=\"#000000\">gini = 0.398</text>\n<text text-anchor=\"middle\" x=\"705.5\" y=\"-327.3\" font-family=\"Times,serif\" font-size=\"14.00\" fill=\"#000000\">samples = 84</text>\n<text text-anchor=\"middle\" x=\"705.5\" y=\"-312.3\" font-family=\"Times,serif\" font-size=\"14.00\" fill=\"#000000\">value = [61, 23]</text>\n</g>\n<!-- 18&#45;&gt;20 -->\n<g id=\"edge20\" class=\"edge\">\n<title>18&#45;&gt;20</title>\n<path fill=\"none\" stroke=\"#000000\" d=\"M632.1907,-400.9465C644.4278,-389.2707 658.107,-376.219 670.3046,-364.5809\"/>\n<polygon fill=\"#000000\" stroke=\"#000000\" points=\"672.8628,-366.9777 677.6818,-357.5422 668.0306,-361.9131 672.8628,-366.9777\"/>\n</g>\n</g>\n</svg>\n"
          },
          "metadata": {
            "tags": []
          },
          "execution_count": 114
        }
      ]
    },
    {
      "cell_type": "markdown",
      "metadata": {
        "id": "8OJS0b4R5ZNh"
      },
      "source": [
        "# 03 Entrenamiento Random Forest\n",
        "Ahora comparamos el rendimiento del árbol de decisión con un Random Forest.\n",
        "http://scikit-learn.org/stable/modules/generated/sklearn.ensemble.RandomForestClassifier.html"
      ]
    },
    {
      "cell_type": "code",
      "metadata": {
        "id": "cvgN8D2VCoRk"
      },
      "source": [
        "# Importamos el modelo desde Sklearn\n",
        "from sklearn import ensemble"
      ],
      "execution_count": 115,
      "outputs": []
    },
    {
      "cell_type": "code",
      "metadata": {
        "colab": {
          "base_uri": "https://localhost:8080/"
        },
        "id": "_Ervsyl8CzCf",
        "outputId": "9fa7bc09-08a3-4d3f-937a-0370ea363fe8"
      },
      "source": [
        "modelo = ensemble.RandomForestClassifier(n_estimators = 200,\n",
        "                                         max_depth = 3, \n",
        "                                         min_samples_split = 10,\n",
        "                                         min_samples_leaf = 5)\n",
        "\n",
        "# Entrenamos y predecimos con dicho modelo\n",
        "entrenar_modelo_y_predecir_classificacion(modelo)"
      ],
      "execution_count": 142,
      "outputs": [
        {
          "output_type": "stream",
          "text": [
            "Precisión en set de entrenamiento : 0.8243\n",
            "Precisión en set de test : 0.8206\n",
            "Degradación:  0.45 %\n",
            "ROC AUC:  0.81\n"
          ],
          "name": "stdout"
        }
      ]
    },
    {
      "cell_type": "code",
      "metadata": {
        "colab": {
          "base_uri": "https://localhost:8080/"
        },
        "id": "ecE8BUW-CzF2",
        "outputId": "d003155a-28df-4071-f24e-6f6c7b626d6e"
      },
      "source": [
        "modelo = ensemble.RandomForestClassifier(n_estimators = 250,\n",
        "                                         max_features = \"auto\",\n",
        "                                         max_depth = 5, \n",
        "                                         min_samples_split = 5,\n",
        "                                         min_samples_leaf = 3)\n",
        "\n",
        "# Entrenamos y predecimos con dicho modelo\n",
        "entrenar_modelo_y_predecir_classificacion(modelo)"
      ],
      "execution_count": 150,
      "outputs": [
        {
          "output_type": "stream",
          "text": [
            "Precisión en set de entrenamiento : 0.8544\n",
            "Precisión en set de test : 0.8072\n",
            "Degradación:  5.52 %\n",
            "ROC AUC:  0.79\n"
          ],
          "name": "stdout"
        }
      ]
    },
    {
      "cell_type": "markdown",
      "metadata": {
        "id": "QHOAZOsfZH87"
      },
      "source": [
        "# 04 EJERCICIO\n"
      ]
    },
    {
      "cell_type": "markdown",
      "metadata": {
        "id": "MnQFvk5wgKGA"
      },
      "source": [
        "## 0401 Importa Dataset Diabetes\n",
        "Vamos a utilizar el dataset del notebook 3A (Diabetes).\n",
        "\n",
        "Impórtalo utilizando el archivo raw: 'https://raw.githubusercontent.com/JotaBlanco/TheValley/main/Data/diabetesIndia.csv'.\n",
        "\n",
        "Guárdalo en el **dataframe df**."
      ]
    },
    {
      "cell_type": "code",
      "metadata": {
        "colab": {
          "base_uri": "https://localhost:8080/",
          "height": 111
        },
        "id": "bVKFwAXnCzJH",
        "outputId": "3420535f-73a0-4b84-d5b9-965e007ae299"
      },
      "source": [
        "url = 'https://raw.githubusercontent.com/JotaBlanco/TheValley/main/Data/diabetesIndia.csv'\n",
        "\n",
        "df = pd.read_csv(url)\n",
        "\n",
        "df.head(2)"
      ],
      "execution_count": 99,
      "outputs": [
        {
          "output_type": "execute_result",
          "data": {
            "text/html": [
              "<div>\n",
              "<style scoped>\n",
              "    .dataframe tbody tr th:only-of-type {\n",
              "        vertical-align: middle;\n",
              "    }\n",
              "\n",
              "    .dataframe tbody tr th {\n",
              "        vertical-align: top;\n",
              "    }\n",
              "\n",
              "    .dataframe thead th {\n",
              "        text-align: right;\n",
              "    }\n",
              "</style>\n",
              "<table border=\"1\" class=\"dataframe\">\n",
              "  <thead>\n",
              "    <tr style=\"text-align: right;\">\n",
              "      <th></th>\n",
              "      <th>Pregnancies</th>\n",
              "      <th>Glucose</th>\n",
              "      <th>BloodPressure</th>\n",
              "      <th>SkinThickness</th>\n",
              "      <th>Insulin</th>\n",
              "      <th>BMI</th>\n",
              "      <th>DiabetesPedigreeFunction</th>\n",
              "      <th>Age</th>\n",
              "      <th>Outcome</th>\n",
              "    </tr>\n",
              "  </thead>\n",
              "  <tbody>\n",
              "    <tr>\n",
              "      <th>0</th>\n",
              "      <td>6</td>\n",
              "      <td>148</td>\n",
              "      <td>72</td>\n",
              "      <td>35</td>\n",
              "      <td>0</td>\n",
              "      <td>33.6</td>\n",
              "      <td>0.627</td>\n",
              "      <td>50</td>\n",
              "      <td>1</td>\n",
              "    </tr>\n",
              "    <tr>\n",
              "      <th>1</th>\n",
              "      <td>1</td>\n",
              "      <td>85</td>\n",
              "      <td>66</td>\n",
              "      <td>29</td>\n",
              "      <td>0</td>\n",
              "      <td>26.6</td>\n",
              "      <td>0.351</td>\n",
              "      <td>31</td>\n",
              "      <td>0</td>\n",
              "    </tr>\n",
              "  </tbody>\n",
              "</table>\n",
              "</div>"
            ],
            "text/plain": [
              "   Pregnancies  Glucose  BloodPressure  ...  DiabetesPedigreeFunction  Age  Outcome\n",
              "0            6      148             72  ...                     0.627   50        1\n",
              "1            1       85             66  ...                     0.351   31        0\n",
              "\n",
              "[2 rows x 9 columns]"
            ]
          },
          "metadata": {
            "tags": []
          },
          "execution_count": 99
        }
      ]
    },
    {
      "cell_type": "markdown",
      "metadata": {
        "id": "uHqVm6uYgeXc"
      },
      "source": [
        "## 0402 Limpia el dataset\n",
        "Comprueba el dataset (hay nulos) y prepáralo si es necesario."
      ]
    },
    {
      "cell_type": "code",
      "metadata": {
        "colab": {
          "base_uri": "https://localhost:8080/"
        },
        "id": "mv-J8JvifBxH",
        "outputId": "b1a0fbba-14fe-47f5-da2b-57363219141d"
      },
      "source": [
        "# Rellenamos los nulos de las variables numéricas (edad)\n",
        "df.isna().sum()"
      ],
      "execution_count": 151,
      "outputs": [
        {
          "output_type": "execute_result",
          "data": {
            "text/plain": [
              "Pregnancies                 0\n",
              "Glucose                     0\n",
              "BloodPressure               0\n",
              "SkinThickness               0\n",
              "Insulin                     0\n",
              "BMI                         0\n",
              "DiabetesPedigreeFunction    0\n",
              "Age                         0\n",
              "Outcome                     0\n",
              "dtype: int64"
            ]
          },
          "metadata": {
            "tags": []
          },
          "execution_count": 151
        }
      ]
    },
    {
      "cell_type": "markdown",
      "metadata": {
        "id": "xyY_O5ihhxp4"
      },
      "source": [
        "## 0403 Train-Test split\n",
        "Genera el set de pruebas (test)."
      ]
    },
    {
      "cell_type": "code",
      "metadata": {
        "colab": {
          "base_uri": "https://localhost:8080/"
        },
        "id": "bzRaemIKfIhu",
        "outputId": "19161e0f-1762-46ba-f05d-f9010cfa9a84"
      },
      "source": [
        "# Generamos las matrices X e y\n",
        "X = df.drop('Outcome',axis=1)\n",
        "y = df['Outcome']\n",
        "\n",
        "X.shape, y.shape"
      ],
      "execution_count": 152,
      "outputs": [
        {
          "output_type": "execute_result",
          "data": {
            "text/plain": [
              "((768, 8), (768,))"
            ]
          },
          "metadata": {
            "tags": []
          },
          "execution_count": 152
        }
      ]
    },
    {
      "cell_type": "code",
      "metadata": {
        "colab": {
          "base_uri": "https://localhost:8080/"
        },
        "id": "gJx193nOfSRs",
        "outputId": "f044793f-f3c5-4b66-b142-2b0d46bac67b"
      },
      "source": [
        "X_train, X_test, y_train, y_test = train_test_split(X, \n",
        "                                                    y, \n",
        "                                                    test_size=0.25, \n",
        "                                                    random_state=42)\n",
        "\n",
        "X_train.shape, X_test.shape, y_train.shape, y_test.shape"
      ],
      "execution_count": 153,
      "outputs": [
        {
          "output_type": "execute_result",
          "data": {
            "text/plain": [
              "((576, 8), (192, 8), (576,), (192,))"
            ]
          },
          "metadata": {
            "tags": []
          },
          "execution_count": 153
        }
      ]
    },
    {
      "cell_type": "markdown",
      "metadata": {
        "id": "u-PFKRkjh4iX"
      },
      "source": [
        "## 0404 Árbol de Decisión\n",
        "Encuentra el mejor árbol de decisión posible"
      ]
    },
    {
      "cell_type": "code",
      "metadata": {
        "colab": {
          "base_uri": "https://localhost:8080/"
        },
        "id": "ZTkHe6X0fUfF",
        "outputId": "45b233a9-9518-4840-ff94-920c15e31ea5"
      },
      "source": [
        "modelo = tree.DecisionTreeClassifier(max_depth=15, \n",
        "                                     min_samples_split = 20,\n",
        "                                     min_samples_leaf = 10, \n",
        "                                     min_impurity_decrease = 0.005)\n",
        "# Entrenamos y predecimos con dicho modelo\n",
        "entrenar_modelo_y_predecir_classificacion(modelo)"
      ],
      "execution_count": 157,
      "outputs": [
        {
          "output_type": "stream",
          "text": [
            "Precisión en set de entrenamiento : 0.8056\n",
            "Precisión en set de test : 0.75\n",
            "Degradación:  6.9 %\n",
            "ROC AUC:  0.71\n"
          ],
          "name": "stdout"
        }
      ]
    },
    {
      "cell_type": "markdown",
      "metadata": {
        "id": "w2CzEX7TiH0b"
      },
      "source": [
        "## 0405 Random Forest\n",
        "Encuentra el mejor modelo de rándom forest posible."
      ]
    },
    {
      "cell_type": "code",
      "metadata": {
        "colab": {
          "base_uri": "https://localhost:8080/"
        },
        "id": "g_c2wOvifYTt",
        "outputId": "c1de7c17-7a63-4341-e5c4-f76e049c8c89"
      },
      "source": [
        "modelo = ensemble.RandomForestClassifier(n_estimators = 500,\n",
        "                                         max_features = \"auto\",\n",
        "                                         max_depth = 3, \n",
        "                                         min_samples_split = 20,\n",
        "                                         min_samples_leaf = 5, \n",
        "                                         min_impurity_decrease = 0.005)\n",
        "\n",
        "# Entrenamos y predecimos con dicho modelo\n",
        "entrenar_modelo_y_predecir_classificacion(modelo)"
      ],
      "execution_count": 171,
      "outputs": [
        {
          "output_type": "stream",
          "text": [
            "Precisión en set de entrenamiento : 0.783\n",
            "Precisión en set de test : 0.7604\n",
            "Degradación:  2.89 %\n",
            "ROC AUC:  0.71\n"
          ],
          "name": "stdout"
        }
      ]
    }
  ]
}