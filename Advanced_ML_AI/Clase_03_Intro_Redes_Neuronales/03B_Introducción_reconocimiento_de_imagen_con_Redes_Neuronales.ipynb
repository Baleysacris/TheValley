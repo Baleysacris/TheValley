{
  "nbformat": 4,
  "nbformat_minor": 0,
  "metadata": {
    "colab": {
      "name": "03B - Introducción reconocimiento de imagen con Redes Neuronales.ipynb",
      "provenance": [],
      "toc_visible": true,
      "include_colab_link": true
    },
    "kernelspec": {
      "name": "python3",
      "display_name": "Python 3"
    }
  },
  "cells": [
    {
      "cell_type": "markdown",
      "metadata": {
        "id": "view-in-github",
        "colab_type": "text"
      },
      "source": [
        "<a href=\"https://colab.research.google.com/github/JotaBlanco/TheValley/blob/main/Advanced_ML_AI/Clase_03_Intro_Redes_Neuronales/03B_Introducci%C3%B3n_reconocimiento_de_imagen_con_Redes_Neuronales.ipynb\" target=\"_parent\"><img src=\"https://colab.research.google.com/assets/colab-badge.svg\" alt=\"Open In Colab\"/></a>"
      ]
    },
    {
      "cell_type": "markdown",
      "metadata": {
        "id": "_mo1-Qxt1OAp"
      },
      "source": [
        "# 01 INTRODUCCIÓN\n",
        "En este notebook nos introduciremos al reconocimiento de imagen con redes neuronales utilizando como ejemplo un ejercicio de diferenciación de género.\n",
        "\n",
        "\n",
        "\n",
        "Notebook por [Javier Blanco Cordero](https://www.linkedin.com/in/javier-blanco-cordero-71373656/).\n",
        "\n",
        "### Enlaces de interés\n",
        "*   [Slides de presentación](https://docs.google.com/presentation/d/1vFXqP9QBoipKkGjajyqZEDelGllNueR51kBmXCGWzck/edit?usp=sharing)\n",
        "*   [Enlace a este notebook](https://colab.research.google.com/github/JotaBlanco/ElClubDeLaBolsa/blob/Javi/Advanced_ML_AI/Clase_03_Intro_Redes_Neuronales/03B_Introducci%C3%B3n_reconocimiento_de_imagen_con_Redes_Neuronales.ipynb)"
      ]
    },
    {
      "cell_type": "markdown",
      "metadata": {
        "id": "cnHRaho3rsXS"
      },
      "source": [
        "## 0101 Import\n",
        "Puedes importar aquí las librerías que creas que vas a necesitar."
      ]
    },
    {
      "cell_type": "code",
      "metadata": {
        "id": "4be6xiUqjPHI"
      },
      "source": [
        "import pandas as pd\n",
        "import numpy as np\n",
        "import matplotlib.pyplot as plt\n",
        "import seaborn as sns\n",
        "\n",
        "from sklearn.model_selection import train_test_split\n",
        "from sklearn.metrics import accuracy_score"
      ],
      "execution_count": null,
      "outputs": []
    },
    {
      "cell_type": "markdown",
      "metadata": {
        "id": "AblkT14d4Gvt"
      },
      "source": [
        "## 0102 Carga el dataset de LFW\n",
        "Por primera vex (conmigo al menos), no vamos a importar datos en formato tabular, sino imagenes!\n",
        "\n",
        "LFW (Labeled Faces in the Wild) es un dataset famoso que contiene caras de personas conocidas. Sklearn incorpora en su librería [una función](https://scikit-learn.org/stable/modules/generated/sklearn.datasets.fetch_lfw_people.html) para importar imagenes de este dataset, así que podemos descargarlos desde sklearn."
      ]
    },
    {
      "cell_type": "code",
      "metadata": {
        "id": "GMZACcIXOclu"
      },
      "source": [
        "# Nos importamos la función que ingesta las imagenes \n",
        "# Más info sobre ella aquí \n",
        "from sklearn.datasets import fetch_lfw_people"
      ],
      "execution_count": null,
      "outputs": []
    },
    {
      "cell_type": "code",
      "metadata": {
        "id": "zsI8anfggkjN"
      },
      "source": [
        "# Importamos las imágenes: esto puede tardar 2-3 minutos \n",
        "lfw_people = fetch_lfw_people(min_faces_per_person = 5, \n",
        "                              color=False, \n",
        "                              resize=1,\n",
        "                              slice_=(slice(48, 202), slice(48, 202)))"
      ],
      "execution_count": null,
      "outputs": []
    },
    {
      "cell_type": "markdown",
      "metadata": {
        "id": "KBOQJ0AjdYrM"
      },
      "source": [
        "# 02 EDA\n",
        "Vamos a hacer un pequeño análisis exploratorio de los datos que nos hemos importado."
      ]
    },
    {
      "cell_type": "markdown",
      "metadata": {
        "id": "SXrEtB7FhbI3"
      },
      "source": [
        "## 0201 Qué es lfw_people?\n",
        "Qué esto que hemos creado/importado?"
      ]
    },
    {
      "cell_type": "code",
      "metadata": {
        "colab": {
          "base_uri": "https://localhost:8080/"
        },
        "id": "fHXn7jFWhUnu",
        "outputId": "f6725aca-017c-4e60-f921-04302f4afe0e"
      },
      "source": [
        "type(lfw_people)"
      ],
      "execution_count": null,
      "outputs": [
        {
          "output_type": "execute_result",
          "data": {
            "text/plain": [
              "sklearn.utils.Bunch"
            ]
          },
          "metadata": {
            "tags": []
          },
          "execution_count": 77
        }
      ]
    },
    {
      "cell_type": "code",
      "metadata": {
        "colab": {
          "base_uri": "https://localhost:8080/"
        },
        "id": "oJVDHNqjhU8P",
        "outputId": "c05de54d-d49d-4739-d80f-79983e80642a"
      },
      "source": [
        "lfw_people.data"
      ],
      "execution_count": null,
      "outputs": [
        {
          "output_type": "execute_result",
          "data": {
            "text/plain": [
              "array([[ 26.      ,  30.666666,  33.666668, ...,  36.333332,  28.      ,\n",
              "         21.666666],\n",
              "       [ 71.666664,  61.666668,  53.333332, ..., 105.666664, 105.333336,\n",
              "        102.333336],\n",
              "       [ 24.333334,  25.333334,  25.333334, ...,  29.666666,  29.666666,\n",
              "         29.      ],\n",
              "       ...,\n",
              "       [ 39.333332,  37.333332,  36.333332, ...,  14.666667,  15.666667,\n",
              "         15.666667],\n",
              "       [141.33333 , 141.33333 , 141.33333 , ...,  58.      ,  30.666666,\n",
              "         24.666666],\n",
              "       [ 50.666668,  92.333336, 135.33333 , ...,  23.      ,  23.      ,\n",
              "         23.      ]], dtype=float32)"
            ]
          },
          "metadata": {
            "tags": []
          },
          "execution_count": 78
        }
      ]
    },
    {
      "cell_type": "code",
      "metadata": {
        "colab": {
          "base_uri": "https://localhost:8080/"
        },
        "id": "Nzlz64V0hi38",
        "outputId": "032d82e8-43ac-421d-d602-d67aa2e02b69"
      },
      "source": [
        "lfw_people.images"
      ],
      "execution_count": null,
      "outputs": [
        {
          "output_type": "execute_result",
          "data": {
            "text/plain": [
              "array([[[ 26.      ,  30.666666,  33.666668, ...,  15.666667,\n",
              "          17.333334,  17.333334],\n",
              "        [ 24.      ,  29.666666,  32.666668, ...,  13.333333,\n",
              "          15.333333,  16.333334],\n",
              "        [ 21.666666,  26.      ,  29.666666, ...,   9.333333,\n",
              "          13.333333,  15.333333],\n",
              "        ...,\n",
              "        [ 84.333336,  81.333336,  78.333336, ...,  32.      ,\n",
              "          22.666666,  17.666666],\n",
              "        [ 85.333336,  79.333336,  73.      , ...,  33.      ,\n",
              "          27.      ,  20.666666],\n",
              "        [ 86.333336,  80.333336,  73.      , ...,  36.333332,\n",
              "          28.      ,  21.666666]],\n",
              "\n",
              "       [[ 71.666664,  61.666668,  53.333332, ..., 118.      ,\n",
              "         119.333336, 116.333336],\n",
              "        [ 74.666664,  67.666664,  59.666668, ..., 118.      ,\n",
              "         120.      , 118.333336],\n",
              "        [ 80.666664,  76.333336,  72.333336, ..., 122.      ,\n",
              "         122.      , 122.      ],\n",
              "        ...,\n",
              "        [ 37.666668,  38.      ,  53.      , ..., 108.333336,\n",
              "         106.333336, 107.666664],\n",
              "        [ 79.666664,  88.666664, 101.666664, ..., 105.333336,\n",
              "         106.333336, 103.333336],\n",
              "        [129.33333 , 133.33333 , 139.33333 , ..., 105.666664,\n",
              "         105.333336, 102.333336]],\n",
              "\n",
              "       [[ 24.333334,  25.333334,  25.333334, ..., 134.      ,\n",
              "         138.33333 , 136.33333 ],\n",
              "        [ 25.      ,  25.333334,  25.      , ..., 110.      ,\n",
              "         110.333336, 112.666664],\n",
              "        [ 25.      ,  25.      ,  25.      , ...,  85.666664,\n",
              "          89.666664,  91.333336],\n",
              "        ...,\n",
              "        [ 22.666666,  23.666666,  24.      , ...,  16.      ,\n",
              "          16.      ,  17.333334],\n",
              "        [ 20.666666,  23.666666,  25.      , ...,  18.      ,\n",
              "          19.      ,  19.666666],\n",
              "        [ 20.      ,  22.666666,  24.      , ...,  29.666666,\n",
              "          29.666666,  29.      ]],\n",
              "\n",
              "       ...,\n",
              "\n",
              "       [[ 39.333332,  37.333332,  36.333332, ...,  36.666668,\n",
              "          34.333332,  33.666668],\n",
              "        [ 43.333332,  40.333332,  39.333332, ...,  34.666668,\n",
              "          33.333332,  32.666668],\n",
              "        [ 46.333332,  44.333332,  43.333332, ...,  33.666668,\n",
              "          32.333332,  31.666666],\n",
              "        ...,\n",
              "        [ 42.333332,  39.333332,  38.333332, ...,  13.666667,\n",
              "          15.666667,  15.666667],\n",
              "        [ 40.      ,  39.      ,  38.666668, ...,  14.666667,\n",
              "          16.666666,  16.666666],\n",
              "        [ 39.      ,  39.666668,  39.666668, ...,  14.666667,\n",
              "          15.666667,  15.666667]],\n",
              "\n",
              "       [[141.33333 , 141.33333 , 141.33333 , ..., 169.66667 ,\n",
              "         171.66667 , 172.66667 ],\n",
              "        [144.33333 , 142.33333 , 142.33333 , ..., 177.66667 ,\n",
              "         179.33333 , 179.66667 ],\n",
              "        [148.33333 , 145.33333 , 144.      , ..., 184.66667 ,\n",
              "         185.33333 , 184.66667 ],\n",
              "        ...,\n",
              "        [110.333336, 111.333336, 112.666664, ..., 104.666664,\n",
              "          75.333336,  50.      ],\n",
              "        [112.666664, 111.666664, 111.666664, ...,  72.333336,\n",
              "          39.666668,  29.666666],\n",
              "        [113.666664, 112.333336, 112.666664, ...,  58.      ,\n",
              "          30.666666,  24.666666]],\n",
              "\n",
              "       [[ 50.666668,  92.333336, 135.33333 , ...,  83.666664,\n",
              "          84.666664,  84.666664],\n",
              "        [ 79.666664, 129.66667 , 172.33333 , ...,  83.666664,\n",
              "          84.666664,  84.666664],\n",
              "        [109.666664, 162.      , 197.66667 , ...,  83.666664,\n",
              "          84.666664,  84.666664],\n",
              "        ...,\n",
              "        [ 53.666668,  55.666668,  55.666668, ...,  22.333334,\n",
              "          23.      ,  23.      ],\n",
              "        [ 60.333332,  58.      ,  54.333332, ...,  23.      ,\n",
              "          23.      ,  23.      ],\n",
              "        [ 59.666668,  54.      ,  44.333332, ...,  23.      ,\n",
              "          23.      ,  23.      ]]], dtype=float32)"
            ]
          },
          "metadata": {
            "tags": []
          },
          "execution_count": 79
        }
      ]
    },
    {
      "cell_type": "code",
      "metadata": {
        "colab": {
          "base_uri": "https://localhost:8080/"
        },
        "id": "WscDvdO8hjA8",
        "outputId": "5a930ca5-e511-4e47-f48e-9140178727bf"
      },
      "source": [
        "lfw_people.target"
      ],
      "execution_count": null,
      "outputs": [
        {
          "output_type": "execute_result",
          "data": {
            "text/plain": [
              "array([ 54,   0, 134, ...,  98, 136,  29])"
            ]
          },
          "metadata": {
            "tags": []
          },
          "execution_count": 8
        }
      ]
    },
    {
      "cell_type": "code",
      "metadata": {
        "colab": {
          "base_uri": "https://localhost:8080/"
        },
        "id": "2gWaU6TahVBH",
        "outputId": "c71df85d-8b13-4032-a75f-dcac6f2443ef"
      },
      "source": [
        "lfw_people.target_names"
      ],
      "execution_count": null,
      "outputs": [
        {
          "output_type": "execute_result",
          "data": {
            "text/plain": [
              "array(['Abdullah Gul', 'Adrien Brody', 'Ahmed Chalabi', 'Ai Sugiyama',\n",
              "       'Al Gore', 'Al Sharpton', 'Alan Greenspan', 'Alastair Campbell',\n",
              "       'Albert Costa', 'Alejandro Toledo', 'Ali Naimi', 'Allyson Felix',\n",
              "       'Alvaro Uribe', 'Amelia Vega', 'Amelie Mauresmo', 'Ana Guevara',\n",
              "       'Ana Palacio', 'Andre Agassi', 'Andy Roddick', 'Angela Bassett',\n",
              "       'Angela Merkel', 'Angelina Jolie', 'Ann Veneman',\n",
              "       'Anna Kournikova', 'Antonio Banderas', 'Antonio Palocci',\n",
              "       'Ari Fleischer', 'Ariel Sharon', 'Arminio Fraga',\n",
              "       'Arnold Schwarzenegger', 'Arnoldo Aleman', 'Ashanti',\n",
              "       'Atal Bihari Vajpayee', 'Ben Affleck', 'Benazir Bhutto',\n",
              "       'Benjamin Netanyahu', 'Bernard Law', 'Bertie Ahern',\n",
              "       'Bill Clinton', 'Bill Frist', 'Bill Gates', 'Bill Graham',\n",
              "       'Bill McBride', 'Bill Simon', 'Billy Crystal',\n",
              "       'Binyamin Ben-Eliezer', 'Bob Graham', 'Bob Hope', 'Bob Stoops',\n",
              "       'Boris Becker', 'Brad Johnson', 'Britney Spears', 'Bulent Ecevit',\n",
              "       'Calista Flockhart', 'Cameron Diaz', 'Carla Del Ponte',\n",
              "       'Carlos Menem', 'Carlos Moya', 'Carmen Electra',\n",
              "       'Carrie-Anne Moss', 'Catherine Deneuve', 'Catherine Zeta-Jones',\n",
              "       'Celine Dion', 'Cesar Gaviria', 'Chanda Rubin', 'Charles Moose',\n",
              "       'Charles Taylor', 'Charlton Heston', 'Chen Shui-bian',\n",
              "       'Choi Sung-hong', 'Christine Baumgartner',\n",
              "       'Christine Todd Whitman', 'Ciro Gomes', 'Clara Harris',\n",
              "       'Claudia Pechstein', 'Clay Aiken', 'Clint Eastwood',\n",
              "       'Colin Farrell', 'Colin Montgomerie', 'Colin Powell',\n",
              "       'Condoleezza Rice', 'Costas Simitis', 'Cruz Bustamante',\n",
              "       'David Anderson', 'David Beckham', 'David Heymann',\n",
              "       'David Nalbandian', 'David Trimble', 'David Wells',\n",
              "       'Dennis Hastert', 'Dennis Kucinich', 'Denzel Washington',\n",
              "       'Diana Krall', 'Dick Cheney', 'Dominique de Villepin',\n",
              "       'Donald Rumsfeld', 'Edmund Stoiber', 'Eduard Shevardnadze',\n",
              "       'Eduardo Duhalde', 'Edward Lu', 'Elizabeth Hurley',\n",
              "       'Elizabeth Smart', 'Elsa Zylberstein', 'Elton John',\n",
              "       'Emanuel Ginobili', 'Emma Watson', 'Enrique Bolanos',\n",
              "       'Erika Harold', 'Fernando Gonzalez', 'Fernando Henrique Cardoso',\n",
              "       'Fidel Castro', 'Frank Solich', 'Fujio Cho', 'Gene Robinson',\n",
              "       'Geoff Hoon', 'George Clooney', 'George HW Bush', 'George Lopez',\n",
              "       'George Pataki', 'George Robertson', 'George W Bush',\n",
              "       'Gerhard Schroeder', 'Gerry Adams', 'Gil de Ferran',\n",
              "       'Gloria Macapagal Arroyo', 'Goldie Hawn',\n",
              "       'Gonzalo Sanchez de Lozada', 'Gordon Brown', 'Grant Hackett',\n",
              "       'Gray Davis', 'Gregg Popovich', 'Guillermo Coria',\n",
              "       'Gunter Pleuger', 'Gwyneth Paltrow', 'Habib Rizieq', 'Hal Gehman',\n",
              "       'Halle Berry', 'Hamid Karzai', 'Hans Blix', 'Harrison Ford',\n",
              "       'Heidi Klum', 'Heizo Takenaka', 'Hillary Clinton', 'Hitomi Soga',\n",
              "       'Holly Hunter', 'Hosni Mubarak', 'Howard Dean', 'Hu Jintao',\n",
              "       'Hugh Grant', 'Hugo Chavez', 'Ian Thorpe', 'Igor Ivanov',\n",
              "       'JK Rowling', 'Jack Straw', 'Jackie Chan', 'Jacques Chirac',\n",
              "       'Jacques Rogge', 'Jake Gyllenhaal', 'James Blake', 'James Kelly',\n",
              "       'James Wolfensohn', 'Jan Ullrich', 'Jason Kidd', 'Javier Solana',\n",
              "       'Jay Garner', 'Jean Charest', 'Jean Chretien',\n",
              "       'Jean-David Levitte', 'Jean-Pierre Raffarin', 'Jeb Bush',\n",
              "       'Jelena Dokic', 'Jennifer Aniston', 'Jennifer Capriati',\n",
              "       'Jennifer Garner', 'Jennifer Lopez', 'Jeong Se-hyun',\n",
              "       'Jeremy Greenstock', 'Jesse Jackson', 'Jiang Zemin', 'Jim Furyk',\n",
              "       'Jimmy Carter', 'Jiri Novak', 'Joan Laporta', 'Joe Lieberman',\n",
              "       'John Abizaid', 'John Allen Muhammad', 'John Ashcroft',\n",
              "       'John Bolton', 'John Edwards', 'John Howard', 'John Kerry',\n",
              "       'John Manley', 'John McCain', 'John Negroponte', 'John Paul II',\n",
              "       'John Snow', 'John Stockton', 'John Travolta', 'Jon Gruden',\n",
              "       'Jonathan Edwards', 'Joschka Fischer', 'Jose Manuel Durao Barroso',\n",
              "       'Jose Maria Aznar', 'Jose Serra', 'Joseph Biden',\n",
              "       'Juan Carlos Ferrero', 'Juan Pablo Montoya', 'Julianne Moore',\n",
              "       'Julie Gerberding', 'Junichiro Koizumi', 'Justin Timberlake',\n",
              "       'Justine Pasek', 'Kalpana Chawla', 'Kamal Kharrazi', 'Kate Hudson',\n",
              "       'Keanu Reeves', 'Kevin Costner', 'Kevin Spacey', 'Kim Clijsters',\n",
              "       'Kim Dae-jung', 'Kim Ryong-sung', 'King Abdullah II', 'Kofi Annan',\n",
              "       'Kristanna Loken', 'Kurt Warner', 'Lance Armstrong', 'Lance Bass',\n",
              "       'Larry Brown', 'Laura Bush', 'LeBron James', 'Leonardo DiCaprio',\n",
              "       'Leonid Kuchma', 'Li Peng', 'Li Zhaoxing', 'Lindsay Davenport',\n",
              "       'Liza Minnelli', 'Lleyton Hewitt', 'Lucio Gutierrez', 'Lucy Liu',\n",
              "       'Ludivine Sagnier', 'Luis Ernesto Derbez Bautista',\n",
              "       'Luis Gonzalez Macchi', 'Luis Horna', 'Luiz Inacio Lula da Silva',\n",
              "       'Madonna', 'Mahathir Mohamad', 'Mahmoud Abbas', 'Marcelo Rios',\n",
              "       'Marco Antonio Barrera', 'Maria Shriver',\n",
              "       'Maria Soledad Alvear Valenzuela', 'Mariah Carey', 'Mark Hurlbert',\n",
              "       'Mark Philippoussis', 'Martha Stewart', 'Martin McGuinness',\n",
              "       'Martin Scorsese', 'Martina McBride', 'Matthew Perry',\n",
              "       'Megawati Sukarnoputri', 'Meryl Streep', 'Michael Bloomberg',\n",
              "       'Michael Chang', 'Michael Chiklis', 'Michael Douglas',\n",
              "       'Michael Jackson', 'Michael Phelps', 'Michael Powell',\n",
              "       'Michael Schumacher', 'Michelle Kwan', 'Michelle Yeoh',\n",
              "       'Mick Jagger', 'Mike Krzyzewski', 'Mike Martz', 'Mike Myers',\n",
              "       'Mike Weir', 'Mireya Moscoso', 'Mohamed ElBaradei',\n",
              "       'Mohammad Khatami', 'Mohammed Al-Douri', 'Monica Seles',\n",
              "       'Muhammad Ali', 'Muhammad Saeed al-Sahhaf', 'Nadia Petrova',\n",
              "       'Naji Sabri', 'Nancy Pelosi', 'Naomi Watts', 'Natalie Coughlin',\n",
              "       'Natalie Maines', 'Nestor Kirchner', 'Nia Vardalos',\n",
              "       'Nicanor Duarte Frutos', 'Nick Nolte', 'Nicole Kidman',\n",
              "       'Norah Jones', 'Norm Coleman', 'Oscar De La Hoya', 'Oswaldo Paya',\n",
              "       'Pamela Anderson', 'Paradorn Srichaphan', 'Paul Bremer',\n",
              "       'Paul Burrell', 'Paul Martin', 'Paul McCartney', 'Paul ONeill',\n",
              "       'Paul Wolfowitz', 'Paula Radcliffe', 'Pedro Almodovar',\n",
              "       'Pedro Malan', 'Pervez Musharraf', 'Pete Sampras', 'Peter Struck',\n",
              "       'Pierce Brosnan', 'Prince Charles', 'Princess Caroline',\n",
              "       'Queen Elizabeth II', 'Queen Rania', 'Rainer Schuettler',\n",
              "       'Ralf Schumacher', 'Ray Romano', 'Recep Tayyip Erdogan',\n",
              "       'Renee Zellweger', 'Ricardo Lagos', 'Ricardo Sanchez',\n",
              "       'Richard Armitage', 'Richard Gephardt', 'Richard Gere',\n",
              "       'Richard Myers', 'Richard Virenque', 'Rick Perry', 'Rob Marshall',\n",
              "       'Robert Blake', 'Robert De Niro', 'Robert Duvall',\n",
              "       'Robert Kocharian', 'Robert Mueller', 'Robert Redford',\n",
              "       'Robert Zoellick', 'Roger Federer', 'Roger Moore', 'Roh Moo-hyun',\n",
              "       'Roman Polanski', 'Romano Prodi', 'Ron Dittemore', 'Roy Moore',\n",
              "       'Rubens Barrichello', 'Rudolph Giuliani', 'Russell Simmons',\n",
              "       'Saddam Hussein', 'Salma Hayek', 'Sarah Hughes',\n",
              "       'Sarah Jessica Parker', 'Scott McClellan', 'Scott Peterson',\n",
              "       'Sean OKeefe', 'Serena Williams', 'Sergei Ivanov', 'Sergey Lavrov',\n",
              "       'Sergio Vieira De Mello', 'Sharon Stone', 'Sheryl Crow',\n",
              "       'Shimon Peres', 'Silvan Shalom', 'Silvio Berlusconi',\n",
              "       'Sophia Loren', 'Sourav Ganguly', 'Spencer Abraham', 'Steffi Graf',\n",
              "       'Steve Lavin', 'Steve Nash', 'Steven Spielberg', 'Susan Sarandon',\n",
              "       'Sylvester Stallone', 'Taha Yassin Ramadan', 'Tang Jiaxuan',\n",
              "       'Tariq Aziz', 'Thabo Mbeki', 'Thaksin Shinawatra', 'Thomas OBrien',\n",
              "       'Tiger Woods', 'Tim Henman', 'Tim Robbins', 'Tom Crean',\n",
              "       'Tom Cruise', 'Tom Daschle', 'Tom Hanks', 'Tom Harkin',\n",
              "       'Tom Ridge', 'Tommy Franks', 'Tommy Haas', 'Tommy Thompson',\n",
              "       'Tony Blair', 'Tony Stewart', 'Trent Lott', 'Tung Chee-hwa',\n",
              "       'Vaclav Havel', 'Valentino Rossi', 'Valery Giscard dEstaing',\n",
              "       'Vanessa Redgrave', 'Venus Williams', 'Vicente Fernandez',\n",
              "       'Vicente Fox', 'Victoria Clarke', 'Vincent Brooks',\n",
              "       'Vladimir Putin', 'Vojislav Kostunica', 'Walter Mondale',\n",
              "       'Wayne Ferreira', 'Wen Jiabao', 'William Donaldson',\n",
              "       'William Ford Jr', 'William Macy', 'Winona Ryder', 'Woody Allen',\n",
              "       'Xanana Gusmao', 'Xavier Malisse', 'Yao Ming', 'Yashwant Sinha',\n",
              "       'Yasser Arafat', 'Yoko Ono', 'Yoriko Kawaguchi', 'Zhu Rongji',\n",
              "       'Zinedine Zidane'], dtype='<U31')"
            ]
          },
          "metadata": {
            "tags": []
          },
          "execution_count": 80
        }
      ]
    },
    {
      "cell_type": "code",
      "metadata": {
        "colab": {
          "base_uri": "https://localhost:8080/"
        },
        "id": "k1Updj42kKqE",
        "outputId": "ec3f9fa8-aa8f-415c-fcca-f1db6962af54"
      },
      "source": [
        "len(lfw_people.images), len(lfw_people.target), len(lfw_people.target_names)"
      ],
      "execution_count": null,
      "outputs": [
        {
          "output_type": "execute_result",
          "data": {
            "text/plain": [
              "(5985, 5985, 423)"
            ]
          },
          "metadata": {
            "tags": []
          },
          "execution_count": 81
        }
      ]
    },
    {
      "cell_type": "markdown",
      "metadata": {
        "id": "Yv9Ff2ZAjtmp"
      },
      "source": [
        "## 0202 Visualizar imágenes"
      ]
    },
    {
      "cell_type": "code",
      "metadata": {
        "colab": {
          "base_uri": "https://localhost:8080/",
          "height": 286
        },
        "id": "yQJZ1UszjxY0",
        "outputId": "90d43ae6-95fc-4754-da87-88e8980d348a"
      },
      "source": [
        "# Coge un número al azar: i\n",
        "i = np.random.randint(len(lfw_people.images))\n",
        "\n",
        "# Ahora visualizamos la imagen i\n",
        "plt.imshow(lfw_people.images[i]/255)\n",
        "plt.grid(False)\n",
        "print(lfw_people.target_names[lfw_people.target[i]])"
      ],
      "execution_count": null,
      "outputs": [
        {
          "output_type": "stream",
          "text": [
            "George Robertson\n"
          ],
          "name": "stdout"
        },
        {
          "output_type": "display_data",
          "data": {
            "image/png": "[encoded data removed]",
            "text/plain": [
              "<Figure size 432x288 with 1 Axes>"
            ]
          },
          "metadata": {
            "tags": [],
            "needs_background": "light"
          }
        }
      ]
    },
    {
      "cell_type": "markdown",
      "metadata": {
        "id": "_yiw9ARhlyOg"
      },
      "source": [
        "# 03 Género\n",
        "Las imagenes no tienen el género, cómo podemos averiguarlo para enseñarselo luego a la red neuronal?"
      ]
    },
    {
      "cell_type": "markdown",
      "metadata": {
        "id": "0SBEj7-4pmcZ"
      },
      "source": [
        "## 0301 API gender-api\n",
        "Las apis nos permiten establecer diálogos entre máquinas. https://v2.namsor.com/NamSorAPIv2/ te devuelve el género de un nombre (nosotros le pasaremos un nombre, ellos nos devuelven su género en base a su base de datos).\n",
        "\n",
        "\n",
        "\n",
        "1.   Vete a https://v2.namsor.com/NamSorAPIv2/\n",
        "2.   Regístrate (con un mail y contraseña)\n",
        "3.   Vé a tu email y valídalo\n",
        "4.   Vete a https://v2.namsor.com/NamSorAPIv2/ y copia tu clave personal\n",
        "\n"
      ]
    },
    {
      "cell_type": "markdown",
      "metadata": {
        "id": "ClrCwZk74E8u"
      },
      "source": [
        "##0302 Wrapper namsor-client\n",
        "Utilizaremos una librería que facilita las cosas:"
      ]
    },
    {
      "cell_type": "code",
      "metadata": {
        "colab": {
          "base_uri": "https://localhost:8080/"
        },
        "id": "GXcv1Sx8wHup",
        "outputId": "359a6d37-1d3a-4cb6-ebc0-8faa3d2b546d"
      },
      "source": [
        "# Instalamos namsor-client para hacer requests más sencillas\n",
        "! pip install namsor-client"
      ],
      "execution_count": null,
      "outputs": [
        {
          "output_type": "stream",
          "text": [
            "Requirement already satisfied: namsor-client in /usr/local/lib/python3.7/dist-packages (1.0.3)\n",
            "Requirement already satisfied: requests in /usr/local/lib/python3.7/dist-packages (from namsor-client) (2.23.0)\n",
            "Requirement already satisfied: XlsxWriter in /usr/local/lib/python3.7/dist-packages (from namsor-client) (1.4.2)\n",
            "Requirement already satisfied: certifi>=2017.4.17 in /usr/local/lib/python3.7/dist-packages (from requests->namsor-client) (2020.12.5)\n",
            "Requirement already satisfied: urllib3!=1.25.0,!=1.25.1,<1.26,>=1.21.1 in /usr/local/lib/python3.7/dist-packages (from requests->namsor-client) (1.24.3)\n",
            "Requirement already satisfied: chardet<4,>=3.0.2 in /usr/local/lib/python3.7/dist-packages (from requests->namsor-client) (3.0.4)\n",
            "Requirement already satisfied: idna<3,>=2.5 in /usr/local/lib/python3.7/dist-packages (from requests->namsor-client) (2.10)\n"
          ],
          "name": "stdout"
        }
      ]
    },
    {
      "cell_type": "code",
      "metadata": {
        "id": "-P37CMzsxiF0"
      },
      "source": [
        "# Tu clave personal\n",
        "clave = \"880c0215ff6424cc59c4199c29a845e6\""
      ],
      "execution_count": null,
      "outputs": []
    },
    {
      "cell_type": "code",
      "metadata": {
        "colab": {
          "base_uri": "https://localhost:8080/",
          "height": 35
        },
        "id": "VC2mV-wuwKLI",
        "outputId": "be90a463-eb8a-4d98-9b9a-05bfa5fadbd6"
      },
      "source": [
        "# Importamos la función cliente de la libería\n",
        "from namsorclient import NamsorClient\n",
        "\n",
        "# Create an instance of NamsorClient and pass in your API key as an argument.\n",
        "client = NamsorClient(clave)\n",
        "\n",
        "# Probamos un nombre y apellidos\n",
        "response = client.gender(\"Javi\", last_name='Blanco')\n",
        "response.likely_gender"
      ],
      "execution_count": null,
      "outputs": [
        {
          "output_type": "execute_result",
          "data": {
            "application/vnd.google.colaboratory.intrinsic+json": {
              "type": "string"
            },
            "text/plain": [
              "'male'"
            ]
          },
          "metadata": {
            "tags": []
          },
          "execution_count": 90
        }
      ]
    },
    {
      "cell_type": "code",
      "metadata": {
        "colab": {
          "base_uri": "https://localhost:8080/",
          "height": 35
        },
        "id": "3vSWuk3JwXPJ",
        "outputId": "333a61e1-6fbd-49d5-d4d6-ff8c0a8876b2"
      },
      "source": [
        "# Probamos otros\n",
        "response = client.gender(\"Pepa\", last_name='Blanco')\n",
        "response.likely_gender"
      ],
      "execution_count": null,
      "outputs": [
        {
          "output_type": "execute_result",
          "data": {
            "application/vnd.google.colaboratory.intrinsic+json": {
              "type": "string"
            },
            "text/plain": [
              "'female'"
            ]
          },
          "metadata": {
            "tags": []
          },
          "execution_count": 91
        }
      ]
    },
    {
      "cell_type": "markdown",
      "metadata": {
        "id": "mZDjd2HesEao"
      },
      "source": [
        "## 0303 Función nombre\n",
        "Resumimos el código en una función:"
      ]
    },
    {
      "cell_type": "code",
      "metadata": {
        "id": "08lRqTxCrlbs"
      },
      "source": [
        "def genero_a_partir_de_nombre(nombre, apellido):\n",
        "  response = client.gender(nombre, last_name=apellido)\n",
        "  return response.likely_gender"
      ],
      "execution_count": null,
      "outputs": []
    },
    {
      "cell_type": "code",
      "metadata": {
        "colab": {
          "base_uri": "https://localhost:8080/",
          "height": 35
        },
        "id": "6L0LL1Gar4U3",
        "outputId": "86c4a345-f6e4-4385-c55f-e495ca0f4d8b"
      },
      "source": [
        "genero_a_partir_de_nombre('Javi','Blanco')"
      ],
      "execution_count": null,
      "outputs": [
        {
          "output_type": "execute_result",
          "data": {
            "application/vnd.google.colaboratory.intrinsic+json": {
              "type": "string"
            },
            "text/plain": [
              "'male'"
            ]
          },
          "metadata": {
            "tags": []
          },
          "execution_count": 93
        }
      ]
    },
    {
      "cell_type": "code",
      "metadata": {
        "colab": {
          "base_uri": "https://localhost:8080/",
          "height": 35
        },
        "id": "Z1Y91cOasNWL",
        "outputId": "dad5eac9-2018-42b7-dbfb-9cf997b2d8db"
      },
      "source": [
        "genero_a_partir_de_nombre('Maria', 'Blanco')"
      ],
      "execution_count": null,
      "outputs": [
        {
          "output_type": "execute_result",
          "data": {
            "application/vnd.google.colaboratory.intrinsic+json": {
              "type": "string"
            },
            "text/plain": [
              "'female'"
            ]
          },
          "metadata": {
            "tags": []
          },
          "execution_count": 94
        }
      ]
    },
    {
      "cell_type": "markdown",
      "metadata": {
        "id": "J_pMDsOMsPSO"
      },
      "source": [
        "## 0304 Calcular género de los nombre\n",
        "Vamos a utilizar la función anterior para crear un vector que nos diaga si cada imagen es hombre/mujer."
      ]
    },
    {
      "cell_type": "code",
      "metadata": {
        "colab": {
          "base_uri": "https://localhost:8080/"
        },
        "id": "1o5AX7fWsiqe",
        "outputId": "c6d4fb39-7f07-43fb-ec0e-0a899bcd7ffa"
      },
      "source": [
        "# Buscamos nombre de pila\n",
        "dic_genero = {}\n",
        "\n",
        "for i, nombre in enumerate(lfw_people.target_names):\n",
        "  nombre_pila = nombre.split(\" \")[0]\n",
        "  apellido = nombre.split(\" \")[-1]\n",
        "  genero = genero_a_partir_de_nombre(nombre_pila, apellido)\n",
        "  print(i, nombre_pila, apellido, genero)\n",
        "  dic_genero[nombre] = genero"
      ],
      "execution_count": null,
      "outputs": [
        {
          "output_type": "stream",
          "text": [
            "0 Abdullah Gul male\n",
            "1 Adrien Brody male\n",
            "2 Ahmed Chalabi male\n",
            "3 Ai Sugiyama female\n",
            "4 Al Gore male\n",
            "5 Al Sharpton male\n",
            "6 Alan Greenspan male\n",
            "7 Alastair Campbell male\n",
            "8 Albert Costa male\n",
            "9 Alejandro Toledo male\n",
            "10 Ali Naimi male\n",
            "11 Allyson Felix female\n",
            "12 Alvaro Uribe male\n",
            "13 Amelia Vega female\n",
            "14 Amelie Mauresmo female\n",
            "15 Ana Guevara female\n",
            "16 Ana Palacio female\n",
            "17 Andre Agassi male\n",
            "18 Andy Roddick male\n",
            "19 Angela Bassett female\n",
            "20 Angela Merkel female\n",
            "21 Angelina Jolie female\n",
            "22 Ann Veneman female\n",
            "23 Anna Kournikova female\n",
            "24 Antonio Banderas male\n",
            "25 Antonio Palocci male\n",
            "26 Ari Fleischer male\n",
            "27 Ariel Sharon male\n",
            "28 Arminio Fraga male\n",
            "29 Arnold Schwarzenegger male\n",
            "30 Arnoldo Aleman male\n",
            "31 Ashanti Ashanti female\n",
            "32 Atal Vajpayee male\n",
            "33 Ben Affleck male\n",
            "34 Benazir Bhutto female\n",
            "35 Benjamin Netanyahu male\n",
            "36 Bernard Law male\n",
            "37 Bertie Ahern female\n",
            "38 Bill Clinton male\n",
            "39 Bill Frist male\n",
            "40 Bill Gates male\n",
            "41 Bill Graham male\n",
            "42 Bill McBride male\n",
            "43 Bill Simon male\n",
            "44 Billy Crystal male\n",
            "45 Binyamin Ben-Eliezer male\n",
            "46 Bob Graham male\n",
            "47 Bob Hope male\n",
            "48 Bob Stoops male\n",
            "49 Boris Becker male\n",
            "50 Brad Johnson male\n",
            "51 Britney Spears female\n",
            "52 Bulent Ecevit male\n",
            "53 Calista Flockhart female\n",
            "54 Cameron Diaz male\n",
            "55 Carla Ponte female\n",
            "56 Carlos Menem male\n",
            "57 Carlos Moya male\n",
            "58 Carmen Electra female\n",
            "59 Carrie-Anne Moss female\n",
            "60 Catherine Deneuve female\n",
            "61 Catherine Zeta-Jones female\n",
            "62 Celine Dion female\n",
            "63 Cesar Gaviria male\n",
            "64 Chanda Rubin female\n",
            "65 Charles Moose male\n",
            "66 Charles Taylor male\n",
            "67 Charlton Heston male\n",
            "68 Chen Shui-bian male\n",
            "69 Choi Sung-hong female\n",
            "70 Christine Baumgartner female\n",
            "71 Christine Whitman female\n",
            "72 Ciro Gomes male\n",
            "73 Clara Harris female\n",
            "74 Claudia Pechstein female\n",
            "75 Clay Aiken male\n",
            "76 Clint Eastwood male\n",
            "77 Colin Farrell male\n",
            "78 Colin Montgomerie male\n",
            "79 Colin Powell male\n",
            "80 Condoleezza Rice female\n",
            "81 Costas Simitis male\n",
            "82 Cruz Bustamante female\n",
            "83 David Anderson male\n",
            "84 David Beckham male\n",
            "85 David Heymann male\n",
            "86 David Nalbandian male\n",
            "87 David Trimble male\n",
            "88 David Wells male\n",
            "89 Dennis Hastert male\n",
            "90 Dennis Kucinich male\n",
            "91 Denzel Washington male\n",
            "92 Diana Krall female\n",
            "93 Dick Cheney male\n",
            "94 Dominique Villepin female\n",
            "95 Donald Rumsfeld male\n",
            "96 Edmund Stoiber male\n",
            "97 Eduard Shevardnadze male\n",
            "98 Eduardo Duhalde male\n",
            "99 Edward Lu male\n",
            "100 Elizabeth Hurley female\n",
            "101 Elizabeth Smart female\n",
            "102 Elsa Zylberstein female\n",
            "103 Elton John male\n",
            "104 Emanuel Ginobili male\n",
            "105 Emma Watson female\n",
            "106 Enrique Bolanos male\n",
            "107 Erika Harold female\n",
            "108 Fernando Gonzalez male\n",
            "109 Fernando Cardoso male\n",
            "110 Fidel Castro male\n",
            "111 Frank Solich male\n",
            "112 Fujio Cho male\n",
            "113 Gene Robinson male\n",
            "114 Geoff Hoon male\n",
            "115 George Clooney male\n",
            "116 George Bush male\n",
            "117 George Lopez male\n",
            "118 George Pataki male\n",
            "119 George Robertson male\n",
            "120 George Bush male\n",
            "121 Gerhard Schroeder male\n",
            "122 Gerry Adams male\n",
            "123 Gil Ferran male\n",
            "124 Gloria Arroyo female\n",
            "125 Goldie Hawn female\n",
            "126 Gonzalo Lozada male\n",
            "127 Gordon Brown male\n",
            "128 Grant Hackett male\n",
            "129 Gray Davis male\n",
            "130 Gregg Popovich male\n",
            "131 Guillermo Coria male\n",
            "132 Gunter Pleuger male\n",
            "133 Gwyneth Paltrow female\n",
            "134 Habib Rizieq male\n",
            "135 Hal Gehman male\n",
            "136 Halle Berry female\n",
            "137 Hamid Karzai male\n",
            "138 Hans Blix male\n",
            "139 Harrison Ford male\n",
            "140 Heidi Klum female\n",
            "141 Heizo Takenaka male\n",
            "142 Hillary Clinton female\n",
            "143 Hitomi Soga female\n",
            "144 Holly Hunter female\n",
            "145 Hosni Mubarak male\n",
            "146 Howard Dean male\n",
            "147 Hu Jintao male\n",
            "148 Hugh Grant male\n",
            "149 Hugo Chavez male\n",
            "150 Ian Thorpe male\n",
            "151 Igor Ivanov male\n",
            "152 JK Rowling male\n",
            "153 Jack Straw male\n",
            "154 Jackie Chan female\n",
            "155 Jacques Chirac male\n",
            "156 Jacques Rogge male\n",
            "157 Jake Gyllenhaal male\n",
            "158 James Blake male\n",
            "159 James Kelly male\n",
            "160 James Wolfensohn male\n",
            "161 Jan Ullrich male\n",
            "162 Jason Kidd male\n",
            "163 Javier Solana male\n",
            "164 Jay Garner male\n",
            "165 Jean Charest male\n",
            "166 Jean Chretien male\n",
            "167 Jean-David Levitte male\n",
            "168 Jean-Pierre Raffarin male\n",
            "169 Jeb Bush male\n",
            "170 Jelena Dokic female\n",
            "171 Jennifer Aniston female\n",
            "172 Jennifer Capriati female\n",
            "173 Jennifer Garner female\n",
            "174 Jennifer Lopez female\n",
            "175 Jeong Se-hyun male\n",
            "176 Jeremy Greenstock male\n",
            "177 Jesse Jackson male\n",
            "178 Jiang Zemin male\n",
            "179 Jim Furyk male\n",
            "180 Jimmy Carter male\n",
            "181 Jiri Novak male\n",
            "182 Joan Laporta female\n",
            "183 Joe Lieberman male\n",
            "184 John Abizaid male\n",
            "185 John Muhammad male\n",
            "186 John Ashcroft male\n",
            "187 John Bolton male\n",
            "188 John Edwards male\n",
            "189 John Howard male\n",
            "190 John Kerry male\n",
            "191 John Manley male\n",
            "192 John McCain male\n",
            "193 John Negroponte male\n",
            "194 John II male\n",
            "195 John Snow male\n",
            "196 John Stockton male\n",
            "197 John Travolta male\n",
            "198 Jon Gruden male\n",
            "199 Jonathan Edwards male\n",
            "200 Joschka Fischer male\n",
            "201 Jose Barroso male\n",
            "202 Jose Aznar male\n",
            "203 Jose Serra male\n",
            "204 Joseph Biden male\n",
            "205 Juan Ferrero male\n",
            "206 Juan Montoya male\n",
            "207 Julianne Moore female\n",
            "208 Julie Gerberding female\n",
            "209 Junichiro Koizumi male\n",
            "210 Justin Timberlake male\n",
            "211 Justine Pasek female\n",
            "212 Kalpana Chawla female\n",
            "213 Kamal Kharrazi male\n",
            "214 Kate Hudson female\n",
            "215 Keanu Reeves male\n",
            "216 Kevin Costner male\n",
            "217 Kevin Spacey male\n",
            "218 Kim Clijsters female\n",
            "219 Kim Dae-jung female\n",
            "220 Kim Ryong-sung female\n",
            "221 King II male\n",
            "222 Kofi Annan male\n",
            "223 Kristanna Loken female\n",
            "224 Kurt Warner male\n",
            "225 Lance Armstrong male\n",
            "226 Lance Bass male\n",
            "227 Larry Brown male\n",
            "228 Laura Bush female\n",
            "229 LeBron James male\n",
            "230 Leonardo DiCaprio male\n",
            "231 Leonid Kuchma male\n",
            "232 Li Peng female\n",
            "233 Li Zhaoxing female\n",
            "234 Lindsay Davenport female\n",
            "235 Liza Minnelli female\n",
            "236 Lleyton Hewitt male\n",
            "237 Lucio Gutierrez male\n",
            "238 Lucy Liu female\n",
            "239 Ludivine Sagnier female\n",
            "240 Luis Bautista male\n",
            "241 Luis Macchi male\n",
            "242 Luis Horna male\n",
            "243 Luiz Silva male\n",
            "244 Madonna Madonna female\n",
            "245 Mahathir Mohamad male\n",
            "246 Mahmoud Abbas male\n",
            "247 Marcelo Rios male\n",
            "248 Marco Barrera male\n",
            "249 Maria Shriver female\n",
            "250 Maria Valenzuela female\n",
            "251 Mariah Carey female\n",
            "252 Mark Hurlbert male\n",
            "253 Mark Philippoussis male\n",
            "254 Martha Stewart female\n",
            "255 Martin McGuinness male\n",
            "256 Martin Scorsese male\n",
            "257 Martina McBride female\n",
            "258 Matthew Perry male\n",
            "259 Megawati Sukarnoputri female\n",
            "260 Meryl Streep female\n",
            "261 Michael Bloomberg male\n",
            "262 Michael Chang male\n",
            "263 Michael Chiklis male\n",
            "264 Michael Douglas male\n",
            "265 Michael Jackson male\n",
            "266 Michael Phelps male\n",
            "267 Michael Powell male\n",
            "268 Michael Schumacher male\n",
            "269 Michelle Kwan female\n",
            "270 Michelle Yeoh female\n",
            "271 Mick Jagger male\n",
            "272 Mike Krzyzewski male\n",
            "273 Mike Martz male\n",
            "274 Mike Myers male\n",
            "275 Mike Weir male\n",
            "276 Mireya Moscoso female\n",
            "277 Mohamed ElBaradei male\n",
            "278 Mohammad Khatami male\n",
            "279 Mohammed Al-Douri male\n",
            "280 Monica Seles female\n",
            "281 Muhammad Ali male\n",
            "282 Muhammad al-Sahhaf male\n",
            "283 Nadia Petrova female\n",
            "284 Naji Sabri male\n",
            "285 Nancy Pelosi female\n",
            "286 Naomi Watts female\n",
            "287 Natalie Coughlin female\n",
            "288 Natalie Maines female\n",
            "289 Nestor Kirchner male\n",
            "290 Nia Vardalos female\n",
            "291 Nicanor Frutos male\n",
            "292 Nick Nolte male\n",
            "293 Nicole Kidman female\n",
            "294 Norah Jones female\n",
            "295 Norm Coleman male\n",
            "296 Oscar Hoya male\n",
            "297 Oswaldo Paya male\n",
            "298 Pamela Anderson female\n",
            "299 Paradorn Srichaphan male\n",
            "300 Paul Bremer male\n",
            "301 Paul Burrell male\n",
            "302 Paul Martin male\n",
            "303 Paul McCartney male\n",
            "304 Paul ONeill male\n",
            "305 Paul Wolfowitz male\n",
            "306 Paula Radcliffe female\n",
            "307 Pedro Almodovar male\n",
            "308 Pedro Malan male\n",
            "309 Pervez Musharraf male\n",
            "310 Pete Sampras male\n",
            "311 Peter Struck male\n",
            "312 Pierce Brosnan male\n",
            "313 Prince Charles male\n",
            "314 Princess Caroline female\n",
            "315 Queen II female\n",
            "316 Queen Rania female\n",
            "317 Rainer Schuettler male\n",
            "318 Ralf Schumacher male\n",
            "319 Ray Romano male\n",
            "320 Recep Erdogan male\n",
            "321 Renee Zellweger female\n",
            "322 Ricardo Lagos male\n",
            "323 Ricardo Sanchez male\n",
            "324 Richard Armitage male\n",
            "325 Richard Gephardt male\n",
            "326 Richard Gere male\n",
            "327 Richard Myers male\n",
            "328 Richard Virenque male\n",
            "329 Rick Perry male\n",
            "330 Rob Marshall male\n",
            "331 Robert Blake male\n",
            "332 Robert Niro male\n",
            "333 Robert Duvall male\n",
            "334 Robert Kocharian male\n",
            "335 Robert Mueller male\n",
            "336 Robert Redford male\n",
            "337 Robert Zoellick male\n",
            "338 Roger Federer male\n",
            "339 Roger Moore male\n",
            "340 Roh Moo-hyun female\n",
            "341 Roman Polanski male\n",
            "342 Romano Prodi male\n",
            "343 Ron Dittemore male\n",
            "344 Roy Moore male\n",
            "345 Rubens Barrichello male\n",
            "346 Rudolph Giuliani male\n",
            "347 Russell Simmons male\n",
            "348 Saddam Hussein male\n",
            "349 Salma Hayek female\n",
            "350 Sarah Hughes female\n",
            "351 Sarah Parker female\n",
            "352 Scott McClellan male\n",
            "353 Scott Peterson male\n",
            "354 Sean OKeefe male\n",
            "355 Serena Williams female\n",
            "356 Sergei Ivanov male\n",
            "357 Sergey Lavrov male\n",
            "358 Sergio Mello male\n",
            "359 Sharon Stone female\n",
            "360 Sheryl Crow female\n",
            "361 Shimon Peres male\n",
            "362 Silvan Shalom male\n",
            "363 Silvio Berlusconi male\n",
            "364 Sophia Loren female\n",
            "365 Sourav Ganguly male\n",
            "366 Spencer Abraham male\n",
            "367 Steffi Graf female\n",
            "368 Steve Lavin male\n",
            "369 Steve Nash male\n",
            "370 Steven Spielberg male\n",
            "371 Susan Sarandon female\n",
            "372 Sylvester Stallone male\n",
            "373 Taha Ramadan male\n",
            "374 Tang Jiaxuan female\n",
            "375 Tariq Aziz male\n",
            "376 Thabo Mbeki male\n",
            "377 Thaksin Shinawatra male\n",
            "378 Thomas OBrien male\n",
            "379 Tiger Woods male\n",
            "380 Tim Henman male\n",
            "381 Tim Robbins male\n",
            "382 Tom Crean male\n",
            "383 Tom Cruise male\n",
            "384 Tom Daschle male\n",
            "385 Tom Hanks male\n",
            "386 Tom Harkin male\n",
            "387 Tom Ridge male\n",
            "388 Tommy Franks male\n",
            "389 Tommy Haas male\n",
            "390 Tommy Thompson male\n",
            "391 Tony Blair male\n",
            "392 Tony Stewart male\n",
            "393 Trent Lott male\n",
            "394 Tung Chee-hwa male\n",
            "395 Vaclav Havel male\n",
            "396 Valentino Rossi male\n",
            "397 Valery dEstaing female\n",
            "398 Vanessa Redgrave female\n",
            "399 Venus Williams female\n",
            "400 Vicente Fernandez male\n",
            "401 Vicente Fox male\n",
            "402 Victoria Clarke female\n",
            "403 Vincent Brooks male\n",
            "404 Vladimir Putin male\n",
            "405 Vojislav Kostunica male\n",
            "406 Walter Mondale male\n",
            "407 Wayne Ferreira male\n",
            "408 Wen Jiabao male\n",
            "409 William Donaldson male\n",
            "410 William Jr male\n",
            "411 William Macy male\n",
            "412 Winona Ryder female\n",
            "413 Woody Allen male\n",
            "414 Xanana Gusmao female\n",
            "415 Xavier Malisse male\n",
            "416 Yao Ming male\n",
            "417 Yashwant Sinha male\n",
            "418 Yasser Arafat male\n",
            "419 Yoko Ono female\n",
            "420 Yoriko Kawaguchi female\n",
            "421 Zhu Rongji male\n",
            "422 Zinedine Zidane male\n"
          ],
          "name": "stdout"
        }
      ]
    },
    {
      "cell_type": "markdown",
      "metadata": {
        "id": "DgJAUyj-1uqK"
      },
      "source": [
        "## 0305 X e y provisionales\n",
        "Calculamos la matriz X y el vector y"
      ]
    },
    {
      "cell_type": "code",
      "metadata": {
        "colab": {
          "base_uri": "https://localhost:8080/"
        },
        "id": "mYRPPaV3siuU",
        "outputId": "64cc3a87-0815-4740-aaa8-ad78821e2a01"
      },
      "source": [
        "# Nuestra matriz X contiene los datos de las imágenes\n",
        "X = lfw_people.images\n",
        "\n",
        "# Dividimos entre 255 para normalizar\n",
        "X = X/255\n",
        "X.shape"
      ],
      "execution_count": null,
      "outputs": [
        {
          "output_type": "execute_result",
          "data": {
            "text/plain": [
              "(5985, 154, 154)"
            ]
          },
          "metadata": {
            "tags": []
          },
          "execution_count": 100
        }
      ]
    },
    {
      "cell_type": "code",
      "metadata": {
        "colab": {
          "base_uri": "https://localhost:8080/"
        },
        "id": "iJmYfQmTczZg",
        "outputId": "33564491-03d8-404f-c057-58f15505cbf7"
      },
      "source": [
        "X[0]"
      ],
      "execution_count": null,
      "outputs": [
        {
          "output_type": "execute_result",
          "data": {
            "text/plain": [
              "array([[0.10196079, 0.12026144, 0.13202615, ..., 0.06143791, 0.06797386,\n",
              "        0.06797386],\n",
              "       [0.09411765, 0.11633987, 0.12810458, ..., 0.05228758, 0.06013072,\n",
              "        0.06405229],\n",
              "       [0.08496732, 0.10196079, 0.11633987, ..., 0.03660131, 0.05228758,\n",
              "        0.06013072],\n",
              "       ...,\n",
              "       [0.33071896, 0.31895426, 0.30718955, ..., 0.1254902 , 0.08888888,\n",
              "        0.06928104],\n",
              "       [0.33464053, 0.31111112, 0.28627452, ..., 0.12941177, 0.10588235,\n",
              "        0.08104575],\n",
              "       [0.3385621 , 0.3150327 , 0.28627452, ..., 0.14248365, 0.10980392,\n",
              "        0.08496732]], dtype=float32)"
            ]
          },
          "metadata": {
            "tags": []
          },
          "execution_count": 101
        }
      ]
    },
    {
      "cell_type": "code",
      "metadata": {
        "colab": {
          "base_uri": "https://localhost:8080/"
        },
        "id": "fanTJ-YkZUb5",
        "outputId": "48c2085f-0c11-467d-9a7f-c5d0dad6cf45"
      },
      "source": [
        "lista_generos = []\n",
        "for i in range(len(X)):\n",
        "  nombre_completo = lfw_people.target_names[lfw_people.target[i]]\n",
        "  lista_generos.append(dic_genero[nombre_completo])\n",
        "\n",
        "lista_generos[:5]"
      ],
      "execution_count": null,
      "outputs": [
        {
          "output_type": "execute_result",
          "data": {
            "text/plain": [
              "['male', 'male', 'male', 'male', 'male']"
            ]
          },
          "metadata": {
            "tags": []
          },
          "execution_count": 102
        }
      ]
    },
    {
      "cell_type": "code",
      "metadata": {
        "id": "qGrwhGyaj0-a",
        "colab": {
          "base_uri": "https://localhost:8080/"
        },
        "outputId": "da08aa8c-6622-4e40-ec0b-4fd33ad2d463"
      },
      "source": [
        "y = (np.array(lista_generos) == 'male').astype(int)\n",
        "y"
      ],
      "execution_count": null,
      "outputs": [
        {
          "output_type": "execute_result",
          "data": {
            "text/plain": [
              "array([1, 1, 1, ..., 1, 1, 1])"
            ]
          },
          "metadata": {
            "tags": []
          },
          "execution_count": 103
        }
      ]
    },
    {
      "cell_type": "code",
      "metadata": {
        "id": "tNt3nk6HJO4R",
        "colab": {
          "base_uri": "https://localhost:8080/"
        },
        "outputId": "3d9cc592-e54d-4ca9-edf6-cc95242a941a"
      },
      "source": [
        "y.mean(), len(y)"
      ],
      "execution_count": null,
      "outputs": [
        {
          "output_type": "execute_result",
          "data": {
            "text/plain": [
              "(0.8030075187969925, 5985)"
            ]
          },
          "metadata": {
            "tags": []
          },
          "execution_count": 147
        }
      ]
    },
    {
      "cell_type": "markdown",
      "metadata": {
        "id": "VYI3eQymMWDH"
      },
      "source": [
        "## 0306 Matriz a vector\n",
        "Convertimos la matriz de la imagen en un vector"
      ]
    },
    {
      "cell_type": "code",
      "metadata": {
        "id": "8FZGlYSmMdSz",
        "colab": {
          "base_uri": "https://localhost:8080/",
          "height": 204
        },
        "outputId": "511391f4-c6d5-46d9-d6c3-9eef25c88f38"
      },
      "source": [
        "X_flat = np.zeros((len(X), 154*154))\n",
        "display(X_flat.shape)\n",
        "\n",
        "for i in range(len(X)):\n",
        "  X_flat[i,:] = np.ravel(X[i])\n",
        "\n",
        "X_flat[:5]"
      ],
      "execution_count": null,
      "outputs": [
        {
          "output_type": "display_data",
          "data": {
            "text/plain": [
              "(5985, 23716)"
            ]
          },
          "metadata": {
            "tags": []
          }
        },
        {
          "output_type": "execute_result",
          "data": {
            "text/plain": [
              "array([[0.10196079, 0.12026144, 0.13202615, ..., 0.14248365, 0.10980392,\n",
              "        0.08496732],\n",
              "       [0.28104573, 0.24183007, 0.20915033, ..., 0.41437906, 0.4130719 ,\n",
              "        0.4013072 ],\n",
              "       [0.09542484, 0.09934641, 0.09934641, ..., 0.11633987, 0.11633987,\n",
              "        0.11372549],\n",
              "       [0.57385617, 0.5581699 , 0.55032676, ..., 0.58039218, 0.58039218,\n",
              "        0.58039218],\n",
              "       [0.19346404, 0.18954247, 0.18954247, ..., 0.05620915, 0.05228758,\n",
              "        0.05228758]])"
            ]
          },
          "metadata": {
            "tags": []
          },
          "execution_count": 138
        }
      ]
    },
    {
      "cell_type": "code",
      "metadata": {
        "id": "AoUvCKn5OXmm",
        "colab": {
          "base_uri": "https://localhost:8080/",
          "height": 270
        },
        "outputId": "455b2db5-5c55-4e36-def0-8c4794507912"
      },
      "source": [
        "# Lo pasamos a un df para visualizarlo más fácil\n",
        "df = pd.DataFrame(X_flat)\n",
        "display(df.shape)\n",
        "\n",
        "# Ponemos nombre a las columnas...\n",
        "df.columns = ['Pixel_'+str(i) for i in range(df.shape[1])]\n",
        "\n",
        "# Y a las filas\n",
        "df.index = ['Imagen_'+str(i) for i in range(df.shape[0])]\n",
        "\n",
        "# Añadimos el target\n",
        "df['Target'] = y\n",
        "\n",
        "# Visualizamos\n",
        "df.head()"
      ],
      "execution_count": null,
      "outputs": [
        {
          "output_type": "display_data",
          "data": {
            "text/plain": [
              "(5985, 23716)"
            ]
          },
          "metadata": {
            "tags": []
          }
        },
        {
          "output_type": "execute_result",
          "data": {
            "text/html": [
              "<div>\n",
              "<style scoped>\n",
              "    .dataframe tbody tr th:only-of-type {\n",
              "        vertical-align: middle;\n",
              "    }\n",
              "\n",
              "    .dataframe tbody tr th {\n",
              "        vertical-align: top;\n",
              "    }\n",
              "\n",
              "    .dataframe thead th {\n",
              "        text-align: right;\n",
              "    }\n",
              "</style>\n",
              "<table border=\"1\" class=\"dataframe\">\n",
              "  <thead>\n",
              "    <tr style=\"text-align: right;\">\n",
              "      <th></th>\n",
              "      <th>Pixel_0</th>\n",
              "      <th>Pixel_1</th>\n",
              "      <th>Pixel_2</th>\n",
              "      <th>Pixel_3</th>\n",
              "      <th>Pixel_4</th>\n",
              "      <th>Pixel_5</th>\n",
              "      <th>Pixel_6</th>\n",
              "      <th>Pixel_7</th>\n",
              "      <th>Pixel_8</th>\n",
              "      <th>Pixel_9</th>\n",
              "      <th>Pixel_10</th>\n",
              "      <th>Pixel_11</th>\n",
              "      <th>Pixel_12</th>\n",
              "      <th>Pixel_13</th>\n",
              "      <th>Pixel_14</th>\n",
              "      <th>Pixel_15</th>\n",
              "      <th>Pixel_16</th>\n",
              "      <th>Pixel_17</th>\n",
              "      <th>Pixel_18</th>\n",
              "      <th>Pixel_19</th>\n",
              "      <th>Pixel_20</th>\n",
              "      <th>Pixel_21</th>\n",
              "      <th>Pixel_22</th>\n",
              "      <th>Pixel_23</th>\n",
              "      <th>Pixel_24</th>\n",
              "      <th>Pixel_25</th>\n",
              "      <th>Pixel_26</th>\n",
              "      <th>Pixel_27</th>\n",
              "      <th>Pixel_28</th>\n",
              "      <th>Pixel_29</th>\n",
              "      <th>Pixel_30</th>\n",
              "      <th>Pixel_31</th>\n",
              "      <th>Pixel_32</th>\n",
              "      <th>Pixel_33</th>\n",
              "      <th>Pixel_34</th>\n",
              "      <th>Pixel_35</th>\n",
              "      <th>Pixel_36</th>\n",
              "      <th>Pixel_37</th>\n",
              "      <th>Pixel_38</th>\n",
              "      <th>Pixel_39</th>\n",
              "      <th>...</th>\n",
              "      <th>Pixel_23677</th>\n",
              "      <th>Pixel_23678</th>\n",
              "      <th>Pixel_23679</th>\n",
              "      <th>Pixel_23680</th>\n",
              "      <th>Pixel_23681</th>\n",
              "      <th>Pixel_23682</th>\n",
              "      <th>Pixel_23683</th>\n",
              "      <th>Pixel_23684</th>\n",
              "      <th>Pixel_23685</th>\n",
              "      <th>Pixel_23686</th>\n",
              "      <th>Pixel_23687</th>\n",
              "      <th>Pixel_23688</th>\n",
              "      <th>Pixel_23689</th>\n",
              "      <th>Pixel_23690</th>\n",
              "      <th>Pixel_23691</th>\n",
              "      <th>Pixel_23692</th>\n",
              "      <th>Pixel_23693</th>\n",
              "      <th>Pixel_23694</th>\n",
              "      <th>Pixel_23695</th>\n",
              "      <th>Pixel_23696</th>\n",
              "      <th>Pixel_23697</th>\n",
              "      <th>Pixel_23698</th>\n",
              "      <th>Pixel_23699</th>\n",
              "      <th>Pixel_23700</th>\n",
              "      <th>Pixel_23701</th>\n",
              "      <th>Pixel_23702</th>\n",
              "      <th>Pixel_23703</th>\n",
              "      <th>Pixel_23704</th>\n",
              "      <th>Pixel_23705</th>\n",
              "      <th>Pixel_23706</th>\n",
              "      <th>Pixel_23707</th>\n",
              "      <th>Pixel_23708</th>\n",
              "      <th>Pixel_23709</th>\n",
              "      <th>Pixel_23710</th>\n",
              "      <th>Pixel_23711</th>\n",
              "      <th>Pixel_23712</th>\n",
              "      <th>Pixel_23713</th>\n",
              "      <th>Pixel_23714</th>\n",
              "      <th>Pixel_23715</th>\n",
              "      <th>Target</th>\n",
              "    </tr>\n",
              "  </thead>\n",
              "  <tbody>\n",
              "    <tr>\n",
              "      <th>Imagen_0</th>\n",
              "      <td>0.101961</td>\n",
              "      <td>0.120261</td>\n",
              "      <td>0.132026</td>\n",
              "      <td>0.132026</td>\n",
              "      <td>0.146405</td>\n",
              "      <td>0.175163</td>\n",
              "      <td>0.216993</td>\n",
              "      <td>0.245752</td>\n",
              "      <td>0.295425</td>\n",
              "      <td>0.307190</td>\n",
              "      <td>0.295425</td>\n",
              "      <td>0.283660</td>\n",
              "      <td>0.299346</td>\n",
              "      <td>0.307190</td>\n",
              "      <td>0.305882</td>\n",
              "      <td>0.309804</td>\n",
              "      <td>0.300654</td>\n",
              "      <td>0.296732</td>\n",
              "      <td>0.304575</td>\n",
              "      <td>0.287582</td>\n",
              "      <td>0.281046</td>\n",
              "      <td>0.240523</td>\n",
              "      <td>0.216993</td>\n",
              "      <td>0.194771</td>\n",
              "      <td>0.198693</td>\n",
              "      <td>0.190850</td>\n",
              "      <td>0.194771</td>\n",
              "      <td>0.210458</td>\n",
              "      <td>0.230065</td>\n",
              "      <td>0.233987</td>\n",
              "      <td>0.244444</td>\n",
              "      <td>0.256209</td>\n",
              "      <td>0.267974</td>\n",
              "      <td>0.264052</td>\n",
              "      <td>0.252288</td>\n",
              "      <td>0.232680</td>\n",
              "      <td>0.209150</td>\n",
              "      <td>0.193464</td>\n",
              "      <td>0.189542</td>\n",
              "      <td>0.197386</td>\n",
              "      <td>...</td>\n",
              "      <td>0.060131</td>\n",
              "      <td>0.052288</td>\n",
              "      <td>0.048366</td>\n",
              "      <td>0.048366</td>\n",
              "      <td>0.045752</td>\n",
              "      <td>0.041830</td>\n",
              "      <td>0.043137</td>\n",
              "      <td>0.043137</td>\n",
              "      <td>0.043137</td>\n",
              "      <td>0.040523</td>\n",
              "      <td>0.036601</td>\n",
              "      <td>0.036601</td>\n",
              "      <td>0.036601</td>\n",
              "      <td>0.036601</td>\n",
              "      <td>0.044444</td>\n",
              "      <td>0.052288</td>\n",
              "      <td>0.056209</td>\n",
              "      <td>0.064052</td>\n",
              "      <td>0.073203</td>\n",
              "      <td>0.088889</td>\n",
              "      <td>0.099346</td>\n",
              "      <td>0.103268</td>\n",
              "      <td>0.104575</td>\n",
              "      <td>0.117647</td>\n",
              "      <td>0.141176</td>\n",
              "      <td>0.176471</td>\n",
              "      <td>0.218301</td>\n",
              "      <td>0.269281</td>\n",
              "      <td>0.308497</td>\n",
              "      <td>0.334641</td>\n",
              "      <td>0.346405</td>\n",
              "      <td>0.334641</td>\n",
              "      <td>0.313726</td>\n",
              "      <td>0.286275</td>\n",
              "      <td>0.243137</td>\n",
              "      <td>0.194771</td>\n",
              "      <td>0.142484</td>\n",
              "      <td>0.109804</td>\n",
              "      <td>0.084967</td>\n",
              "      <td>1</td>\n",
              "    </tr>\n",
              "    <tr>\n",
              "      <th>Imagen_1</th>\n",
              "      <td>0.281046</td>\n",
              "      <td>0.241830</td>\n",
              "      <td>0.209150</td>\n",
              "      <td>0.193464</td>\n",
              "      <td>0.185621</td>\n",
              "      <td>0.177778</td>\n",
              "      <td>0.175163</td>\n",
              "      <td>0.177778</td>\n",
              "      <td>0.176471</td>\n",
              "      <td>0.188235</td>\n",
              "      <td>0.194771</td>\n",
              "      <td>0.206536</td>\n",
              "      <td>0.218301</td>\n",
              "      <td>0.228758</td>\n",
              "      <td>0.257516</td>\n",
              "      <td>0.294118</td>\n",
              "      <td>0.332026</td>\n",
              "      <td>0.355556</td>\n",
              "      <td>0.377778</td>\n",
              "      <td>0.401307</td>\n",
              "      <td>0.409150</td>\n",
              "      <td>0.410457</td>\n",
              "      <td>0.397386</td>\n",
              "      <td>0.354248</td>\n",
              "      <td>0.324183</td>\n",
              "      <td>0.254902</td>\n",
              "      <td>0.193464</td>\n",
              "      <td>0.155556</td>\n",
              "      <td>0.121569</td>\n",
              "      <td>0.105882</td>\n",
              "      <td>0.103268</td>\n",
              "      <td>0.105882</td>\n",
              "      <td>0.091503</td>\n",
              "      <td>0.075817</td>\n",
              "      <td>0.075817</td>\n",
              "      <td>0.079739</td>\n",
              "      <td>0.062745</td>\n",
              "      <td>0.062745</td>\n",
              "      <td>0.084967</td>\n",
              "      <td>0.100654</td>\n",
              "      <td>...</td>\n",
              "      <td>0.954248</td>\n",
              "      <td>0.945098</td>\n",
              "      <td>0.941176</td>\n",
              "      <td>0.952941</td>\n",
              "      <td>0.963399</td>\n",
              "      <td>0.990850</td>\n",
              "      <td>0.993464</td>\n",
              "      <td>0.992157</td>\n",
              "      <td>0.986928</td>\n",
              "      <td>0.981699</td>\n",
              "      <td>0.981699</td>\n",
              "      <td>0.976471</td>\n",
              "      <td>0.971242</td>\n",
              "      <td>0.977778</td>\n",
              "      <td>0.990850</td>\n",
              "      <td>0.984314</td>\n",
              "      <td>0.964706</td>\n",
              "      <td>0.879739</td>\n",
              "      <td>0.650980</td>\n",
              "      <td>0.433987</td>\n",
              "      <td>0.298039</td>\n",
              "      <td>0.294118</td>\n",
              "      <td>0.313726</td>\n",
              "      <td>0.337255</td>\n",
              "      <td>0.356863</td>\n",
              "      <td>0.369935</td>\n",
              "      <td>0.381699</td>\n",
              "      <td>0.390850</td>\n",
              "      <td>0.397386</td>\n",
              "      <td>0.406536</td>\n",
              "      <td>0.414379</td>\n",
              "      <td>0.422222</td>\n",
              "      <td>0.426144</td>\n",
              "      <td>0.426144</td>\n",
              "      <td>0.430065</td>\n",
              "      <td>0.422222</td>\n",
              "      <td>0.414379</td>\n",
              "      <td>0.413072</td>\n",
              "      <td>0.401307</td>\n",
              "      <td>1</td>\n",
              "    </tr>\n",
              "    <tr>\n",
              "      <th>Imagen_2</th>\n",
              "      <td>0.095425</td>\n",
              "      <td>0.099346</td>\n",
              "      <td>0.099346</td>\n",
              "      <td>0.094118</td>\n",
              "      <td>0.099346</td>\n",
              "      <td>0.108497</td>\n",
              "      <td>0.115033</td>\n",
              "      <td>0.112418</td>\n",
              "      <td>0.115033</td>\n",
              "      <td>0.111111</td>\n",
              "      <td>0.116340</td>\n",
              "      <td>0.108497</td>\n",
              "      <td>0.099346</td>\n",
              "      <td>0.105882</td>\n",
              "      <td>0.139869</td>\n",
              "      <td>0.168627</td>\n",
              "      <td>0.166013</td>\n",
              "      <td>0.141176</td>\n",
              "      <td>0.142484</td>\n",
              "      <td>0.162091</td>\n",
              "      <td>0.184314</td>\n",
              "      <td>0.179085</td>\n",
              "      <td>0.155556</td>\n",
              "      <td>0.147712</td>\n",
              "      <td>0.155556</td>\n",
              "      <td>0.185621</td>\n",
              "      <td>0.196078</td>\n",
              "      <td>0.172549</td>\n",
              "      <td>0.166013</td>\n",
              "      <td>0.189542</td>\n",
              "      <td>0.200000</td>\n",
              "      <td>0.190850</td>\n",
              "      <td>0.179085</td>\n",
              "      <td>0.194771</td>\n",
              "      <td>0.220915</td>\n",
              "      <td>0.244444</td>\n",
              "      <td>0.253595</td>\n",
              "      <td>0.241830</td>\n",
              "      <td>0.209150</td>\n",
              "      <td>0.185621</td>\n",
              "      <td>...</td>\n",
              "      <td>0.197386</td>\n",
              "      <td>0.216993</td>\n",
              "      <td>0.227451</td>\n",
              "      <td>0.215686</td>\n",
              "      <td>0.231373</td>\n",
              "      <td>0.239216</td>\n",
              "      <td>0.224837</td>\n",
              "      <td>0.209150</td>\n",
              "      <td>0.201307</td>\n",
              "      <td>0.193464</td>\n",
              "      <td>0.185621</td>\n",
              "      <td>0.185621</td>\n",
              "      <td>0.194771</td>\n",
              "      <td>0.184314</td>\n",
              "      <td>0.180392</td>\n",
              "      <td>0.184314</td>\n",
              "      <td>0.192157</td>\n",
              "      <td>0.200000</td>\n",
              "      <td>0.200000</td>\n",
              "      <td>0.202614</td>\n",
              "      <td>0.206536</td>\n",
              "      <td>0.218301</td>\n",
              "      <td>0.222222</td>\n",
              "      <td>0.222222</td>\n",
              "      <td>0.218301</td>\n",
              "      <td>0.218301</td>\n",
              "      <td>0.218301</td>\n",
              "      <td>0.218301</td>\n",
              "      <td>0.214379</td>\n",
              "      <td>0.203922</td>\n",
              "      <td>0.196078</td>\n",
              "      <td>0.189542</td>\n",
              "      <td>0.181699</td>\n",
              "      <td>0.168627</td>\n",
              "      <td>0.151634</td>\n",
              "      <td>0.133333</td>\n",
              "      <td>0.116340</td>\n",
              "      <td>0.116340</td>\n",
              "      <td>0.113725</td>\n",
              "      <td>1</td>\n",
              "    </tr>\n",
              "    <tr>\n",
              "      <th>Imagen_3</th>\n",
              "      <td>0.573856</td>\n",
              "      <td>0.558170</td>\n",
              "      <td>0.550327</td>\n",
              "      <td>0.562091</td>\n",
              "      <td>0.581699</td>\n",
              "      <td>0.585621</td>\n",
              "      <td>0.575163</td>\n",
              "      <td>0.562091</td>\n",
              "      <td>0.562091</td>\n",
              "      <td>0.573856</td>\n",
              "      <td>0.577778</td>\n",
              "      <td>0.577778</td>\n",
              "      <td>0.583007</td>\n",
              "      <td>0.598693</td>\n",
              "      <td>0.607843</td>\n",
              "      <td>0.603922</td>\n",
              "      <td>0.598693</td>\n",
              "      <td>0.597386</td>\n",
              "      <td>0.589542</td>\n",
              "      <td>0.590850</td>\n",
              "      <td>0.616993</td>\n",
              "      <td>0.654902</td>\n",
              "      <td>0.675817</td>\n",
              "      <td>0.679739</td>\n",
              "      <td>0.657516</td>\n",
              "      <td>0.649673</td>\n",
              "      <td>0.649673</td>\n",
              "      <td>0.657516</td>\n",
              "      <td>0.658824</td>\n",
              "      <td>0.644444</td>\n",
              "      <td>0.633987</td>\n",
              "      <td>0.633987</td>\n",
              "      <td>0.619608</td>\n",
              "      <td>0.615686</td>\n",
              "      <td>0.600000</td>\n",
              "      <td>0.584314</td>\n",
              "      <td>0.581699</td>\n",
              "      <td>0.581699</td>\n",
              "      <td>0.575163</td>\n",
              "      <td>0.567320</td>\n",
              "      <td>...</td>\n",
              "      <td>0.993464</td>\n",
              "      <td>0.993464</td>\n",
              "      <td>0.993464</td>\n",
              "      <td>0.993464</td>\n",
              "      <td>0.993464</td>\n",
              "      <td>0.993464</td>\n",
              "      <td>0.993464</td>\n",
              "      <td>0.993464</td>\n",
              "      <td>0.993464</td>\n",
              "      <td>0.993464</td>\n",
              "      <td>0.994771</td>\n",
              "      <td>0.994771</td>\n",
              "      <td>0.994771</td>\n",
              "      <td>0.980392</td>\n",
              "      <td>0.967320</td>\n",
              "      <td>0.951634</td>\n",
              "      <td>0.924183</td>\n",
              "      <td>0.899346</td>\n",
              "      <td>0.875817</td>\n",
              "      <td>0.841830</td>\n",
              "      <td>0.803922</td>\n",
              "      <td>0.766013</td>\n",
              "      <td>0.713726</td>\n",
              "      <td>0.662745</td>\n",
              "      <td>0.631373</td>\n",
              "      <td>0.607843</td>\n",
              "      <td>0.598693</td>\n",
              "      <td>0.593464</td>\n",
              "      <td>0.593464</td>\n",
              "      <td>0.584314</td>\n",
              "      <td>0.584314</td>\n",
              "      <td>0.584314</td>\n",
              "      <td>0.584314</td>\n",
              "      <td>0.580392</td>\n",
              "      <td>0.580392</td>\n",
              "      <td>0.580392</td>\n",
              "      <td>0.580392</td>\n",
              "      <td>0.580392</td>\n",
              "      <td>0.580392</td>\n",
              "      <td>1</td>\n",
              "    </tr>\n",
              "    <tr>\n",
              "      <th>Imagen_4</th>\n",
              "      <td>0.193464</td>\n",
              "      <td>0.189542</td>\n",
              "      <td>0.189542</td>\n",
              "      <td>0.188235</td>\n",
              "      <td>0.194771</td>\n",
              "      <td>0.197386</td>\n",
              "      <td>0.193464</td>\n",
              "      <td>0.193464</td>\n",
              "      <td>0.197386</td>\n",
              "      <td>0.197386</td>\n",
              "      <td>0.198693</td>\n",
              "      <td>0.201307</td>\n",
              "      <td>0.201307</td>\n",
              "      <td>0.202614</td>\n",
              "      <td>0.202614</td>\n",
              "      <td>0.205229</td>\n",
              "      <td>0.202614</td>\n",
              "      <td>0.200000</td>\n",
              "      <td>0.193464</td>\n",
              "      <td>0.196078</td>\n",
              "      <td>0.193464</td>\n",
              "      <td>0.193464</td>\n",
              "      <td>0.197386</td>\n",
              "      <td>0.197386</td>\n",
              "      <td>0.203922</td>\n",
              "      <td>0.196078</td>\n",
              "      <td>0.196078</td>\n",
              "      <td>0.198693</td>\n",
              "      <td>0.189542</td>\n",
              "      <td>0.184314</td>\n",
              "      <td>0.198693</td>\n",
              "      <td>0.210458</td>\n",
              "      <td>0.210458</td>\n",
              "      <td>0.211765</td>\n",
              "      <td>0.200000</td>\n",
              "      <td>0.168627</td>\n",
              "      <td>0.126797</td>\n",
              "      <td>0.096732</td>\n",
              "      <td>0.075817</td>\n",
              "      <td>0.067974</td>\n",
              "      <td>...</td>\n",
              "      <td>0.873203</td>\n",
              "      <td>0.822222</td>\n",
              "      <td>0.725490</td>\n",
              "      <td>0.541176</td>\n",
              "      <td>0.333333</td>\n",
              "      <td>0.160784</td>\n",
              "      <td>0.066667</td>\n",
              "      <td>0.047059</td>\n",
              "      <td>0.060131</td>\n",
              "      <td>0.056209</td>\n",
              "      <td>0.062745</td>\n",
              "      <td>0.066667</td>\n",
              "      <td>0.066667</td>\n",
              "      <td>0.066667</td>\n",
              "      <td>0.070588</td>\n",
              "      <td>0.070588</td>\n",
              "      <td>0.062745</td>\n",
              "      <td>0.057516</td>\n",
              "      <td>0.053595</td>\n",
              "      <td>0.053595</td>\n",
              "      <td>0.053595</td>\n",
              "      <td>0.057516</td>\n",
              "      <td>0.057516</td>\n",
              "      <td>0.061438</td>\n",
              "      <td>0.061438</td>\n",
              "      <td>0.057516</td>\n",
              "      <td>0.057516</td>\n",
              "      <td>0.061438</td>\n",
              "      <td>0.061438</td>\n",
              "      <td>0.061438</td>\n",
              "      <td>0.061438</td>\n",
              "      <td>0.057516</td>\n",
              "      <td>0.057516</td>\n",
              "      <td>0.057516</td>\n",
              "      <td>0.060131</td>\n",
              "      <td>0.060131</td>\n",
              "      <td>0.056209</td>\n",
              "      <td>0.052288</td>\n",
              "      <td>0.052288</td>\n",
              "      <td>1</td>\n",
              "    </tr>\n",
              "  </tbody>\n",
              "</table>\n",
              "<p>5 rows × 23717 columns</p>\n",
              "</div>"
            ],
            "text/plain": [
              "           Pixel_0   Pixel_1   Pixel_2  ...  Pixel_23714  Pixel_23715  Target\n",
              "Imagen_0  0.101961  0.120261  0.132026  ...     0.109804     0.084967       1\n",
              "Imagen_1  0.281046  0.241830  0.209150  ...     0.413072     0.401307       1\n",
              "Imagen_2  0.095425  0.099346  0.099346  ...     0.116340     0.113725       1\n",
              "Imagen_3  0.573856  0.558170  0.550327  ...     0.580392     0.580392       1\n",
              "Imagen_4  0.193464  0.189542  0.189542  ...     0.052288     0.052288       1\n",
              "\n",
              "[5 rows x 23717 columns]"
            ]
          },
          "metadata": {
            "tags": []
          },
          "execution_count": 148
        }
      ]
    },
    {
      "cell_type": "markdown",
      "metadata": {
        "id": "fW9Wq5i5A8mb"
      },
      "source": [
        "## 0307 Igualamos la proporción \n",
        "Para obtener las X e y definitivas"
      ]
    },
    {
      "cell_type": "code",
      "metadata": {
        "id": "El0WUX7yOG0V",
        "colab": {
          "base_uri": "https://localhost:8080/"
        },
        "outputId": "ac368576-f332-488d-c9cf-bfc6cba4421f"
      },
      "source": [
        "filtro_mujeres = df['Target']==0\n",
        "\n",
        "filtro_mujeres.sum()"
      ],
      "execution_count": null,
      "outputs": [
        {
          "output_type": "execute_result",
          "data": {
            "text/plain": [
              "1179"
            ]
          },
          "metadata": {
            "tags": []
          },
          "execution_count": 152
        }
      ]
    },
    {
      "cell_type": "code",
      "metadata": {
        "id": "k24pAnFFOG3y"
      },
      "source": [
        "df_def = df[filtro_mujeres].append(df[filtro_mujeres==False].sample(filtro_mujeres.sum(), replace=False))\n",
        "display(df_def.shape)\n",
        "df_def.head()"
      ],
      "execution_count": null,
      "outputs": []
    },
    {
      "cell_type": "code",
      "metadata": {
        "id": "gequbdzGADvD",
        "colab": {
          "base_uri": "https://localhost:8080/"
        },
        "outputId": "f56dce6e-7960-4bfd-c6a2-4f2433f13a09"
      },
      "source": [
        "X_mujeres = X[y == 0]\n",
        "X_mujeres.shape"
      ],
      "execution_count": null,
      "outputs": [
        {
          "output_type": "execute_result",
          "data": {
            "text/plain": [
              "(1179, 154, 154)"
            ]
          },
          "metadata": {
            "tags": []
          },
          "execution_count": 110
        }
      ]
    },
    {
      "cell_type": "code",
      "metadata": {
        "id": "DZCo_s7lA4Um",
        "colab": {
          "base_uri": "https://localhost:8080/"
        },
        "outputId": "fbecffdb-827c-475b-8dea-40bc883b296b"
      },
      "source": [
        "X_hombres = X[y == 1]\n",
        "X_hombres.shape"
      ],
      "execution_count": null,
      "outputs": [
        {
          "output_type": "execute_result",
          "data": {
            "text/plain": [
              "(4806, 154, 154)"
            ]
          },
          "metadata": {
            "tags": []
          },
          "execution_count": 111
        }
      ]
    },
    {
      "cell_type": "code",
      "metadata": {
        "id": "vmpIgYVPMGy5",
        "colab": {
          "base_uri": "https://localhost:8080/"
        },
        "outputId": "66e54c6e-fac4-4f9d-940d-72288857924b"
      },
      "source": [
        "X_mujeres[0].shape"
      ],
      "execution_count": null,
      "outputs": [
        {
          "output_type": "execute_result",
          "data": {
            "text/plain": [
              "(154, 154)"
            ]
          },
          "metadata": {
            "tags": []
          },
          "execution_count": 123
        }
      ]
    },
    {
      "cell_type": "code",
      "metadata": {
        "id": "ktrclTjaMOxP",
        "colab": {
          "base_uri": "https://localhost:8080/"
        },
        "outputId": "a61df7ea-7953-4d94-ebcf-6164b0935cad"
      },
      "source": [
        "len(np.ravel(X_mujeres[0]))"
      ],
      "execution_count": null,
      "outputs": [
        {
          "output_type": "execute_result",
          "data": {
            "text/plain": [
              "23716"
            ]
          },
          "metadata": {
            "tags": []
          },
          "execution_count": 125
        }
      ]
    },
    {
      "cell_type": "code",
      "metadata": {
        "id": "BBYip2eEC7VL",
        "colab": {
          "base_uri": "https://localhost:8080/",
          "height": 198
        },
        "outputId": "62a21d4e-3365-4596-a249-0d244abafd16"
      },
      "source": [
        "# Contruímos matriz X y vector y definitivos\n",
        "for i in range(len(X_mujeres)*2):\n",
        "\n",
        "  # Cogemos primero las mujeres\n",
        "  while i <= len(X_mujeres):\n",
        "    X_mujeres \n",
        "\n",
        "        X[i,:] = np.ravel(img)\n",
        "    return X, h, w"
      ],
      "execution_count": null,
      "outputs": [
        {
          "output_type": "error",
          "ename": "IndexError",
          "evalue": "ignored",
          "traceback": [
            "\u001b[0;31m---------------------------------------------------------------------------\u001b[0m",
            "\u001b[0;31mIndexError\u001b[0m                                Traceback (most recent call last)",
            "\u001b[0;32m<ipython-input-120-ae8014fee77d>\u001b[0m in \u001b[0;36m<module>\u001b[0;34m()\u001b[0m\n\u001b[1;32m      1\u001b[0m \u001b[0mX_even\u001b[0m \u001b[0;34m=\u001b[0m \u001b[0mnp\u001b[0m\u001b[0;34m.\u001b[0m\u001b[0marray\u001b[0m\u001b[0;34m(\u001b[0m\u001b[0;34m[\u001b[0m\u001b[0;34m]\u001b[0m\u001b[0;34m)\u001b[0m\u001b[0;34m\u001b[0m\u001b[0;34m\u001b[0m\u001b[0m\n\u001b[0;32m----> 2\u001b[0;31m \u001b[0mX_even\u001b[0m\u001b[0;34m[\u001b[0m\u001b[0;36m0\u001b[0m\u001b[0;34m]\u001b[0m\u001b[0;34m[\u001b[0m\u001b[0;36m0\u001b[0m\u001b[0;34m]\u001b[0m \u001b[0;34m=\u001b[0m \u001b[0mnp\u001b[0m\u001b[0;34m.\u001b[0m\u001b[0marray\u001b[0m\u001b[0;34m(\u001b[0m\u001b[0;34m[\u001b[0m\u001b[0;36m1\u001b[0m\u001b[0;34m,\u001b[0m\u001b[0;36m2\u001b[0m\u001b[0;34m,\u001b[0m\u001b[0;36m3\u001b[0m\u001b[0;34m]\u001b[0m\u001b[0;34m)\u001b[0m\u001b[0;34m\u001b[0m\u001b[0;34m\u001b[0m\u001b[0m\n\u001b[0m\u001b[1;32m      3\u001b[0m \u001b[0mX_even\u001b[0m\u001b[0;34m\u001b[0m\u001b[0;34m\u001b[0m\u001b[0m\n",
            "\u001b[0;31mIndexError\u001b[0m: index 0 is out of bounds for axis 0 with size 0"
          ]
        }
      ]
    },
    {
      "cell_type": "code",
      "metadata": {
        "id": "wgWFDJqgB9tg",
        "colab": {
          "base_uri": "https://localhost:8080/"
        },
        "outputId": "85fa6b6a-042f-483f-862a-fe0531bb4519"
      },
      "source": [
        "np.append(X_mujeres, X_hombres_azar).shape"
      ],
      "execution_count": null,
      "outputs": [
        {
          "output_type": "execute_result",
          "data": {
            "text/plain": [
              "(104160672,)"
            ]
          },
          "metadata": {
            "tags": []
          },
          "execution_count": 59
        }
      ]
    },
    {
      "cell_type": "code",
      "metadata": {
        "id": "mxp2BkB3BS5M",
        "colab": {
          "base_uri": "https://localhost:8080/"
        },
        "outputId": "0779d261-26e0-4324-eb21-e9d369af7468"
      },
      "source": [
        "len(list(np.random.choice(np.arange(0,len(X_hombres)),len(X_mujeres))))"
      ],
      "execution_count": null,
      "outputs": [
        {
          "output_type": "execute_result",
          "data": {
            "text/plain": [
              "732"
            ]
          },
          "metadata": {
            "tags": []
          },
          "execution_count": 45
        }
      ]
    },
    {
      "cell_type": "code",
      "metadata": {
        "id": "Lwn7DH2yBJ-q",
        "colab": {
          "base_uri": "https://localhost:8080/"
        },
        "outputId": "cee54290-7eb9-472b-c5a7-0d9375ab499e"
      },
      "source": [
        "X[[1,5]]"
      ],
      "execution_count": null,
      "outputs": [
        {
          "output_type": "execute_result",
          "data": {
            "text/plain": [
              "array([[[[0.14901961, 0.14901961, 0.18039216],\n",
              "         [0.14509805, 0.14509805, 0.1764706 ],\n",
              "         [0.13333334, 0.13333334, 0.16470589],\n",
              "         ...,\n",
              "         [0.9882353 , 0.99607843, 0.9843137 ],\n",
              "         [0.96862745, 0.9843137 , 0.98039216],\n",
              "         [0.9647059 , 0.9843137 , 0.99607843]],\n",
              "\n",
              "        [[0.08627451, 0.09019608, 0.10980392],\n",
              "         [0.08235294, 0.08627451, 0.10588235],\n",
              "         [0.06666667, 0.07058824, 0.09019608],\n",
              "         ...,\n",
              "         [0.9882353 , 0.99607843, 0.9843137 ],\n",
              "         [0.9764706 , 0.99215686, 0.9882353 ],\n",
              "         [0.96862745, 0.9882353 , 1.        ]],\n",
              "\n",
              "        [[0.03921569, 0.04313726, 0.05882353],\n",
              "         [0.03137255, 0.03529412, 0.05098039],\n",
              "         [0.02352941, 0.02745098, 0.04313726],\n",
              "         ...,\n",
              "         [0.9882353 , 0.99607843, 0.9843137 ],\n",
              "         [0.98039216, 0.99607843, 0.99215686],\n",
              "         [0.9607843 , 0.99607843, 0.99215686]],\n",
              "\n",
              "        ...,\n",
              "\n",
              "        [[0.0627451 , 0.07843138, 0.12156863],\n",
              "         [0.08627451, 0.10196079, 0.14901961],\n",
              "         [0.11372549, 0.12941177, 0.1764706 ],\n",
              "         ...,\n",
              "         [0.7607843 , 0.81960785, 0.8       ],\n",
              "         [0.7607843 , 0.81960785, 0.8       ],\n",
              "         [0.7647059 , 0.8235294 , 0.8039216 ]],\n",
              "\n",
              "        [[0.04705882, 0.0627451 , 0.10588235],\n",
              "         [0.05490196, 0.07058824, 0.11372549],\n",
              "         [0.07843138, 0.09411765, 0.13725491],\n",
              "         ...,\n",
              "         [0.78039217, 0.827451  , 0.8117647 ],\n",
              "         [0.7764706 , 0.8235294 , 0.80784315],\n",
              "         [0.78431374, 0.83137256, 0.8156863 ]],\n",
              "\n",
              "        [[0.03921569, 0.05490196, 0.09803922],\n",
              "         [0.03529412, 0.05098039, 0.09411765],\n",
              "         [0.04705882, 0.0627451 , 0.10588235],\n",
              "         ...,\n",
              "         [0.8039216 , 0.84705883, 0.83137256],\n",
              "         [0.8352941 , 0.8784314 , 0.8627451 ],\n",
              "         [0.84705883, 0.8901961 , 0.8745098 ]]],\n",
              "\n",
              "\n",
              "       [[[0.16470589, 0.09803922, 0.06666667],\n",
              "         [0.15294118, 0.08627451, 0.05490196],\n",
              "         [0.14117648, 0.07450981, 0.04313726],\n",
              "         ...,\n",
              "         [0.35686275, 0.25490198, 0.1882353 ],\n",
              "         [0.26666668, 0.18039216, 0.1254902 ],\n",
              "         [0.18039216, 0.10980392, 0.0627451 ]],\n",
              "\n",
              "        [[0.14117648, 0.07450981, 0.04313726],\n",
              "         [0.13333334, 0.06666667, 0.03529412],\n",
              "         [0.12156863, 0.05490196, 0.02352941],\n",
              "         ...,\n",
              "         [0.3882353 , 0.28627452, 0.21960784],\n",
              "         [0.32156864, 0.23529412, 0.18039216],\n",
              "         [0.22745098, 0.15686275, 0.11764706]],\n",
              "\n",
              "        [[0.10980392, 0.04313726, 0.01176471],\n",
              "         [0.10980392, 0.04313726, 0.01176471],\n",
              "         [0.10196079, 0.03529412, 0.00392157],\n",
              "         ...,\n",
              "         [0.45882353, 0.35686275, 0.2901961 ],\n",
              "         [0.3882353 , 0.3019608 , 0.24705882],\n",
              "         [0.29411766, 0.22352941, 0.18431373]],\n",
              "\n",
              "        ...,\n",
              "\n",
              "        [[0.63529414, 0.6392157 , 0.61960787],\n",
              "         [0.63529414, 0.6392157 , 0.61960787],\n",
              "         [0.6313726 , 0.63529414, 0.6156863 ],\n",
              "         ...,\n",
              "         [0.03529412, 0.03529412, 0.03529412],\n",
              "         [0.03529412, 0.03529412, 0.03529412],\n",
              "         [0.03529412, 0.03529412, 0.03529412]],\n",
              "\n",
              "        [[0.6392157 , 0.6431373 , 0.62352943],\n",
              "         [0.6392157 , 0.6431373 , 0.62352943],\n",
              "         [0.63529414, 0.6392157 , 0.61960787],\n",
              "         ...,\n",
              "         [0.03529412, 0.04313726, 0.03921569],\n",
              "         [0.03137255, 0.03921569, 0.03529412],\n",
              "         [0.03137255, 0.03921569, 0.03529412]],\n",
              "\n",
              "        [[0.6392157 , 0.6431373 , 0.62352943],\n",
              "         [0.6392157 , 0.6431373 , 0.62352943],\n",
              "         [0.6392157 , 0.6431373 , 0.62352943],\n",
              "         ...,\n",
              "         [0.03529412, 0.04313726, 0.03921569],\n",
              "         [0.03921569, 0.04705882, 0.04313726],\n",
              "         [0.03529412, 0.04313726, 0.03921569]]]], dtype=float32)"
            ]
          },
          "metadata": {
            "tags": []
          },
          "execution_count": 39
        }
      ]
    },
    {
      "cell_type": "code",
      "metadata": {
        "id": "7wBFS9tQAI0e",
        "colab": {
          "base_uri": "https://localhost:8080/"
        },
        "outputId": "aa42ed65-c391-47a0-9c78-2771d5dbcf75"
      },
      "source": [
        "y == 1"
      ],
      "execution_count": null,
      "outputs": [
        {
          "output_type": "execute_result",
          "data": {
            "text/plain": [
              "array([ True,  True, False, ...,  True,  True,  True])"
            ]
          },
          "metadata": {
            "tags": []
          },
          "execution_count": 32
        }
      ]
    },
    {
      "cell_type": "code",
      "metadata": {
        "id": "ZIb0fWzi_FJt",
        "colab": {
          "base_uri": "https://localhost:8080/"
        },
        "outputId": "6c6f6262-ac79-4044-f16b-000fb015a24c"
      },
      "source": [
        "y.mean(), len(y)"
      ],
      "execution_count": null,
      "outputs": [
        {
          "output_type": "execute_result",
          "data": {
            "text/plain": [
              "(0.8307123034227567, 4324)"
            ]
          },
          "metadata": {
            "tags": []
          },
          "execution_count": 30
        }
      ]
    },
    {
      "cell_type": "markdown",
      "metadata": {
        "id": "8OJS0b4R5ZNh"
      },
      "source": [
        "# 03 Preparación de los datos\n",
        "Normalmente el dataframe contiene nulos, así como variables categóricas y presencia de ciertas variables que probablemente no queramos usar. \n",
        "\n",
        "Necesitamos limpiarlo antes de poder entrenar los modelos."
      ]
    },
    {
      "cell_type": "markdown",
      "metadata": {
        "id": "vXuahKge_Szf"
      },
      "source": [
        "### 030105 Train - test"
      ]
    },
    {
      "cell_type": "code",
      "metadata": {
        "id": "JuUqE7RMGk73"
      },
      "source": [
        "from sklearn.model_selection import train_test_split\n",
        "    \n",
        "# divido en conjuntos de training y test\n",
        "X_train, X_test, y_train, y_test = train_test_split(X, y,\n",
        "                                                    test_size=200,\n",
        "                                                    random_state=42)"
      ],
      "execution_count": null,
      "outputs": []
    },
    {
      "cell_type": "markdown",
      "metadata": {
        "id": "JIJw6wpoDeYL"
      },
      "source": [
        "# 04 Entrenamos una red neuronal con Keras\n",
        "\n",
        "Aquí podéis encontrar [un buen notebook ejemplo](https://colab.research.google.com/github/keras-team/keras-io/blob/master/guides/ipynb/sequential_model.ipynb) (de la documentación de Keras) sobre cómo definir redes neuronales secuenciales. "
      ]
    },
    {
      "cell_type": "markdown",
      "metadata": {
        "id": "jR8jPudCUh1W"
      },
      "source": [
        "## 0401 Importamos Keras"
      ]
    },
    {
      "cell_type": "code",
      "metadata": {
        "id": "K_t54sKQaFb9"
      },
      "source": [
        "from tensorflow import keras\n",
        "from keras.models import Sequential\n",
        "from keras.layers import Dense"
      ],
      "execution_count": null,
      "outputs": []
    },
    {
      "cell_type": "markdown",
      "metadata": {
        "id": "W5IKyePtV2a2"
      },
      "source": [
        "## 0402 Definimos arquitectura\n",
        "Más info sobre la función de activación softmax [aquí](https://en.wikipedia.org/wiki/Softmax_function)."
      ]
    },
    {
      "cell_type": "code",
      "metadata": {
        "id": "aL8ISTkCbjLq",
        "colab": {
          "base_uri": "https://localhost:8080/"
        },
        "outputId": "8dcfbf22-47d2-496f-c957-2d0c4a672d43"
      },
      "source": [
        "# Inicializamos la red neuronal\n",
        "modelo = Sequential([\n",
        "    Dense(1000, activation='relu', input_shape=(154, 154, )),\n",
        "    Dense(1000, activation='relu'),\n",
        "    Dense(1000, activation='relu'),\n",
        "    Dense(1, activation=\"sigmoid\")\n",
        "    ], name = 'Reconocimiento_imagen')\n",
        "\n",
        "modelo"
      ],
      "execution_count": null,
      "outputs": [
        {
          "output_type": "execute_result",
          "data": {
            "text/plain": [
              "<tensorflow.python.keras.engine.sequential.Sequential at 0x7f9ac6db0050>"
            ]
          },
          "metadata": {
            "tags": []
          },
          "execution_count": 108
        }
      ]
    },
    {
      "cell_type": "code",
      "metadata": {
        "id": "0RF4bGxXHGrl",
        "colab": {
          "base_uri": "https://localhost:8080/"
        },
        "outputId": "4e49d6bb-c61c-4edf-fa9f-733821f3768a"
      },
      "source": [
        "modelo.summary()"
      ],
      "execution_count": null,
      "outputs": [
        {
          "output_type": "stream",
          "text": [
            "Model: \"Reconocimiento_imagen\"\n",
            "_________________________________________________________________\n",
            "Layer (type)                 Output Shape              Param #   \n",
            "=================================================================\n",
            "dense_8 (Dense)              (None, 154, 1000)         155000    \n",
            "_________________________________________________________________\n",
            "dense_9 (Dense)              (None, 154, 1000)         1001000   \n",
            "_________________________________________________________________\n",
            "dense_10 (Dense)             (None, 154, 1000)         1001000   \n",
            "_________________________________________________________________\n",
            "dense_11 (Dense)             (None, 154, 1)            1001      \n",
            "=================================================================\n",
            "Total params: 2,158,001\n",
            "Trainable params: 2,158,001\n",
            "Non-trainable params: 0\n",
            "_________________________________________________________________\n"
          ],
          "name": "stdout"
        }
      ]
    },
    {
      "cell_type": "code",
      "metadata": {
        "id": "Rlll4dW0I4jw",
        "colab": {
          "base_uri": "https://localhost:8080/",
          "height": 533
        },
        "outputId": "eb3ff46b-dde2-4d94-d197-ccf795425909"
      },
      "source": [
        "keras.utils.plot_model(modelo, \"imagen.png\", show_shapes=True)"
      ],
      "execution_count": null,
      "outputs": [
        {
          "output_type": "execute_result",
          "data": {
            "image/png": "[encoded data removed]",
            "text/plain": [
              "<IPython.core.display.Image object>"
            ]
          },
          "metadata": {
            "tags": []
          },
          "execution_count": 71
        }
      ]
    },
    {
      "cell_type": "markdown",
      "metadata": {
        "id": "z7DL_18HXLkM"
      },
      "source": [
        "## 0403 Compilamos"
      ]
    },
    {
      "cell_type": "code",
      "metadata": {
        "id": "2xru7yPYbld4",
        "colab": {
          "base_uri": "https://localhost:8080/"
        },
        "outputId": "a607fb5d-d7c5-468e-9305-288eb967a54e"
      },
      "source": [
        "modelo.compile(optimizer = 'sgd', \n",
        "               loss = 'binary_crossentropy', \n",
        "               metrics = ['accuracy'])\n",
        "\n",
        "modelo"
      ],
      "execution_count": null,
      "outputs": [
        {
          "output_type": "execute_result",
          "data": {
            "text/plain": [
              "<tensorflow.python.keras.engine.sequential.Sequential at 0x7f9acb52f050>"
            ]
          },
          "metadata": {
            "tags": []
          },
          "execution_count": 72
        }
      ]
    },
    {
      "cell_type": "markdown",
      "metadata": {
        "id": "Sn907Ts1XhRS"
      },
      "source": [
        "## 0404 Entrenamos\n",
        "[Colab notebook](https://colab.research.google.com/github/keras-team/keras-io/blob/master/guides/ipynb/training_with_built_in_methods.ipynb#scrollTo=IFz5UrHJC4SF) muy completo de la documentacion de Keras sobre el entrenamiento de redes neuronales."
      ]
    },
    {
      "cell_type": "code",
      "metadata": {
        "id": "bwvI-vu_cUs-",
        "colab": {
          "base_uri": "https://localhost:8080/",
          "height": 936
        },
        "outputId": "27b3359c-da08-4490-e6d7-0eace585edc4"
      },
      "source": [
        "modelo.fit(X_train, y_train, epochs=25, batch_size=50)\n",
        "modelo"
      ],
      "execution_count": null,
      "outputs": [
        {
          "output_type": "stream",
          "text": [
            "Epoch 1/25\n"
          ],
          "name": "stdout"
        },
        {
          "output_type": "error",
          "ename": "ValueError",
          "evalue": "ignored",
          "traceback": [
            "\u001b[0;31m---------------------------------------------------------------------------\u001b[0m",
            "\u001b[0;31mValueError\u001b[0m                                Traceback (most recent call last)",
            "\u001b[0;32m<ipython-input-73-31163cc4dfcf>\u001b[0m in \u001b[0;36m<module>\u001b[0;34m()\u001b[0m\n\u001b[0;32m----> 1\u001b[0;31m \u001b[0mmodelo\u001b[0m\u001b[0;34m.\u001b[0m\u001b[0mfit\u001b[0m\u001b[0;34m(\u001b[0m\u001b[0mX_train\u001b[0m\u001b[0;34m,\u001b[0m \u001b[0my_train\u001b[0m\u001b[0;34m,\u001b[0m \u001b[0mepochs\u001b[0m\u001b[0;34m=\u001b[0m\u001b[0;36m25\u001b[0m\u001b[0;34m,\u001b[0m \u001b[0mbatch_size\u001b[0m\u001b[0;34m=\u001b[0m\u001b[0;36m50\u001b[0m\u001b[0;34m)\u001b[0m\u001b[0;34m\u001b[0m\u001b[0;34m\u001b[0m\u001b[0m\n\u001b[0m\u001b[1;32m      2\u001b[0m \u001b[0mmodelo\u001b[0m\u001b[0;34m\u001b[0m\u001b[0;34m\u001b[0m\u001b[0m\n",
            "\u001b[0;32m/usr/local/lib/python3.7/dist-packages/tensorflow/python/keras/engine/training.py\u001b[0m in \u001b[0;36mfit\u001b[0;34m(self, x, y, batch_size, epochs, verbose, callbacks, validation_split, validation_data, shuffle, class_weight, sample_weight, initial_epoch, steps_per_epoch, validation_steps, validation_batch_size, validation_freq, max_queue_size, workers, use_multiprocessing)\u001b[0m\n\u001b[1;32m   1098\u001b[0m                 _r=1):\n\u001b[1;32m   1099\u001b[0m               \u001b[0mcallbacks\u001b[0m\u001b[0;34m.\u001b[0m\u001b[0mon_train_batch_begin\u001b[0m\u001b[0;34m(\u001b[0m\u001b[0mstep\u001b[0m\u001b[0;34m)\u001b[0m\u001b[0;34m\u001b[0m\u001b[0;34m\u001b[0m\u001b[0m\n\u001b[0;32m-> 1100\u001b[0;31m               \u001b[0mtmp_logs\u001b[0m \u001b[0;34m=\u001b[0m \u001b[0mself\u001b[0m\u001b[0;34m.\u001b[0m\u001b[0mtrain_function\u001b[0m\u001b[0;34m(\u001b[0m\u001b[0miterator\u001b[0m\u001b[0;34m)\u001b[0m\u001b[0;34m\u001b[0m\u001b[0;34m\u001b[0m\u001b[0m\n\u001b[0m\u001b[1;32m   1101\u001b[0m               \u001b[0;32mif\u001b[0m \u001b[0mdata_handler\u001b[0m\u001b[0;34m.\u001b[0m\u001b[0mshould_sync\u001b[0m\u001b[0;34m:\u001b[0m\u001b[0;34m\u001b[0m\u001b[0;34m\u001b[0m\u001b[0m\n\u001b[1;32m   1102\u001b[0m                 \u001b[0mcontext\u001b[0m\u001b[0;34m.\u001b[0m\u001b[0masync_wait\u001b[0m\u001b[0;34m(\u001b[0m\u001b[0;34m)\u001b[0m\u001b[0;34m\u001b[0m\u001b[0;34m\u001b[0m\u001b[0m\n",
            "\u001b[0;32m/usr/local/lib/python3.7/dist-packages/tensorflow/python/eager/def_function.py\u001b[0m in \u001b[0;36m__call__\u001b[0;34m(self, *args, **kwds)\u001b[0m\n\u001b[1;32m    826\u001b[0m     \u001b[0mtracing_count\u001b[0m \u001b[0;34m=\u001b[0m \u001b[0mself\u001b[0m\u001b[0;34m.\u001b[0m\u001b[0mexperimental_get_tracing_count\u001b[0m\u001b[0;34m(\u001b[0m\u001b[0;34m)\u001b[0m\u001b[0;34m\u001b[0m\u001b[0;34m\u001b[0m\u001b[0m\n\u001b[1;32m    827\u001b[0m     \u001b[0;32mwith\u001b[0m \u001b[0mtrace\u001b[0m\u001b[0;34m.\u001b[0m\u001b[0mTrace\u001b[0m\u001b[0;34m(\u001b[0m\u001b[0mself\u001b[0m\u001b[0;34m.\u001b[0m\u001b[0m_name\u001b[0m\u001b[0;34m)\u001b[0m \u001b[0;32mas\u001b[0m \u001b[0mtm\u001b[0m\u001b[0;34m:\u001b[0m\u001b[0;34m\u001b[0m\u001b[0;34m\u001b[0m\u001b[0m\n\u001b[0;32m--> 828\u001b[0;31m       \u001b[0mresult\u001b[0m \u001b[0;34m=\u001b[0m \u001b[0mself\u001b[0m\u001b[0;34m.\u001b[0m\u001b[0m_call\u001b[0m\u001b[0;34m(\u001b[0m\u001b[0;34m*\u001b[0m\u001b[0margs\u001b[0m\u001b[0;34m,\u001b[0m \u001b[0;34m**\u001b[0m\u001b[0mkwds\u001b[0m\u001b[0;34m)\u001b[0m\u001b[0;34m\u001b[0m\u001b[0;34m\u001b[0m\u001b[0m\n\u001b[0m\u001b[1;32m    829\u001b[0m       \u001b[0mcompiler\u001b[0m \u001b[0;34m=\u001b[0m \u001b[0;34m\"xla\"\u001b[0m \u001b[0;32mif\u001b[0m \u001b[0mself\u001b[0m\u001b[0;34m.\u001b[0m\u001b[0m_experimental_compile\u001b[0m \u001b[0;32melse\u001b[0m \u001b[0;34m\"nonXla\"\u001b[0m\u001b[0;34m\u001b[0m\u001b[0;34m\u001b[0m\u001b[0m\n\u001b[1;32m    830\u001b[0m       \u001b[0mnew_tracing_count\u001b[0m \u001b[0;34m=\u001b[0m \u001b[0mself\u001b[0m\u001b[0;34m.\u001b[0m\u001b[0mexperimental_get_tracing_count\u001b[0m\u001b[0;34m(\u001b[0m\u001b[0;34m)\u001b[0m\u001b[0;34m\u001b[0m\u001b[0;34m\u001b[0m\u001b[0m\n",
            "\u001b[0;32m/usr/local/lib/python3.7/dist-packages/tensorflow/python/eager/def_function.py\u001b[0m in \u001b[0;36m_call\u001b[0;34m(self, *args, **kwds)\u001b[0m\n\u001b[1;32m    869\u001b[0m       \u001b[0;31m# This is the first call of __call__, so we have to initialize.\u001b[0m\u001b[0;34m\u001b[0m\u001b[0;34m\u001b[0m\u001b[0;34m\u001b[0m\u001b[0m\n\u001b[1;32m    870\u001b[0m       \u001b[0minitializers\u001b[0m \u001b[0;34m=\u001b[0m \u001b[0;34m[\u001b[0m\u001b[0;34m]\u001b[0m\u001b[0;34m\u001b[0m\u001b[0;34m\u001b[0m\u001b[0m\n\u001b[0;32m--> 871\u001b[0;31m       \u001b[0mself\u001b[0m\u001b[0;34m.\u001b[0m\u001b[0m_initialize\u001b[0m\u001b[0;34m(\u001b[0m\u001b[0margs\u001b[0m\u001b[0;34m,\u001b[0m \u001b[0mkwds\u001b[0m\u001b[0;34m,\u001b[0m \u001b[0madd_initializers_to\u001b[0m\u001b[0;34m=\u001b[0m\u001b[0minitializers\u001b[0m\u001b[0;34m)\u001b[0m\u001b[0;34m\u001b[0m\u001b[0;34m\u001b[0m\u001b[0m\n\u001b[0m\u001b[1;32m    872\u001b[0m     \u001b[0;32mfinally\u001b[0m\u001b[0;34m:\u001b[0m\u001b[0;34m\u001b[0m\u001b[0;34m\u001b[0m\u001b[0m\n\u001b[1;32m    873\u001b[0m       \u001b[0;31m# At this point we know that the initialization is complete (or less\u001b[0m\u001b[0;34m\u001b[0m\u001b[0;34m\u001b[0m\u001b[0;34m\u001b[0m\u001b[0m\n",
            "\u001b[0;32m/usr/local/lib/python3.7/dist-packages/tensorflow/python/eager/def_function.py\u001b[0m in \u001b[0;36m_initialize\u001b[0;34m(self, args, kwds, add_initializers_to)\u001b[0m\n\u001b[1;32m    724\u001b[0m     self._concrete_stateful_fn = (\n\u001b[1;32m    725\u001b[0m         self._stateful_fn._get_concrete_function_internal_garbage_collected(  # pylint: disable=protected-access\n\u001b[0;32m--> 726\u001b[0;31m             *args, **kwds))\n\u001b[0m\u001b[1;32m    727\u001b[0m \u001b[0;34m\u001b[0m\u001b[0m\n\u001b[1;32m    728\u001b[0m     \u001b[0;32mdef\u001b[0m \u001b[0minvalid_creator_scope\u001b[0m\u001b[0;34m(\u001b[0m\u001b[0;34m*\u001b[0m\u001b[0munused_args\u001b[0m\u001b[0;34m,\u001b[0m \u001b[0;34m**\u001b[0m\u001b[0munused_kwds\u001b[0m\u001b[0;34m)\u001b[0m\u001b[0;34m:\u001b[0m\u001b[0;34m\u001b[0m\u001b[0;34m\u001b[0m\u001b[0m\n",
            "\u001b[0;32m/usr/local/lib/python3.7/dist-packages/tensorflow/python/eager/function.py\u001b[0m in \u001b[0;36m_get_concrete_function_internal_garbage_collected\u001b[0;34m(self, *args, **kwargs)\u001b[0m\n\u001b[1;32m   2967\u001b[0m       \u001b[0margs\u001b[0m\u001b[0;34m,\u001b[0m \u001b[0mkwargs\u001b[0m \u001b[0;34m=\u001b[0m \u001b[0;32mNone\u001b[0m\u001b[0;34m,\u001b[0m \u001b[0;32mNone\u001b[0m\u001b[0;34m\u001b[0m\u001b[0;34m\u001b[0m\u001b[0m\n\u001b[1;32m   2968\u001b[0m     \u001b[0;32mwith\u001b[0m \u001b[0mself\u001b[0m\u001b[0;34m.\u001b[0m\u001b[0m_lock\u001b[0m\u001b[0;34m:\u001b[0m\u001b[0;34m\u001b[0m\u001b[0;34m\u001b[0m\u001b[0m\n\u001b[0;32m-> 2969\u001b[0;31m       \u001b[0mgraph_function\u001b[0m\u001b[0;34m,\u001b[0m \u001b[0m_\u001b[0m \u001b[0;34m=\u001b[0m \u001b[0mself\u001b[0m\u001b[0;34m.\u001b[0m\u001b[0m_maybe_define_function\u001b[0m\u001b[0;34m(\u001b[0m\u001b[0margs\u001b[0m\u001b[0;34m,\u001b[0m \u001b[0mkwargs\u001b[0m\u001b[0;34m)\u001b[0m\u001b[0;34m\u001b[0m\u001b[0;34m\u001b[0m\u001b[0m\n\u001b[0m\u001b[1;32m   2970\u001b[0m     \u001b[0;32mreturn\u001b[0m \u001b[0mgraph_function\u001b[0m\u001b[0;34m\u001b[0m\u001b[0;34m\u001b[0m\u001b[0m\n\u001b[1;32m   2971\u001b[0m \u001b[0;34m\u001b[0m\u001b[0m\n",
            "\u001b[0;32m/usr/local/lib/python3.7/dist-packages/tensorflow/python/eager/function.py\u001b[0m in \u001b[0;36m_maybe_define_function\u001b[0;34m(self, args, kwargs)\u001b[0m\n\u001b[1;32m   3359\u001b[0m \u001b[0;34m\u001b[0m\u001b[0m\n\u001b[1;32m   3360\u001b[0m           \u001b[0mself\u001b[0m\u001b[0;34m.\u001b[0m\u001b[0m_function_cache\u001b[0m\u001b[0;34m.\u001b[0m\u001b[0mmissed\u001b[0m\u001b[0;34m.\u001b[0m\u001b[0madd\u001b[0m\u001b[0;34m(\u001b[0m\u001b[0mcall_context_key\u001b[0m\u001b[0;34m)\u001b[0m\u001b[0;34m\u001b[0m\u001b[0;34m\u001b[0m\u001b[0m\n\u001b[0;32m-> 3361\u001b[0;31m           \u001b[0mgraph_function\u001b[0m \u001b[0;34m=\u001b[0m \u001b[0mself\u001b[0m\u001b[0;34m.\u001b[0m\u001b[0m_create_graph_function\u001b[0m\u001b[0;34m(\u001b[0m\u001b[0margs\u001b[0m\u001b[0;34m,\u001b[0m \u001b[0mkwargs\u001b[0m\u001b[0;34m)\u001b[0m\u001b[0;34m\u001b[0m\u001b[0;34m\u001b[0m\u001b[0m\n\u001b[0m\u001b[1;32m   3362\u001b[0m           \u001b[0mself\u001b[0m\u001b[0;34m.\u001b[0m\u001b[0m_function_cache\u001b[0m\u001b[0;34m.\u001b[0m\u001b[0mprimary\u001b[0m\u001b[0;34m[\u001b[0m\u001b[0mcache_key\u001b[0m\u001b[0;34m]\u001b[0m \u001b[0;34m=\u001b[0m \u001b[0mgraph_function\u001b[0m\u001b[0;34m\u001b[0m\u001b[0;34m\u001b[0m\u001b[0m\n\u001b[1;32m   3363\u001b[0m \u001b[0;34m\u001b[0m\u001b[0m\n",
            "\u001b[0;32m/usr/local/lib/python3.7/dist-packages/tensorflow/python/eager/function.py\u001b[0m in \u001b[0;36m_create_graph_function\u001b[0;34m(self, args, kwargs, override_flat_arg_shapes)\u001b[0m\n\u001b[1;32m   3204\u001b[0m             \u001b[0marg_names\u001b[0m\u001b[0;34m=\u001b[0m\u001b[0marg_names\u001b[0m\u001b[0;34m,\u001b[0m\u001b[0;34m\u001b[0m\u001b[0;34m\u001b[0m\u001b[0m\n\u001b[1;32m   3205\u001b[0m             \u001b[0moverride_flat_arg_shapes\u001b[0m\u001b[0;34m=\u001b[0m\u001b[0moverride_flat_arg_shapes\u001b[0m\u001b[0;34m,\u001b[0m\u001b[0;34m\u001b[0m\u001b[0;34m\u001b[0m\u001b[0m\n\u001b[0;32m-> 3206\u001b[0;31m             capture_by_value=self._capture_by_value),\n\u001b[0m\u001b[1;32m   3207\u001b[0m         \u001b[0mself\u001b[0m\u001b[0;34m.\u001b[0m\u001b[0m_function_attributes\u001b[0m\u001b[0;34m,\u001b[0m\u001b[0;34m\u001b[0m\u001b[0;34m\u001b[0m\u001b[0m\n\u001b[1;32m   3208\u001b[0m         \u001b[0mfunction_spec\u001b[0m\u001b[0;34m=\u001b[0m\u001b[0mself\u001b[0m\u001b[0;34m.\u001b[0m\u001b[0mfunction_spec\u001b[0m\u001b[0;34m,\u001b[0m\u001b[0;34m\u001b[0m\u001b[0;34m\u001b[0m\u001b[0m\n",
            "\u001b[0;32m/usr/local/lib/python3.7/dist-packages/tensorflow/python/framework/func_graph.py\u001b[0m in \u001b[0;36mfunc_graph_from_py_func\u001b[0;34m(name, python_func, args, kwargs, signature, func_graph, autograph, autograph_options, add_control_dependencies, arg_names, op_return_value, collections, capture_by_value, override_flat_arg_shapes)\u001b[0m\n\u001b[1;32m    988\u001b[0m         \u001b[0m_\u001b[0m\u001b[0;34m,\u001b[0m \u001b[0moriginal_func\u001b[0m \u001b[0;34m=\u001b[0m \u001b[0mtf_decorator\u001b[0m\u001b[0;34m.\u001b[0m\u001b[0munwrap\u001b[0m\u001b[0;34m(\u001b[0m\u001b[0mpython_func\u001b[0m\u001b[0;34m)\u001b[0m\u001b[0;34m\u001b[0m\u001b[0;34m\u001b[0m\u001b[0m\n\u001b[1;32m    989\u001b[0m \u001b[0;34m\u001b[0m\u001b[0m\n\u001b[0;32m--> 990\u001b[0;31m       \u001b[0mfunc_outputs\u001b[0m \u001b[0;34m=\u001b[0m \u001b[0mpython_func\u001b[0m\u001b[0;34m(\u001b[0m\u001b[0;34m*\u001b[0m\u001b[0mfunc_args\u001b[0m\u001b[0;34m,\u001b[0m \u001b[0;34m**\u001b[0m\u001b[0mfunc_kwargs\u001b[0m\u001b[0;34m)\u001b[0m\u001b[0;34m\u001b[0m\u001b[0;34m\u001b[0m\u001b[0m\n\u001b[0m\u001b[1;32m    991\u001b[0m \u001b[0;34m\u001b[0m\u001b[0m\n\u001b[1;32m    992\u001b[0m       \u001b[0;31m# invariant: `func_outputs` contains only Tensors, CompositeTensors,\u001b[0m\u001b[0;34m\u001b[0m\u001b[0;34m\u001b[0m\u001b[0;34m\u001b[0m\u001b[0m\n",
            "\u001b[0;32m/usr/local/lib/python3.7/dist-packages/tensorflow/python/eager/def_function.py\u001b[0m in \u001b[0;36mwrapped_fn\u001b[0;34m(*args, **kwds)\u001b[0m\n\u001b[1;32m    632\u001b[0m             \u001b[0mxla_context\u001b[0m\u001b[0;34m.\u001b[0m\u001b[0mExit\u001b[0m\u001b[0;34m(\u001b[0m\u001b[0;34m)\u001b[0m\u001b[0;34m\u001b[0m\u001b[0;34m\u001b[0m\u001b[0m\n\u001b[1;32m    633\u001b[0m         \u001b[0;32melse\u001b[0m\u001b[0;34m:\u001b[0m\u001b[0;34m\u001b[0m\u001b[0;34m\u001b[0m\u001b[0m\n\u001b[0;32m--> 634\u001b[0;31m           \u001b[0mout\u001b[0m \u001b[0;34m=\u001b[0m \u001b[0mweak_wrapped_fn\u001b[0m\u001b[0;34m(\u001b[0m\u001b[0;34m)\u001b[0m\u001b[0;34m.\u001b[0m\u001b[0m__wrapped__\u001b[0m\u001b[0;34m(\u001b[0m\u001b[0;34m*\u001b[0m\u001b[0margs\u001b[0m\u001b[0;34m,\u001b[0m \u001b[0;34m**\u001b[0m\u001b[0mkwds\u001b[0m\u001b[0;34m)\u001b[0m\u001b[0;34m\u001b[0m\u001b[0;34m\u001b[0m\u001b[0m\n\u001b[0m\u001b[1;32m    635\u001b[0m         \u001b[0;32mreturn\u001b[0m \u001b[0mout\u001b[0m\u001b[0;34m\u001b[0m\u001b[0;34m\u001b[0m\u001b[0m\n\u001b[1;32m    636\u001b[0m \u001b[0;34m\u001b[0m\u001b[0m\n",
            "\u001b[0;32m/usr/local/lib/python3.7/dist-packages/tensorflow/python/framework/func_graph.py\u001b[0m in \u001b[0;36mwrapper\u001b[0;34m(*args, **kwargs)\u001b[0m\n\u001b[1;32m    975\u001b[0m           \u001b[0;32mexcept\u001b[0m \u001b[0mException\u001b[0m \u001b[0;32mas\u001b[0m \u001b[0me\u001b[0m\u001b[0;34m:\u001b[0m  \u001b[0;31m# pylint:disable=broad-except\u001b[0m\u001b[0;34m\u001b[0m\u001b[0;34m\u001b[0m\u001b[0m\n\u001b[1;32m    976\u001b[0m             \u001b[0;32mif\u001b[0m \u001b[0mhasattr\u001b[0m\u001b[0;34m(\u001b[0m\u001b[0me\u001b[0m\u001b[0;34m,\u001b[0m \u001b[0;34m\"ag_error_metadata\"\u001b[0m\u001b[0;34m)\u001b[0m\u001b[0;34m:\u001b[0m\u001b[0;34m\u001b[0m\u001b[0;34m\u001b[0m\u001b[0m\n\u001b[0;32m--> 977\u001b[0;31m               \u001b[0;32mraise\u001b[0m \u001b[0me\u001b[0m\u001b[0;34m.\u001b[0m\u001b[0mag_error_metadata\u001b[0m\u001b[0;34m.\u001b[0m\u001b[0mto_exception\u001b[0m\u001b[0;34m(\u001b[0m\u001b[0me\u001b[0m\u001b[0;34m)\u001b[0m\u001b[0;34m\u001b[0m\u001b[0;34m\u001b[0m\u001b[0m\n\u001b[0m\u001b[1;32m    978\u001b[0m             \u001b[0;32melse\u001b[0m\u001b[0;34m:\u001b[0m\u001b[0;34m\u001b[0m\u001b[0;34m\u001b[0m\u001b[0m\n\u001b[1;32m    979\u001b[0m               \u001b[0;32mraise\u001b[0m\u001b[0;34m\u001b[0m\u001b[0;34m\u001b[0m\u001b[0m\n",
            "\u001b[0;31mValueError\u001b[0m: in user code:\n\n    /usr/local/lib/python3.7/dist-packages/tensorflow/python/keras/engine/training.py:805 train_function  *\n        return step_function(self, iterator)\n    /usr/local/lib/python3.7/dist-packages/tensorflow/python/keras/engine/training.py:795 step_function  **\n        outputs = model.distribute_strategy.run(run_step, args=(data,))\n    /usr/local/lib/python3.7/dist-packages/tensorflow/python/distribute/distribute_lib.py:1259 run\n        return self._extended.call_for_each_replica(fn, args=args, kwargs=kwargs)\n    /usr/local/lib/python3.7/dist-packages/tensorflow/python/distribute/distribute_lib.py:2730 call_for_each_replica\n        return self._call_for_each_replica(fn, args, kwargs)\n    /usr/local/lib/python3.7/dist-packages/tensorflow/python/distribute/distribute_lib.py:3417 _call_for_each_replica\n        return fn(*args, **kwargs)\n    /usr/local/lib/python3.7/dist-packages/tensorflow/python/keras/engine/training.py:788 run_step  **\n        outputs = model.train_step(data)\n    /usr/local/lib/python3.7/dist-packages/tensorflow/python/keras/engine/training.py:756 train_step\n        y, y_pred, sample_weight, regularization_losses=self.losses)\n    /usr/local/lib/python3.7/dist-packages/tensorflow/python/keras/engine/compile_utils.py:203 __call__\n        loss_value = loss_obj(y_t, y_p, sample_weight=sw)\n    /usr/local/lib/python3.7/dist-packages/tensorflow/python/keras/losses.py:152 __call__\n        losses = call_fn(y_true, y_pred)\n    /usr/local/lib/python3.7/dist-packages/tensorflow/python/keras/losses.py:256 call  **\n        return ag_fn(y_true, y_pred, **self._fn_kwargs)\n    /usr/local/lib/python3.7/dist-packages/tensorflow/python/util/dispatch.py:201 wrapper\n        return target(*args, **kwargs)\n    /usr/local/lib/python3.7/dist-packages/tensorflow/python/keras/losses.py:1608 binary_crossentropy\n        K.binary_crossentropy(y_true, y_pred, from_logits=from_logits), axis=-1)\n    /usr/local/lib/python3.7/dist-packages/tensorflow/python/util/dispatch.py:201 wrapper\n        return target(*args, **kwargs)\n    /usr/local/lib/python3.7/dist-packages/tensorflow/python/keras/backend.py:4979 binary_crossentropy\n        return nn.sigmoid_cross_entropy_with_logits(labels=target, logits=output)\n    /usr/local/lib/python3.7/dist-packages/tensorflow/python/util/dispatch.py:201 wrapper\n        return target(*args, **kwargs)\n    /usr/local/lib/python3.7/dist-packages/tensorflow/python/ops/nn_impl.py:174 sigmoid_cross_entropy_with_logits\n        (logits.get_shape(), labels.get_shape()))\n\n    ValueError: logits and labels must have the same shape ((None, 154, 154, 1) vs (None, 1))\n"
          ]
        }
      ]
    },
    {
      "cell_type": "code",
      "metadata": {
        "id": "WNMm6KBUEGZG"
      },
      "source": [
        "# Evaluate the model on the test data using `evaluate`\n",
        "print(\"Evaluate on test data\")\n",
        "results = modelo.evaluate(X_test, y_test, batch_size=128)\n",
        "print(\"test loss, test acc:\", results)"
      ],
      "execution_count": null,
      "outputs": []
    },
    {
      "cell_type": "markdown",
      "metadata": {
        "id": "76S9Y8iSaPsh"
      },
      "source": [
        "## 0405 Predecimos\n"
      ]
    },
    {
      "cell_type": "code",
      "metadata": {
        "id": "o4tZXlPpbQs9"
      },
      "source": [
        "# Usamos la red neuronal para predecir sobre el dataset de entrenamiento\n",
        "y_pred_train = np.argmax(modelo.predict(X_train), axis=-1)\n",
        "\n",
        "# Usamos la red neuronal para predecir sobre el dataset de test\n",
        "y_pred_test = np.argmax(modelo.predict(X_test), axis=-1)"
      ],
      "execution_count": null,
      "outputs": []
    },
    {
      "cell_type": "code",
      "metadata": {
        "id": "H47CO0QaBkvl"
      },
      "source": [
        "# Calidad predicción train\n",
        "ac_train = round(accuracy_score(y_train, y_pred_train), 4)\n",
        "print('Precisión en set de entrenamiento :', ac_train)\n",
        "\n",
        "# Calidad predicción test\n",
        "ac_test = round(accuracy_score(y_test, y_pred_test), 4)\n",
        "print('Precisión en set de test :', ac_test)\n",
        "\n",
        "# Degradación de la predicción\n",
        "print('Degradación: ' + str(round((ac_test-ac_train)/ac_train*100,2)) + '%')"
      ],
      "execution_count": null,
      "outputs": []
    },
    {
      "cell_type": "markdown",
      "metadata": {
        "id": "7IIPvWOHMxbR"
      },
      "source": [
        "# 05 EJERCICIO\n",
        "Entrena una red neuronal que prediga si se da o no una complicación en una operación quirúrgica."
      ]
    },
    {
      "cell_type": "markdown",
      "metadata": {
        "id": "xjjzS8anOX76"
      },
      "source": [
        "## 0501 Carga el dataset de complicaciones quirúrgicas\n",
        "Aquí teneis el url del archivo raw del dataset: \n",
        "\n",
        "https://raw.githubusercontent.com/JotaBlanco/TheValley/main/Data/complicacion_quirurgica.csv\n",
        "\n",
        "Importa los datos en un dataframe llamado **dataframe df**."
      ]
    },
    {
      "cell_type": "code",
      "metadata": {
        "id": "kuoFbe8aOiHs"
      },
      "source": [
        "# Url archivo raw\n",
        "url = 'https://raw.githubusercontent.com/JotaBlanco/TheValley/main/Data/complicacion_quirurgica.csv'\n",
        "\n",
        "# Importa csv\n",
        "df = pd.read_csv(url, sep=',')\n",
        "\n",
        "# Visualización primeras filas\n",
        "df.head()"
      ],
      "execution_count": null,
      "outputs": []
    },
    {
      "cell_type": "code",
      "metadata": {
        "id": "yz4DtM4rTTjr"
      },
      "source": [
        "df.info()"
      ],
      "execution_count": null,
      "outputs": []
    },
    {
      "cell_type": "markdown",
      "metadata": {
        "id": "rhJogpicP7kh"
      },
      "source": [
        "## 0502 Estandarización\n",
        "Normaliza las variables numéricas para que estén en la misma escala.\n"
      ]
    },
    {
      "cell_type": "code",
      "metadata": {
        "id": "mteJGtsEPcAL"
      },
      "source": [
        "# columnas no binarias \n",
        "display(df.loc[:,df.isin([0,1]).all()==False].columns)\n",
        "\n",
        "# non-binary cols\n",
        "non_binary_cols = ['bmi', 'Age', 'asa_status', 'baseline_charlson', 'ahrq_ccs',\n",
        "       'ccsComplicationRate', 'ccsMort30Rate', 'complication_rsi', 'dow',\n",
        "       'hour', 'month', 'moonphase', 'mortality_rsi', 'race']"
      ],
      "execution_count": null,
      "outputs": []
    },
    {
      "cell_type": "code",
      "metadata": {
        "id": "ZPjQONSAUCEz"
      },
      "source": [
        "from sklearn.preprocessing import StandardScaler\n",
        "\n",
        "# Inicializamos objeto de normalización\n",
        "scaler = StandardScaler()\n",
        "\n",
        "# \"Entrenamos\" el objeto \n",
        "scaler.fit(df[non_binary_cols])\n",
        "\n",
        "# Transformamos las columnas no binarias\n",
        "df[non_binary_cols] = scaler.transform(df[non_binary_cols])\n",
        "\n",
        "df.head()"
      ],
      "execution_count": null,
      "outputs": []
    },
    {
      "cell_type": "markdown",
      "metadata": {
        "id": "B-PKz5IdUmg0"
      },
      "source": [
        "## 0503 Train - test\n",
        "Separa el dataset en train y test."
      ]
    },
    {
      "cell_type": "code",
      "metadata": {
        "id": "slRxMvcnUawL"
      },
      "source": [
        "# Primero generamos la matriz X con las variables predictoras \n",
        "# y el vector y con la variable a predecir\n",
        "X = df.drop('complication',axis=1)\n",
        "y = df['complication']\n",
        "\n",
        "# Comprueba sus tamaños\n",
        "X.shape, y.shape"
      ],
      "execution_count": null,
      "outputs": []
    },
    {
      "cell_type": "code",
      "metadata": {
        "id": "bnV8hiKCUg1_"
      },
      "source": [
        "# Haz la partición train-test\n",
        "X_train, X_test, y_train, y_test = train_test_split(X, \n",
        "                                                    y, \n",
        "                                                    test_size=0.33,\n",
        "                                                    random_state=42)\n",
        "\n",
        "# Comprueba sus tamaños\n",
        "X_train.shape, X_test.shape, y_train.shape, y_test.shape"
      ],
      "execution_count": null,
      "outputs": []
    },
    {
      "cell_type": "markdown",
      "metadata": {
        "id": "nsSa7ho9U3Ul"
      },
      "source": [
        "## 0504 Entrena una red neuronal\n",
        "Prueba de hecho varias, con distintas arquitecturas."
      ]
    },
    {
      "cell_type": "code",
      "metadata": {
        "id": "YuCi0tmWU0uj"
      },
      "source": [
        "# Inicializamos la red neuronal\n",
        "modelo_1 = Sequential([\n",
        "    Dense(1000, activation='relu', input_shape=(X.shape[1],)),\n",
        "    Dense(1000, activation='relu'),\n",
        "    Dense(1000, activation='relu'),\n",
        "    Dense(1000, activation='relu'),\n",
        "    Dense(1000, activation='relu'),\n",
        "    Dense(1000, activation='relu'),\n",
        "    Dense(1, activation=\"sigmoid\")\n",
        "    ], name = 'Red_1')\n",
        "\n",
        "modelo_1.compile(optimizer = 'sgd', \n",
        "               loss = 'binary_crossentropy', \n",
        "               metrics = ['accuracy'])\n",
        "\n",
        "modelo_1"
      ],
      "execution_count": null,
      "outputs": []
    },
    {
      "cell_type": "code",
      "metadata": {
        "id": "N_4ikUh1WFdJ"
      },
      "source": [
        "# Inicializamos la red neuronal\n",
        "modelo_2 = Sequential([\n",
        "    Dense(100, activation='relu', input_shape=(X.shape[1],)),\n",
        "    Dense(100, activation='relu'),\n",
        "    Dense(1, activation=\"sigmoid\")\n",
        "    ], name = 'Red_2')\n",
        "\n",
        "modelo_2.compile(optimizer = 'sgd', \n",
        "               loss = 'binary_crossentropy', \n",
        "               metrics = ['accuracy'])\n",
        "modelo_2"
      ],
      "execution_count": null,
      "outputs": []
    },
    {
      "cell_type": "code",
      "metadata": {
        "id": "no6l_zNMWMiu"
      },
      "source": [
        "modelo_1.fit(X_train, y_train, epochs=5, batch_size=50)\n",
        "\n",
        "# Evaluate the model on the test data using `evaluate`\n",
        "print(\"Evaluate on test data\")\n",
        "results = modelo_1.evaluate(X_test, y_test, batch_size=128)\n",
        "print(\"test loss, test acc:\", results)"
      ],
      "execution_count": null,
      "outputs": []
    },
    {
      "cell_type": "code",
      "metadata": {
        "id": "ndQKxJJrWqlT"
      },
      "source": [
        "modelo_2.fit(X_train, y_train, epochs=5, batch_size=50)\n",
        "\n",
        "# Evaluate the model on the test data using `evaluate`\n",
        "print(\"Evaluate on test data\")\n",
        "results = modelo_2.evaluate(X_test, y_test, batch_size=128)\n",
        "print(\"test loss, test acc:\", results)"
      ],
      "execution_count": null,
      "outputs": []
    },
    {
      "cell_type": "code",
      "metadata": {
        "id": "4XnMew_rWuGx"
      },
      "source": [
        "# Usamos la red neuronal para predecir sobre el dataset de entrenamiento\n",
        "y_pred_train = np.argmax(modelo_1.predict(X_train), axis=-1)\n",
        "\n",
        "# Usamos la red neuronal para predecir sobre el dataset de test\n",
        "y_pred_test = np.argmax(modelo_1.predict(X_test), axis=-1)\n",
        "\n",
        "# Calidad predicción train\n",
        "ac_train = round(accuracy_score(y_train, y_pred_train), 4)\n",
        "print('Precisión en set de entrenamiento :', ac_train)\n",
        "\n",
        "# Calidad predicción test\n",
        "ac_test = round(accuracy_score(y_test, y_pred_test), 4)\n",
        "print('Precisión en set de test :', ac_test)\n",
        "\n",
        "# Degradación de la predicción\n",
        "print('Degradación: ' + str(round((ac_test-ac_train)/ac_train*100,2)) + '%')"
      ],
      "execution_count": null,
      "outputs": []
    },
    {
      "cell_type": "code",
      "metadata": {
        "id": "YiPu99XqX54_"
      },
      "source": [
        "# Usamos la red neuronal para predecir sobre el dataset de entrenamiento\n",
        "y_pred_train = np.argmax(modelo_2.predict(X_train), axis=-1)\n",
        "\n",
        "# Usamos la red neuronal para predecir sobre el dataset de test\n",
        "y_pred_test = np.argmax(modelo_2.predict(X_test), axis=-1)\n",
        "\n",
        "# Calidad predicción train\n",
        "ac_train = round(accuracy_score(y_train, y_pred_train), 4)\n",
        "print('Precisión en set de entrenamiento :', ac_train)\n",
        "\n",
        "# Calidad predicción test\n",
        "ac_test = round(accuracy_score(y_test, y_pred_test), 4)\n",
        "print('Precisión en set de test :', ac_test)\n",
        "\n",
        "# Degradación de la predicción\n",
        "print('Degradación: ' + str(round((ac_test-ac_train)/ac_train*100,2)) + '%')"
      ],
      "execution_count": null,
      "outputs": []
    }
  ]
}