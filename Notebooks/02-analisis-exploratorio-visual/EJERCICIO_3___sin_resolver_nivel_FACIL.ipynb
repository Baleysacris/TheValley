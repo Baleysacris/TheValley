{
  "nbformat": 4,
  "nbformat_minor": 0,
  "metadata": {
    "colab": {
      "name": "EJERCICIO_3__ EDA Visual Covid.ipynb",
      "provenance": [],
      "toc_visible": true,
      "authorship_tag": "ABX9TyPnUp89RsO6dhFH0mJOJfB4",
      "include_colab_link": true
    },
    "kernelspec": {
      "name": "python3",
      "display_name": "Python 3"
    }
  },
  "cells": [
    {
      "cell_type": "markdown",
      "metadata": {
        "id": "view-in-github",
        "colab_type": "text"
      },
      "source": [
        "<a href=\"https://colab.research.google.com/github/JotaBlanco/TheValley/blob/main/Notebooks/02-analisis-exploratorio-visual/EJERCICIO_3___sin_resolver_nivel_FACIL.ipynb\" target=\"_parent\"><img src=\"https://colab.research.google.com/assets/colab-badge.svg\" alt=\"Open In Colab\"/></a>"
      ]
    },
    {
      "cell_type": "markdown",
      "metadata": {
        "id": "R53FGLN8jo1L"
      },
      "source": [
        "# INTRO: Ejercicio EDA Visual Covid\r\n",
        "Ejercicio para afianzar los conceptos básicos de EDA (Exploratory Data Analysis) Visual utilizando datos sobre la evolución del Covid.\r\n",
        "\r\n",
        "Notebook por [Javier Blanco Cordero](https://www.linkedin.com/in/javier-blanco-cordero-71373656/).\r\n",
        "\r\n",
        "### Enlaces de interés\r\n",
        "*   [Slides de presentación](https://docs.google.com/presentation/d/1N7MPSC7ntM-0ZEHlrN5xRTpT4uNDyU_o53GBvnojUx8/edit?usp=sharing)\r\n",
        "*   [Enlace a al notebook de Colab de la clase 2](https://colab.research.google.com/github/JotaBlanco/TheValley/blob/main/Notebooks/02-analisis-exploratorio-visual/02___Analisis_exploratorio_visual.ipynb)\r\n",
        "*   [Enlace a este notebook de Colab resuelto](https://colab.research.google.com/github/JotaBlanco/TheValley/blob/main/Notebooks/02-analisis-exploratorio-visual/EJERCICIO_3___EDA_Visual_Covid.ipynb)\r\n",
        "\r\n",
        "\r\n"
      ]
    },
    {
      "cell_type": "markdown",
      "metadata": {
        "id": "cnHRaho3rsXS"
      },
      "source": [
        "# 01 Import\r\n",
        "Importamos todas las librerías necesarias para este análisis ([¿No sabes lo que es una librería de Python?](https://www.quora.com/What-is-a-Python-library-and-what-can-I-use-it-for)).\r\n",
        "\r\n",
        "Incluye pandas, numpy, matplotlib y seaborn."
      ]
    },
    {
      "cell_type": "code",
      "metadata": {
        "id": "4be6xiUqjPHI"
      },
      "source": [
        "import pandas as pd\r\n",
        "import numpy as np\r\n",
        "import matplotlib.pyplot as plt\r\n",
        "import seaborn as sns"
      ],
      "execution_count": null,
      "outputs": []
    },
    {
      "cell_type": "markdown",
      "metadata": {
        "id": "B_0JTVo0sIvm"
      },
      "source": [
        "# 02 Load Data\r\n",
        "Recordemos, hemos visto 3 maneras de importar datos en Colab:\r\n",
        "\r\n",
        "*   Importar una tabla desde Github\r\n",
        "*   Cargar (y luego importar) una tabla de nuestro local\r\n",
        "*   Importar una tabla de Google Drive"
      ]
    },
    {
      "cell_type": "markdown",
      "metadata": {
        "id": "YUPn3Da-m0IV"
      },
      "source": [
        "### 0201 Importa dataframe Covid-19\r\n",
        "Os he dejado en mi Github: \r\n",
        "*   Los casos Covid-19 confirmados para ciertos países (esta es la ruta al archivo raw en GitHub https://raw.githubusercontent.com/JotaBlanco/TheValley/main/Data/Covid_Casos_Clean.csv). \r\n",
        "*   Las muertes por Covid-19 confirmadas para esos mismos países (esta es la ruta al archivo raw en github https://raw.githubusercontent.com/JotaBlanco/TheValley/main/Data/Covid_Muertes_Clean.csv). \r\n",
        "\r\n",
        "Para cada país, cada tabla contiene contiene:\r\n",
        "\r\n",
        "*   X: Los casos/fallecimientos confirmados acumulados en el país X\r\n",
        "*   X_REL: Los casos/fallecimientos confirmados acumulados en el país X por cada 100.000 habitantes. \r\n",
        "*   X_ult7: Los casos/fallecimientos confirmados en los últimos 7 días en el país X.\r\n",
        "*   X_REL_ult7: Los casos/fallecimientos confirmados en los últimos 7 días en el país X por cada 100.000 habitantes.\r\n",
        "\r\n",
        "Importa los datos del Covid como prefieras en dos dataframes: **df_casos_covid** y **df_muertes_covid** y modifica en ambos casos la **columna fecha para que esté en un formato de tipo fecha**."
      ]
    },
    {
      "cell_type": "code",
      "metadata": {
        "id": "yJK4TWmwhPA0"
      },
      "source": [
        "# Url archivo raw\r\n",
        "\r\n",
        "\r\n",
        "# Importa csv con read_csv\r\n",
        "df_casos_covid = \r\n",
        "\r\n",
        "# Visualización primeras filas\r\n"
      ],
      "execution_count": null,
      "outputs": []
    },
    {
      "cell_type": "code",
      "metadata": {
        "id": "zm3Hn6QnMpZf"
      },
      "source": [
        "# Url archivo raw\r\n",
        "\r\n",
        "\r\n",
        "# Importa csv con read_csv\r\n",
        "df_muertes_covid = \r\n",
        "\r\n",
        "# Visualización primeras filas\r\n"
      ],
      "execution_count": null,
      "outputs": []
    },
    {
      "cell_type": "code",
      "metadata": {
        "id": "fOD7SWSuRsUW"
      },
      "source": [
        "# Cambiamos el formato de la columna 'Date' en ambos archivos utilizando \r\n",
        "# la función pd.to_datetime()\r\n",
        "# Ejemplo con df_casos_covid\r\n",
        "df_casos_covid['Date'] = pd.to_datetime(df_casos_covid['Date'], format='%Y-%m-%d')\r\n",
        "\r\n",
        "# Haz lo mismo con df_muertes_covid\r\n",
        "df_muertes_covid['Date'] = pd.to_datetime(df_muertes_covid['Date'], format='%Y-%m-%d')"
      ],
      "execution_count": null,
      "outputs": []
    },
    {
      "cell_type": "markdown",
      "metadata": {
        "id": "6RSFZhw-igup"
      },
      "source": [
        "# 02 Comprobaciones básicas\r\n",
        "Comprueba el tamaño y variables de ambos dataframes.\r\n",
        "\r\n",
        "Son iguales?"
      ]
    },
    {
      "cell_type": "code",
      "metadata": {
        "id": "q9ODKmNFrM8Z"
      },
      "source": [
        "# Mira el tamaño usando la función .shape\r\n"
      ],
      "execution_count": null,
      "outputs": []
    },
    {
      "cell_type": "code",
      "metadata": {
        "id": "r6HLldUCbcVK"
      },
      "source": [
        "# Hay alguna columna en el dataframe de casos no presente en el de muertes?\r\n",
        "# Puedes ver la lista de columnas de cada dataframe con la función .columns\r\n"
      ],
      "execution_count": null,
      "outputs": []
    },
    {
      "cell_type": "markdown",
      "metadata": {
        "id": "mP7ySvYMsKDk"
      },
      "source": [
        "# 03 Crea dataframe tasa mortalidad\r\n",
        "Puesto que los dataframes son iguales (en cuanto a forma) podemos hacer operaciones con ellos.\r\n",
        "\r\n",
        "Crea un nuevo dataframe **df_tasa_mortalidad** que sea el resultado de dividir el dataframe con los fallecimientos entre el dataframe con el número de casos. Además, ten en cuenta: \r\n",
        "*   Las tasas de mortalidad no tienen tanto sentido para los últimos 7 días, ni tiene sentido el resultado de dividir las cifras en términos relativos, por lo que nos quedamos sólo con las columnas ['China', 'France', 'Germany', 'Italy', 'Portugal', 'Spain', 'UK', 'US']. \r\n",
        "*   Rellenamos también los nulos con 0.\r\n",
        "*   Convertimos las tasas de mortalidad en porcentajes con dos cifras decimales XX.XX%"
      ]
    },
    {
      "cell_type": "code",
      "metadata": {
        "id": "10pazHzUD4u3"
      },
      "source": [
        "# Crea una lista llamada cols con los nombres de las columnas con las que nos queremos quedar\r\n",
        "cols = [ ... ]"
      ],
      "execution_count": null,
      "outputs": []
    },
    {
      "cell_type": "code",
      "metadata": {
        "id": "VobNL3nhESyZ"
      },
      "source": [
        "# Generamos el dataframe df_tasa_mortalidad dividiendo el de muertes/casos\r\n",
        "df_tasa_mortalidad = df_muertes_covid[cols]/df_casos_covid[cols]\r\n",
        "\r\n",
        "# Visualiza las primeras filas del resultado\r\n"
      ],
      "execution_count": null,
      "outputs": []
    },
    {
      "cell_type": "code",
      "metadata": {
        "id": "lbVO9hBMsl0O"
      },
      "source": [
        "# Ahora añadimos la columna fecha\r\n",
        "df_tasa_mortalidad.insert(0, 'Date', df_casos_covid['Date'])\r\n",
        "df_tasa_mortalidad.head()"
      ],
      "execution_count": null,
      "outputs": []
    },
    {
      "cell_type": "code",
      "metadata": {
        "id": "kTMP4Z4WdS36"
      },
      "source": [
        "# Convertimos los nulls en 0s utilizando la función fillna\r\n"
      ],
      "execution_count": null,
      "outputs": []
    },
    {
      "cell_type": "code",
      "metadata": {
        "id": "roYykU85dZlu"
      },
      "source": [
        "# Convertimos las cifras en porcentajes (multiplicando por 100)\r\n"
      ],
      "execution_count": null,
      "outputs": []
    },
    {
      "cell_type": "code",
      "metadata": {
        "id": "e5YDFh20xgnx"
      },
      "source": [
        "# Visualizamos los primeros registros\r\n"
      ],
      "execution_count": null,
      "outputs": []
    },
    {
      "cell_type": "markdown",
      "metadata": {
        "id": "qyXEwUDNzHSG"
      },
      "source": [
        "# 04 Visualiza la evolución de la tasa de mortalidad\r\n",
        "Visualiza la evolución de la tasa de mortalidad para los distintos países, donde mostremos:\r\n",
        "- La línea de España en amarillo (con doble grosor)\r\n",
        "- La línea de China en rojo, la de UK en azul y la de US en negro\r\n",
        "\r\n",
        "Es decir, genera [esta imagen](https://drive.google.com/file/d/1ovUlcKY-ZVR1rxR-70BoWAuhPqpGgE2v/view?usp=sharing)."
      ]
    },
    {
      "cell_type": "code",
      "metadata": {
        "id": "LxZsha7-5mSp"
      },
      "source": [
        "# Utilizamos seaborn para mejorar la estética con la función set()\r\n",
        "\r\n",
        "['China', 'France', 'Germany', 'Italy', 'Portugal', 'Spain', 'UK', 'US']"
      ],
      "execution_count": null,
      "outputs": []
    },
    {
      "cell_type": "code",
      "metadata": {
        "id": "g1vjdko_zRJM"
      },
      "source": [
        "# Generamos la imagen con la visualización\r\n",
        "# Tamaño de la imagen (ancho, alto) (15,7) con plt.figure(figsize=())\r\n",
        "\r\n",
        "\r\n",
        "# Generamos el gráfico utilizando un loop sobre el nombre de cada país \r\n",
        "# (lo habíamos guardado ya en la lista cols)\r\n",
        "for pais in cols:\r\n",
        "\r\n",
        "  if pais == 'Spain':\r\n",
        "    # define el gráfico para España\r\n",
        "    plt.plot( ... )\r\n",
        "\r\n",
        "  elif pais == 'China':\r\n",
        "    # define el gráfico para China\r\n",
        "\r\n",
        "  elif ...\r\n",
        "\r\n",
        "  else:\r\n",
        "\r\n",
        "\r\n",
        "# Define los detalles de la imagen\r\n",
        "plt.xlabel(...)\r\n",
        "plt.ylabel(...)\r\n",
        "plt.title(...)\r\n",
        "plt.legend()\r\n",
        "\r\n",
        "# Muestra el resultado\r\n",
        "plt.show()"
      ],
      "execution_count": null,
      "outputs": []
    },
    {
      "cell_type": "markdown",
      "metadata": {
        "id": "zFRsuQUd9di6"
      },
      "source": [
        "## Reflexiona sobre el gráfico\r\n",
        "- 1) Si la tasa de mortalidad es una buena medida del control de la enfermedad (o más bien del posible desborde de los servicios hospitalarios) quién la está controlando mejor?\r\n",
        "\r\n",
        "- 2) Hay ciertos escalones en los datos, qué nos dice esto?\r\n",
        "\r\n",
        "- 3) Explica los datos de China, por qué su curva tiene una forma distinta? Su tasa de mortalidad a día de hoy es la peor, por qué? "
      ]
    },
    {
      "cell_type": "markdown",
      "metadata": {
        "id": "Ep8-8ns-Y5TO"
      },
      "source": [
        "# 05 Visualiza la Tasa de Mortalidad VS Otras Métricas\r\n",
        "Con el mismo código de colores que en el anterior ejercicio (si encuentras una forma de hacerlo rápido, si no puedes ver cómo ser haría en la solución), genera una imagen (fig) con 3 gráficos (ax) -en una sola columna- donde se visualice respectivamente:\r\n",
        "- Fallecimientos relativos últimos 7 días\r\n",
        "- Casos Confirmados relativos últimos 7 días\r\n",
        "- Tasa de Mortalidad\r\n",
        "\r\n",
        "Es decir, genera [esta imagen](https://drive.google.com/file/d/16SYlqCZ5NQ1S1JZpwR1J-Tq8-FGWysIO/view?usp=sharing)."
      ]
    },
    {
      "cell_type": "code",
      "metadata": {
        "id": "zVuN1s84-kP-"
      },
      "source": [
        "# Generamos los objetos fig y ax, y también el tamaño\r\n",
        "fig, (ax1, ax2, ax3) = plt.subplots(nrows=3, ncols=1)\r\n",
        "fig.tight_layout(pad=0)\r\n",
        "fig.set_size_inches(12,10)\r\n",
        "\r\n",
        "# Generamos el gráfico iterando sobre la lista con países\r\n",
        "for pais in cols:\r\n",
        "  \r\n",
        "  # Gráfico\r\n",
        "  ax1.plot(...)\r\n",
        "  ax1.set(...)\r\n",
        "  ax1.legend()\r\n",
        "  \r\n",
        "  ax2.plot(...)\r\n",
        "  ax2.set(...)\r\n",
        "  ax2.legend()\r\n",
        "  \r\n",
        "  ax3.plot(...)\r\n",
        "  ax3.set(...)\r\n",
        "  ax3.legend()\r\n",
        "\r\n",
        "plt.show()"
      ],
      "execution_count": null,
      "outputs": []
    },
    {
      "cell_type": "markdown",
      "metadata": {
        "id": "XnKwOk5aO28a"
      },
      "source": [
        "## Reflexiona sobre el gráfico\r\n",
        "- 1) Qué explica la evolución de la tasa de mortalidad en España (subida, seguida de una meseta, y una paulatina bajada)?\r\n",
        "- 2) Se aprecia un retardo entre las muertes y los casos?\r\n"
      ]
    },
    {
      "cell_type": "markdown",
      "metadata": {
        "id": "9QGqX95h85Ci"
      },
      "source": [
        "# 06 Comparar Tasas de Mortalidad\r\n",
        "Comparemos las tasas de mortalidad acumulada en 3 días específicos:\r\n",
        "- 1 de abril de 2020\r\n",
        "- 1 de julio de 2020\r\n",
        "- último día disponible\r\n",
        "\r\n",
        "Muéstralos utilizando 3 gráficos (ax) de barras horizontales en una sola figura, con los 3 gráficos en una sola fila.\r\n",
        "\r\n",
        "Es decir, genera [esta imagen](https://drive.google.com/file/d/1q-GVmf_R5VR7s6DmEQWxAE7Dv8xEoKH1/view?usp=sharing).\r\n"
      ]
    },
    {
      "cell_type": "code",
      "metadata": {
        "id": "dUnVxN5WOiLz"
      },
      "source": [
        "# Creamos tres variables con los días\r\n",
        "dia_1_abril = pd.to_datetime('20200401', format='%Y/%m/%d')\r\n",
        "dia_1_julio = pd.to_datetime('20200701', format='%Y/%m/%d')\r\n",
        "ult_dia = df_casos_covid['Date'].iloc[-1]"
      ],
      "execution_count": null,
      "outputs": []
    },
    {
      "cell_type": "code",
      "metadata": {
        "id": "Aj4-YEgrM5zE"
      },
      "source": [
        "# Genero los 3 ax en una variable \r\n",
        "fig, ax = plt.subplots(nrows=1, ncols=3)\r\n",
        "fig.tight_layout(pad=0)\r\n",
        "fig.set_size_inches(12,6)\r\n",
        "\r\n",
        "# Esta manera de hacer un loop me da \r\n",
        "# tanto el orden del elemento (0, 1, 2, ...)\r\n",
        "# como el valor del elemento (día 1 de abril, día 1 de julio, etc.)\r\n",
        "for i, dia in enumerate([dia_1_abril, dia_1_julio, ult_dia]):\r\n",
        "  \r\n",
        "  # Filtro día\r\n",
        "  filtro_dia = ....\r\n",
        "\r\n",
        "  # Crea una serie de pandas\r\n",
        "  serie_dia = df_tasa_mortalidad.loc[filtro_dia, cols].iloc[0,:]\r\n",
        "  \r\n",
        "  # Gráfico\r\n",
        "  ax[i].barh(...)\r\n",
        "  ax[i].set(...)\r\n",
        "  \r\n",
        "plt.show()"
      ],
      "execution_count": null,
      "outputs": []
    }
  ]
}