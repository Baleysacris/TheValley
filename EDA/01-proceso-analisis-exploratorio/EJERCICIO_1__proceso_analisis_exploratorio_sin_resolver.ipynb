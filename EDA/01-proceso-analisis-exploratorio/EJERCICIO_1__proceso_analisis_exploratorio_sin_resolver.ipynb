{
  "nbformat": 4,
  "nbformat_minor": 0,
  "metadata": {
    "colab": {
      "name": "EJERCICIO_1 _proceso-analisis-exploratorio.ipynb",
      "provenance": [],
      "toc_visible": true,
      "authorship_tag": "ABX9TyP+ACp/yZeemPjiyOGBNnqk",
      "include_colab_link": true
    },
    "kernelspec": {
      "name": "python3",
      "display_name": "Python 3"
    }
  },
  "cells": [
    {
      "cell_type": "markdown",
      "metadata": {
        "id": "view-in-github",
        "colab_type": "text"
      },
      "source": [
        "<a href=\"https://colab.research.google.com/github/JotaBlanco/TheValley/blob/main/EDA/01-proceso-analisis-exploratorio/EJERCICIO_1__proceso_analisis_exploratorio_sin_resolver.ipynb\" target=\"_parent\"><img src=\"https://colab.research.google.com/assets/colab-badge.svg\" alt=\"Open In Colab\"/></a>"
      ]
    },
    {
      "cell_type": "markdown",
      "metadata": {
        "id": "R53FGLN8jo1L"
      },
      "source": [
        "# EJERCICIO 1: Proceso Análisis Exploratorio \r\n",
        "Ejercicio para practicar la introducción al EDA (Exploratory Data Analysis).\r\n",
        "\r\n",
        "Notebook por [Javier Blanco Cordero](https://www.linkedin.com/in/javier-blanco-cordero-71373656/).\r\n",
        "\r\n",
        "### Enlaces de interés\r\n",
        "*   [Slides de presentación](https://docs.google.com/presentation/d/1IT6OVy9YS_sbgHF2oU9D0L--fZiyUfij7NxVhu3cAdg/edit?usp=sharing)\r\n",
        "*   [Enlace a notebook con introducción al EDA](https://colab.research.google.com/drive/1B37GMOCjKQ0S8NoRI6lALEW9EZtE0Hit#scrollTo=R53FGLN8jo1L)\r\n",
        "*   [Enlace a este notebook en Colab](https://colab.research.google.com/drive/1aZXkcqmcyM_tWf1VyYY68FkvAlpEUqMc#scrollTo=R53FGLN8jo1L)\r\n",
        "*   [Enlace al notebook con este ejercicio resuelto](https://colab.research.google.com/github/JotaBlanco/TheValley/blob/main/Notebooks/01-proceso-analisis-exploratorio/EJERCICIO_1__proceso_analisis_exploratorio.ipynb)\r\n",
        "\r\n",
        "\r\n"
      ]
    },
    {
      "cell_type": "markdown",
      "metadata": {
        "id": "exi-HUGCoCae"
      },
      "source": [
        "# Objetivo: EDA TITANIC\r\n",
        "Uno de los datasets más famosos para aprender ciencia de datos es el del Titanic. Contiene un resgistro real de las personas que embarcaron en el mismo, con variables como sexo, edad, tipo de billete... y la más truculenta de todas: si esa persona falleció o no. \r\n",
        "\r\n",
        "En este ejercicio estudiaremos haremos un análisis exploratorio de este Dataset."
      ]
    },
    {
      "cell_type": "markdown",
      "metadata": {
        "id": "cnHRaho3rsXS"
      },
      "source": [
        "# 01 Import\r\n",
        "Importamos pandas y numpy."
      ]
    },
    {
      "cell_type": "code",
      "metadata": {
        "id": "4be6xiUqjPHI"
      },
      "source": [
        ""
      ],
      "execution_count": null,
      "outputs": []
    },
    {
      "cell_type": "markdown",
      "metadata": {
        "id": "B_0JTVo0sIvm"
      },
      "source": [
        "# 02 Load Data\r\n",
        "Como ya hemos comentado, Kaggle es uno de los lugares de referencia para estudiar ciencia de datos. Entra en Kaggle, busca el dataset del Titanic y cárgalo este Notebook como tu prefieras.\r\n",
        "\r\n",
        "(Probablemente encuentres dos: train y test, por ahora podemos quedarnos con el train). Cárgalo a un dataframe con el nombre 'df'."
      ]
    },
    {
      "cell_type": "code",
      "metadata": {
        "id": "QcnvlCCkT-xR"
      },
      "source": [
        ""
      ],
      "execution_count": null,
      "outputs": []
    },
    {
      "cell_type": "markdown",
      "metadata": {
        "id": "KBOQJ0AjdYrM"
      },
      "source": [
        "# 03 Basic checks\r\n",
        "Una vez se han importado los datos, haz las comprobaciones básicas pertinentes para conocer el tamaño de la tabla, columnas presentes, visualizar algunos datos, conocer el tipo de dato de cada variable, etc."
      ]
    },
    {
      "cell_type": "code",
      "metadata": {
        "id": "9mYRz8Tty_br"
      },
      "source": [
        ""
      ],
      "execution_count": null,
      "outputs": []
    },
    {
      "cell_type": "markdown",
      "metadata": {
        "id": "J93MDkTffXXG"
      },
      "source": [
        "## 0301 Vista previa\r\n",
        "Visualiza, fijándote en cada variable:\r\n",
        "\r\n",
        "\r\n",
        "1.   Las 5 primeras filas\r\n",
        "2.   Las 3 últimas filas\r\n",
        "3.   Las filas 300 a 305\r\n"
      ]
    },
    {
      "cell_type": "code",
      "metadata": {
        "id": "Xr6XXUD3fIAO"
      },
      "source": [
        ""
      ],
      "execution_count": null,
      "outputs": []
    },
    {
      "cell_type": "code",
      "metadata": {
        "id": "qt-maoAZgOl3"
      },
      "source": [
        ""
      ],
      "execution_count": null,
      "outputs": []
    },
    {
      "cell_type": "code",
      "metadata": {
        "id": "TgGVIgGIgUD8"
      },
      "source": [
        ""
      ],
      "execution_count": null,
      "outputs": []
    },
    {
      "cell_type": "markdown",
      "metadata": {
        "id": "roYXoEuoeOB1"
      },
      "source": [
        "## 0302 Tamaño\r\n",
        "Cuantos pasajeros hay? Y cuántas variables?"
      ]
    },
    {
      "cell_type": "code",
      "metadata": {
        "id": "s6HaXEYPeJGU"
      },
      "source": [
        ""
      ],
      "execution_count": null,
      "outputs": []
    },
    {
      "cell_type": "markdown",
      "metadata": {
        "id": "ArizLXfs43CD"
      },
      "source": [
        "## 0303 Tipos de datos\r\n",
        "Qué tipos de datos contiene nuestro dataframe?"
      ]
    },
    {
      "cell_type": "code",
      "metadata": {
        "id": "Bf1-1v6desoJ"
      },
      "source": [
        ""
      ],
      "execution_count": null,
      "outputs": []
    },
    {
      "cell_type": "markdown",
      "metadata": {
        "id": "WJV8LAGGKkqG"
      },
      "source": [
        "# 04 Limpieza de Nulos\r\n",
        "Los nulos son habituales y un poco molestos. Constituyen una pérdida de información y pueden impedir ciertos cálculos.\r\n",
        "\r\n",
        "Es importante detectarlos y, cuando sea posible, corregirlos."
      ]
    },
    {
      "cell_type": "markdown",
      "metadata": {
        "id": "5Xe-BGZXM9Z7"
      },
      "source": [
        "## 0401 Nulos por variable\r\n",
        "Cuántos nulos hay en cada variables?"
      ]
    },
    {
      "cell_type": "code",
      "metadata": {
        "id": "_qvjjkpeLZPQ"
      },
      "source": [
        ""
      ],
      "execution_count": null,
      "outputs": []
    },
    {
      "cell_type": "markdown",
      "metadata": {
        "id": "e10yfv33N5DA"
      },
      "source": [
        "## 0402 Explorar Nulos\r\n",
        "Cuando sea posible es recomendable entender la causa de los nulos. Hay algún patrón que se repite entre ellos?\r\n",
        "\r\n",
        "Veámoslo para cada una de las variables con nulos:"
      ]
    },
    {
      "cell_type": "code",
      "metadata": {
        "id": "0nlEWyfhHWXn"
      },
      "source": [
        ""
      ],
      "execution_count": null,
      "outputs": []
    },
    {
      "cell_type": "markdown",
      "metadata": {
        "id": "Ly6PBQLTPRhs"
      },
      "source": [
        "## 0403 Tratamiento de Nulos\r\n",
        "Una vez hemos detectado los nulos presentes en la tabla podemos corregirlos de varias formas."
      ]
    },
    {
      "cell_type": "markdown",
      "metadata": {
        "id": "iApBnShqUCgY"
      },
      "source": [
        "### 040301 Corrección de nulos 'Age'\r\n",
        "No parece haber una causa evidente para que algunas edades no estén imputadas. Es una variable numérica que debemos rellenar también con valores numéricos. \r\n",
        "De más sencillo a más complejo, podríamos:\r\n",
        "\r\n",
        "\r\n",
        "1.   Rellenar los nulos con la mediana de los valores de edad no nulos\r\n",
        "2.   Rellenar los nulos de las mujeres con la mediana de edad de éstas, y los hombres con la suya\r\n",
        "3.   Rellenar los nulos sirviéndonos del título en el nombre, utilizando la mediana del resto de pasajeros con el mismo título.\r\n",
        "\r\n"
      ]
    },
    {
      "cell_type": "code",
      "metadata": {
        "id": "xTasKq19Kadd"
      },
      "source": [
        ""
      ],
      "execution_count": null,
      "outputs": []
    },
    {
      "cell_type": "code",
      "metadata": {
        "id": "MAq3sI7uVhIZ"
      },
      "source": [
        ""
      ],
      "execution_count": null,
      "outputs": []
    },
    {
      "cell_type": "markdown",
      "metadata": {
        "id": "wI816wXSNDPO"
      },
      "source": [
        "### 040302 Corrección de nulos 'Embarked'\r\n",
        "Solo hay dos nulos aquí, así que vamos a eliminar estas dos filas."
      ]
    },
    {
      "cell_type": "code",
      "metadata": {
        "id": "KkcM3kbTNv2O"
      },
      "source": [
        ""
      ],
      "execution_count": null,
      "outputs": []
    },
    {
      "cell_type": "code",
      "metadata": {
        "id": "4agQ5yG8Kxyn"
      },
      "source": [
        "# En cuanto a la columna 'Cabin', hay muchos nulos. Es además una \r\n",
        "# columna no numérica, así que vamos a dejarlos sin tocar al menos de momento."
      ],
      "execution_count": null,
      "outputs": []
    },
    {
      "cell_type": "code",
      "metadata": {
        "id": "TUKkPIh4LDb_"
      },
      "source": [
        ""
      ],
      "execution_count": null,
      "outputs": []
    },
    {
      "cell_type": "markdown",
      "metadata": {
        "id": "AX1SgTxG-LZe"
      },
      "source": [
        "# 05 Limpieza de datos\r\n",
        "A veces los datos se encuentran en formatos no adecuados.Pero esta vez no es así :). \r\n",
        "\r\n",
        "Sí podemos eliminar la columna PassengerId, que es redundante con el índice."
      ]
    },
    {
      "cell_type": "code",
      "metadata": {
        "id": "d07H-0uF-Ks0"
      },
      "source": [
        ""
      ],
      "execution_count": null,
      "outputs": []
    },
    {
      "cell_type": "markdown",
      "metadata": {
        "id": "I1BXptro9Zae"
      },
      "source": [
        "# 06 Distribución de variables\r\n",
        "Veamos cómo se distribuyen los valores del dataframe."
      ]
    },
    {
      "cell_type": "markdown",
      "metadata": {
        "id": "MaViOOsBIhyj"
      },
      "source": [
        "## 0601 Variables numéricas\r\n",
        "En cuanto a las variables de tipo numérico, cuáles son su media y estadísticos más importantes."
      ]
    },
    {
      "cell_type": "code",
      "metadata": {
        "id": "PzucmtY_I8an"
      },
      "source": [
        ""
      ],
      "execution_count": null,
      "outputs": []
    },
    {
      "cell_type": "markdown",
      "metadata": {
        "id": "uulu_p6WDgnc"
      },
      "source": [
        "## 0602 Variables categóricas\r\n",
        "Aquellas que pueden adoptar valores finitos. "
      ]
    },
    {
      "cell_type": "code",
      "metadata": {
        "id": "w_gXwHy69O3z"
      },
      "source": [
        ""
      ],
      "execution_count": null,
      "outputs": []
    },
    {
      "cell_type": "code",
      "metadata": {
        "id": "tjbhDGrlFADC"
      },
      "source": [
        ""
      ],
      "execution_count": null,
      "outputs": []
    },
    {
      "cell_type": "code",
      "metadata": {
        "id": "uHfSNt-hDn2c"
      },
      "source": [
        ""
      ],
      "execution_count": null,
      "outputs": []
    },
    {
      "cell_type": "code",
      "metadata": {
        "id": "rjd039L6QKrt"
      },
      "source": [
        ""
      ],
      "execution_count": null,
      "outputs": []
    },
    {
      "cell_type": "code",
      "metadata": {
        "id": "z6tPvuG9QL49"
      },
      "source": [
        ""
      ],
      "execution_count": null,
      "outputs": []
    },
    {
      "cell_type": "code",
      "metadata": {
        "id": "C-JaXEJMQWsc"
      },
      "source": [
        ""
      ],
      "execution_count": null,
      "outputs": []
    },
    {
      "cell_type": "markdown",
      "metadata": {
        "id": "5qJAdWYEQjo0"
      },
      "source": [
        "# 07 Preguntas sobre el dataset"
      ]
    },
    {
      "cell_type": "markdown",
      "metadata": {
        "id": "7H0_W-bWQr_k"
      },
      "source": [
        "De entre todos los pasajeros, \r\n",
        "### Qué % falleció?\r\n"
      ]
    },
    {
      "cell_type": "code",
      "metadata": {
        "id": "QRAWMOXpPDyE"
      },
      "source": [
        ""
      ],
      "execution_count": null,
      "outputs": []
    },
    {
      "cell_type": "markdown",
      "metadata": {
        "id": "XTrEkfYxRJrc"
      },
      "source": [
        "Es bastante famoso lo de \"mujeres y niños\" primero, sería cierto en el caso del Titanic?\r\n",
        "### Qué % de mujeres y hombres fallecieron?\r\n",
        "### Qué % de niños (menores de 10) y adultos (mayores) fallecieron?"
      ]
    },
    {
      "cell_type": "code",
      "metadata": {
        "id": "_ItgtxpoQ4Q9"
      },
      "source": [
        ""
      ],
      "execution_count": null,
      "outputs": []
    },
    {
      "cell_type": "code",
      "metadata": {
        "id": "w_6ZXJRprKsj"
      },
      "source": [
        ""
      ],
      "execution_count": null,
      "outputs": []
    },
    {
      "cell_type": "markdown",
      "metadata": {
        "id": "3SPPBz2lTG9O"
      },
      "source": [
        "Pues parece que en el Titanic sí se cumplió lo de \"mujeres y niños primero\". En la película también se salvaba más la gente de clase alta, con dinero, será cierto?\r\n",
        "### Qué % fallece según su clase de billete (1, 2, 3)?"
      ]
    },
    {
      "cell_type": "code",
      "metadata": {
        "id": "tlsKDlD3SxzT"
      },
      "source": [
        ""
      ],
      "execution_count": null,
      "outputs": []
    },
    {
      "cell_type": "markdown",
      "metadata": {
        "id": "JpCtRm7kUzue"
      },
      "source": [
        "Incidamos en esto.\r\n",
        "\r\n",
        "### Qué % fallece entre los 50 que pagaron más por su billete y los 50 que menos?"
      ]
    },
    {
      "cell_type": "code",
      "metadata": {
        "id": "dCr6NS1-UGFL"
      },
      "source": [
        ""
      ],
      "execution_count": null,
      "outputs": []
    },
    {
      "cell_type": "code",
      "metadata": {
        "id": "I7553Y8qUl0K"
      },
      "source": [
        ""
      ],
      "execution_count": null,
      "outputs": []
    },
    {
      "cell_type": "markdown",
      "metadata": {
        "id": "TBCRWsZPruLF"
      },
      "source": [
        "Los pasajeros embarcaron desde 3 puertos,\r\n",
        "\r\n",
        "### En alguno falleció más porcentaje de gente que en el resto?"
      ]
    },
    {
      "cell_type": "code",
      "metadata": {
        "id": "HytoEjG6VSzB"
      },
      "source": [
        ""
      ],
      "execution_count": null,
      "outputs": []
    },
    {
      "cell_type": "code",
      "metadata": {
        "id": "DG3DrIdTsKRM"
      },
      "source": [
        ""
      ],
      "execution_count": null,
      "outputs": []
    }
  ]
}