{
  "nbformat": 4,
  "nbformat_minor": 0,
  "metadata": {
    "colab": {
      "name": "EJERCICIO_5__ EDA Visual Funcion Scatter.ipynb",
      "provenance": [],
      "toc_visible": true,
      "authorship_tag": "ABX9TyMAfCMLWVOrLPQolV3EIrQB",
      "include_colab_link": true
    },
    "kernelspec": {
      "name": "python3",
      "display_name": "Python 3"
    }
  },
  "cells": [
    {
      "cell_type": "markdown",
      "metadata": {
        "id": "view-in-github",
        "colab_type": "text"
      },
      "source": [
        "<a href=\"https://colab.research.google.com/github/JotaBlanco/TheValley/blob/main/Notebooks/02-analisis-exploratorio-visual/EJERCICIO_5___EDA_Visual_Funcion_Scatter.ipynb\" target=\"_parent\"><img src=\"https://colab.research.google.com/assets/colab-badge.svg\" alt=\"Open In Colab\"/></a>"
      ]
    },
    {
      "cell_type": "markdown",
      "metadata": {
        "id": "R53FGLN8jo1L"
      },
      "source": [
        "# INTRO: Función Correlación\r\n",
        "Ejercicio para completar los conceptos de EDA Visual definiendo una función personalizada.\r\n",
        "\r\n",
        "Notebook por [Javier Blanco Cordero](https://www.linkedin.com/in/javier-blanco-cordero-71373656/).\r\n",
        "\r\n",
        "### Enlaces de interés\r\n",
        "*   [Slides de presentación](https://docs.google.com/presentation/d/1N7MPSC7ntM-0ZEHlrN5xRTpT4uNDyU_o53GBvnojUx8/edit?usp=sharing)\r\n",
        "*   [Enlace a al notebook de Colab de la clase 2](https://colab.research.google.com/github/JotaBlanco/TheValley/blob/main/Notebooks/02-analisis-exploratorio-visual/02___Analisis_exploratorio_visual.ipynb)\r\n",
        "*   [Enlace a este notebook de Colab](https://colab.research.google.com/github/JotaBlanco/TheValley/blob/main/Notebooks/02-analisis-exploratorio-visual/EJERCICIO_4___EDA_Visual_Barsa_Madrid.ipynb)\r\n",
        "\r\n"
      ]
    },
    {
      "cell_type": "markdown",
      "metadata": {
        "id": "cnHRaho3rsXS"
      },
      "source": [
        "# 01 Import\r\n",
        "Importamos todas las librerías necesarias para este análisis ([¿No sabes lo que es una librería de Python?](https://www.quora.com/What-is-a-Python-library-and-what-can-I-use-it-for)).\r\n",
        "\r\n",
        "Necesitaremos pandas, numpy, matplotlib.pyplot y seaborn."
      ]
    },
    {
      "cell_type": "code",
      "metadata": {
        "id": "4be6xiUqjPHI"
      },
      "source": [
        ""
      ],
      "execution_count": 59,
      "outputs": []
    },
    {
      "cell_type": "markdown",
      "metadata": {
        "id": "B_0JTVo0sIvm"
      },
      "source": [
        "# 02 Objetivo: Función correlación\r\n",
        "El objetivo es crear una función que evalúe la correlación entre dos vectores, tanto numéricamente como visualmente. La función tomará como inputs el vector 1, el nombre del vector 1, el vector 2 y el nombre del vector 2.\r\n",
        "\r\n",
        "La función mostrará en una misma imagen un diagrama de dispersión (scatter plot) y el coeficiente de pearson en gran formato (se puede calcular, por ejemplo, con [np.corrcoef()](https://numpy.org/doc/stable/reference/generated/numpy.corrcoef.html). \r\n",
        "\r\n",
        "Puedes importar el dataset que quieras para probar tu función. El del fifa 19 tiene varias variables numéricas con una correlación importante. Pero no tienes por qué escoger este.\r\n",
        "\r\n",
        "En definitiva, tu función debe devolver una imagen [como esta](https://drive.google.com/file/d/1FLoV0mn4zop5MmaSGZXVucQWdfdNwink/view?usp=sharing)."
      ]
    },
    {
      "cell_type": "code",
      "metadata": {
        "id": "HAe4wephIW8a"
      },
      "source": [
        ""
      ],
      "execution_count": 59,
      "outputs": []
    },
    {
      "cell_type": "markdown",
      "metadata": {
        "id": "6RSFZhw-igup"
      },
      "source": [
        "# 03 Crea la función\r\n"
      ]
    },
    {
      "cell_type": "code",
      "metadata": {
        "id": "g28ChIuh4ued"
      },
      "source": [
        ""
      ],
      "execution_count": 65,
      "outputs": []
    },
    {
      "cell_type": "markdown",
      "metadata": {
        "id": "onuYHsoh5tic"
      },
      "source": [
        "# 04 Prueba tu función\r\n",
        "Con varios pares de vectores."
      ]
    },
    {
      "cell_type": "code",
      "metadata": {
        "id": "F_wphZBN6ijE"
      },
      "source": [
        ""
      ],
      "execution_count": null,
      "outputs": []
    }
  ]
}