{
  "nbformat": 4,
  "nbformat_minor": 0,
  "metadata": {
    "colab": {
      "name": "02 _ Analisis-exploratorio-visual.ipynb",
      "provenance": [],
      "toc_visible": true,
      "authorship_tag": "ABX9TyO9zlpHSEGNauBw7jMgJ71u",
      "include_colab_link": true
    },
    "kernelspec": {
      "name": "python3",
      "display_name": "Python 3"
    }
  },
  "cells": [
    {
      "cell_type": "markdown",
      "metadata": {
        "id": "view-in-github",
        "colab_type": "text"
      },
      "source": [
        "<a href=\"https://colab.research.google.com/github/JotaBlanco/TheValley/blob/main/EDA/02-analisis-exploratorio-visual/02___Analisis_exploratorio_visual.ipynb\" target=\"_parent\"><img src=\"https://colab.research.google.com/assets/colab-badge.svg\" alt=\"Open In Colab\"/></a>"
      ]
    },
    {
      "cell_type": "markdown",
      "metadata": {
        "id": "R53FGLN8jo1L"
      },
      "source": [
        "# INTRO: Análisis Exploratorio Visual\n",
        "Introducción al EDA (Exploratory Data Analysis) Visual.\n",
        "\n",
        "Notebook por [Javier Blanco Cordero](https://www.linkedin.com/in/javier-blanco-cordero-71373656/).\n",
        "\n",
        "### Enlaces de interés\n",
        "*   [Slides de presentación](https://docs.google.com/presentation/d/1N7MPSC7ntM-0ZEHlrN5xRTpT4uNDyU_o53GBvnojUx8/edit?usp=sharing)\n",
        "*   [Enlace a este notebook en Colab](https://colab.research.google.com/github/JotaBlanco/TheValley/blob/main/Notebooks/02-analisis-exploratorio-visual/02___Analisis_exploratorio_visual.ipynb)\n",
        "\n",
        "\n"
      ]
    },
    {
      "cell_type": "markdown",
      "metadata": {
        "id": "cnHRaho3rsXS"
      },
      "source": [
        "# 01 Import and Load Data"
      ]
    },
    {
      "cell_type": "markdown",
      "metadata": {
        "id": "Rd2IQbHKTIuV"
      },
      "source": [
        "## 0102 Import \n",
        "Importamos todas las librerías necesarias para este análisis ([¿No sabes lo que es una librería de Python?](https://www.quora.com/What-is-a-Python-library-and-what-can-I-use-it-for))."
      ]
    },
    {
      "cell_type": "code",
      "metadata": {
        "id": "4be6xiUqjPHI"
      },
      "source": [
        "import pandas as pd\n",
        "import numpy as np"
      ],
      "execution_count": null,
      "outputs": []
    },
    {
      "cell_type": "markdown",
      "metadata": {
        "id": "B_0JTVo0sIvm"
      },
      "source": [
        "## 0102 Load Data\n",
        "Recordemos, hemos visto 3 maneras de importar datos en Colab:\n",
        "\n",
        "*   Importar una tabla desde Github\n",
        "*   Cargar (y luego importar) una tabla de nuestro local\n",
        "*   Importar una tabla de Google Drive"
      ]
    },
    {
      "cell_type": "markdown",
      "metadata": {
        "id": "X9uX8-ujlaWO"
      },
      "source": [
        "### 010201 Importa dataframe SP500\n",
        "Lo importamos en un dataframe df_sp500 y modificamos la columna con la fecha a formato fecha."
      ]
    },
    {
      "cell_type": "code",
      "metadata": {
        "id": "Dl1KyH6oIk7K"
      },
      "source": [
        "# Url archivo raw\n",
        "url = 'https://raw.githubusercontent.com/JotaBlanco/TheValley/main/Data/sp500.csv'\n",
        "\n",
        "# Importa csv\n",
        "df_sp500 = pd.read_csv(url)\n",
        "\n",
        "# Visualización primeras filas\n",
        "df_sp500.head()"
      ],
      "execution_count": null,
      "outputs": []
    },
    {
      "cell_type": "code",
      "metadata": {
        "id": "hgpaVVFsjyhy"
      },
      "source": [
        "# Cambiamos el formato de la columna 'Date'\n",
        "df_sp500['Date'] = pd.to_datetime(\n",
        "    df_sp500['Date'], format='%Y-%m-%d', errors='ignore')"
      ],
      "execution_count": null,
      "outputs": []
    },
    {
      "cell_type": "markdown",
      "metadata": {
        "id": "YUPn3Da-m0IV"
      },
      "source": [
        "### 010202 EJERCICIO Importa dataframe Covid-19\n",
        "Os he dejado en mi Github: \n",
        "*   Los casos Covid-19 confirmados para ciertos países (esta es la ruta al archivo raw en GitHub https://raw.githubusercontent.com/JotaBlanco/TheValley/main/Data/Covid_Casos_Clean.csv). \n",
        "*   Las muertes por Covid-19 confirmadas para esos mismos países (esta es la ruta al archivo raw en github https://raw.githubusercontent.com/JotaBlanco/TheValley/main/Data/Covid_Muertes_Clean.csv). \n",
        "\n",
        "Para cada país, cada tabla contiene contiene:\n",
        "\n",
        "*   X: Los casos/fallecimientos confirmados acumulados en el país X\n",
        "*   X_REL: Los casos/fallecimientos confirmados acumulados en el país X por cada 100.000 habitantes. \n",
        "*   X_ult7: Los casos/fallecimientos confirmados en los últimos 7 días en el país X.\n",
        "*   X_REL_ult7: Los casos/fallecimientos confirmados en los últimos 7 días en el país X por cada 100.000 habitantes.\n",
        "\n",
        "Importa los datos del Covid como prefieras en dos dataframes: **df_casos_covid** y **df_muertes_covid** y modifica en ambos casos la **columna fecha para que esté en un formato de tipo fecha**."
      ]
    },
    {
      "cell_type": "code",
      "metadata": {
        "id": "975fu221OHlk"
      },
      "source": [
        "# Url archivo raw\n",
        "url = 'https://raw.githubusercontent.com/JotaBlanco/TheValley/main/Data/Covid_Casos_Clean.csv'\n",
        "\n",
        "# Importa csv\n",
        "df_casos_covid = pd.read_csv(url)\n",
        "\n",
        "# Visualización primeras filas\n",
        "df_casos_covid.head()"
      ],
      "execution_count": null,
      "outputs": []
    },
    {
      "cell_type": "code",
      "metadata": {
        "id": "IWbJaXkcOPU1"
      },
      "source": [
        "# Url archivo raw\n",
        "url = 'https://raw.githubusercontent.com/JotaBlanco/TheValley/main/Data/Covid_Muertes_Clean.csv'\n",
        "\n",
        "# Importa csv\n",
        "df_muertes_covid = pd.read_csv(url)\n",
        "\n",
        "# Visualización primeras filas\n",
        "df_muertes_covid.head()"
      ],
      "execution_count": null,
      "outputs": []
    },
    {
      "cell_type": "code",
      "metadata": {
        "id": "fOD7SWSuRsUW"
      },
      "source": [
        "# Cambiamos el formato de la columna 'Date' en ambos dataframes\n",
        "df_casos_covid['Date'] = pd.to_datetime(\n",
        "    df_casos_covid['Date'], format='%Y-%m-%d', errors='ignore')\n",
        "\n",
        "df_muertes_covid['Date'] = pd.to_datetime(\n",
        "    df_muertes_covid['Date'], format='%Y-%m-%d', errors='ignore')"
      ],
      "execution_count": null,
      "outputs": []
    },
    {
      "cell_type": "markdown",
      "metadata": {
        "id": "AblkT14d4Gvt"
      },
      "source": [
        "### 010203 Importa dataframe Fifa19\n",
        "Importamos este dataset ya limpiado en un dataframe llamado **df_fifa19**. De nuevo está en mi GitHub https://raw.githubusercontent.com/JotaBlanco/TheValley/main/Data/Fifa19_Clean.csv.\n"
      ]
    },
    {
      "cell_type": "code",
      "metadata": {
        "id": "HAe4wephIW8a"
      },
      "source": [
        "# Url archivo raw\n",
        "url = 'https://raw.githubusercontent.com/JotaBlanco/TheValley/main/Data/Fifa19_Clean.csv'\n",
        "\n",
        "# Importa csv\n",
        "df_fifa19 = pd.read_csv(url)\n",
        "\n",
        "# Visualización primeras filas\n",
        "df_fifa19.head()"
      ],
      "execution_count": null,
      "outputs": []
    },
    {
      "cell_type": "markdown",
      "metadata": {
        "id": "6RSFZhw-igup"
      },
      "source": [
        "# 02 Matplotlib\n",
        "[Matplotlib](https://matplotlib.org/index.html) es la principal librería de python para visualizar datos. Es extensa, flexible y robusta. El punto de partida perfecto para visualizar datos.\n",
        "\n",
        "Veamos cómo se utiliza."
      ]
    },
    {
      "cell_type": "code",
      "metadata": {
        "id": "r6HLldUCbcVK"
      },
      "source": [
        "# Se suele importar como plt\n",
        "import matplotlib.pyplot as plt"
      ],
      "execution_count": null,
      "outputs": []
    },
    {
      "cell_type": "markdown",
      "metadata": {
        "id": "MDctGmqNjSMv"
      },
      "source": [
        "## 0201 plt.plot()\n",
        "plt.[plot()](https://matplotlib.org/3.3.3/api/_as_gen/matplotlib.pyplot.plot.html) es la función básica de Pyplot."
      ]
    },
    {
      "cell_type": "code",
      "metadata": {
        "id": "S3rfrKHDlxJA"
      },
      "source": [
        "df_sp500.head()"
      ],
      "execution_count": null,
      "outputs": []
    },
    {
      "cell_type": "code",
      "metadata": {
        "id": "eTeSQAVBjjXk"
      },
      "source": [
        "# Un solo argumento:\n",
        "plt.plot(df_sp500['Close'])"
      ],
      "execution_count": null,
      "outputs": []
    },
    {
      "cell_type": "code",
      "metadata": {
        "id": "xOBMUQIFieoq"
      },
      "source": [
        "# Dos argumentos: x, y\n",
        "plt.plot(df_sp500['Date'], df_sp500['Close'])"
      ],
      "execution_count": null,
      "outputs": []
    },
    {
      "cell_type": "code",
      "metadata": {
        "id": "8KRHX89Kk0xF"
      },
      "source": [
        "# Añadimos detalles\n",
        "plt.plot(df_sp500['Date'], df_sp500['Close'], color='red')\n",
        "plt.title('Histórico SP&500')\n",
        "plt.xlabel('Año')\n",
        "plt.ylabel('Valor')\n",
        "plt.yscale('log')\n",
        "plt.show()"
      ],
      "execution_count": null,
      "outputs": []
    },
    {
      "cell_type": "markdown",
      "metadata": {
        "id": "WS0Ufp6jZVJi"
      },
      "source": [
        "### 020101 EJEMPLO: Evolución Covid\n",
        "Visualiza la evolución de casos acumulados de los países que contiene el dataframe.\n",
        "\n",
        "Veamos varias visualizaciones útiles:"
      ]
    },
    {
      "cell_type": "code",
      "metadata": {
        "id": "RUq1Z5RvltCB"
      },
      "source": [
        "df_casos_covid.head(3)"
      ],
      "execution_count": null,
      "outputs": []
    },
    {
      "cell_type": "code",
      "metadata": {
        "id": "5GQoWHTlZstp"
      },
      "source": [
        "# Simplemente se añaden\n",
        "plt.plot(df_casos_covid['Date'], df_casos_covid['Italy'], label='Italia')\n",
        "plt.plot(df_casos_covid['Date'], df_casos_covid['Portugal'], label='Portugal')\n",
        "plt.plot(df_casos_covid['Date'], df_casos_covid['Spain'], label='España')\n",
        "plt.plot(df_casos_covid['Date'], df_casos_covid['UK'], label='UK')\n",
        "plt.title('Evolución casos')\n",
        "plt.xlabel('Fecha')\n",
        "plt.ylabel('Casos confirmados acumulados')\n",
        "plt.legend()\n",
        "plt.show()"
      ],
      "execution_count": null,
      "outputs": []
    },
    {
      "cell_type": "code",
      "metadata": {
        "id": "stkQ3bWXfTpQ"
      },
      "source": [
        "df_casos_covid.columns"
      ],
      "execution_count": null,
      "outputs": []
    },
    {
      "cell_type": "code",
      "metadata": {
        "id": "-vA6ccbhRIGg"
      },
      "source": [
        "# En un loop\n",
        "plt.figure(figsize=(10, 7))\n",
        "for pais in ['France_REL', 'Germany_REL', 'Italy_REL', 'Portugal_REL', 'Spain_REL', 'US_REL', 'UK_REL', 'China_REL']:\n",
        "    plt.plot(df_casos_covid['Date'], df_casos_covid[pais], label=pais)\n",
        "plt.legend()\n",
        "plt.title('Casos acumulados')\n",
        "plt.xlabel('Fecha')\n",
        "plt.ylabel('Número de casos confirmados por cada 100mil habitantes')\n",
        "plt.show()"
      ],
      "execution_count": null,
      "outputs": []
    },
    {
      "cell_type": "code",
      "metadata": {
        "id": "1sDAaw-HmNiR"
      },
      "source": [
        "# En un loop definiendo los colores\n",
        "plt.figure(figsize=(10, 7))\n",
        "for pais in ['France_REL', 'Germany_REL', 'Italy_REL', 'Portugal_REL', 'Spain_REL', 'US_REL', 'UK_REL', 'China_REL']:\n",
        "  if pais == 'Spain_REL':\n",
        "    plt.plot(df_casos_covid['Date'], df_casos_covid[pais], label=pais, linewidth=2, color='red')\n",
        "  else:\n",
        "    plt.plot(df_casos_covid['Date'], df_casos_covid[pais], label=pais, color='grey')\n",
        "  plt.legend()\n",
        "plt.title('Casos acumulados')\n",
        "plt.xlabel('Fecha')\n",
        "plt.ylabel('Número de casos confirmados por cada 100mil habitantes')\n",
        "plt.show()"
      ],
      "execution_count": null,
      "outputs": []
    },
    {
      "cell_type": "markdown",
      "metadata": {
        "id": "jHSXb17eeziR"
      },
      "source": [
        "### 020102 EJERCICIO: Evolución Covid\n",
        "\n"
      ]
    },
    {
      "cell_type": "markdown",
      "metadata": {
        "id": "14ZS2cYhQfzl"
      },
      "source": [
        "*   Primero, muestra el número de casos acumulados en España por cada 100.000 habitantes: columna 'Spain_REL'."
      ]
    },
    {
      "cell_type": "code",
      "metadata": {
        "id": "eaV6FJt7QtKj"
      },
      "source": [
        "plt.figure(figsize=(10, 7))\n",
        "plt.plot(df_casos_covid['Date'], df_casos_covid['Spain_REL'], label='Spain')\n",
        "plt.legend()\n",
        "plt.title('Casos acumulados en España')\n",
        "plt.xlabel('Fecha')\n",
        "plt.ylabel('Número de casos confirmados por cada 100mil habitantes')\n",
        "plt.show()"
      ],
      "execution_count": null,
      "outputs": []
    },
    {
      "cell_type": "markdown",
      "metadata": {
        "id": "qkjxyWvDRh4a"
      },
      "source": [
        "*   Ahora, muestra el número de casos acumulados en los últimos 7 días en España, Italia, UK y Portugal por cada 100.000 habitantes: columnas 'Italy_REL_ult7', 'Portugal_REL_ult7', 'Spain_REL_ult7', 'UK_REL_ult7'."
      ]
    },
    {
      "cell_type": "code",
      "metadata": {
        "id": "r_fb3_zhSMSb"
      },
      "source": [
        "plt.figure(figsize=(10, 7))\n",
        "for pais in [ 'Italy_REL_ult7', 'Portugal_REL_ult7', 'Spain_REL_ult7', 'UK_REL_ult7']:\n",
        "  plt.plot(df_casos_covid['Date'], df_casos_covid[pais], label=pais)\n",
        "  plt.legend()\n",
        "plt.title('Casos en los últimos 7 días')\n",
        "plt.xlabel('Fecha')\n",
        "plt.ylabel('Número de casos confirmados por cada 100mil habitantes')\n",
        "plt.show()"
      ],
      "execution_count": null,
      "outputs": []
    },
    {
      "cell_type": "markdown",
      "metadata": {
        "id": "Qhm-UJjbSkVW"
      },
      "source": [
        "*   Por último, muestra el número de casos acumulados en los últimos 7 días por cada 100.000 habitantes para todos los países disponibles. Muestra a China en azul, España en rojo y con anchura de 3, a US en negro, y el resto de países en gris."
      ]
    },
    {
      "cell_type": "code",
      "metadata": {
        "id": "72DvE_-plTCC"
      },
      "source": [
        "# Sin colores definidos\n",
        "plt.figure(figsize=(10, 7))\n",
        "for pais in ['France_REL_ult7', 'Germany_REL_ult7', 'Italy_REL_ult7', 'Portugal_REL_ult7', \n",
        "             'Spain_REL_ult7', 'US_REL_ult7', 'UK_REL_ult7', 'China_REL_ult7']:\n",
        "  plt.plot(df_casos_covid['Date'], df_casos_covid[pais], label=pais)\n",
        "  plt.legend()\n",
        "plt.title('Casos en los últimos 7 días')\n",
        "plt.xlabel('Fecha')\n",
        "plt.ylabel('Número de casos confirmados por cada 100mil habitantes')\n",
        "plt.show()"
      ],
      "execution_count": null,
      "outputs": []
    },
    {
      "cell_type": "code",
      "metadata": {
        "id": "2zji_V-NfRkQ"
      },
      "source": [
        "# En un loop\n",
        "plt.figure(figsize=(10, 7))\n",
        "for pais in ['France_REL_ult7', 'Germany_REL_ult7', 'Italy_REL_ult7', 'Portugal_REL_ult7', \n",
        "             'Spain_REL_ult7', 'US_REL_ult7', 'UK_REL_ult7', 'China_REL_ult7']:\n",
        "  if pais == 'Spain_REL_ult7':\n",
        "    plt.plot(df_casos_covid['Date'], df_casos_covid[pais], linewidth=2, label=pais, color='red')\n",
        "  elif pais == 'China_REL_ult7':\n",
        "    plt.plot(df_casos_covid['Date'], df_casos_covid[pais], label=pais, color='blue')\n",
        "  elif pais == 'US_REL_ult7':\n",
        "    plt.plot(df_casos_covid['Date'], df_casos_covid[pais], label=pais, color='black')\n",
        "  else:\n",
        "    plt.plot(df_casos_covid['Date'], df_casos_covid[pais], label=pais, color='grey')\n",
        "  plt.legend()\n",
        "plt.title('Casos en los últimos 7 días')\n",
        "plt.xlabel('Fecha')\n",
        "plt.ylabel('Número de casos confirmados por cada 100mil habitantes')\n",
        "plt.show()"
      ],
      "execution_count": null,
      "outputs": []
    },
    {
      "cell_type": "markdown",
      "metadata": {
        "id": "y7LId3lQiIIt"
      },
      "source": [
        "## 0202 plt.bar()\n",
        "plt.[bar()](https://matplotlib.org/3.1.1/api/_as_gen/matplotlib.pyplot.bar.html) es la función de Pyplot para visualizar barras.\n",
        "\n",
        "plt.[barh()](https://matplotlib.org/3.1.1/api/_as_gen/matplotlib.pyplot.barh.html#matplotlib.pyplot.barh) hace lo mismo pero con barras horizontales.\n",
        "\n"
      ]
    },
    {
      "cell_type": "code",
      "metadata": {
        "id": "PIrGoz5CWBF5"
      },
      "source": [
        "cols = ['France_REL', 'Germany_REL', 'Italy_REL', 'Portugal_REL', 'Spain_REL', 'US_REL', 'UK_REL', 'China_REL']\n",
        "\n",
        "ult_fila = df_casos_covid.index[-1]\n",
        "\n",
        "serie_casos_rel = df_casos_covid.loc[ult_fila, cols]\n",
        "serie_casos_rel"
      ],
      "execution_count": null,
      "outputs": []
    },
    {
      "cell_type": "code",
      "metadata": {
        "id": "j0-hxkv0jcHC"
      },
      "source": [
        "# Básico\n",
        "plt.bar(x=serie_casos_rel.index, height=serie_casos_rel.values)\n",
        "plt.show()"
      ],
      "execution_count": null,
      "outputs": []
    },
    {
      "cell_type": "code",
      "metadata": {
        "id": "9UzyBVGak98y"
      },
      "source": [
        "# Retoques\n",
        "plt.bar(x=serie_casos_rel.index, height=serie_casos_rel.values)\n",
        "plt.title('Casos confirmados acumulados por cada 100.000 habitantes')\n",
        "plt.xticks(rotation=90)\n",
        "plt.show()"
      ],
      "execution_count": null,
      "outputs": []
    },
    {
      "cell_type": "code",
      "metadata": {
        "id": "6Ur1NfH_ZT-v"
      },
      "source": [
        "# En horizontal\n",
        "plt.barh(y=serie_casos_rel.index, width=serie_casos_rel.values)\n",
        "plt.title('Casos confirmados acumulados por cada 100.000 habitantes')\n",
        "plt.show()"
      ],
      "execution_count": null,
      "outputs": []
    },
    {
      "cell_type": "code",
      "metadata": {
        "id": "aR-rrnMFaiep"
      },
      "source": [
        "# Ordenado\n",
        "serie_casos_rel = serie_casos_rel.sort_values()\n",
        "\n",
        "plt.barh(y=serie_casos_rel.index, width=serie_casos_rel.values)\n",
        "plt.title('Casos confirmados acumulados por cada 100.000 habitantes')\n",
        "plt.show()"
      ],
      "execution_count": null,
      "outputs": []
    },
    {
      "cell_type": "markdown",
      "metadata": {
        "id": "7hM7rjYBbiQi"
      },
      "source": [
        "### 020201 EJEMPLO: Jugadores diestros/zurdos\n",
        "Los gráficos de barras suelen ser una muy buena idea para mostrar la distribución de variables categóricas.\n",
        "\n",
        "Volviendo a nuestro dataset del fifa 19. Vamos a mostrar en un gráfico de barras cuántos jugadores diestros y zurdos hay.\n",
        "\n",
        "La función value_counts() será muy útil."
      ]
    },
    {
      "cell_type": "code",
      "metadata": {
        "id": "nCSVrD7wigJf"
      },
      "source": [
        "# Recordemos lo que devuelve la función value_counts() aplicada sobre una serie\n",
        "df_fifa19['Preferred Foot'].value_counts()"
      ],
      "execution_count": null,
      "outputs": []
    },
    {
      "cell_type": "code",
      "metadata": {
        "id": "YrL4lksWlGnu"
      },
      "source": [
        "# Guardamos el resultado del value_counts(), que es un objeto serie\n",
        "serie_pie_dominante = df_fifa19['Preferred Foot'].value_counts()\n",
        "\n",
        "# Gráfico de barras\n",
        "plt.bar(x=serie_pie_dominante.index, height=serie_pie_dominante.values)\n",
        "plt.title('Número de jugadores diestros y zurdos')\n",
        "plt.show()"
      ],
      "execution_count": null,
      "outputs": []
    },
    {
      "cell_type": "markdown",
      "metadata": {
        "id": "167Qv_CTl3c9"
      },
      "source": [
        "#### Nota: Gráfico de tarta\n",
        "Este es un buen ejemplo de un análisis en donde un gráfico de tarta no sería una mala opción. Las categorías zurdo/diestro son solo dos, son parte de un todo (jugadores totales) y es interesante saber cuál de las dos es mayoría.\n",
        "\n",
        "En pyplot, el gráfico de tarta se realiza con plt.[pie](https://matplotlib.org/3.1.1/api/_as_gen/matplotlib.pyplot.pie.html)."
      ]
    },
    {
      "cell_type": "code",
      "metadata": {
        "id": "bhoP2-jVlsFn"
      },
      "source": [
        "# Gráfico de tarta\n",
        "plt.pie(serie_pie_dominante.values, labels=serie_pie_dominante.index)\n",
        "plt.show()"
      ],
      "execution_count": null,
      "outputs": []
    },
    {
      "cell_type": "markdown",
      "metadata": {
        "id": "T1oHBSkUm4Cz"
      },
      "source": [
        "### 020202 EJERCICIO: Covid acumulados\n",
        "Muestra en un gráfico de barras horizontales los fallecidos por covid relativos (por cada 100.000 habitantes) de cada país acumulados desde el principio de la pandemia, ordenados de mayor a menor. "
      ]
    },
    {
      "cell_type": "code",
      "metadata": {
        "id": "eh-n-j5elq0i"
      },
      "source": [
        "df_muertes_covid.columns"
      ],
      "execution_count": null,
      "outputs": []
    },
    {
      "cell_type": "code",
      "metadata": {
        "id": "SOZncXQ3lXZI"
      },
      "source": [
        "cols = ['China_REL', 'France_REL', 'Germany_REL', 'Italy_REL', 'Portugal_REL', 'Spain_REL', 'UK_REL', 'US_REL']"
      ],
      "execution_count": null,
      "outputs": []
    },
    {
      "cell_type": "code",
      "metadata": {
        "id": "Dr7SDKnFl0UP"
      },
      "source": [
        "df_muertes_covid.loc[df_muertes_covid.index[-1],cols]"
      ],
      "execution_count": null,
      "outputs": []
    },
    {
      "cell_type": "code",
      "metadata": {
        "id": "XVc0fjIDnOwm"
      },
      "source": [
        "# Guardamos los 10 primeros resultados del value_counts()\n",
        "serie_muertes_covid = df_muertes_covid.loc[df_muertes_covid.index[-1],cols].sort_values(ascending=True)\n",
        "serie_muertes_covid"
      ],
      "execution_count": null,
      "outputs": []
    },
    {
      "cell_type": "code",
      "metadata": {
        "id": "vOYTvjaenjFt"
      },
      "source": [
        "# Visualizamos el resultado\n",
        "plt.barh(y=serie_muertes_covid.index, width=serie_muertes_covid.values)\n",
        "plt.title('Fallecimientos acumulados a lo largo de la pandemia')\n",
        "plt.show()"
      ],
      "execution_count": null,
      "outputs": []
    },
    {
      "cell_type": "markdown",
      "metadata": {
        "id": "bPN4Ao3PoLCh"
      },
      "source": [
        "## 0203 plt.scatter()\n",
        "Con plt.[scatter](https://matplotlib.org/3.1.1/api/_as_gen/matplotlib.pyplot.scatter.html) se realizan diagramas de dispersión (scatter plots)."
      ]
    },
    {
      "cell_type": "code",
      "metadata": {
        "id": "y6P253E2pRzH"
      },
      "source": [
        "df_fifa19.head(2)"
      ],
      "execution_count": null,
      "outputs": []
    },
    {
      "cell_type": "code",
      "metadata": {
        "id": "AyvnSLyNo87R"
      },
      "source": [
        "# Veamos la asociación entre valor y rendimiento\n",
        "plt.scatter(df_fifa19['Value_€'],df_fifa19['Overall'])\n",
        "plt.xlabel('Valor')\n",
        "plt.ylabel('Rendimiento')\n",
        "plt.show()"
      ],
      "execution_count": null,
      "outputs": []
    },
    {
      "cell_type": "code",
      "metadata": {
        "id": "2YtSoYGxpurA"
      },
      "source": [
        "# alpha nos permite ver densidades\n",
        "plt.scatter(np.log(df_fifa19['Value_€']), \n",
        "            df_fifa19['Overall'],\n",
        "            alpha=0.01)\n",
        "plt.xlabel('Log(Valor)')\n",
        "plt.ylabel('Rendimiento')\n",
        "plt.show()"
      ],
      "execution_count": null,
      "outputs": []
    },
    {
      "cell_type": "markdown",
      "metadata": {
        "id": "YQh18VEtrrw9"
      },
      "source": [
        "El diagrama de dispersión de arriba muestra una clara asociación entre las variables valor y rendimiento. En este caso, parece claro que esto es porque el rendimiento influye directamente sobre el valor del jugador.\n",
        "\n",
        "Pero hay otras razones por las que dos variables podrían estar correlacionadas sin que una cause a la otra. Hablaremos de esto en la próxima clase.\n",
        "\n",
        "Volviendo a la asociación, esta es la pinta de dos variables que no tienen una gran asociación entre ellas:"
      ]
    },
    {
      "cell_type": "code",
      "metadata": {
        "id": "FwV0qvWDrpI-"
      },
      "source": [
        "# el peso (entre atletas en su peso ideal) y el rendimiento no debería estar muy asociado\n",
        "plt.scatter(df_fifa19['Weight_kg'], \n",
        "            df_fifa19['Overall'],\n",
        "            alpha=0.01)\n",
        "plt.xlabel('Peso (Kg)')\n",
        "plt.ylabel('Rendimiento')\n",
        "plt.show()"
      ],
      "execution_count": null,
      "outputs": []
    },
    {
      "cell_type": "markdown",
      "metadata": {
        "id": "bDb86GqJsxlP"
      },
      "source": [
        "### 020301 EJERCICIO: Asociación edad/rendimiento\n",
        "Muestra la asociación entre las variables edad (x) y rendimiento (y). Primero hazlo para todos los jugadores.\n",
        "\n",
        "Luego, intenta un nuevo gráfico donde superpongas dos diagramas de dispersión: el primero, de nuevo, incluyendo todos los jugadores; el segundo, en naranja, se centrará en los jugadores españoles."
      ]
    },
    {
      "cell_type": "code",
      "metadata": {
        "id": "EmeEb1qRt02H"
      },
      "source": [
        "# Primero visualiza simplemente la asociación entre las dos variables\n",
        "# diagrama de dispersión\n",
        "plt.scatter(df_fifa19['Age'], df_fifa19['Overall'], alpha=0.01)\n",
        "plt.xlabel('Edad')\n",
        "plt.ylabel('Rendimiento')\n",
        "plt.show()"
      ],
      "execution_count": null,
      "outputs": []
    },
    {
      "cell_type": "code",
      "metadata": {
        "id": "SCV8SLZ5tMBP"
      },
      "source": [
        "# filtro jugadores españoles\n",
        "filtro_españoles = df_fifa19['Nationality']=='Spain'"
      ],
      "execution_count": null,
      "outputs": []
    },
    {
      "cell_type": "code",
      "metadata": {
        "id": "_FPS-MSptCry"
      },
      "source": [
        "# diagrama de dispersión mundo vs España\n",
        "plt.scatter(df_fifa19['Age'], df_fifa19['Overall'], alpha=0.01, color='blue')\n",
        "plt.scatter(df_fifa19.loc[filtro_españoles, 'Age'], \n",
        "            df_fifa19.loc[filtro_españoles, 'Overall'], \n",
        "            alpha=0.25, color='orange')\n",
        "plt.xlabel('Edad')\n",
        "plt.ylabel('Rendimiento')\n",
        "plt.show()"
      ],
      "execution_count": null,
      "outputs": []
    },
    {
      "cell_type": "markdown",
      "metadata": {
        "id": "bJouvcB6HroT"
      },
      "source": [
        "## 0204 plt.hist()\n",
        "Los histogramas son una herramienta muy útil para visualizar la distribución de una variable continua.\n",
        "\n",
        "En Pyplot, se utiliza plt.[hist()](https://matplotlib.org/3.1.1/api/_as_gen/matplotlib.pyplot.hist.html)."
      ]
    },
    {
      "cell_type": "code",
      "metadata": {
        "id": "YflCM8vdIGuo"
      },
      "source": [
        "# distribución de la variable edad\n",
        "plt.hist(df_fifa19['Age'])\n",
        "plt.show()"
      ],
      "execution_count": null,
      "outputs": []
    },
    {
      "cell_type": "code",
      "metadata": {
        "id": "VbGyBReiIQQh"
      },
      "source": [
        "# 15 contenedores\n",
        "plt.hist(df_fifa19['Age'], bins=15)\n",
        "plt.show()"
      ],
      "execution_count": null,
      "outputs": []
    },
    {
      "cell_type": "code",
      "metadata": {
        "id": "yAsNQDX0IQVe"
      },
      "source": [
        "# contenedores personalizados\n",
        "plt.hist(df_fifa19['Age'], bins=[18,20,22,24,26,28,30,32,34,36])\n",
        "plt.show()"
      ],
      "execution_count": null,
      "outputs": []
    },
    {
      "cell_type": "markdown",
      "metadata": {
        "id": "CtZbekE1JLzA"
      },
      "source": [
        "### 020301 EJERCICIO: Distribución de Overall\n",
        "Muestra la distribución de la variable rendimiento (overall) usando 20 bins."
      ]
    },
    {
      "cell_type": "code",
      "metadata": {
        "id": "4hxNHeQ1IQZh"
      },
      "source": [
        "plt.hist(df_fifa19['Overall'], bins=20)\n",
        "plt.show()"
      ],
      "execution_count": null,
      "outputs": []
    },
    {
      "cell_type": "markdown",
      "metadata": {
        "id": "XkN4aFjaNKom"
      },
      "source": [
        "## 0205 Uso de fig y ax\n",
        "Hasta ahora hemos definido una gráfica añadiendo información directamente sobre plt y luego mostrándolo con plt.show().\n",
        "\n",
        "Pero esto nos daría problemas si quisiéramos visualizar dos gráficos distintos sobre una misma imagen. Cómo podríamos hacerlo?\n",
        "\n",
        "Utilizando los objetos [fig y ax](https://towardsdatascience.com/clearing-the-confusion-once-and-for-all-fig-ax-plt-subplots-b122bb7783ca). "
      ]
    },
    {
      "cell_type": "markdown",
      "metadata": {
        "id": "f7S8SnkHsM5o"
      },
      "source": [
        "### 020501 plt.subplots()\n",
        "plt.[subplots()](https://matplotlib.org/3.3.3/api/_as_gen/matplotlib.pyplot.subplots.html) genera una figura vacía y devuelve un tuple ([no sabes lo que es un tuple?](https://www.programiz.com/python-programming/tuple)):\n",
        "\n",
        "(figura, ejes)."
      ]
    },
    {
      "cell_type": "code",
      "metadata": {
        "id": "Uk1VK2aPoZo9"
      },
      "source": [
        "plt.subplots()"
      ],
      "execution_count": null,
      "outputs": []
    },
    {
      "cell_type": "code",
      "metadata": {
        "id": "Xobp_M1y24r4"
      },
      "source": [
        "fig, ax = plt.subplots()"
      ],
      "execution_count": null,
      "outputs": []
    },
    {
      "cell_type": "code",
      "metadata": {
        "id": "8iOKCI643wSr"
      },
      "source": [
        "fig"
      ],
      "execution_count": null,
      "outputs": []
    },
    {
      "cell_type": "code",
      "metadata": {
        "id": "LZw-nqFF3xiz"
      },
      "source": [
        "ax"
      ],
      "execution_count": null,
      "outputs": []
    },
    {
      "cell_type": "markdown",
      "metadata": {
        "id": "OT4RVAMH4DQc"
      },
      "source": [
        "Hemos creado dos variables: fig y ax que representan la imagen y el gráfico respectivamente. \n",
        "\n",
        "**Fig** es, conceptualmente, el objeto de la imagen. Podemos hacer la imagen más o menos grande o configurar la estética.\n",
        "**Ax** es una representación datos de manera visual: son los datos en forma de gráfico de líneas, de barras, etc. Es, en definitiva, un gráfico. \n",
        "\n",
        "Una misma figura puede tener varios ax. En cuanto a la nomenclatura, podríamos llamarle de otra forma pero fig y ax es la convención (como importar pandas como pd, o seaborn como sns) así que mejor cumpliremos con los estándares típicos."
      ]
    },
    {
      "cell_type": "code",
      "metadata": {
        "id": "Eu8Jethq4AJ6"
      },
      "source": [
        "# También podemos generar imágenes (fig) con más de un gráfico (ax)\n",
        "plt.subplots(nrows=1, ncols=2)"
      ],
      "execution_count": null,
      "outputs": []
    },
    {
      "cell_type": "code",
      "metadata": {
        "id": "mLQFIkHu4rqg"
      },
      "source": [
        "# O con muchos más. Más adelante veremos cómo utilizarlos\n",
        "plt.subplots(nrows=5, ncols=2)"
      ],
      "execution_count": null,
      "outputs": []
    },
    {
      "cell_type": "markdown",
      "metadata": {
        "id": "yct3WMpf7ddU"
      },
      "source": [
        "### 020502 ax.plot()\n",
        "Una vez hemos definido el número de **ax**s que va a tener nuestra **fig** podemos definir cada uno de los gráficos (ax)."
      ]
    },
    {
      "cell_type": "code",
      "metadata": {
        "id": "dpKpoU6i7uJ5"
      },
      "source": [
        "# Con plt.plot()\n",
        "plt.plot(df_sp500['Date'], df_sp500['Close'])\n",
        "plt.title('Evolución cierre SP500')\n",
        "plt.xlabel('Año')\n",
        "plt.ylabel('Precio al cierre')\n",
        "plt.show()"
      ],
      "execution_count": null,
      "outputs": []
    },
    {
      "cell_type": "code",
      "metadata": {
        "id": "v5WJdGAI7uNi"
      },
      "source": [
        "# Conf fig, ax\n",
        "fig, ax = plt.subplots()\n",
        "ax.plot(df_sp500['Date'], df_sp500['Close'])\n",
        "ax.set(title='Evolución cierre SP500', \n",
        "       xlabel='Año', \n",
        "       ylabel='Precio al cierre')\n",
        "plt.show()"
      ],
      "execution_count": null,
      "outputs": []
    },
    {
      "cell_type": "markdown",
      "metadata": {
        "id": "KH8YE0P6-CV9"
      },
      "source": [
        "#### EJEMPLO: Fallecimientos Covid\n",
        "Representamos la evolución de fallecimientos relativa acumulada y relativa en los últimos 7 días en una misma imagen."
      ]
    },
    {
      "cell_type": "code",
      "metadata": {
        "id": "1CvKgomR7uRi"
      },
      "source": [
        "# Vamos a generar dos gráficas en una misma imagen (una encima de la otra)\n",
        "plt.subplots(nrows=2, ncols=1)"
      ],
      "execution_count": null,
      "outputs": []
    },
    {
      "cell_type": "code",
      "metadata": {
        "id": "JCFvTRJ37iFs"
      },
      "source": [
        "# Generamos las variables (ahora tenemos dos ax)\n",
        "fig, (ax1, ax2) = plt.subplots(nrows=2, ncols=1)\n",
        "fig.tight_layout(pad=2)\n",
        "fig.set_size_inches(8,6)\n",
        "ax1.plot(df_muertes_covid['Date'], df_muertes_covid['Spain_REL'])\n",
        "ax1.set(title='Evolución Acumulada Fallecimientos', \n",
        "        xlabel='Fecha', \n",
        "        ylabel='# Casos')\n",
        "ax2.plot(df_muertes_covid['Date'], df_muertes_covid['Spain_REL_ult7'])\n",
        "ax2.set(title='Evolución Fallecimientos Acumulados Últimos 7 Días', \n",
        "        xlabel='Fecha', \n",
        "        ylabel='# Casos')\n",
        "plt.show()"
      ],
      "execution_count": null,
      "outputs": []
    },
    {
      "cell_type": "markdown",
      "metadata": {
        "id": "nJFKs7FDFtv5"
      },
      "source": [
        "#### EJERCICIO Covid Comparación Países\n",
        "Vamos a realizar una imagen con dos gráficos (2 columnas).\n",
        "\n",
        "En ambos mostraremos la comparación de fallecidos en los últimos 7 días. En uno con una gráfico de barras horizontales, en otro con una mala elección: un gráfico de tarta.\n",
        "\n",
        "Aprovecharemos para comprobar por qué es una mala elección:"
      ]
    },
    {
      "cell_type": "code",
      "metadata": {
        "id": "WBfqGRovKQHt"
      },
      "source": [
        "cols = ['China_REL_ult7', 'France_REL_ult7',\n",
        "       'Germany_REL_ult7', 'Italy_REL_ult7', 'Portugal_REL_ult7',\n",
        "       'Spain_REL_ult7', 'UK_REL_ult7', 'US_REL_ult7']"
      ],
      "execution_count": null,
      "outputs": []
    },
    {
      "cell_type": "code",
      "metadata": {
        "id": "CYCPkGHp_PZ9"
      },
      "source": [
        "serie_muertes_covid_ult7 = df_muertes_covid.loc[df_muertes_covid.index[-1],cols].sort_values(ascending=True)\n",
        "serie_muertes_covid_ult7"
      ],
      "execution_count": null,
      "outputs": []
    },
    {
      "cell_type": "code",
      "metadata": {
        "id": "6Z4Gum38KmPe"
      },
      "source": [
        "# Generamos las variables (ahora tenemos dos ax)\n",
        "fig, (ax1, ax2) = plt.subplots(nrows=1, ncols=2)\n",
        "fig.tight_layout(pad=4)\n",
        "fig.set_size_inches(8,6)\n",
        "ax1.barh(y=serie_muertes_covid_ult7.index, width=serie_muertes_covid_ult7.values)\n",
        "ax1.set(title='Comparación Columnas', \n",
        "        xlabel='Fallecimientos Últimos 7 Días', \n",
        "        ylabel='# Casos')\n",
        "ax2.pie(serie_muertes_covid_ult7.values, labels=serie_muertes_covid_ult7.index)\n",
        "ax2.set(title='Comparación Tarta')\n",
        "plt.show()"
      ],
      "execution_count": null,
      "outputs": []
    },
    {
      "cell_type": "markdown",
      "metadata": {
        "id": "R6QLNgepQbJy"
      },
      "source": [
        "### 020503 ax.twinx()\n",
        "ax.[twinx](https://matplotlib.org/3.3.3/api/_as_gen/matplotlib.axes.Axes.twinx.html) y ax.[twiny](https://matplotlib.org/3.1.1/api/_as_gen/matplotlib.axes.Axes.twiny.html) crean un nuevo ax que comparte el eje x o y (respectivamente) con el original.\n",
        "\n",
        "Esto nos permitirá realizar gráficos de distinto tipo sobre un mismo eje.\n"
      ]
    },
    {
      "cell_type": "code",
      "metadata": {
        "id": "KjLM_4kFVQX-"
      },
      "source": [
        "# Conf fig, ax\n",
        "fig, ax_a = plt.subplots()\n",
        "ax_b = ax_a.twinx()\n",
        "display(ax_b)\n",
        "display(ax_a)"
      ],
      "execution_count": null,
      "outputs": []
    },
    {
      "cell_type": "code",
      "metadata": {
        "id": "ogyBEYgBgN5D"
      },
      "source": [
        "# Conf fig, ax\n",
        "fig, ax_a = plt.subplots()\n",
        "ax_b = ax_a.twinx()\n",
        "\n",
        "# Configuramos la figura\n",
        "fig.set_size_inches(10,5)\n",
        "\n",
        "# Generamos los ax\n",
        "ax_a.plot(df_casos_covid['Date'], df_casos_covid['Spain_REL_ult7'],\n",
        "          color = 'black', linewidth = 2, label='Casos')\n",
        "ax_a.set(title='Evolucion Casos y Fallecimientos Acumulados Últimos 7 Días', \n",
        "         xlabel='Fecha', \n",
        "         ylabel='# Casos Confirmados')\n",
        "ax_a.set_ylim(bottom=0)\n",
        "ax_b.plot(df_muertes_covid['Date'], df_muertes_covid['Spain_REL_ult7'], \n",
        "          color='red', linewidth = 2, linestyle='dashed', label='Muertes')\n",
        "ax_b.set(ylabel='# Muertes Confirmadas')\n",
        "ax_b.set_ylim(bottom=0)\n",
        "\n",
        "# Añadimos la layenda\n",
        "fig.legend()\n",
        "plt.show()"
      ],
      "execution_count": null,
      "outputs": []
    },
    {
      "cell_type": "markdown",
      "metadata": {
        "id": "uJetT4unJp_L"
      },
      "source": [
        "# 03 Seaborn\n",
        "[Seaborn](https://seaborn.pydata.org/) es una librería de Python de visualización basada en matplolib.\n",
        "\n",
        "La utilizaremos para mejorar la estética de nuestros gráficos y para realizar ciertas mejoras sobre los gráficos básicos de matplolib.\n",
        "\n",
        "\n"
      ]
    },
    {
      "cell_type": "code",
      "metadata": {
        "id": "bJ_gFtP7IQdJ"
      },
      "source": [
        "# Se suele importar como sns\n",
        "import seaborn as sns"
      ],
      "execution_count": null,
      "outputs": []
    },
    {
      "cell_type": "markdown",
      "metadata": {
        "id": "PnycLrd3KiFq"
      },
      "source": [
        "## 0301 sns.set()\n",
        "La función sns.[set()](https://seaborn.pydata.org/generated/seaborn.set.html#seaborn.set) modifica la estética de los gráficos de matplotlib.pyplot a la estándar de seaborn. \n",
        "\n",
        "Os recomiendo ejecutarla antes de generar gráficos con matplotlib.pyplot. De hecho, veamos los gráficos anteriormente generados ahora realizados tras haber ejecutado sns.set()."
      ]
    },
    {
      "cell_type": "code",
      "metadata": {
        "id": "c_ubFquUK-Zl"
      },
      "source": [
        "# Este comando hará tus gráficos más profesionales\n",
        "sns.set()"
      ],
      "execution_count": null,
      "outputs": []
    },
    {
      "cell_type": "code",
      "metadata": {
        "id": "yrsk_gALLBB4"
      },
      "source": [
        "plt.figure(figsize=(10, 7))\n",
        "for pais in ['France_REL', 'Germany_REL', 'Italy_REL', 'Portugal_REL', 'Spain_REL', 'US_REL', 'UK_REL', 'China_REL']:\n",
        "  if pais == 'Spain_REL':\n",
        "    plt.plot(df_casos_covid['Date'], df_casos_covid[pais], label=pais, linewidth=2, color='red')\n",
        "  else:\n",
        "    plt.plot(df_casos_covid['Date'], df_casos_covid[pais], label=pais, color='grey')\n",
        "  plt.legend()\n",
        "plt.title('Casos acumulados')\n",
        "plt.xlabel('Fecha')\n",
        "plt.ylabel('Número de casos confirmados por cada 100mil habitantes')\n",
        "plt.show()"
      ],
      "execution_count": null,
      "outputs": []
    },
    {
      "cell_type": "code",
      "metadata": {
        "id": "vEDjjBnrLBFZ"
      },
      "source": [
        "# Gráfico de barras\n",
        "plt.bar(x=serie_pie_dominante.index, height=serie_pie_dominante.values)\n",
        "plt.title('Número de jugadores diestros y zurdos')\n",
        "plt.show()"
      ],
      "execution_count": null,
      "outputs": []
    },
    {
      "cell_type": "code",
      "metadata": {
        "id": "vxOl06q5LBJB"
      },
      "source": [
        "# Gráfico de tarta\n",
        "plt.pie(serie_pie_dominante.values, labels=serie_pie_dominante.index)\n",
        "plt.show()"
      ],
      "execution_count": null,
      "outputs": []
    },
    {
      "cell_type": "code",
      "metadata": {
        "id": "LlFHv7LILBMZ"
      },
      "source": [
        "# Visualizamos el resultado\n",
        "plt.barh(y=serie_nacionalidad.index[::-1], width=serie_nacionalidad.values[::-1])\n",
        "plt.title('Número de jugadores por nacionalidad')\n",
        "plt.show()"
      ],
      "execution_count": null,
      "outputs": []
    },
    {
      "cell_type": "code",
      "metadata": {
        "id": "wbmmYivGMICL"
      },
      "source": [
        "# diagrama de dispersión mundo vs España\n",
        "plt.scatter(df_fifa19['Age'], df_fifa19['Overall'], alpha=0.01, color='blue')\n",
        "plt.scatter(df_fifa19.loc[filtro_españoles, 'Age'], \n",
        "            df_fifa19.loc[filtro_españoles, 'Overall'], \n",
        "            alpha=0.25, color='orange')\n",
        "plt.xlabel('Edad')\n",
        "plt.ylabel('Rendimiento')\n",
        "plt.show()"
      ],
      "execution_count": null,
      "outputs": []
    },
    {
      "cell_type": "code",
      "metadata": {
        "id": "L-lpRvakMJkg"
      },
      "source": [
        "plt.hist(df_fifa19['Overall'], bins=20)\n",
        "plt.show()"
      ],
      "execution_count": null,
      "outputs": []
    },
    {
      "cell_type": "code",
      "metadata": {
        "id": "Af1XwtDmkkl6"
      },
      "source": [
        "# Conf fig, ax\n",
        "fig, ax_a = plt.subplots()\n",
        "ax_b = ax_a.twinx()\n",
        "\n",
        "# Configuramos la figura\n",
        "fig.set_size_inches(10,5)\n",
        "\n",
        "# Generamos los ax\n",
        "ax_a.plot(df_casos_covid['Date'], df_casos_covid['Spain_REL_ult7'],\n",
        "          color = 'black', linewidth = 2, label='Casos')\n",
        "ax_a.set(title='Evolucion Casos y Fallecimientos Acumulados Últimos 7 Días', \n",
        "         xlabel='Fecha', \n",
        "         ylabel='# Casos Confirmados')\n",
        "ax_a.set_ylim(bottom=0)\n",
        "ax_b.plot(df_muertes_covid['Date'], df_muertes_covid['Spain_REL_ult7'], \n",
        "          color='red', linewidth = 2, linestyle='dashed', label='Muertes')\n",
        "ax_b.set(ylabel='# Muertes Confirmadas')\n",
        "ax_b.set_ylim(bottom=0)\n",
        "\n",
        "# Añadimos la layenda\n",
        "fig.legend()\n",
        "plt.show()"
      ],
      "execution_count": null,
      "outputs": []
    },
    {
      "cell_type": "markdown",
      "metadata": {
        "id": "X4932zsDMXlS"
      },
      "source": [
        "Se pueden definir muchos temas distintos utilizando [set_theme](https://seaborn.pydata.org/generated/seaborn.set_theme.html#seaborn.set_theme)."
      ]
    },
    {
      "cell_type": "markdown",
      "metadata": {
        "id": "B3KYSnm6MlcG"
      },
      "source": [
        "## 0302 Otras ventajas de seaborn\n",
        "Además de sns.[set()](https://seaborn.pydata.org/generated/seaborn.set.html#seaborn.set), seaborn puede ser útil en cuanto a que facilita realizar ciertas gráficas, más complejas y especializadas.\n",
        "\n",
        "Podéis ver algunos ejemplos [aquí](https://seaborn.pydata.org/examples/index.html) y los comandos a emplear [aquí](https://seaborn.pydata.org/api.html).\n",
        "\n",
        "Veremos algún ejemplo en los ejercicios.\n",
        "\n"
      ]
    },
    {
      "cell_type": "markdown",
      "metadata": {
        "id": "pMrrVk4TM7X2"
      },
      "source": [
        "# 04 Pandas-Profiling\n",
        "Pandas-Profiling es una librería que realiza informes EDA interactivos y de manera automática sobre un dataframe.\n",
        "\n",
        "Veamos cómo utilizarla."
      ]
    },
    {
      "cell_type": "markdown",
      "metadata": {
        "id": "1P0Wp-qcQJh-"
      },
      "source": [
        "## 0401 Instalar e importar\n",
        "No es una librería tan habitual, por lo que no está incorporada en Colab. Primero tenemos que instalarla, y luego, sí, la importamos como hemos venido haciendo con otras:"
      ]
    },
    {
      "cell_type": "code",
      "metadata": {
        "id": "zXcT9g7cbexR"
      },
      "source": [
        "# Instalamos pandas-profiling\n",
        "! pip install -U pandas-profiling"
      ],
      "execution_count": null,
      "outputs": []
    },
    {
      "cell_type": "code",
      "metadata": {
        "id": "qwDrE69kc3vd"
      },
      "source": [
        "# Importamos solo la función ProfileReport (la verdaderamente importante)\n",
        "from pandas_profiling import ProfileReport"
      ],
      "execution_count": null,
      "outputs": []
    },
    {
      "cell_type": "markdown",
      "metadata": {
        "id": "6PqGuLhEQ91l"
      },
      "source": [
        "## 0402 Se define el report\n",
        "Definimos el informe que queremos genrar, simplemente pasándole a la función el dataframe y el título del informe."
      ]
    },
    {
      "cell_type": "code",
      "metadata": {
        "id": "SoAwFzwTXXN6"
      },
      "source": [
        "profile_sp500 = ProfileReport(df_sp500, \n",
        "                               title='SP500', \n",
        "                               html={'style':{'full_width':False}})"
      ],
      "execution_count": null,
      "outputs": []
    },
    {
      "cell_type": "code",
      "metadata": {
        "id": "AL3FAuR0el1n"
      },
      "source": [
        "cols = ['Name', 'Age', 'Nationality', 'Overall', 'Potential', \n",
        "        'Height_cm', 'Weight_kg', 'Value_€', 'Wage_€', 'Release Clause_€',  \n",
        "        'Club', 'Preferred Foot'\n",
        "        ]\n",
        "len(df_fifa19)      "
      ],
      "execution_count": null,
      "outputs": []
    },
    {
      "cell_type": "code",
      "metadata": {
        "id": "GGFsipBjctJk"
      },
      "source": [
        "profile_fifa19 = ProfileReport(df_fifa19.loc[:5000, cols], \n",
        "                               title='Informe Fifa 19', \n",
        "                               html={'style':{'full_width':False}})"
      ],
      "execution_count": null,
      "outputs": []
    },
    {
      "cell_type": "markdown",
      "metadata": {
        "id": "vySQG6poanol"
      },
      "source": [
        "## 0403 Generamos y guardamos\n",
        "Generamos y guardamos los informes."
      ]
    },
    {
      "cell_type": "code",
      "metadata": {
        "id": "og-PNnV-k4_v"
      },
      "source": [
        "drive.mount('/content/drive')"
      ],
      "execution_count": null,
      "outputs": []
    },
    {
      "cell_type": "code",
      "metadata": {
        "id": "dD-TelaOae3N"
      },
      "source": [
        "profile_sp500.to_file(output_file=\"/content/drive/My Drive/Data/SP500 Informe EDA.html\")"
      ],
      "execution_count": null,
      "outputs": []
    },
    {
      "cell_type": "code",
      "metadata": {
        "id": "PF35z4VTae9o"
      },
      "source": [
        "profile_fifa19.to_file(output_file=\"/content/drive/My Drive/Data/Fifa19 Informe EDA.html\")"
      ],
      "execution_count": null,
      "outputs": []
    }
  ]
}